{
 "cells": [
  {
   "cell_type": "markdown",
   "id": "8dbf577d",
   "metadata": {},
   "source": [
    "# Imports and Setup"
   ]
  },
  {
   "cell_type": "code",
   "execution_count": 3,
   "id": "d95ede8a",
   "metadata": {},
   "outputs": [],
   "source": [
    "\n",
    "import os\n",
    "import sys\n",
    "\n",
    "sys.path.append(os.path.abspath(os.path.join('..')))"
   ]
  },
  {
   "cell_type": "code",
   "execution_count": 1,
   "id": "8b168c9d",
   "metadata": {},
   "outputs": [
    {
     "name": "stdout",
     "output_type": "stream",
     "text": [
      "Using device: cuda\n",
      "Setup complete. Using config:\n",
      "  - Device: cuda\n",
      "  - Domains: ['art_painting', 'cartoon', 'photo', 'sketch']\n",
      "  - Phase 1 Domains for Importance: ['art_painting', 'cartoon', 'photo']\n"
     ]
    }
   ],
   "source": [
    "import os\n",
    "import sys\n",
    "import numpy as np\n",
    "import matplotlib.pyplot as plt\n",
    "from IPython.display import display, Image\n",
    "import random\n",
    "import torch\n",
    "\n",
    "# Add src to path to import modules\n",
    "sys.path.append(os.path.abspath(os.path.join('..')))\n",
    "\n",
    "from src import config\n",
    "from src.train_phase1 import run_phase1\n",
    "from src.phase1_utils import compute_and_save_importance, create_consensus_mask, get_param_names\n",
    "from src.visualization import plot_matrix\n",
    "from src.train_phase2 import run_phase2_lodo\n",
    "from src.models import FeedForwardHead\n",
    "\n",
    "# --- Reproducibility ---\n",
    "random.seed(config.SEED)\n",
    "np.random.seed(config.SEED)\n",
    "torch.manual_seed(config.SEED)\n",
    "if torch.cuda.is_available():\n",
    "    torch.cuda.manual_seed_all(config.SEED)\n",
    "\n",
    "print(\"Setup complete. Using config:\")\n",
    "print(f\"  - Device: {config.DEVICE}\")\n",
    "print(f\"  - Domains: {config.DOMAINS}\")\n",
    "print(f\"  - Phase 1 Domains for Importance: {config.PH1_DOMAINS}\")"
   ]
  },
  {
   "cell_type": "markdown",
   "id": "aecc29c3",
   "metadata": {},
   "source": [
    "# Running Phase 1"
   ]
  },
  {
   "cell_type": "code",
   "execution_count": 2,
   "id": "11df12b3",
   "metadata": {},
   "outputs": [
    {
     "name": "stdout",
     "output_type": "stream",
     "text": [
      "--- Starting Phase 1 Training ---\n",
      "Saved initial shared weights to ../results\\phase1_weights\\initial\n",
      "\n",
      "--- Training on domain: art_painting ---\n",
      "Randomly selected class: 5\n",
      "self.dataroot: D:\\Haseeb\\SPROJ\\PACS ViT\\pacs_data\\pacs_data\n"
     ]
    },
    {
     "name": "stderr",
     "output_type": "stream",
     "text": [
      "Epoch 1/10: 100%|██████████| 10/10 [00:00<00:00, 10.89it/s]\n"
     ]
    },
    {
     "name": "stdout",
     "output_type": "stream",
     "text": [
      "Domain art_painting | Epoch 1 | Avg Loss: 2.6769\n"
     ]
    },
    {
     "name": "stderr",
     "output_type": "stream",
     "text": [
      "Epoch 2/10: 100%|██████████| 10/10 [00:00<00:00, 13.43it/s]\n"
     ]
    },
    {
     "name": "stdout",
     "output_type": "stream",
     "text": [
      "Domain art_painting | Epoch 2 | Avg Loss: 2.5812\n"
     ]
    },
    {
     "name": "stderr",
     "output_type": "stream",
     "text": [
      "Epoch 3/10: 100%|██████████| 10/10 [00:00<00:00, 13.54it/s]\n"
     ]
    },
    {
     "name": "stdout",
     "output_type": "stream",
     "text": [
      "Domain art_painting | Epoch 3 | Avg Loss: 2.4921\n"
     ]
    },
    {
     "name": "stderr",
     "output_type": "stream",
     "text": [
      "Epoch 4/10: 100%|██████████| 10/10 [00:00<00:00, 13.11it/s]\n"
     ]
    },
    {
     "name": "stdout",
     "output_type": "stream",
     "text": [
      "Domain art_painting | Epoch 4 | Avg Loss: 2.3863\n"
     ]
    },
    {
     "name": "stderr",
     "output_type": "stream",
     "text": [
      "Epoch 5/10: 100%|██████████| 10/10 [00:00<00:00, 13.63it/s]\n"
     ]
    },
    {
     "name": "stdout",
     "output_type": "stream",
     "text": [
      "Domain art_painting | Epoch 5 | Avg Loss: 2.2988\n"
     ]
    },
    {
     "name": "stderr",
     "output_type": "stream",
     "text": [
      "Epoch 6/10: 100%|██████████| 10/10 [00:00<00:00, 13.60it/s]\n"
     ]
    },
    {
     "name": "stdout",
     "output_type": "stream",
     "text": [
      "Domain art_painting | Epoch 6 | Avg Loss: 2.2058\n"
     ]
    },
    {
     "name": "stderr",
     "output_type": "stream",
     "text": [
      "Epoch 7/10: 100%|██████████| 10/10 [00:00<00:00, 13.48it/s]\n"
     ]
    },
    {
     "name": "stdout",
     "output_type": "stream",
     "text": [
      "Domain art_painting | Epoch 7 | Avg Loss: 2.0778\n"
     ]
    },
    {
     "name": "stderr",
     "output_type": "stream",
     "text": [
      "Epoch 8/10: 100%|██████████| 10/10 [00:00<00:00, 13.67it/s]\n"
     ]
    },
    {
     "name": "stdout",
     "output_type": "stream",
     "text": [
      "Domain art_painting | Epoch 8 | Avg Loss: 2.0116\n"
     ]
    },
    {
     "name": "stderr",
     "output_type": "stream",
     "text": [
      "Epoch 9/10: 100%|██████████| 10/10 [00:00<00:00, 13.77it/s]\n"
     ]
    },
    {
     "name": "stdout",
     "output_type": "stream",
     "text": [
      "Domain art_painting | Epoch 9 | Avg Loss: 1.8842\n"
     ]
    },
    {
     "name": "stderr",
     "output_type": "stream",
     "text": [
      "Epoch 10/10: 100%|██████████| 10/10 [00:00<00:00, 13.79it/s]\n"
     ]
    },
    {
     "name": "stdout",
     "output_type": "stream",
     "text": [
      "Domain art_painting | Epoch 10 | Avg Loss: 1.8086\n",
      "Saved final weights for domain art_painting to ../results\\phase1_weights\\final\\domain_art_painting\n",
      "\n",
      "--- Training on domain: cartoon ---\n",
      "Randomly selected class: 0\n",
      "self.dataroot: D:\\Haseeb\\SPROJ\\PACS ViT\\pacs_data\\pacs_data\n"
     ]
    },
    {
     "name": "stderr",
     "output_type": "stream",
     "text": [
      "Epoch 1/10: 100%|██████████| 13/13 [00:00<00:00, 13.75it/s]\n"
     ]
    },
    {
     "name": "stdout",
     "output_type": "stream",
     "text": [
      "Domain cartoon | Epoch 1 | Avg Loss: 2.2249\n"
     ]
    },
    {
     "name": "stderr",
     "output_type": "stream",
     "text": [
      "Epoch 2/10: 100%|██████████| 13/13 [00:00<00:00, 13.55it/s]\n"
     ]
    },
    {
     "name": "stdout",
     "output_type": "stream",
     "text": [
      "Domain cartoon | Epoch 2 | Avg Loss: 2.1107\n"
     ]
    },
    {
     "name": "stderr",
     "output_type": "stream",
     "text": [
      "Epoch 3/10: 100%|██████████| 13/13 [00:00<00:00, 13.69it/s]\n"
     ]
    },
    {
     "name": "stdout",
     "output_type": "stream",
     "text": [
      "Domain cartoon | Epoch 3 | Avg Loss: 1.9737\n"
     ]
    },
    {
     "name": "stderr",
     "output_type": "stream",
     "text": [
      "Epoch 4/10: 100%|██████████| 13/13 [00:00<00:00, 13.68it/s]\n"
     ]
    },
    {
     "name": "stdout",
     "output_type": "stream",
     "text": [
      "Domain cartoon | Epoch 4 | Avg Loss: 1.8787\n"
     ]
    },
    {
     "name": "stderr",
     "output_type": "stream",
     "text": [
      "Epoch 5/10: 100%|██████████| 13/13 [00:00<00:00, 13.93it/s]\n"
     ]
    },
    {
     "name": "stdout",
     "output_type": "stream",
     "text": [
      "Domain cartoon | Epoch 5 | Avg Loss: 1.7739\n"
     ]
    },
    {
     "name": "stderr",
     "output_type": "stream",
     "text": [
      "Epoch 6/10: 100%|██████████| 13/13 [00:00<00:00, 13.68it/s]\n"
     ]
    },
    {
     "name": "stdout",
     "output_type": "stream",
     "text": [
      "Domain cartoon | Epoch 6 | Avg Loss: 1.6516\n"
     ]
    },
    {
     "name": "stderr",
     "output_type": "stream",
     "text": [
      "Epoch 7/10: 100%|██████████| 13/13 [00:00<00:00, 13.70it/s]\n"
     ]
    },
    {
     "name": "stdout",
     "output_type": "stream",
     "text": [
      "Domain cartoon | Epoch 7 | Avg Loss: 1.5263\n"
     ]
    },
    {
     "name": "stderr",
     "output_type": "stream",
     "text": [
      "Epoch 8/10: 100%|██████████| 13/13 [00:00<00:00, 13.78it/s]\n"
     ]
    },
    {
     "name": "stdout",
     "output_type": "stream",
     "text": [
      "Domain cartoon | Epoch 8 | Avg Loss: 1.4457\n"
     ]
    },
    {
     "name": "stderr",
     "output_type": "stream",
     "text": [
      "Epoch 9/10: 100%|██████████| 13/13 [00:00<00:00, 13.72it/s]\n"
     ]
    },
    {
     "name": "stdout",
     "output_type": "stream",
     "text": [
      "Domain cartoon | Epoch 9 | Avg Loss: 1.3248\n"
     ]
    },
    {
     "name": "stderr",
     "output_type": "stream",
     "text": [
      "Epoch 10/10: 100%|██████████| 13/13 [00:00<00:00, 13.65it/s]\n"
     ]
    },
    {
     "name": "stdout",
     "output_type": "stream",
     "text": [
      "Domain cartoon | Epoch 10 | Avg Loss: 1.2281\n",
      "Saved final weights for domain cartoon to ../results\\phase1_weights\\final\\domain_cartoon\n",
      "\n",
      "--- Training on domain: photo ---\n",
      "Randomly selected class: 0\n",
      "self.dataroot: D:\\Haseeb\\SPROJ\\PACS ViT\\pacs_data\\pacs_data\n"
     ]
    },
    {
     "name": "stderr",
     "output_type": "stream",
     "text": [
      "Epoch 1/10: 100%|██████████| 6/6 [00:00<00:00, 13.05it/s]\n"
     ]
    },
    {
     "name": "stdout",
     "output_type": "stream",
     "text": [
      "Domain photo | Epoch 1 | Avg Loss: 2.2474\n"
     ]
    },
    {
     "name": "stderr",
     "output_type": "stream",
     "text": [
      "Epoch 2/10: 100%|██████████| 6/6 [00:00<00:00, 13.09it/s]\n"
     ]
    },
    {
     "name": "stdout",
     "output_type": "stream",
     "text": [
      "Domain photo | Epoch 2 | Avg Loss: 2.2247\n"
     ]
    },
    {
     "name": "stderr",
     "output_type": "stream",
     "text": [
      "Epoch 3/10: 100%|██████████| 6/6 [00:00<00:00, 12.41it/s]\n"
     ]
    },
    {
     "name": "stdout",
     "output_type": "stream",
     "text": [
      "Domain photo | Epoch 3 | Avg Loss: 2.1388\n"
     ]
    },
    {
     "name": "stderr",
     "output_type": "stream",
     "text": [
      "Epoch 4/10: 100%|██████████| 6/6 [00:00<00:00, 12.73it/s]\n"
     ]
    },
    {
     "name": "stdout",
     "output_type": "stream",
     "text": [
      "Domain photo | Epoch 4 | Avg Loss: 2.0514\n"
     ]
    },
    {
     "name": "stderr",
     "output_type": "stream",
     "text": [
      "Epoch 5/10: 100%|██████████| 6/6 [00:00<00:00, 13.05it/s]\n"
     ]
    },
    {
     "name": "stdout",
     "output_type": "stream",
     "text": [
      "Domain photo | Epoch 5 | Avg Loss: 2.0548\n"
     ]
    },
    {
     "name": "stderr",
     "output_type": "stream",
     "text": [
      "Epoch 6/10: 100%|██████████| 6/6 [00:00<00:00, 12.86it/s]\n"
     ]
    },
    {
     "name": "stdout",
     "output_type": "stream",
     "text": [
      "Domain photo | Epoch 6 | Avg Loss: 1.9215\n"
     ]
    },
    {
     "name": "stderr",
     "output_type": "stream",
     "text": [
      "Epoch 7/10: 100%|██████████| 6/6 [00:00<00:00, 12.61it/s]\n"
     ]
    },
    {
     "name": "stdout",
     "output_type": "stream",
     "text": [
      "Domain photo | Epoch 7 | Avg Loss: 1.8917\n"
     ]
    },
    {
     "name": "stderr",
     "output_type": "stream",
     "text": [
      "Epoch 8/10: 100%|██████████| 6/6 [00:00<00:00, 13.14it/s]\n"
     ]
    },
    {
     "name": "stdout",
     "output_type": "stream",
     "text": [
      "Domain photo | Epoch 8 | Avg Loss: 1.8453\n"
     ]
    },
    {
     "name": "stderr",
     "output_type": "stream",
     "text": [
      "Epoch 9/10: 100%|██████████| 6/6 [00:00<00:00, 12.81it/s]\n"
     ]
    },
    {
     "name": "stdout",
     "output_type": "stream",
     "text": [
      "Domain photo | Epoch 9 | Avg Loss: 1.7988\n"
     ]
    },
    {
     "name": "stderr",
     "output_type": "stream",
     "text": [
      "Epoch 10/10: 100%|██████████| 6/6 [00:00<00:00, 12.76it/s]"
     ]
    },
    {
     "name": "stdout",
     "output_type": "stream",
     "text": [
      "Domain photo | Epoch 10 | Avg Loss: 1.7702\n",
      "Saved final weights for domain photo to ../results\\phase1_weights\\final\\domain_photo\n",
      "\n",
      "--- Phase 1 Training Complete ---\n"
     ]
    },
    {
     "name": "stderr",
     "output_type": "stream",
     "text": [
      "\n"
     ]
    }
   ],
   "source": [
    "# This will take some time to run. It trains 3 separate models.\n",
    "run_phase1()"
   ]
  },
  {
   "cell_type": "markdown",
   "id": "171ce70a",
   "metadata": {},
   "source": [
    "# Compute Importance and Create Consensus Masks"
   ]
  },
  {
   "cell_type": "code",
   "execution_count": 3,
   "id": "983a1a56",
   "metadata": {},
   "outputs": [
    {
     "name": "stdout",
     "output_type": "stream",
     "text": [
      "\n",
      "Computing importance for domain: art_painting\n",
      "\n",
      "Computing importance for domain: cartoon\n",
      "\n",
      "Computing importance for domain: photo\n",
      "\n",
      "Creating consensus masks...\n",
      "Created consensus mask for layers.0.weight\n",
      "Created consensus mask for layers.0.bias\n",
      "Created consensus mask for layers.1.weight\n",
      "Created consensus mask for layers.1.bias\n",
      "Created consensus mask for layers.2.weight\n",
      "Created consensus mask for layers.2.bias\n",
      "Created consensus mask for layers.3.weight\n",
      "Created consensus mask for layers.3.bias\n",
      "Created consensus mask for classifier.weight\n",
      "Created consensus mask for classifier.bias\n",
      "\n",
      "Importance and consensus masks generated successfully.\n"
     ]
    }
   ],
   "source": [
    "# Instantiate a temporary model to get parameter names\n",
    "ffn_temp = FeedForwardHead(config.EMBEDDING_DIM)\n",
    "param_names = get_param_names(ffn_temp)\n",
    "\n",
    "# 1. Compute per-domain importance\n",
    "for domain in config.PH1_DOMAINS:\n",
    "    print(f\"\\nComputing importance for domain: {domain}\")\n",
    "    for name in param_names:\n",
    "        compute_and_save_importance(domain, name)\n",
    "\n",
    "# 2. Create consensus masks\n",
    "print(\"\\nCreating consensus masks...\")\n",
    "for name in param_names:\n",
    "    create_consensus_mask(name, domains=config.PH1_DOMAINS)\n",
    "\n",
    "print(\"\\nImportance and consensus masks generated successfully.\")"
   ]
  },
  {
   "cell_type": "markdown",
   "id": "140554e0",
   "metadata": {},
   "source": [
    "# Visualize Weights and Importance Masks"
   ]
  },
  {
   "cell_type": "code",
   "execution_count": null,
   "id": "a7a89ccc",
   "metadata": {},
   "outputs": [
    {
     "name": "stderr",
     "output_type": "stream",
     "text": [
      "e:\\Fatim\\LUMS\\SPROJ\\Codes\\Visual Reasoning\\Visual-Reasoning\\WeightImportanceDG\\src\\config.py:13: SyntaxWarning: invalid escape sequence '\\H'\n",
      "  DATA_ROOT = 'D:\\Haseeb\\SPROJ\\PACS ViT\\pacs_data\\pacs_data'\n"
     ]
    },
    {
     "name": "stdout",
     "output_type": "stream",
     "text": [
      "Using device: cpu\n"
     ]
    },
    {
     "ename": "ModuleNotFoundError",
     "evalue": "No module named 'transformers'",
     "output_type": "error",
     "traceback": [
      "\u001b[1;31m---------------------------------------------------------------------------\u001b[0m",
      "\u001b[1;31mModuleNotFoundError\u001b[0m                       Traceback (most recent call last)",
      "Cell \u001b[1;32mIn[4], line 9\u001b[0m\n\u001b[0;32m      7\u001b[0m \u001b[38;5;66;03m# Make sure you've imported everything needed\u001b[39;00m\n\u001b[0;32m      8\u001b[0m \u001b[38;5;28;01mfrom\u001b[39;00m\u001b[38;5;250m \u001b[39m\u001b[38;5;21;01msrc\u001b[39;00m\u001b[38;5;250m \u001b[39m\u001b[38;5;28;01mimport\u001b[39;00m config\n\u001b[1;32m----> 9\u001b[0m \u001b[38;5;28;01mfrom\u001b[39;00m\u001b[38;5;250m \u001b[39m\u001b[38;5;21;01msrc\u001b[39;00m\u001b[38;5;21;01m.\u001b[39;00m\u001b[38;5;21;01mmodels\u001b[39;00m\u001b[38;5;250m \u001b[39m\u001b[38;5;28;01mimport\u001b[39;00m FeedForwardHead\n\u001b[0;32m     10\u001b[0m \u001b[38;5;28;01mfrom\u001b[39;00m\u001b[38;5;250m \u001b[39m\u001b[38;5;21;01msrc\u001b[39;00m\u001b[38;5;21;01m.\u001b[39;00m\u001b[38;5;21;01mphase1_utils\u001b[39;00m\u001b[38;5;250m \u001b[39m\u001b[38;5;28;01mimport\u001b[39;00m get_param_names\n\u001b[0;32m     11\u001b[0m \u001b[38;5;66;03m# Add the new function to your imports\u001b[39;00m\n",
      "File \u001b[1;32me:\\Fatim\\LUMS\\SPROJ\\Codes\\Visual Reasoning\\Visual-Reasoning\\WeightImportanceDG\\src\\models.py:5\u001b[0m\n\u001b[0;32m      3\u001b[0m \u001b[38;5;28;01mimport\u001b[39;00m\u001b[38;5;250m \u001b[39m\u001b[38;5;21;01mtorch\u001b[39;00m\n\u001b[0;32m      4\u001b[0m \u001b[38;5;28;01mimport\u001b[39;00m\u001b[38;5;250m \u001b[39m\u001b[38;5;21;01mtorch\u001b[39;00m\u001b[38;5;21;01m.\u001b[39;00m\u001b[38;5;21;01mnn\u001b[39;00m\u001b[38;5;250m \u001b[39m\u001b[38;5;28;01mas\u001b[39;00m\u001b[38;5;250m \u001b[39m\u001b[38;5;21;01mnn\u001b[39;00m\n\u001b[1;32m----> 5\u001b[0m \u001b[38;5;28;01mfrom\u001b[39;00m\u001b[38;5;250m \u001b[39m\u001b[38;5;21;01mtransformers\u001b[39;00m\u001b[38;5;250m \u001b[39m\u001b[38;5;28;01mimport\u001b[39;00m ViTModel\n\u001b[0;32m      6\u001b[0m \u001b[38;5;28;01mfrom\u001b[39;00m\u001b[38;5;250m \u001b[39m\u001b[38;5;21;01m.\u001b[39;00m\u001b[38;5;250m \u001b[39m\u001b[38;5;28;01mimport\u001b[39;00m config\n\u001b[0;32m      8\u001b[0m \u001b[38;5;28;01mclass\u001b[39;00m\u001b[38;5;250m \u001b[39m\u001b[38;5;21;01mViTFeatureExtractor\u001b[39;00m(nn\u001b[38;5;241m.\u001b[39mModule):\n",
      "\u001b[1;31mModuleNotFoundError\u001b[0m: No module named 'transformers'"
     ]
    }
   ],
   "source": [
    "# # In a new notebook cell\n",
    "\n",
    "# import os\n",
    "# import numpy as np\n",
    "# from IPython.display import display, Image\n",
    "\n",
    "# # Make sure you've imported everything needed\n",
    "# from src import config\n",
    "# from src.models import FeedForwardHead\n",
    "# from src.phase1_utils import get_param_names\n",
    "# # Add the new function to your imports\n",
    "# from src.visualization import create_graph_from_matrices \n",
    "\n",
    "\n",
    "# # --- Helper function to load all .npy files for a model ---\n",
    "# def load_all_params(directory, param_names, suffix=\".npy\"):\n",
    "#     \"\"\"Loads all parameter matrices from a directory into a dictionary.\"\"\"\n",
    "#     loaded_params = {}\n",
    "#     for name in param_names:\n",
    "#         filename = name.replace('.', '_') + suffix\n",
    "#         filepath = os.path.join(directory, filename)\n",
    "#         if os.path.exists(filepath):\n",
    "#             loaded_params[name] = np.load(filepath)\n",
    "#     return loaded_params\n",
    "\n",
    "# # --- Main Visualization Script ---\n",
    "\n",
    "# # 1. Get the list of parameter names\n",
    "# ffn_temp = FeedForwardHead(config.EMBEDDING_DIM)\n",
    "# param_names = get_param_names(ffn_temp)\n",
    "# print(\"Found parameter names:\", param_names)\n",
    "\n",
    "# # 2. Visualize Initial Shared Weights\n",
    "# print(\"\\n--- Generating graph for Initial Weights ---\")\n",
    "# initial_weights_dir = os.path.join(config.PHASE1_WEIGHTS_DIR, \"initial\")\n",
    "# initial_params = load_all_params(initial_weights_dir, param_names)\n",
    "# create_graph_from_matrices(\n",
    "#     initial_params,\n",
    "#     title=\"Initial Shared Network Weights\",\n",
    "#     save_path=os.path.join(config.PLOTS_DIR, \"graphs\", \"0_initial_weights.png\")\n",
    "# )\n",
    "\n",
    "# # 3. Loop through each domain to visualize its specific matrices\n",
    "# for domain in config.PH1_DOMAINS:\n",
    "#     print(f\"\\n--- Generating graphs for domain: {domain} ---\")\n",
    "    \n",
    "#     # a. Final Weights (after training)\n",
    "#     final_weights_dir = os.path.join(config.PHASE1_WEIGHTS_DIR, \"final\", f\"domain_{domain}\")\n",
    "#     final_params = load_all_params(final_weights_dir, param_names)\n",
    "#     create_graph_from_matrices(\n",
    "#         final_params,\n",
    "#         title=f\"Final Weights - Domain: {domain}\",\n",
    "#         save_path=os.path.join(config.PLOTS_DIR, \"graphs\", f\"1_final_weights_{domain}.png\")\n",
    "#     )\n",
    "    \n",
    "#     # b. Importance Matrix (Absolute Difference)\n",
    "#     importance_dir = os.path.join(config.PHASE1_IMPORTANCE_DIR, f\"domain_{domain}\")\n",
    "#     importance_norm_params = load_all_params(importance_dir, param_names, suffix=\"_norm.npy\")\n",
    "#     create_graph_from_matrices(\n",
    "#         importance_norm_params,\n",
    "#         title=f\"Normalized Importance - Domain: {domain}\",\n",
    "#         save_path=os.path.join(config.PLOTS_DIR, \"graphs\", f\"2_importance_norm_{domain}.png\")\n",
    "#     )\n",
    "    \n",
    "#     # c. Binary Importance Mask\n",
    "#     importance_binary_params = load_all_params(importance_dir, param_names, suffix=\"_binary.npy\")\n",
    "#     create_graph_from_matrices(\n",
    "#         importance_binary_params,\n",
    "#         title=f\"Binary Importance Mask - Domain: {domain}\",\n",
    "#         save_path=os.path.join(config.PLOTS_DIR, \"graphs\", f\"3_importance_binary_{domain}.png\"),\n",
    "#         highlight_binary=True  # Use special styling for 0s and 1s\n",
    "#     )\n",
    "\n",
    "# # 4. Visualize the final Consensus Mask\n",
    "# print(\"\\n--- Generating graph for Consensus Mask ---\")\n",
    "# consensus_dir = os.path.join(config.PHASE1_IMPORTANCE_DIR, \"consensus\")\n",
    "# consensus_binary_params = load_all_params(consensus_dir, param_names, suffix=\"_binary.npy\")\n",
    "# create_graph_from_matrices(\n",
    "#     consensus_binary_params,\n",
    "#     title=\"Consensus Binary Mask\",\n",
    "#     save_path=os.path.join(config.PLOTS_DIR, \"graphs\", \"4_consensus_binary_mask.png\"),\n",
    "#     highlight_binary=True\n",
    "# )\n",
    "\n",
    "# print(\"\\n\\n--- All graphs generated successfully! ---\")\n",
    "\n",
    "# # --- Display a few key examples ---\n",
    "# print(\"\\nInitial Shared Network:\")\n",
    "# display(Image(filename=os.path.join(config.PLOTS_DIR, \"graphs\", \"0_initial_weights.png\")))\n",
    "\n",
    "# print(\"\\nBinary Importance Mask for 'art_painting':\")\n",
    "# display(Image(filename=os.path.join(config.PLOTS_DIR, \"graphs\", \"3_importance_binary_art_painting.png\")))\n",
    "\n",
    "# print(\"\\nFinal Consensus Mask:\")\n",
    "# display(Image(filename=os.path.join(config.PLOTS_DIR, \"graphs\", \"4_consensus_binary_mask.png\")))"
   ]
  },
  {
   "cell_type": "code",
   "execution_count": 4,
   "id": "c412113c",
   "metadata": {},
   "outputs": [
    {
     "name": "stdout",
     "output_type": "stream",
     "text": [
      "Displaying Consensus Binary Mask for 'layers.0.weight':\n"
     ]
    },
    {
     "data": {
      "image/png": "[encoded data removed]",
      "text/plain": [
       "<IPython.core.display.Image object>"
      ]
     },
     "metadata": {},
     "output_type": "display_data"
    }
   ],
   "source": [
    "def visualize_all(param_name):\n",
    "    filename_base = param_name.replace('.', '_')\n",
    "    \n",
    "    # --- Visualize Initial and Final Weights ---\n",
    "    initial_w = np.load(os.path.join(config.PHASE1_WEIGHTS_DIR, \"initial\", f\"{filename_base}.npy\"))\n",
    "    plot_matrix(initial_w, \n",
    "                os.path.join(config.PLOTS_DIR, \"initial\", f\"{filename_base}.png\"), \n",
    "                f\"Initial Shared - {param_name}\")\n",
    "    \n",
    "    for domain in config.PH1_DOMAINS:\n",
    "        final_w = np.load(os.path.join(config.PHASE1_WEIGHTS_DIR, \"final\", f\"domain_{domain}\", f\"{filename_base}.npy\"))\n",
    "        plot_matrix(final_w, \n",
    "                    os.path.join(config.PLOTS_DIR, f\"final_{domain}\", f\"{filename_base}.png\"), \n",
    "                    f\"Final {domain} - {param_name}\")\n",
    "\n",
    "    # --- Visualize Importance Masks (Norm and Binary) ---\n",
    "    for domain in config.PH1_DOMAINS:\n",
    "        norm_mask = np.load(os.path.join(config.PHASE1_IMPORTANCE_DIR, f\"domain_{domain}\", f\"{filename_base}_norm.npy\"))\n",
    "        binary_mask = np.load(os.path.join(config.PHASE1_IMPORTANCE_DIR, f\"domain_{domain}\", f\"{filename_base}_binary.npy\"))\n",
    "        \n",
    "        plot_matrix(norm_mask, os.path.join(config.PLOTS_DIR, f\"importance_{domain}\", f\"{filename_base}_norm.png\"), \n",
    "                    f\"Importance Norm {domain} - {param_name}\", vmin=0, vmax=1)\n",
    "        plot_matrix(binary_mask, os.path.join(config.PLOTS_DIR, f\"importance_{domain}\", f\"{filename_base}_binary.png\"),\n",
    "                    f\"Importance Binary {domain} - {param_name}\", cmap='gray_r', vmin=0, vmax=1)\n",
    "\n",
    "    # --- Visualize Consensus Masks ---\n",
    "    consensus_norm = np.load(os.path.join(config.PHASE1_IMPORTANCE_DIR, \"consensus\", f\"{filename_base}_norm.npy\"))\n",
    "    consensus_binary = np.load(os.path.join(config.PHASE1_IMPORTANCE_DIR, \"consensus\", f\"{filename_base}_binary.npy\"))\n",
    "\n",
    "    plot_matrix(consensus_norm, os.path.join(config.PLOTS_DIR, \"consensus\", f\"{filename_base}_norm.png\"),\n",
    "                f\"Consensus Norm - {param_name}\", vmin=0, vmax=1)\n",
    "    plot_matrix(consensus_binary, os.path.join(config.PLOTS_DIR, \"consensus\", f\"{filename_base}_binary.png\"),\n",
    "                f\"Consensus Binary - {param_name}\", cmap='gray_r', vmin=0, vmax=1)\n",
    "\n",
    "# Generate plots for the first hidden layer weight as an example\n",
    "example_param = 'layers.0.weight'\n",
    "visualize_all(example_param)\n",
    "\n",
    "# Display the final consensus mask for inspection\n",
    "print(f\"Displaying Consensus Binary Mask for '{example_param}':\")\n",
    "display(Image(filename=os.path.join(config.PLOTS_DIR, \"consensus\", f\"{example_param.replace('.', '_')}_binary.png\")))"
   ]
  },
  {
   "cell_type": "markdown",
   "id": "f6a3e5c1",
   "metadata": {},
   "source": [
    "# Run Phase 2 LODO Training"
   ]
  },
  {
   "cell_type": "code",
   "execution_count": 5,
   "id": "8d4a16fc",
   "metadata": {},
   "outputs": [
    {
     "name": "stdout",
     "output_type": "stream",
     "text": [
      "\n",
      "--- Starting Phase 2 LODO ---\n",
      "Training on: ['cartoon', 'photo', 'sketch'], Testing on: art_painting\n",
      "self.dataroot: D:\\Haseeb\\SPROJ\\PACS ViT\\pacs_data\\pacs_data\n",
      "self.dataroot: D:\\Haseeb\\SPROJ\\PACS ViT\\pacs_data\\pacs_data\n",
      "self.dataroot: D:\\Haseeb\\SPROJ\\PACS ViT\\pacs_data\\pacs_data\n",
      "self.dataroot: D:\\Haseeb\\SPROJ\\PACS ViT\\pacs_data\\pacs_data\n",
      "self.dataroot: D:\\Haseeb\\SPROJ\\PACS ViT\\pacs_data\\pacs_data\n",
      "self.dataroot: D:\\Haseeb\\SPROJ\\PACS ViT\\pacs_data\\pacs_data\n",
      "self.dataroot: D:\\Haseeb\\SPROJ\\PACS ViT\\pacs_data\\pacs_data\n"
     ]
    },
    {
     "name": "stderr",
     "output_type": "stream",
     "text": [
      "Epoch 1/10: 100%|██████████| 199/199 [00:59<00:00,  3.34it/s]\n"
     ]
    },
    {
     "name": "stdout",
     "output_type": "stream",
     "text": [
      "Epoch 1 | Train Loss: 1.8514 | Val Acc: 0.4267 | Non-Imp Scale: 1.00\n"
     ]
    },
    {
     "name": "stderr",
     "output_type": "stream",
     "text": [
      "Epoch 2/10: 100%|██████████| 199/199 [00:15<00:00, 12.78it/s]\n"
     ]
    },
    {
     "name": "stdout",
     "output_type": "stream",
     "text": [
      "Epoch 2 | Train Loss: 1.6097 | Val Acc: 0.4519 | Non-Imp Scale: 0.86\n"
     ]
    },
    {
     "name": "stderr",
     "output_type": "stream",
     "text": [
      "Epoch 3/10: 100%|██████████| 199/199 [00:15<00:00, 12.84it/s]\n"
     ]
    },
    {
     "name": "stdout",
     "output_type": "stream",
     "text": [
      "Epoch 3 | Train Loss: 1.4724 | Val Acc: 0.5160 | Non-Imp Scale: 0.71\n"
     ]
    },
    {
     "name": "stderr",
     "output_type": "stream",
     "text": [
      "Epoch 4/10: 100%|██████████| 199/199 [00:15<00:00, 12.85it/s]\n"
     ]
    },
    {
     "name": "stdout",
     "output_type": "stream",
     "text": [
      "Epoch 4 | Train Loss: 1.3772 | Val Acc: 0.6595 | Non-Imp Scale: 0.57\n"
     ]
    },
    {
     "name": "stderr",
     "output_type": "stream",
     "text": [
      "Epoch 5/10: 100%|██████████| 199/199 [00:15<00:00, 12.85it/s]\n"
     ]
    },
    {
     "name": "stdout",
     "output_type": "stream",
     "text": [
      "Epoch 5 | Train Loss: 1.3095 | Val Acc: 0.6772 | Non-Imp Scale: 0.43\n"
     ]
    },
    {
     "name": "stderr",
     "output_type": "stream",
     "text": [
      "Epoch 6/10: 100%|██████████| 199/199 [00:15<00:00, 12.84it/s]\n"
     ]
    },
    {
     "name": "stdout",
     "output_type": "stream",
     "text": [
      "Epoch 6 | Train Loss: 1.2262 | Val Acc: 0.7017 | Non-Imp Scale: 0.29\n"
     ]
    },
    {
     "name": "stderr",
     "output_type": "stream",
     "text": [
      "Epoch 7/10: 100%|██████████| 199/199 [00:15<00:00, 12.86it/s]\n"
     ]
    },
    {
     "name": "stdout",
     "output_type": "stream",
     "text": [
      "Epoch 7 | Train Loss: 1.1465 | Val Acc: 0.7369 | Non-Imp Scale: 0.14\n"
     ]
    },
    {
     "name": "stderr",
     "output_type": "stream",
     "text": [
      "Epoch 8/10: 100%|██████████| 199/199 [00:15<00:00, 12.84it/s]\n"
     ]
    },
    {
     "name": "stdout",
     "output_type": "stream",
     "text": [
      "Epoch 8 | Train Loss: 1.1303 | Val Acc: 0.7269 | Non-Imp Scale: 0.00\n"
     ]
    },
    {
     "name": "stderr",
     "output_type": "stream",
     "text": [
      "Epoch 9/10: 100%|██████████| 199/199 [00:15<00:00, 12.84it/s]\n"
     ]
    },
    {
     "name": "stdout",
     "output_type": "stream",
     "text": [
      "Epoch 9 | Train Loss: 1.0981 | Val Acc: 0.7426 | Non-Imp Scale: 0.00\n"
     ]
    },
    {
     "name": "stderr",
     "output_type": "stream",
     "text": [
      "Epoch 10/10: 100%|██████████| 199/199 [00:15<00:00, 12.85it/s]\n"
     ]
    },
    {
     "name": "stdout",
     "output_type": "stream",
     "text": [
      "Epoch 10 | Train Loss: 1.0870 | Val Acc: 0.7407 | Non-Imp Scale: 0.00\n",
      "--- Final Test Accuracy on art_painting: 0.5756 ---\n",
      "\n",
      "--- Starting Phase 2 LODO ---\n",
      "Training on: ['art_painting', 'photo', 'sketch'], Testing on: cartoon\n",
      "self.dataroot: D:\\Haseeb\\SPROJ\\PACS ViT\\pacs_data\\pacs_data\n",
      "self.dataroot: D:\\Haseeb\\SPROJ\\PACS ViT\\pacs_data\\pacs_data\n",
      "self.dataroot: D:\\Haseeb\\SPROJ\\PACS ViT\\pacs_data\\pacs_data\n",
      "self.dataroot: D:\\Haseeb\\SPROJ\\PACS ViT\\pacs_data\\pacs_data\n",
      "self.dataroot: D:\\Haseeb\\SPROJ\\PACS ViT\\pacs_data\\pacs_data\n",
      "self.dataroot: D:\\Haseeb\\SPROJ\\PACS ViT\\pacs_data\\pacs_data\n",
      "self.dataroot: D:\\Haseeb\\SPROJ\\PACS ViT\\pacs_data\\pacs_data\n"
     ]
    },
    {
     "name": "stderr",
     "output_type": "stream",
     "text": [
      "Epoch 1/10: 100%|██████████| 192/192 [00:20<00:00,  9.38it/s]\n"
     ]
    },
    {
     "name": "stdout",
     "output_type": "stream",
     "text": [
      "Epoch 1 | Train Loss: 1.7714 | Val Acc: 0.5059 | Non-Imp Scale: 1.00\n"
     ]
    },
    {
     "name": "stderr",
     "output_type": "stream",
     "text": [
      "Epoch 2/10: 100%|██████████| 192/192 [00:14<00:00, 12.83it/s]\n"
     ]
    },
    {
     "name": "stdout",
     "output_type": "stream",
     "text": [
      "Epoch 2 | Train Loss: 1.4876 | Val Acc: 0.7275 | Non-Imp Scale: 0.86\n"
     ]
    },
    {
     "name": "stderr",
     "output_type": "stream",
     "text": [
      "Epoch 3/10: 100%|██████████| 192/192 [00:15<00:00, 12.15it/s]\n"
     ]
    },
    {
     "name": "stdout",
     "output_type": "stream",
     "text": [
      "Epoch 3 | Train Loss: 1.2789 | Val Acc: 0.7719 | Non-Imp Scale: 0.71\n"
     ]
    },
    {
     "name": "stderr",
     "output_type": "stream",
     "text": [
      "Epoch 4/10: 100%|██████████| 192/192 [00:15<00:00, 12.24it/s]\n"
     ]
    },
    {
     "name": "stdout",
     "output_type": "stream",
     "text": [
      "Epoch 4 | Train Loss: 1.1342 | Val Acc: 0.8209 | Non-Imp Scale: 0.57\n"
     ]
    },
    {
     "name": "stderr",
     "output_type": "stream",
     "text": [
      "Epoch 5/10: 100%|██████████| 192/192 [00:15<00:00, 12.28it/s]\n"
     ]
    },
    {
     "name": "stdout",
     "output_type": "stream",
     "text": [
      "Epoch 5 | Train Loss: 1.0626 | Val Acc: 0.8340 | Non-Imp Scale: 0.43\n"
     ]
    },
    {
     "name": "stderr",
     "output_type": "stream",
     "text": [
      "Epoch 6/10: 100%|██████████| 192/192 [00:15<00:00, 12.63it/s]\n"
     ]
    },
    {
     "name": "stdout",
     "output_type": "stream",
     "text": [
      "Epoch 6 | Train Loss: 1.0345 | Val Acc: 0.8536 | Non-Imp Scale: 0.29\n"
     ]
    },
    {
     "name": "stderr",
     "output_type": "stream",
     "text": [
      "Epoch 7/10: 100%|██████████| 192/192 [00:14<00:00, 12.84it/s]\n"
     ]
    },
    {
     "name": "stdout",
     "output_type": "stream",
     "text": [
      "Epoch 7 | Train Loss: 0.9578 | Val Acc: 0.8686 | Non-Imp Scale: 0.14\n"
     ]
    },
    {
     "name": "stderr",
     "output_type": "stream",
     "text": [
      "Epoch 8/10: 100%|██████████| 192/192 [00:15<00:00, 12.79it/s]\n"
     ]
    },
    {
     "name": "stdout",
     "output_type": "stream",
     "text": [
      "Epoch 8 | Train Loss: 0.9344 | Val Acc: 0.8693 | Non-Imp Scale: 0.00\n"
     ]
    },
    {
     "name": "stderr",
     "output_type": "stream",
     "text": [
      "Epoch 9/10: 100%|██████████| 192/192 [00:14<00:00, 12.83it/s]\n"
     ]
    },
    {
     "name": "stdout",
     "output_type": "stream",
     "text": [
      "Epoch 9 | Train Loss: 0.9556 | Val Acc: 0.8608 | Non-Imp Scale: 0.00\n"
     ]
    },
    {
     "name": "stderr",
     "output_type": "stream",
     "text": [
      "Epoch 10/10: 100%|██████████| 192/192 [00:14<00:00, 12.86it/s]\n"
     ]
    },
    {
     "name": "stdout",
     "output_type": "stream",
     "text": [
      "Epoch 10 | Train Loss: 0.9250 | Val Acc: 0.8719 | Non-Imp Scale: 0.00\n",
      "--- Final Test Accuracy on cartoon: 0.6525 ---\n",
      "\n",
      "--- Starting Phase 2 LODO ---\n",
      "Training on: ['art_painting', 'cartoon', 'sketch'], Testing on: photo\n",
      "self.dataroot: D:\\Haseeb\\SPROJ\\PACS ViT\\pacs_data\\pacs_data\n",
      "self.dataroot: D:\\Haseeb\\SPROJ\\PACS ViT\\pacs_data\\pacs_data\n",
      "self.dataroot: D:\\Haseeb\\SPROJ\\PACS ViT\\pacs_data\\pacs_data\n",
      "self.dataroot: D:\\Haseeb\\SPROJ\\PACS ViT\\pacs_data\\pacs_data\n",
      "self.dataroot: D:\\Haseeb\\SPROJ\\PACS ViT\\pacs_data\\pacs_data\n",
      "self.dataroot: D:\\Haseeb\\SPROJ\\PACS ViT\\pacs_data\\pacs_data\n",
      "self.dataroot: D:\\Haseeb\\SPROJ\\PACS ViT\\pacs_data\\pacs_data\n"
     ]
    },
    {
     "name": "stderr",
     "output_type": "stream",
     "text": [
      "Epoch 1/10: 100%|██████████| 208/208 [00:16<00:00, 12.81it/s]\n"
     ]
    },
    {
     "name": "stdout",
     "output_type": "stream",
     "text": [
      "Epoch 1 | Train Loss: 1.8307 | Val Acc: 0.5039 | Non-Imp Scale: 1.00\n"
     ]
    },
    {
     "name": "stderr",
     "output_type": "stream",
     "text": [
      "Epoch 2/10: 100%|██████████| 208/208 [00:16<00:00, 12.83it/s]\n"
     ]
    },
    {
     "name": "stdout",
     "output_type": "stream",
     "text": [
      "Epoch 2 | Train Loss: 1.5918 | Val Acc: 0.6468 | Non-Imp Scale: 0.86\n"
     ]
    },
    {
     "name": "stderr",
     "output_type": "stream",
     "text": [
      "Epoch 3/10: 100%|██████████| 208/208 [00:16<00:00, 12.83it/s]\n"
     ]
    },
    {
     "name": "stdout",
     "output_type": "stream",
     "text": [
      "Epoch 3 | Train Loss: 1.3821 | Val Acc: 0.7093 | Non-Imp Scale: 0.71\n"
     ]
    },
    {
     "name": "stderr",
     "output_type": "stream",
     "text": [
      "Epoch 4/10: 100%|██████████| 208/208 [00:16<00:00, 12.83it/s]\n"
     ]
    },
    {
     "name": "stdout",
     "output_type": "stream",
     "text": [
      "Epoch 4 | Train Loss: 1.2619 | Val Acc: 0.7562 | Non-Imp Scale: 0.57\n"
     ]
    },
    {
     "name": "stderr",
     "output_type": "stream",
     "text": [
      "Epoch 5/10: 100%|██████████| 208/208 [00:16<00:00, 12.84it/s]\n"
     ]
    },
    {
     "name": "stdout",
     "output_type": "stream",
     "text": [
      "Epoch 5 | Train Loss: 1.1680 | Val Acc: 0.7544 | Non-Imp Scale: 0.43\n"
     ]
    },
    {
     "name": "stderr",
     "output_type": "stream",
     "text": [
      "Epoch 6/10: 100%|██████████| 208/208 [00:16<00:00, 12.80it/s]\n"
     ]
    },
    {
     "name": "stdout",
     "output_type": "stream",
     "text": [
      "Epoch 6 | Train Loss: 1.1305 | Val Acc: 0.7688 | Non-Imp Scale: 0.29\n"
     ]
    },
    {
     "name": "stderr",
     "output_type": "stream",
     "text": [
      "Epoch 7/10: 100%|██████████| 208/208 [00:16<00:00, 12.78it/s]\n"
     ]
    },
    {
     "name": "stdout",
     "output_type": "stream",
     "text": [
      "Epoch 7 | Train Loss: 1.0627 | Val Acc: 0.7748 | Non-Imp Scale: 0.14\n"
     ]
    },
    {
     "name": "stderr",
     "output_type": "stream",
     "text": [
      "Epoch 8/10: 100%|██████████| 208/208 [00:16<00:00, 12.80it/s]\n"
     ]
    },
    {
     "name": "stdout",
     "output_type": "stream",
     "text": [
      "Epoch 8 | Train Loss: 1.0465 | Val Acc: 0.7724 | Non-Imp Scale: 0.00\n"
     ]
    },
    {
     "name": "stderr",
     "output_type": "stream",
     "text": [
      "Epoch 9/10: 100%|██████████| 208/208 [00:16<00:00, 12.83it/s]\n"
     ]
    },
    {
     "name": "stdout",
     "output_type": "stream",
     "text": [
      "Epoch 9 | Train Loss: 1.0477 | Val Acc: 0.7760 | Non-Imp Scale: 0.00\n"
     ]
    },
    {
     "name": "stderr",
     "output_type": "stream",
     "text": [
      "Epoch 10/10: 100%|██████████| 208/208 [00:16<00:00, 12.79it/s]\n"
     ]
    },
    {
     "name": "stdout",
     "output_type": "stream",
     "text": [
      "Epoch 10 | Train Loss: 1.0448 | Val Acc: 0.8348 | Non-Imp Scale: 0.00\n",
      "--- Final Test Accuracy on photo: 0.8982 ---\n",
      "\n",
      "--- Starting Phase 2 LODO ---\n",
      "Training on: ['art_painting', 'cartoon', 'photo'], Testing on: sketch\n",
      "self.dataroot: D:\\Haseeb\\SPROJ\\PACS ViT\\pacs_data\\pacs_data\n",
      "self.dataroot: D:\\Haseeb\\SPROJ\\PACS ViT\\pacs_data\\pacs_data\n",
      "self.dataroot: D:\\Haseeb\\SPROJ\\PACS ViT\\pacs_data\\pacs_data\n",
      "self.dataroot: D:\\Haseeb\\SPROJ\\PACS ViT\\pacs_data\\pacs_data\n",
      "self.dataroot: D:\\Haseeb\\SPROJ\\PACS ViT\\pacs_data\\pacs_data\n",
      "self.dataroot: D:\\Haseeb\\SPROJ\\PACS ViT\\pacs_data\\pacs_data\n",
      "self.dataroot: D:\\Haseeb\\SPROJ\\PACS ViT\\pacs_data\\pacs_data\n"
     ]
    },
    {
     "name": "stderr",
     "output_type": "stream",
     "text": [
      "Epoch 1/10: 100%|██████████| 152/152 [00:11<00:00, 12.71it/s]\n"
     ]
    },
    {
     "name": "stdout",
     "output_type": "stream",
     "text": [
      "Epoch 1 | Train Loss: 1.6979 | Val Acc: 0.5647 | Non-Imp Scale: 1.00\n"
     ]
    },
    {
     "name": "stderr",
     "output_type": "stream",
     "text": [
      "Epoch 2/10: 100%|██████████| 152/152 [00:11<00:00, 12.70it/s]\n"
     ]
    },
    {
     "name": "stdout",
     "output_type": "stream",
     "text": [
      "Epoch 2 | Train Loss: 1.3929 | Val Acc: 0.6092 | Non-Imp Scale: 0.86\n"
     ]
    },
    {
     "name": "stderr",
     "output_type": "stream",
     "text": [
      "Epoch 3/10: 100%|██████████| 152/152 [00:11<00:00, 12.70it/s]\n"
     ]
    },
    {
     "name": "stdout",
     "output_type": "stream",
     "text": [
      "Epoch 3 | Train Loss: 1.2257 | Val Acc: 0.6381 | Non-Imp Scale: 0.71\n"
     ]
    },
    {
     "name": "stderr",
     "output_type": "stream",
     "text": [
      "Epoch 4/10: 100%|██████████| 152/152 [00:11<00:00, 12.74it/s]\n"
     ]
    },
    {
     "name": "stdout",
     "output_type": "stream",
     "text": [
      "Epoch 4 | Train Loss: 1.1169 | Val Acc: 0.7139 | Non-Imp Scale: 0.57\n"
     ]
    },
    {
     "name": "stderr",
     "output_type": "stream",
     "text": [
      "Epoch 5/10: 100%|██████████| 152/152 [00:11<00:00, 12.69it/s]\n"
     ]
    },
    {
     "name": "stdout",
     "output_type": "stream",
     "text": [
      "Epoch 5 | Train Loss: 1.0526 | Val Acc: 0.7181 | Non-Imp Scale: 0.43\n"
     ]
    },
    {
     "name": "stderr",
     "output_type": "stream",
     "text": [
      "Epoch 6/10: 100%|██████████| 152/152 [00:11<00:00, 12.70it/s]\n"
     ]
    },
    {
     "name": "stdout",
     "output_type": "stream",
     "text": [
      "Epoch 6 | Train Loss: 1.0086 | Val Acc: 0.7279 | Non-Imp Scale: 0.29\n"
     ]
    },
    {
     "name": "stderr",
     "output_type": "stream",
     "text": [
      "Epoch 7/10: 100%|██████████| 152/152 [00:11<00:00, 12.69it/s]\n"
     ]
    },
    {
     "name": "stdout",
     "output_type": "stream",
     "text": [
      "Epoch 7 | Train Loss: 0.9414 | Val Acc: 0.7271 | Non-Imp Scale: 0.14\n"
     ]
    },
    {
     "name": "stderr",
     "output_type": "stream",
     "text": [
      "Epoch 8/10: 100%|██████████| 152/152 [00:11<00:00, 12.70it/s]\n"
     ]
    },
    {
     "name": "stdout",
     "output_type": "stream",
     "text": [
      "Epoch 8 | Train Loss: 0.9231 | Val Acc: 0.7659 | Non-Imp Scale: 0.00\n"
     ]
    },
    {
     "name": "stderr",
     "output_type": "stream",
     "text": [
      "Epoch 9/10: 100%|██████████| 152/152 [00:11<00:00, 12.72it/s]\n"
     ]
    },
    {
     "name": "stdout",
     "output_type": "stream",
     "text": [
      "Epoch 9 | Train Loss: 0.8983 | Val Acc: 0.7675 | Non-Imp Scale: 0.00\n"
     ]
    },
    {
     "name": "stderr",
     "output_type": "stream",
     "text": [
      "Epoch 10/10: 100%|██████████| 152/152 [00:11<00:00, 12.77it/s]\n"
     ]
    },
    {
     "name": "stdout",
     "output_type": "stream",
     "text": [
      "Epoch 10 | Train Loss: 0.8892 | Val Acc: 0.7758 | Non-Imp Scale: 0.00\n",
      "--- Final Test Accuracy on sketch: 0.2061 ---\n"
     ]
    }
   ],
   "source": [
    "lodo_results = {}\n",
    "\n",
    "for test_domain in config.DOMAINS:\n",
    "    train_domains = [d for d in config.DOMAINS if d != test_domain]\n",
    "    \n",
    "    test_accuracy = run_phase2_lodo(train_domains, test_domain)\n",
    "    lodo_results[test_domain] = test_accuracy"
   ]
  },
  {
   "cell_type": "markdown",
   "id": "8742e26b",
   "metadata": {},
   "source": [
    "# Final Results Summary"
   ]
  },
  {
   "cell_type": "code",
   "execution_count": null,
   "id": "4177a2b0",
   "metadata": {},
   "outputs": [
    {
     "name": "stdout",
     "output_type": "stream",
     "text": [
      "--- LODO Final Results ---\n",
      "  - Accuracy on held-out 'art_painting': 0.5756\n",
      "  - Accuracy on held-out 'cartoon': 0.6525\n",
      "  - Accuracy on held-out 'photo': 0.8982\n",
      "  - Accuracy on held-out 'sketch': 0.2061\n",
      "\n",
      "Average LODO Accuracy: 0.5831\n"
     ]
    },
    {
     "data": {
      "image/png": "[encoded data removed]",
      "text/plain": [
       "<Figure size 800x500 with 1 Axes>"
      ]
     },
     "metadata": {},
     "output_type": "display_data"
    }
   ],
   "source": [
    "print(\"--- LODO Final Results ---\")\n",
    "total_acc = 0\n",
    "for domain, acc in lodo_results.items():\n",
    "    print(f\"  - Accuracy on held-out '{domain}': {acc:.4f}\")\n",
    "    total_acc += acc\n",
    "\n",
    "avg_acc = total_acc / len(lodo_results)\n",
    "print(f\"\\nAverage LODO Accuracy: {avg_acc:.4f}\")\n",
    "\n",
    "# You can also create a plot here if you wish\n",
    "plt.figure(figsize=(8, 5))\n",
    "plt.bar(lodo_results.keys(), lodo_results.values())\n",
    "plt.ylabel(\"Accuracy\")\n",
    "plt.title(\"Leave-One-Domain-Out Test Accuracy\")\n",
    "plt.ylim(0, 1)\n",
    "for i, (domain, acc) in enumerate(lodo_resul+ts.items()):\n",
    "    plt.text(i, acc + 0.01, f\"{acc:.2%}\", ha='center')\n",
    "plt.show()"
   ]
  }
 ],
 "metadata": {
  "kernelspec": {
   "display_name": "Python 3",
   "language": "python",
   "name": "python3"
  },
  "language_info": {
   "codemirror_mode": {
    "name": "ipython",
    "version": 3
   },
   "file_extension": ".py",
   "mimetype": "text/x-python",
   "name": "python",
   "nbconvert_exporter": "python",
   "pygments_lexer": "ipython3",
   "version": "3.13.1"
  }
 },
 "nbformat": 4,
 "nbformat_minor": 5
}
