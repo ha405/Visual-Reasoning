{
 "cells": [
  {
   "cell_type": "markdown",
   "id": "8848ffa2",
   "metadata": {},
   "source": [
    "## PACS Domain Generalization with Vision Transformer (ViT)"
   ]
  },
  {
   "cell_type": "markdown",
   "id": "4f4b05ee",
   "metadata": {},
   "source": [
    "## Setup & Imports"
   ]
  },
  {
   "cell_type": "code",
   "execution_count": null,
   "id": "d54f7928",
   "metadata": {},
   "outputs": [],
   "source": [
    "\n",
    "import os\n",
    "import torch\n",
    "import torchvision.transforms as transforms\n",
    "import torchvision.datasets as datasets\n",
    "import torch.nn as nn\n",
    "import torch.optim as optim\n",
    "from torch.utils.data import DataLoader, Subset, ConcatDataset\n",
    "from sklearn.model_selection import train_test_split\n",
    "from transformers import ViTForImageClassification, ViTFeatureExtractor\n",
    "from tqdm import tqdm\n",
    "import numpy as np\n",
    "import matplotlib.pyplot as plt\n",
    "import random\n"
   ]
  },
  {
   "cell_type": "markdown",
   "id": "08410c63",
   "metadata": {},
   "source": [
    "## Configuration & Seeds"
   ]
  },
  {
   "cell_type": "code",
   "execution_count": 9,
   "id": "c2647726",
   "metadata": {},
   "outputs": [
    {
     "name": "stdout",
     "output_type": "stream",
     "text": [
      "Device: cuda\n"
     ]
    }
   ],
   "source": [
    "\n",
    "DEVICE = torch.device(\"cuda\" if torch.cuda.is_available() else \"cpu\")\n",
    "print(f\"Device: {DEVICE}\")\n",
    "SEED = 42\n",
    "BATCH_SIZE = 24\n",
    "NUM_EPOCHS = 5\n",
    "NUM_CLASSES = 7\n",
    "DATA_ROOT = \"../../../pacs_data/pacs_data\"\n",
    "DOMAINS = [\"art_painting\", \"cartoon\", \"photo\", \"sketch\"]\n",
    "MODELS = {\n",
    "    \"base\": \"google/vit-base-patch16-224-in21k\",\n",
    "    \"small\": \"WinKawaks/vit-small-patch16-224\",\n",
    "    \"tiny\": \"WinKawaks/vit-tiny-patch16-224\"\n",
    "    }\n",
    "\n",
    "torch.manual_seed(SEED)\n",
    "np.random.seed(SEED)\n",
    "random.seed(SEED)\n"
   ]
  },
  {
   "cell_type": "code",
   "execution_count": 10,
   "id": "78686742",
   "metadata": {},
   "outputs": [],
   "source": [
    "# =================================================================================\n",
    "# GRQO Model and Training Hyperparameters\n",
    "# =================================================================================\n",
    "NUM_QUERIES = 30           # Number of learnable queries for the decoder\n",
    "NUM_DECODER_LAYERS = 2     # Number of layers in the Transformer Decoder\n",
    "DECODER_NHEAD = 8          # Number of attention heads in the decoder\n",
    "\n",
    "# GRQO Loss weights\n",
    "GRQO_ALPHA = 1.0           # Weight for the policy/reward loss\n",
    "GRQO_BETA = 0.05           # Weight for the KL-divergence regularization\n",
    "\n",
    "# Two-Stage Training\n",
    "WARMUP_EPOCHS = 1          # Number of SFT warm-up epochs before GRQO starts"
   ]
  },
  {
   "cell_type": "markdown",
   "id": "79b27125",
   "metadata": {},
   "source": [
    "## Dataset Wrapper Class"
   ]
  },
  {
   "cell_type": "code",
   "execution_count": 11,
   "id": "908de0df",
   "metadata": {},
   "outputs": [],
   "source": [
    "\n",
    "class PACSDataset:\n",
    "    def __init__(self, data_root, domains, transform):\n",
    "        self.data_root = data_root\n",
    "        self.domains = domains\n",
    "        self.transform = transform\n",
    "\n",
    "    def get_dataloader(self, domain, train=True):\n",
    "        dataset = datasets.ImageFolder(os.path.join(self.data_root, domain), transform=self.transform)\n",
    "        \n",
    "        indices = list(range(len(dataset)))\n",
    "        train_idx, val_idx = train_test_split(indices, test_size=0.2, stratify=[dataset.targets[i] for i in indices], random_state=SEED)\n",
    "        selected_idx = train_idx if train else val_idx\n",
    "        \n",
    "        subset = Subset(dataset, selected_idx)\n",
    "        loader = DataLoader(subset, batch_size=BATCH_SIZE, shuffle=train)\n",
    "        return loader\n"
   ]
  },
  {
   "cell_type": "markdown",
   "id": "5f80938e",
   "metadata": {},
   "source": [
    "## Vision Transformer Wrapper Class"
   ]
  },
  {
   "cell_type": "code",
   "execution_count": 12,
   "id": "987f5d0b",
   "metadata": {},
   "outputs": [],
   "source": [
    "# =================================================================================\n",
    "# Vision Transformer GRQO Wrapper Class (Replaces the old ViTModel)\n",
    "# =================================================================================\n",
    "\n",
    "from transformers import ViTModel # <-- Note the change from ViTForImageClassification\n",
    "\n",
    "class ViT_GRQO_Model(nn.Module):\n",
    "    \"\"\"\n",
    "    A hybrid Vision Transformer (ViT) and Transformer Decoder model inspired by DETR/DINO.\n",
    "    This model adapts the architecture for a classification task trained with GRQO.\n",
    "    \"\"\"\n",
    "    def __init__(self,\n",
    "                 num_classes,\n",
    "                 model_size=\"base\",\n",
    "                 num_queries=30,\n",
    "                 num_decoder_layers=2,\n",
    "                 decoder_nhead=8):\n",
    "        \"\"\"\n",
    "        Initializes the hybrid model.\n",
    "\n",
    "        Args:\n",
    "            num_classes (int): The number of output classes.\n",
    "            model_size (str): The size of the ViT model ('base', 'small', 'tiny').\n",
    "            num_queries (int): The number of learnable \"object queries\" to use in the decoder.\n",
    "            num_decoder_layers (int): The number of layers in the Transformer Decoder.\n",
    "            decoder_nhead (int): The number of attention heads in the Transformer Decoder.\n",
    "        \"\"\"\n",
    "        super().__init__()\n",
    "        \n",
    "        model_name = MODELS[model_size]\n",
    "        \n",
    "        # 1. Load the ViT model as a feature extractor (backbone)\n",
    "        # We use ViTModel to get the raw hidden states, not the final classification output.\n",
    "        self.model = ViTModel.from_pretrained(model_name)\n",
    "        \n",
    "        # Get the embedding dimension from the ViT config\n",
    "        embed_dim = self.model.config.hidden_size\n",
    "        self.embed_dim = embed_dim\n",
    "        self.num_queries = num_queries\n",
    "\n",
    "        # 2. Create the learnable query embeddings\n",
    "        self.query_embed = nn.Embedding(num_queries, embed_dim)\n",
    "\n",
    "        # 3. Create the Transformer Decoder\n",
    "        decoder_layer = nn.TransformerDecoderLayer(\n",
    "            d_model=embed_dim,\n",
    "            nhead=decoder_nhead,\n",
    "            batch_first=True  # Important for easier tensor manipulation\n",
    "        )\n",
    "        self.decoder = nn.TransformerDecoder(decoder_layer, num_layers=num_decoder_layers)\n",
    "\n",
    "        # 4. Create the final classification head (MLP)\n",
    "        # This single head will be applied to the output of every query\n",
    "        self.classifier = nn.Linear(embed_dim, num_classes)\n",
    "        \n",
    "        print(f\"Initialized ViT-GRQO Model (ViT-{model_size}) with {num_queries} queries.\")\n",
    "\n",
    "    def forward(self, x: torch.Tensor) -> torch.Tensor:\n",
    "        \"\"\"\n",
    "        Defines the forward pass of the model.\n",
    "\n",
    "        Args:\n",
    "            x (torch.Tensor): Input batch of images with shape (batch_size, channels, height, width).\n",
    "\n",
    "        Returns:\n",
    "            torch.Tensor: Logits for each query, with shape (batch_size, num_queries, num_classes).\n",
    "        \"\"\"\n",
    "        # 1. Get image features from the ViT backbone\n",
    "        # We don't use the pooler output, just the sequence of patch embeddings\n",
    "        outputs = self.model(pixel_values=x)\n",
    "        patch_embeds = outputs.last_hidden_state # Shape: (batch_size, num_patches + 1, embed_dim)\n",
    "        \n",
    "        # We don't strictly need to remove the [CLS] token, but it's good practice\n",
    "        patch_embeds = patch_embeds[:, 1:, :] # Shape: (batch_size, num_patches, embed_dim)\n",
    "\n",
    "        # 2. Prepare the queries for the decoder\n",
    "        # Get the learnable query vectors and expand them for the batch\n",
    "        query_embed = self.query_embed.weight.unsqueeze(0).repeat(x.size(0), 1, 1)\n",
    "\n",
    "        # 3. Pass features and queries through the decoder\n",
    "        # `query_embed` is the target (tgt), `patch_embeds` is the memory\n",
    "        decoder_output = self.decoder(tgt=query_embed, memory=patch_embeds)\n",
    "        # Shape: (batch_size, num_queries, embed_dim)\n",
    "\n",
    "        # 4. Apply the classifier to each query's output\n",
    "        logits = self.classifier(decoder_output)\n",
    "        # Shape: (batch_size, num_queries, num_classes)\n",
    "\n",
    "        return logits"
   ]
  },
  {
   "cell_type": "markdown",
   "id": "64fb41f6",
   "metadata": {},
   "source": [
    "## Trainer Class"
   ]
  },
  {
   "cell_type": "code",
   "execution_count": 13,
   "id": "f19d88da",
   "metadata": {},
   "outputs": [],
   "source": [
    "# =================================================================================\n",
    "# Trainer Class (Final Version with Two-Stage Training)\n",
    "# =================================================================================\n",
    "import torch.nn.functional as F\n",
    "import copy\n",
    "\n",
    "class Trainer:\n",
    "    \"\"\"\n",
    "    A trainer class to handle the training and evaluation loop.\n",
    "    Implements a two-stage training process:\n",
    "    1. SFT Warm-up: Standard supervised fine-tuning for a set number of epochs.\n",
    "    2. GRQO Training: Reinforcement-style training with a composite loss.\n",
    "    \"\"\"\n",
    "    def __init__(self, model, optimizer, criterion, grqo_alpha=1.0, grqo_beta=0.05, warmup_epochs=1):\n",
    "        \"\"\"\n",
    "        Initializes the Trainer.\n",
    "\n",
    "        Args:\n",
    "            model: The model to be trained (ViT_GRQO_Model).\n",
    "            optimizer: The optimizer.\n",
    "            criterion: The base loss function (e.g., CrossEntropyLoss).\n",
    "            grqo_alpha (float): The weight for the GRQO policy loss.\n",
    "            grqo_beta (float): The weight for the KL-divergence regularization loss.\n",
    "            warmup_epochs (int): Number of epochs for the SFT warm-up phase.\n",
    "        \"\"\"\n",
    "        self.model = model.to(DEVICE)\n",
    "        self.optimizer = optimizer\n",
    "        self.criterion = criterion\n",
    "        \n",
    "        # Store GRQO and warm-up hyperparameters\n",
    "        self.alpha = grqo_alpha\n",
    "        self.beta = grqo_beta\n",
    "        self.warmup_epochs = warmup_epochs\n",
    "        \n",
    "        # Initialize the reference model placeholder\n",
    "        self.ref_model = None\n",
    "        \n",
    "        print(f\"Initialized Trainer with {self.warmup_epochs} SFT warm-up epoch(s).\")\n",
    "        print(f\"GRQO params (alpha={self.alpha}, beta={self.beta}) will activate after warm-up.\")\n",
    "        \n",
    "    def update_reference_model(self):\n",
    "        \"\"\"\n",
    "        Creates/updates a frozen, deep copy of the current model to be used as the\n",
    "        reference model for KL-divergence calculation.\n",
    "        \"\"\"\n",
    "        if self.ref_model is None:\n",
    "            print(\"--- Initializing reference model for GRQO phase ---\")\n",
    "            self.ref_model = copy.deepcopy(self.model)\n",
    "        else:\n",
    "            self.ref_model.load_state_dict(self.model.state_dict())\n",
    "        \n",
    "        # Freeze the reference model\n",
    "        self.ref_model.eval()\n",
    "        for param in self.ref_model.parameters():\n",
    "            param.requires_grad = False\n",
    "\n",
    "    def train(self, dataloader, current_epoch: int):\n",
    "        \"\"\"\n",
    "        Runs a single training epoch. The behavior depends on the current epoch.\n",
    "        \"\"\"\n",
    "        self.model.train()\n",
    "        total_loss_epoch = 0\n",
    "        \n",
    "        desc = f\"Epoch {current_epoch+1} (SFT Mode)\" if current_epoch < self.warmup_epochs else f\"Epoch {current_epoch+1} (GRQO Mode)\"\n",
    "\n",
    "        for inputs, labels in tqdm(dataloader, desc=desc):\n",
    "            inputs, labels = inputs.to(DEVICE), labels.to(DEVICE)\n",
    "\n",
    "            # --- SFT Warm-up Mode ---\n",
    "            if current_epoch < self.warmup_epochs:\n",
    "                # 1. Forward pass on active model\n",
    "                active_logits = self.model(inputs)\n",
    "                # 2. Average predictions for standard classification loss\n",
    "                avg_active_logits = active_logits.mean(dim=1)\n",
    "                # 3. Calculate simple SFT loss\n",
    "                total_loss = self.criterion(avg_active_logits, labels)\n",
    "\n",
    "            # --- GRQO Mode ---\n",
    "            else:\n",
    "                # --- Forward Passes ---\n",
    "                active_logits = self.model(inputs)\n",
    "                with torch.no_grad():\n",
    "                    ref_logits = self.ref_model(inputs)\n",
    "\n",
    "                # --- Loss Calculation ---\n",
    "                # Component 1: SFT Loss\n",
    "                avg_active_logits = active_logits.mean(dim=1)\n",
    "                loss_sft = self.criterion(avg_active_logits, labels)\n",
    "\n",
    "                # Component 2: GRQO Policy Loss\n",
    "                per_query_loss = F.cross_entropy(\n",
    "                    active_logits.permute(0, 2, 1), \n",
    "                    labels.unsqueeze(1).repeat(1, self.model.num_queries), \n",
    "                    reduction='none'\n",
    "                )\n",
    "                rewards = -per_query_loss\n",
    "                advantages = ((rewards - rewards.mean(dim=1, keepdim=True)) / \n",
    "                              (rewards.std(dim=1, keepdim=True) + 1e-9)).detach()\n",
    "                log_probs = F.log_softmax(active_logits, dim=-1)\n",
    "                gt_log_probs = log_probs.gather(2, labels.view(-1, 1, 1).repeat(1, self.model.num_queries, 1)).squeeze(-1)\n",
    "                loss_grqo = - (advantages * gt_log_probs).mean()\n",
    "                \n",
    "                # Component 3: KL-Divergence Loss\n",
    "                loss_kl = F.kl_div(\n",
    "                    F.log_softmax(active_logits, dim=-1),\n",
    "                    F.softmax(ref_logits.detach(), dim=-1),\n",
    "                    reduction='batchmean'\n",
    "                )\n",
    "                \n",
    "                # --- Total Composite Loss ---\n",
    "                total_loss = loss_sft + self.alpha * loss_grqo + self.beta * loss_kl\n",
    "            \n",
    "            # --- Backpropagation (common to both modes) ---\n",
    "            self.optimizer.zero_grad()\n",
    "            total_loss.backward()\n",
    "            self.optimizer.step()\n",
    "            \n",
    "            total_loss_epoch += total_loss.item()\n",
    "            \n",
    "        return total_loss_epoch / len(dataloader)\n",
    "\n",
    "    def evaluate(self, dataloader):\n",
    "        \"\"\"\n",
    "        Runs a single evaluation epoch (no changes needed here).\n",
    "        \"\"\"\n",
    "        self.model.eval()\n",
    "        total_correct = 0\n",
    "        total = 0\n",
    "        with torch.no_grad():\n",
    "            for inputs, labels in tqdm(dataloader, desc=\"Evaluating\"):\n",
    "                inputs, labels = inputs.to(DEVICE), labels.to(DEVICE)\n",
    "                outputs = self.model(inputs)\n",
    "                avg_outputs = outputs.mean(dim=1)\n",
    "                preds = torch.argmax(avg_outputs, dim=1)\n",
    "                total_correct += (preds == labels).sum().item()\n",
    "                total += labels.size(0)\n",
    "        return total_correct / total"
   ]
  },
  {
   "cell_type": "markdown",
   "id": "2d062397",
   "metadata": {},
   "source": [
    "## Base ViT"
   ]
  },
  {
   "cell_type": "markdown",
   "id": "49b7bf8b",
   "metadata": {},
   "source": [
    "### Leave-One-Domain-Out (LODO) Training"
   ]
  },
  {
   "cell_type": "code",
   "execution_count": 14,
   "id": "e9160f49",
   "metadata": {},
   "outputs": [
    {
     "name": "stdout",
     "output_type": "stream",
     "text": [
      "---[ViT Base]--- Testing on domain: art_painting ---\n",
      "Initialized ViT-GRQO Model (ViT-base) with 30 queries.\n",
      "Initialized Trainer with 1 SFT warm-up epoch(s).\n",
      "GRQO params (alpha=1.0, beta=0.05) will activate after warm-up.\n"
     ]
    },
    {
     "name": "stderr",
     "output_type": "stream",
     "text": [
      "Epoch 1 (SFT Mode): 100%|██████████| 265/265 [00:34<00:00,  7.68it/s]\n",
      "Evaluating: 100%|██████████| 67/67 [00:04<00:00, 15.91it/s]\n"
     ]
    },
    {
     "name": "stdout",
     "output_type": "stream",
     "text": [
      "Epoch 1/5 -> Train Loss: 0.3773 | Val Acc: 0.9597\n",
      "--- Initializing reference model for GRQO phase ---\n"
     ]
    },
    {
     "name": "stderr",
     "output_type": "stream",
     "text": [
      "Epoch 2 (GRQO Mode): 100%|██████████| 265/265 [00:43<00:00,  6.14it/s]\n",
      "Evaluating: 100%|██████████| 67/67 [00:04<00:00, 15.97it/s]\n"
     ]
    },
    {
     "name": "stdout",
     "output_type": "stream",
     "text": [
      "Epoch 2/5 -> Train Loss: -4.5197 | Val Acc: 0.9377\n"
     ]
    },
    {
     "name": "stderr",
     "output_type": "stream",
     "text": [
      "Epoch 3 (GRQO Mode): 100%|██████████| 265/265 [00:43<00:00,  6.12it/s]\n",
      "Evaluating: 100%|██████████| 67/67 [00:04<00:00, 15.98it/s]\n"
     ]
    },
    {
     "name": "stdout",
     "output_type": "stream",
     "text": [
      "Epoch 3/5 -> Train Loss: -19.0617 | Val Acc: 0.9421\n"
     ]
    },
    {
     "name": "stderr",
     "output_type": "stream",
     "text": [
      "Epoch 4 (GRQO Mode): 100%|██████████| 265/265 [00:43<00:00,  6.13it/s]\n",
      "Evaluating: 100%|██████████| 67/67 [00:04<00:00, 16.01it/s]\n"
     ]
    },
    {
     "name": "stdout",
     "output_type": "stream",
     "text": [
      "Epoch 4/5 -> Train Loss: -30.7204 | Val Acc: 0.9566\n"
     ]
    },
    {
     "name": "stderr",
     "output_type": "stream",
     "text": [
      "Epoch 5 (GRQO Mode): 100%|██████████| 265/265 [00:43<00:00,  6.12it/s]\n",
      "Evaluating: 100%|██████████| 67/67 [00:04<00:00, 16.03it/s]\n"
     ]
    },
    {
     "name": "stdout",
     "output_type": "stream",
     "text": [
      "Epoch 5/5 -> Train Loss: -42.3768 | Val Acc: 0.9465\n"
     ]
    },
    {
     "name": "stderr",
     "output_type": "stream",
     "text": [
      "Evaluating: 100%|██████████| 18/18 [00:01<00:00, 15.99it/s]\n"
     ]
    },
    {
     "name": "stdout",
     "output_type": "stream",
     "text": [
      "Final Test Accuracy on art_painting: 0.8000\n",
      "\n",
      "---[ViT Base]--- Testing on domain: cartoon ---\n",
      "Initialized ViT-GRQO Model (ViT-base) with 30 queries.\n",
      "Initialized Trainer with 1 SFT warm-up epoch(s).\n",
      "GRQO params (alpha=1.0, beta=0.05) will activate after warm-up.\n"
     ]
    },
    {
     "name": "stderr",
     "output_type": "stream",
     "text": [
      "Epoch 1 (SFT Mode): 100%|██████████| 255/255 [00:33<00:00,  7.68it/s]\n",
      "Evaluating: 100%|██████████| 64/64 [00:04<00:00, 15.78it/s]\n"
     ]
    },
    {
     "name": "stdout",
     "output_type": "stream",
     "text": [
      "Epoch 1/5 -> Train Loss: 0.3344 | Val Acc: 0.9477\n",
      "--- Initializing reference model for GRQO phase ---\n"
     ]
    },
    {
     "name": "stderr",
     "output_type": "stream",
     "text": [
      "Epoch 2 (GRQO Mode): 100%|██████████| 255/255 [00:40<00:00,  6.27it/s]\n",
      "Evaluating: 100%|██████████| 64/64 [00:03<00:00, 16.61it/s]\n"
     ]
    },
    {
     "name": "stdout",
     "output_type": "stream",
     "text": [
      "Epoch 2/5 -> Train Loss: -5.4712 | Val Acc: 0.9033\n"
     ]
    },
    {
     "name": "stderr",
     "output_type": "stream",
     "text": [
      "Epoch 3 (GRQO Mode): 100%|██████████| 255/255 [00:39<00:00,  6.45it/s]\n",
      "Evaluating: 100%|██████████| 64/64 [00:03<00:00, 16.52it/s]\n"
     ]
    },
    {
     "name": "stdout",
     "output_type": "stream",
     "text": [
      "Epoch 3/5 -> Train Loss: -23.5449 | Val Acc: 0.8719\n"
     ]
    },
    {
     "name": "stderr",
     "output_type": "stream",
     "text": [
      "Epoch 4 (GRQO Mode): 100%|██████████| 255/255 [00:39<00:00,  6.44it/s]\n",
      "Evaluating: 100%|██████████| 64/64 [00:03<00:00, 16.62it/s]\n"
     ]
    },
    {
     "name": "stdout",
     "output_type": "stream",
     "text": [
      "Epoch 4/5 -> Train Loss: -38.6678 | Val Acc: 0.9013\n"
     ]
    },
    {
     "name": "stderr",
     "output_type": "stream",
     "text": [
      "Epoch 5 (GRQO Mode): 100%|██████████| 255/255 [00:39<00:00,  6.46it/s]\n",
      "Evaluating: 100%|██████████| 64/64 [00:03<00:00, 16.61it/s]\n"
     ]
    },
    {
     "name": "stdout",
     "output_type": "stream",
     "text": [
      "Epoch 5/5 -> Train Loss: -54.0990 | Val Acc: 0.8974\n"
     ]
    },
    {
     "name": "stderr",
     "output_type": "stream",
     "text": [
      "Evaluating: 100%|██████████| 20/20 [00:01<00:00, 16.80it/s]\n"
     ]
    },
    {
     "name": "stdout",
     "output_type": "stream",
     "text": [
      "Final Test Accuracy on cartoon: 0.7356\n",
      "\n",
      "---[ViT Base]--- Testing on domain: photo ---\n",
      "Initialized ViT-GRQO Model (ViT-base) with 30 queries.\n",
      "Initialized Trainer with 1 SFT warm-up epoch(s).\n",
      "GRQO params (alpha=1.0, beta=0.05) will activate after warm-up.\n"
     ]
    },
    {
     "name": "stderr",
     "output_type": "stream",
     "text": [
      "Epoch 1 (SFT Mode): 100%|██████████| 278/278 [00:34<00:00,  8.17it/s]\n",
      "Evaluating: 100%|██████████| 70/70 [00:04<00:00, 16.68it/s]\n"
     ]
    },
    {
     "name": "stdout",
     "output_type": "stream",
     "text": [
      "Epoch 1/5 -> Train Loss: 0.3877 | Val Acc: 0.9483\n",
      "--- Initializing reference model for GRQO phase ---\n"
     ]
    },
    {
     "name": "stderr",
     "output_type": "stream",
     "text": [
      "Epoch 2 (GRQO Mode): 100%|██████████| 278/278 [00:43<00:00,  6.47it/s]\n",
      "Evaluating: 100%|██████████| 70/70 [00:04<00:00, 15.88it/s]\n"
     ]
    },
    {
     "name": "stdout",
     "output_type": "stream",
     "text": [
      "Epoch 2/5 -> Train Loss: -5.4909 | Val Acc: 0.9574\n"
     ]
    },
    {
     "name": "stderr",
     "output_type": "stream",
     "text": [
      "Epoch 3 (GRQO Mode): 100%|██████████| 278/278 [00:43<00:00,  6.43it/s]\n",
      "Evaluating: 100%|██████████| 70/70 [00:04<00:00, 16.41it/s]\n"
     ]
    },
    {
     "name": "stdout",
     "output_type": "stream",
     "text": [
      "Epoch 3/5 -> Train Loss: -25.4545 | Val Acc: 0.8733\n"
     ]
    },
    {
     "name": "stderr",
     "output_type": "stream",
     "text": [
      "Epoch 4 (GRQO Mode): 100%|██████████| 278/278 [00:43<00:00,  6.43it/s]\n",
      "Evaluating: 100%|██████████| 70/70 [00:04<00:00, 16.35it/s]\n"
     ]
    },
    {
     "name": "stdout",
     "output_type": "stream",
     "text": [
      "Epoch 4/5 -> Train Loss: -42.2980 | Val Acc: 0.9099\n"
     ]
    },
    {
     "name": "stderr",
     "output_type": "stream",
     "text": [
      "Epoch 5 (GRQO Mode): 100%|██████████| 278/278 [00:43<00:00,  6.42it/s]\n",
      "Evaluating: 100%|██████████| 70/70 [00:04<00:00, 16.25it/s]\n"
     ]
    },
    {
     "name": "stdout",
     "output_type": "stream",
     "text": [
      "Epoch 5/5 -> Train Loss: -59.1999 | Val Acc: 0.9471\n"
     ]
    },
    {
     "name": "stderr",
     "output_type": "stream",
     "text": [
      "Evaluating: 100%|██████████| 14/14 [00:00<00:00, 15.83it/s]\n"
     ]
    },
    {
     "name": "stdout",
     "output_type": "stream",
     "text": [
      "Final Test Accuracy on photo: 0.9790\n",
      "\n",
      "---[ViT Base]--- Testing on domain: sketch ---\n",
      "Initialized ViT-GRQO Model (ViT-base) with 30 queries.\n",
      "Initialized Trainer with 1 SFT warm-up epoch(s).\n",
      "GRQO params (alpha=1.0, beta=0.05) will activate after warm-up.\n"
     ]
    },
    {
     "name": "stderr",
     "output_type": "stream",
     "text": [
      "Epoch 1 (SFT Mode): 100%|██████████| 203/203 [00:25<00:00,  8.04it/s]\n",
      "Evaluating: 100%|██████████| 51/51 [00:03<00:00, 15.92it/s]\n"
     ]
    },
    {
     "name": "stdout",
     "output_type": "stream",
     "text": [
      "Epoch 1/5 -> Train Loss: 0.3142 | Val Acc: 0.9489\n",
      "--- Initializing reference model for GRQO phase ---\n"
     ]
    },
    {
     "name": "stderr",
     "output_type": "stream",
     "text": [
      "Epoch 2 (GRQO Mode): 100%|██████████| 203/203 [00:31<00:00,  6.40it/s]\n",
      "Evaluating: 100%|██████████| 51/51 [00:03<00:00, 16.32it/s]\n"
     ]
    },
    {
     "name": "stdout",
     "output_type": "stream",
     "text": [
      "Epoch 2/5 -> Train Loss: -3.2143 | Val Acc: 0.9250\n"
     ]
    },
    {
     "name": "stderr",
     "output_type": "stream",
     "text": [
      "Epoch 3 (GRQO Mode): 100%|██████████| 203/203 [00:31<00:00,  6.41it/s]\n",
      "Evaluating: 100%|██████████| 51/51 [00:03<00:00, 15.84it/s]\n"
     ]
    },
    {
     "name": "stdout",
     "output_type": "stream",
     "text": [
      "Epoch 3/5 -> Train Loss: -13.8657 | Val Acc: 0.9357\n"
     ]
    },
    {
     "name": "stderr",
     "output_type": "stream",
     "text": [
      "Epoch 4 (GRQO Mode): 100%|██████████| 203/203 [00:31<00:00,  6.41it/s]\n",
      "Evaluating: 100%|██████████| 51/51 [00:03<00:00, 15.80it/s]\n"
     ]
    },
    {
     "name": "stdout",
     "output_type": "stream",
     "text": [
      "Epoch 4/5 -> Train Loss: -21.9591 | Val Acc: 0.9373\n"
     ]
    },
    {
     "name": "stderr",
     "output_type": "stream",
     "text": [
      "Epoch 5 (GRQO Mode): 100%|██████████| 203/203 [00:31<00:00,  6.38it/s]\n",
      "Evaluating: 100%|██████████| 51/51 [00:03<00:00, 15.81it/s]\n"
     ]
    },
    {
     "name": "stdout",
     "output_type": "stream",
     "text": [
      "Epoch 5/5 -> Train Loss: -29.2969 | Val Acc: 0.8079\n"
     ]
    },
    {
     "name": "stderr",
     "output_type": "stream",
     "text": [
      "Evaluating: 100%|██████████| 33/33 [00:02<00:00, 16.28it/s]\n"
     ]
    },
    {
     "name": "stdout",
     "output_type": "stream",
     "text": [
      "Final Test Accuracy on sketch: 0.2786\n",
      "\n",
      "\n",
      "---[ViT Base]--- Baseline: training on all domains with GRQO ---\n",
      "Initialized ViT-GRQO Model (ViT-base) with 30 queries.\n",
      "Initialized Trainer with 1 SFT warm-up epoch(s).\n",
      "GRQO params (alpha=1.0, beta=0.05) will activate after warm-up.\n"
     ]
    },
    {
     "name": "stderr",
     "output_type": "stream",
     "text": [
      "Epoch 1 (SFT Mode): 100%|██████████| 333/333 [00:41<00:00,  8.09it/s]\n",
      "Evaluating: 100%|██████████| 84/84 [00:05<00:00, 15.81it/s]\n"
     ]
    },
    {
     "name": "stdout",
     "output_type": "stream",
     "text": [
      "Epoch 1/5 -> Baseline Loss: 0.3286 | Baseline Acc: 0.9450\n",
      "--- Initializing reference model for GRQO phase ---\n"
     ]
    },
    {
     "name": "stderr",
     "output_type": "stream",
     "text": [
      "Epoch 2 (GRQO Mode): 100%|██████████| 333/333 [00:52<00:00,  6.40it/s]\n",
      "Evaluating: 100%|██████████| 84/84 [00:05<00:00, 16.16it/s]\n"
     ]
    },
    {
     "name": "stdout",
     "output_type": "stream",
     "text": [
      "Epoch 2/5 -> Baseline Loss: -6.1894 | Baseline Acc: 0.8914\n"
     ]
    },
    {
     "name": "stderr",
     "output_type": "stream",
     "text": [
      "Epoch 3 (GRQO Mode): 100%|██████████| 333/333 [00:52<00:00,  6.40it/s]\n",
      "Evaluating: 100%|██████████| 84/84 [00:05<00:00, 16.03it/s]\n"
     ]
    },
    {
     "name": "stdout",
     "output_type": "stream",
     "text": [
      "Epoch 3/5 -> Baseline Loss: -23.9778 | Baseline Acc: 0.9265\n"
     ]
    },
    {
     "name": "stderr",
     "output_type": "stream",
     "text": [
      "Epoch 4 (GRQO Mode): 100%|██████████| 333/333 [00:51<00:00,  6.42it/s]\n",
      "Evaluating: 100%|██████████| 84/84 [00:05<00:00, 16.00it/s]\n"
     ]
    },
    {
     "name": "stdout",
     "output_type": "stream",
     "text": [
      "Epoch 4/5 -> Baseline Loss: -39.4653 | Baseline Acc: 0.9010\n"
     ]
    },
    {
     "name": "stderr",
     "output_type": "stream",
     "text": [
      "Epoch 5 (GRQO Mode): 100%|██████████| 333/333 [00:52<00:00,  6.39it/s]\n",
      "Evaluating: 100%|██████████| 84/84 [00:05<00:00, 16.06it/s]\n"
     ]
    },
    {
     "name": "stdout",
     "output_type": "stream",
     "text": [
      "Epoch 5/5 -> Baseline Loss: -55.2839 | Baseline Acc: 0.9025\n"
     ]
    },
    {
     "name": "stderr",
     "output_type": "stream",
     "text": [
      "Evaluating: 100%|██████████| 84/84 [00:05<00:00, 16.08it/s]"
     ]
    },
    {
     "name": "stdout",
     "output_type": "stream",
     "text": [
      "Final Baseline Test Accuracy: 0.9025\n",
      "\n"
     ]
    },
    {
     "name": "stderr",
     "output_type": "stream",
     "text": [
      "\n"
     ]
    }
   ],
   "source": [
    "# =================================================================================\n",
    "# GRQO + ViT Base Leave-One-Domain-Out (LODO) Training (Corrected)\n",
    "# =================================================================================\n",
    "\n",
    "# Define the image transform\n",
    "transform = transforms.Compose([\n",
    "    transforms.Resize((224, 224)),\n",
    "    transforms.ToTensor(),\n",
    "    transforms.Normalize(mean=[0.5, 0.5, 0.5], std=[0.5, 0.5, 0.5])\n",
    "])\n",
    "\n",
    "results_base = {}\n",
    "for test_domain in DOMAINS:\n",
    "    print(f\"---[ViT Base]--- Testing on domain: {test_domain} ---\")\n",
    "    train_domains = [d for d in DOMAINS if d != test_domain]\n",
    "    dataset = PACSDataset(DATA_ROOT, DOMAINS, transform)\n",
    "    train_loaders = [dataset.get_dataloader(d, train=True) for d in train_domains]\n",
    "    val_loaders = [dataset.get_dataloader(d, train=False) for d in train_domains]\n",
    "    test_loader = dataset.get_dataloader(test_domain, train=False)\n",
    "    train_ds = ConcatDataset([dl.dataset for dl in train_loaders])\n",
    "    val_ds = ConcatDataset([dl.dataset for dl in val_loaders])\n",
    "    train_loader = DataLoader(train_ds, batch_size=BATCH_SIZE, shuffle=True)\n",
    "    val_loader = DataLoader(val_ds, batch_size=BATCH_SIZE, shuffle=False)\n",
    "    \n",
    "    model_base = ViT_GRQO_Model(NUM_CLASSES, \"base\", NUM_QUERIES, NUM_DECODER_LAYERS, DECODER_NHEAD)\n",
    "    optimizer = optim.Adam(model_base.parameters(), lr=1e-4)\n",
    "    criterion = nn.CrossEntropyLoss()\n",
    "    trainer = Trainer(model_base, optimizer, criterion, GRQO_ALPHA, GRQO_BETA, WARMUP_EPOCHS)\n",
    "\n",
    "    for epoch in range(NUM_EPOCHS):\n",
    "        if epoch >= WARMUP_EPOCHS:\n",
    "            trainer.update_reference_model()\n",
    "        \n",
    "        train_loss_base = trainer.train(train_loader, current_epoch=epoch)\n",
    "        val_acc_base = trainer.evaluate(val_loader)\n",
    "        print(f\"Epoch {epoch+1}/{NUM_EPOCHS} -> Train Loss: {train_loss_base:.4f} | Val Acc: {val_acc_base:.4f}\")\n",
    "\n",
    "    test_acc_base = trainer.evaluate(test_loader)\n",
    "    results_base[test_domain] = test_acc_base\n",
    "    print(f\"Final Test Accuracy on {test_domain}: {test_acc_base:.4f}\\n\")\n",
    "\n",
    "# --- ViT Base Baseline ---\n",
    "print(\"\\n---[ViT Base]--- Baseline: training on all domains with GRQO ---\")\n",
    "dataset_all = PACSDataset(DATA_ROOT, DOMAINS, transform)\n",
    "all_train_loaders = [dataset_all.get_dataloader(d, train=True) for d in DOMAINS]\n",
    "all_test_loaders = [dataset_all.get_dataloader(d, train=False) for d in DOMAINS]\n",
    "full_train_ds = ConcatDataset([dl.dataset for dl in all_train_loaders])\n",
    "full_test_ds = ConcatDataset([dl.dataset for dl in all_test_loaders])\n",
    "full_train_loader = DataLoader(full_train_ds, batch_size=BATCH_SIZE, shuffle=True)\n",
    "full_test_loader = DataLoader(full_test_ds, batch_size=BATCH_SIZE, shuffle=False)\n",
    "\n",
    "baseline_model_base = ViT_GRQO_Model(NUM_CLASSES, \"base\", NUM_QUERIES, NUM_DECODER_LAYERS, DECODER_NHEAD)\n",
    "baseline_optimizer = optim.Adam(baseline_model_base.parameters(), lr=1e-4)\n",
    "baseline_criterion = nn.CrossEntropyLoss()\n",
    "baseline_trainer = Trainer(baseline_model_base, baseline_optimizer, baseline_criterion, GRQO_ALPHA, GRQO_BETA, WARMUP_EPOCHS)\n",
    "\n",
    "for epoch in range(NUM_EPOCHS):\n",
    "    if epoch >= WARMUP_EPOCHS:\n",
    "        baseline_trainer.update_reference_model()\n",
    "    \n",
    "    baseline_loss_base = baseline_trainer.train(full_train_loader, current_epoch=epoch)\n",
    "    baseline_val_acc_base = baseline_trainer.evaluate(full_test_loader)\n",
    "    print(f\"Epoch {epoch+1}/{NUM_EPOCHS} -> Baseline Loss: {baseline_loss_base:.4f} | Baseline Acc: {baseline_val_acc_base:.4f}\")\n",
    "\n",
    "baseline_test_acc_base = baseline_trainer.evaluate(full_test_loader)\n",
    "results_base['baseline_all_domains'] = baseline_test_acc_base\n",
    "print(f\"Final Baseline Test Accuracy: {baseline_test_acc_base:.4f}\\n\")"
   ]
  },
  {
   "cell_type": "markdown",
   "id": "26878179",
   "metadata": {},
   "source": [
    "### Baseline"
   ]
  },
  {
   "cell_type": "code",
   "execution_count": 15,
   "id": "25bd8d90",
   "metadata": {},
   "outputs": [],
   "source": [
    "# # =================================================================================\n",
    "# # GRQO + ViT Base Baseline Training (All Domains)\n",
    "# # =================================================================================\n",
    "\n",
    "# print(\"\\n--- Baseline: training on all domains with GRQO and testing on mixed domains ---\")\n",
    "\n",
    "# # --- Load full train and test sets ---\n",
    "# dataset_all = PACSDataset(DATA_ROOT, DOMAINS, transform)\n",
    "# all_train_loaders = [dataset_all.get_dataloader(d, train=True) for d in DOMAINS]\n",
    "# all_test_loaders = [dataset_all.get_dataloader(d, train=False) for d in DOMAINS]\n",
    "\n",
    "# # --- Concatenate ---\n",
    "# full_train_ds = ConcatDataset([dl.dataset for dl in all_train_loaders])\n",
    "# full_test_ds = ConcatDataset([dl.dataset for dl in all_test_loaders])\n",
    "\n",
    "# full_train_loader = DataLoader(full_train_ds, batch_size=BATCH_SIZE, shuffle=True)\n",
    "# full_test_loader = DataLoader(full_test_ds, batch_size=BATCH_SIZE, shuffle=False)\n",
    "\n",
    "# # --- Initialize baseline model with GRQO ---\n",
    "# baseline_model_base = ViT_GRQO_Model(\n",
    "#     num_classes=NUM_CLASSES, \n",
    "#     model_size=\"base\",\n",
    "#     num_queries=NUM_QUERIES,\n",
    "#     num_decoder_layers=NUM_DECODER_LAYERS,\n",
    "#     decoder_nhead=DECODER_NHEAD\n",
    "# )\n",
    "# baseline_optimizer = optim.Adam(baseline_model_base.parameters(), lr=1e-4)\n",
    "# baseline_criterion = nn.CrossEntropyLoss()\n",
    "\n",
    "# # Use the new Trainer with GRQO parameters\n",
    "# baseline_trainer = Trainer(\n",
    "#     baseline_model_base, \n",
    "#     baseline_optimizer, \n",
    "#     baseline_criterion,\n",
    "#     grqo_alpha=GRQO_ALPHA, \n",
    "#     grqo_beta=GRQO_BETA\n",
    "# )\n",
    "\n",
    "# # --- Train baseline ---\n",
    "# for epoch in range(NUM_EPOCHS):\n",
    "#     print(f\"Baseline Epoch {epoch + 1}/{NUM_EPOCHS}\")\n",
    "    \n",
    "#     # !! CRITICAL STEP !! Update the reference model at the start of each epoch\n",
    "#     baseline_trainer.update_reference_model()\n",
    "\n",
    "#     baseline_loss_base = baseline_trainer.train(full_train_loader)\n",
    "#     baseline_val_acc_base = baseline_trainer.evaluate(full_test_loader)\n",
    "#     print(f\"Baseline Loss: {baseline_loss_base:.4f} | Baseline Acc: {baseline_val_acc_base:.4f}\")\n",
    "\n",
    "# # --- Test baseline ---\n",
    "# baseline_test_acc_base = baseline_trainer.evaluate(full_test_loader)\n",
    "\n",
    "# # Store the result in the same dictionary for easy plotting\n",
    "# results_base['baseline_all_domains'] = baseline_test_acc_base\n",
    "# print(f\"Baseline Test Accuracy: {baseline_test_acc_base:.4f}\")"
   ]
  },
  {
   "cell_type": "markdown",
   "id": "81b07ec8",
   "metadata": {},
   "source": [
    "### Visual Comparison"
   ]
  },
  {
   "cell_type": "code",
   "execution_count": 16,
   "id": "f0ea7a15",
   "metadata": {},
   "outputs": [
    {
     "data": {
      "image/png": "[encoded data removed]",
      "text/plain": [
       "<Figure size 640x480 with 1 Axes>"
      ]
     },
     "metadata": {},
     "output_type": "display_data"
    }
   ],
   "source": [
    "domains = list(results_base.keys())\n",
    "accuracies = [results_base[d] for d in domains]\n",
    "\n",
    "plt.figure()\n",
    "plt.bar(domains, accuracies)\n",
    "plt.xticks(rotation=45, ha='right')\n",
    "plt.ylabel('Accuracy')\n",
    "plt.title('Leave-One-Domain-Out vs. Baseline Accuracy (ViT Base)')\n",
    "plt.tight_layout()\n",
    "plt.show()"
   ]
  },
  {
   "cell_type": "markdown",
   "id": "1219b106",
   "metadata": {},
   "source": [
    "### Final Results"
   ]
  },
  {
   "cell_type": "code",
   "execution_count": 17,
   "id": "27dfd426",
   "metadata": {},
   "outputs": [
    {
     "name": "stdout",
     "output_type": "stream",
     "text": [
      "\\Final Results (LODO Accuracy):\n",
      "art_painting: 0.8000\n",
      "cartoon: 0.7356\n",
      "photo: 0.9790\n",
      "sketch: 0.2786\n",
      "baseline_all_domains: 0.9025\n",
      "\n",
      "Average Accuracy: 0.7391\n"
     ]
    },
    {
     "name": "stderr",
     "output_type": "stream",
     "text": [
      "<>:1: SyntaxWarning: invalid escape sequence '\\F'\n",
      "<>:1: SyntaxWarning: invalid escape sequence '\\F'\n",
      "C:\\Users\\Haseeb\\AppData\\Local\\Temp\\ipykernel_12940\\165815634.py:1: SyntaxWarning: invalid escape sequence '\\F'\n",
      "  print(\"\\Final Results (LODO Accuracy):\")\n"
     ]
    }
   ],
   "source": [
    "\n",
    "print(\"\\Final Results (LODO Accuracy):\")\n",
    "for domain, acc in results_base.items():\n",
    "    print(f\"{domain}: {acc:.4f}\")\n",
    "\n",
    "avg_acc = sum(results_base.values()) / len(results_base)\n",
    "print(f\"\\nAverage Accuracy: {avg_acc:.4f}\")\n"
   ]
  },
  {
   "cell_type": "markdown",
   "id": "4ca82a22",
   "metadata": {},
   "source": [
    "## WinKawaks/ViT Small"
   ]
  },
  {
   "cell_type": "markdown",
   "id": "df669c42",
   "metadata": {},
   "source": [
    "### Leave-One-Domain-Out (LODO) Training"
   ]
  },
  {
   "cell_type": "code",
   "execution_count": 18,
   "id": "95cc334e",
   "metadata": {},
   "outputs": [
    {
     "name": "stdout",
     "output_type": "stream",
     "text": [
      "---[ViT Small]--- Testing on domain: art_painting ---\n"
     ]
    },
    {
     "name": "stderr",
     "output_type": "stream",
     "text": [
      "Some weights of ViTModel were not initialized from the model checkpoint at WinKawaks/vit-small-patch16-224 and are newly initialized: ['pooler.dense.bias', 'pooler.dense.weight']\n",
      "You should probably TRAIN this model on a down-stream task to be able to use it for predictions and inference.\n"
     ]
    },
    {
     "name": "stdout",
     "output_type": "stream",
     "text": [
      "Initialized ViT-GRQO Model (ViT-small) with 30 queries.\n",
      "Initialized Trainer with 1 SFT warm-up epoch(s).\n",
      "GRQO params (alpha=1.0, beta=0.05) will activate after warm-up.\n"
     ]
    },
    {
     "name": "stderr",
     "output_type": "stream",
     "text": [
      "Epoch 1 (SFT Mode): 100%|██████████| 265/265 [00:18<00:00, 14.55it/s]\n",
      "Evaluating: 100%|██████████| 67/67 [00:02<00:00, 22.78it/s]\n"
     ]
    },
    {
     "name": "stdout",
     "output_type": "stream",
     "text": [
      "Epoch 1/5 -> Train Loss: 0.3131 | Val Acc: 0.9471\n",
      "--- Initializing reference model for GRQO phase ---\n"
     ]
    },
    {
     "name": "stderr",
     "output_type": "stream",
     "text": [
      "Epoch 2 (GRQO Mode): 100%|██████████| 265/265 [00:21<00:00, 12.56it/s]\n",
      "Evaluating: 100%|██████████| 67/67 [00:02<00:00, 22.94it/s]\n"
     ]
    },
    {
     "name": "stdout",
     "output_type": "stream",
     "text": [
      "Epoch 2/5 -> Train Loss: -1.7432 | Val Acc: 0.9484\n"
     ]
    },
    {
     "name": "stderr",
     "output_type": "stream",
     "text": [
      "Epoch 3 (GRQO Mode): 100%|██████████| 265/265 [00:21<00:00, 12.59it/s]\n",
      "Evaluating: 100%|██████████| 67/67 [00:03<00:00, 22.16it/s]\n"
     ]
    },
    {
     "name": "stdout",
     "output_type": "stream",
     "text": [
      "Epoch 3/5 -> Train Loss: -10.5081 | Val Acc: 0.9509\n"
     ]
    },
    {
     "name": "stderr",
     "output_type": "stream",
     "text": [
      "Epoch 4 (GRQO Mode): 100%|██████████| 265/265 [00:21<00:00, 12.49it/s]\n",
      "Evaluating: 100%|██████████| 67/67 [00:03<00:00, 21.58it/s]\n"
     ]
    },
    {
     "name": "stdout",
     "output_type": "stream",
     "text": [
      "Epoch 4/5 -> Train Loss: -17.6193 | Val Acc: 0.9452\n"
     ]
    },
    {
     "name": "stderr",
     "output_type": "stream",
     "text": [
      "Epoch 5 (GRQO Mode): 100%|██████████| 265/265 [00:21<00:00, 12.50it/s]\n",
      "Evaluating: 100%|██████████| 67/67 [00:03<00:00, 22.23it/s]\n"
     ]
    },
    {
     "name": "stdout",
     "output_type": "stream",
     "text": [
      "Epoch 5/5 -> Train Loss: -24.8715 | Val Acc: 0.9069\n"
     ]
    },
    {
     "name": "stderr",
     "output_type": "stream",
     "text": [
      "Evaluating: 100%|██████████| 18/18 [00:00<00:00, 21.34it/s]\n"
     ]
    },
    {
     "name": "stdout",
     "output_type": "stream",
     "text": [
      "Final Test Accuracy on art_painting: 0.7122\n",
      "\n",
      "---[ViT Small]--- Testing on domain: cartoon ---\n"
     ]
    },
    {
     "name": "stderr",
     "output_type": "stream",
     "text": [
      "Some weights of ViTModel were not initialized from the model checkpoint at WinKawaks/vit-small-patch16-224 and are newly initialized: ['pooler.dense.bias', 'pooler.dense.weight']\n",
      "You should probably TRAIN this model on a down-stream task to be able to use it for predictions and inference.\n"
     ]
    },
    {
     "name": "stdout",
     "output_type": "stream",
     "text": [
      "Initialized ViT-GRQO Model (ViT-small) with 30 queries.\n",
      "Initialized Trainer with 1 SFT warm-up epoch(s).\n",
      "GRQO params (alpha=1.0, beta=0.05) will activate after warm-up.\n"
     ]
    },
    {
     "name": "stderr",
     "output_type": "stream",
     "text": [
      "Epoch 1 (SFT Mode): 100%|██████████| 255/255 [00:17<00:00, 14.56it/s]\n",
      "Evaluating: 100%|██████████| 64/64 [00:02<00:00, 22.56it/s]\n"
     ]
    },
    {
     "name": "stdout",
     "output_type": "stream",
     "text": [
      "Epoch 1/5 -> Train Loss: 0.3201 | Val Acc: 0.9346\n",
      "--- Initializing reference model for GRQO phase ---\n"
     ]
    },
    {
     "name": "stderr",
     "output_type": "stream",
     "text": [
      "Epoch 2 (GRQO Mode): 100%|██████████| 255/255 [00:20<00:00, 12.53it/s]\n",
      "Evaluating: 100%|██████████| 64/64 [00:02<00:00, 22.90it/s]\n"
     ]
    },
    {
     "name": "stdout",
     "output_type": "stream",
     "text": [
      "Epoch 2/5 -> Train Loss: -1.1824 | Val Acc: 0.9431\n"
     ]
    },
    {
     "name": "stderr",
     "output_type": "stream",
     "text": [
      "Epoch 3 (GRQO Mode): 100%|██████████| 255/255 [00:20<00:00, 12.55it/s]\n",
      "Evaluating: 100%|██████████| 64/64 [00:02<00:00, 22.45it/s]\n"
     ]
    },
    {
     "name": "stdout",
     "output_type": "stream",
     "text": [
      "Epoch 3/5 -> Train Loss: -7.1439 | Val Acc: 0.9163\n"
     ]
    },
    {
     "name": "stderr",
     "output_type": "stream",
     "text": [
      "Epoch 4 (GRQO Mode): 100%|██████████| 255/255 [00:20<00:00, 12.55it/s]\n",
      "Evaluating: 100%|██████████| 64/64 [00:02<00:00, 22.95it/s]\n"
     ]
    },
    {
     "name": "stdout",
     "output_type": "stream",
     "text": [
      "Epoch 4/5 -> Train Loss: -11.6946 | Val Acc: 0.9026\n"
     ]
    },
    {
     "name": "stderr",
     "output_type": "stream",
     "text": [
      "Epoch 5 (GRQO Mode): 100%|██████████| 255/255 [00:20<00:00, 12.64it/s]\n",
      "Evaluating: 100%|██████████| 64/64 [00:02<00:00, 23.25it/s]\n"
     ]
    },
    {
     "name": "stdout",
     "output_type": "stream",
     "text": [
      "Epoch 5/5 -> Train Loss: -16.4534 | Val Acc: 0.9359\n"
     ]
    },
    {
     "name": "stderr",
     "output_type": "stream",
     "text": [
      "Evaluating: 100%|██████████| 20/20 [00:00<00:00, 21.59it/s]\n"
     ]
    },
    {
     "name": "stdout",
     "output_type": "stream",
     "text": [
      "Final Test Accuracy on cartoon: 0.8060\n",
      "\n",
      "---[ViT Small]--- Testing on domain: photo ---\n"
     ]
    },
    {
     "name": "stderr",
     "output_type": "stream",
     "text": [
      "Some weights of ViTModel were not initialized from the model checkpoint at WinKawaks/vit-small-patch16-224 and are newly initialized: ['pooler.dense.bias', 'pooler.dense.weight']\n",
      "You should probably TRAIN this model on a down-stream task to be able to use it for predictions and inference.\n"
     ]
    },
    {
     "name": "stdout",
     "output_type": "stream",
     "text": [
      "Initialized ViT-GRQO Model (ViT-small) with 30 queries.\n",
      "Initialized Trainer with 1 SFT warm-up epoch(s).\n",
      "GRQO params (alpha=1.0, beta=0.05) will activate after warm-up.\n"
     ]
    },
    {
     "name": "stderr",
     "output_type": "stream",
     "text": [
      "Epoch 1 (SFT Mode): 100%|██████████| 278/278 [00:18<00:00, 14.67it/s]\n",
      "Evaluating: 100%|██████████| 70/70 [00:03<00:00, 22.34it/s]\n"
     ]
    },
    {
     "name": "stdout",
     "output_type": "stream",
     "text": [
      "Epoch 1/5 -> Train Loss: 0.3263 | Val Acc: 0.9471\n",
      "--- Initializing reference model for GRQO phase ---\n"
     ]
    },
    {
     "name": "stderr",
     "output_type": "stream",
     "text": [
      "Epoch 2 (GRQO Mode): 100%|██████████| 278/278 [00:22<00:00, 12.57it/s]\n",
      "Evaluating: 100%|██████████| 70/70 [00:03<00:00, 22.22it/s]\n"
     ]
    },
    {
     "name": "stdout",
     "output_type": "stream",
     "text": [
      "Epoch 2/5 -> Train Loss: -1.0791 | Val Acc: 0.8721\n"
     ]
    },
    {
     "name": "stderr",
     "output_type": "stream",
     "text": [
      "Epoch 3 (GRQO Mode): 100%|██████████| 278/278 [00:22<00:00, 12.63it/s]\n",
      "Evaluating: 100%|██████████| 70/70 [00:03<00:00, 22.90it/s]\n"
     ]
    },
    {
     "name": "stdout",
     "output_type": "stream",
     "text": [
      "Epoch 3/5 -> Train Loss: -9.8043 | Val Acc: 0.9375\n"
     ]
    },
    {
     "name": "stderr",
     "output_type": "stream",
     "text": [
      "Epoch 4 (GRQO Mode): 100%|██████████| 278/278 [00:22<00:00, 12.60it/s]\n",
      "Evaluating: 100%|██████████| 70/70 [00:03<00:00, 22.11it/s]\n"
     ]
    },
    {
     "name": "stdout",
     "output_type": "stream",
     "text": [
      "Epoch 4/5 -> Train Loss: -17.4083 | Val Acc: 0.9075\n"
     ]
    },
    {
     "name": "stderr",
     "output_type": "stream",
     "text": [
      "Epoch 5 (GRQO Mode): 100%|██████████| 278/278 [00:22<00:00, 12.56it/s]\n",
      "Evaluating: 100%|██████████| 70/70 [00:03<00:00, 23.12it/s]\n"
     ]
    },
    {
     "name": "stdout",
     "output_type": "stream",
     "text": [
      "Epoch 5/5 -> Train Loss: -24.8999 | Val Acc: 0.8793\n"
     ]
    },
    {
     "name": "stderr",
     "output_type": "stream",
     "text": [
      "Evaluating: 100%|██████████| 14/14 [00:00<00:00, 21.54it/s]\n"
     ]
    },
    {
     "name": "stdout",
     "output_type": "stream",
     "text": [
      "Final Test Accuracy on photo: 0.9431\n",
      "\n",
      "---[ViT Small]--- Testing on domain: sketch ---\n"
     ]
    },
    {
     "name": "stderr",
     "output_type": "stream",
     "text": [
      "Some weights of ViTModel were not initialized from the model checkpoint at WinKawaks/vit-small-patch16-224 and are newly initialized: ['pooler.dense.bias', 'pooler.dense.weight']\n",
      "You should probably TRAIN this model on a down-stream task to be able to use it for predictions and inference.\n"
     ]
    },
    {
     "name": "stdout",
     "output_type": "stream",
     "text": [
      "Initialized ViT-GRQO Model (ViT-small) with 30 queries.\n",
      "Initialized Trainer with 1 SFT warm-up epoch(s).\n",
      "GRQO params (alpha=1.0, beta=0.05) will activate after warm-up.\n"
     ]
    },
    {
     "name": "stderr",
     "output_type": "stream",
     "text": [
      "Epoch 1 (SFT Mode): 100%|██████████| 203/203 [00:14<00:00, 14.11it/s]\n",
      "Evaluating: 100%|██████████| 51/51 [00:02<00:00, 21.82it/s]\n"
     ]
    },
    {
     "name": "stdout",
     "output_type": "stream",
     "text": [
      "Epoch 1/5 -> Train Loss: 0.2426 | Val Acc: 0.9497\n",
      "--- Initializing reference model for GRQO phase ---\n"
     ]
    },
    {
     "name": "stderr",
     "output_type": "stream",
     "text": [
      "Epoch 2 (GRQO Mode): 100%|██████████| 203/203 [00:16<00:00, 12.45it/s]\n",
      "Evaluating: 100%|██████████| 51/51 [00:02<00:00, 22.50it/s]\n"
     ]
    },
    {
     "name": "stdout",
     "output_type": "stream",
     "text": [
      "Epoch 2/5 -> Train Loss: -0.5159 | Val Acc: 0.9406\n"
     ]
    },
    {
     "name": "stderr",
     "output_type": "stream",
     "text": [
      "Epoch 3 (GRQO Mode): 100%|██████████| 203/203 [00:16<00:00, 12.42it/s]\n",
      "Evaluating: 100%|██████████| 51/51 [00:02<00:00, 23.15it/s]\n"
     ]
    },
    {
     "name": "stdout",
     "output_type": "stream",
     "text": [
      "Epoch 3/5 -> Train Loss: -7.0425 | Val Acc: 0.9349\n"
     ]
    },
    {
     "name": "stderr",
     "output_type": "stream",
     "text": [
      "Epoch 4 (GRQO Mode): 100%|██████████| 203/203 [00:16<00:00, 12.45it/s]\n",
      "Evaluating: 100%|██████████| 51/51 [00:02<00:00, 22.22it/s]\n"
     ]
    },
    {
     "name": "stdout",
     "output_type": "stream",
     "text": [
      "Epoch 4/5 -> Train Loss: -12.1677 | Val Acc: 0.9481\n"
     ]
    },
    {
     "name": "stderr",
     "output_type": "stream",
     "text": [
      "Epoch 5 (GRQO Mode): 100%|██████████| 203/203 [00:16<00:00, 12.28it/s]\n",
      "Evaluating: 100%|██████████| 51/51 [00:02<00:00, 21.66it/s]\n"
     ]
    },
    {
     "name": "stdout",
     "output_type": "stream",
     "text": [
      "Epoch 5/5 -> Train Loss: -17.2910 | Val Acc: 0.9505\n"
     ]
    },
    {
     "name": "stderr",
     "output_type": "stream",
     "text": [
      "Evaluating: 100%|██████████| 33/33 [00:01<00:00, 21.01it/s]\n"
     ]
    },
    {
     "name": "stdout",
     "output_type": "stream",
     "text": [
      "Final Test Accuracy on sketch: 0.6985\n",
      "\n",
      "\n",
      "---[ViT Small]--- Baseline: training on all domains with GRQO ---\n"
     ]
    },
    {
     "name": "stderr",
     "output_type": "stream",
     "text": [
      "Some weights of ViTModel were not initialized from the model checkpoint at WinKawaks/vit-small-patch16-224 and are newly initialized: ['pooler.dense.bias', 'pooler.dense.weight']\n",
      "You should probably TRAIN this model on a down-stream task to be able to use it for predictions and inference.\n"
     ]
    },
    {
     "name": "stdout",
     "output_type": "stream",
     "text": [
      "Initialized ViT-GRQO Model (ViT-small) with 30 queries.\n",
      "Initialized Trainer with 1 SFT warm-up epoch(s).\n",
      "GRQO params (alpha=1.0, beta=0.05) will activate after warm-up.\n"
     ]
    },
    {
     "name": "stderr",
     "output_type": "stream",
     "text": [
      "Epoch 1 (SFT Mode): 100%|██████████| 333/333 [00:23<00:00, 14.33it/s]\n",
      "Evaluating: 100%|██████████| 84/84 [00:03<00:00, 22.31it/s]\n"
     ]
    },
    {
     "name": "stdout",
     "output_type": "stream",
     "text": [
      "Epoch 1/5 -> Baseline Loss: 0.3038 | Baseline Acc: 0.9360\n",
      "--- Initializing reference model for GRQO phase ---\n"
     ]
    },
    {
     "name": "stderr",
     "output_type": "stream",
     "text": [
      "Epoch 2 (GRQO Mode): 100%|██████████| 333/333 [00:26<00:00, 12.52it/s]\n",
      "Evaluating: 100%|██████████| 84/84 [00:03<00:00, 22.23it/s]\n"
     ]
    },
    {
     "name": "stdout",
     "output_type": "stream",
     "text": [
      "Epoch 2/5 -> Baseline Loss: -2.0047 | Baseline Acc: 0.9320\n"
     ]
    },
    {
     "name": "stderr",
     "output_type": "stream",
     "text": [
      "Epoch 3 (GRQO Mode): 100%|██████████| 333/333 [00:26<00:00, 12.49it/s]\n",
      "Evaluating: 100%|██████████| 84/84 [00:03<00:00, 21.99it/s]\n"
     ]
    },
    {
     "name": "stdout",
     "output_type": "stream",
     "text": [
      "Epoch 3/5 -> Baseline Loss: -13.4380 | Baseline Acc: 0.9410\n"
     ]
    },
    {
     "name": "stderr",
     "output_type": "stream",
     "text": [
      "Epoch 4 (GRQO Mode): 100%|██████████| 333/333 [00:26<00:00, 12.51it/s]\n",
      "Evaluating: 100%|██████████| 84/84 [00:03<00:00, 21.15it/s]\n"
     ]
    },
    {
     "name": "stdout",
     "output_type": "stream",
     "text": [
      "Epoch 4/5 -> Baseline Loss: -23.2415 | Baseline Acc: 0.9415\n"
     ]
    },
    {
     "name": "stderr",
     "output_type": "stream",
     "text": [
      "Epoch 5 (GRQO Mode): 100%|██████████| 333/333 [00:26<00:00, 12.40it/s]\n",
      "Evaluating: 100%|██████████| 84/84 [00:03<00:00, 21.06it/s]\n"
     ]
    },
    {
     "name": "stdout",
     "output_type": "stream",
     "text": [
      "Epoch 5/5 -> Baseline Loss: -33.7362 | Baseline Acc: 0.9165\n"
     ]
    },
    {
     "name": "stderr",
     "output_type": "stream",
     "text": [
      "Evaluating: 100%|██████████| 84/84 [00:04<00:00, 20.09it/s]"
     ]
    },
    {
     "name": "stdout",
     "output_type": "stream",
     "text": [
      "Final Baseline Test Accuracy: 0.9165\n",
      "\n"
     ]
    },
    {
     "name": "stderr",
     "output_type": "stream",
     "text": [
      "\n"
     ]
    }
   ],
   "source": [
    "# =================================================================================\n",
    "# GRQO + ViT Small Leave-One-Domain-Out (LODO) Training (Corrected)\n",
    "# =================================================================================\n",
    "\n",
    "# Define the image transform\n",
    "transform = transforms.Compose([\n",
    "    transforms.Resize((224, 224)),\n",
    "    transforms.ToTensor(),\n",
    "    transforms.Normalize(mean=[0.5, 0.5, 0.5], std=[0.5, 0.5, 0.5])\n",
    "])\n",
    "\n",
    "results_small = {}\n",
    "for test_domain in DOMAINS:\n",
    "    print(f\"---[ViT Small]--- Testing on domain: {test_domain} ---\")\n",
    "    train_domains = [d for d in DOMAINS if d != test_domain]\n",
    "    dataset = PACSDataset(DATA_ROOT, DOMAINS, transform)\n",
    "    train_loaders = [dataset.get_dataloader(d, train=True) for d in train_domains]\n",
    "    val_loaders = [dataset.get_dataloader(d, train=False) for d in train_domains]\n",
    "    test_loader = dataset.get_dataloader(test_domain, train=False)\n",
    "    train_ds = ConcatDataset([dl.dataset for dl in train_loaders])\n",
    "    val_ds = ConcatDataset([dl.dataset for dl in val_loaders])\n",
    "    train_loader = DataLoader(train_ds, batch_size=BATCH_SIZE, shuffle=True)\n",
    "    val_loader = DataLoader(val_ds, batch_size=BATCH_SIZE, shuffle=False)\n",
    "\n",
    "    model_small = ViT_GRQO_Model(NUM_CLASSES, \"small\", NUM_QUERIES, NUM_DECODER_LAYERS, DECODER_NHEAD)\n",
    "    optimizer_small = optim.Adam(model_small.parameters(), lr=1e-4)\n",
    "    criterion_small = nn.CrossEntropyLoss()\n",
    "    trainer_small = Trainer(model_small, optimizer_small, criterion_small, GRQO_ALPHA, GRQO_BETA, WARMUP_EPOCHS)\n",
    "\n",
    "    for epoch in range(NUM_EPOCHS):\n",
    "        if epoch >= WARMUP_EPOCHS:\n",
    "            trainer_small.update_reference_model()\n",
    "\n",
    "        train_loss_small = trainer_small.train(train_loader, current_epoch=epoch)\n",
    "        val_acc_small = trainer_small.evaluate(val_loader)\n",
    "        print(f\"Epoch {epoch+1}/{NUM_EPOCHS} -> Train Loss: {train_loss_small:.4f} | Val Acc: {val_acc_small:.4f}\")\n",
    "\n",
    "    test_acc_small = trainer_small.evaluate(test_loader)\n",
    "    results_small[test_domain] = test_acc_small\n",
    "    print(f\"Final Test Accuracy on {test_domain}: {test_acc_small:.4f}\\n\")\n",
    "\n",
    "# --- ViT Small Baseline ---\n",
    "print(\"\\n---[ViT Small]--- Baseline: training on all domains with GRQO ---\")\n",
    "dataset_all = PACSDataset(DATA_ROOT, DOMAINS, transform)\n",
    "all_train_loaders = [dataset_all.get_dataloader(d, train=True) for d in DOMAINS]\n",
    "all_test_loaders = [dataset_all.get_dataloader(d, train=False) for d in DOMAINS]\n",
    "full_train_ds = ConcatDataset([dl.dataset for dl in all_train_loaders])\n",
    "full_test_ds = ConcatDataset([dl.dataset for dl in all_test_loaders])\n",
    "full_train_loader = DataLoader(full_train_ds, batch_size=BATCH_SIZE, shuffle=True)\n",
    "full_test_loader = DataLoader(full_test_ds, batch_size=BATCH_SIZE, shuffle=False)\n",
    "\n",
    "baseline_model_small = ViT_GRQO_Model(NUM_CLASSES, \"small\", NUM_QUERIES, NUM_DECODER_LAYERS, DECODER_NHEAD)\n",
    "baseline_optimizer_small = optim.Adam(baseline_model_small.parameters(), lr=1e-4)\n",
    "baseline_criterion_small = nn.CrossEntropyLoss()\n",
    "baseline_trainer_small = Trainer(baseline_model_small, baseline_optimizer_small, baseline_criterion_small, GRQO_ALPHA, GRQO_BETA, WARMUP_EPOCHS)\n",
    "\n",
    "for epoch in range(NUM_EPOCHS):\n",
    "    if epoch >= WARMUP_EPOCHS:\n",
    "        baseline_trainer_small.update_reference_model()\n",
    "\n",
    "    baseline_loss_small = baseline_trainer_small.train(full_train_loader, current_epoch=epoch)\n",
    "    baseline_val_acc_small = baseline_trainer_small.evaluate(full_test_loader)\n",
    "    print(f\"Epoch {epoch+1}/{NUM_EPOCHS} -> Baseline Loss: {baseline_loss_small:.4f} | Baseline Acc: {baseline_val_acc_small:.4f}\")\n",
    "\n",
    "baseline_test_acc_small = baseline_trainer_small.evaluate(full_test_loader)\n",
    "results_small['baseline_all_domains'] = baseline_test_acc_small\n",
    "print(f\"Final Baseline Test Accuracy: {baseline_test_acc_small:.4f}\\n\")"
   ]
  },
  {
   "cell_type": "markdown",
   "id": "81d64d2a",
   "metadata": {},
   "source": [
    "### Baseline"
   ]
  },
  {
   "cell_type": "code",
   "execution_count": 19,
   "id": "64d8c32c",
   "metadata": {},
   "outputs": [],
   "source": [
    "# # =================================================================================\n",
    "# # GRQO + ViT Small Baseline Training (All Domains)\n",
    "# # =================================================================================\n",
    "\n",
    "# print(\"\\n---[ViT Small]--- Baseline: training on all domains with GRQO ---\")\n",
    "\n",
    "# # Data loading is the same as the 'base' baseline\n",
    "# full_train_loader = DataLoader(full_train_ds, batch_size=BATCH_SIZE, shuffle=True)\n",
    "# full_test_loader = DataLoader(full_test_ds, batch_size=BATCH_SIZE, shuffle=False)\n",
    "\n",
    "# # --- Initialize baseline model with GRQO ---\n",
    "# baseline_model_small = ViT_GRQO_Model(\n",
    "#     num_classes=NUM_CLASSES, \n",
    "#     model_size=\"small\",\n",
    "#     num_queries=NUM_QUERIES,\n",
    "#     num_decoder_layers=NUM_DECODER_LAYERS,\n",
    "#     decoder_nhead=DECODER_NHEAD\n",
    "# )\n",
    "# baseline_optimizer_small = optim.Adam(baseline_model_small.parameters(), lr=1e-4)\n",
    "# baseline_criterion_small = nn.CrossEntropyLoss()\n",
    "\n",
    "# baseline_trainer_small = Trainer(\n",
    "#     baseline_model_small, \n",
    "#     baseline_optimizer_small, \n",
    "#     baseline_criterion_small,\n",
    "#     grqo_alpha=GRQO_ALPHA, \n",
    "#     grqo_beta=GRQO_BETA\n",
    "# )\n",
    "\n",
    "# # --- Train baseline ---\n",
    "# for epoch in range(NUM_EPOCHS):\n",
    "#     print(f\"Baseline Epoch {epoch + 1}/{NUM_EPOCHS}\")\n",
    "#     baseline_trainer_small.update_reference_model()\n",
    "\n",
    "#     baseline_loss_small = baseline_trainer_small.train(full_train_loader)\n",
    "#     baseline_val_acc_small = baseline_trainer_small.evaluate(full_test_loader)\n",
    "#     print(f\"Baseline Loss: {baseline_loss_small:.4f} | Baseline Acc: {baseline_val_acc_small:.4f}\")\n",
    "\n",
    "# # --- Test baseline ---\n",
    "# baseline_test_acc_small = baseline_trainer_small.evaluate(full_test_loader)\n",
    "# results_small['baseline_all_domains'] = baseline_test_acc_small\n",
    "# print(f\"Baseline Test Accuracy: {baseline_test_acc_small:.4f}\")"
   ]
  },
  {
   "cell_type": "markdown",
   "id": "e48105dc",
   "metadata": {},
   "source": [
    "### Visual Comparison"
   ]
  },
  {
   "cell_type": "code",
   "execution_count": 20,
   "id": "beaa1aa5",
   "metadata": {},
   "outputs": [
    {
     "data": {
      "image/png": "[encoded data removed]",
      "text/plain": [
       "<Figure size 640x480 with 1 Axes>"
      ]
     },
     "metadata": {},
     "output_type": "display_data"
    }
   ],
   "source": [
    "domains = list(results_small.keys())\n",
    "accuracies = [results_small[d] for d in domains]\n",
    "\n",
    "plt.figure()\n",
    "plt.bar(domains, accuracies)\n",
    "plt.xticks(rotation=45, ha='right')\n",
    "plt.ylabel('Accuracy')\n",
    "plt.title('Leave-One-Domain-Out vs. Baseline Accuracy (ViT Small)')\n",
    "plt.tight_layout()\n",
    "plt.show()"
   ]
  },
  {
   "cell_type": "markdown",
   "id": "d01133f4",
   "metadata": {},
   "source": [
    "### Final Results"
   ]
  },
  {
   "cell_type": "code",
   "execution_count": 21,
   "id": "935d1a5a",
   "metadata": {},
   "outputs": [
    {
     "name": "stdout",
     "output_type": "stream",
     "text": [
      "\\Final Results (LODO Accuracy):\n",
      "art_painting: 0.7122\n",
      "cartoon: 0.8060\n",
      "photo: 0.9431\n",
      "sketch: 0.6985\n",
      "baseline_all_domains: 0.9165\n",
      "\n",
      "Average Accuracy: 0.8152\n"
     ]
    },
    {
     "name": "stderr",
     "output_type": "stream",
     "text": [
      "<>:1: SyntaxWarning: invalid escape sequence '\\F'\n",
      "<>:1: SyntaxWarning: invalid escape sequence '\\F'\n",
      "C:\\Users\\Haseeb\\AppData\\Local\\Temp\\ipykernel_12940\\3963232904.py:1: SyntaxWarning: invalid escape sequence '\\F'\n",
      "  print(\"\\Final Results (LODO Accuracy):\")\n"
     ]
    }
   ],
   "source": [
    "\n",
    "print(\"\\Final Results (LODO Accuracy):\")\n",
    "for domain, acc in results_small.items():\n",
    "    print(f\"{domain}: {acc:.4f}\")\n",
    "\n",
    "avg_acc = sum(results_small.values()) / len(results_small)\n",
    "print(f\"\\nAverage Accuracy: {avg_acc:.4f}\")\n"
   ]
  },
  {
   "cell_type": "markdown",
   "id": "c492427e",
   "metadata": {},
   "source": [
    "## WinKawaks/ViT Tiny"
   ]
  },
  {
   "cell_type": "markdown",
   "id": "265436d2",
   "metadata": {},
   "source": [
    "### Leave-One-Domain-Out (LODO) Training"
   ]
  },
  {
   "cell_type": "code",
   "execution_count": 22,
   "id": "84d67347",
   "metadata": {},
   "outputs": [
    {
     "name": "stdout",
     "output_type": "stream",
     "text": [
      "---[ViT Tiny]--- Testing on domain: art_painting ---\n"
     ]
    },
    {
     "name": "stderr",
     "output_type": "stream",
     "text": [
      "Some weights of ViTModel were not initialized from the model checkpoint at WinKawaks/vit-tiny-patch16-224 and are newly initialized: ['pooler.dense.bias', 'pooler.dense.weight']\n",
      "You should probably TRAIN this model on a down-stream task to be able to use it for predictions and inference.\n"
     ]
    },
    {
     "name": "stdout",
     "output_type": "stream",
     "text": [
      "Initialized ViT-GRQO Model (ViT-tiny) with 30 queries.\n",
      "Initialized Trainer with 1 SFT warm-up epoch(s).\n",
      "GRQO params (alpha=1.0, beta=0.05) will activate after warm-up.\n"
     ]
    },
    {
     "name": "stderr",
     "output_type": "stream",
     "text": [
      "Epoch 1 (SFT Mode): 100%|██████████| 265/265 [00:14<00:00, 17.82it/s]\n",
      "Evaluating: 100%|██████████| 67/67 [00:02<00:00, 23.10it/s]\n"
     ]
    },
    {
     "name": "stdout",
     "output_type": "stream",
     "text": [
      "Epoch 1/5 -> Train Loss: 0.4959 | Val Acc: 0.8672\n",
      "--- Initializing reference model for GRQO phase ---\n"
     ]
    },
    {
     "name": "stderr",
     "output_type": "stream",
     "text": [
      "Epoch 2 (GRQO Mode): 100%|██████████| 265/265 [00:15<00:00, 16.76it/s]\n",
      "Evaluating: 100%|██████████| 67/67 [00:02<00:00, 22.87it/s]\n"
     ]
    },
    {
     "name": "stdout",
     "output_type": "stream",
     "text": [
      "Epoch 2/5 -> Train Loss: -0.2176 | Val Acc: 0.8811\n"
     ]
    },
    {
     "name": "stderr",
     "output_type": "stream",
     "text": [
      "Epoch 3 (GRQO Mode): 100%|██████████| 265/265 [00:15<00:00, 16.65it/s]\n",
      "Evaluating: 100%|██████████| 67/67 [00:02<00:00, 22.88it/s]\n"
     ]
    },
    {
     "name": "stdout",
     "output_type": "stream",
     "text": [
      "Epoch 3/5 -> Train Loss: -5.7248 | Val Acc: 0.9075\n"
     ]
    },
    {
     "name": "stderr",
     "output_type": "stream",
     "text": [
      "Epoch 4 (GRQO Mode): 100%|██████████| 265/265 [00:15<00:00, 16.88it/s]\n",
      "Evaluating: 100%|██████████| 67/67 [00:02<00:00, 23.73it/s]\n"
     ]
    },
    {
     "name": "stdout",
     "output_type": "stream",
     "text": [
      "Epoch 4/5 -> Train Loss: -10.2763 | Val Acc: 0.9012\n"
     ]
    },
    {
     "name": "stderr",
     "output_type": "stream",
     "text": [
      "Epoch 5 (GRQO Mode): 100%|██████████| 265/265 [00:14<00:00, 17.78it/s]\n",
      "Evaluating: 100%|██████████| 67/67 [00:02<00:00, 23.88it/s]\n"
     ]
    },
    {
     "name": "stdout",
     "output_type": "stream",
     "text": [
      "Epoch 5/5 -> Train Loss: -14.8573 | Val Acc: 0.9402\n"
     ]
    },
    {
     "name": "stderr",
     "output_type": "stream",
     "text": [
      "Evaluating: 100%|██████████| 18/18 [00:00<00:00, 22.82it/s]\n"
     ]
    },
    {
     "name": "stdout",
     "output_type": "stream",
     "text": [
      "Final Test Accuracy on art_painting: 0.7122\n",
      "\n",
      "---[ViT Tiny]--- Testing on domain: cartoon ---\n"
     ]
    },
    {
     "name": "stderr",
     "output_type": "stream",
     "text": [
      "Some weights of ViTModel were not initialized from the model checkpoint at WinKawaks/vit-tiny-patch16-224 and are newly initialized: ['pooler.dense.bias', 'pooler.dense.weight']\n",
      "You should probably TRAIN this model on a down-stream task to be able to use it for predictions and inference.\n"
     ]
    },
    {
     "name": "stdout",
     "output_type": "stream",
     "text": [
      "Initialized ViT-GRQO Model (ViT-tiny) with 30 queries.\n",
      "Initialized Trainer with 1 SFT warm-up epoch(s).\n",
      "GRQO params (alpha=1.0, beta=0.05) will activate after warm-up.\n"
     ]
    },
    {
     "name": "stderr",
     "output_type": "stream",
     "text": [
      "Epoch 1 (SFT Mode): 100%|██████████| 255/255 [00:13<00:00, 18.39it/s]\n",
      "Evaluating: 100%|██████████| 64/64 [00:02<00:00, 24.73it/s]\n"
     ]
    },
    {
     "name": "stdout",
     "output_type": "stream",
     "text": [
      "Epoch 1/5 -> Train Loss: 0.4653 | Val Acc: 0.9111\n",
      "--- Initializing reference model for GRQO phase ---\n"
     ]
    },
    {
     "name": "stderr",
     "output_type": "stream",
     "text": [
      "Epoch 2 (GRQO Mode): 100%|██████████| 255/255 [00:14<00:00, 17.81it/s]\n",
      "Evaluating: 100%|██████████| 64/64 [00:02<00:00, 23.37it/s]\n"
     ]
    },
    {
     "name": "stdout",
     "output_type": "stream",
     "text": [
      "Epoch 2/5 -> Train Loss: -0.2649 | Val Acc: 0.9059\n"
     ]
    },
    {
     "name": "stderr",
     "output_type": "stream",
     "text": [
      "Epoch 3 (GRQO Mode): 100%|██████████| 255/255 [00:15<00:00, 16.46it/s]\n",
      "Evaluating: 100%|██████████| 64/64 [00:02<00:00, 24.63it/s]\n"
     ]
    },
    {
     "name": "stdout",
     "output_type": "stream",
     "text": [
      "Epoch 3/5 -> Train Loss: -5.8141 | Val Acc: 0.8856\n"
     ]
    },
    {
     "name": "stderr",
     "output_type": "stream",
     "text": [
      "Epoch 4 (GRQO Mode): 100%|██████████| 255/255 [00:15<00:00, 16.76it/s]\n",
      "Evaluating: 100%|██████████| 64/64 [00:02<00:00, 26.51it/s]\n"
     ]
    },
    {
     "name": "stdout",
     "output_type": "stream",
     "text": [
      "Epoch 4/5 -> Train Loss: -10.1977 | Val Acc: 0.8830\n"
     ]
    },
    {
     "name": "stderr",
     "output_type": "stream",
     "text": [
      "Epoch 5 (GRQO Mode): 100%|██████████| 255/255 [00:14<00:00, 17.56it/s]\n",
      "Evaluating: 100%|██████████| 64/64 [00:02<00:00, 26.40it/s]\n"
     ]
    },
    {
     "name": "stdout",
     "output_type": "stream",
     "text": [
      "Epoch 5/5 -> Train Loss: -14.4430 | Val Acc: 0.8980\n"
     ]
    },
    {
     "name": "stderr",
     "output_type": "stream",
     "text": [
      "Evaluating: 100%|██████████| 20/20 [00:00<00:00, 25.68it/s]\n"
     ]
    },
    {
     "name": "stdout",
     "output_type": "stream",
     "text": [
      "Final Test Accuracy on cartoon: 0.7186\n",
      "\n",
      "---[ViT Tiny]--- Testing on domain: photo ---\n"
     ]
    },
    {
     "name": "stderr",
     "output_type": "stream",
     "text": [
      "Some weights of ViTModel were not initialized from the model checkpoint at WinKawaks/vit-tiny-patch16-224 and are newly initialized: ['pooler.dense.bias', 'pooler.dense.weight']\n",
      "You should probably TRAIN this model on a down-stream task to be able to use it for predictions and inference.\n"
     ]
    },
    {
     "name": "stdout",
     "output_type": "stream",
     "text": [
      "Initialized ViT-GRQO Model (ViT-tiny) with 30 queries.\n",
      "Initialized Trainer with 1 SFT warm-up epoch(s).\n",
      "GRQO params (alpha=1.0, beta=0.05) will activate after warm-up.\n"
     ]
    },
    {
     "name": "stderr",
     "output_type": "stream",
     "text": [
      "Epoch 1 (SFT Mode): 100%|██████████| 278/278 [00:14<00:00, 19.08it/s]\n",
      "Evaluating: 100%|██████████| 70/70 [00:02<00:00, 25.50it/s]\n"
     ]
    },
    {
     "name": "stdout",
     "output_type": "stream",
     "text": [
      "Epoch 1/5 -> Train Loss: 0.5325 | Val Acc: 0.9045\n",
      "--- Initializing reference model for GRQO phase ---\n"
     ]
    },
    {
     "name": "stderr",
     "output_type": "stream",
     "text": [
      "Epoch 2 (GRQO Mode): 100%|██████████| 278/278 [00:15<00:00, 17.62it/s]\n",
      "Evaluating: 100%|██████████| 70/70 [00:02<00:00, 25.94it/s]\n"
     ]
    },
    {
     "name": "stdout",
     "output_type": "stream",
     "text": [
      "Epoch 2/5 -> Train Loss: -0.5370 | Val Acc: 0.8799\n"
     ]
    },
    {
     "name": "stderr",
     "output_type": "stream",
     "text": [
      "Epoch 3 (GRQO Mode): 100%|██████████| 278/278 [00:15<00:00, 17.85it/s]\n",
      "Evaluating: 100%|██████████| 70/70 [00:02<00:00, 26.16it/s]\n"
     ]
    },
    {
     "name": "stdout",
     "output_type": "stream",
     "text": [
      "Epoch 3/5 -> Train Loss: -6.4793 | Val Acc: 0.9003\n"
     ]
    },
    {
     "name": "stderr",
     "output_type": "stream",
     "text": [
      "Epoch 4 (GRQO Mode): 100%|██████████| 278/278 [00:15<00:00, 18.11it/s]\n",
      "Evaluating: 100%|██████████| 70/70 [00:02<00:00, 25.39it/s]\n"
     ]
    },
    {
     "name": "stdout",
     "output_type": "stream",
     "text": [
      "Epoch 4/5 -> Train Loss: -10.9616 | Val Acc: 0.9045\n"
     ]
    },
    {
     "name": "stderr",
     "output_type": "stream",
     "text": [
      "Epoch 5 (GRQO Mode): 100%|██████████| 278/278 [00:16<00:00, 17.22it/s]\n",
      "Evaluating: 100%|██████████| 70/70 [00:02<00:00, 25.27it/s]\n"
     ]
    },
    {
     "name": "stdout",
     "output_type": "stream",
     "text": [
      "Epoch 5/5 -> Train Loss: -15.3060 | Val Acc: 0.8901\n"
     ]
    },
    {
     "name": "stderr",
     "output_type": "stream",
     "text": [
      "Evaluating: 100%|██████████| 14/14 [00:00<00:00, 23.76it/s]\n"
     ]
    },
    {
     "name": "stdout",
     "output_type": "stream",
     "text": [
      "Final Test Accuracy on photo: 0.9371\n",
      "\n",
      "---[ViT Tiny]--- Testing on domain: sketch ---\n"
     ]
    },
    {
     "name": "stderr",
     "output_type": "stream",
     "text": [
      "Some weights of ViTModel were not initialized from the model checkpoint at WinKawaks/vit-tiny-patch16-224 and are newly initialized: ['pooler.dense.bias', 'pooler.dense.weight']\n",
      "You should probably TRAIN this model on a down-stream task to be able to use it for predictions and inference.\n"
     ]
    },
    {
     "name": "stdout",
     "output_type": "stream",
     "text": [
      "Initialized ViT-GRQO Model (ViT-tiny) with 30 queries.\n",
      "Initialized Trainer with 1 SFT warm-up epoch(s).\n",
      "GRQO params (alpha=1.0, beta=0.05) will activate after warm-up.\n"
     ]
    },
    {
     "name": "stderr",
     "output_type": "stream",
     "text": [
      "Epoch 1 (SFT Mode): 100%|██████████| 203/203 [00:11<00:00, 18.33it/s]\n",
      "Evaluating: 100%|██████████| 51/51 [00:01<00:00, 25.81it/s]\n"
     ]
    },
    {
     "name": "stdout",
     "output_type": "stream",
     "text": [
      "Epoch 1/5 -> Train Loss: 0.3657 | Val Acc: 0.9308\n",
      "--- Initializing reference model for GRQO phase ---\n"
     ]
    },
    {
     "name": "stderr",
     "output_type": "stream",
     "text": [
      "Epoch 2 (GRQO Mode): 100%|██████████| 203/203 [00:11<00:00, 17.74it/s]\n",
      "Evaluating: 100%|██████████| 51/51 [00:01<00:00, 26.37it/s]\n"
     ]
    },
    {
     "name": "stdout",
     "output_type": "stream",
     "text": [
      "Epoch 2/5 -> Train Loss: 0.2252 | Val Acc: 0.9126\n"
     ]
    },
    {
     "name": "stderr",
     "output_type": "stream",
     "text": [
      "Epoch 3 (GRQO Mode): 100%|██████████| 203/203 [00:11<00:00, 17.86it/s]\n",
      "Evaluating: 100%|██████████| 51/51 [00:01<00:00, 26.38it/s]\n"
     ]
    },
    {
     "name": "stdout",
     "output_type": "stream",
     "text": [
      "Epoch 3/5 -> Train Loss: -1.9990 | Val Acc: 0.9308\n"
     ]
    },
    {
     "name": "stderr",
     "output_type": "stream",
     "text": [
      "Epoch 4 (GRQO Mode): 100%|██████████| 203/203 [00:11<00:00, 17.60it/s]\n",
      "Evaluating: 100%|██████████| 51/51 [00:01<00:00, 25.77it/s]\n"
     ]
    },
    {
     "name": "stdout",
     "output_type": "stream",
     "text": [
      "Epoch 4/5 -> Train Loss: -6.8544 | Val Acc: 0.9077\n"
     ]
    },
    {
     "name": "stderr",
     "output_type": "stream",
     "text": [
      "Epoch 5 (GRQO Mode): 100%|██████████| 203/203 [00:11<00:00, 17.43it/s]\n",
      "Evaluating: 100%|██████████| 51/51 [00:01<00:00, 26.81it/s]\n"
     ]
    },
    {
     "name": "stdout",
     "output_type": "stream",
     "text": [
      "Epoch 5/5 -> Train Loss: -10.0740 | Val Acc: 0.9052\n"
     ]
    },
    {
     "name": "stderr",
     "output_type": "stream",
     "text": [
      "Evaluating: 100%|██████████| 33/33 [00:01<00:00, 26.48it/s]\n"
     ]
    },
    {
     "name": "stdout",
     "output_type": "stream",
     "text": [
      "Final Test Accuracy on sketch: 0.5331\n",
      "\n",
      "\n",
      "---[ViT Tiny]--- Baseline: training on all domains with GRQO ---\n"
     ]
    },
    {
     "name": "stderr",
     "output_type": "stream",
     "text": [
      "Some weights of ViTModel were not initialized from the model checkpoint at WinKawaks/vit-tiny-patch16-224 and are newly initialized: ['pooler.dense.bias', 'pooler.dense.weight']\n",
      "You should probably TRAIN this model on a down-stream task to be able to use it for predictions and inference.\n"
     ]
    },
    {
     "name": "stdout",
     "output_type": "stream",
     "text": [
      "Initialized ViT-GRQO Model (ViT-tiny) with 30 queries.\n",
      "Initialized Trainer with 1 SFT warm-up epoch(s).\n",
      "GRQO params (alpha=1.0, beta=0.05) will activate after warm-up.\n"
     ]
    },
    {
     "name": "stderr",
     "output_type": "stream",
     "text": [
      "Epoch 1 (SFT Mode): 100%|██████████| 333/333 [00:17<00:00, 19.06it/s]\n",
      "Evaluating: 100%|██████████| 84/84 [00:03<00:00, 27.37it/s]\n"
     ]
    },
    {
     "name": "stdout",
     "output_type": "stream",
     "text": [
      "Epoch 1/5 -> Baseline Loss: 0.4587 | Baseline Acc: 0.9305\n",
      "--- Initializing reference model for GRQO phase ---\n"
     ]
    },
    {
     "name": "stderr",
     "output_type": "stream",
     "text": [
      "Epoch 2 (GRQO Mode): 100%|██████████| 333/333 [00:18<00:00, 18.03it/s]\n",
      "Evaluating: 100%|██████████| 84/84 [00:03<00:00, 27.00it/s]\n"
     ]
    },
    {
     "name": "stdout",
     "output_type": "stream",
     "text": [
      "Epoch 2/5 -> Baseline Loss: -0.5266 | Baseline Acc: 0.9065\n"
     ]
    },
    {
     "name": "stderr",
     "output_type": "stream",
     "text": [
      "Epoch 3 (GRQO Mode): 100%|██████████| 333/333 [00:18<00:00, 17.64it/s]\n",
      "Evaluating: 100%|██████████| 84/84 [00:03<00:00, 23.99it/s]\n"
     ]
    },
    {
     "name": "stdout",
     "output_type": "stream",
     "text": [
      "Epoch 3/5 -> Baseline Loss: -7.4990 | Baseline Acc: 0.8564\n"
     ]
    },
    {
     "name": "stderr",
     "output_type": "stream",
     "text": [
      "Epoch 4 (GRQO Mode): 100%|██████████| 333/333 [00:18<00:00, 17.72it/s]\n",
      "Evaluating: 100%|██████████| 84/84 [00:03<00:00, 24.55it/s]\n"
     ]
    },
    {
     "name": "stdout",
     "output_type": "stream",
     "text": [
      "Epoch 4/5 -> Baseline Loss: -13.3584 | Baseline Acc: 0.9160\n"
     ]
    },
    {
     "name": "stderr",
     "output_type": "stream",
     "text": [
      "Epoch 5 (GRQO Mode): 100%|██████████| 333/333 [00:18<00:00, 17.64it/s]\n",
      "Evaluating: 100%|██████████| 84/84 [00:03<00:00, 25.71it/s]\n"
     ]
    },
    {
     "name": "stdout",
     "output_type": "stream",
     "text": [
      "Epoch 5/5 -> Baseline Loss: -19.6337 | Baseline Acc: 0.8724\n"
     ]
    },
    {
     "name": "stderr",
     "output_type": "stream",
     "text": [
      "Evaluating: 100%|██████████| 84/84 [00:03<00:00, 21.98it/s]"
     ]
    },
    {
     "name": "stdout",
     "output_type": "stream",
     "text": [
      "Final Baseline Test Accuracy: 0.8724\n",
      "\n"
     ]
    },
    {
     "name": "stderr",
     "output_type": "stream",
     "text": [
      "\n"
     ]
    }
   ],
   "source": [
    "# =================================================================================\n",
    "# GRQO + ViT Tiny Leave-One-Domain-Out (LODO) Training (Corrected)\n",
    "# =================================================================================\n",
    "\n",
    "# Define the image transform\n",
    "transform = transforms.Compose([\n",
    "    transforms.Resize((224, 224)),\n",
    "    transforms.ToTensor(),\n",
    "    transforms.Normalize(mean=[0.5, 0.5, 0.5], std=[0.5, 0.5, 0.5])\n",
    "])\n",
    "\n",
    "results_tiny = {}\n",
    "for test_domain in DOMAINS:\n",
    "    print(f\"---[ViT Tiny]--- Testing on domain: {test_domain} ---\")\n",
    "    train_domains = [d for d in DOMAINS if d != test_domain]\n",
    "    dataset = PACSDataset(DATA_ROOT, DOMAINS, transform)\n",
    "    train_loaders = [dataset.get_dataloader(d, train=True) for d in train_domains]\n",
    "    val_loaders = [dataset.get_dataloader(d, train=False) for d in train_domains]\n",
    "    test_loader = dataset.get_dataloader(test_domain, train=False)\n",
    "    train_ds = ConcatDataset([dl.dataset for dl in train_loaders])\n",
    "    val_ds = ConcatDataset([dl.dataset for dl in val_loaders])\n",
    "    train_loader = DataLoader(train_ds, batch_size=BATCH_SIZE, shuffle=True)\n",
    "    val_loader = DataLoader(val_ds, batch_size=BATCH_SIZE, shuffle=False)\n",
    "\n",
    "    model_tiny = ViT_GRQO_Model(NUM_CLASSES, \"tiny\", NUM_QUERIES, NUM_DECODER_LAYERS, DECODER_NHEAD)\n",
    "    optimizer_tiny = optim.Adam(model_tiny.parameters(), lr=1e-4)\n",
    "    criterion_tiny = nn.CrossEntropyLoss()\n",
    "    trainer_tiny = Trainer(model_tiny, optimizer_tiny, criterion_tiny, GRQO_ALPHA, GRQO_BETA, WARMUP_EPOCHS)\n",
    "\n",
    "    for epoch in range(NUM_EPOCHS):\n",
    "        if epoch >= WARMUP_EPOCHS:\n",
    "            trainer_tiny.update_reference_model()\n",
    "\n",
    "        train_loss_tiny = trainer_tiny.train(train_loader, current_epoch=epoch)\n",
    "        val_acc_tiny = trainer_tiny.evaluate(val_loader)\n",
    "        print(f\"Epoch {epoch+1}/{NUM_EPOCHS} -> Train Loss: {train_loss_tiny:.4f} | Val Acc: {val_acc_tiny:.4f}\")\n",
    "\n",
    "    test_acc_tiny = trainer_tiny.evaluate(test_loader)\n",
    "    results_tiny[test_domain] = test_acc_tiny\n",
    "    print(f\"Final Test Accuracy on {test_domain}: {test_acc_tiny:.4f}\\n\")\n",
    "\n",
    "# --- ViT Tiny Baseline ---\n",
    "print(\"\\n---[ViT Tiny]--- Baseline: training on all domains with GRQO ---\")\n",
    "dataset_all = PACSDataset(DATA_ROOT, DOMAINS, transform)\n",
    "all_train_loaders = [dataset_all.get_dataloader(d, train=True) for d in DOMAINS]\n",
    "all_test_loaders = [dataset_all.get_dataloader(d, train=False) for d in DOMAINS]\n",
    "full_train_ds = ConcatDataset([dl.dataset for dl in all_train_loaders])\n",
    "full_test_ds = ConcatDataset([dl.dataset for dl in all_test_loaders])\n",
    "full_train_loader = DataLoader(full_train_ds, batch_size=BATCH_SIZE, shuffle=True)\n",
    "full_test_loader = DataLoader(full_test_ds, batch_size=BATCH_SIZE, shuffle=False)\n",
    "\n",
    "baseline_model_tiny = ViT_GRQO_Model(NUM_CLASSES, \"tiny\", NUM_QUERIES, NUM_DECODER_LAYERS, DECODER_NHEAD)\n",
    "baseline_optimizer_tiny = optim.Adam(baseline_model_tiny.parameters(), lr=1e-4)\n",
    "baseline_criterion_tiny = nn.CrossEntropyLoss()\n",
    "baseline_trainer_tiny = Trainer(baseline_model_tiny, baseline_optimizer_tiny, baseline_criterion_tiny, GRQO_ALPHA, GRQO_BETA, WARMUP_EPOCHS)\n",
    "\n",
    "for epoch in range(NUM_EPOCHS):\n",
    "    if epoch >= WARMUP_EPOCHS:\n",
    "        baseline_trainer_tiny.update_reference_model()\n",
    "\n",
    "    baseline_loss_tiny = baseline_trainer_tiny.train(full_train_loader, current_epoch=epoch)\n",
    "    baseline_val_acc_tiny = baseline_trainer_tiny.evaluate(full_test_loader)\n",
    "    print(f\"Epoch {epoch+1}/{NUM_EPOCHS} -> Baseline Loss: {baseline_loss_tiny:.4f} | Baseline Acc: {baseline_val_acc_tiny:.4f}\")\n",
    "\n",
    "baseline_test_acc_tiny = baseline_trainer_tiny.evaluate(full_test_loader)\n",
    "results_tiny['baseline_all_domains'] = baseline_test_acc_tiny\n",
    "print(f\"Final Baseline Test Accuracy: {baseline_test_acc_tiny:.4f}\\n\")"
   ]
  },
  {
   "cell_type": "markdown",
   "id": "2755fa40",
   "metadata": {},
   "source": [
    "### Baseline"
   ]
  },
  {
   "cell_type": "code",
   "execution_count": 23,
   "id": "677d9291",
   "metadata": {},
   "outputs": [],
   "source": [
    "# # =================================================================================\n",
    "# # GRQO + ViT Tiny Baseline Training (All Domains)\n",
    "# # =================================================================================\n",
    "\n",
    "# print(\"\\n---[ViT Tiny]--- Baseline: training on all domains with GRQO ---\")\n",
    "\n",
    "# # Data loading is the same as the 'base' baseline\n",
    "# full_train_loader = DataLoader(full_train_ds, batch_size=BATCH_SIZE, shuffle=True)\n",
    "# full_test_loader = DataLoader(full_test_ds, batch_size=BATCH_SIZE, shuffle=False)\n",
    "\n",
    "# # --- Initialize baseline model with GRQO ---\n",
    "# baseline_model_tiny = ViT_GRQO_Model(\n",
    "#     num_classes=NUM_CLASSES, \n",
    "#     model_size=\"tiny\",\n",
    "#     num_queries=NUM_QUERIES,\n",
    "#     num_decoder_layers=NUM_DECODER_LAYERS,\n",
    "#     decoder_nhead=DECODER_NHEAD\n",
    "# )\n",
    "# baseline_optimizer_tiny = optim.Adam(baseline_model_tiny.parameters(), lr=1e-4)\n",
    "# baseline_criterion_tiny = nn.CrossEntropyLoss()\n",
    "\n",
    "# baseline_trainer_tiny = Trainer(\n",
    "#     baseline_model_tiny, \n",
    "#     baseline_optimizer_tiny, \n",
    "#     baseline_criterion_tiny,\n",
    "#     grqo_alpha=GRQO_ALPHA, \n",
    "#     grqo_beta=GRQO_BETA\n",
    "# )\n",
    "\n",
    "# # --- Train baseline ---\n",
    "# for epoch in range(NUM_EPOCHS):\n",
    "#     print(f\"Baseline Epoch {epoch + 1}/{NUM_EPOCHS}\")\n",
    "#     baseline_trainer_tiny.update_reference_model()\n",
    "\n",
    "#     baseline_loss_tiny = baseline_trainer_tiny.train(full_train_loader)\n",
    "#     baseline_val_acc_tiny = baseline_trainer_tiny.evaluate(full_test_loader)\n",
    "#     print(f\"Baseline Loss: {baseline_loss_tiny:.4f} | Baseline Acc: {baseline_val_acc_tiny:.4f}\")\n",
    "\n",
    "# # --- Test baseline ---\n",
    "# baseline_test_acc_tiny = baseline_trainer_tiny.evaluate(full_test_loader)\n",
    "# results_tiny['baseline_all_domains'] = baseline_test_acc_tiny\n",
    "# print(f\"Baseline Test Accuracy: {baseline_test_acc_tiny:.4f}\")"
   ]
  },
  {
   "cell_type": "markdown",
   "id": "cf3d7251",
   "metadata": {},
   "source": [
    "### Visual Comparison"
   ]
  },
  {
   "cell_type": "code",
   "execution_count": 24,
   "id": "5dc8e4ec",
   "metadata": {},
   "outputs": [
    {
     "data": {
      "image/png": "[encoded data removed]",
      "text/plain": [
       "<Figure size 640x480 with 1 Axes>"
      ]
     },
     "metadata": {},
     "output_type": "display_data"
    }
   ],
   "source": [
    "domains = list(results_tiny.keys())\n",
    "accuracies = [results_tiny[d] for d in domains]\n",
    "\n",
    "plt.figure()\n",
    "plt.bar(domains, accuracies)\n",
    "plt.xticks(rotation=45, ha='right')\n",
    "plt.ylabel('Accuracy')\n",
    "plt.title('Leave-One-Domain-Out vs. Baseline Accuracy (ViT Tiny)')\n",
    "plt.tight_layout()\n",
    "plt.show()"
   ]
  },
  {
   "cell_type": "markdown",
   "id": "45e77ac4",
   "metadata": {},
   "source": [
    "### Final Results"
   ]
  },
  {
   "cell_type": "code",
   "execution_count": 25,
   "id": "dc95a29a",
   "metadata": {},
   "outputs": [
    {
     "name": "stdout",
     "output_type": "stream",
     "text": [
      "\\Final Results (LODO Accuracy):\n",
      "art_painting: 0.7122\n",
      "cartoon: 0.7186\n",
      "photo: 0.9371\n",
      "sketch: 0.5331\n",
      "baseline_all_domains: 0.8724\n",
      "\n",
      "Average Accuracy: 0.7547\n"
     ]
    },
    {
     "name": "stderr",
     "output_type": "stream",
     "text": [
      "<>:1: SyntaxWarning: invalid escape sequence '\\F'\n",
      "<>:1: SyntaxWarning: invalid escape sequence '\\F'\n",
      "C:\\Users\\Haseeb\\AppData\\Local\\Temp\\ipykernel_12940\\1740940439.py:1: SyntaxWarning: invalid escape sequence '\\F'\n",
      "  print(\"\\Final Results (LODO Accuracy):\")\n"
     ]
    }
   ],
   "source": [
    "\n",
    "print(\"\\Final Results (LODO Accuracy):\")\n",
    "for domain, acc in results_tiny.items():\n",
    "    print(f\"{domain}: {acc:.4f}\")\n",
    "\n",
    "avg_acc = sum(results_tiny.values()) / len(results_tiny)\n",
    "print(f\"\\nAverage Accuracy: {avg_acc:.4f}\")\n"
   ]
  },
  {
   "cell_type": "markdown",
   "id": "cd735321",
   "metadata": {},
   "source": [
    "## Performance Comparison"
   ]
  },
  {
   "cell_type": "code",
   "execution_count": 26,
   "id": "958dfa94",
   "metadata": {},
   "outputs": [
    {
     "data": {
      "image/png": "[encoded data removed]",
      "text/plain": [
       "<Figure size 2000x1200 with 5 Axes>"
      ]
     },
     "metadata": {},
     "output_type": "display_data"
    },
    {
     "name": "stdout",
     "output_type": "stream",
     "text": [
      "\n",
      "Detailed Performance Comparison:\n",
      "------------------------------------------------------------\n",
      "Domain                Base      Small       Tiny\n",
      "------------------------------------------------------------\n",
      "art_painting        80.00%     71.22%     71.22%\n",
      "cartoon             73.56%     80.60%     71.86%\n",
      "photo               97.90%     94.31%     93.71%\n",
      "sketch              27.86%     69.85%     53.31%\n",
      "------------------------------------------------------------\n",
      "Baseline            90.25%     91.65%     87.24%\n",
      "------------------------------------------------------------\n"
     ]
    }
   ],
   "source": [
    "plt.figure(figsize=(20, 12))\n",
    "\n",
    "for idx, domain in enumerate(DOMAINS):\n",
    "    plt.subplot(2, 3, idx + 1)\n",
    "\n",
    "    domain_accuracies = [\n",
    "        results_base[domain],\n",
    "        results_small[domain],\n",
    "        results_tiny[domain]\n",
    "    ]\n",
    "\n",
    "    bars = plt.bar(MODELS.keys(), domain_accuracies, color=[\"skyblue\", \"orange\", \"green\"])\n",
    "    plt.ylim(0, 1)\n",
    "    plt.ylabel(\"Test Accuracy\")\n",
    "    plt.title(f\"Model Comparison - {domain} Domain\")\n",
    "    plt.grid(axis=\"y\", linestyle=\"--\", alpha=0.5)\n",
    "    \n",
    "    # Add value labels on top of bars\n",
    "    for i, acc in enumerate(domain_accuracies):\n",
    "        plt.text(i, acc + 0.01, f\"{acc:.2%}\", ha=\"center\")\n",
    "\n",
    "# Create the baseline comparison subplot\n",
    "plt.subplot(2, 3, 5) \n",
    "baseline_accuracies = [\n",
    "    results_base[\"baseline_all_domains\"],\n",
    "    results_small[\"baseline_all_domains\"],\n",
    "    results_tiny[\"baseline_all_domains\"]\n",
    "]\n",
    "plt.bar(MODELS.keys(), baseline_accuracies, color=[\"skyblue\", \"orange\", \"green\"])\n",
    "plt.ylim(0, 1)\n",
    "plt.ylabel(\"Test Accuracy\")\n",
    "plt.title(\"Model Comparison - Baseline (All Domains)\")\n",
    "plt.grid(axis=\"y\", linestyle=\"--\", alpha=0.5)\n",
    "\n",
    "for i, acc in enumerate(baseline_accuracies):\n",
    "    plt.text(i, acc + 0.01, f\"{acc:.2%}\", ha=\"center\")\n",
    "\n",
    "plt.tight_layout()\n",
    "plt.show()\n",
    "\n",
    "print(\"\\nDetailed Performance Comparison:\")\n",
    "print(\"-\" * 60)\n",
    "print(f\"{'Domain':<15} {'Base':>10} {'Small':>10} {'Tiny':>10}\")\n",
    "print(\"-\" * 60)\n",
    "\n",
    "for domain in DOMAINS:\n",
    "    print(f\"{domain:<15} {results_base[domain]:>10.2%} {results_small[domain]:>10.2%} {results_tiny[domain]:>10.2%}\")\n",
    "\n",
    "print(\"-\" * 60)\n",
    "print(f\"{'Baseline':<15} {results_base['baseline_all_domains']:>10.2%} {results_small['baseline_all_domains']:>10.2%} {results_tiny['baseline_all_domains']:>10.2%}\")\n",
    "print(\"-\" * 60)"
   ]
  }
 ],
 "metadata": {
  "kernelspec": {
   "display_name": "Python 3",
   "language": "python",
   "name": "python3"
  },
  "language_info": {
   "codemirror_mode": {
    "name": "ipython",
    "version": 3
   },
   "file_extension": ".py",
   "mimetype": "text/x-python",
   "name": "python",
   "nbconvert_exporter": "python",
   "pygments_lexer": "ipython3",
   "version": "3.12.0"
  }
 },
 "nbformat": 4,
 "nbformat_minor": 5
}
