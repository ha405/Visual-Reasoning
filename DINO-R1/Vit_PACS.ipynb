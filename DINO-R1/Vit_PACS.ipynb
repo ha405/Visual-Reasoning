{
 "cells": [
  {
   "cell_type": "markdown",
   "id": "8848ffa2",
   "metadata": {},
   "source": [
    "## PACS Domain Generalization with Vision Transformer (ViT)"
   ]
  },
  {
   "cell_type": "markdown",
   "id": "4f4b05ee",
   "metadata": {},
   "source": [
    "## Setup & Imports"
   ]
  },
  {
   "cell_type": "code",
   "execution_count": 1,
   "id": "d54f7928",
   "metadata": {},
   "outputs": [
    {
     "name": "stderr",
     "output_type": "stream",
     "text": [
      "c:\\Users\\Haseeb\\AppData\\Local\\Programs\\Python\\Python312\\Lib\\site-packages\\tqdm\\auto.py:21: TqdmWarning: IProgress not found. Please update jupyter and ipywidgets. See https://ipywidgets.readthedocs.io/en/stable/user_install.html\n",
      "  from .autonotebook import tqdm as notebook_tqdm\n"
     ]
    }
   ],
   "source": [
    "\n",
    "import os\n",
    "import torch\n",
    "import torchvision.transforms as transforms\n",
    "import torchvision.datasets as datasets\n",
    "import torch.nn as nn\n",
    "import torch.optim as optim\n",
    "from torch.utils.data import DataLoader, Subset, ConcatDataset\n",
    "from sklearn.model_selection import train_test_split\n",
    "from transformers import ViTForImageClassification, ViTFeatureExtractor\n",
    "from tqdm import tqdm\n",
    "import numpy as np\n",
    "import matplotlib.pyplot as plt\n",
    "import random\n"
   ]
  },
  {
   "cell_type": "markdown",
   "id": "08410c63",
   "metadata": {},
   "source": [
    "## Configuration & Seeds"
   ]
  },
  {
   "cell_type": "code",
   "execution_count": 2,
   "id": "c2647726",
   "metadata": {},
   "outputs": [
    {
     "name": "stdout",
     "output_type": "stream",
     "text": [
      "Device: cuda\n"
     ]
    }
   ],
   "source": [
    "\n",
    "DEVICE = torch.device(\"cuda\" if torch.cuda.is_available() else \"cpu\")\n",
    "print(f\"Device: {DEVICE}\")\n",
    "SEED = 42\n",
    "BATCH_SIZE = 24\n",
    "NUM_EPOCHS = 5\n",
    "NUM_CLASSES = 7\n",
    "DATA_ROOT = \"../../../pacs_data/pacs_data\"\n",
    "DOMAINS = [\"art_painting\", \"cartoon\", \"photo\", \"sketch\"]\n",
    "MODELS = {\n",
    "    \"base\": \"google/vit-base-patch16-224-in21k\",\n",
    "    \"small\": \"WinKawaks/vit-small-patch16-224\",\n",
    "    \"tiny\": \"WinKawaks/vit-tiny-patch16-224\"\n",
    "    }\n",
    "\n",
    "torch.manual_seed(SEED)\n",
    "np.random.seed(SEED)\n",
    "random.seed(SEED)\n"
   ]
  },
  {
   "cell_type": "code",
   "execution_count": 3,
   "id": "78686742",
   "metadata": {},
   "outputs": [],
   "source": [
    "# =================================================================================\n",
    "# GRQO Model and Training Hyperparameters\n",
    "# =================================================================================\n",
    "NUM_QUERIES = 30           # Number of learnable queries for the decoder\n",
    "NUM_DECODER_LAYERS = 2     # Number of layers in the Transformer Decoder\n",
    "DECODER_NHEAD = 8          # Number of attention heads in the decoder\n",
    "\n",
    "# GRQO Loss weights from the DINO-R1 paper (can be tuned)\n",
    "# We can start with smaller values as our rewards are different\n",
    "GRQO_ALPHA = 1.0           # Weight for the policy/reward loss\n",
    "GRQO_BETA = 0.05           # Weight for the KL-divergence regularization"
   ]
  },
  {
   "cell_type": "markdown",
   "id": "79b27125",
   "metadata": {},
   "source": [
    "## Dataset Wrapper Class"
   ]
  },
  {
   "cell_type": "code",
   "execution_count": 4,
   "id": "908de0df",
   "metadata": {},
   "outputs": [],
   "source": [
    "\n",
    "class PACSDataset:\n",
    "    def __init__(self, data_root, domains, transform):\n",
    "        self.data_root = data_root\n",
    "        self.domains = domains\n",
    "        self.transform = transform\n",
    "\n",
    "    def get_dataloader(self, domain, train=True):\n",
    "        dataset = datasets.ImageFolder(os.path.join(self.data_root, domain), transform=self.transform)\n",
    "        \n",
    "        indices = list(range(len(dataset)))\n",
    "        train_idx, val_idx = train_test_split(indices, test_size=0.2, stratify=[dataset.targets[i] for i in indices], random_state=SEED)\n",
    "        selected_idx = train_idx if train else val_idx\n",
    "        \n",
    "        subset = Subset(dataset, selected_idx)\n",
    "        loader = DataLoader(subset, batch_size=BATCH_SIZE, shuffle=train)\n",
    "        return loader\n"
   ]
  },
  {
   "cell_type": "markdown",
   "id": "5f80938e",
   "metadata": {},
   "source": [
    "## Vision Transformer Wrapper Class"
   ]
  },
  {
   "cell_type": "code",
   "execution_count": 5,
   "id": "987f5d0b",
   "metadata": {},
   "outputs": [],
   "source": [
    "# =================================================================================\n",
    "# Vision Transformer GRQO Wrapper Class (Replaces the old ViTModel)\n",
    "# =================================================================================\n",
    "\n",
    "from transformers import ViTModel # <-- Note the change from ViTForImageClassification\n",
    "\n",
    "class ViT_GRQO_Model(nn.Module):\n",
    "    \"\"\"\n",
    "    A hybrid Vision Transformer (ViT) and Transformer Decoder model inspired by DETR/DINO.\n",
    "    This model adapts the architecture for a classification task trained with GRQO.\n",
    "    \"\"\"\n",
    "    def __init__(self,\n",
    "                 num_classes,\n",
    "                 model_size=\"base\",\n",
    "                 num_queries=30,\n",
    "                 num_decoder_layers=2,\n",
    "                 decoder_nhead=8):\n",
    "        \"\"\"\n",
    "        Initializes the hybrid model.\n",
    "\n",
    "        Args:\n",
    "            num_classes (int): The number of output classes.\n",
    "            model_size (str): The size of the ViT model ('base', 'small', 'tiny').\n",
    "            num_queries (int): The number of learnable \"object queries\" to use in the decoder.\n",
    "            num_decoder_layers (int): The number of layers in the Transformer Decoder.\n",
    "            decoder_nhead (int): The number of attention heads in the Transformer Decoder.\n",
    "        \"\"\"\n",
    "        super().__init__()\n",
    "        \n",
    "        model_name = MODELS[model_size]\n",
    "        \n",
    "        # 1. Load the ViT model as a feature extractor (backbone)\n",
    "        # We use ViTModel to get the raw hidden states, not the final classification output.\n",
    "        self.model = ViTModel.from_pretrained(model_name)\n",
    "        \n",
    "        # Get the embedding dimension from the ViT config\n",
    "        embed_dim = self.model.config.hidden_size\n",
    "        self.embed_dim = embed_dim\n",
    "        self.num_queries = num_queries\n",
    "\n",
    "        # 2. Create the learnable query embeddings\n",
    "        self.query_embed = nn.Embedding(num_queries, embed_dim)\n",
    "\n",
    "        # 3. Create the Transformer Decoder\n",
    "        decoder_layer = nn.TransformerDecoderLayer(\n",
    "            d_model=embed_dim,\n",
    "            nhead=decoder_nhead,\n",
    "            batch_first=True  # Important for easier tensor manipulation\n",
    "        )\n",
    "        self.decoder = nn.TransformerDecoder(decoder_layer, num_layers=num_decoder_layers)\n",
    "\n",
    "        # 4. Create the final classification head (MLP)\n",
    "        # This single head will be applied to the output of every query\n",
    "        self.classifier = nn.Linear(embed_dim, num_classes)\n",
    "        \n",
    "        print(f\"Initialized ViT-GRQO Model (ViT-{model_size}) with {num_queries} queries.\")\n",
    "\n",
    "    def forward(self, x: torch.Tensor) -> torch.Tensor:\n",
    "        \"\"\"\n",
    "        Defines the forward pass of the model.\n",
    "\n",
    "        Args:\n",
    "            x (torch.Tensor): Input batch of images with shape (batch_size, channels, height, width).\n",
    "\n",
    "        Returns:\n",
    "            torch.Tensor: Logits for each query, with shape (batch_size, num_queries, num_classes).\n",
    "        \"\"\"\n",
    "        # 1. Get image features from the ViT backbone\n",
    "        # We don't use the pooler output, just the sequence of patch embeddings\n",
    "        outputs = self.model(pixel_values=x)\n",
    "        patch_embeds = outputs.last_hidden_state # Shape: (batch_size, num_patches + 1, embed_dim)\n",
    "        \n",
    "        # We don't strictly need to remove the [CLS] token, but it's good practice\n",
    "        patch_embeds = patch_embeds[:, 1:, :] # Shape: (batch_size, num_patches, embed_dim)\n",
    "\n",
    "        # 2. Prepare the queries for the decoder\n",
    "        # Get the learnable query vectors and expand them for the batch\n",
    "        query_embed = self.query_embed.weight.unsqueeze(0).repeat(x.size(0), 1, 1)\n",
    "\n",
    "        # 3. Pass features and queries through the decoder\n",
    "        # `query_embed` is the target (tgt), `patch_embeds` is the memory\n",
    "        decoder_output = self.decoder(tgt=query_embed, memory=patch_embeds)\n",
    "        # Shape: (batch_size, num_queries, embed_dim)\n",
    "\n",
    "        # 4. Apply the classifier to each query's output\n",
    "        logits = self.classifier(decoder_output)\n",
    "        # Shape: (batch_size, num_queries, num_classes)\n",
    "\n",
    "        return logits"
   ]
  },
  {
   "cell_type": "markdown",
   "id": "64fb41f6",
   "metadata": {},
   "source": [
    "## Trainer Class"
   ]
  },
  {
   "cell_type": "code",
   "execution_count": 6,
   "id": "f19d88da",
   "metadata": {},
   "outputs": [],
   "source": [
    "# =================================================================================\n",
    "# Trainer Class (Replaces the old Trainer)\n",
    "# =================================================================================\n",
    "import torch.nn.functional as F\n",
    "import copy\n",
    "\n",
    "class Trainer:\n",
    "    \"\"\"\n",
    "    A trainer class to handle the training and evaluation loop, now with GRQO logic.\n",
    "    \"\"\"\n",
    "    def __init__(self, model, optimizer, criterion, grqo_alpha=0.5, grqo_beta=0.01):\n",
    "        \"\"\"\n",
    "        Initializes the Trainer.\n",
    "\n",
    "        Args:\n",
    "            model: The model to be trained (our new ViT_GRQO_Model).\n",
    "            optimizer: The optimizer.\n",
    "            criterion: The base loss function (e.g., CrossEntropyLoss).\n",
    "            grqo_alpha (float): The weight for the GRQO policy loss.\n",
    "            grqo_beta (float): The weight for the KL-divergence regularization loss.\n",
    "        \"\"\"\n",
    "        self.model = model.to(DEVICE)\n",
    "        self.optimizer = optimizer\n",
    "        self.criterion = criterion\n",
    "        \n",
    "        # Store GRQO hyperparameters\n",
    "        self.alpha = grqo_alpha\n",
    "        self.beta = grqo_beta\n",
    "        \n",
    "        # Initialize the reference model placeholder\n",
    "        self.ref_model = None\n",
    "        \n",
    "        print(f\"Initialized Trainer with GRQO (alpha={self.alpha}, beta={self.beta}).\")\n",
    "        \n",
    "    def update_reference_model(self):\n",
    "        \"\"\"\n",
    "        Creates a frozen, deep copy of the current model to be used as the\n",
    "        reference model for KL-divergence calculation.\n",
    "        This should be called at the beginning of each epoch.\n",
    "        \"\"\"\n",
    "        print(\"Updating reference model...\")\n",
    "        if self.ref_model is None:\n",
    "            self.ref_model = copy.deepcopy(self.model)\n",
    "        else:\n",
    "            self.ref_model.load_state_dict(self.model.state_dict())\n",
    "        \n",
    "        # Set the reference model to evaluation mode and freeze its parameters\n",
    "        self.ref_model.eval()\n",
    "        for param in self.ref_model.parameters():\n",
    "            param.requires_grad = False\n",
    "        print(\"Reference model updated successfully.\")\n",
    "\n",
    "    def train(self, dataloader):\n",
    "        \"\"\"\n",
    "        Runs a single training epoch with the composite GRQO loss.\n",
    "        \"\"\"\n",
    "        self.model.train()\n",
    "        total_loss_epoch = 0\n",
    "\n",
    "        for inputs, labels in tqdm(dataloader, desc=\"Training\"):\n",
    "            inputs, labels = inputs.to(DEVICE), labels.to(DEVICE)\n",
    "\n",
    "            # --- Forward Passes ---\n",
    "            # 1. Get logits from the active model (gradients will flow)\n",
    "            active_logits = self.model(inputs) # Shape: (B, num_queries, num_classes)\n",
    "\n",
    "            # 2. Get logits from the reference model (no gradients)\n",
    "            with torch.no_grad():\n",
    "                ref_logits = self.ref_model(inputs) # Shape: (B, num_queries, num_classes)\n",
    "\n",
    "            # --- Loss Calculation ---\n",
    "            # Component 1: Standard Supervised Loss (loss_sft)\n",
    "            # This loss is based on the averaged prediction of all queries.\n",
    "            avg_active_logits = active_logits.mean(dim=1)\n",
    "            loss_sft = self.criterion(avg_active_logits, labels)\n",
    "\n",
    "            # Component 2: GRQO Policy Loss (loss_grqo)\n",
    "            # We need to calculate rewards for each query.\n",
    "            # a. Calculate per-query cross-entropy loss\n",
    "            #    (B, N_q, N_c) -> (B, N_c, N_q) for F.cross_entropy\n",
    "            #    reduction='none' gives us loss for each item in the batch\n",
    "            per_query_loss = F.cross_entropy(\n",
    "                active_logits.permute(0, 2, 1), \n",
    "                labels.unsqueeze(1).repeat(1, self.model.num_queries), \n",
    "                reduction='none'\n",
    "            ) # Shape: (B, num_queries)\n",
    "            \n",
    "            # b. Rewards are the negative loss\n",
    "            rewards = -per_query_loss\n",
    "            \n",
    "            # c. Normalize rewards to get advantages (stop gradients here)\n",
    "            mean_rewards = rewards.mean(dim=1, keepdim=True)\n",
    "            std_rewards = rewards.std(dim=1, keepdim=True)\n",
    "            advantages = (rewards - mean_rewards) / (std_rewards + 1e-9)\n",
    "            advantages = advantages.detach()\n",
    "            \n",
    "            # d. Calculate policy loss (negative of advantage-weighted log-probs)\n",
    "            log_probs = F.log_softmax(active_logits, dim=-1)\n",
    "            # Gather the log-probs for the ground-truth labels for each query\n",
    "            gt_log_probs = log_probs.gather(2, labels.view(-1, 1, 1).repeat(1, self.model.num_queries, 1)).squeeze(-1)\n",
    "            loss_grqo = - (advantages * gt_log_probs).mean()\n",
    "            \n",
    "            # Component 3: KL-Divergence Loss (loss_kl)\n",
    "            # This keeps the active model from straying too far from the reference model.\n",
    "            loss_kl = F.kl_div(\n",
    "                F.log_softmax(active_logits, dim=-1),\n",
    "                F.softmax(ref_logits.detach(), dim=-1),\n",
    "                reduction='batchmean' # 'batchmean' averages the loss over the batch\n",
    "            )\n",
    "\n",
    "            # --- Total Loss and Backpropagation ---\n",
    "            total_loss = loss_sft + self.alpha * loss_grqo + self.beta * loss_kl\n",
    "            \n",
    "            self.optimizer.zero_grad()\n",
    "            total_loss.backward()\n",
    "            self.optimizer.step()\n",
    "            \n",
    "            total_loss_epoch += total_loss.item()\n",
    "            \n",
    "        return total_loss_epoch / len(dataloader)\n",
    "\n",
    "    def evaluate(self, dataloader):\n",
    "        \"\"\"\n",
    "        Runs a single evaluation epoch.\n",
    "        \"\"\"\n",
    "        self.model.eval()\n",
    "        total_correct = 0\n",
    "        total = 0\n",
    "        with torch.no_grad():\n",
    "            for inputs, labels in tqdm(dataloader, desc=\"Evaluating\"):\n",
    "                inputs, labels = inputs.to(DEVICE), labels.to(DEVICE)\n",
    "                \n",
    "                # Get per-query logits from the model\n",
    "                outputs = self.model(inputs) # Shape: (B, num_queries, num_classes)\n",
    "                \n",
    "                # For evaluation, we average the predictions of all queries\n",
    "                avg_outputs = outputs.mean(dim=1)\n",
    "                \n",
    "                preds = torch.argmax(avg_outputs, dim=1)\n",
    "                \n",
    "                total_correct += (preds == labels).sum().item()\n",
    "                total += labels.size(0)\n",
    "                \n",
    "        return total_correct / total"
   ]
  },
  {
   "cell_type": "markdown",
   "id": "2d062397",
   "metadata": {},
   "source": [
    "## Base ViT"
   ]
  },
  {
   "cell_type": "markdown",
   "id": "49b7bf8b",
   "metadata": {},
   "source": [
    "### Leave-One-Domain-Out (LODO) Training"
   ]
  },
  {
   "cell_type": "code",
   "execution_count": 7,
   "id": "e9160f49",
   "metadata": {},
   "outputs": [
    {
     "name": "stdout",
     "output_type": "stream",
     "text": [
      "--- Testing on domain: art_painting ---\n",
      "Initialized ViT-GRQO Model (ViT-base) with 30 queries.\n",
      "Initialized Trainer with GRQO (alpha=1.0, beta=0.05).\n",
      "Epoch 1/5\n",
      "Updating reference model...\n",
      "Reference model updated successfully.\n"
     ]
    },
    {
     "name": "stderr",
     "output_type": "stream",
     "text": [
      "Training: 100%|██████████| 265/265 [00:43<00:00,  6.08it/s]\n",
      "Evaluating: 100%|██████████| 67/67 [00:04<00:00, 15.97it/s]\n"
     ]
    },
    {
     "name": "stdout",
     "output_type": "stream",
     "text": [
      "Train Loss: -4.7752 | Val Acc: 0.9434\n",
      "Epoch 2/5\n",
      "Updating reference model...\n",
      "Reference model updated successfully.\n"
     ]
    },
    {
     "name": "stderr",
     "output_type": "stream",
     "text": [
      "Training: 100%|██████████| 265/265 [00:43<00:00,  6.15it/s]\n",
      "Evaluating: 100%|██████████| 67/67 [00:04<00:00, 16.20it/s]\n"
     ]
    },
    {
     "name": "stdout",
     "output_type": "stream",
     "text": [
      "Train Loss: -24.1503 | Val Acc: 0.9289\n",
      "Epoch 3/5\n",
      "Updating reference model...\n",
      "Reference model updated successfully.\n"
     ]
    },
    {
     "name": "stderr",
     "output_type": "stream",
     "text": [
      "Training: 100%|██████████| 265/265 [00:43<00:00,  6.11it/s]\n",
      "Evaluating: 100%|██████████| 67/67 [00:04<00:00, 16.01it/s]\n"
     ]
    },
    {
     "name": "stdout",
     "output_type": "stream",
     "text": [
      "Train Loss: -47.1613 | Val Acc: 0.7615\n",
      "Epoch 4/5\n",
      "Updating reference model...\n",
      "Reference model updated successfully.\n"
     ]
    },
    {
     "name": "stderr",
     "output_type": "stream",
     "text": [
      "Training: 100%|██████████| 265/265 [00:43<00:00,  6.13it/s]\n",
      "Evaluating: 100%|██████████| 67/67 [00:04<00:00, 16.14it/s]\n"
     ]
    },
    {
     "name": "stdout",
     "output_type": "stream",
     "text": [
      "Train Loss: -67.0989 | Val Acc: 0.4959\n",
      "Epoch 5/5\n",
      "Updating reference model...\n",
      "Reference model updated successfully.\n"
     ]
    },
    {
     "name": "stderr",
     "output_type": "stream",
     "text": [
      "Training: 100%|██████████| 265/265 [00:43<00:00,  6.15it/s]\n",
      "Evaluating: 100%|██████████| 67/67 [00:04<00:00, 16.21it/s]\n"
     ]
    },
    {
     "name": "stdout",
     "output_type": "stream",
     "text": [
      "Train Loss: -92.9628 | Val Acc: 0.4519\n"
     ]
    },
    {
     "name": "stderr",
     "output_type": "stream",
     "text": [
      "Evaluating: 100%|██████████| 18/18 [00:01<00:00, 16.14it/s]\n"
     ]
    },
    {
     "name": "stdout",
     "output_type": "stream",
     "text": [
      "Test Accuracy on art_painting: 0.4512\n",
      "--- Testing on domain: cartoon ---\n",
      "Initialized ViT-GRQO Model (ViT-base) with 30 queries.\n",
      "Initialized Trainer with GRQO (alpha=1.0, beta=0.05).\n",
      "Epoch 1/5\n",
      "Updating reference model...\n",
      "Reference model updated successfully.\n"
     ]
    },
    {
     "name": "stderr",
     "output_type": "stream",
     "text": [
      "Training: 100%|██████████| 255/255 [00:41<00:00,  6.13it/s]\n",
      "Evaluating: 100%|██████████| 64/64 [00:04<00:00, 15.89it/s]\n"
     ]
    },
    {
     "name": "stdout",
     "output_type": "stream",
     "text": [
      "Train Loss: -4.5825 | Val Acc: 0.6869\n",
      "Epoch 2/5\n",
      "Updating reference model...\n",
      "Reference model updated successfully.\n"
     ]
    },
    {
     "name": "stderr",
     "output_type": "stream",
     "text": [
      "Training: 100%|██████████| 255/255 [00:41<00:00,  6.10it/s]\n",
      "Evaluating: 100%|██████████| 64/64 [00:04<00:00, 15.73it/s]\n"
     ]
    },
    {
     "name": "stdout",
     "output_type": "stream",
     "text": [
      "Train Loss: -25.2325 | Val Acc: 0.9301\n",
      "Epoch 3/5\n",
      "Updating reference model...\n",
      "Reference model updated successfully.\n"
     ]
    },
    {
     "name": "stderr",
     "output_type": "stream",
     "text": [
      "Training: 100%|██████████| 255/255 [00:42<00:00,  6.07it/s]\n",
      "Evaluating: 100%|██████████| 64/64 [00:04<00:00, 15.80it/s]\n"
     ]
    },
    {
     "name": "stdout",
     "output_type": "stream",
     "text": [
      "Train Loss: -43.6307 | Val Acc: 0.8791\n",
      "Epoch 4/5\n",
      "Updating reference model...\n",
      "Reference model updated successfully.\n"
     ]
    },
    {
     "name": "stderr",
     "output_type": "stream",
     "text": [
      "Training: 100%|██████████| 255/255 [00:41<00:00,  6.09it/s]\n",
      "Evaluating: 100%|██████████| 64/64 [00:04<00:00, 15.86it/s]\n"
     ]
    },
    {
     "name": "stdout",
     "output_type": "stream",
     "text": [
      "Train Loss: -62.3110 | Val Acc: 0.9039\n",
      "Epoch 5/5\n",
      "Updating reference model...\n",
      "Reference model updated successfully.\n"
     ]
    },
    {
     "name": "stderr",
     "output_type": "stream",
     "text": [
      "Training: 100%|██████████| 255/255 [00:41<00:00,  6.09it/s]\n",
      "Evaluating: 100%|██████████| 64/64 [00:03<00:00, 16.02it/s]\n"
     ]
    },
    {
     "name": "stdout",
     "output_type": "stream",
     "text": [
      "Train Loss: -82.3921 | Val Acc: 0.9327\n"
     ]
    },
    {
     "name": "stderr",
     "output_type": "stream",
     "text": [
      "Evaluating: 100%|██████████| 20/20 [00:01<00:00, 16.88it/s]\n"
     ]
    },
    {
     "name": "stdout",
     "output_type": "stream",
     "text": [
      "Test Accuracy on cartoon: 0.7612\n",
      "--- Testing on domain: photo ---\n",
      "Initialized ViT-GRQO Model (ViT-base) with 30 queries.\n",
      "Initialized Trainer with GRQO (alpha=1.0, beta=0.05).\n",
      "Epoch 1/5\n",
      "Updating reference model...\n",
      "Reference model updated successfully.\n"
     ]
    },
    {
     "name": "stderr",
     "output_type": "stream",
     "text": [
      "Training: 100%|██████████| 278/278 [00:42<00:00,  6.47it/s]\n",
      "Evaluating: 100%|██████████| 70/70 [00:04<00:00, 16.70it/s]\n"
     ]
    },
    {
     "name": "stdout",
     "output_type": "stream",
     "text": [
      "Train Loss: -4.7948 | Val Acc: 0.6535\n",
      "Epoch 2/5\n",
      "Updating reference model...\n",
      "Reference model updated successfully.\n"
     ]
    },
    {
     "name": "stderr",
     "output_type": "stream",
     "text": [
      "Training: 100%|██████████| 278/278 [00:42<00:00,  6.47it/s]\n",
      "Evaluating: 100%|██████████| 70/70 [00:04<00:00, 16.81it/s]\n"
     ]
    },
    {
     "name": "stdout",
     "output_type": "stream",
     "text": [
      "Train Loss: -26.9612 | Val Acc: 0.9123\n",
      "Epoch 3/5\n",
      "Updating reference model...\n",
      "Reference model updated successfully.\n"
     ]
    },
    {
     "name": "stderr",
     "output_type": "stream",
     "text": [
      "Training: 100%|██████████| 278/278 [00:42<00:00,  6.48it/s]\n",
      "Evaluating: 100%|██████████| 70/70 [00:04<00:00, 16.69it/s]\n"
     ]
    },
    {
     "name": "stdout",
     "output_type": "stream",
     "text": [
      "Train Loss: -47.6833 | Val Acc: 0.9003\n",
      "Epoch 4/5\n",
      "Updating reference model...\n",
      "Reference model updated successfully.\n"
     ]
    },
    {
     "name": "stderr",
     "output_type": "stream",
     "text": [
      "Training: 100%|██████████| 278/278 [00:42<00:00,  6.47it/s]\n",
      "Evaluating: 100%|██████████| 70/70 [00:04<00:00, 16.74it/s]\n"
     ]
    },
    {
     "name": "stdout",
     "output_type": "stream",
     "text": [
      "Train Loss: -65.2893 | Val Acc: 0.6018\n",
      "Epoch 5/5\n",
      "Updating reference model...\n",
      "Reference model updated successfully.\n"
     ]
    },
    {
     "name": "stderr",
     "output_type": "stream",
     "text": [
      "Training: 100%|██████████| 278/278 [00:43<00:00,  6.45it/s]\n",
      "Evaluating: 100%|██████████| 70/70 [00:04<00:00, 16.74it/s]\n"
     ]
    },
    {
     "name": "stdout",
     "output_type": "stream",
     "text": [
      "Train Loss: -75.0846 | Val Acc: 0.2631\n"
     ]
    },
    {
     "name": "stderr",
     "output_type": "stream",
     "text": [
      "Evaluating: 100%|██████████| 14/14 [00:00<00:00, 16.46it/s]\n"
     ]
    },
    {
     "name": "stdout",
     "output_type": "stream",
     "text": [
      "Test Accuracy on photo: 0.1317\n",
      "--- Testing on domain: sketch ---\n",
      "Initialized ViT-GRQO Model (ViT-base) with 30 queries.\n",
      "Initialized Trainer with GRQO (alpha=1.0, beta=0.05).\n",
      "Epoch 1/5\n",
      "Updating reference model...\n",
      "Reference model updated successfully.\n"
     ]
    },
    {
     "name": "stderr",
     "output_type": "stream",
     "text": [
      "Training: 100%|██████████| 203/203 [00:31<00:00,  6.39it/s]\n",
      "Evaluating: 100%|██████████| 51/51 [00:03<00:00, 16.00it/s]\n"
     ]
    },
    {
     "name": "stdout",
     "output_type": "stream",
     "text": [
      "Train Loss: -3.8621 | Val Acc: 0.9448\n",
      "Epoch 2/5\n",
      "Updating reference model...\n",
      "Reference model updated successfully.\n"
     ]
    },
    {
     "name": "stderr",
     "output_type": "stream",
     "text": [
      "Training: 100%|██████████| 203/203 [00:31<00:00,  6.41it/s]\n",
      "Evaluating: 100%|██████████| 51/51 [00:03<00:00, 15.97it/s]\n"
     ]
    },
    {
     "name": "stdout",
     "output_type": "stream",
     "text": [
      "Train Loss: -17.4458 | Val Acc: 0.7832\n",
      "Epoch 3/5\n",
      "Updating reference model...\n",
      "Reference model updated successfully.\n"
     ]
    },
    {
     "name": "stderr",
     "output_type": "stream",
     "text": [
      "Training: 100%|██████████| 203/203 [00:31<00:00,  6.42it/s]\n",
      "Evaluating: 100%|██████████| 51/51 [00:03<00:00, 15.83it/s]\n"
     ]
    },
    {
     "name": "stdout",
     "output_type": "stream",
     "text": [
      "Train Loss: -30.6397 | Val Acc: 0.9382\n",
      "Epoch 4/5\n",
      "Updating reference model...\n",
      "Reference model updated successfully.\n"
     ]
    },
    {
     "name": "stderr",
     "output_type": "stream",
     "text": [
      "Training: 100%|██████████| 203/203 [00:31<00:00,  6.41it/s]\n",
      "Evaluating: 100%|██████████| 51/51 [00:03<00:00, 15.44it/s]\n"
     ]
    },
    {
     "name": "stdout",
     "output_type": "stream",
     "text": [
      "Train Loss: -47.6752 | Val Acc: 0.9538\n",
      "Epoch 5/5\n",
      "Updating reference model...\n",
      "Reference model updated successfully.\n"
     ]
    },
    {
     "name": "stderr",
     "output_type": "stream",
     "text": [
      "Training: 100%|██████████| 203/203 [00:31<00:00,  6.40it/s]\n",
      "Evaluating: 100%|██████████| 51/51 [00:03<00:00, 15.93it/s]\n"
     ]
    },
    {
     "name": "stdout",
     "output_type": "stream",
     "text": [
      "Train Loss: -65.9037 | Val Acc: 0.9456\n"
     ]
    },
    {
     "name": "stderr",
     "output_type": "stream",
     "text": [
      "Evaluating: 100%|██████████| 33/33 [00:01<00:00, 16.59it/s]"
     ]
    },
    {
     "name": "stdout",
     "output_type": "stream",
     "text": [
      "Test Accuracy on sketch: 0.6450\n"
     ]
    },
    {
     "name": "stderr",
     "output_type": "stream",
     "text": [
      "\n"
     ]
    }
   ],
   "source": [
    "# =================================================================================\n",
    "# GRQO + ViT Base Leave-One-Domain-Out (LODO) Training\n",
    "# =================================================================================\n",
    "\n",
    "# Image transformations remain the same\n",
    "transform = transforms.Compose([\n",
    "    transforms.Resize((224, 224)),\n",
    "    transforms.ToTensor(),\n",
    "    transforms.Normalize(mean=[0.5, 0.5, 0.5], std=[0.5, 0.5, 0.5]) # Normalizing for 3 channels\n",
    "])\n",
    "\n",
    "results_base = {}\n",
    "\n",
    "for test_domain in DOMAINS:\n",
    "    print(f\"--- Testing on domain: {test_domain} ---\")\n",
    "    train_domains = [d for d in DOMAINS if d != test_domain]\n",
    "\n",
    "    # --- Load datasets ---\n",
    "    dataset = PACSDataset(DATA_ROOT, DOMAINS, transform)\n",
    "    train_loaders = [dataset.get_dataloader(d, train=True) for d in train_domains]\n",
    "    val_loaders = [dataset.get_dataloader(d, train=False) for d in train_domains]\n",
    "    test_loader = dataset.get_dataloader(test_domain, train=False)\n",
    "\n",
    "    # --- Concatenate datasets ---\n",
    "    train_ds = ConcatDataset([dl.dataset for dl in train_loaders])\n",
    "    val_ds = ConcatDataset([dl.dataset for dl in val_loaders])\n",
    "\n",
    "    train_loader = DataLoader(train_ds, batch_size=BATCH_SIZE, shuffle=True)\n",
    "    val_loader = DataLoader(val_ds, batch_size=BATCH_SIZE, shuffle=False)\n",
    "\n",
    "    # --- Initialize model, optimizer, and criterion ---\n",
    "    # Use the new ViT_GRQO_Model\n",
    "    model_base = ViT_GRQO_Model(\n",
    "        num_classes=NUM_CLASSES,\n",
    "        model_size=\"base\",\n",
    "        num_queries=NUM_QUERIES,\n",
    "        num_decoder_layers=NUM_DECODER_LAYERS,\n",
    "        decoder_nhead=DECODER_NHEAD\n",
    "    )\n",
    "    optimizer = optim.Adam(model_base.parameters(), lr=1e-4)\n",
    "    criterion = nn.CrossEntropyLoss()\n",
    "    \n",
    "    # Use the new Trainer with GRQO parameters\n",
    "    trainer = Trainer(\n",
    "        model_base, \n",
    "        optimizer, \n",
    "        criterion, \n",
    "        grqo_alpha=GRQO_ALPHA, \n",
    "        grqo_beta=GRQO_BETA\n",
    "    )\n",
    "\n",
    "    # --- Train ---\n",
    "    for epoch in range(NUM_EPOCHS):\n",
    "        print(f\"Epoch {epoch + 1}/{NUM_EPOCHS}\")\n",
    "        \n",
    "        # !! CRITICAL STEP !! Update the reference model at the start of each epoch\n",
    "        trainer.update_reference_model()\n",
    "        \n",
    "        train_loss_base = trainer.train(train_loader)\n",
    "        val_acc_base = trainer.evaluate(val_loader)\n",
    "        print(f\"Train Loss: {train_loss_base:.4f} | Val Acc: {val_acc_base:.4f}\")\n",
    "\n",
    "    # --- Test ---\n",
    "    test_acc_base = trainer.evaluate(test_loader)\n",
    "    results_base[test_domain] = test_acc_base\n",
    "    print(f\"Test Accuracy on {test_domain}: {test_acc_base:.4f}\")"
   ]
  },
  {
   "cell_type": "markdown",
   "id": "26878179",
   "metadata": {},
   "source": [
    "### Baseline"
   ]
  },
  {
   "cell_type": "code",
   "execution_count": 8,
   "id": "25bd8d90",
   "metadata": {},
   "outputs": [
    {
     "name": "stdout",
     "output_type": "stream",
     "text": [
      "\n",
      "--- Baseline: training on all domains with GRQO and testing on mixed domains ---\n",
      "Initialized ViT-GRQO Model (ViT-base) with 30 queries.\n",
      "Initialized Trainer with GRQO (alpha=1.0, beta=0.05).\n",
      "Baseline Epoch 1/5\n",
      "Updating reference model...\n",
      "Reference model updated successfully.\n"
     ]
    },
    {
     "name": "stderr",
     "output_type": "stream",
     "text": [
      "Training: 100%|██████████| 333/333 [00:51<00:00,  6.42it/s]\n",
      "Evaluating: 100%|██████████| 84/84 [00:05<00:00, 16.31it/s]\n"
     ]
    },
    {
     "name": "stdout",
     "output_type": "stream",
     "text": [
      "Baseline Loss: -5.5875 | Baseline Acc: 0.7899\n",
      "Baseline Epoch 2/5\n",
      "Updating reference model...\n",
      "Reference model updated successfully.\n"
     ]
    },
    {
     "name": "stderr",
     "output_type": "stream",
     "text": [
      "Training: 100%|██████████| 333/333 [00:51<00:00,  6.42it/s]\n",
      "Evaluating: 100%|██████████| 84/84 [00:05<00:00, 16.30it/s]\n"
     ]
    },
    {
     "name": "stdout",
     "output_type": "stream",
     "text": [
      "Baseline Loss: -29.1654 | Baseline Acc: 0.8719\n",
      "Baseline Epoch 3/5\n",
      "Updating reference model...\n",
      "Reference model updated successfully.\n"
     ]
    },
    {
     "name": "stderr",
     "output_type": "stream",
     "text": [
      "Training: 100%|██████████| 333/333 [00:51<00:00,  6.42it/s]\n",
      "Evaluating: 100%|██████████| 84/84 [00:05<00:00, 16.15it/s]\n"
     ]
    },
    {
     "name": "stdout",
     "output_type": "stream",
     "text": [
      "Baseline Loss: -50.7004 | Baseline Acc: 0.5128\n",
      "Baseline Epoch 4/5\n",
      "Updating reference model...\n",
      "Reference model updated successfully.\n"
     ]
    },
    {
     "name": "stderr",
     "output_type": "stream",
     "text": [
      "Training: 100%|██████████| 333/333 [00:51<00:00,  6.42it/s]\n",
      "Evaluating: 100%|██████████| 84/84 [00:05<00:00, 15.99it/s]\n"
     ]
    },
    {
     "name": "stdout",
     "output_type": "stream",
     "text": [
      "Baseline Loss: -76.0043 | Baseline Acc: 0.7099\n",
      "Baseline Epoch 5/5\n",
      "Updating reference model...\n",
      "Reference model updated successfully.\n"
     ]
    },
    {
     "name": "stderr",
     "output_type": "stream",
     "text": [
      "Training: 100%|██████████| 333/333 [00:51<00:00,  6.42it/s]\n",
      "Evaluating: 100%|██████████| 84/84 [00:05<00:00, 16.15it/s]\n"
     ]
    },
    {
     "name": "stdout",
     "output_type": "stream",
     "text": [
      "Baseline Loss: -104.4866 | Baseline Acc: 0.7349\n"
     ]
    },
    {
     "name": "stderr",
     "output_type": "stream",
     "text": [
      "Evaluating: 100%|██████████| 84/84 [00:05<00:00, 16.30it/s]"
     ]
    },
    {
     "name": "stdout",
     "output_type": "stream",
     "text": [
      "Baseline Test Accuracy: 0.7349\n"
     ]
    },
    {
     "name": "stderr",
     "output_type": "stream",
     "text": [
      "\n"
     ]
    }
   ],
   "source": [
    "# =================================================================================\n",
    "# GRQO + ViT Base Baseline Training (All Domains)\n",
    "# =================================================================================\n",
    "\n",
    "print(\"\\n--- Baseline: training on all domains with GRQO and testing on mixed domains ---\")\n",
    "\n",
    "# --- Load full train and test sets ---\n",
    "dataset_all = PACSDataset(DATA_ROOT, DOMAINS, transform)\n",
    "all_train_loaders = [dataset_all.get_dataloader(d, train=True) for d in DOMAINS]\n",
    "all_test_loaders = [dataset_all.get_dataloader(d, train=False) for d in DOMAINS]\n",
    "\n",
    "# --- Concatenate ---\n",
    "full_train_ds = ConcatDataset([dl.dataset for dl in all_train_loaders])\n",
    "full_test_ds = ConcatDataset([dl.dataset for dl in all_test_loaders])\n",
    "\n",
    "full_train_loader = DataLoader(full_train_ds, batch_size=BATCH_SIZE, shuffle=True)\n",
    "full_test_loader = DataLoader(full_test_ds, batch_size=BATCH_SIZE, shuffle=False)\n",
    "\n",
    "# --- Initialize baseline model with GRQO ---\n",
    "baseline_model_base = ViT_GRQO_Model(\n",
    "    num_classes=NUM_CLASSES, \n",
    "    model_size=\"base\",\n",
    "    num_queries=NUM_QUERIES,\n",
    "    num_decoder_layers=NUM_DECODER_LAYERS,\n",
    "    decoder_nhead=DECODER_NHEAD\n",
    ")\n",
    "baseline_optimizer = optim.Adam(baseline_model_base.parameters(), lr=1e-4)\n",
    "baseline_criterion = nn.CrossEntropyLoss()\n",
    "\n",
    "# Use the new Trainer with GRQO parameters\n",
    "baseline_trainer = Trainer(\n",
    "    baseline_model_base, \n",
    "    baseline_optimizer, \n",
    "    baseline_criterion,\n",
    "    grqo_alpha=GRQO_ALPHA, \n",
    "    grqo_beta=GRQO_BETA\n",
    ")\n",
    "\n",
    "# --- Train baseline ---\n",
    "for epoch in range(NUM_EPOCHS):\n",
    "    print(f\"Baseline Epoch {epoch + 1}/{NUM_EPOCHS}\")\n",
    "    \n",
    "    # !! CRITICAL STEP !! Update the reference model at the start of each epoch\n",
    "    baseline_trainer.update_reference_model()\n",
    "\n",
    "    baseline_loss_base = baseline_trainer.train(full_train_loader)\n",
    "    baseline_val_acc_base = baseline_trainer.evaluate(full_test_loader)\n",
    "    print(f\"Baseline Loss: {baseline_loss_base:.4f} | Baseline Acc: {baseline_val_acc_base:.4f}\")\n",
    "\n",
    "# --- Test baseline ---\n",
    "baseline_test_acc_base = baseline_trainer.evaluate(full_test_loader)\n",
    "\n",
    "# Store the result in the same dictionary for easy plotting\n",
    "results_base['baseline_all_domains'] = baseline_test_acc_base\n",
    "print(f\"Baseline Test Accuracy: {baseline_test_acc_base:.4f}\")"
   ]
  },
  {
   "cell_type": "markdown",
   "id": "81b07ec8",
   "metadata": {},
   "source": [
    "### Visual Comparison"
   ]
  },
  {
   "cell_type": "code",
   "execution_count": 9,
   "id": "f0ea7a15",
   "metadata": {},
   "outputs": [
    {
     "data": {
      "image/png": "[encoded data removed]",
      "text/plain": [
       "<Figure size 640x480 with 1 Axes>"
      ]
     },
     "metadata": {},
     "output_type": "display_data"
    }
   ],
   "source": [
    "domains = list(results_base.keys())\n",
    "accuracies = [results_base[d] for d in domains]\n",
    "\n",
    "plt.figure()\n",
    "plt.bar(domains, accuracies)\n",
    "plt.xticks(rotation=45, ha='right')\n",
    "plt.ylabel('Accuracy')\n",
    "plt.title('Leave-One-Domain-Out vs. Baseline Accuracy (ViT Base)')\n",
    "plt.tight_layout()\n",
    "plt.show()"
   ]
  },
  {
   "cell_type": "markdown",
   "id": "1219b106",
   "metadata": {},
   "source": [
    "### Final Results"
   ]
  },
  {
   "cell_type": "code",
   "execution_count": 10,
   "id": "27dfd426",
   "metadata": {},
   "outputs": [
    {
     "name": "stdout",
     "output_type": "stream",
     "text": [
      "\\Final Results (LODO Accuracy):\n",
      "art_painting: 0.4512\n",
      "cartoon: 0.7612\n",
      "photo: 0.1317\n",
      "sketch: 0.6450\n",
      "baseline_all_domains: 0.7349\n",
      "\n",
      "Average Accuracy: 0.5448\n"
     ]
    },
    {
     "name": "stderr",
     "output_type": "stream",
     "text": [
      "<>:1: SyntaxWarning: invalid escape sequence '\\F'\n",
      "<>:1: SyntaxWarning: invalid escape sequence '\\F'\n",
      "C:\\Users\\Haseeb\\AppData\\Local\\Temp\\ipykernel_7252\\165815634.py:1: SyntaxWarning: invalid escape sequence '\\F'\n",
      "  print(\"\\Final Results (LODO Accuracy):\")\n"
     ]
    }
   ],
   "source": [
    "\n",
    "print(\"\\Final Results (LODO Accuracy):\")\n",
    "for domain, acc in results_base.items():\n",
    "    print(f\"{domain}: {acc:.4f}\")\n",
    "\n",
    "avg_acc = sum(results_base.values()) / len(results_base)\n",
    "print(f\"\\nAverage Accuracy: {avg_acc:.4f}\")\n"
   ]
  },
  {
   "cell_type": "markdown",
   "id": "4ca82a22",
   "metadata": {},
   "source": [
    "## WinKawaks/ViT Small"
   ]
  },
  {
   "cell_type": "markdown",
   "id": "df669c42",
   "metadata": {},
   "source": [
    "### Leave-One-Domain-Out (LODO) Training"
   ]
  },
  {
   "cell_type": "code",
   "execution_count": 11,
   "id": "95cc334e",
   "metadata": {},
   "outputs": [
    {
     "name": "stdout",
     "output_type": "stream",
     "text": [
      "---[ViT Small]--- Testing on domain: art_painting ---\n"
     ]
    },
    {
     "name": "stderr",
     "output_type": "stream",
     "text": [
      "Some weights of ViTModel were not initialized from the model checkpoint at WinKawaks/vit-small-patch16-224 and are newly initialized: ['pooler.dense.bias', 'pooler.dense.weight']\n",
      "You should probably TRAIN this model on a down-stream task to be able to use it for predictions and inference.\n"
     ]
    },
    {
     "name": "stdout",
     "output_type": "stream",
     "text": [
      "Initialized ViT-GRQO Model (ViT-small) with 30 queries.\n",
      "Initialized Trainer with GRQO (alpha=1.0, beta=0.05).\n",
      "Epoch 1/5\n",
      "Updating reference model...\n",
      "Reference model updated successfully.\n"
     ]
    },
    {
     "name": "stderr",
     "output_type": "stream",
     "text": [
      "Training: 100%|██████████| 265/265 [00:21<00:00, 12.55it/s]\n",
      "Evaluating: 100%|██████████| 67/67 [00:02<00:00, 22.90it/s]\n"
     ]
    },
    {
     "name": "stdout",
     "output_type": "stream",
     "text": [
      "Train Loss: -1.6663 | Val Acc: 0.6627\n",
      "Epoch 2/5\n",
      "Updating reference model...\n",
      "Reference model updated successfully.\n"
     ]
    },
    {
     "name": "stderr",
     "output_type": "stream",
     "text": [
      "Training: 100%|██████████| 265/265 [00:20<00:00, 12.63it/s]\n",
      "Evaluating: 100%|██████████| 67/67 [00:02<00:00, 23.95it/s]\n"
     ]
    },
    {
     "name": "stdout",
     "output_type": "stream",
     "text": [
      "Train Loss: -10.8947 | Val Acc: 0.9239\n",
      "Epoch 3/5\n",
      "Updating reference model...\n",
      "Reference model updated successfully.\n"
     ]
    },
    {
     "name": "stderr",
     "output_type": "stream",
     "text": [
      "Training: 100%|██████████| 265/265 [00:20<00:00, 12.69it/s]\n",
      "Evaluating: 100%|██████████| 67/67 [00:02<00:00, 23.46it/s]\n"
     ]
    },
    {
     "name": "stdout",
     "output_type": "stream",
     "text": [
      "Train Loss: -19.0692 | Val Acc: 0.8798\n",
      "Epoch 4/5\n",
      "Updating reference model...\n",
      "Reference model updated successfully.\n"
     ]
    },
    {
     "name": "stderr",
     "output_type": "stream",
     "text": [
      "Training: 100%|██████████| 265/265 [00:20<00:00, 12.70it/s]\n",
      "Evaluating: 100%|██████████| 67/67 [00:02<00:00, 23.03it/s]\n"
     ]
    },
    {
     "name": "stdout",
     "output_type": "stream",
     "text": [
      "Train Loss: -26.3877 | Val Acc: 0.9075\n",
      "Epoch 5/5\n",
      "Updating reference model...\n",
      "Reference model updated successfully.\n"
     ]
    },
    {
     "name": "stderr",
     "output_type": "stream",
     "text": [
      "Training: 100%|██████████| 265/265 [00:20<00:00, 12.71it/s]\n",
      "Evaluating: 100%|██████████| 67/67 [00:02<00:00, 23.96it/s]\n"
     ]
    },
    {
     "name": "stdout",
     "output_type": "stream",
     "text": [
      "Train Loss: -35.1729 | Val Acc: 0.9062\n"
     ]
    },
    {
     "name": "stderr",
     "output_type": "stream",
     "text": [
      "Evaluating: 100%|██████████| 18/18 [00:00<00:00, 21.60it/s]\n"
     ]
    },
    {
     "name": "stdout",
     "output_type": "stream",
     "text": [
      "Test Accuracy on art_painting: 0.6878\n",
      "---[ViT Small]--- Testing on domain: cartoon ---\n"
     ]
    },
    {
     "name": "stderr",
     "output_type": "stream",
     "text": [
      "Some weights of ViTModel were not initialized from the model checkpoint at WinKawaks/vit-small-patch16-224 and are newly initialized: ['pooler.dense.bias', 'pooler.dense.weight']\n",
      "You should probably TRAIN this model on a down-stream task to be able to use it for predictions and inference.\n"
     ]
    },
    {
     "name": "stdout",
     "output_type": "stream",
     "text": [
      "Initialized ViT-GRQO Model (ViT-small) with 30 queries.\n",
      "Initialized Trainer with GRQO (alpha=1.0, beta=0.05).\n",
      "Epoch 1/5\n",
      "Updating reference model...\n",
      "Reference model updated successfully.\n"
     ]
    },
    {
     "name": "stderr",
     "output_type": "stream",
     "text": [
      "Training: 100%|██████████| 255/255 [00:20<00:00, 12.65it/s]\n",
      "Evaluating: 100%|██████████| 64/64 [00:02<00:00, 23.68it/s]\n"
     ]
    },
    {
     "name": "stdout",
     "output_type": "stream",
     "text": [
      "Train Loss: -1.6610 | Val Acc: 0.7601\n",
      "Epoch 2/5\n",
      "Updating reference model...\n",
      "Reference model updated successfully.\n"
     ]
    },
    {
     "name": "stderr",
     "output_type": "stream",
     "text": [
      "Training: 100%|██████████| 255/255 [00:20<00:00, 12.68it/s]\n",
      "Evaluating: 100%|██████████| 64/64 [00:02<00:00, 22.34it/s]\n"
     ]
    },
    {
     "name": "stdout",
     "output_type": "stream",
     "text": [
      "Train Loss: -10.1374 | Val Acc: 0.9203\n",
      "Epoch 3/5\n",
      "Updating reference model...\n",
      "Reference model updated successfully.\n"
     ]
    },
    {
     "name": "stderr",
     "output_type": "stream",
     "text": [
      "Training: 100%|██████████| 255/255 [00:20<00:00, 12.46it/s]\n",
      "Evaluating: 100%|██████████| 64/64 [00:02<00:00, 23.46it/s]\n"
     ]
    },
    {
     "name": "stdout",
     "output_type": "stream",
     "text": [
      "Train Loss: -17.3264 | Val Acc: 0.8824\n",
      "Epoch 4/5\n",
      "Updating reference model...\n",
      "Reference model updated successfully.\n"
     ]
    },
    {
     "name": "stderr",
     "output_type": "stream",
     "text": [
      "Training: 100%|██████████| 255/255 [00:20<00:00, 12.68it/s]\n",
      "Evaluating: 100%|██████████| 64/64 [00:02<00:00, 22.52it/s]\n"
     ]
    },
    {
     "name": "stdout",
     "output_type": "stream",
     "text": [
      "Train Loss: -23.7269 | Val Acc: 0.8915\n",
      "Epoch 5/5\n",
      "Updating reference model...\n",
      "Reference model updated successfully.\n"
     ]
    },
    {
     "name": "stderr",
     "output_type": "stream",
     "text": [
      "Training: 100%|██████████| 255/255 [00:20<00:00, 12.64it/s]\n",
      "Evaluating: 100%|██████████| 64/64 [00:02<00:00, 22.51it/s]\n"
     ]
    },
    {
     "name": "stdout",
     "output_type": "stream",
     "text": [
      "Train Loss: -32.1816 | Val Acc: 0.8490\n"
     ]
    },
    {
     "name": "stderr",
     "output_type": "stream",
     "text": [
      "Evaluating: 100%|██████████| 20/20 [00:00<00:00, 21.82it/s]\n"
     ]
    },
    {
     "name": "stdout",
     "output_type": "stream",
     "text": [
      "Test Accuracy on cartoon: 0.6972\n",
      "---[ViT Small]--- Testing on domain: photo ---\n"
     ]
    },
    {
     "name": "stderr",
     "output_type": "stream",
     "text": [
      "Some weights of ViTModel were not initialized from the model checkpoint at WinKawaks/vit-small-patch16-224 and are newly initialized: ['pooler.dense.bias', 'pooler.dense.weight']\n",
      "You should probably TRAIN this model on a down-stream task to be able to use it for predictions and inference.\n"
     ]
    },
    {
     "name": "stdout",
     "output_type": "stream",
     "text": [
      "Initialized ViT-GRQO Model (ViT-small) with 30 queries.\n",
      "Initialized Trainer with GRQO (alpha=1.0, beta=0.05).\n",
      "Epoch 1/5\n",
      "Updating reference model...\n",
      "Reference model updated successfully.\n"
     ]
    },
    {
     "name": "stderr",
     "output_type": "stream",
     "text": [
      "Training: 100%|██████████| 278/278 [00:22<00:00, 12.54it/s]\n",
      "Evaluating: 100%|██████████| 70/70 [00:03<00:00, 22.00it/s]\n"
     ]
    },
    {
     "name": "stdout",
     "output_type": "stream",
     "text": [
      "Train Loss: -1.7241 | Val Acc: 0.4793\n",
      "Epoch 2/5\n",
      "Updating reference model...\n",
      "Reference model updated successfully.\n"
     ]
    },
    {
     "name": "stderr",
     "output_type": "stream",
     "text": [
      "Training: 100%|██████████| 278/278 [00:22<00:00, 12.52it/s]\n",
      "Evaluating: 100%|██████████| 70/70 [00:03<00:00, 22.85it/s]\n"
     ]
    },
    {
     "name": "stdout",
     "output_type": "stream",
     "text": [
      "Train Loss: -10.7303 | Val Acc: 0.8997\n",
      "Epoch 3/5\n",
      "Updating reference model...\n",
      "Reference model updated successfully.\n"
     ]
    },
    {
     "name": "stderr",
     "output_type": "stream",
     "text": [
      "Training: 100%|██████████| 278/278 [00:21<00:00, 12.66it/s]\n",
      "Evaluating: 100%|██████████| 70/70 [00:03<00:00, 22.54it/s]\n"
     ]
    },
    {
     "name": "stdout",
     "output_type": "stream",
     "text": [
      "Train Loss: -18.8685 | Val Acc: 0.9117\n",
      "Epoch 4/5\n",
      "Updating reference model...\n",
      "Reference model updated successfully.\n"
     ]
    },
    {
     "name": "stderr",
     "output_type": "stream",
     "text": [
      "Training: 100%|██████████| 278/278 [00:22<00:00, 12.60it/s]\n",
      "Evaluating: 100%|██████████| 70/70 [00:03<00:00, 22.23it/s]\n"
     ]
    },
    {
     "name": "stdout",
     "output_type": "stream",
     "text": [
      "Train Loss: -27.0872 | Val Acc: 0.9231\n",
      "Epoch 5/5\n",
      "Updating reference model...\n",
      "Reference model updated successfully.\n"
     ]
    },
    {
     "name": "stderr",
     "output_type": "stream",
     "text": [
      "Training: 100%|██████████| 278/278 [00:21<00:00, 12.66it/s]\n",
      "Evaluating: 100%|██████████| 70/70 [00:02<00:00, 23.49it/s]\n"
     ]
    },
    {
     "name": "stdout",
     "output_type": "stream",
     "text": [
      "Train Loss: -36.0855 | Val Acc: 0.8342\n"
     ]
    },
    {
     "name": "stderr",
     "output_type": "stream",
     "text": [
      "Evaluating: 100%|██████████| 14/14 [00:00<00:00, 21.60it/s]\n"
     ]
    },
    {
     "name": "stdout",
     "output_type": "stream",
     "text": [
      "Test Accuracy on photo: 0.9132\n",
      "---[ViT Small]--- Testing on domain: sketch ---\n"
     ]
    },
    {
     "name": "stderr",
     "output_type": "stream",
     "text": [
      "Some weights of ViTModel were not initialized from the model checkpoint at WinKawaks/vit-small-patch16-224 and are newly initialized: ['pooler.dense.bias', 'pooler.dense.weight']\n",
      "You should probably TRAIN this model on a down-stream task to be able to use it for predictions and inference.\n"
     ]
    },
    {
     "name": "stdout",
     "output_type": "stream",
     "text": [
      "Initialized ViT-GRQO Model (ViT-small) with 30 queries.\n",
      "Initialized Trainer with GRQO (alpha=1.0, beta=0.05).\n",
      "Epoch 1/5\n",
      "Updating reference model...\n",
      "Reference model updated successfully.\n"
     ]
    },
    {
     "name": "stderr",
     "output_type": "stream",
     "text": [
      "Training: 100%|██████████| 203/203 [00:16<00:00, 12.43it/s]\n",
      "Evaluating: 100%|██████████| 51/51 [00:02<00:00, 22.28it/s]\n"
     ]
    },
    {
     "name": "stdout",
     "output_type": "stream",
     "text": [
      "Train Loss: -1.7596 | Val Acc: 0.8104\n",
      "Epoch 2/5\n",
      "Updating reference model...\n",
      "Reference model updated successfully.\n"
     ]
    },
    {
     "name": "stderr",
     "output_type": "stream",
     "text": [
      "Training: 100%|██████████| 203/203 [00:16<00:00, 12.48it/s]\n",
      "Evaluating: 100%|██████████| 51/51 [00:02<00:00, 22.88it/s]\n"
     ]
    },
    {
     "name": "stdout",
     "output_type": "stream",
     "text": [
      "Train Loss: -9.5990 | Val Acc: 0.9258\n",
      "Epoch 3/5\n",
      "Updating reference model...\n",
      "Reference model updated successfully.\n"
     ]
    },
    {
     "name": "stderr",
     "output_type": "stream",
     "text": [
      "Training: 100%|██████████| 203/203 [00:16<00:00, 12.49it/s]\n",
      "Evaluating: 100%|██████████| 51/51 [00:02<00:00, 23.10it/s]\n"
     ]
    },
    {
     "name": "stdout",
     "output_type": "stream",
     "text": [
      "Train Loss: -15.5009 | Val Acc: 0.9299\n",
      "Epoch 4/5\n",
      "Updating reference model...\n",
      "Reference model updated successfully.\n"
     ]
    },
    {
     "name": "stderr",
     "output_type": "stream",
     "text": [
      "Training: 100%|██████████| 203/203 [00:16<00:00, 12.55it/s]\n",
      "Evaluating: 100%|██████████| 51/51 [00:02<00:00, 23.34it/s]\n"
     ]
    },
    {
     "name": "stdout",
     "output_type": "stream",
     "text": [
      "Train Loss: -21.7410 | Val Acc: 0.8895\n",
      "Epoch 5/5\n",
      "Updating reference model...\n",
      "Reference model updated successfully.\n"
     ]
    },
    {
     "name": "stderr",
     "output_type": "stream",
     "text": [
      "Training: 100%|██████████| 203/203 [00:16<00:00, 12.57it/s]\n",
      "Evaluating: 100%|██████████| 51/51 [00:02<00:00, 23.14it/s]\n"
     ]
    },
    {
     "name": "stdout",
     "output_type": "stream",
     "text": [
      "Train Loss: -27.9717 | Val Acc: 0.9176\n"
     ]
    },
    {
     "name": "stderr",
     "output_type": "stream",
     "text": [
      "Evaluating: 100%|██████████| 33/33 [00:01<00:00, 22.76it/s]"
     ]
    },
    {
     "name": "stdout",
     "output_type": "stream",
     "text": [
      "Test Accuracy on sketch: 0.6718\n"
     ]
    },
    {
     "name": "stderr",
     "output_type": "stream",
     "text": [
      "\n"
     ]
    }
   ],
   "source": [
    "# =================================================================================\n",
    "# GRQO + ViT Small Leave-One-Domain-Out (LODO) Training\n",
    "# =================================================================================\n",
    "\n",
    "results_small = {}\n",
    "\n",
    "for test_domain in DOMAINS:\n",
    "    print(f\"---[ViT Small]--- Testing on domain: {test_domain} ---\")\n",
    "    train_domains = [d for d in DOMAINS if d != test_domain]\n",
    "\n",
    "    # --- Load datasets ---\n",
    "    dataset = PACSDataset(DATA_ROOT, DOMAINS, transform)\n",
    "    train_loaders = [dataset.get_dataloader(d, train=True) for d in train_domains]\n",
    "    val_loaders = [dataset.get_dataloader(d, train=False) for d in train_domains]\n",
    "    test_loader = dataset.get_dataloader(test_domain, train=False)\n",
    "\n",
    "    # --- Concatenate datasets ---\n",
    "    train_ds = ConcatDataset([dl.dataset for dl in train_loaders])\n",
    "    val_ds = ConcatDataset([dl.dataset for dl in val_loaders])\n",
    "\n",
    "    train_loader = DataLoader(train_ds, batch_size=BATCH_SIZE, shuffle=True)\n",
    "    val_loader = DataLoader(val_ds, batch_size=BATCH_SIZE, shuffle=False)\n",
    "\n",
    "    # --- Initialize model, optimizer, and criterion ---\n",
    "    model_small = ViT_GRQO_Model(\n",
    "        num_classes=NUM_CLASSES,\n",
    "        model_size=\"small\",\n",
    "        num_queries=NUM_QUERIES,\n",
    "        num_decoder_layers=NUM_DECODER_LAYERS,\n",
    "        decoder_nhead=DECODER_NHEAD\n",
    "    )\n",
    "    optimizer_small = optim.Adam(model_small.parameters(), lr=1e-4)\n",
    "    criterion_small = nn.CrossEntropyLoss()\n",
    "    \n",
    "    trainer_small = Trainer(\n",
    "        model_small, \n",
    "        optimizer_small, \n",
    "        criterion_small, \n",
    "        grqo_alpha=GRQO_ALPHA, \n",
    "        grqo_beta=GRQO_BETA\n",
    "    )\n",
    "\n",
    "    # --- Train ---\n",
    "    for epoch in range(NUM_EPOCHS):\n",
    "        print(f\"Epoch {epoch + 1}/{NUM_EPOCHS}\")\n",
    "        trainer_small.update_reference_model()\n",
    "        \n",
    "        train_loss_small = trainer_small.train(train_loader)\n",
    "        val_acc_small = trainer_small.evaluate(val_loader)\n",
    "        print(f\"Train Loss: {train_loss_small:.4f} | Val Acc: {val_acc_small:.4f}\")\n",
    "\n",
    "    # --- Test ---\n",
    "    test_acc_small = trainer_small.evaluate(test_loader)\n",
    "    results_small[test_domain] = test_acc_small\n",
    "    print(f\"Test Accuracy on {test_domain}: {test_acc_small:.4f}\")"
   ]
  },
  {
   "cell_type": "markdown",
   "id": "81d64d2a",
   "metadata": {},
   "source": [
    "### Baseline"
   ]
  },
  {
   "cell_type": "code",
   "execution_count": 12,
   "id": "64d8c32c",
   "metadata": {},
   "outputs": [
    {
     "name": "stdout",
     "output_type": "stream",
     "text": [
      "\n",
      "---[ViT Small]--- Baseline: training on all domains with GRQO ---\n"
     ]
    },
    {
     "name": "stderr",
     "output_type": "stream",
     "text": [
      "Some weights of ViTModel were not initialized from the model checkpoint at WinKawaks/vit-small-patch16-224 and are newly initialized: ['pooler.dense.bias', 'pooler.dense.weight']\n",
      "You should probably TRAIN this model on a down-stream task to be able to use it for predictions and inference.\n"
     ]
    },
    {
     "name": "stdout",
     "output_type": "stream",
     "text": [
      "Initialized ViT-GRQO Model (ViT-small) with 30 queries.\n",
      "Initialized Trainer with GRQO (alpha=1.0, beta=0.05).\n",
      "Baseline Epoch 1/5\n",
      "Updating reference model...\n",
      "Reference model updated successfully.\n"
     ]
    },
    {
     "name": "stderr",
     "output_type": "stream",
     "text": [
      "Training: 100%|██████████| 333/333 [00:26<00:00, 12.56it/s]\n",
      "Evaluating: 100%|██████████| 84/84 [00:03<00:00, 22.30it/s]\n"
     ]
    },
    {
     "name": "stdout",
     "output_type": "stream",
     "text": [
      "Baseline Loss: -2.3709 | Baseline Acc: 0.6398\n",
      "Baseline Epoch 2/5\n",
      "Updating reference model...\n",
      "Reference model updated successfully.\n"
     ]
    },
    {
     "name": "stderr",
     "output_type": "stream",
     "text": [
      "Training: 100%|██████████| 333/333 [00:26<00:00, 12.57it/s]\n",
      "Evaluating: 100%|██████████| 84/84 [00:03<00:00, 21.97it/s]\n"
     ]
    },
    {
     "name": "stdout",
     "output_type": "stream",
     "text": [
      "Baseline Loss: -14.0343 | Baseline Acc: 0.9125\n",
      "Baseline Epoch 3/5\n",
      "Updating reference model...\n",
      "Reference model updated successfully.\n"
     ]
    },
    {
     "name": "stderr",
     "output_type": "stream",
     "text": [
      "Training: 100%|██████████| 333/333 [00:26<00:00, 12.58it/s]\n",
      "Evaluating: 100%|██████████| 84/84 [00:03<00:00, 22.40it/s]\n"
     ]
    },
    {
     "name": "stdout",
     "output_type": "stream",
     "text": [
      "Baseline Loss: -25.5557 | Baseline Acc: 0.7874\n",
      "Baseline Epoch 4/5\n",
      "Updating reference model...\n",
      "Reference model updated successfully.\n"
     ]
    },
    {
     "name": "stderr",
     "output_type": "stream",
     "text": [
      "Training: 100%|██████████| 333/333 [00:26<00:00, 12.53it/s]\n",
      "Evaluating: 100%|██████████| 84/84 [00:03<00:00, 22.98it/s]\n"
     ]
    },
    {
     "name": "stdout",
     "output_type": "stream",
     "text": [
      "Baseline Loss: -34.1920 | Baseline Acc: 0.6308\n",
      "Baseline Epoch 5/5\n",
      "Updating reference model...\n",
      "Reference model updated successfully.\n"
     ]
    },
    {
     "name": "stderr",
     "output_type": "stream",
     "text": [
      "Training: 100%|██████████| 333/333 [00:26<00:00, 12.53it/s]\n",
      "Evaluating: 100%|██████████| 84/84 [00:03<00:00, 22.17it/s]\n"
     ]
    },
    {
     "name": "stdout",
     "output_type": "stream",
     "text": [
      "Baseline Loss: -42.7229 | Baseline Acc: 0.3922\n"
     ]
    },
    {
     "name": "stderr",
     "output_type": "stream",
     "text": [
      "Evaluating: 100%|██████████| 84/84 [00:03<00:00, 21.13it/s]"
     ]
    },
    {
     "name": "stdout",
     "output_type": "stream",
     "text": [
      "Baseline Test Accuracy: 0.3922\n"
     ]
    },
    {
     "name": "stderr",
     "output_type": "stream",
     "text": [
      "\n"
     ]
    }
   ],
   "source": [
    "# =================================================================================\n",
    "# GRQO + ViT Small Baseline Training (All Domains)\n",
    "# =================================================================================\n",
    "\n",
    "print(\"\\n---[ViT Small]--- Baseline: training on all domains with GRQO ---\")\n",
    "\n",
    "# Data loading is the same as the 'base' baseline\n",
    "full_train_loader = DataLoader(full_train_ds, batch_size=BATCH_SIZE, shuffle=True)\n",
    "full_test_loader = DataLoader(full_test_ds, batch_size=BATCH_SIZE, shuffle=False)\n",
    "\n",
    "# --- Initialize baseline model with GRQO ---\n",
    "baseline_model_small = ViT_GRQO_Model(\n",
    "    num_classes=NUM_CLASSES, \n",
    "    model_size=\"small\",\n",
    "    num_queries=NUM_QUERIES,\n",
    "    num_decoder_layers=NUM_DECODER_LAYERS,\n",
    "    decoder_nhead=DECODER_NHEAD\n",
    ")\n",
    "baseline_optimizer_small = optim.Adam(baseline_model_small.parameters(), lr=1e-4)\n",
    "baseline_criterion_small = nn.CrossEntropyLoss()\n",
    "\n",
    "baseline_trainer_small = Trainer(\n",
    "    baseline_model_small, \n",
    "    baseline_optimizer_small, \n",
    "    baseline_criterion_small,\n",
    "    grqo_alpha=GRQO_ALPHA, \n",
    "    grqo_beta=GRQO_BETA\n",
    ")\n",
    "\n",
    "# --- Train baseline ---\n",
    "for epoch in range(NUM_EPOCHS):\n",
    "    print(f\"Baseline Epoch {epoch + 1}/{NUM_EPOCHS}\")\n",
    "    baseline_trainer_small.update_reference_model()\n",
    "\n",
    "    baseline_loss_small = baseline_trainer_small.train(full_train_loader)\n",
    "    baseline_val_acc_small = baseline_trainer_small.evaluate(full_test_loader)\n",
    "    print(f\"Baseline Loss: {baseline_loss_small:.4f} | Baseline Acc: {baseline_val_acc_small:.4f}\")\n",
    "\n",
    "# --- Test baseline ---\n",
    "baseline_test_acc_small = baseline_trainer_small.evaluate(full_test_loader)\n",
    "results_small['baseline_all_domains'] = baseline_test_acc_small\n",
    "print(f\"Baseline Test Accuracy: {baseline_test_acc_small:.4f}\")"
   ]
  },
  {
   "cell_type": "markdown",
   "id": "e48105dc",
   "metadata": {},
   "source": [
    "### Visual Comparison"
   ]
  },
  {
   "cell_type": "code",
   "execution_count": 13,
   "id": "beaa1aa5",
   "metadata": {},
   "outputs": [
    {
     "data": {
      "image/png": "[encoded data removed]",
      "text/plain": [
       "<Figure size 640x480 with 1 Axes>"
      ]
     },
     "metadata": {},
     "output_type": "display_data"
    }
   ],
   "source": [
    "domains = list(results_small.keys())\n",
    "accuracies = [results_small[d] for d in domains]\n",
    "\n",
    "plt.figure()\n",
    "plt.bar(domains, accuracies)\n",
    "plt.xticks(rotation=45, ha='right')\n",
    "plt.ylabel('Accuracy')\n",
    "plt.title('Leave-One-Domain-Out vs. Baseline Accuracy (ViT Small)')\n",
    "plt.tight_layout()\n",
    "plt.show()"
   ]
  },
  {
   "cell_type": "markdown",
   "id": "d01133f4",
   "metadata": {},
   "source": [
    "### Final Results"
   ]
  },
  {
   "cell_type": "code",
   "execution_count": 14,
   "id": "935d1a5a",
   "metadata": {},
   "outputs": [
    {
     "name": "stdout",
     "output_type": "stream",
     "text": [
      "\\Final Results (LODO Accuracy):\n",
      "art_painting: 0.6878\n",
      "cartoon: 0.6972\n",
      "photo: 0.9132\n",
      "sketch: 0.6718\n",
      "baseline_all_domains: 0.3922\n",
      "\n",
      "Average Accuracy: 0.6724\n"
     ]
    },
    {
     "name": "stderr",
     "output_type": "stream",
     "text": [
      "<>:1: SyntaxWarning: invalid escape sequence '\\F'\n",
      "<>:1: SyntaxWarning: invalid escape sequence '\\F'\n",
      "C:\\Users\\Haseeb\\AppData\\Local\\Temp\\ipykernel_7252\\3963232904.py:1: SyntaxWarning: invalid escape sequence '\\F'\n",
      "  print(\"\\Final Results (LODO Accuracy):\")\n"
     ]
    }
   ],
   "source": [
    "\n",
    "print(\"\\Final Results (LODO Accuracy):\")\n",
    "for domain, acc in results_small.items():\n",
    "    print(f\"{domain}: {acc:.4f}\")\n",
    "\n",
    "avg_acc = sum(results_small.values()) / len(results_small)\n",
    "print(f\"\\nAverage Accuracy: {avg_acc:.4f}\")\n"
   ]
  },
  {
   "cell_type": "markdown",
   "id": "c492427e",
   "metadata": {},
   "source": [
    "## WinKawaks/ViT Tiny"
   ]
  },
  {
   "cell_type": "markdown",
   "id": "265436d2",
   "metadata": {},
   "source": [
    "### Leave-One-Domain-Out (LODO) Training"
   ]
  },
  {
   "cell_type": "code",
   "execution_count": 15,
   "id": "84d67347",
   "metadata": {},
   "outputs": [
    {
     "name": "stdout",
     "output_type": "stream",
     "text": [
      "---[ViT Tiny]--- Testing on domain: art_painting ---\n"
     ]
    },
    {
     "name": "stderr",
     "output_type": "stream",
     "text": [
      "Some weights of ViTModel were not initialized from the model checkpoint at WinKawaks/vit-tiny-patch16-224 and are newly initialized: ['pooler.dense.bias', 'pooler.dense.weight']\n",
      "You should probably TRAIN this model on a down-stream task to be able to use it for predictions and inference.\n"
     ]
    },
    {
     "name": "stdout",
     "output_type": "stream",
     "text": [
      "Initialized ViT-GRQO Model (ViT-tiny) with 30 queries.\n",
      "Initialized Trainer with GRQO (alpha=1.0, beta=0.05).\n",
      "Epoch 1/5\n",
      "Updating reference model...\n",
      "Reference model updated successfully.\n"
     ]
    },
    {
     "name": "stderr",
     "output_type": "stream",
     "text": [
      "Training: 100%|██████████| 265/265 [00:15<00:00, 17.32it/s]\n",
      "Evaluating: 100%|██████████| 67/67 [00:02<00:00, 24.74it/s]\n"
     ]
    },
    {
     "name": "stdout",
     "output_type": "stream",
     "text": [
      "Train Loss: -0.3888 | Val Acc: 0.6589\n",
      "Epoch 2/5\n",
      "Updating reference model...\n",
      "Reference model updated successfully.\n"
     ]
    },
    {
     "name": "stderr",
     "output_type": "stream",
     "text": [
      "Training: 100%|██████████| 265/265 [00:15<00:00, 17.57it/s]\n",
      "Evaluating: 100%|██████████| 67/67 [00:02<00:00, 27.43it/s]\n"
     ]
    },
    {
     "name": "stdout",
     "output_type": "stream",
     "text": [
      "Train Loss: -5.9366 | Val Acc: 0.9025\n",
      "Epoch 3/5\n",
      "Updating reference model...\n",
      "Reference model updated successfully.\n"
     ]
    },
    {
     "name": "stderr",
     "output_type": "stream",
     "text": [
      "Training: 100%|██████████| 265/265 [00:14<00:00, 17.85it/s]\n",
      "Evaluating: 100%|██████████| 67/67 [00:02<00:00, 25.69it/s]\n"
     ]
    },
    {
     "name": "stdout",
     "output_type": "stream",
     "text": [
      "Train Loss: -11.4108 | Val Acc: 0.8792\n",
      "Epoch 4/5\n",
      "Updating reference model...\n",
      "Reference model updated successfully.\n"
     ]
    },
    {
     "name": "stderr",
     "output_type": "stream",
     "text": [
      "Training: 100%|██████████| 265/265 [00:15<00:00, 17.50it/s]\n",
      "Evaluating: 100%|██████████| 67/67 [00:02<00:00, 25.62it/s]\n"
     ]
    },
    {
     "name": "stdout",
     "output_type": "stream",
     "text": [
      "Train Loss: -16.1912 | Val Acc: 0.8043\n",
      "Epoch 5/5\n",
      "Updating reference model...\n",
      "Reference model updated successfully.\n"
     ]
    },
    {
     "name": "stderr",
     "output_type": "stream",
     "text": [
      "Training: 100%|██████████| 265/265 [00:14<00:00, 17.91it/s]\n",
      "Evaluating: 100%|██████████| 67/67 [00:02<00:00, 25.23it/s]\n"
     ]
    },
    {
     "name": "stdout",
     "output_type": "stream",
     "text": [
      "Train Loss: -20.6369 | Val Acc: 0.8622\n"
     ]
    },
    {
     "name": "stderr",
     "output_type": "stream",
     "text": [
      "Evaluating: 100%|██████████| 18/18 [00:00<00:00, 24.45it/s]\n"
     ]
    },
    {
     "name": "stdout",
     "output_type": "stream",
     "text": [
      "Test Accuracy on art_painting: 0.6049\n",
      "---[ViT Tiny]--- Testing on domain: cartoon ---\n"
     ]
    },
    {
     "name": "stderr",
     "output_type": "stream",
     "text": [
      "Some weights of ViTModel were not initialized from the model checkpoint at WinKawaks/vit-tiny-patch16-224 and are newly initialized: ['pooler.dense.bias', 'pooler.dense.weight']\n",
      "You should probably TRAIN this model on a down-stream task to be able to use it for predictions and inference.\n"
     ]
    },
    {
     "name": "stdout",
     "output_type": "stream",
     "text": [
      "Initialized ViT-GRQO Model (ViT-tiny) with 30 queries.\n",
      "Initialized Trainer with GRQO (alpha=1.0, beta=0.05).\n",
      "Epoch 1/5\n",
      "Updating reference model...\n",
      "Reference model updated successfully.\n"
     ]
    },
    {
     "name": "stderr",
     "output_type": "stream",
     "text": [
      "Training: 100%|██████████| 255/255 [00:14<00:00, 17.08it/s]\n",
      "Evaluating: 100%|██████████| 64/64 [00:02<00:00, 24.96it/s]\n"
     ]
    },
    {
     "name": "stdout",
     "output_type": "stream",
     "text": [
      "Train Loss: -0.3864 | Val Acc: 0.6157\n",
      "Epoch 2/5\n",
      "Updating reference model...\n",
      "Reference model updated successfully.\n"
     ]
    },
    {
     "name": "stderr",
     "output_type": "stream",
     "text": [
      "Training: 100%|██████████| 255/255 [00:14<00:00, 17.50it/s]\n",
      "Evaluating: 100%|██████████| 64/64 [00:02<00:00, 25.26it/s]\n"
     ]
    },
    {
     "name": "stdout",
     "output_type": "stream",
     "text": [
      "Train Loss: -5.7131 | Val Acc: 0.8967\n",
      "Epoch 3/5\n",
      "Updating reference model...\n",
      "Reference model updated successfully.\n"
     ]
    },
    {
     "name": "stderr",
     "output_type": "stream",
     "text": [
      "Training: 100%|██████████| 255/255 [00:14<00:00, 17.83it/s]\n",
      "Evaluating: 100%|██████████| 64/64 [00:02<00:00, 24.86it/s]\n"
     ]
    },
    {
     "name": "stdout",
     "output_type": "stream",
     "text": [
      "Train Loss: -9.8167 | Val Acc: 0.8882\n",
      "Epoch 4/5\n",
      "Updating reference model...\n",
      "Reference model updated successfully.\n"
     ]
    },
    {
     "name": "stderr",
     "output_type": "stream",
     "text": [
      "Training: 100%|██████████| 255/255 [00:14<00:00, 17.76it/s]\n",
      "Evaluating: 100%|██████████| 64/64 [00:02<00:00, 25.51it/s]\n"
     ]
    },
    {
     "name": "stdout",
     "output_type": "stream",
     "text": [
      "Train Loss: -13.8961 | Val Acc: 0.8719\n",
      "Epoch 5/5\n",
      "Updating reference model...\n",
      "Reference model updated successfully.\n"
     ]
    },
    {
     "name": "stderr",
     "output_type": "stream",
     "text": [
      "Training: 100%|██████████| 255/255 [00:14<00:00, 17.32it/s]\n",
      "Evaluating: 100%|██████████| 64/64 [00:02<00:00, 24.77it/s]\n"
     ]
    },
    {
     "name": "stdout",
     "output_type": "stream",
     "text": [
      "Train Loss: -17.9146 | Val Acc: 0.8686\n"
     ]
    },
    {
     "name": "stderr",
     "output_type": "stream",
     "text": [
      "Evaluating: 100%|██████████| 20/20 [00:00<00:00, 24.76it/s]\n"
     ]
    },
    {
     "name": "stdout",
     "output_type": "stream",
     "text": [
      "Test Accuracy on cartoon: 0.6823\n",
      "---[ViT Tiny]--- Testing on domain: photo ---\n"
     ]
    },
    {
     "name": "stderr",
     "output_type": "stream",
     "text": [
      "Some weights of ViTModel were not initialized from the model checkpoint at WinKawaks/vit-tiny-patch16-224 and are newly initialized: ['pooler.dense.bias', 'pooler.dense.weight']\n",
      "You should probably TRAIN this model on a down-stream task to be able to use it for predictions and inference.\n"
     ]
    },
    {
     "name": "stdout",
     "output_type": "stream",
     "text": [
      "Initialized ViT-GRQO Model (ViT-tiny) with 30 queries.\n",
      "Initialized Trainer with GRQO (alpha=1.0, beta=0.05).\n",
      "Epoch 1/5\n",
      "Updating reference model...\n",
      "Reference model updated successfully.\n"
     ]
    },
    {
     "name": "stderr",
     "output_type": "stream",
     "text": [
      "Training: 100%|██████████| 278/278 [00:15<00:00, 17.46it/s]\n",
      "Evaluating: 100%|██████████| 70/70 [00:02<00:00, 24.81it/s]\n"
     ]
    },
    {
     "name": "stdout",
     "output_type": "stream",
     "text": [
      "Train Loss: -0.4050 | Val Acc: 0.8090\n",
      "Epoch 2/5\n",
      "Updating reference model...\n",
      "Reference model updated successfully.\n"
     ]
    },
    {
     "name": "stderr",
     "output_type": "stream",
     "text": [
      "Training: 100%|██████████| 278/278 [00:16<00:00, 16.95it/s]\n",
      "Evaluating: 100%|██████████| 70/70 [00:02<00:00, 24.40it/s]\n"
     ]
    },
    {
     "name": "stdout",
     "output_type": "stream",
     "text": [
      "Train Loss: -6.3214 | Val Acc: 0.8859\n",
      "Epoch 3/5\n",
      "Updating reference model...\n",
      "Reference model updated successfully.\n"
     ]
    },
    {
     "name": "stderr",
     "output_type": "stream",
     "text": [
      "Training: 100%|██████████| 278/278 [00:16<00:00, 16.89it/s]\n",
      "Evaluating: 100%|██████████| 70/70 [00:03<00:00, 22.17it/s]\n"
     ]
    },
    {
     "name": "stdout",
     "output_type": "stream",
     "text": [
      "Train Loss: -11.0129 | Val Acc: 0.8408\n",
      "Epoch 4/5\n",
      "Updating reference model...\n",
      "Reference model updated successfully.\n"
     ]
    },
    {
     "name": "stderr",
     "output_type": "stream",
     "text": [
      "Training: 100%|██████████| 278/278 [00:16<00:00, 17.33it/s]\n",
      "Evaluating: 100%|██████████| 70/70 [00:02<00:00, 25.00it/s]\n"
     ]
    },
    {
     "name": "stdout",
     "output_type": "stream",
     "text": [
      "Train Loss: -15.6205 | Val Acc: 0.8535\n",
      "Epoch 5/5\n",
      "Updating reference model...\n",
      "Reference model updated successfully.\n"
     ]
    },
    {
     "name": "stderr",
     "output_type": "stream",
     "text": [
      "Training: 100%|██████████| 278/278 [00:16<00:00, 17.08it/s]\n",
      "Evaluating: 100%|██████████| 70/70 [00:02<00:00, 24.70it/s]\n"
     ]
    },
    {
     "name": "stdout",
     "output_type": "stream",
     "text": [
      "Train Loss: -21.0952 | Val Acc: 0.6961\n"
     ]
    },
    {
     "name": "stderr",
     "output_type": "stream",
     "text": [
      "Evaluating: 100%|██████████| 14/14 [00:00<00:00, 23.33it/s]\n"
     ]
    },
    {
     "name": "stdout",
     "output_type": "stream",
     "text": [
      "Test Accuracy on photo: 0.7695\n",
      "---[ViT Tiny]--- Testing on domain: sketch ---\n"
     ]
    },
    {
     "name": "stderr",
     "output_type": "stream",
     "text": [
      "Some weights of ViTModel were not initialized from the model checkpoint at WinKawaks/vit-tiny-patch16-224 and are newly initialized: ['pooler.dense.bias', 'pooler.dense.weight']\n",
      "You should probably TRAIN this model on a down-stream task to be able to use it for predictions and inference.\n"
     ]
    },
    {
     "name": "stdout",
     "output_type": "stream",
     "text": [
      "Initialized ViT-GRQO Model (ViT-tiny) with 30 queries.\n",
      "Initialized Trainer with GRQO (alpha=1.0, beta=0.05).\n",
      "Epoch 1/5\n",
      "Updating reference model...\n",
      "Reference model updated successfully.\n"
     ]
    },
    {
     "name": "stderr",
     "output_type": "stream",
     "text": [
      "Training: 100%|██████████| 203/203 [00:11<00:00, 17.63it/s]\n",
      "Evaluating: 100%|██████████| 51/51 [00:01<00:00, 25.71it/s]\n"
     ]
    },
    {
     "name": "stdout",
     "output_type": "stream",
     "text": [
      "Train Loss: -0.3279 | Val Acc: 0.6628\n",
      "Epoch 2/5\n",
      "Updating reference model...\n",
      "Reference model updated successfully.\n"
     ]
    },
    {
     "name": "stderr",
     "output_type": "stream",
     "text": [
      "Training: 100%|██████████| 203/203 [00:11<00:00, 17.32it/s]\n",
      "Evaluating: 100%|██████████| 51/51 [00:02<00:00, 24.29it/s]\n"
     ]
    },
    {
     "name": "stdout",
     "output_type": "stream",
     "text": [
      "Train Loss: -5.3439 | Val Acc: 0.8862\n",
      "Epoch 3/5\n",
      "Updating reference model...\n",
      "Reference model updated successfully.\n"
     ]
    },
    {
     "name": "stderr",
     "output_type": "stream",
     "text": [
      "Training: 100%|██████████| 203/203 [00:11<00:00, 17.06it/s]\n",
      "Evaluating: 100%|██████████| 51/51 [00:01<00:00, 25.91it/s]\n"
     ]
    },
    {
     "name": "stdout",
     "output_type": "stream",
     "text": [
      "Train Loss: -8.8263 | Val Acc: 0.8986\n",
      "Epoch 4/5\n",
      "Updating reference model...\n",
      "Reference model updated successfully.\n"
     ]
    },
    {
     "name": "stderr",
     "output_type": "stream",
     "text": [
      "Training: 100%|██████████| 203/203 [00:12<00:00, 16.46it/s]\n",
      "Evaluating: 100%|██████████| 51/51 [00:02<00:00, 24.35it/s]\n"
     ]
    },
    {
     "name": "stdout",
     "output_type": "stream",
     "text": [
      "Train Loss: -11.9787 | Val Acc: 0.8887\n",
      "Epoch 5/5\n",
      "Updating reference model...\n",
      "Reference model updated successfully.\n"
     ]
    },
    {
     "name": "stderr",
     "output_type": "stream",
     "text": [
      "Training: 100%|██████████| 203/203 [00:11<00:00, 17.56it/s]\n",
      "Evaluating: 100%|██████████| 51/51 [00:02<00:00, 24.51it/s]\n"
     ]
    },
    {
     "name": "stdout",
     "output_type": "stream",
     "text": [
      "Train Loss: -15.3763 | Val Acc: 0.8821\n"
     ]
    },
    {
     "name": "stderr",
     "output_type": "stream",
     "text": [
      "Evaluating: 100%|██████████| 33/33 [00:01<00:00, 24.59it/s]"
     ]
    },
    {
     "name": "stdout",
     "output_type": "stream",
     "text": [
      "Test Accuracy on sketch: 0.3842\n"
     ]
    },
    {
     "name": "stderr",
     "output_type": "stream",
     "text": [
      "\n"
     ]
    }
   ],
   "source": [
    "# =================================================================================\n",
    "# GRQO + ViT Tiny Leave-One-Domain-Out (LODO) Training\n",
    "# =================================================================================\n",
    "\n",
    "results_tiny = {}\n",
    "\n",
    "for test_domain in DOMAINS:\n",
    "    print(f\"---[ViT Tiny]--- Testing on domain: {test_domain} ---\")\n",
    "    train_domains = [d for d in DOMAINS if d != test_domain]\n",
    "\n",
    "    # --- Load datasets ---\n",
    "    dataset = PACSDataset(DATA_ROOT, DOMAINS, transform)\n",
    "    train_loaders = [dataset.get_dataloader(d, train=True) for d in train_domains]\n",
    "    val_loaders = [dataset.get_dataloader(d, train=False) for d in train_domains]\n",
    "    test_loader = dataset.get_dataloader(test_domain, train=False)\n",
    "\n",
    "    # --- Concatenate datasets ---\n",
    "    train_ds = ConcatDataset([dl.dataset for dl in train_loaders])\n",
    "    val_ds = ConcatDataset([dl.dataset for dl in val_loaders])\n",
    "\n",
    "    train_loader = DataLoader(train_ds, batch_size=BATCH_SIZE, shuffle=True)\n",
    "    val_loader = DataLoader(val_ds, batch_size=BATCH_SIZE, shuffle=False)\n",
    "\n",
    "    # --- Initialize model, optimizer, and criterion ---\n",
    "    model_tiny = ViT_GRQO_Model(\n",
    "        num_classes=NUM_CLASSES,\n",
    "        model_size=\"tiny\",\n",
    "        num_queries=NUM_QUERIES,\n",
    "        num_decoder_layers=NUM_DECODER_LAYERS,\n",
    "        decoder_nhead=DECODER_NHEAD\n",
    "    )\n",
    "    optimizer_tiny = optim.Adam(model_tiny.parameters(), lr=1e-4)\n",
    "    criterion_tiny = nn.CrossEntropyLoss()\n",
    "    \n",
    "    trainer_tiny = Trainer(\n",
    "        model_tiny, \n",
    "        optimizer_tiny, \n",
    "        criterion_tiny, \n",
    "        grqo_alpha=GRQO_ALPHA, \n",
    "        grqo_beta=GRQO_BETA\n",
    "    )\n",
    "\n",
    "    # --- Train ---\n",
    "    for epoch in range(NUM_EPOCHS):\n",
    "        print(f\"Epoch {epoch + 1}/{NUM_EPOCHS}\")\n",
    "        trainer_tiny.update_reference_model()\n",
    "        \n",
    "        train_loss_tiny = trainer_tiny.train(train_loader)\n",
    "        val_acc_tiny = trainer_tiny.evaluate(val_loader)\n",
    "        print(f\"Train Loss: {train_loss_tiny:.4f} | Val Acc: {val_acc_tiny:.4f}\")\n",
    "\n",
    "    # --- Test ---\n",
    "    test_acc_tiny = trainer_tiny.evaluate(test_loader)\n",
    "    results_tiny[test_domain] = test_acc_tiny\n",
    "    print(f\"Test Accuracy on {test_domain}: {test_acc_tiny:.4f}\")"
   ]
  },
  {
   "cell_type": "markdown",
   "id": "2755fa40",
   "metadata": {},
   "source": [
    "### Baseline"
   ]
  },
  {
   "cell_type": "code",
   "execution_count": 16,
   "id": "677d9291",
   "metadata": {},
   "outputs": [
    {
     "name": "stdout",
     "output_type": "stream",
     "text": [
      "\n",
      "---[ViT Tiny]--- Baseline: training on all domains with GRQO ---\n"
     ]
    },
    {
     "name": "stderr",
     "output_type": "stream",
     "text": [
      "Some weights of ViTModel were not initialized from the model checkpoint at WinKawaks/vit-tiny-patch16-224 and are newly initialized: ['pooler.dense.bias', 'pooler.dense.weight']\n",
      "You should probably TRAIN this model on a down-stream task to be able to use it for predictions and inference.\n"
     ]
    },
    {
     "name": "stdout",
     "output_type": "stream",
     "text": [
      "Initialized ViT-GRQO Model (ViT-tiny) with 30 queries.\n",
      "Initialized Trainer with GRQO (alpha=1.0, beta=0.05).\n",
      "Baseline Epoch 1/5\n",
      "Updating reference model...\n",
      "Reference model updated successfully.\n"
     ]
    },
    {
     "name": "stderr",
     "output_type": "stream",
     "text": [
      "Training: 100%|██████████| 333/333 [00:19<00:00, 17.51it/s]\n",
      "Evaluating: 100%|██████████| 84/84 [00:03<00:00, 24.62it/s]\n"
     ]
    },
    {
     "name": "stdout",
     "output_type": "stream",
     "text": [
      "Baseline Loss: -0.5045 | Baseline Acc: 0.2331\n",
      "Baseline Epoch 2/5\n",
      "Updating reference model...\n",
      "Reference model updated successfully.\n"
     ]
    },
    {
     "name": "stderr",
     "output_type": "stream",
     "text": [
      "Training: 100%|██████████| 333/333 [00:18<00:00, 17.95it/s]\n",
      "Evaluating: 100%|██████████| 84/84 [00:03<00:00, 24.40it/s]\n"
     ]
    },
    {
     "name": "stdout",
     "output_type": "stream",
     "text": [
      "Baseline Loss: -6.8999 | Baseline Acc: 0.8289\n",
      "Baseline Epoch 3/5\n",
      "Updating reference model...\n",
      "Reference model updated successfully.\n"
     ]
    },
    {
     "name": "stderr",
     "output_type": "stream",
     "text": [
      "Training: 100%|██████████| 333/333 [00:18<00:00, 17.62it/s]\n",
      "Evaluating: 100%|██████████| 84/84 [00:03<00:00, 25.97it/s]\n"
     ]
    },
    {
     "name": "stdout",
     "output_type": "stream",
     "text": [
      "Baseline Loss: -12.9784 | Baseline Acc: 0.8129\n",
      "Baseline Epoch 4/5\n",
      "Updating reference model...\n",
      "Reference model updated successfully.\n"
     ]
    },
    {
     "name": "stderr",
     "output_type": "stream",
     "text": [
      "Training: 100%|██████████| 333/333 [00:19<00:00, 17.00it/s]\n",
      "Evaluating: 100%|██████████| 84/84 [00:03<00:00, 25.22it/s]\n"
     ]
    },
    {
     "name": "stdout",
     "output_type": "stream",
     "text": [
      "Baseline Loss: -19.0361 | Baseline Acc: 0.8214\n",
      "Baseline Epoch 5/5\n",
      "Updating reference model...\n",
      "Reference model updated successfully.\n"
     ]
    },
    {
     "name": "stderr",
     "output_type": "stream",
     "text": [
      "Training: 100%|██████████| 333/333 [00:18<00:00, 17.64it/s]\n",
      "Evaluating: 100%|██████████| 84/84 [00:03<00:00, 24.00it/s]\n"
     ]
    },
    {
     "name": "stdout",
     "output_type": "stream",
     "text": [
      "Baseline Loss: -24.7482 | Baseline Acc: 0.7764\n"
     ]
    },
    {
     "name": "stderr",
     "output_type": "stream",
     "text": [
      "Evaluating: 100%|██████████| 84/84 [00:03<00:00, 23.73it/s]"
     ]
    },
    {
     "name": "stdout",
     "output_type": "stream",
     "text": [
      "Baseline Test Accuracy: 0.7764\n"
     ]
    },
    {
     "name": "stderr",
     "output_type": "stream",
     "text": [
      "\n"
     ]
    }
   ],
   "source": [
    "# =================================================================================\n",
    "# GRQO + ViT Tiny Baseline Training (All Domains)\n",
    "# =================================================================================\n",
    "\n",
    "print(\"\\n---[ViT Tiny]--- Baseline: training on all domains with GRQO ---\")\n",
    "\n",
    "# Data loading is the same as the 'base' baseline\n",
    "full_train_loader = DataLoader(full_train_ds, batch_size=BATCH_SIZE, shuffle=True)\n",
    "full_test_loader = DataLoader(full_test_ds, batch_size=BATCH_SIZE, shuffle=False)\n",
    "\n",
    "# --- Initialize baseline model with GRQO ---\n",
    "baseline_model_tiny = ViT_GRQO_Model(\n",
    "    num_classes=NUM_CLASSES, \n",
    "    model_size=\"tiny\",\n",
    "    num_queries=NUM_QUERIES,\n",
    "    num_decoder_layers=NUM_DECODER_LAYERS,\n",
    "    decoder_nhead=DECODER_NHEAD\n",
    ")\n",
    "baseline_optimizer_tiny = optim.Adam(baseline_model_tiny.parameters(), lr=1e-4)\n",
    "baseline_criterion_tiny = nn.CrossEntropyLoss()\n",
    "\n",
    "baseline_trainer_tiny = Trainer(\n",
    "    baseline_model_tiny, \n",
    "    baseline_optimizer_tiny, \n",
    "    baseline_criterion_tiny,\n",
    "    grqo_alpha=GRQO_ALPHA, \n",
    "    grqo_beta=GRQO_BETA\n",
    ")\n",
    "\n",
    "# --- Train baseline ---\n",
    "for epoch in range(NUM_EPOCHS):\n",
    "    print(f\"Baseline Epoch {epoch + 1}/{NUM_EPOCHS}\")\n",
    "    baseline_trainer_tiny.update_reference_model()\n",
    "\n",
    "    baseline_loss_tiny = baseline_trainer_tiny.train(full_train_loader)\n",
    "    baseline_val_acc_tiny = baseline_trainer_tiny.evaluate(full_test_loader)\n",
    "    print(f\"Baseline Loss: {baseline_loss_tiny:.4f} | Baseline Acc: {baseline_val_acc_tiny:.4f}\")\n",
    "\n",
    "# --- Test baseline ---\n",
    "baseline_test_acc_tiny = baseline_trainer_tiny.evaluate(full_test_loader)\n",
    "results_tiny['baseline_all_domains'] = baseline_test_acc_tiny\n",
    "print(f\"Baseline Test Accuracy: {baseline_test_acc_tiny:.4f}\")"
   ]
  },
  {
   "cell_type": "markdown",
   "id": "cf3d7251",
   "metadata": {},
   "source": [
    "### Visual Comparison"
   ]
  },
  {
   "cell_type": "code",
   "execution_count": 17,
   "id": "5dc8e4ec",
   "metadata": {},
   "outputs": [
    {
     "data": {
      "image/png": "[encoded data removed]",
      "text/plain": [
       "<Figure size 640x480 with 1 Axes>"
      ]
     },
     "metadata": {},
     "output_type": "display_data"
    }
   ],
   "source": [
    "domains = list(results_tiny.keys())\n",
    "accuracies = [results_tiny[d] for d in domains]\n",
    "\n",
    "plt.figure()\n",
    "plt.bar(domains, accuracies)\n",
    "plt.xticks(rotation=45, ha='right')\n",
    "plt.ylabel('Accuracy')\n",
    "plt.title('Leave-One-Domain-Out vs. Baseline Accuracy (ViT Tiny)')\n",
    "plt.tight_layout()\n",
    "plt.show()"
   ]
  },
  {
   "cell_type": "markdown",
   "id": "45e77ac4",
   "metadata": {},
   "source": [
    "### Final Results"
   ]
  },
  {
   "cell_type": "code",
   "execution_count": 18,
   "id": "dc95a29a",
   "metadata": {},
   "outputs": [
    {
     "name": "stdout",
     "output_type": "stream",
     "text": [
      "\\Final Results (LODO Accuracy):\n",
      "art_painting: 0.6049\n",
      "cartoon: 0.6823\n",
      "photo: 0.7695\n",
      "sketch: 0.3842\n",
      "baseline_all_domains: 0.7764\n",
      "\n",
      "Average Accuracy: 0.6435\n"
     ]
    },
    {
     "name": "stderr",
     "output_type": "stream",
     "text": [
      "<>:1: SyntaxWarning: invalid escape sequence '\\F'\n",
      "<>:1: SyntaxWarning: invalid escape sequence '\\F'\n",
      "C:\\Users\\Haseeb\\AppData\\Local\\Temp\\ipykernel_7252\\1740940439.py:1: SyntaxWarning: invalid escape sequence '\\F'\n",
      "  print(\"\\Final Results (LODO Accuracy):\")\n"
     ]
    }
   ],
   "source": [
    "\n",
    "print(\"\\Final Results (LODO Accuracy):\")\n",
    "for domain, acc in results_tiny.items():\n",
    "    print(f\"{domain}: {acc:.4f}\")\n",
    "\n",
    "avg_acc = sum(results_tiny.values()) / len(results_tiny)\n",
    "print(f\"\\nAverage Accuracy: {avg_acc:.4f}\")\n"
   ]
  },
  {
   "cell_type": "markdown",
   "id": "cd735321",
   "metadata": {},
   "source": [
    "## Performance Comparison"
   ]
  },
  {
   "cell_type": "code",
   "execution_count": 19,
   "id": "958dfa94",
   "metadata": {},
   "outputs": [
    {
     "data": {
      "image/png": "[encoded data removed]",
      "text/plain": [
       "<Figure size 2000x1200 with 5 Axes>"
      ]
     },
     "metadata": {},
     "output_type": "display_data"
    },
    {
     "name": "stdout",
     "output_type": "stream",
     "text": [
      "\n",
      "Detailed Performance Comparison:\n",
      "------------------------------------------------------------\n",
      "Domain                Base      Small       Tiny\n",
      "------------------------------------------------------------\n",
      "art_painting        45.12%     68.78%     60.49%\n",
      "cartoon             76.12%     69.72%     68.23%\n",
      "photo               13.17%     91.32%     76.95%\n",
      "sketch              64.50%     67.18%     38.42%\n",
      "------------------------------------------------------------\n",
      "Baseline            73.49%     39.22%     77.64%\n",
      "------------------------------------------------------------\n"
     ]
    }
   ],
   "source": [
    "plt.figure(figsize=(20, 12))\n",
    "\n",
    "for idx, domain in enumerate(DOMAINS):\n",
    "    plt.subplot(2, 3, idx + 1)\n",
    "\n",
    "    domain_accuracies = [\n",
    "        results_base[domain],\n",
    "        results_small[domain],\n",
    "        results_tiny[domain]\n",
    "    ]\n",
    "\n",
    "    bars = plt.bar(MODELS.keys(), domain_accuracies, color=[\"skyblue\", \"orange\", \"green\"])\n",
    "    plt.ylim(0, 1)\n",
    "    plt.ylabel(\"Test Accuracy\")\n",
    "    plt.title(f\"Model Comparison - {domain} Domain\")\n",
    "    plt.grid(axis=\"y\", linestyle=\"--\", alpha=0.5)\n",
    "    \n",
    "    # Add value labels on top of bars\n",
    "    for i, acc in enumerate(domain_accuracies):\n",
    "        plt.text(i, acc + 0.01, f\"{acc:.2%}\", ha=\"center\")\n",
    "\n",
    "# Create the baseline comparison subplot\n",
    "plt.subplot(2, 3, 5) \n",
    "baseline_accuracies = [\n",
    "    results_base[\"baseline_all_domains\"],\n",
    "    results_small[\"baseline_all_domains\"],\n",
    "    results_tiny[\"baseline_all_domains\"]\n",
    "]\n",
    "plt.bar(MODELS.keys(), baseline_accuracies, color=[\"skyblue\", \"orange\", \"green\"])\n",
    "plt.ylim(0, 1)\n",
    "plt.ylabel(\"Test Accuracy\")\n",
    "plt.title(\"Model Comparison - Baseline (All Domains)\")\n",
    "plt.grid(axis=\"y\", linestyle=\"--\", alpha=0.5)\n",
    "\n",
    "for i, acc in enumerate(baseline_accuracies):\n",
    "    plt.text(i, acc + 0.01, f\"{acc:.2%}\", ha=\"center\")\n",
    "\n",
    "plt.tight_layout()\n",
    "plt.show()\n",
    "\n",
    "print(\"\\nDetailed Performance Comparison:\")\n",
    "print(\"-\" * 60)\n",
    "print(f\"{'Domain':<15} {'Base':>10} {'Small':>10} {'Tiny':>10}\")\n",
    "print(\"-\" * 60)\n",
    "\n",
    "for domain in DOMAINS:\n",
    "    print(f\"{domain:<15} {results_base[domain]:>10.2%} {results_small[domain]:>10.2%} {results_tiny[domain]:>10.2%}\")\n",
    "\n",
    "print(\"-\" * 60)\n",
    "print(f\"{'Baseline':<15} {results_base['baseline_all_domains']:>10.2%} {results_small['baseline_all_domains']:>10.2%} {results_tiny['baseline_all_domains']:>10.2%}\")\n",
    "print(\"-\" * 60)"
   ]
  }
 ],
 "metadata": {
  "kernelspec": {
   "display_name": "Python 3",
   "language": "python",
   "name": "python3"
  },
  "language_info": {
   "codemirror_mode": {
    "name": "ipython",
    "version": 3
   },
   "file_extension": ".py",
   "mimetype": "text/x-python",
   "name": "python",
   "nbconvert_exporter": "python",
   "pygments_lexer": "ipython3",
   "version": "3.12.0"
  }
 },
 "nbformat": 4,
 "nbformat_minor": 5
}
