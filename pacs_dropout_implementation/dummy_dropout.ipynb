{
 "cells": [
  {
   "cell_type": "code",
   "execution_count": 1,
   "metadata": {
    "_cell_guid": "b1076dfc-b9ad-4769-8c92-a6c4dae69d19",
    "_uuid": "8f2839f25d086af736a60e9eeb907d3b93b6e0e5",
    "execution": {
     "iopub.execute_input": "2025-10-10T18:41:13.345758Z",
     "iopub.status.busy": "2025-10-10T18:41:13.345233Z",
     "iopub.status.idle": "2025-10-10T18:41:13.352583Z",
     "shell.execute_reply": "2025-10-10T18:41:13.351859Z",
     "shell.execute_reply.started": "2025-10-10T18:41:13.345732Z"
    },
    "trusted": true
   },
   "outputs": [],
   "source": [
    "# =================================================================================\n",
    "# SECTION 1: PROJECT SCAFFOLDING & CONFIGURATION\n",
    "# =================================================================================\n",
    "\n",
    "# ---------------------------------------------------------------------------------\n",
    "# 1.1: IMPORTS\n",
    "# ---------------------------------------------------------------------------------\n",
    "%matplotlib inline\n",
    "import os\n",
    "import numpy as np\n",
    "import pandas as pd\n",
    "import torch\n",
    "import torch.nn as nn\n",
    "from torch.utils.data import Dataset, DataLoader\n",
    "from torchvision import transforms\n",
    "from transformers import ViTModel\n",
    "from PIL import Image\n",
    "from tqdm.notebook import tqdm\n",
    "import matplotlib.pyplot as plt\n",
    "import seaborn as sns\n",
    "from collections import defaultdict\n",
    "import copy\n",
    "\n",
    "# Set a seed for reproducibility\n",
    "torch.manual_seed(42)\n",
    "np.random.seed(42)"
   ]
  },
  {
   "cell_type": "code",
   "execution_count": 2,
   "metadata": {
    "execution": {
     "iopub.execute_input": "2025-10-10T18:41:13.354688Z",
     "iopub.status.busy": "2025-10-10T18:41:13.353877Z",
     "iopub.status.idle": "2025-10-10T18:41:13.385781Z",
     "shell.execute_reply": "2025-10-10T18:41:13.385144Z",
     "shell.execute_reply.started": "2025-10-10T18:41:13.354663Z"
    },
    "trusted": true
   },
   "outputs": [
    {
     "name": "stdout",
     "output_type": "stream",
     "text": [
      "--- Project Configuration (EMA Weight Transfer) ---\n",
      "DATA_DIR: D:\\Salaar Masood\\pacs-dataset\\pacs_data\n",
      "DOMAINS: ['art_painting', 'cartoon', 'photo', 'sketch']\n",
      "MODEL_NAME: WinKawaks/vit-tiny-patch16-224\n",
      "NUM_CLASSES: 7\n",
      "NUM_HEADS: 4\n",
      "DROPOUT_OPTIONS: [0.3, 0.4, 0.5, 0.6, 0.7]\n",
      "EMA_DECAY: 0.999\n",
      "BATCH_SIZE: 128\n",
      "NUM_EPOCHS: 20\n",
      "LEARNING_RATE: 0.0001\n",
      "OPTIMIZER: AdamW\n",
      "DEVICE: cuda\n",
      "SEED: 42\n",
      "---------------------------\n",
      "Device: cuda\n",
      "\n",
      "Project scaffolding is complete. Ready for Section 2.\n"
     ]
    }
   ],
   "source": [
    "# =================================================================================\n",
    "# SECTION 1.2: CONFIGURATION CLASS (FOR EMA WEIGHT TRANSFER)\n",
    "# =================================================================================\n",
    "class Config:\n",
    "    # --- Data Paths and Domains ---\n",
    "    DATA_DIR = r\"D:\\Salaar Masood\\pacs-dataset\\pacs_data\"\n",
    "    DOMAINS = [\"art_painting\", \"cartoon\", \"photo\", \"sketch\"]\n",
    "    \n",
    "    # --- Model & Architecture ---\n",
    "    MODEL_NAME = \"WinKawaks/vit-tiny-patch16-224\"\n",
    "    NUM_CLASSES = 7\n",
    "    NUM_HEADS = 4\n",
    "    DROPOUT_OPTIONS = [0.3, 0.4, 0.5, 0.6, 0.7]\n",
    "    \n",
    "    ### NEW: EMA Hyperparameter ###\n",
    "    # Controls how much of the old student weights to keep. 0.999 is a common value.\n",
    "    EMA_DECAY = 0.999\n",
    "    \n",
    "    # --- Training Hyperparameters ---\n",
    "    BATCH_SIZE = 128\n",
    "    NUM_EPOCHS = 20 # Train longer to let the EMA stabilize\n",
    "    LEARNING_RATE = 1e-4\n",
    "    OPTIMIZER = \"AdamW\"\n",
    "    \n",
    "    # --- Hardware & Reproducibility ---\n",
    "    DEVICE = \"cuda\" if torch.cuda.is_available() else \"cpu\"\n",
    "    SEED = 42\n",
    "\n",
    "# Instantiate the config\n",
    "config = Config()\n",
    "\n",
    "print(\"--- Project Configuration (EMA Weight Transfer) ---\")\n",
    "for key, value in config.__class__.__dict__.items():\n",
    "    if not key.startswith('__'):\n",
    "        print(f\"{key}: {value}\")\n",
    "print(\"---------------------------\")\n",
    "print(f\"Device: {config.DEVICE}\")\n",
    "\n",
    "# ---------------------------------------------------------------------------------\n",
    "# 1.3: RESULTS TRACKER\n",
    "# ---------------------------------------------------------------------------------\n",
    "experiment_results = []\n",
    "\n",
    "print(\"\\nProject scaffolding is complete. Ready for Section 2.\")"
   ]
  },
  {
   "cell_type": "code",
   "execution_count": 3,
   "metadata": {
    "execution": {
     "iopub.execute_input": "2025-10-10T18:41:13.386821Z",
     "iopub.status.busy": "2025-10-10T18:41:13.386565Z",
     "iopub.status.idle": "2025-10-10T18:41:13.415060Z",
     "shell.execute_reply": "2025-10-10T18:41:13.414321Z",
     "shell.execute_reply.started": "2025-10-10T18:41:13.386797Z"
    },
    "trusted": true
   },
   "outputs": [],
   "source": [
    "# =================================================================================\n",
    "# SECTION 2: DATA LOADING & PREPROCESSING\n",
    "# =================================================================================\n",
    "\n",
    "# ---------------------------------------------------------------------------------\n",
    "# 2.1: IMAGE TRANSFORMATIONS\n",
    "# Define the transformations for training (with augmentation) and validation/testing.\n",
    "# ---------------------------------------------------------------------------------\n",
    "\n",
    "# The ViT model was pre-trained on images of size 224x224\n",
    "IMG_SIZE = 224\n",
    "\n",
    "# The normalization values are standard for many pre-trained models\n",
    "# but it's good practice to use the ones specified by the model's authors if available.\n",
    "# For ViT, a simple (0.5, 0.5, 0.5) normalization is common.\n",
    "data_transforms = {\n",
    "    'train': transforms.Compose([\n",
    "        transforms.Resize((IMG_SIZE, IMG_SIZE)),\n",
    "        transforms.RandomHorizontalFlip(), # A simple data augmentation technique\n",
    "        transforms.ToTensor(),\n",
    "        transforms.Normalize(mean=[0.5, 0.5, 0.5], std=[0.5, 0.5, 0.5])\n",
    "    ]),\n",
    "    'val': transforms.Compose([\n",
    "        transforms.Resize((IMG_SIZE, IMG_SIZE)),\n",
    "        transforms.ToTensor(),\n",
    "        transforms.Normalize(mean=[0.5, 0.5, 0.5], std=[0.5, 0.5, 0.5])\n",
    "    ]),\n",
    "}\n"
   ]
  },
  {
   "cell_type": "code",
   "execution_count": 4,
   "metadata": {
    "execution": {
     "iopub.execute_input": "2025-10-10T18:41:13.416535Z",
     "iopub.status.busy": "2025-10-10T18:41:13.416345Z",
     "iopub.status.idle": "2025-10-10T18:41:13.445670Z",
     "shell.execute_reply": "2025-10-10T18:41:13.445083Z",
     "shell.execute_reply.started": "2025-10-10T18:41:13.416520Z"
    },
    "trusted": true
   },
   "outputs": [],
   "source": [
    "# ---------------------------------------------------------------------------------\n",
    "# 2.2: CUSTOM PACS DATASET CLASS\n",
    "# This class will read the images and labels from our specific folder structure.\n",
    "# ---------------------------------------------------------------------------------\n",
    "class PACSDataset(Dataset):\n",
    "    def __init__(self, root_dir, domains, transform=None):\n",
    "        \"\"\"\n",
    "        Args:\n",
    "            root_dir (string): Directory with all the domain folders.\n",
    "            domains (list of string): List of domains to include in this dataset.\n",
    "            transform (callable, optional): Optional transform to be applied on a sample.\n",
    "        \"\"\"\n",
    "        self.root_dir = root_dir\n",
    "        self.domains = domains\n",
    "        self.transform = transform\n",
    "        self.image_paths = []\n",
    "        self.labels = []\n",
    "        \n",
    "        # Discover all classes (dog, elephant, etc.) and map them to integers\n",
    "        self.classes = sorted(os.listdir(os.path.join(root_dir, domains[0])))\n",
    "        self.class_to_idx = {cls_name: i for i, cls_name in enumerate(self.classes)}\n",
    "        \n",
    "        # Load image paths and labels from the specified domains\n",
    "        for domain in self.domains:\n",
    "            domain_path = os.path.join(self.root_dir, domain)\n",
    "            for class_name in self.classes:\n",
    "                class_path = os.path.join(domain_path, class_name)\n",
    "                for img_name in os.listdir(class_path):\n",
    "                    self.image_paths.append(os.path.join(class_path, img_name))\n",
    "                    self.labels.append(self.class_to_idx[class_name])\n",
    "\n",
    "    def __len__(self):\n",
    "        return len(self.image_paths)\n",
    "\n",
    "    def __getitem__(self, idx):\n",
    "        img_path = self.image_paths[idx]\n",
    "        image = Image.open(img_path).convert('RGB')\n",
    "        label = self.labels[idx]\n",
    "        \n",
    "        if self.transform:\n",
    "            image = self.transform(image)\n",
    "            \n",
    "        return image, label"
   ]
  },
  {
   "cell_type": "code",
   "execution_count": 5,
   "metadata": {
    "execution": {
     "iopub.execute_input": "2025-10-10T18:41:13.448409Z",
     "iopub.status.busy": "2025-10-10T18:41:13.447964Z",
     "iopub.status.idle": "2025-10-10T18:41:13.478136Z",
     "shell.execute_reply": "2025-10-10T18:41:13.477575Z",
     "shell.execute_reply.started": "2025-10-10T18:41:13.448393Z"
    },
    "trusted": true
   },
   "outputs": [],
   "source": [
    "# =================================================================================\n",
    "# SECTION 2.3: DATALOADER HELPER FUNCTION (NEW 80/20 SPLIT VERSION)\n",
    "# =================================================================================\n",
    "# Replace the old get_dataloaders function in Section 2 of BOTH notebooks with this.\n",
    "\n",
    "from torch.utils.data import Subset\n",
    "from sklearn.model_selection import train_test_split\n",
    "\n",
    "def get_dataloaders(root_dir, target_domain, all_domains, batch_size, seed):\n",
    "    \"\"\"\n",
    "    Creates dataloaders for a LODO split using an 80/20 split on the source domains.\n",
    "    \"\"\"\n",
    "    source_domains = [d for d in all_domains if d != target_domain]\n",
    "    \n",
    "    print(f\"--- Creating DataLoaders (80/20 Split Strategy) ---\")\n",
    "    print(f\"Target (Test) Domain: {target_domain}\")\n",
    "    print(f\"Source Domains for Train/Val: {source_domains}\")\n",
    "    \n",
    "    # 1. Create a single, large dataset by combining all source domains\n",
    "    source_dataset = PACSDataset(\n",
    "        root_dir=root_dir, \n",
    "        domains=source_domains, \n",
    "        transform=data_transforms['train'] # Use training transforms for the whole source\n",
    "    )\n",
    "    \n",
    "    # We need to perform a stratified split to ensure the train and val sets\n",
    "    # have a similar distribution of classes.\n",
    "    indices = list(range(len(source_dataset)))\n",
    "    labels = source_dataset.labels\n",
    "    \n",
    "    # Use sklearn's train_test_split to get indices for an 80% train / 20% val split\n",
    "    train_idx, val_idx = train_test_split(\n",
    "        indices, \n",
    "        test_size=0.2, \n",
    "        stratify=labels, \n",
    "        random_state=seed\n",
    "    )\n",
    "    \n",
    "    # 2. Create the training and validation subsets\n",
    "    train_subset = Subset(source_dataset, train_idx)\n",
    "    val_subset = Subset(source_dataset, val_idx)\n",
    "    \n",
    "    # Important: The validation subset should not use training augmentations (like RandomFlip).\n",
    "    # We create a new dataset object for validation with the correct transforms.\n",
    "    # This is a cleaner way to handle transforms for subsets.\n",
    "    val_dataset_clean = PACSDataset(root_dir=root_dir, domains=source_domains, transform=data_transforms['val'])\n",
    "    val_subset_final = Subset(val_dataset_clean, val_idx)\n",
    "    \n",
    "    # 3. Create the test dataset from the full target domain\n",
    "    test_dataset = PACSDataset(\n",
    "        root_dir=root_dir, \n",
    "        domains=[target_domain], \n",
    "        transform=data_transforms['val']\n",
    "    )\n",
    "\n",
    "    # 4. Create the DataLoaders\n",
    "    train_loader = DataLoader(train_subset, batch_size=batch_size, shuffle=True, num_workers=0)\n",
    "    val_loader = DataLoader(val_subset_final, batch_size=batch_size, shuffle=False, num_workers=0)\n",
    "    test_loader = DataLoader(test_dataset, batch_size=batch_size, shuffle=False, num_workers=0)\n",
    "    \n",
    "    print(f\"Source data size: {len(source_dataset)}\")\n",
    "    print(f\"  -> Training on: {len(train_subset)} images (80%)\")\n",
    "    print(f\"  -> Validating on: {len(val_subset_final)} images (20%)\")\n",
    "    print(f\"Testing on full '{target_domain}' domain: {len(test_dataset)} images\")\n",
    "    print(\"----------------------------------------------------\")\n",
    "    \n",
    "    return train_loader, val_loader, test_loader"
   ]
  },
  {
   "cell_type": "code",
   "execution_count": 6,
   "metadata": {
    "execution": {
     "iopub.execute_input": "2025-10-10T18:41:13.479579Z",
     "iopub.status.busy": "2025-10-10T18:41:13.479370Z",
     "iopub.status.idle": "2025-10-10T18:41:13.507477Z",
     "shell.execute_reply": "2025-10-10T18:41:13.506936Z",
     "shell.execute_reply.started": "2025-10-10T18:41:13.479564Z"
    },
    "trusted": true
   },
   "outputs": [
    {
     "name": "stdout",
     "output_type": "stream",
     "text": [
      "EMA-ready DistillationViT class defined.\n"
     ]
    }
   ],
   "source": [
    "# =================================================================================\n",
    "# SECTION 3: THE MODEL ARCHITECTURE (EMA WEIGHT TRANSFER)\n",
    "# =================================================================================\n",
    "\n",
    "class DistillationViT(nn.Module):\n",
    "    def __init__(self, model_name, num_classes, dropout_rates: list, dummy_dropout_rate: float):\n",
    "        super(DistillationViT, self).__init__()\n",
    "        \n",
    "        self.vit_backbone = ViTModel.from_pretrained(model_name)\n",
    "        hidden_dim = self.vit_backbone.config.hidden_size\n",
    "        \n",
    "        # The 4 \"teacher\" heads\n",
    "        self.heads = nn.ModuleList([\n",
    "            nn.Sequential(\n",
    "                nn.Dropout(p=rate),\n",
    "                nn.Linear(hidden_dim, num_classes)\n",
    "            ) for rate in dropout_rates\n",
    "        ])\n",
    "        \n",
    "        ### CRITICAL CHANGE ###\n",
    "        # The \"student\" head MUST have the same architecture as the teachers\n",
    "        # so that their weights can be averaged.\n",
    "        self.dummy_head = nn.Sequential(\n",
    "            nn.Dropout(p=dummy_dropout_rate),\n",
    "            nn.Linear(hidden_dim, num_classes)\n",
    "        )\n",
    "        # We initialize the dummy head with the same weights as the first teacher head\n",
    "        self.dummy_head.load_state_dict(self.heads[0].state_dict())\n",
    "\n",
    "\n",
    "    def update_dropout_rates(self, new_rates: list):\n",
    "        for i, head in enumerate(self.heads):\n",
    "            head[0].p = new_rates[i]\n",
    "            \n",
    "    def update_dummy_dropout_rate(self, new_rate: float):\n",
    "        self.dummy_head[0].p = new_rate\n",
    "        \n",
    "    def forward(self, images):\n",
    "        z = self.vit_backbone(pixel_values=images).last_hidden_state[:, 0, :]\n",
    "        return z\n",
    "\n",
    "print(\"EMA-ready DistillationViT class defined.\")"
   ]
  },
  {
   "cell_type": "code",
   "execution_count": 7,
   "metadata": {
    "execution": {
     "iopub.execute_input": "2025-10-10T18:41:13.508460Z",
     "iopub.status.busy": "2025-10-10T18:41:13.508233Z",
     "iopub.status.idle": "2025-10-10T18:41:13.531246Z",
     "shell.execute_reply": "2025-10-10T18:41:13.530720Z",
     "shell.execute_reply.started": "2025-10-10T18:41:13.508435Z"
    },
    "trusted": true
   },
   "outputs": [
    {
     "name": "stdout",
     "output_type": "stream",
     "text": [
      "FINAL EMA train_one_epoch and evaluate functions are ready.\n"
     ]
    }
   ],
   "source": [
    "# =================================================================================\n",
    "# SECTION 4: TRAINING & EVALUATION LOGIC (FINAL EMA VERSION)\n",
    "# =================================================================================\n",
    "\n",
    "classification_criterion = nn.CrossEntropyLoss()\n",
    "\n",
    "def train_one_epoch(model, train_loader, optimizer, device):\n",
    "    model.train()\n",
    "    \n",
    "    batch_backbone_losses = []\n",
    "    head_correct_preds = defaultdict(int)\n",
    "    total_samples = 0\n",
    "\n",
    "    progress_bar = tqdm(train_loader, desc=\"Training Epoch\", leave=False)\n",
    "\n",
    "    for images, labels in progress_bar:\n",
    "        images, labels = images.to(device), labels.to(device)\n",
    "        total_samples += len(labels)\n",
    "        \n",
    "        z = model(images)\n",
    "        z_detached = z.detach()\n",
    "\n",
    "        head_logits = {f'head_{i+1}': head(z) for i, head in enumerate(model.heads)}\n",
    "\n",
    "        # Find the winner\n",
    "        batch_accuracies = {}\n",
    "        for head_name, logits in head_logits.items():\n",
    "            _, preds = torch.max(logits, 1)\n",
    "            correct = torch.sum(preds == labels).item()\n",
    "            batch_accuracies[head_name] = correct / len(labels)\n",
    "            head_correct_preds[head_name] += correct\n",
    "        winner_head_name = max(batch_accuracies, key=batch_accuracies.get)\n",
    "        winner_head = model.heads[int(winner_head_name[-1])-1]\n",
    "\n",
    "        # Calculate Losses\n",
    "        winner_loss = classification_criterion(head_logits[winner_head_name], labels)\n",
    "        batch_backbone_losses.append(winner_loss.item())\n",
    "\n",
    "        losers_loss = 0\n",
    "        for i, head in enumerate(model.heads):\n",
    "            if i != (int(winner_head_name[-1])-1):\n",
    "                loser_logits = head(z_detached)\n",
    "                losers_loss += classification_criterion(loser_logits, labels)\n",
    "        \n",
    "        final_loss = winner_loss + losers_loss\n",
    "        \n",
    "        optimizer.zero_grad()\n",
    "        final_loss.backward()\n",
    "        optimizer.step()\n",
    "        \n",
    "        # Perform the EMA weight update after the optimizer step\n",
    "        with torch.no_grad():\n",
    "            student_params = model.dummy_head.parameters()\n",
    "            teacher_params = winner_head.parameters()\n",
    "            \n",
    "            for student_param, teacher_param in zip(student_params, teacher_params):\n",
    "                student_param.data.mul_(config.EMA_DECAY).add_(teacher_param.data, alpha=1 - config.EMA_DECAY)\n",
    "\n",
    "    # Collate and return metrics\n",
    "    epoch_metrics = {\n",
    "        \"avg_backbone_loss\": np.mean(batch_backbone_losses),\n",
    "        \"head_accuracies\": {name: correct / total_samples for name, correct in head_correct_preds.items()}\n",
    "    }\n",
    "        \n",
    "    return epoch_metrics\n",
    "\n",
    "# The evaluate function is correct and does not need to be changed.\n",
    "def evaluate(model, data_loader, device):\n",
    "    model.eval()\n",
    "    total_loss, correct_preds, total_samples = 0.0, 0, 0\n",
    "    with torch.no_grad():\n",
    "        for images, labels in tqdm(data_loader, desc=\"Evaluating\", leave=False):\n",
    "            images, labels = images.to(device), labels.to(device)\n",
    "            total_samples += len(labels)\n",
    "            z = model(images)\n",
    "            dummy_logits = model.dummy_head(z)\n",
    "            loss = classification_criterion(dummy_logits, labels)\n",
    "            total_loss += loss.item()\n",
    "            _, preds = torch.max(dummy_logits, 1)\n",
    "            correct_preds += torch.sum(preds == labels).item()\n",
    "    avg_loss = total_loss / len(data_loader)\n",
    "    accuracy = correct_preds / total_samples\n",
    "    return {\"avg_loss\": avg_loss, \"accuracy\": accuracy}\n",
    "\n",
    "print(\"FINAL EMA train_one_epoch and evaluate functions are ready.\")"
   ]
  },
  {
   "cell_type": "code",
   "execution_count": null,
   "metadata": {
    "execution": {
     "iopub.execute_input": "2025-10-10T18:41:37.325012Z",
     "iopub.status.busy": "2025-10-10T18:41:37.324286Z",
     "iopub.status.idle": "2025-10-10T18:52:06.401923Z",
     "shell.execute_reply": "2025-10-10T18:52:06.401064Z",
     "shell.execute_reply.started": "2025-10-10T18:41:37.324985Z"
    },
    "trusted": true
   },
   "outputs": [
    {
     "name": "stdout",
     "output_type": "stream",
     "text": [
      "==============================================================\n",
      "  STARTING LODO EXPERIMENT: Target Domain = ART_PAINTING\n",
      "==============================================================\n",
      "--- Creating DataLoaders (80/20 Split Strategy) ---\n",
      "Target (Test) Domain: art_painting\n",
      "Source Domains for Train/Val: ['cartoon', 'photo', 'sketch']\n",
      "Source data size: 7943\n",
      "  -> Training on: 6354 images (80%)\n",
      "  -> Validating on: 1589 images (20%)\n",
      "Testing on full 'art_painting' domain: 2048 images\n",
      "----------------------------------------------------\n"
     ]
    },
    {
     "name": "stderr",
     "output_type": "stream",
     "text": [
      "Some weights of ViTModel were not initialized from the model checkpoint at WinKawaks/vit-tiny-patch16-224 and are newly initialized: ['pooler.dense.bias', 'pooler.dense.weight']\n",
      "You should probably TRAIN this model on a down-stream task to be able to use it for predictions and inference.\n"
     ]
    },
    {
     "name": "stdout",
     "output_type": "stream",
     "text": [
      "\n",
      "--- Epoch 1/20 ---\n",
      "Current Teacher Rates: {'head_1': 0.4, 'head_2': 0.7, 'head_3': 0.5, 'head_4': 0.3}\n",
      "Current Dummy Head Rate: 0.7\n"
     ]
    },
    {
     "data": {
      "application/vnd.jupyter.widget-view+json": {
       "model_id": "715b46777b4e4bf6b439986208183f84",
       "version_major": 2,
       "version_minor": 0
      },
      "text/plain": [
       "Training Epoch:   0%|          | 0/50 [00:00<?, ?it/s]"
      ]
     },
     "metadata": {},
     "output_type": "display_data"
    },
    {
     "data": {
      "application/vnd.jupyter.widget-view+json": {
       "model_id": "a1bf9a092ba04f2c85270a85b33aca98",
       "version_major": 2,
       "version_minor": 0
      },
      "text/plain": [
       "Evaluating:   0%|          | 0/13 [00:00<?, ?it/s]"
      ]
     },
     "metadata": {},
     "output_type": "display_data"
    },
    {
     "name": "stdout",
     "output_type": "stream",
     "text": [
      "Epoch 1 Summary:\n",
      "  Backbone Loss (from Winner): 1.1524\n",
      "  Validation Loss: 2.6417\n",
      "  Validation Accuracy: 0.1743\n",
      "  Epoch Training Accuracies (Teachers):\n",
      "    head_1: 0.1423 \n",
      "    head_2: 0.2293 \n",
      "    head_3: 0.1791 \n",
      "    head_4: 0.6029 <- EPOCH WINNER\n",
      "  New best validation accuracy! Saving model state.\n",
      "  Updating all dropout rates for next epoch...\n",
      "\n",
      "--- Epoch 2/20 ---\n",
      "Current Teacher Rates: {'head_1': 0.6, 'head_2': 0.3, 'head_3': 0.4, 'head_4': 0.5}\n",
      "Current Dummy Head Rate: 0.5\n"
     ]
    },
    {
     "data": {
      "application/vnd.jupyter.widget-view+json": {
       "model_id": "d3458889ae36415bb1a8c01cf90c124c",
       "version_major": 2,
       "version_minor": 0
      },
      "text/plain": [
       "Training Epoch:   0%|          | 0/50 [00:00<?, ?it/s]"
      ]
     },
     "metadata": {},
     "output_type": "display_data"
    },
    {
     "data": {
      "application/vnd.jupyter.widget-view+json": {
       "model_id": "6d3933f88f184876b3ae9bca1616087d",
       "version_major": 2,
       "version_minor": 0
      },
      "text/plain": [
       "Evaluating:   0%|          | 0/13 [00:00<?, ?it/s]"
      ]
     },
     "metadata": {},
     "output_type": "display_data"
    },
    {
     "name": "stdout",
     "output_type": "stream",
     "text": [
      "Epoch 2 Summary:\n",
      "  Backbone Loss (from Winner): 0.4757\n",
      "  Validation Loss: 2.2522\n",
      "  Validation Accuracy: 0.2247\n",
      "  Epoch Training Accuracies (Teachers):\n",
      "    head_1: 0.2392 \n",
      "    head_2: 0.4109 \n",
      "    head_3: 0.3242 \n",
      "    head_4: 0.8280 <- EPOCH WINNER\n",
      "  New best validation accuracy! Saving model state.\n",
      "  Updating all dropout rates for next epoch...\n",
      "\n",
      "--- Epoch 3/20 ---\n",
      "Current Teacher Rates: {'head_1': 0.7, 'head_2': 0.4, 'head_3': 0.3, 'head_4': 0.6}\n",
      "Current Dummy Head Rate: 0.5\n"
     ]
    },
    {
     "data": {
      "application/vnd.jupyter.widget-view+json": {
       "model_id": "9845ce7e155447468632393dba8f7d61",
       "version_major": 2,
       "version_minor": 0
      },
      "text/plain": [
       "Training Epoch:   0%|          | 0/50 [00:00<?, ?it/s]"
      ]
     },
     "metadata": {},
     "output_type": "display_data"
    },
    {
     "data": {
      "application/vnd.jupyter.widget-view+json": {
       "model_id": "9a9a4799e1874074a3fb27192c382fc4",
       "version_major": 2,
       "version_minor": 0
      },
      "text/plain": [
       "Evaluating:   0%|          | 0/13 [00:00<?, ?it/s]"
      ]
     },
     "metadata": {},
     "output_type": "display_data"
    },
    {
     "name": "stdout",
     "output_type": "stream",
     "text": [
      "Epoch 3 Summary:\n",
      "  Backbone Loss (from Winner): 0.2942\n",
      "  Validation Loss: 1.8324\n",
      "  Validation Accuracy: 0.3134\n",
      "  Epoch Training Accuracies (Teachers):\n",
      "    head_1: 0.3286 \n",
      "    head_2: 0.5617 \n",
      "    head_3: 0.5167 \n",
      "    head_4: 0.8931 <- EPOCH WINNER\n",
      "  New best validation accuracy! Saving model state.\n",
      "  Updating all dropout rates for next epoch...\n",
      "\n",
      "--- Epoch 4/20 ---\n",
      "Current Teacher Rates: {'head_1': 0.3, 'head_2': 0.5, 'head_3': 0.6, 'head_4': 0.4}\n",
      "Current Dummy Head Rate: 0.4\n"
     ]
    },
    {
     "data": {
      "application/vnd.jupyter.widget-view+json": {
       "model_id": "2060ef21d81741bd98b20722a58dd5b3",
       "version_major": 2,
       "version_minor": 0
      },
      "text/plain": [
       "Training Epoch:   0%|          | 0/50 [00:00<?, ?it/s]"
      ]
     },
     "metadata": {},
     "output_type": "display_data"
    },
    {
     "data": {
      "application/vnd.jupyter.widget-view+json": {
       "model_id": "0aebce1301ee47db88c6074162769770",
       "version_major": 2,
       "version_minor": 0
      },
      "text/plain": [
       "Evaluating:   0%|          | 0/13 [00:00<?, ?it/s]"
      ]
     },
     "metadata": {},
     "output_type": "display_data"
    },
    {
     "name": "stdout",
     "output_type": "stream",
     "text": [
      "Epoch 4 Summary:\n",
      "  Backbone Loss (from Winner): 0.1852\n",
      "  Validation Loss: 1.4528\n",
      "  Validation Accuracy: 0.4223\n",
      "  Epoch Training Accuracies (Teachers):\n",
      "    head_1: 0.7010 \n",
      "    head_2: 0.6608 \n",
      "    head_3: 0.5798 \n",
      "    head_4: 0.9342 <- EPOCH WINNER\n",
      "  New best validation accuracy! Saving model state.\n",
      "  Updating all dropout rates for next epoch...\n",
      "\n",
      "--- Epoch 5/20 ---\n",
      "Current Teacher Rates: {'head_1': 0.5, 'head_2': 0.4, 'head_3': 0.7, 'head_4': 0.3}\n",
      "Current Dummy Head Rate: 0.4\n"
     ]
    },
    {
     "data": {
      "application/vnd.jupyter.widget-view+json": {
       "model_id": "483c84360f964cd086f4c9da6b0448a5",
       "version_major": 2,
       "version_minor": 0
      },
      "text/plain": [
       "Training Epoch:   0%|          | 0/50 [00:00<?, ?it/s]"
      ]
     },
     "metadata": {},
     "output_type": "display_data"
    },
    {
     "data": {
      "application/vnd.jupyter.widget-view+json": {
       "model_id": "f469d9445d1043059dee33713f8eef27",
       "version_major": 2,
       "version_minor": 0
      },
      "text/plain": [
       "Evaluating:   0%|          | 0/13 [00:00<?, ?it/s]"
      ]
     },
     "metadata": {},
     "output_type": "display_data"
    },
    {
     "name": "stdout",
     "output_type": "stream",
     "text": [
      "Epoch 5 Summary:\n",
      "  Backbone Loss (from Winner): 0.1180\n",
      "  Validation Loss: 1.0837\n",
      "  Validation Accuracy: 0.6205\n",
      "  Epoch Training Accuracies (Teachers):\n",
      "    head_1: 0.7177 \n",
      "    head_2: 0.8000 \n",
      "    head_3: 0.6184 \n",
      "    head_4: 0.9566 <- EPOCH WINNER\n",
      "  New best validation accuracy! Saving model state.\n",
      "  Updating all dropout rates for next epoch...\n",
      "\n",
      "--- Epoch 6/20 ---\n",
      "Current Teacher Rates: {'head_1': 0.4, 'head_2': 0.5, 'head_3': 0.3, 'head_4': 0.6}\n",
      "Current Dummy Head Rate: 0.5\n"
     ]
    },
    {
     "data": {
      "application/vnd.jupyter.widget-view+json": {
       "model_id": "e0be1405c7bf444f899bb629532e0693",
       "version_major": 2,
       "version_minor": 0
      },
      "text/plain": [
       "Training Epoch:   0%|          | 0/50 [00:00<?, ?it/s]"
      ]
     },
     "metadata": {},
     "output_type": "display_data"
    },
    {
     "data": {
      "application/vnd.jupyter.widget-view+json": {
       "model_id": "f2f1162da3ce46558246af118d05bd14",
       "version_major": 2,
       "version_minor": 0
      },
      "text/plain": [
       "Evaluating:   0%|          | 0/13 [00:00<?, ?it/s]"
      ]
     },
     "metadata": {},
     "output_type": "display_data"
    },
    {
     "name": "stdout",
     "output_type": "stream",
     "text": [
      "Epoch 6 Summary:\n",
      "  Backbone Loss (from Winner): 0.1255\n",
      "  Validation Loss: 0.7290\n",
      "  Validation Accuracy: 0.7942\n",
      "  Epoch Training Accuracies (Teachers):\n",
      "    head_1: 0.8431 \n",
      "    head_2: 0.8225 \n",
      "    head_3: 0.9138 \n",
      "    head_4: 0.9605 <- EPOCH WINNER\n",
      "  New best validation accuracy! Saving model state.\n",
      "  Updating all dropout rates for next epoch...\n",
      "\n",
      "--- Epoch 7/20 ---\n",
      "Current Teacher Rates: {'head_1': 0.3, 'head_2': 0.6, 'head_3': 0.4, 'head_4': 0.7}\n",
      "Current Dummy Head Rate: 0.6\n"
     ]
    },
    {
     "data": {
      "application/vnd.jupyter.widget-view+json": {
       "model_id": "e63fcd3663994319b0a37ca9cfdd4408",
       "version_major": 2,
       "version_minor": 0
      },
      "text/plain": [
       "Training Epoch:   0%|          | 0/50 [00:00<?, ?it/s]"
      ]
     },
     "metadata": {},
     "output_type": "display_data"
    },
    {
     "data": {
      "application/vnd.jupyter.widget-view+json": {
       "model_id": "e71121e7f26149da929646b158401fc4",
       "version_major": 2,
       "version_minor": 0
      },
      "text/plain": [
       "Evaluating:   0%|          | 0/13 [00:00<?, ?it/s]"
      ]
     },
     "metadata": {},
     "output_type": "display_data"
    },
    {
     "name": "stdout",
     "output_type": "stream",
     "text": [
      "Epoch 7 Summary:\n",
      "  Backbone Loss (from Winner): 0.1510\n",
      "  Validation Loss: 0.3552\n",
      "  Validation Accuracy: 0.8899\n",
      "  Epoch Training Accuracies (Teachers):\n",
      "    head_1: 0.9166 \n",
      "    head_2: 0.8297 \n",
      "    head_3: 0.9001 \n",
      "    head_4: 0.9547 <- EPOCH WINNER\n",
      "  New best validation accuracy! Saving model state.\n",
      "  Updating all dropout rates for next epoch...\n",
      "\n",
      "--- Epoch 8/20 ---\n",
      "Current Teacher Rates: {'head_1': 0.3, 'head_2': 0.4, 'head_3': 0.5, 'head_4': 0.7}\n",
      "Current Dummy Head Rate: 0.5\n"
     ]
    },
    {
     "data": {
      "application/vnd.jupyter.widget-view+json": {
       "model_id": "df90f8d0b5c145bf9feeaa312b918c93",
       "version_major": 2,
       "version_minor": 0
      },
      "text/plain": [
       "Training Epoch:   0%|          | 0/50 [00:00<?, ?it/s]"
      ]
     },
     "metadata": {},
     "output_type": "display_data"
    },
    {
     "data": {
      "application/vnd.jupyter.widget-view+json": {
       "model_id": "4760dfab1f8345e4924c99176dd64fca",
       "version_major": 2,
       "version_minor": 0
      },
      "text/plain": [
       "Evaluating:   0%|          | 0/13 [00:00<?, ?it/s]"
      ]
     },
     "metadata": {},
     "output_type": "display_data"
    },
    {
     "name": "stdout",
     "output_type": "stream",
     "text": [
      "Epoch 8 Summary:\n",
      "  Backbone Loss (from Winner): 0.0951\n",
      "  Validation Loss: 0.3047\n",
      "  Validation Accuracy: 0.9025\n",
      "  Epoch Training Accuracies (Teachers):\n",
      "    head_1: 0.9632 \n",
      "    head_2: 0.9460 \n",
      "    head_3: 0.9306 \n",
      "    head_4: 0.9646 <- EPOCH WINNER\n",
      "  New best validation accuracy! Saving model state.\n",
      "  Updating all dropout rates for next epoch...\n",
      "\n",
      "--- Epoch 9/20 ---\n",
      "Current Teacher Rates: {'head_1': 0.4, 'head_2': 0.7, 'head_3': 0.3, 'head_4': 0.5}\n",
      "Current Dummy Head Rate: 0.7\n"
     ]
    },
    {
     "data": {
      "application/vnd.jupyter.widget-view+json": {
       "model_id": "2cab8681194b4685b27a80a117c90b10",
       "version_major": 2,
       "version_minor": 0
      },
      "text/plain": [
       "Training Epoch:   0%|          | 0/50 [00:00<?, ?it/s]"
      ]
     },
     "metadata": {},
     "output_type": "display_data"
    },
    {
     "data": {
      "application/vnd.jupyter.widget-view+json": {
       "model_id": "79692d0438854c35a5c411e673171d95",
       "version_major": 2,
       "version_minor": 0
      },
      "text/plain": [
       "Evaluating:   0%|          | 0/13 [00:00<?, ?it/s]"
      ]
     },
     "metadata": {},
     "output_type": "display_data"
    },
    {
     "name": "stdout",
     "output_type": "stream",
     "text": [
      "Epoch 9 Summary:\n",
      "  Backbone Loss (from Winner): 0.0677\n",
      "  Validation Loss: 0.2997\n",
      "  Validation Accuracy: 0.9075\n",
      "  Epoch Training Accuracies (Teachers):\n",
      "    head_1: 0.9739 \n",
      "    head_2: 0.8823 \n",
      "    head_3: 0.9712 \n",
      "    head_4: 0.9797 <- EPOCH WINNER\n",
      "  New best validation accuracy! Saving model state.\n",
      "  Updating all dropout rates for next epoch...\n",
      "\n",
      "--- Epoch 10/20 ---\n",
      "Current Teacher Rates: {'head_1': 0.4, 'head_2': 0.6, 'head_3': 0.3, 'head_4': 0.7}\n",
      "Current Dummy Head Rate: 0.4\n"
     ]
    },
    {
     "data": {
      "application/vnd.jupyter.widget-view+json": {
       "model_id": "50146a8a0fbf48edaa497b5c4aed69ea",
       "version_major": 2,
       "version_minor": 0
      },
      "text/plain": [
       "Training Epoch:   0%|          | 0/50 [00:00<?, ?it/s]"
      ]
     },
     "metadata": {},
     "output_type": "display_data"
    },
    {
     "data": {
      "application/vnd.jupyter.widget-view+json": {
       "model_id": "4dbbe36d395b47438dc89a166ef79e72",
       "version_major": 2,
       "version_minor": 0
      },
      "text/plain": [
       "Evaluating:   0%|          | 0/13 [00:00<?, ?it/s]"
      ]
     },
     "metadata": {},
     "output_type": "display_data"
    },
    {
     "name": "stdout",
     "output_type": "stream",
     "text": [
      "Epoch 10 Summary:\n",
      "  Backbone Loss (from Winner): 0.0506\n",
      "  Validation Loss: 0.2966\n",
      "  Validation Accuracy: 0.9138\n",
      "  Epoch Training Accuracies (Teachers):\n",
      "    head_1: 0.9699 \n",
      "    head_2: 0.9507 \n",
      "    head_3: 0.9767 \n",
      "    head_4: 0.9770 <- EPOCH WINNER\n",
      "  New best validation accuracy! Saving model state.\n",
      "  Updating all dropout rates for next epoch...\n",
      "\n",
      "--- Epoch 11/20 ---\n",
      "Current Teacher Rates: {'head_1': 0.7, 'head_2': 0.5, 'head_3': 0.4, 'head_4': 0.3}\n",
      "Current Dummy Head Rate: 0.4\n"
     ]
    },
    {
     "data": {
      "application/vnd.jupyter.widget-view+json": {
       "model_id": "d8e5d6e3ec0343268bad9a2f78be16b4",
       "version_major": 2,
       "version_minor": 0
      },
      "text/plain": [
       "Training Epoch:   0%|          | 0/50 [00:00<?, ?it/s]"
      ]
     },
     "metadata": {},
     "output_type": "display_data"
    },
    {
     "data": {
      "application/vnd.jupyter.widget-view+json": {
       "model_id": "6ec5efadacee4d278456c2cab1cf553d",
       "version_major": 2,
       "version_minor": 0
      },
      "text/plain": [
       "Evaluating:   0%|          | 0/13 [00:00<?, ?it/s]"
      ]
     },
     "metadata": {},
     "output_type": "display_data"
    },
    {
     "name": "stdout",
     "output_type": "stream",
     "text": [
      "Epoch 11 Summary:\n",
      "  Backbone Loss (from Winner): 0.0426\n",
      "  Validation Loss: 0.3022\n",
      "  Validation Accuracy: 0.9138\n",
      "  Epoch Training Accuracies (Teachers):\n",
      "    head_1: 0.9585 \n",
      "    head_2: 0.9770 \n",
      "    head_3: 0.9799 \n",
      "    head_4: 0.9877 <- EPOCH WINNER\n",
      "  Updating all dropout rates for next epoch...\n",
      "\n",
      "--- Epoch 12/20 ---\n",
      "Current Teacher Rates: {'head_1': 0.5, 'head_2': 0.6, 'head_3': 0.7, 'head_4': 0.4}\n",
      "Current Dummy Head Rate: 0.6\n"
     ]
    },
    {
     "data": {
      "application/vnd.jupyter.widget-view+json": {
       "model_id": "c222d1115e824f2381316f6e77040bbd",
       "version_major": 2,
       "version_minor": 0
      },
      "text/plain": [
       "Training Epoch:   0%|          | 0/50 [00:00<?, ?it/s]"
      ]
     },
     "metadata": {},
     "output_type": "display_data"
    },
    {
     "data": {
      "application/vnd.jupyter.widget-view+json": {
       "model_id": "a0e3b28268484ec192a2fba16681e0aa",
       "version_major": 2,
       "version_minor": 0
      },
      "text/plain": [
       "Evaluating:   0%|          | 0/13 [00:00<?, ?it/s]"
      ]
     },
     "metadata": {},
     "output_type": "display_data"
    },
    {
     "name": "stdout",
     "output_type": "stream",
     "text": [
      "Epoch 12 Summary:\n",
      "  Backbone Loss (from Winner): 0.0470\n",
      "  Validation Loss: 0.3821\n",
      "  Validation Accuracy: 0.9056\n",
      "  Epoch Training Accuracies (Teachers):\n",
      "    head_1: 0.9794 \n",
      "    head_2: 0.9663 \n",
      "    head_3: 0.9388 \n",
      "    head_4: 0.9836 <- EPOCH WINNER\n",
      "  Updating all dropout rates for next epoch...\n",
      "\n",
      "--- Epoch 13/20 ---\n",
      "Current Teacher Rates: {'head_1': 0.3, 'head_2': 0.4, 'head_3': 0.7, 'head_4': 0.5}\n",
      "Current Dummy Head Rate: 0.7\n"
     ]
    },
    {
     "data": {
      "application/vnd.jupyter.widget-view+json": {
       "model_id": "0f206cb5ccec4fd2bfe0623329f63eb6",
       "version_major": 2,
       "version_minor": 0
      },
      "text/plain": [
       "Training Epoch:   0%|          | 0/50 [00:00<?, ?it/s]"
      ]
     },
     "metadata": {},
     "output_type": "display_data"
    },
    {
     "data": {
      "application/vnd.jupyter.widget-view+json": {
       "model_id": "d9ffe31a2ddd4a318fa935e5876e75e0",
       "version_major": 2,
       "version_minor": 0
      },
      "text/plain": [
       "Evaluating:   0%|          | 0/13 [00:00<?, ?it/s]"
      ]
     },
     "metadata": {},
     "output_type": "display_data"
    },
    {
     "name": "stdout",
     "output_type": "stream",
     "text": [
      "Epoch 13 Summary:\n",
      "  Backbone Loss (from Winner): 0.0494\n",
      "  Validation Loss: 0.3351\n",
      "  Validation Accuracy: 0.9081\n",
      "  Epoch Training Accuracies (Teachers):\n",
      "    head_1: 0.9731 \n",
      "    head_2: 0.9726 \n",
      "    head_3: 0.9367 \n",
      "    head_4: 0.9819 <- EPOCH WINNER\n",
      "  Updating all dropout rates for next epoch...\n",
      "\n",
      "--- Epoch 14/20 ---\n",
      "Current Teacher Rates: {'head_1': 0.7, 'head_2': 0.6, 'head_3': 0.3, 'head_4': 0.4}\n",
      "Current Dummy Head Rate: 0.4\n"
     ]
    },
    {
     "data": {
      "application/vnd.jupyter.widget-view+json": {
       "model_id": "6934c2e8a4834187b3309442a9a576f3",
       "version_major": 2,
       "version_minor": 0
      },
      "text/plain": [
       "Training Epoch:   0%|          | 0/50 [00:00<?, ?it/s]"
      ]
     },
     "metadata": {},
     "output_type": "display_data"
    },
    {
     "data": {
      "application/vnd.jupyter.widget-view+json": {
       "model_id": "85dc185421cc4696a3f3ede15a23e917",
       "version_major": 2,
       "version_minor": 0
      },
      "text/plain": [
       "Evaluating:   0%|          | 0/13 [00:00<?, ?it/s]"
      ]
     },
     "metadata": {},
     "output_type": "display_data"
    },
    {
     "name": "stdout",
     "output_type": "stream",
     "text": [
      "Epoch 14 Summary:\n",
      "  Backbone Loss (from Winner): 0.0355\n",
      "  Validation Loss: 0.3342\n",
      "  Validation Accuracy: 0.9157\n",
      "  Epoch Training Accuracies (Teachers):\n",
      "    head_1: 0.9753 \n",
      "    head_2: 0.9777 \n",
      "    head_3: 0.9852 \n",
      "    head_4: 0.9885 <- EPOCH WINNER\n",
      "  New best validation accuracy! Saving model state.\n",
      "  Updating all dropout rates for next epoch...\n",
      "\n",
      "--- Epoch 15/20 ---\n",
      "Current Teacher Rates: {'head_1': 0.3, 'head_2': 0.5, 'head_3': 0.7, 'head_4': 0.4}\n",
      "Current Dummy Head Rate: 0.4\n"
     ]
    },
    {
     "data": {
      "application/vnd.jupyter.widget-view+json": {
       "model_id": "67518c9063e24f33b721784cff7213ba",
       "version_major": 2,
       "version_minor": 0
      },
      "text/plain": [
       "Training Epoch:   0%|          | 0/50 [00:00<?, ?it/s]"
      ]
     },
     "metadata": {},
     "output_type": "display_data"
    },
    {
     "data": {
      "application/vnd.jupyter.widget-view+json": {
       "model_id": "1154ffafa927483ebe1b4792157c6511",
       "version_major": 2,
       "version_minor": 0
      },
      "text/plain": [
       "Evaluating:   0%|          | 0/13 [00:00<?, ?it/s]"
      ]
     },
     "metadata": {},
     "output_type": "display_data"
    },
    {
     "name": "stdout",
     "output_type": "stream",
     "text": [
      "Epoch 15 Summary:\n",
      "  Backbone Loss (from Winner): 0.0255\n",
      "  Validation Loss: 0.2915\n",
      "  Validation Accuracy: 0.9207\n",
      "  Epoch Training Accuracies (Teachers):\n",
      "    head_1: 0.9910 \n",
      "    head_2: 0.9866 \n",
      "    head_3: 0.9640 \n",
      "    head_4: 0.9917 <- EPOCH WINNER\n",
      "  New best validation accuracy! Saving model state.\n",
      "  Updating all dropout rates for next epoch...\n",
      "\n",
      "--- Epoch 16/20 ---\n",
      "Current Teacher Rates: {'head_1': 0.7, 'head_2': 0.5, 'head_3': 0.3, 'head_4': 0.4}\n",
      "Current Dummy Head Rate: 0.4\n"
     ]
    },
    {
     "data": {
      "application/vnd.jupyter.widget-view+json": {
       "model_id": "e884e5d255914e2c9426b54e58feac62",
       "version_major": 2,
       "version_minor": 0
      },
      "text/plain": [
       "Training Epoch:   0%|          | 0/50 [00:00<?, ?it/s]"
      ]
     },
     "metadata": {},
     "output_type": "display_data"
    },
    {
     "data": {
      "application/vnd.jupyter.widget-view+json": {
       "model_id": "c09d22430114460fbe38f25cd6d2b75b",
       "version_major": 2,
       "version_minor": 0
      },
      "text/plain": [
       "Evaluating:   0%|          | 0/13 [00:00<?, ?it/s]"
      ]
     },
     "metadata": {},
     "output_type": "display_data"
    },
    {
     "name": "stdout",
     "output_type": "stream",
     "text": [
      "Epoch 16 Summary:\n",
      "  Backbone Loss (from Winner): 0.0297\n",
      "  Validation Loss: 0.4294\n",
      "  Validation Accuracy: 0.8867\n",
      "  Epoch Training Accuracies (Teachers):\n",
      "    head_1: 0.9789 \n",
      "    head_2: 0.9866 \n",
      "    head_3: 0.9890 <- EPOCH WINNER\n",
      "    head_4: 0.9887 \n",
      "  Updating all dropout rates for next epoch...\n",
      "\n",
      "--- Epoch 17/20 ---\n",
      "Current Teacher Rates: {'head_1': 0.3, 'head_2': 0.5, 'head_3': 0.7, 'head_4': 0.6}\n",
      "Current Dummy Head Rate: 0.6\n"
     ]
    },
    {
     "data": {
      "application/vnd.jupyter.widget-view+json": {
       "model_id": "7ff7c20175904d798c687e19b09ff7ce",
       "version_major": 2,
       "version_minor": 0
      },
      "text/plain": [
       "Training Epoch:   0%|          | 0/50 [00:00<?, ?it/s]"
      ]
     },
     "metadata": {},
     "output_type": "display_data"
    },
    {
     "data": {
      "application/vnd.jupyter.widget-view+json": {
       "model_id": "9a6b42c2a2e748b3af2424d94fa0b405",
       "version_major": 2,
       "version_minor": 0
      },
      "text/plain": [
       "Evaluating:   0%|          | 0/13 [00:00<?, ?it/s]"
      ]
     },
     "metadata": {},
     "output_type": "display_data"
    },
    {
     "name": "stdout",
     "output_type": "stream",
     "text": [
      "Epoch 17 Summary:\n",
      "  Backbone Loss (from Winner): 0.0322\n",
      "  Validation Loss: 0.3452\n",
      "  Validation Accuracy: 0.9119\n",
      "  Epoch Training Accuracies (Teachers):\n",
      "    head_1: 0.9874 <- EPOCH WINNER\n",
      "    head_2: 0.9839 \n",
      "    head_3: 0.9647 \n",
      "    head_4: 0.9869 \n",
      "  Updating all dropout rates for next epoch...\n",
      "\n",
      "--- Epoch 18/20 ---\n",
      "Current Teacher Rates: {'head_1': 0.7, 'head_2': 0.5, 'head_3': 0.4, 'head_4': 0.3}\n",
      "Current Dummy Head Rate: 0.7\n"
     ]
    },
    {
     "data": {
      "application/vnd.jupyter.widget-view+json": {
       "model_id": "7f33f0d89b7a4897bb371f2717b16d91",
       "version_major": 2,
       "version_minor": 0
      },
      "text/plain": [
       "Training Epoch:   0%|          | 0/50 [00:00<?, ?it/s]"
      ]
     },
     "metadata": {},
     "output_type": "display_data"
    },
    {
     "data": {
      "application/vnd.jupyter.widget-view+json": {
       "model_id": "6c844913535a4437b235e957f24f824c",
       "version_major": 2,
       "version_minor": 0
      },
      "text/plain": [
       "Evaluating:   0%|          | 0/13 [00:00<?, ?it/s]"
      ]
     },
     "metadata": {},
     "output_type": "display_data"
    },
    {
     "name": "stdout",
     "output_type": "stream",
     "text": [
      "Epoch 18 Summary:\n",
      "  Backbone Loss (from Winner): 0.0232\n",
      "  Validation Loss: 0.3569\n",
      "  Validation Accuracy: 0.9163\n",
      "  Epoch Training Accuracies (Teachers):\n",
      "    head_1: 0.9789 \n",
      "    head_2: 0.9838 \n",
      "    head_3: 0.9879 \n",
      "    head_4: 0.9924 <- EPOCH WINNER\n",
      "  Updating all dropout rates for next epoch...\n",
      "\n",
      "--- Epoch 19/20 ---\n",
      "Current Teacher Rates: {'head_1': 0.6, 'head_2': 0.3, 'head_3': 0.5, 'head_4': 0.4}\n",
      "Current Dummy Head Rate: 0.4\n"
     ]
    },
    {
     "data": {
      "application/vnd.jupyter.widget-view+json": {
       "model_id": "c511680a7da745019b19a0e86a5696fe",
       "version_major": 2,
       "version_minor": 0
      },
      "text/plain": [
       "Training Epoch:   0%|          | 0/50 [00:00<?, ?it/s]"
      ]
     },
     "metadata": {},
     "output_type": "display_data"
    },
    {
     "data": {
      "application/vnd.jupyter.widget-view+json": {
       "model_id": "55fad53457c7442e887d29268af85634",
       "version_major": 2,
       "version_minor": 0
      },
      "text/plain": [
       "Evaluating:   0%|          | 0/13 [00:00<?, ?it/s]"
      ]
     },
     "metadata": {},
     "output_type": "display_data"
    },
    {
     "name": "stdout",
     "output_type": "stream",
     "text": [
      "Epoch 19 Summary:\n",
      "  Backbone Loss (from Winner): 0.0242\n",
      "  Validation Loss: 0.3259\n",
      "  Validation Accuracy: 0.9150\n",
      "  Epoch Training Accuracies (Teachers):\n",
      "    head_1: 0.9885 \n",
      "    head_2: 0.9901 \n",
      "    head_3: 0.9880 \n",
      "    head_4: 0.9915 <- EPOCH WINNER\n",
      "  Updating all dropout rates for next epoch...\n",
      "\n",
      "--- Epoch 20/20 ---\n",
      "Current Teacher Rates: {'head_1': 0.4, 'head_2': 0.5, 'head_3': 0.7, 'head_4': 0.6}\n",
      "Current Dummy Head Rate: 0.7\n"
     ]
    },
    {
     "data": {
      "application/vnd.jupyter.widget-view+json": {
       "model_id": "d3d4bfdf33c14814ad71a9533d3a169b",
       "version_major": 2,
       "version_minor": 0
      },
      "text/plain": [
       "Training Epoch:   0%|          | 0/50 [00:00<?, ?it/s]"
      ]
     },
     "metadata": {},
     "output_type": "display_data"
    },
    {
     "data": {
      "application/vnd.jupyter.widget-view+json": {
       "model_id": "586445632394491db784de4faeac5a61",
       "version_major": 2,
       "version_minor": 0
      },
      "text/plain": [
       "Evaluating:   0%|          | 0/13 [00:00<?, ?it/s]"
      ]
     },
     "metadata": {},
     "output_type": "display_data"
    },
    {
     "name": "stdout",
     "output_type": "stream",
     "text": [
      "Epoch 20 Summary:\n",
      "  Backbone Loss (from Winner): 0.0306\n",
      "  Validation Loss: 0.3390\n",
      "  Validation Accuracy: 0.9150\n",
      "  Epoch Training Accuracies (Teachers):\n",
      "    head_1: 0.9899 <- EPOCH WINNER\n",
      "    head_2: 0.9880 \n",
      "    head_3: 0.9725 \n",
      "    head_4: 0.9899 \n",
      "  Updating all dropout rates for next epoch...\n",
      "\n",
      "Training complete. Loading best model for test evaluation...\n"
     ]
    },
    {
     "data": {
      "application/vnd.jupyter.widget-view+json": {
       "model_id": "cd0f2d827027441394ec17f50633fcf0",
       "version_major": 2,
       "version_minor": 0
      },
      "text/plain": [
       "Evaluating:   0%|          | 0/16 [00:00<?, ?it/s]"
      ]
     },
     "metadata": {},
     "output_type": "display_data"
    },
    {
     "name": "stdout",
     "output_type": "stream",
     "text": [
      "\n",
      "--- RESULTS FOR TARGET DOMAIN: ART_PAINTING ---\n",
      "  Test Accuracy: 0.7734\n",
      "==============================================================\n",
      "  STARTING LODO EXPERIMENT: Target Domain = CARTOON\n",
      "==============================================================\n",
      "--- Creating DataLoaders (80/20 Split Strategy) ---\n",
      "Target (Test) Domain: cartoon\n",
      "Source Domains for Train/Val: ['art_painting', 'photo', 'sketch']\n",
      "Source data size: 7647\n",
      "  -> Training on: 6117 images (80%)\n",
      "  -> Validating on: 1530 images (20%)\n",
      "Testing on full 'cartoon' domain: 2344 images\n",
      "----------------------------------------------------\n"
     ]
    },
    {
     "name": "stderr",
     "output_type": "stream",
     "text": [
      "Some weights of ViTModel were not initialized from the model checkpoint at WinKawaks/vit-tiny-patch16-224 and are newly initialized: ['pooler.dense.bias', 'pooler.dense.weight']\n",
      "You should probably TRAIN this model on a down-stream task to be able to use it for predictions and inference.\n"
     ]
    },
    {
     "name": "stdout",
     "output_type": "stream",
     "text": [
      "\n",
      "--- Epoch 1/20 ---\n",
      "Current Teacher Rates: {'head_1': 0.4, 'head_2': 0.7, 'head_3': 0.5, 'head_4': 0.6}\n",
      "Current Dummy Head Rate: 0.5\n"
     ]
    },
    {
     "data": {
      "application/vnd.jupyter.widget-view+json": {
       "model_id": "b7bd2ada7f7842bdb972ee0c3d27eb1d",
       "version_major": 2,
       "version_minor": 0
      },
      "text/plain": [
       "Training Epoch:   0%|          | 0/48 [00:00<?, ?it/s]"
      ]
     },
     "metadata": {},
     "output_type": "display_data"
    },
    {
     "data": {
      "application/vnd.jupyter.widget-view+json": {
       "model_id": "4750a75e2ab742dca57478c1785b02cc",
       "version_major": 2,
       "version_minor": 0
      },
      "text/plain": [
       "Evaluating:   0%|          | 0/12 [00:00<?, ?it/s]"
      ]
     },
     "metadata": {},
     "output_type": "display_data"
    },
    {
     "name": "stdout",
     "output_type": "stream",
     "text": [
      "Epoch 1 Summary:\n",
      "  Backbone Loss (from Winner): 1.2131\n",
      "  Validation Loss: 2.2881\n",
      "  Validation Accuracy: 0.1020\n",
      "  Epoch Training Accuracies (Teachers):\n",
      "    head_1: 0.1509 \n",
      "    head_2: 0.1466 \n",
      "    head_3: 0.5879 <- EPOCH WINNER\n",
      "    head_4: 0.1473 \n",
      "  New best validation accuracy! Saving model state.\n",
      "  Updating all dropout rates for next epoch...\n",
      "\n",
      "--- Epoch 2/20 ---\n",
      "Current Teacher Rates: {'head_1': 0.4, 'head_2': 0.7, 'head_3': 0.5, 'head_4': 0.6}\n",
      "Current Dummy Head Rate: 0.3\n"
     ]
    },
    {
     "data": {
      "application/vnd.jupyter.widget-view+json": {
       "model_id": "3c62358284c147fca867e6f54d6b7de2",
       "version_major": 2,
       "version_minor": 0
      },
      "text/plain": [
       "Training Epoch:   0%|          | 0/48 [00:00<?, ?it/s]"
      ]
     },
     "metadata": {},
     "output_type": "display_data"
    },
    {
     "data": {
      "application/vnd.jupyter.widget-view+json": {
       "model_id": "3d69edf0b2ff48ef986d44d10769aa7b",
       "version_major": 2,
       "version_minor": 0
      },
      "text/plain": [
       "Evaluating:   0%|          | 0/12 [00:00<?, ?it/s]"
      ]
     },
     "metadata": {},
     "output_type": "display_data"
    },
    {
     "name": "stdout",
     "output_type": "stream",
     "text": [
      "Epoch 2 Summary:\n",
      "  Backbone Loss (from Winner): 0.4182\n",
      "  Validation Loss: 2.0398\n",
      "  Validation Accuracy: 0.1980\n",
      "  Epoch Training Accuracies (Teachers):\n",
      "    head_1: 0.2706 \n",
      "    head_2: 0.2135 \n",
      "    head_3: 0.8522 <- EPOCH WINNER\n",
      "    head_4: 0.2366 \n",
      "  New best validation accuracy! Saving model state.\n",
      "  Updating all dropout rates for next epoch...\n",
      "\n",
      "--- Epoch 3/20 ---\n",
      "Current Teacher Rates: {'head_1': 0.7, 'head_2': 0.6, 'head_3': 0.4, 'head_4': 0.3}\n",
      "Current Dummy Head Rate: 0.4\n"
     ]
    },
    {
     "data": {
      "application/vnd.jupyter.widget-view+json": {
       "model_id": "0f1d2bc78ab44863bbf1fa03aa86e093",
       "version_major": 2,
       "version_minor": 0
      },
      "text/plain": [
       "Training Epoch:   0%|          | 0/48 [00:00<?, ?it/s]"
      ]
     },
     "metadata": {},
     "output_type": "display_data"
    },
    {
     "data": {
      "application/vnd.jupyter.widget-view+json": {
       "model_id": "561ef1e0d5904965bc7f36ba817afdc4",
       "version_major": 2,
       "version_minor": 0
      },
      "text/plain": [
       "Evaluating:   0%|          | 0/12 [00:00<?, ?it/s]"
      ]
     },
     "metadata": {},
     "output_type": "display_data"
    },
    {
     "name": "stdout",
     "output_type": "stream",
     "text": [
      "Epoch 3 Summary:\n",
      "  Backbone Loss (from Winner): 0.1948\n",
      "  Validation Loss: 1.5511\n",
      "  Validation Accuracy: 0.3850\n",
      "  Epoch Training Accuracies (Teachers):\n",
      "    head_1: 0.3739 \n",
      "    head_2: 0.3750 \n",
      "    head_3: 0.9310 <- EPOCH WINNER\n",
      "    head_4: 0.5138 \n",
      "  New best validation accuracy! Saving model state.\n",
      "  Updating all dropout rates for next epoch...\n",
      "\n",
      "--- Epoch 4/20 ---\n",
      "Current Teacher Rates: {'head_1': 0.4, 'head_2': 0.7, 'head_3': 0.5, 'head_4': 0.6}\n",
      "Current Dummy Head Rate: 0.6\n"
     ]
    },
    {
     "data": {
      "application/vnd.jupyter.widget-view+json": {
       "model_id": "77c87e3127f540acaab0e2d483334ad2",
       "version_major": 2,
       "version_minor": 0
      },
      "text/plain": [
       "Training Epoch:   0%|          | 0/48 [00:00<?, ?it/s]"
      ]
     },
     "metadata": {},
     "output_type": "display_data"
    },
    {
     "data": {
      "application/vnd.jupyter.widget-view+json": {
       "model_id": "07b95982665e416ab3639f54c7f5d411",
       "version_major": 2,
       "version_minor": 0
      },
      "text/plain": [
       "Evaluating:   0%|          | 0/12 [00:00<?, ?it/s]"
      ]
     },
     "metadata": {},
     "output_type": "display_data"
    },
    {
     "name": "stdout",
     "output_type": "stream",
     "text": [
      "Epoch 4 Summary:\n",
      "  Backbone Loss (from Winner): 0.1522\n",
      "  Validation Loss: 1.2219\n",
      "  Validation Accuracy: 0.5523\n",
      "  Epoch Training Accuracies (Teachers):\n",
      "    head_1: 0.7160 \n",
      "    head_2: 0.4626 \n",
      "    head_3: 0.9474 <- EPOCH WINNER\n",
      "    head_4: 0.5687 \n",
      "  New best validation accuracy! Saving model state.\n",
      "  Updating all dropout rates for next epoch...\n",
      "\n",
      "--- Epoch 5/20 ---\n",
      "Current Teacher Rates: {'head_1': 0.7, 'head_2': 0.6, 'head_3': 0.5, 'head_4': 0.3}\n",
      "Current Dummy Head Rate: 0.7\n"
     ]
    },
    {
     "data": {
      "application/vnd.jupyter.widget-view+json": {
       "model_id": "93b58a23181a4de7974f2b0f254f5039",
       "version_major": 2,
       "version_minor": 0
      },
      "text/plain": [
       "Training Epoch:   0%|          | 0/48 [00:00<?, ?it/s]"
      ]
     },
     "metadata": {},
     "output_type": "display_data"
    },
    {
     "data": {
      "application/vnd.jupyter.widget-view+json": {
       "model_id": "5a8f70fd11da412a8fde0cfd9ce5f573",
       "version_major": 2,
       "version_minor": 0
      },
      "text/plain": [
       "Evaluating:   0%|          | 0/12 [00:00<?, ?it/s]"
      ]
     },
     "metadata": {},
     "output_type": "display_data"
    },
    {
     "name": "stdout",
     "output_type": "stream",
     "text": [
      "Epoch 5 Summary:\n",
      "  Backbone Loss (from Winner): 0.0969\n",
      "  Validation Loss: 0.8979\n",
      "  Validation Accuracy: 0.7170\n",
      "  Epoch Training Accuracies (Teachers):\n",
      "    head_1: 0.6144 \n",
      "    head_2: 0.6645 \n",
      "    head_3: 0.9658 <- EPOCH WINNER\n",
      "    head_4: 0.8395 \n",
      "  New best validation accuracy! Saving model state.\n",
      "  Updating all dropout rates for next epoch...\n",
      "\n",
      "--- Epoch 6/20 ---\n",
      "Current Teacher Rates: {'head_1': 0.7, 'head_2': 0.3, 'head_3': 0.4, 'head_4': 0.6}\n",
      "Current Dummy Head Rate: 0.5\n"
     ]
    },
    {
     "data": {
      "application/vnd.jupyter.widget-view+json": {
       "model_id": "206b1996ba604815a2ce9e310aa1b58f",
       "version_major": 2,
       "version_minor": 0
      },
      "text/plain": [
       "Training Epoch:   0%|          | 0/48 [00:00<?, ?it/s]"
      ]
     },
     "metadata": {},
     "output_type": "display_data"
    },
    {
     "data": {
      "application/vnd.jupyter.widget-view+json": {
       "model_id": "b97f64abf1214dae8cf0b23dccef43c7",
       "version_major": 2,
       "version_minor": 0
      },
      "text/plain": [
       "Evaluating:   0%|          | 0/12 [00:00<?, ?it/s]"
      ]
     },
     "metadata": {},
     "output_type": "display_data"
    },
    {
     "name": "stdout",
     "output_type": "stream",
     "text": [
      "Epoch 6 Summary:\n",
      "  Backbone Loss (from Winner): 0.0525\n",
      "  Validation Loss: 0.6634\n",
      "  Validation Accuracy: 0.8137\n",
      "  Epoch Training Accuracies (Teachers):\n",
      "    head_1: 0.7237 \n",
      "    head_2: 0.8913 \n",
      "    head_3: 0.9820 <- EPOCH WINNER\n",
      "    head_4: 0.7770 \n",
      "  New best validation accuracy! Saving model state.\n",
      "  Updating all dropout rates for next epoch...\n",
      "\n",
      "--- Epoch 7/20 ---\n",
      "Current Teacher Rates: {'head_1': 0.4, 'head_2': 0.6, 'head_3': 0.7, 'head_4': 0.5}\n",
      "Current Dummy Head Rate: 0.5\n"
     ]
    },
    {
     "data": {
      "application/vnd.jupyter.widget-view+json": {
       "model_id": "9b019f3b7b404fcebe0f86862312b4fa",
       "version_major": 2,
       "version_minor": 0
      },
      "text/plain": [
       "Training Epoch:   0%|          | 0/48 [00:00<?, ?it/s]"
      ]
     },
     "metadata": {},
     "output_type": "display_data"
    },
    {
     "data": {
      "application/vnd.jupyter.widget-view+json": {
       "model_id": "2ec4384a6e3248aca5ab3392bd4448b2",
       "version_major": 2,
       "version_minor": 0
      },
      "text/plain": [
       "Evaluating:   0%|          | 0/12 [00:00<?, ?it/s]"
      ]
     },
     "metadata": {},
     "output_type": "display_data"
    },
    {
     "name": "stdout",
     "output_type": "stream",
     "text": [
      "Epoch 7 Summary:\n",
      "  Backbone Loss (from Winner): 0.1194\n",
      "  Validation Loss: 0.4620\n",
      "  Validation Accuracy: 0.8608\n",
      "  Epoch Training Accuracies (Teachers):\n",
      "    head_1: 0.9359 \n",
      "    head_2: 0.8167 \n",
      "    head_3: 0.9640 <- EPOCH WINNER\n",
      "    head_4: 0.8929 \n",
      "  New best validation accuracy! Saving model state.\n",
      "  Updating all dropout rates for next epoch...\n",
      "\n",
      "--- Epoch 8/20 ---\n",
      "Current Teacher Rates: {'head_1': 0.5, 'head_2': 0.6, 'head_3': 0.4, 'head_4': 0.7}\n",
      "Current Dummy Head Rate: 0.5\n"
     ]
    },
    {
     "data": {
      "application/vnd.jupyter.widget-view+json": {
       "model_id": "1c7f4ad7ecbe4b0ca43f7a58bcd4b3ed",
       "version_major": 2,
       "version_minor": 0
      },
      "text/plain": [
       "Training Epoch:   0%|          | 0/48 [00:00<?, ?it/s]"
      ]
     },
     "metadata": {},
     "output_type": "display_data"
    },
    {
     "data": {
      "application/vnd.jupyter.widget-view+json": {
       "model_id": "fe8854789f8f412f815ad1151485edaa",
       "version_major": 2,
       "version_minor": 0
      },
      "text/plain": [
       "Evaluating:   0%|          | 0/12 [00:00<?, ?it/s]"
      ]
     },
     "metadata": {},
     "output_type": "display_data"
    },
    {
     "name": "stdout",
     "output_type": "stream",
     "text": [
      "Epoch 8 Summary:\n",
      "  Backbone Loss (from Winner): 0.0607\n",
      "  Validation Loss: 0.2790\n",
      "  Validation Accuracy: 0.9078\n",
      "  Epoch Training Accuracies (Teachers):\n",
      "    head_1: 0.9374 \n",
      "    head_2: 0.8666 \n",
      "    head_3: 0.9801 <- EPOCH WINNER\n",
      "    head_4: 0.8236 \n",
      "  New best validation accuracy! Saving model state.\n",
      "  Updating all dropout rates for next epoch...\n",
      "\n",
      "--- Epoch 9/20 ---\n",
      "Current Teacher Rates: {'head_1': 0.7, 'head_2': 0.4, 'head_3': 0.6, 'head_4': 0.5}\n",
      "Current Dummy Head Rate: 0.4\n"
     ]
    },
    {
     "data": {
      "application/vnd.jupyter.widget-view+json": {
       "model_id": "2aaed6d4b62d4d9aa7f424bc05c02699",
       "version_major": 2,
       "version_minor": 0
      },
      "text/plain": [
       "Training Epoch:   0%|          | 0/48 [00:00<?, ?it/s]"
      ]
     },
     "metadata": {},
     "output_type": "display_data"
    },
    {
     "data": {
      "application/vnd.jupyter.widget-view+json": {
       "model_id": "7d3950f50cfa4a21a2c593a713ca1cca",
       "version_major": 2,
       "version_minor": 0
      },
      "text/plain": [
       "Evaluating:   0%|          | 0/12 [00:00<?, ?it/s]"
      ]
     },
     "metadata": {},
     "output_type": "display_data"
    },
    {
     "name": "stdout",
     "output_type": "stream",
     "text": [
      "Epoch 9 Summary:\n",
      "  Backbone Loss (from Winner): 0.0562\n",
      "  Validation Loss: 0.2934\n",
      "  Validation Accuracy: 0.9065\n",
      "  Epoch Training Accuracies (Teachers):\n",
      "    head_1: 0.9202 \n",
      "    head_2: 0.9667 \n",
      "    head_3: 0.9830 <- EPOCH WINNER\n",
      "    head_4: 0.9624 \n",
      "  Updating all dropout rates for next epoch...\n",
      "\n",
      "--- Epoch 10/20 ---\n",
      "Current Teacher Rates: {'head_1': 0.4, 'head_2': 0.7, 'head_3': 0.5, 'head_4': 0.3}\n",
      "Current Dummy Head Rate: 0.3\n"
     ]
    },
    {
     "data": {
      "application/vnd.jupyter.widget-view+json": {
       "model_id": "6b785c2155794cc5ae08e4aef550c037",
       "version_major": 2,
       "version_minor": 0
      },
      "text/plain": [
       "Training Epoch:   0%|          | 0/48 [00:00<?, ?it/s]"
      ]
     },
     "metadata": {},
     "output_type": "display_data"
    },
    {
     "data": {
      "application/vnd.jupyter.widget-view+json": {
       "model_id": "4e593f7b941145daae94b5bf31d7d409",
       "version_major": 2,
       "version_minor": 0
      },
      "text/plain": [
       "Evaluating:   0%|          | 0/12 [00:00<?, ?it/s]"
      ]
     },
     "metadata": {},
     "output_type": "display_data"
    },
    {
     "name": "stdout",
     "output_type": "stream",
     "text": [
      "Epoch 10 Summary:\n",
      "  Backbone Loss (from Winner): 0.0331\n",
      "  Validation Loss: 0.2730\n",
      "  Validation Accuracy: 0.9222\n",
      "  Epoch Training Accuracies (Teachers):\n",
      "    head_1: 0.9805 \n",
      "    head_2: 0.9165 \n",
      "    head_3: 0.9900 <- EPOCH WINNER\n",
      "    head_4: 0.9846 \n",
      "  New best validation accuracy! Saving model state.\n",
      "  Updating all dropout rates for next epoch...\n",
      "\n",
      "--- Epoch 11/20 ---\n",
      "Current Teacher Rates: {'head_1': 0.5, 'head_2': 0.7, 'head_3': 0.4, 'head_4': 0.3}\n",
      "Current Dummy Head Rate: 0.7\n"
     ]
    },
    {
     "data": {
      "application/vnd.jupyter.widget-view+json": {
       "model_id": "17ded79c23954ceaaebf6b62d23800bc",
       "version_major": 2,
       "version_minor": 0
      },
      "text/plain": [
       "Training Epoch:   0%|          | 0/48 [00:00<?, ?it/s]"
      ]
     },
     "metadata": {},
     "output_type": "display_data"
    },
    {
     "data": {
      "application/vnd.jupyter.widget-view+json": {
       "model_id": "0f9592c85b864bb6adacd5ea633195de",
       "version_major": 2,
       "version_minor": 0
      },
      "text/plain": [
       "Evaluating:   0%|          | 0/12 [00:00<?, ?it/s]"
      ]
     },
     "metadata": {},
     "output_type": "display_data"
    },
    {
     "name": "stdout",
     "output_type": "stream",
     "text": [
      "Epoch 11 Summary:\n",
      "  Backbone Loss (from Winner): 0.0215\n",
      "  Validation Loss: 0.3436\n",
      "  Validation Accuracy: 0.9033\n",
      "  Epoch Training Accuracies (Teachers):\n",
      "    head_1: 0.9799 \n",
      "    head_2: 0.9393 \n",
      "    head_3: 0.9936 <- EPOCH WINNER\n",
      "    head_4: 0.9892 \n",
      "  Updating all dropout rates for next epoch...\n",
      "\n",
      "--- Epoch 12/20 ---\n",
      "Current Teacher Rates: {'head_1': 0.7, 'head_2': 0.4, 'head_3': 0.6, 'head_4': 0.3}\n",
      "Current Dummy Head Rate: 0.5\n"
     ]
    },
    {
     "data": {
      "application/vnd.jupyter.widget-view+json": {
       "model_id": "d4df5fd231434c399177df4879263715",
       "version_major": 2,
       "version_minor": 0
      },
      "text/plain": [
       "Training Epoch:   0%|          | 0/48 [00:00<?, ?it/s]"
      ]
     },
     "metadata": {},
     "output_type": "display_data"
    },
    {
     "data": {
      "application/vnd.jupyter.widget-view+json": {
       "model_id": "dc8193d8a98d41359c1bbc8c293b61c2",
       "version_major": 2,
       "version_minor": 0
      },
      "text/plain": [
       "Evaluating:   0%|          | 0/12 [00:00<?, ?it/s]"
      ]
     },
     "metadata": {},
     "output_type": "display_data"
    },
    {
     "name": "stdout",
     "output_type": "stream",
     "text": [
      "Epoch 12 Summary:\n",
      "  Backbone Loss (from Winner): 0.0264\n",
      "  Validation Loss: 0.2827\n",
      "  Validation Accuracy: 0.9144\n",
      "  Epoch Training Accuracies (Teachers):\n",
      "    head_1: 0.9593 \n",
      "    head_2: 0.9853 \n",
      "    head_3: 0.9910 \n",
      "    head_4: 0.9913 <- EPOCH WINNER\n",
      "  Updating all dropout rates for next epoch...\n",
      "\n",
      "--- Epoch 13/20 ---\n",
      "Current Teacher Rates: {'head_1': 0.3, 'head_2': 0.7, 'head_3': 0.6, 'head_4': 0.4}\n",
      "Current Dummy Head Rate: 0.7\n"
     ]
    },
    {
     "data": {
      "application/vnd.jupyter.widget-view+json": {
       "model_id": "15c127aeeaea49ee88297f3dc9cf5ff8",
       "version_major": 2,
       "version_minor": 0
      },
      "text/plain": [
       "Training Epoch:   0%|          | 0/48 [00:00<?, ?it/s]"
      ]
     },
     "metadata": {},
     "output_type": "display_data"
    },
    {
     "data": {
      "application/vnd.jupyter.widget-view+json": {
       "model_id": "85b75f57eb9549afb234cd4ff0a49b91",
       "version_major": 2,
       "version_minor": 0
      },
      "text/plain": [
       "Evaluating:   0%|          | 0/12 [00:00<?, ?it/s]"
      ]
     },
     "metadata": {},
     "output_type": "display_data"
    },
    {
     "name": "stdout",
     "output_type": "stream",
     "text": [
      "Epoch 13 Summary:\n",
      "  Backbone Loss (from Winner): 0.0172\n",
      "  Validation Loss: 0.3411\n",
      "  Validation Accuracy: 0.9092\n",
      "  Epoch Training Accuracies (Teachers):\n",
      "    head_1: 0.9923 \n",
      "    head_2: 0.9624 \n",
      "    head_3: 0.9928 <- EPOCH WINNER\n",
      "    head_4: 0.9913 \n",
      "  Updating all dropout rates for next epoch...\n",
      "\n",
      "--- Epoch 14/20 ---\n",
      "Current Teacher Rates: {'head_1': 0.6, 'head_2': 0.5, 'head_3': 0.4, 'head_4': 0.7}\n",
      "Current Dummy Head Rate: 0.6\n"
     ]
    },
    {
     "data": {
      "application/vnd.jupyter.widget-view+json": {
       "model_id": "bcc2489716984f49846c7172ec878f68",
       "version_major": 2,
       "version_minor": 0
      },
      "text/plain": [
       "Training Epoch:   0%|          | 0/48 [00:00<?, ?it/s]"
      ]
     },
     "metadata": {},
     "output_type": "display_data"
    },
    {
     "data": {
      "application/vnd.jupyter.widget-view+json": {
       "model_id": "d5fd4653e93440d4ab086c385bdaedca",
       "version_major": 2,
       "version_minor": 0
      },
      "text/plain": [
       "Evaluating:   0%|          | 0/12 [00:00<?, ?it/s]"
      ]
     },
     "metadata": {},
     "output_type": "display_data"
    },
    {
     "name": "stdout",
     "output_type": "stream",
     "text": [
      "Epoch 14 Summary:\n",
      "  Backbone Loss (from Winner): 0.0266\n",
      "  Validation Loss: 0.3120\n",
      "  Validation Accuracy: 0.9163\n",
      "  Epoch Training Accuracies (Teachers):\n",
      "    head_1: 0.9819 \n",
      "    head_2: 0.9830 \n",
      "    head_3: 0.9926 <- EPOCH WINNER\n",
      "    head_4: 0.9477 \n",
      "  Updating all dropout rates for next epoch...\n",
      "\n",
      "--- Epoch 15/20 ---\n",
      "Current Teacher Rates: {'head_1': 0.3, 'head_2': 0.5, 'head_3': 0.4, 'head_4': 0.7}\n",
      "Current Dummy Head Rate: 0.5\n"
     ]
    },
    {
     "data": {
      "application/vnd.jupyter.widget-view+json": {
       "model_id": "22ff170b4b034e818fbfcdc3494739da",
       "version_major": 2,
       "version_minor": 0
      },
      "text/plain": [
       "Training Epoch:   0%|          | 0/48 [00:00<?, ?it/s]"
      ]
     },
     "metadata": {},
     "output_type": "display_data"
    },
    {
     "data": {
      "application/vnd.jupyter.widget-view+json": {
       "model_id": "086a20f3d8a64d948df97a595ecaf386",
       "version_major": 2,
       "version_minor": 0
      },
      "text/plain": [
       "Evaluating:   0%|          | 0/12 [00:00<?, ?it/s]"
      ]
     },
     "metadata": {},
     "output_type": "display_data"
    },
    {
     "name": "stdout",
     "output_type": "stream",
     "text": [
      "Epoch 15 Summary:\n",
      "  Backbone Loss (from Winner): 0.0552\n",
      "  Validation Loss: 0.3767\n",
      "  Validation Accuracy: 0.8882\n",
      "  Epoch Training Accuracies (Teachers):\n",
      "    head_1: 0.9361 \n",
      "    head_2: 0.9631 \n",
      "    head_3: 0.9761 <- EPOCH WINNER\n",
      "    head_4: 0.9351 \n",
      "  Updating all dropout rates for next epoch...\n",
      "\n",
      "--- Epoch 16/20 ---\n",
      "Current Teacher Rates: {'head_1': 0.7, 'head_2': 0.6, 'head_3': 0.3, 'head_4': 0.5}\n",
      "Current Dummy Head Rate: 0.3\n"
     ]
    },
    {
     "data": {
      "application/vnd.jupyter.widget-view+json": {
       "model_id": "1f81048cfdb348ab8a3e4e6578d729f9",
       "version_major": 2,
       "version_minor": 0
      },
      "text/plain": [
       "Training Epoch:   0%|          | 0/48 [00:00<?, ?it/s]"
      ]
     },
     "metadata": {},
     "output_type": "display_data"
    },
    {
     "data": {
      "application/vnd.jupyter.widget-view+json": {
       "model_id": "1c0a7d2fd07a42a49cacc0406d70dee3",
       "version_major": 2,
       "version_minor": 0
      },
      "text/plain": [
       "Evaluating:   0%|          | 0/12 [00:00<?, ?it/s]"
      ]
     },
     "metadata": {},
     "output_type": "display_data"
    },
    {
     "name": "stdout",
     "output_type": "stream",
     "text": [
      "Epoch 16 Summary:\n",
      "  Backbone Loss (from Winner): 0.0175\n",
      "  Validation Loss: 0.3373\n",
      "  Validation Accuracy: 0.9105\n",
      "  Epoch Training Accuracies (Teachers):\n",
      "    head_1: 0.9580 \n",
      "    head_2: 0.9550 \n",
      "    head_3: 0.9941 <- EPOCH WINNER\n",
      "    head_4: 0.9868 \n",
      "  Updating all dropout rates for next epoch...\n",
      "\n",
      "--- Epoch 17/20 ---\n",
      "Current Teacher Rates: {'head_1': 0.6, 'head_2': 0.4, 'head_3': 0.5, 'head_4': 0.7}\n",
      "Current Dummy Head Rate: 0.3\n"
     ]
    },
    {
     "data": {
      "application/vnd.jupyter.widget-view+json": {
       "model_id": "ca32e683c8f842e9b90f403351c9623f",
       "version_major": 2,
       "version_minor": 0
      },
      "text/plain": [
       "Training Epoch:   0%|          | 0/48 [00:00<?, ?it/s]"
      ]
     },
     "metadata": {},
     "output_type": "display_data"
    },
    {
     "data": {
      "application/vnd.jupyter.widget-view+json": {
       "model_id": "cfba2796a03441a58cd12f81485f2d0d",
       "version_major": 2,
       "version_minor": 0
      },
      "text/plain": [
       "Evaluating:   0%|          | 0/12 [00:00<?, ?it/s]"
      ]
     },
     "metadata": {},
     "output_type": "display_data"
    },
    {
     "name": "stdout",
     "output_type": "stream",
     "text": [
      "Epoch 17 Summary:\n",
      "  Backbone Loss (from Winner): 0.0201\n",
      "  Validation Loss: 0.3303\n",
      "  Validation Accuracy: 0.9235\n",
      "  Epoch Training Accuracies (Teachers):\n",
      "    head_1: 0.9902 \n",
      "    head_2: 0.9910 \n",
      "    head_3: 0.9944 <- EPOCH WINNER\n",
      "    head_4: 0.9732 \n",
      "  New best validation accuracy! Saving model state.\n",
      "  Updating all dropout rates for next epoch...\n",
      "\n",
      "--- Epoch 18/20 ---\n",
      "Current Teacher Rates: {'head_1': 0.4, 'head_2': 0.5, 'head_3': 0.7, 'head_4': 0.3}\n",
      "Current Dummy Head Rate: 0.5\n"
     ]
    },
    {
     "data": {
      "application/vnd.jupyter.widget-view+json": {
       "model_id": "d6555f3604bd459dbc64c260f5a080a4",
       "version_major": 2,
       "version_minor": 0
      },
      "text/plain": [
       "Training Epoch:   0%|          | 0/48 [00:00<?, ?it/s]"
      ]
     },
     "metadata": {},
     "output_type": "display_data"
    },
    {
     "data": {
      "application/vnd.jupyter.widget-view+json": {
       "model_id": "0085488c03e846c186088106f9328d3a",
       "version_major": 2,
       "version_minor": 0
      },
      "text/plain": [
       "Evaluating:   0%|          | 0/12 [00:00<?, ?it/s]"
      ]
     },
     "metadata": {},
     "output_type": "display_data"
    },
    {
     "name": "stdout",
     "output_type": "stream",
     "text": [
      "Epoch 18 Summary:\n",
      "  Backbone Loss (from Winner): 0.0145\n",
      "  Validation Loss: 0.3690\n",
      "  Validation Accuracy: 0.9183\n",
      "  Epoch Training Accuracies (Teachers):\n",
      "    head_1: 0.9931 \n",
      "    head_2: 0.9910 \n",
      "    head_3: 0.9923 \n",
      "    head_4: 0.9941 <- EPOCH WINNER\n",
      "  Updating all dropout rates for next epoch...\n",
      "\n",
      "--- Epoch 19/20 ---\n",
      "Current Teacher Rates: {'head_1': 0.6, 'head_2': 0.5, 'head_3': 0.7, 'head_4': 0.4}\n",
      "Current Dummy Head Rate: 0.5\n"
     ]
    },
    {
     "data": {
      "application/vnd.jupyter.widget-view+json": {
       "model_id": "94ab42548a6e4465b87cd09ec5ad9605",
       "version_major": 2,
       "version_minor": 0
      },
      "text/plain": [
       "Training Epoch:   0%|          | 0/48 [00:00<?, ?it/s]"
      ]
     },
     "metadata": {},
     "output_type": "display_data"
    },
    {
     "data": {
      "application/vnd.jupyter.widget-view+json": {
       "model_id": "dee707bc11dd4c35a67386673206cc38",
       "version_major": 2,
       "version_minor": 0
      },
      "text/plain": [
       "Evaluating:   0%|          | 0/12 [00:00<?, ?it/s]"
      ]
     },
     "metadata": {},
     "output_type": "display_data"
    },
    {
     "name": "stdout",
     "output_type": "stream",
     "text": [
      "Epoch 19 Summary:\n",
      "  Backbone Loss (from Winner): 0.0197\n",
      "  Validation Loss: 0.3453\n",
      "  Validation Accuracy: 0.9183\n",
      "  Epoch Training Accuracies (Teachers):\n",
      "    head_1: 0.9895 \n",
      "    head_2: 0.9926 <- EPOCH WINNER\n",
      "    head_3: 0.9894 \n",
      "    head_4: 0.9925 \n",
      "  Updating all dropout rates for next epoch...\n",
      "\n",
      "--- Epoch 20/20 ---\n",
      "Current Teacher Rates: {'head_1': 0.7, 'head_2': 0.3, 'head_3': 0.5, 'head_4': 0.6}\n",
      "Current Dummy Head Rate: 0.3\n"
     ]
    },
    {
     "data": {
      "application/vnd.jupyter.widget-view+json": {
       "model_id": "0e4430e39ed84b8e9592a3ee16410132",
       "version_major": 2,
       "version_minor": 0
      },
      "text/plain": [
       "Training Epoch:   0%|          | 0/48 [00:00<?, ?it/s]"
      ]
     },
     "metadata": {},
     "output_type": "display_data"
    },
    {
     "data": {
      "application/vnd.jupyter.widget-view+json": {
       "model_id": "045cd12b77e9409d821ccc7511952551",
       "version_major": 2,
       "version_minor": 0
      },
      "text/plain": [
       "Evaluating:   0%|          | 0/12 [00:00<?, ?it/s]"
      ]
     },
     "metadata": {},
     "output_type": "display_data"
    },
    {
     "name": "stdout",
     "output_type": "stream",
     "text": [
      "Epoch 20 Summary:\n",
      "  Backbone Loss (from Winner): 0.0243\n",
      "  Validation Loss: 0.4617\n",
      "  Validation Accuracy: 0.9052\n",
      "  Epoch Training Accuracies (Teachers):\n",
      "    head_1: 0.9833 \n",
      "    head_2: 0.9910 <- EPOCH WINNER\n",
      "    head_3: 0.9910 \n",
      "    head_4: 0.9864 \n",
      "  Updating all dropout rates for next epoch...\n",
      "\n",
      "Training complete. Loading best model for test evaluation...\n"
     ]
    },
    {
     "data": {
      "application/vnd.jupyter.widget-view+json": {
       "model_id": "025680c208ee49eb8359afcff660ba28",
       "version_major": 2,
       "version_minor": 0
      },
      "text/plain": [
       "Evaluating:   0%|          | 0/19 [00:00<?, ?it/s]"
      ]
     },
     "metadata": {},
     "output_type": "display_data"
    },
    {
     "name": "stdout",
     "output_type": "stream",
     "text": [
      "\n",
      "--- RESULTS FOR TARGET DOMAIN: CARTOON ---\n",
      "  Test Accuracy: 0.7735\n",
      "==============================================================\n",
      "  STARTING LODO EXPERIMENT: Target Domain = PHOTO\n",
      "==============================================================\n",
      "--- Creating DataLoaders (80/20 Split Strategy) ---\n",
      "Target (Test) Domain: photo\n",
      "Source Domains for Train/Val: ['art_painting', 'cartoon', 'sketch']\n",
      "Source data size: 8321\n",
      "  -> Training on: 6656 images (80%)\n",
      "  -> Validating on: 1665 images (20%)\n",
      "Testing on full 'photo' domain: 1670 images\n",
      "----------------------------------------------------\n"
     ]
    },
    {
     "name": "stderr",
     "output_type": "stream",
     "text": [
      "Some weights of ViTModel were not initialized from the model checkpoint at WinKawaks/vit-tiny-patch16-224 and are newly initialized: ['pooler.dense.bias', 'pooler.dense.weight']\n",
      "You should probably TRAIN this model on a down-stream task to be able to use it for predictions and inference.\n"
     ]
    },
    {
     "name": "stdout",
     "output_type": "stream",
     "text": [
      "\n",
      "--- Epoch 1/20 ---\n",
      "Current Teacher Rates: {'head_1': 0.5, 'head_2': 0.3, 'head_3': 0.4, 'head_4': 0.7}\n",
      "Current Dummy Head Rate: 0.4\n"
     ]
    },
    {
     "data": {
      "application/vnd.jupyter.widget-view+json": {
       "model_id": "a2218c766ce144d4831b2a0b655ce968",
       "version_major": 2,
       "version_minor": 0
      },
      "text/plain": [
       "Training Epoch:   0%|          | 0/52 [00:00<?, ?it/s]"
      ]
     },
     "metadata": {},
     "output_type": "display_data"
    },
    {
     "data": {
      "application/vnd.jupyter.widget-view+json": {
       "model_id": "713e627b000b45bab899d4ca58453518",
       "version_major": 2,
       "version_minor": 0
      },
      "text/plain": [
       "Evaluating:   0%|          | 0/14 [00:00<?, ?it/s]"
      ]
     },
     "metadata": {},
     "output_type": "display_data"
    },
    {
     "name": "stdout",
     "output_type": "stream",
     "text": [
      "Epoch 1 Summary:\n",
      "  Backbone Loss (from Winner): 1.3945\n",
      "  Validation Loss: 1.8806\n",
      "  Validation Accuracy: 0.2709\n",
      "  Epoch Training Accuracies (Teachers):\n",
      "    head_1: 0.1852 \n",
      "    head_2: 0.4986 <- EPOCH WINNER\n",
      "    head_3: 0.1662 \n",
      "    head_4: 0.1313 \n",
      "  New best validation accuracy! Saving model state.\n",
      "  Updating all dropout rates for next epoch...\n",
      "\n",
      "--- Epoch 2/20 ---\n",
      "Current Teacher Rates: {'head_1': 0.4, 'head_2': 0.7, 'head_3': 0.6, 'head_4': 0.3}\n",
      "Current Dummy Head Rate: 0.3\n"
     ]
    },
    {
     "data": {
      "application/vnd.jupyter.widget-view+json": {
       "model_id": "2e1b4d77aa074256b34ea5fb36625bce",
       "version_major": 2,
       "version_minor": 0
      },
      "text/plain": [
       "Training Epoch:   0%|          | 0/52 [00:00<?, ?it/s]"
      ]
     },
     "metadata": {},
     "output_type": "display_data"
    },
    {
     "data": {
      "application/vnd.jupyter.widget-view+json": {
       "model_id": "f96e878a523447779e686cfe57e955db",
       "version_major": 2,
       "version_minor": 0
      },
      "text/plain": [
       "Evaluating:   0%|          | 0/14 [00:00<?, ?it/s]"
      ]
     },
     "metadata": {},
     "output_type": "display_data"
    },
    {
     "name": "stdout",
     "output_type": "stream",
     "text": [
      "Epoch 2 Summary:\n",
      "  Backbone Loss (from Winner): 0.5706\n",
      "  Validation Loss: 1.6402\n",
      "  Validation Accuracy: 0.3399\n",
      "  Epoch Training Accuracies (Teachers):\n",
      "    head_1: 0.3242 \n",
      "    head_2: 0.8068 <- EPOCH WINNER\n",
      "    head_3: 0.2931 \n",
      "    head_4: 0.2393 \n",
      "  New best validation accuracy! Saving model state.\n",
      "  Updating all dropout rates for next epoch...\n",
      "\n",
      "--- Epoch 3/20 ---\n",
      "Current Teacher Rates: {'head_1': 0.6, 'head_2': 0.7, 'head_3': 0.4, 'head_4': 0.3}\n",
      "Current Dummy Head Rate: 0.6\n"
     ]
    },
    {
     "data": {
      "application/vnd.jupyter.widget-view+json": {
       "model_id": "e420c31c08324ca9be0d5261a29f0dc8",
       "version_major": 2,
       "version_minor": 0
      },
      "text/plain": [
       "Training Epoch:   0%|          | 0/52 [00:00<?, ?it/s]"
      ]
     },
     "metadata": {},
     "output_type": "display_data"
    },
    {
     "data": {
      "application/vnd.jupyter.widget-view+json": {
       "model_id": "fee93ca6d7c34cbaa753b5191d1cdf69",
       "version_major": 2,
       "version_minor": 0
      },
      "text/plain": [
       "Evaluating:   0%|          | 0/14 [00:00<?, ?it/s]"
      ]
     },
     "metadata": {},
     "output_type": "display_data"
    },
    {
     "name": "stdout",
     "output_type": "stream",
     "text": [
      "Epoch 3 Summary:\n",
      "  Backbone Loss (from Winner): 0.2720\n",
      "  Validation Loss: 1.3891\n",
      "  Validation Accuracy: 0.4486\n",
      "  Epoch Training Accuracies (Teachers):\n",
      "    head_1: 0.4715 \n",
      "    head_2: 0.9123 <- EPOCH WINNER\n",
      "    head_3: 0.5257 \n",
      "    head_4: 0.4716 \n",
      "  New best validation accuracy! Saving model state.\n",
      "  Updating all dropout rates for next epoch...\n",
      "\n",
      "--- Epoch 4/20 ---\n",
      "Current Teacher Rates: {'head_1': 0.4, 'head_2': 0.5, 'head_3': 0.3, 'head_4': 0.6}\n",
      "Current Dummy Head Rate: 0.5\n"
     ]
    },
    {
     "data": {
      "application/vnd.jupyter.widget-view+json": {
       "model_id": "ffa5a678162f43f5880ef2533ced8902",
       "version_major": 2,
       "version_minor": 0
      },
      "text/plain": [
       "Training Epoch:   0%|          | 0/52 [00:00<?, ?it/s]"
      ]
     },
     "metadata": {},
     "output_type": "display_data"
    },
    {
     "data": {
      "application/vnd.jupyter.widget-view+json": {
       "model_id": "de689d2eb67f4c089445bca71e5b9a8e",
       "version_major": 2,
       "version_minor": 0
      },
      "text/plain": [
       "Evaluating:   0%|          | 0/14 [00:00<?, ?it/s]"
      ]
     },
     "metadata": {},
     "output_type": "display_data"
    },
    {
     "name": "stdout",
     "output_type": "stream",
     "text": [
      "Epoch 4 Summary:\n",
      "  Backbone Loss (from Winner): 0.1396\n",
      "  Validation Loss: 0.9829\n",
      "  Validation Accuracy: 0.6751\n",
      "  Epoch Training Accuracies (Teachers):\n",
      "    head_1: 0.7550 \n",
      "    head_2: 0.9495 <- EPOCH WINNER\n",
      "    head_3: 0.7697 \n",
      "    head_4: 0.5565 \n",
      "  New best validation accuracy! Saving model state.\n",
      "  Updating all dropout rates for next epoch...\n",
      "\n",
      "--- Epoch 5/20 ---\n",
      "Current Teacher Rates: {'head_1': 0.6, 'head_2': 0.5, 'head_3': 0.7, 'head_4': 0.3}\n",
      "Current Dummy Head Rate: 0.6\n"
     ]
    },
    {
     "data": {
      "application/vnd.jupyter.widget-view+json": {
       "model_id": "9078c65bedd64a85a3fa05c3e316cd5c",
       "version_major": 2,
       "version_minor": 0
      },
      "text/plain": [
       "Training Epoch:   0%|          | 0/52 [00:00<?, ?it/s]"
      ]
     },
     "metadata": {},
     "output_type": "display_data"
    },
    {
     "data": {
      "application/vnd.jupyter.widget-view+json": {
       "model_id": "059d7656794b46949b1d063edc357721",
       "version_major": 2,
       "version_minor": 0
      },
      "text/plain": [
       "Evaluating:   0%|          | 0/14 [00:00<?, ?it/s]"
      ]
     },
     "metadata": {},
     "output_type": "display_data"
    },
    {
     "name": "stdout",
     "output_type": "stream",
     "text": [
      "Epoch 5 Summary:\n",
      "  Backbone Loss (from Winner): 0.0836\n",
      "  Validation Loss: 0.7387\n",
      "  Validation Accuracy: 0.8024\n",
      "  Epoch Training Accuracies (Teachers):\n",
      "    head_1: 0.7601 \n",
      "    head_2: 0.9697 <- EPOCH WINNER\n",
      "    head_3: 0.6466 \n",
      "    head_4: 0.8555 \n",
      "  New best validation accuracy! Saving model state.\n",
      "  Updating all dropout rates for next epoch...\n",
      "\n",
      "--- Epoch 6/20 ---\n",
      "Current Teacher Rates: {'head_1': 0.4, 'head_2': 0.3, 'head_3': 0.7, 'head_4': 0.6}\n",
      "Current Dummy Head Rate: 0.7\n"
     ]
    },
    {
     "data": {
      "application/vnd.jupyter.widget-view+json": {
       "model_id": "38028030f732443e99bb0387bd695e3f",
       "version_major": 2,
       "version_minor": 0
      },
      "text/plain": [
       "Training Epoch:   0%|          | 0/52 [00:00<?, ?it/s]"
      ]
     },
     "metadata": {},
     "output_type": "display_data"
    },
    {
     "data": {
      "application/vnd.jupyter.widget-view+json": {
       "model_id": "da499a11ed844c38a3c08204e93aaa08",
       "version_major": 2,
       "version_minor": 0
      },
      "text/plain": [
       "Evaluating:   0%|          | 0/14 [00:00<?, ?it/s]"
      ]
     },
     "metadata": {},
     "output_type": "display_data"
    },
    {
     "name": "stdout",
     "output_type": "stream",
     "text": [
      "Epoch 6 Summary:\n",
      "  Backbone Loss (from Winner): 0.0414\n",
      "  Validation Loss: 0.5208\n",
      "  Validation Accuracy: 0.8667\n",
      "  Epoch Training Accuracies (Teachers):\n",
      "    head_1: 0.9226 \n",
      "    head_2: 0.9847 <- EPOCH WINNER\n",
      "    head_3: 0.7716 \n",
      "    head_4: 0.7864 \n",
      "  New best validation accuracy! Saving model state.\n",
      "  Updating all dropout rates for next epoch...\n",
      "\n",
      "--- Epoch 7/20 ---\n",
      "Current Teacher Rates: {'head_1': 0.3, 'head_2': 0.5, 'head_3': 0.7, 'head_4': 0.4}\n",
      "Current Dummy Head Rate: 0.5\n"
     ]
    },
    {
     "data": {
      "application/vnd.jupyter.widget-view+json": {
       "model_id": "3552a39b37b243e3a3a9da80648bf90c",
       "version_major": 2,
       "version_minor": 0
      },
      "text/plain": [
       "Training Epoch:   0%|          | 0/52 [00:00<?, ?it/s]"
      ]
     },
     "metadata": {},
     "output_type": "display_data"
    },
    {
     "data": {
      "application/vnd.jupyter.widget-view+json": {
       "model_id": "fe1e6fd06ad84bdcadd6541e46d24683",
       "version_major": 2,
       "version_minor": 0
      },
      "text/plain": [
       "Evaluating:   0%|          | 0/14 [00:00<?, ?it/s]"
      ]
     },
     "metadata": {},
     "output_type": "display_data"
    },
    {
     "name": "stdout",
     "output_type": "stream",
     "text": [
      "Epoch 7 Summary:\n",
      "  Backbone Loss (from Winner): 0.0437\n",
      "  Validation Loss: 0.3794\n",
      "  Validation Accuracy: 0.8757\n",
      "  Epoch Training Accuracies (Teachers):\n",
      "    head_1: 0.9617 \n",
      "    head_2: 0.9863 <- EPOCH WINNER\n",
      "    head_3: 0.8398 \n",
      "    head_4: 0.9423 \n",
      "  New best validation accuracy! Saving model state.\n",
      "  Updating all dropout rates for next epoch...\n",
      "\n",
      "--- Epoch 8/20 ---\n",
      "Current Teacher Rates: {'head_1': 0.6, 'head_2': 0.4, 'head_3': 0.5, 'head_4': 0.7}\n",
      "Current Dummy Head Rate: 0.7\n"
     ]
    },
    {
     "data": {
      "application/vnd.jupyter.widget-view+json": {
       "model_id": "921c657752f7494396ec8f876fde5001",
       "version_major": 2,
       "version_minor": 0
      },
      "text/plain": [
       "Training Epoch:   0%|          | 0/52 [00:00<?, ?it/s]"
      ]
     },
     "metadata": {},
     "output_type": "display_data"
    },
    {
     "data": {
      "application/vnd.jupyter.widget-view+json": {
       "model_id": "cf421fa1ffb34ebb92a8ec7d7feac11c",
       "version_major": 2,
       "version_minor": 0
      },
      "text/plain": [
       "Evaluating:   0%|          | 0/14 [00:00<?, ?it/s]"
      ]
     },
     "metadata": {},
     "output_type": "display_data"
    },
    {
     "name": "stdout",
     "output_type": "stream",
     "text": [
      "Epoch 8 Summary:\n",
      "  Backbone Loss (from Winner): 0.0329\n",
      "  Validation Loss: 0.3306\n",
      "  Validation Accuracy: 0.8961\n",
      "  Epoch Training Accuracies (Teachers):\n",
      "    head_1: 0.9259 \n",
      "    head_2: 0.9881 <- EPOCH WINNER\n",
      "    head_3: 0.9552 \n",
      "    head_4: 0.8242 \n",
      "  New best validation accuracy! Saving model state.\n",
      "  Updating all dropout rates for next epoch...\n",
      "\n",
      "--- Epoch 9/20 ---\n",
      "Current Teacher Rates: {'head_1': 0.3, 'head_2': 0.4, 'head_3': 0.7, 'head_4': 0.6}\n",
      "Current Dummy Head Rate: 0.5\n"
     ]
    },
    {
     "data": {
      "application/vnd.jupyter.widget-view+json": {
       "model_id": "e4f1d5aae785406aa41493bce82abae9",
       "version_major": 2,
       "version_minor": 0
      },
      "text/plain": [
       "Training Epoch:   0%|          | 0/52 [00:00<?, ?it/s]"
      ]
     },
     "metadata": {},
     "output_type": "display_data"
    },
    {
     "data": {
      "application/vnd.jupyter.widget-view+json": {
       "model_id": "af4cc7df315645109f96272bdc37aa54",
       "version_major": 2,
       "version_minor": 0
      },
      "text/plain": [
       "Evaluating:   0%|          | 0/14 [00:00<?, ?it/s]"
      ]
     },
     "metadata": {},
     "output_type": "display_data"
    },
    {
     "name": "stdout",
     "output_type": "stream",
     "text": [
      "Epoch 9 Summary:\n",
      "  Backbone Loss (from Winner): 0.0456\n",
      "  Validation Loss: 0.2740\n",
      "  Validation Accuracy: 0.9129\n",
      "  Epoch Training Accuracies (Teachers):\n",
      "    head_1: 0.9797 \n",
      "    head_2: 0.9875 <- EPOCH WINNER\n",
      "    head_3: 0.8902 \n",
      "    head_4: 0.9201 \n",
      "  New best validation accuracy! Saving model state.\n",
      "  Updating all dropout rates for next epoch...\n",
      "\n",
      "--- Epoch 10/20 ---\n",
      "Current Teacher Rates: {'head_1': 0.7, 'head_2': 0.3, 'head_3': 0.6, 'head_4': 0.5}\n",
      "Current Dummy Head Rate: 0.6\n"
     ]
    },
    {
     "data": {
      "application/vnd.jupyter.widget-view+json": {
       "model_id": "c6de3dc568c44125a3d6926354a3da43",
       "version_major": 2,
       "version_minor": 0
      },
      "text/plain": [
       "Training Epoch:   0%|          | 0/52 [00:00<?, ?it/s]"
      ]
     },
     "metadata": {},
     "output_type": "display_data"
    },
    {
     "data": {
      "application/vnd.jupyter.widget-view+json": {
       "model_id": "474312452a6141eaa75b309b0f477101",
       "version_major": 2,
       "version_minor": 0
      },
      "text/plain": [
       "Evaluating:   0%|          | 0/14 [00:00<?, ?it/s]"
      ]
     },
     "metadata": {},
     "output_type": "display_data"
    },
    {
     "name": "stdout",
     "output_type": "stream",
     "text": [
      "Epoch 10 Summary:\n",
      "  Backbone Loss (from Winner): 0.0404\n",
      "  Validation Loss: 0.2435\n",
      "  Validation Accuracy: 0.9183\n",
      "  Epoch Training Accuracies (Teachers):\n",
      "    head_1: 0.9241 \n",
      "    head_2: 0.9880 <- EPOCH WINNER\n",
      "    head_3: 0.9512 \n",
      "    head_4: 0.9521 \n",
      "  New best validation accuracy! Saving model state.\n",
      "  Updating all dropout rates for next epoch...\n",
      "\n",
      "--- Epoch 11/20 ---\n",
      "Current Teacher Rates: {'head_1': 0.5, 'head_2': 0.4, 'head_3': 0.7, 'head_4': 0.3}\n",
      "Current Dummy Head Rate: 0.4\n"
     ]
    },
    {
     "data": {
      "application/vnd.jupyter.widget-view+json": {
       "model_id": "afbf2522592241beb279938adf3cb5a6",
       "version_major": 2,
       "version_minor": 0
      },
      "text/plain": [
       "Training Epoch:   0%|          | 0/52 [00:00<?, ?it/s]"
      ]
     },
     "metadata": {},
     "output_type": "display_data"
    },
    {
     "data": {
      "application/vnd.jupyter.widget-view+json": {
       "model_id": "cb22cab494a04fb9a5a988002def60a0",
       "version_major": 2,
       "version_minor": 0
      },
      "text/plain": [
       "Evaluating:   0%|          | 0/14 [00:00<?, ?it/s]"
      ]
     },
     "metadata": {},
     "output_type": "display_data"
    },
    {
     "name": "stdout",
     "output_type": "stream",
     "text": [
      "Epoch 11 Summary:\n",
      "  Backbone Loss (from Winner): 0.0331\n",
      "  Validation Loss: 0.2285\n",
      "  Validation Accuracy: 0.9225\n",
      "  Epoch Training Accuracies (Teachers):\n",
      "    head_1: 0.9740 \n",
      "    head_2: 0.9890 <- EPOCH WINNER\n",
      "    head_3: 0.9291 \n",
      "    head_4: 0.9791 \n",
      "  New best validation accuracy! Saving model state.\n",
      "  Updating all dropout rates for next epoch...\n",
      "\n",
      "--- Epoch 12/20 ---\n",
      "Current Teacher Rates: {'head_1': 0.4, 'head_2': 0.6, 'head_3': 0.7, 'head_4': 0.5}\n",
      "Current Dummy Head Rate: 0.4\n"
     ]
    },
    {
     "data": {
      "application/vnd.jupyter.widget-view+json": {
       "model_id": "968a870762dd4e239ae8f66f15bb3425",
       "version_major": 2,
       "version_minor": 0
      },
      "text/plain": [
       "Training Epoch:   0%|          | 0/52 [00:00<?, ?it/s]"
      ]
     },
     "metadata": {},
     "output_type": "display_data"
    },
    {
     "data": {
      "application/vnd.jupyter.widget-view+json": {
       "model_id": "2b0291b619af4cf7bf3941eb2002f63d",
       "version_major": 2,
       "version_minor": 0
      },
      "text/plain": [
       "Evaluating:   0%|          | 0/14 [00:00<?, ?it/s]"
      ]
     },
     "metadata": {},
     "output_type": "display_data"
    },
    {
     "name": "stdout",
     "output_type": "stream",
     "text": [
      "Epoch 12 Summary:\n",
      "  Backbone Loss (from Winner): 0.0398\n",
      "  Validation Loss: 0.2211\n",
      "  Validation Accuracy: 0.9249\n",
      "  Epoch Training Accuracies (Teachers):\n",
      "    head_1: 0.9829 \n",
      "    head_2: 0.9854 <- EPOCH WINNER\n",
      "    head_3: 0.9444 \n",
      "    head_4: 0.9684 \n",
      "  New best validation accuracy! Saving model state.\n",
      "  Updating all dropout rates for next epoch...\n",
      "\n",
      "--- Epoch 13/20 ---\n",
      "Current Teacher Rates: {'head_1': 0.3, 'head_2': 0.7, 'head_3': 0.6, 'head_4': 0.5}\n",
      "Current Dummy Head Rate: 0.4\n"
     ]
    },
    {
     "data": {
      "application/vnd.jupyter.widget-view+json": {
       "model_id": "d2aed8de846340e3bc4b12af6932cdb7",
       "version_major": 2,
       "version_minor": 0
      },
      "text/plain": [
       "Training Epoch:   0%|          | 0/52 [00:00<?, ?it/s]"
      ]
     },
     "metadata": {},
     "output_type": "display_data"
    },
    {
     "data": {
      "application/vnd.jupyter.widget-view+json": {
       "model_id": "7286a1426e1c4c07b5b2ef127d294180",
       "version_major": 2,
       "version_minor": 0
      },
      "text/plain": [
       "Evaluating:   0%|          | 0/14 [00:00<?, ?it/s]"
      ]
     },
     "metadata": {},
     "output_type": "display_data"
    },
    {
     "name": "stdout",
     "output_type": "stream",
     "text": [
      "Epoch 13 Summary:\n",
      "  Backbone Loss (from Winner): 0.0276\n",
      "  Validation Loss: 0.2574\n",
      "  Validation Accuracy: 0.9309\n",
      "  Epoch Training Accuracies (Teachers):\n",
      "    head_1: 0.9898 <- EPOCH WINNER\n",
      "    head_2: 0.9868 \n",
      "    head_3: 0.9746 \n",
      "    head_4: 0.9770 \n",
      "  New best validation accuracy! Saving model state.\n",
      "  Updating all dropout rates for next epoch...\n",
      "\n",
      "--- Epoch 14/20 ---\n",
      "Current Teacher Rates: {'head_1': 0.5, 'head_2': 0.4, 'head_3': 0.7, 'head_4': 0.6}\n",
      "Current Dummy Head Rate: 0.3\n"
     ]
    },
    {
     "data": {
      "application/vnd.jupyter.widget-view+json": {
       "model_id": "f956d4b2d93747f89f83aa83de149419",
       "version_major": 2,
       "version_minor": 0
      },
      "text/plain": [
       "Training Epoch:   0%|          | 0/52 [00:00<?, ?it/s]"
      ]
     },
     "metadata": {},
     "output_type": "display_data"
    },
    {
     "data": {
      "application/vnd.jupyter.widget-view+json": {
       "model_id": "92b364dda30d4a17be9723d2616d1d02",
       "version_major": 2,
       "version_minor": 0
      },
      "text/plain": [
       "Evaluating:   0%|          | 0/14 [00:00<?, ?it/s]"
      ]
     },
     "metadata": {},
     "output_type": "display_data"
    },
    {
     "name": "stdout",
     "output_type": "stream",
     "text": [
      "Epoch 14 Summary:\n",
      "  Backbone Loss (from Winner): 0.0227\n",
      "  Validation Loss: 0.4180\n",
      "  Validation Accuracy: 0.8985\n",
      "  Epoch Training Accuracies (Teachers):\n",
      "    head_1: 0.9902 \n",
      "    head_2: 0.9922 <- EPOCH WINNER\n",
      "    head_3: 0.9672 \n",
      "    head_4: 0.9751 \n",
      "  Updating all dropout rates for next epoch...\n",
      "\n",
      "--- Epoch 15/20 ---\n",
      "Current Teacher Rates: {'head_1': 0.5, 'head_2': 0.4, 'head_3': 0.7, 'head_4': 0.3}\n",
      "Current Dummy Head Rate: 0.5\n"
     ]
    },
    {
     "data": {
      "application/vnd.jupyter.widget-view+json": {
       "model_id": "088de192ed3d463ea6f73107590f9fba",
       "version_major": 2,
       "version_minor": 0
      },
      "text/plain": [
       "Training Epoch:   0%|          | 0/52 [00:00<?, ?it/s]"
      ]
     },
     "metadata": {},
     "output_type": "display_data"
    },
    {
     "data": {
      "application/vnd.jupyter.widget-view+json": {
       "model_id": "05fea20bb08f4830bde340adcd55fdb8",
       "version_major": 2,
       "version_minor": 0
      },
      "text/plain": [
       "Evaluating:   0%|          | 0/14 [00:00<?, ?it/s]"
      ]
     },
     "metadata": {},
     "output_type": "display_data"
    },
    {
     "name": "stdout",
     "output_type": "stream",
     "text": [
      "Epoch 15 Summary:\n",
      "  Backbone Loss (from Winner): 0.0396\n",
      "  Validation Loss: 0.3586\n",
      "  Validation Accuracy: 0.8985\n",
      "  Epoch Training Accuracies (Teachers):\n",
      "    head_1: 0.9806 \n",
      "    head_2: 0.9868 <- EPOCH WINNER\n",
      "    head_3: 0.9609 \n",
      "    head_4: 0.9836 \n",
      "  Updating all dropout rates for next epoch...\n",
      "\n",
      "--- Epoch 16/20 ---\n",
      "Current Teacher Rates: {'head_1': 0.4, 'head_2': 0.6, 'head_3': 0.5, 'head_4': 0.7}\n",
      "Current Dummy Head Rate: 0.5\n"
     ]
    },
    {
     "data": {
      "application/vnd.jupyter.widget-view+json": {
       "model_id": "fa21bf652abb45e3a0806844ffe74655",
       "version_major": 2,
       "version_minor": 0
      },
      "text/plain": [
       "Training Epoch:   0%|          | 0/52 [00:00<?, ?it/s]"
      ]
     },
     "metadata": {},
     "output_type": "display_data"
    },
    {
     "data": {
      "application/vnd.jupyter.widget-view+json": {
       "model_id": "43c3b10b05404bd9b595c9ae526fb184",
       "version_major": 2,
       "version_minor": 0
      },
      "text/plain": [
       "Evaluating:   0%|          | 0/14 [00:00<?, ?it/s]"
      ]
     },
     "metadata": {},
     "output_type": "display_data"
    },
    {
     "name": "stdout",
     "output_type": "stream",
     "text": [
      "Epoch 16 Summary:\n",
      "  Backbone Loss (from Winner): 0.0471\n",
      "  Validation Loss: 0.4105\n",
      "  Validation Accuracy: 0.8859\n",
      "  Epoch Training Accuracies (Teachers):\n",
      "    head_1: 0.9545 \n",
      "    head_2: 0.9709 <- EPOCH WINNER\n",
      "    head_3: 0.9669 \n",
      "    head_4: 0.9165 \n",
      "  Updating all dropout rates for next epoch...\n",
      "\n",
      "--- Epoch 17/20 ---\n",
      "Current Teacher Rates: {'head_1': 0.3, 'head_2': 0.5, 'head_3': 0.4, 'head_4': 0.7}\n",
      "Current Dummy Head Rate: 0.3\n"
     ]
    },
    {
     "data": {
      "application/vnd.jupyter.widget-view+json": {
       "model_id": "4bbcabb239234513ad326aa6c4b70eea",
       "version_major": 2,
       "version_minor": 0
      },
      "text/plain": [
       "Training Epoch:   0%|          | 0/52 [00:00<?, ?it/s]"
      ]
     },
     "metadata": {},
     "output_type": "display_data"
    },
    {
     "data": {
      "application/vnd.jupyter.widget-view+json": {
       "model_id": "f8ed31a8ed304f7eb2e593e875672258",
       "version_major": 2,
       "version_minor": 0
      },
      "text/plain": [
       "Evaluating:   0%|          | 0/14 [00:00<?, ?it/s]"
      ]
     },
     "metadata": {},
     "output_type": "display_data"
    },
    {
     "name": "stdout",
     "output_type": "stream",
     "text": [
      "Epoch 17 Summary:\n",
      "  Backbone Loss (from Winner): 0.0161\n",
      "  Validation Loss: 0.3024\n",
      "  Validation Accuracy: 0.9195\n",
      "  Epoch Training Accuracies (Teachers):\n",
      "    head_1: 0.9844 \n",
      "    head_2: 0.9928 <- EPOCH WINNER\n",
      "    head_3: 0.9913 \n",
      "    head_4: 0.9605 \n",
      "  Updating all dropout rates for next epoch...\n",
      "\n",
      "--- Epoch 18/20 ---\n",
      "Current Teacher Rates: {'head_1': 0.7, 'head_2': 0.4, 'head_3': 0.3, 'head_4': 0.5}\n",
      "Current Dummy Head Rate: 0.6\n"
     ]
    },
    {
     "data": {
      "application/vnd.jupyter.widget-view+json": {
       "model_id": "ab5c9d63de38403ba64117567d882091",
       "version_major": 2,
       "version_minor": 0
      },
      "text/plain": [
       "Training Epoch:   0%|          | 0/52 [00:00<?, ?it/s]"
      ]
     },
     "metadata": {},
     "output_type": "display_data"
    },
    {
     "data": {
      "application/vnd.jupyter.widget-view+json": {
       "model_id": "07290d36211a4a0db66fa7a233c85ff6",
       "version_major": 2,
       "version_minor": 0
      },
      "text/plain": [
       "Evaluating:   0%|          | 0/14 [00:00<?, ?it/s]"
      ]
     },
     "metadata": {},
     "output_type": "display_data"
    },
    {
     "name": "stdout",
     "output_type": "stream",
     "text": [
      "Epoch 18 Summary:\n",
      "  Backbone Loss (from Winner): 0.0134\n",
      "  Validation Loss: 0.2568\n",
      "  Validation Accuracy: 0.9369\n",
      "  Epoch Training Accuracies (Teachers):\n",
      "    head_1: 0.9827 \n",
      "    head_2: 0.9965 <- EPOCH WINNER\n",
      "    head_3: 0.9946 \n",
      "    head_4: 0.9934 \n",
      "  New best validation accuracy! Saving model state.\n",
      "  Updating all dropout rates for next epoch...\n",
      "\n",
      "--- Epoch 19/20 ---\n",
      "Current Teacher Rates: {'head_1': 0.3, 'head_2': 0.7, 'head_3': 0.5, 'head_4': 0.4}\n",
      "Current Dummy Head Rate: 0.3\n"
     ]
    },
    {
     "data": {
      "application/vnd.jupyter.widget-view+json": {
       "model_id": "5a3845465407431aa58482f2db05b1a0",
       "version_major": 2,
       "version_minor": 0
      },
      "text/plain": [
       "Training Epoch:   0%|          | 0/52 [00:00<?, ?it/s]"
      ]
     },
     "metadata": {},
     "output_type": "display_data"
    },
    {
     "data": {
      "application/vnd.jupyter.widget-view+json": {
       "model_id": "51613eefaa124000b40d507fb79a6a4f",
       "version_major": 2,
       "version_minor": 0
      },
      "text/plain": [
       "Evaluating:   0%|          | 0/14 [00:00<?, ?it/s]"
      ]
     },
     "metadata": {},
     "output_type": "display_data"
    },
    {
     "name": "stdout",
     "output_type": "stream",
     "text": [
      "Epoch 19 Summary:\n",
      "  Backbone Loss (from Winner): 0.0174\n",
      "  Validation Loss: 0.2552\n",
      "  Validation Accuracy: 0.9309\n",
      "  Epoch Training Accuracies (Teachers):\n",
      "    head_1: 0.9925 <- EPOCH WINNER\n",
      "    head_2: 0.9904 \n",
      "    head_3: 0.9877 \n",
      "    head_4: 0.9913 \n",
      "  Updating all dropout rates for next epoch...\n",
      "\n",
      "--- Epoch 20/20 ---\n",
      "Current Teacher Rates: {'head_1': 0.7, 'head_2': 0.4, 'head_3': 0.6, 'head_4': 0.3}\n",
      "Current Dummy Head Rate: 0.4\n"
     ]
    },
    {
     "data": {
      "application/vnd.jupyter.widget-view+json": {
       "model_id": "c123e888202e41eba79ca04c1dcc0772",
       "version_major": 2,
       "version_minor": 0
      },
      "text/plain": [
       "Training Epoch:   0%|          | 0/52 [00:00<?, ?it/s]"
      ]
     },
     "metadata": {},
     "output_type": "display_data"
    },
    {
     "data": {
      "application/vnd.jupyter.widget-view+json": {
       "model_id": "5d794743fd28474ea8b9fdb97e9d2ca7",
       "version_major": 2,
       "version_minor": 0
      },
      "text/plain": [
       "Evaluating:   0%|          | 0/14 [00:00<?, ?it/s]"
      ]
     },
     "metadata": {},
     "output_type": "display_data"
    },
    {
     "name": "stdout",
     "output_type": "stream",
     "text": [
      "Epoch 20 Summary:\n",
      "  Backbone Loss (from Winner): 0.0267\n",
      "  Validation Loss: 0.2973\n",
      "  Validation Accuracy: 0.9195\n",
      "  Epoch Training Accuracies (Teachers):\n",
      "    head_1: 0.9773 \n",
      "    head_2: 0.9919 <- EPOCH WINNER\n",
      "    head_3: 0.9812 \n",
      "    head_4: 0.9896 \n",
      "  Updating all dropout rates for next epoch...\n",
      "\n",
      "Training complete. Loading best model for test evaluation...\n"
     ]
    },
    {
     "data": {
      "application/vnd.jupyter.widget-view+json": {
       "model_id": "b1f728b439414e659cd1ec7322eec7a1",
       "version_major": 2,
       "version_minor": 0
      },
      "text/plain": [
       "Evaluating:   0%|          | 0/14 [00:00<?, ?it/s]"
      ]
     },
     "metadata": {},
     "output_type": "display_data"
    },
    {
     "name": "stdout",
     "output_type": "stream",
     "text": [
      "\n",
      "--- RESULTS FOR TARGET DOMAIN: PHOTO ---\n",
      "  Test Accuracy: 0.9635\n",
      "==============================================================\n",
      "  STARTING LODO EXPERIMENT: Target Domain = SKETCH\n",
      "==============================================================\n",
      "--- Creating DataLoaders (80/20 Split Strategy) ---\n",
      "Target (Test) Domain: sketch\n",
      "Source Domains for Train/Val: ['art_painting', 'cartoon', 'photo']\n",
      "Source data size: 6062\n",
      "  -> Training on: 4849 images (80%)\n",
      "  -> Validating on: 1213 images (20%)\n",
      "Testing on full 'sketch' domain: 3929 images\n",
      "----------------------------------------------------\n"
     ]
    },
    {
     "name": "stderr",
     "output_type": "stream",
     "text": [
      "Some weights of ViTModel were not initialized from the model checkpoint at WinKawaks/vit-tiny-patch16-224 and are newly initialized: ['pooler.dense.bias', 'pooler.dense.weight']\n",
      "You should probably TRAIN this model on a down-stream task to be able to use it for predictions and inference.\n"
     ]
    },
    {
     "name": "stdout",
     "output_type": "stream",
     "text": [
      "\n",
      "--- Epoch 1/20 ---\n",
      "Current Teacher Rates: {'head_1': 0.5, 'head_2': 0.4, 'head_3': 0.7, 'head_4': 0.6}\n",
      "Current Dummy Head Rate: 0.3\n"
     ]
    },
    {
     "data": {
      "application/vnd.jupyter.widget-view+json": {
       "model_id": "468a338c6e3049518d56569b3521f4a8",
       "version_major": 2,
       "version_minor": 0
      },
      "text/plain": [
       "Training Epoch:   0%|          | 0/38 [00:00<?, ?it/s]"
      ]
     },
     "metadata": {},
     "output_type": "display_data"
    },
    {
     "data": {
      "application/vnd.jupyter.widget-view+json": {
       "model_id": "cf744d0027bf42cab309edbe0deee299",
       "version_major": 2,
       "version_minor": 0
      },
      "text/plain": [
       "Evaluating:   0%|          | 0/10 [00:00<?, ?it/s]"
      ]
     },
     "metadata": {},
     "output_type": "display_data"
    },
    {
     "name": "stdout",
     "output_type": "stream",
     "text": [
      "Epoch 1 Summary:\n",
      "  Backbone Loss (from Winner): 1.0910\n",
      "  Validation Loss: 0.2212\n",
      "  Validation Accuracy: 0.9192\n",
      "  Epoch Training Accuracies (Teachers):\n",
      "    head_1: 0.7006 <- EPOCH WINNER\n",
      "    head_2: 0.1710 \n",
      "    head_3: 0.2407 \n",
      "    head_4: 0.1534 \n",
      "  New best validation accuracy! Saving model state.\n",
      "  Updating all dropout rates for next epoch...\n",
      "\n",
      "--- Epoch 2/20 ---\n",
      "Current Teacher Rates: {'head_1': 0.4, 'head_2': 0.3, 'head_3': 0.5, 'head_4': 0.6}\n",
      "Current Dummy Head Rate: 0.3\n"
     ]
    },
    {
     "data": {
      "application/vnd.jupyter.widget-view+json": {
       "model_id": "224d819ada424e90bd5386ac48f95b43",
       "version_major": 2,
       "version_minor": 0
      },
      "text/plain": [
       "Training Epoch:   0%|          | 0/38 [00:00<?, ?it/s]"
      ]
     },
     "metadata": {},
     "output_type": "display_data"
    },
    {
     "data": {
      "application/vnd.jupyter.widget-view+json": {
       "model_id": "780f4e0038664df084e6562b1e5d96ef",
       "version_major": 2,
       "version_minor": 0
      },
      "text/plain": [
       "Evaluating:   0%|          | 0/10 [00:00<?, ?it/s]"
      ]
     },
     "metadata": {},
     "output_type": "display_data"
    },
    {
     "name": "stdout",
     "output_type": "stream",
     "text": [
      "Epoch 2 Summary:\n",
      "  Backbone Loss (from Winner): 0.1805\n",
      "  Validation Loss: 0.2296\n",
      "  Validation Accuracy: 0.9357\n",
      "  Epoch Training Accuracies (Teachers):\n",
      "    head_1: 0.9385 <- EPOCH WINNER\n",
      "    head_2: 0.3011 \n",
      "    head_3: 0.3790 \n",
      "    head_4: 0.2382 \n",
      "  New best validation accuracy! Saving model state.\n",
      "  Updating all dropout rates for next epoch...\n",
      "\n",
      "--- Epoch 3/20 ---\n",
      "Current Teacher Rates: {'head_1': 0.4, 'head_2': 0.7, 'head_3': 0.5, 'head_4': 0.6}\n",
      "Current Dummy Head Rate: 0.7\n"
     ]
    },
    {
     "data": {
      "application/vnd.jupyter.widget-view+json": {
       "model_id": "11b9e251f94242428584d0c927974629",
       "version_major": 2,
       "version_minor": 0
      },
      "text/plain": [
       "Training Epoch:   0%|          | 0/38 [00:00<?, ?it/s]"
      ]
     },
     "metadata": {},
     "output_type": "display_data"
    },
    {
     "data": {
      "application/vnd.jupyter.widget-view+json": {
       "model_id": "4a54036689dc499e98a5f63c6f6376b1",
       "version_major": 2,
       "version_minor": 0
      },
      "text/plain": [
       "Evaluating:   0%|          | 0/10 [00:00<?, ?it/s]"
      ]
     },
     "metadata": {},
     "output_type": "display_data"
    },
    {
     "name": "stdout",
     "output_type": "stream",
     "text": [
      "Epoch 3 Summary:\n",
      "  Backbone Loss (from Winner): 0.0800\n",
      "  Validation Loss: 0.1682\n",
      "  Validation Accuracy: 0.9481\n",
      "  Epoch Training Accuracies (Teachers):\n",
      "    head_1: 0.9738 <- EPOCH WINNER\n",
      "    head_2: 0.3370 \n",
      "    head_3: 0.5121 \n",
      "    head_4: 0.3522 \n",
      "  New best validation accuracy! Saving model state.\n",
      "  Updating all dropout rates for next epoch...\n",
      "\n",
      "--- Epoch 4/20 ---\n",
      "Current Teacher Rates: {'head_1': 0.6, 'head_2': 0.3, 'head_3': 0.7, 'head_4': 0.4}\n",
      "Current Dummy Head Rate: 0.4\n"
     ]
    },
    {
     "data": {
      "application/vnd.jupyter.widget-view+json": {
       "model_id": "9a62b7d4bff24f05a31cdbfa4afa9363",
       "version_major": 2,
       "version_minor": 0
      },
      "text/plain": [
       "Training Epoch:   0%|          | 0/38 [00:00<?, ?it/s]"
      ]
     },
     "metadata": {},
     "output_type": "display_data"
    },
    {
     "data": {
      "application/vnd.jupyter.widget-view+json": {
       "model_id": "e03bb03798a8473c8a3b1e17e6b99593",
       "version_major": 2,
       "version_minor": 0
      },
      "text/plain": [
       "Evaluating:   0%|          | 0/10 [00:00<?, ?it/s]"
      ]
     },
     "metadata": {},
     "output_type": "display_data"
    },
    {
     "name": "stdout",
     "output_type": "stream",
     "text": [
      "Epoch 4 Summary:\n",
      "  Backbone Loss (from Winner): 0.0835\n",
      "  Validation Loss: 0.1626\n",
      "  Validation Accuracy: 0.9538\n",
      "  Epoch Training Accuracies (Teachers):\n",
      "    head_1: 0.9713 <- EPOCH WINNER\n",
      "    head_2: 0.6692 \n",
      "    head_3: 0.5189 \n",
      "    head_4: 0.5981 \n",
      "  New best validation accuracy! Saving model state.\n",
      "  Updating all dropout rates for next epoch...\n",
      "\n",
      "--- Epoch 5/20 ---\n",
      "Current Teacher Rates: {'head_1': 0.5, 'head_2': 0.6, 'head_3': 0.3, 'head_4': 0.4}\n",
      "Current Dummy Head Rate: 0.3\n"
     ]
    },
    {
     "data": {
      "application/vnd.jupyter.widget-view+json": {
       "model_id": "c5f8d8288f6f4a42a870c92b169240a9",
       "version_major": 2,
       "version_minor": 0
      },
      "text/plain": [
       "Training Epoch:   0%|          | 0/38 [00:00<?, ?it/s]"
      ]
     },
     "metadata": {},
     "output_type": "display_data"
    },
    {
     "data": {
      "application/vnd.jupyter.widget-view+json": {
       "model_id": "2200065538284830b3ffad1ceab6b68c",
       "version_major": 2,
       "version_minor": 0
      },
      "text/plain": [
       "Evaluating:   0%|          | 0/10 [00:00<?, ?it/s]"
      ]
     },
     "metadata": {},
     "output_type": "display_data"
    },
    {
     "name": "stdout",
     "output_type": "stream",
     "text": [
      "Epoch 5 Summary:\n",
      "  Backbone Loss (from Winner): 0.0354\n",
      "  Validation Loss: 0.1582\n",
      "  Validation Accuracy: 0.9596\n",
      "  Epoch Training Accuracies (Teachers):\n",
      "    head_1: 0.9860 <- EPOCH WINNER\n",
      "    head_2: 0.6288 \n",
      "    head_3: 0.8383 \n",
      "    head_4: 0.7267 \n",
      "  New best validation accuracy! Saving model state.\n",
      "  Updating all dropout rates for next epoch...\n",
      "\n",
      "--- Epoch 6/20 ---\n",
      "Current Teacher Rates: {'head_1': 0.5, 'head_2': 0.4, 'head_3': 0.3, 'head_4': 0.6}\n",
      "Current Dummy Head Rate: 0.5\n"
     ]
    },
    {
     "data": {
      "application/vnd.jupyter.widget-view+json": {
       "model_id": "89c1953be280460fbc53e8b3835f2a96",
       "version_major": 2,
       "version_minor": 0
      },
      "text/plain": [
       "Training Epoch:   0%|          | 0/38 [00:00<?, ?it/s]"
      ]
     },
     "metadata": {},
     "output_type": "display_data"
    },
    {
     "data": {
      "application/vnd.jupyter.widget-view+json": {
       "model_id": "424f2d5e05f34f2a868bedae6090b753",
       "version_major": 2,
       "version_minor": 0
      },
      "text/plain": [
       "Evaluating:   0%|          | 0/10 [00:00<?, ?it/s]"
      ]
     },
     "metadata": {},
     "output_type": "display_data"
    },
    {
     "name": "stdout",
     "output_type": "stream",
     "text": [
      "Epoch 6 Summary:\n",
      "  Backbone Loss (from Winner): 0.0257\n",
      "  Validation Loss: 0.1644\n",
      "  Validation Accuracy: 0.9588\n",
      "  Epoch Training Accuracies (Teachers):\n",
      "    head_1: 0.9922 <- EPOCH WINNER\n",
      "    head_2: 0.8259 \n",
      "    head_3: 0.8944 \n",
      "    head_4: 0.6888 \n",
      "  Updating all dropout rates for next epoch...\n",
      "\n",
      "--- Epoch 7/20 ---\n",
      "Current Teacher Rates: {'head_1': 0.7, 'head_2': 0.4, 'head_3': 0.3, 'head_4': 0.5}\n",
      "Current Dummy Head Rate: 0.3\n"
     ]
    },
    {
     "data": {
      "application/vnd.jupyter.widget-view+json": {
       "model_id": "780b57ba0a8c45e0917e768751d53774",
       "version_major": 2,
       "version_minor": 0
      },
      "text/plain": [
       "Training Epoch:   0%|          | 0/38 [00:00<?, ?it/s]"
      ]
     },
     "metadata": {},
     "output_type": "display_data"
    },
    {
     "data": {
      "application/vnd.jupyter.widget-view+json": {
       "model_id": "2d6cf7ec3abb4759ae79766d4828b032",
       "version_major": 2,
       "version_minor": 0
      },
      "text/plain": [
       "Evaluating:   0%|          | 0/10 [00:00<?, ?it/s]"
      ]
     },
     "metadata": {},
     "output_type": "display_data"
    },
    {
     "name": "stdout",
     "output_type": "stream",
     "text": [
      "Epoch 7 Summary:\n",
      "  Backbone Loss (from Winner): 0.0484\n",
      "  Validation Loss: 0.2309\n",
      "  Validation Accuracy: 0.9481\n",
      "  Epoch Training Accuracies (Teachers):\n",
      "    head_1: 0.9862 <- EPOCH WINNER\n",
      "    head_2: 0.8707 \n",
      "    head_3: 0.9210 \n",
      "    head_4: 0.8455 \n",
      "  Updating all dropout rates for next epoch...\n",
      "\n",
      "--- Epoch 8/20 ---\n",
      "Current Teacher Rates: {'head_1': 0.5, 'head_2': 0.3, 'head_3': 0.4, 'head_4': 0.7}\n",
      "Current Dummy Head Rate: 0.7\n"
     ]
    },
    {
     "data": {
      "application/vnd.jupyter.widget-view+json": {
       "model_id": "4ea5d25817264217a6830d942268894b",
       "version_major": 2,
       "version_minor": 0
      },
      "text/plain": [
       "Training Epoch:   0%|          | 0/38 [00:00<?, ?it/s]"
      ]
     },
     "metadata": {},
     "output_type": "display_data"
    },
    {
     "data": {
      "application/vnd.jupyter.widget-view+json": {
       "model_id": "f985570dcc7547e68bdfc93ae7283b73",
       "version_major": 2,
       "version_minor": 0
      },
      "text/plain": [
       "Evaluating:   0%|          | 0/10 [00:00<?, ?it/s]"
      ]
     },
     "metadata": {},
     "output_type": "display_data"
    },
    {
     "name": "stdout",
     "output_type": "stream",
     "text": [
      "Epoch 8 Summary:\n",
      "  Backbone Loss (from Winner): 0.0673\n",
      "  Validation Loss: 0.1799\n",
      "  Validation Accuracy: 0.9547\n",
      "  Epoch Training Accuracies (Teachers):\n",
      "    head_1: 0.9816 <- EPOCH WINNER\n",
      "    head_2: 0.9167 \n",
      "    head_3: 0.8985 \n",
      "    head_4: 0.7228 \n",
      "  Updating all dropout rates for next epoch...\n",
      "\n",
      "--- Epoch 9/20 ---\n",
      "Current Teacher Rates: {'head_1': 0.4, 'head_2': 0.7, 'head_3': 0.3, 'head_4': 0.6}\n",
      "Current Dummy Head Rate: 0.7\n"
     ]
    },
    {
     "data": {
      "application/vnd.jupyter.widget-view+json": {
       "model_id": "283612a0436a4c9192f60dd6b063ed75",
       "version_major": 2,
       "version_minor": 0
      },
      "text/plain": [
       "Training Epoch:   0%|          | 0/38 [00:00<?, ?it/s]"
      ]
     },
     "metadata": {},
     "output_type": "display_data"
    },
    {
     "data": {
      "application/vnd.jupyter.widget-view+json": {
       "model_id": "fa2004b826a8486a897275a62e3f00ba",
       "version_major": 2,
       "version_minor": 0
      },
      "text/plain": [
       "Evaluating:   0%|          | 0/10 [00:00<?, ?it/s]"
      ]
     },
     "metadata": {},
     "output_type": "display_data"
    },
    {
     "name": "stdout",
     "output_type": "stream",
     "text": [
      "Epoch 9 Summary:\n",
      "  Backbone Loss (from Winner): 0.0253\n",
      "  Validation Loss: 0.2494\n",
      "  Validation Accuracy: 0.9439\n",
      "  Epoch Training Accuracies (Teachers):\n",
      "    head_1: 0.9942 <- EPOCH WINNER\n",
      "    head_2: 0.7282 \n",
      "    head_3: 0.9394 \n",
      "    head_4: 0.8596 \n",
      "  Updating all dropout rates for next epoch...\n",
      "\n",
      "--- Epoch 10/20 ---\n",
      "Current Teacher Rates: {'head_1': 0.6, 'head_2': 0.5, 'head_3': 0.7, 'head_4': 0.4}\n",
      "Current Dummy Head Rate: 0.5\n"
     ]
    },
    {
     "data": {
      "application/vnd.jupyter.widget-view+json": {
       "model_id": "803c7ea9213245f9a73b3e9d7a152f95",
       "version_major": 2,
       "version_minor": 0
      },
      "text/plain": [
       "Training Epoch:   0%|          | 0/38 [00:00<?, ?it/s]"
      ]
     },
     "metadata": {},
     "output_type": "display_data"
    },
    {
     "data": {
      "application/vnd.jupyter.widget-view+json": {
       "model_id": "5af99f15b9544da9befedb594bf0d57f",
       "version_major": 2,
       "version_minor": 0
      },
      "text/plain": [
       "Evaluating:   0%|          | 0/10 [00:00<?, ?it/s]"
      ]
     },
     "metadata": {},
     "output_type": "display_data"
    },
    {
     "name": "stdout",
     "output_type": "stream",
     "text": [
      "Epoch 10 Summary:\n",
      "  Backbone Loss (from Winner): 0.0326\n",
      "  Validation Loss: 0.1903\n",
      "  Validation Accuracy: 0.9596\n",
      "  Epoch Training Accuracies (Teachers):\n",
      "    head_1: 0.9903 <- EPOCH WINNER\n",
      "    head_2: 0.9206 \n",
      "    head_3: 0.7944 \n",
      "    head_4: 0.9602 \n",
      "  Updating all dropout rates for next epoch...\n",
      "\n",
      "--- Epoch 11/20 ---\n",
      "Current Teacher Rates: {'head_1': 0.4, 'head_2': 0.7, 'head_3': 0.5, 'head_4': 0.3}\n",
      "Current Dummy Head Rate: 0.7\n"
     ]
    },
    {
     "data": {
      "application/vnd.jupyter.widget-view+json": {
       "model_id": "422ff05c825d481e95f3d3c6d2d00b15",
       "version_major": 2,
       "version_minor": 0
      },
      "text/plain": [
       "Training Epoch:   0%|          | 0/38 [00:00<?, ?it/s]"
      ]
     },
     "metadata": {},
     "output_type": "display_data"
    },
    {
     "data": {
      "application/vnd.jupyter.widget-view+json": {
       "model_id": "df6d23f07eb744ae87b8aeacc60b1d7d",
       "version_major": 2,
       "version_minor": 0
      },
      "text/plain": [
       "Evaluating:   0%|          | 0/10 [00:00<?, ?it/s]"
      ]
     },
     "metadata": {},
     "output_type": "display_data"
    },
    {
     "name": "stdout",
     "output_type": "stream",
     "text": [
      "Epoch 11 Summary:\n",
      "  Backbone Loss (from Winner): 0.0214\n",
      "  Validation Loss: 0.1865\n",
      "  Validation Accuracy: 0.9580\n",
      "  Epoch Training Accuracies (Teachers):\n",
      "    head_1: 0.9940 <- EPOCH WINNER\n",
      "    head_2: 0.8175 \n",
      "    head_3: 0.9367 \n",
      "    head_4: 0.9750 \n",
      "  Updating all dropout rates for next epoch...\n",
      "\n",
      "--- Epoch 12/20 ---\n",
      "Current Teacher Rates: {'head_1': 0.7, 'head_2': 0.4, 'head_3': 0.5, 'head_4': 0.6}\n",
      "Current Dummy Head Rate: 0.4\n"
     ]
    },
    {
     "data": {
      "application/vnd.jupyter.widget-view+json": {
       "model_id": "f6b7b14f92bd4d7d9fc1e1f459f610cb",
       "version_major": 2,
       "version_minor": 0
      },
      "text/plain": [
       "Training Epoch:   0%|          | 0/38 [00:00<?, ?it/s]"
      ]
     },
     "metadata": {},
     "output_type": "display_data"
    },
    {
     "data": {
      "application/vnd.jupyter.widget-view+json": {
       "model_id": "5b608c29b3c6400fa7f94c6fe5f3f623",
       "version_major": 2,
       "version_minor": 0
      },
      "text/plain": [
       "Evaluating:   0%|          | 0/10 [00:00<?, ?it/s]"
      ]
     },
     "metadata": {},
     "output_type": "display_data"
    },
    {
     "name": "stdout",
     "output_type": "stream",
     "text": [
      "Epoch 12 Summary:\n",
      "  Backbone Loss (from Winner): 0.0506\n",
      "  Validation Loss: 0.2267\n",
      "  Validation Accuracy: 0.9580\n",
      "  Epoch Training Accuracies (Teachers):\n",
      "    head_1: 0.9856 <- EPOCH WINNER\n",
      "    head_2: 0.9732 \n",
      "    head_3: 0.9598 \n",
      "    head_4: 0.9262 \n",
      "  Updating all dropout rates for next epoch...\n",
      "\n",
      "--- Epoch 13/20 ---\n",
      "Current Teacher Rates: {'head_1': 0.7, 'head_2': 0.6, 'head_3': 0.5, 'head_4': 0.4}\n",
      "Current Dummy Head Rate: 0.4\n"
     ]
    },
    {
     "data": {
      "application/vnd.jupyter.widget-view+json": {
       "model_id": "eef67349a3e84ba49c2d1ad95a1dbf3f",
       "version_major": 2,
       "version_minor": 0
      },
      "text/plain": [
       "Training Epoch:   0%|          | 0/38 [00:00<?, ?it/s]"
      ]
     },
     "metadata": {},
     "output_type": "display_data"
    },
    {
     "data": {
      "application/vnd.jupyter.widget-view+json": {
       "model_id": "d2f7da6d86414400becea3d083575bbe",
       "version_major": 2,
       "version_minor": 0
      },
      "text/plain": [
       "Evaluating:   0%|          | 0/10 [00:00<?, ?it/s]"
      ]
     },
     "metadata": {},
     "output_type": "display_data"
    },
    {
     "name": "stdout",
     "output_type": "stream",
     "text": [
      "Epoch 13 Summary:\n",
      "  Backbone Loss (from Winner): 0.0270\n",
      "  Validation Loss: 0.2389\n",
      "  Validation Accuracy: 0.9547\n",
      "  Epoch Training Accuracies (Teachers):\n",
      "    head_1: 0.9924 <- EPOCH WINNER\n",
      "    head_2: 0.9629 \n",
      "    head_3: 0.9734 \n",
      "    head_4: 0.9837 \n",
      "  Updating all dropout rates for next epoch...\n",
      "\n",
      "--- Epoch 14/20 ---\n",
      "Current Teacher Rates: {'head_1': 0.3, 'head_2': 0.7, 'head_3': 0.4, 'head_4': 0.6}\n",
      "Current Dummy Head Rate: 0.4\n"
     ]
    },
    {
     "data": {
      "application/vnd.jupyter.widget-view+json": {
       "model_id": "9d356e855f3e465bb3217558211f9155",
       "version_major": 2,
       "version_minor": 0
      },
      "text/plain": [
       "Training Epoch:   0%|          | 0/38 [00:00<?, ?it/s]"
      ]
     },
     "metadata": {},
     "output_type": "display_data"
    },
    {
     "data": {
      "application/vnd.jupyter.widget-view+json": {
       "model_id": "419b1bbfae114d9c8c82d9210ecd3e59",
       "version_major": 2,
       "version_minor": 0
      },
      "text/plain": [
       "Evaluating:   0%|          | 0/10 [00:00<?, ?it/s]"
      ]
     },
     "metadata": {},
     "output_type": "display_data"
    },
    {
     "name": "stdout",
     "output_type": "stream",
     "text": [
      "Epoch 14 Summary:\n",
      "  Backbone Loss (from Winner): 0.0097\n",
      "  Validation Loss: 0.3096\n",
      "  Validation Accuracy: 0.9472\n",
      "  Epoch Training Accuracies (Teachers):\n",
      "    head_1: 0.9971 <- EPOCH WINNER\n",
      "    head_2: 0.9334 \n",
      "    head_3: 0.9866 \n",
      "    head_4: 0.9654 \n",
      "  Updating all dropout rates for next epoch...\n",
      "\n",
      "--- Epoch 15/20 ---\n",
      "Current Teacher Rates: {'head_1': 0.3, 'head_2': 0.7, 'head_3': 0.6, 'head_4': 0.5}\n",
      "Current Dummy Head Rate: 0.4\n"
     ]
    },
    {
     "data": {
      "application/vnd.jupyter.widget-view+json": {
       "model_id": "cef68db06b30459e9633ff5fe8a50fb5",
       "version_major": 2,
       "version_minor": 0
      },
      "text/plain": [
       "Training Epoch:   0%|          | 0/38 [00:00<?, ?it/s]"
      ]
     },
     "metadata": {},
     "output_type": "display_data"
    },
    {
     "data": {
      "application/vnd.jupyter.widget-view+json": {
       "model_id": "f0597a74da6e405f87f3f9ae8d1b2123",
       "version_major": 2,
       "version_minor": 0
      },
      "text/plain": [
       "Evaluating:   0%|          | 0/10 [00:00<?, ?it/s]"
      ]
     },
     "metadata": {},
     "output_type": "display_data"
    },
    {
     "name": "stdout",
     "output_type": "stream",
     "text": [
      "Epoch 15 Summary:\n",
      "  Backbone Loss (from Winner): 0.0105\n",
      "  Validation Loss: 0.2607\n",
      "  Validation Accuracy: 0.9514\n",
      "  Epoch Training Accuracies (Teachers):\n",
      "    head_1: 0.9969 <- EPOCH WINNER\n",
      "    head_2: 0.9379 \n",
      "    head_3: 0.9563 \n",
      "    head_4: 0.9792 \n",
      "  Updating all dropout rates for next epoch...\n",
      "\n",
      "--- Epoch 16/20 ---\n",
      "Current Teacher Rates: {'head_1': 0.7, 'head_2': 0.5, 'head_3': 0.6, 'head_4': 0.3}\n",
      "Current Dummy Head Rate: 0.5\n"
     ]
    },
    {
     "data": {
      "application/vnd.jupyter.widget-view+json": {
       "model_id": "b8b49aff4b6a4e32b7637d70208dc924",
       "version_major": 2,
       "version_minor": 0
      },
      "text/plain": [
       "Training Epoch:   0%|          | 0/38 [00:00<?, ?it/s]"
      ]
     },
     "metadata": {},
     "output_type": "display_data"
    },
    {
     "data": {
      "application/vnd.jupyter.widget-view+json": {
       "model_id": "332dc1f949a745d99a87e61a10f696a7",
       "version_major": 2,
       "version_minor": 0
      },
      "text/plain": [
       "Evaluating:   0%|          | 0/10 [00:00<?, ?it/s]"
      ]
     },
     "metadata": {},
     "output_type": "display_data"
    },
    {
     "name": "stdout",
     "output_type": "stream",
     "text": [
      "Epoch 16 Summary:\n",
      "  Backbone Loss (from Winner): 0.0125\n",
      "  Validation Loss: 0.2113\n",
      "  Validation Accuracy: 0.9571\n",
      "  Epoch Training Accuracies (Teachers):\n",
      "    head_1: 0.9946 <- EPOCH WINNER\n",
      "    head_2: 0.9899 \n",
      "    head_3: 0.9720 \n",
      "    head_4: 0.9944 \n",
      "  Updating all dropout rates for next epoch...\n",
      "\n",
      "--- Epoch 17/20 ---\n",
      "Current Teacher Rates: {'head_1': 0.3, 'head_2': 0.6, 'head_3': 0.5, 'head_4': 0.4}\n",
      "Current Dummy Head Rate: 0.5\n"
     ]
    },
    {
     "data": {
      "application/vnd.jupyter.widget-view+json": {
       "model_id": "4a73a78139604a19bbf1e8d6c37f9ae6",
       "version_major": 2,
       "version_minor": 0
      },
      "text/plain": [
       "Training Epoch:   0%|          | 0/38 [00:00<?, ?it/s]"
      ]
     },
     "metadata": {},
     "output_type": "display_data"
    },
    {
     "data": {
      "application/vnd.jupyter.widget-view+json": {
       "model_id": "48f3986ff16d4395bb3cd6d4f7801431",
       "version_major": 2,
       "version_minor": 0
      },
      "text/plain": [
       "Evaluating:   0%|          | 0/10 [00:00<?, ?it/s]"
      ]
     },
     "metadata": {},
     "output_type": "display_data"
    },
    {
     "name": "stdout",
     "output_type": "stream",
     "text": [
      "Epoch 17 Summary:\n",
      "  Backbone Loss (from Winner): 0.0082\n",
      "  Validation Loss: 0.2750\n",
      "  Validation Accuracy: 0.9497\n",
      "  Epoch Training Accuracies (Teachers):\n",
      "    head_1: 0.9979 <- EPOCH WINNER\n",
      "    head_2: 0.9911 \n",
      "    head_3: 0.9903 \n",
      "    head_4: 0.9944 \n",
      "  Updating all dropout rates for next epoch...\n",
      "\n",
      "--- Epoch 18/20 ---\n",
      "Current Teacher Rates: {'head_1': 0.5, 'head_2': 0.7, 'head_3': 0.6, 'head_4': 0.3}\n",
      "Current Dummy Head Rate: 0.4\n"
     ]
    },
    {
     "data": {
      "application/vnd.jupyter.widget-view+json": {
       "model_id": "491560954a0848019da6c023c399eaea",
       "version_major": 2,
       "version_minor": 0
      },
      "text/plain": [
       "Training Epoch:   0%|          | 0/38 [00:00<?, ?it/s]"
      ]
     },
     "metadata": {},
     "output_type": "display_data"
    },
    {
     "data": {
      "application/vnd.jupyter.widget-view+json": {
       "model_id": "1735fda9bad74f729a5f3e27fb02dcaa",
       "version_major": 2,
       "version_minor": 0
      },
      "text/plain": [
       "Evaluating:   0%|          | 0/10 [00:00<?, ?it/s]"
      ]
     },
     "metadata": {},
     "output_type": "display_data"
    },
    {
     "name": "stdout",
     "output_type": "stream",
     "text": [
      "Epoch 18 Summary:\n",
      "  Backbone Loss (from Winner): 0.0038\n",
      "  Validation Loss: 0.2438\n",
      "  Validation Accuracy: 0.9571\n",
      "  Epoch Training Accuracies (Teachers):\n",
      "    head_1: 0.9990 <- EPOCH WINNER\n",
      "    head_2: 0.9724 \n",
      "    head_3: 0.9796 \n",
      "    head_4: 0.9953 \n",
      "  Updating all dropout rates for next epoch...\n",
      "\n",
      "--- Epoch 19/20 ---\n",
      "Current Teacher Rates: {'head_1': 0.5, 'head_2': 0.4, 'head_3': 0.7, 'head_4': 0.6}\n",
      "Current Dummy Head Rate: 0.3\n"
     ]
    },
    {
     "data": {
      "application/vnd.jupyter.widget-view+json": {
       "model_id": "d4e08152deba421ba4df9eb4cd2fe9ae",
       "version_major": 2,
       "version_minor": 0
      },
      "text/plain": [
       "Training Epoch:   0%|          | 0/38 [00:00<?, ?it/s]"
      ]
     },
     "metadata": {},
     "output_type": "display_data"
    },
    {
     "data": {
      "application/vnd.jupyter.widget-view+json": {
       "model_id": "cb3e34d9b48d46d7a11223d2633538ea",
       "version_major": 2,
       "version_minor": 0
      },
      "text/plain": [
       "Evaluating:   0%|          | 0/10 [00:00<?, ?it/s]"
      ]
     },
     "metadata": {},
     "output_type": "display_data"
    },
    {
     "name": "stdout",
     "output_type": "stream",
     "text": [
      "Epoch 19 Summary:\n",
      "  Backbone Loss (from Winner): 0.0124\n",
      "  Validation Loss: 0.2067\n",
      "  Validation Accuracy: 0.9563\n",
      "  Epoch Training Accuracies (Teachers):\n",
      "    head_1: 0.9969 <- EPOCH WINNER\n",
      "    head_2: 0.9942 \n",
      "    head_3: 0.9538 \n",
      "    head_4: 0.9773 \n",
      "  Updating all dropout rates for next epoch...\n",
      "\n",
      "--- Epoch 20/20 ---\n",
      "Current Teacher Rates: {'head_1': 0.4, 'head_2': 0.3, 'head_3': 0.7, 'head_4': 0.5}\n",
      "Current Dummy Head Rate: 0.6\n"
     ]
    },
    {
     "data": {
      "application/vnd.jupyter.widget-view+json": {
       "model_id": "e78d472ddd4c40acaf9536d38340918c",
       "version_major": 2,
       "version_minor": 0
      },
      "text/plain": [
       "Training Epoch:   0%|          | 0/38 [00:00<?, ?it/s]"
      ]
     },
     "metadata": {},
     "output_type": "display_data"
    },
    {
     "data": {
      "application/vnd.jupyter.widget-view+json": {
       "model_id": "1491961aad2445d2b1ed59948a82a586",
       "version_major": 2,
       "version_minor": 0
      },
      "text/plain": [
       "Evaluating:   0%|          | 0/10 [00:00<?, ?it/s]"
      ]
     },
     "metadata": {},
     "output_type": "display_data"
    },
    {
     "name": "stdout",
     "output_type": "stream",
     "text": [
      "Epoch 20 Summary:\n",
      "  Backbone Loss (from Winner): 0.0100\n",
      "  Validation Loss: 0.2548\n",
      "  Validation Accuracy: 0.9505\n",
      "  Epoch Training Accuracies (Teachers):\n",
      "    head_1: 0.9965 <- EPOCH WINNER\n",
      "    head_2: 0.9961 \n",
      "    head_3: 0.9555 \n",
      "    head_4: 0.9893 \n",
      "  Updating all dropout rates for next epoch...\n",
      "\n",
      "Training complete. Loading best model for test evaluation...\n"
     ]
    },
    {
     "data": {
      "application/vnd.jupyter.widget-view+json": {
       "model_id": "1faf70cdc5654f6c95e750d739a74ca8",
       "version_major": 2,
       "version_minor": 0
      },
      "text/plain": [
       "Evaluating:   0%|          | 0/31 [00:00<?, ?it/s]"
      ]
     },
     "metadata": {},
     "output_type": "display_data"
    },
    {
     "name": "stdout",
     "output_type": "stream",
     "text": [
      "\n",
      "--- RESULTS FOR TARGET DOMAIN: SKETCH ---\n",
      "  Test Accuracy: 0.5663\n",
      "\n",
      "\n",
      "ALL EMA LODO EXPERIMENTS COMPLETE\n"
     ]
    },
    {
     "ename": "",
     "evalue": "",
     "output_type": "error",
     "traceback": [
      "\u001b[1;31mThe Kernel crashed while executing code in the current cell or a previous cell. \n",
      "\u001b[1;31mPlease review the code in the cell(s) to identify a possible cause of the failure. \n",
      "\u001b[1;31mClick <a href='https://aka.ms/vscodeJupyterKernelCrash'>here</a> for more info. \n",
      "\u001b[1;31mView Jupyter <a href='command:jupyter.viewOutput'>log</a> for further details."
     ]
    }
   ],
   "source": [
    "# =================================================================================\n",
    "# SECTION 5: THE MAIN EXPERIMENT LOOP (FINAL EMA VERSION)\n",
    "# =================================================================================\n",
    "\n",
    "config = Config()\n",
    "lodo_histories = {} \n",
    "\n",
    "for target_domain in config.DOMAINS:\n",
    "    print(f\"==============================================================\")\n",
    "    print(f\"  STARTING LODO EXPERIMENT: Target Domain = {target_domain.upper()}\")\n",
    "    print(f\"==============================================================\")\n",
    "    \n",
    "    train_loader, val_loader, test_loader = get_dataloaders(\n",
    "        root_dir=config.DATA_DIR, target_domain=target_domain,\n",
    "        all_domains=config.DOMAINS, batch_size=config.BATCH_SIZE, seed=config.SEED\n",
    "    )\n",
    "    \n",
    "    current_dropout_rates = list(np.random.choice(\n",
    "        config.DROPOUT_OPTIONS, config.NUM_HEADS, replace=False\n",
    "    ))\n",
    "    current_dummy_rate = np.random.choice(config.DROPOUT_OPTIONS)\n",
    "    \n",
    "    model = DistillationViT(\n",
    "        model_name=config.MODEL_NAME, num_classes=config.NUM_CLASSES,\n",
    "        dropout_rates=current_dropout_rates,\n",
    "        dummy_dropout_rate=current_dummy_rate\n",
    "    ).to(config.DEVICE)\n",
    "    \n",
    "    optimizer = torch.optim.AdamW(\n",
    "        list(model.vit_backbone.parameters()) + list(model.heads.parameters()), \n",
    "        lr=config.LEARNING_RATE\n",
    "    )\n",
    "    \n",
    "    best_val_accuracy = 0.0\n",
    "    best_model_state = None\n",
    "    history = defaultdict(list)\n",
    "    \n",
    "    for epoch in range(config.NUM_EPOCHS):\n",
    "        print(f\"\\n--- Epoch {epoch+1}/{config.NUM_EPOCHS} ---\")\n",
    "        print(f\"Current Teacher Rates: { {f'head_{i+1}': rate for i, rate in enumerate(current_dropout_rates)} }\")\n",
    "        print(f\"Current Dummy Head Rate: {current_dummy_rate}\")\n",
    "\n",
    "        train_metrics = train_one_epoch(model, train_loader, optimizer, config.DEVICE)\n",
    "        val_metrics = evaluate(model, val_loader, config.DEVICE)\n",
    "        \n",
    "        print(f\"Epoch {epoch+1} Summary:\")\n",
    "        print(f\"  Backbone Loss (from Winner): {train_metrics['avg_backbone_loss']:.4f}\")\n",
    "        print(f\"  Validation Loss: {val_metrics['avg_loss']:.4f}\")\n",
    "        print(f\"  Validation Accuracy: {val_metrics['accuracy']:.4f}\")\n",
    "        \n",
    "        print(f\"  Epoch Training Accuracies (Teachers):\")\n",
    "        epoch_winner_head_name = max(train_metrics['head_accuracies'], key=train_metrics['head_accuracies'].get)\n",
    "        for name, acc in sorted(train_metrics['head_accuracies'].items()):\n",
    "            marker = \"<- EPOCH WINNER\" if name == epoch_winner_head_name else \"\"\n",
    "            print(f\"    {name}: {acc:.4f} {marker}\")\n",
    "        \n",
    "        history[\"backbone_loss\"].append(train_metrics['avg_backbone_loss'])\n",
    "        history[\"val_loss\"].append(val_metrics['avg_loss'])\n",
    "        history[\"val_accuracy\"].append(val_metrics['accuracy'])\n",
    "\n",
    "        if val_metrics['accuracy'] > best_val_accuracy:\n",
    "            print(f\"  New best validation accuracy! Saving model state.\")\n",
    "            best_val_accuracy = val_metrics['accuracy']\n",
    "            best_model_state = copy.deepcopy(model.state_dict())\n",
    "            \n",
    "        print(\"  Updating all dropout rates for next epoch...\")\n",
    "        current_dropout_rates = list(np.random.choice(config.DROPOUT_OPTIONS, config.NUM_HEADS, replace=False))\n",
    "        model.update_dropout_rates(current_dropout_rates)\n",
    "        \n",
    "        current_dummy_rate = np.random.choice(config.DROPOUT_OPTIONS)\n",
    "        model.update_dummy_dropout_rate(current_dummy_rate)\n",
    "\n",
    "\n",
    "    lodo_histories[target_domain] = history\n",
    "\n",
    "    print(\"\\nTraining complete. Loading best model for test evaluation...\")\n",
    "    model.load_state_dict(best_model_state)\n",
    "    test_metrics = evaluate(model, test_loader, config.DEVICE)\n",
    "    \n",
    "    print(f\"\\n--- RESULTS FOR TARGET DOMAIN: {target_domain.upper()} ---\")\n",
    "    print(f\"  Test Accuracy: {test_metrics['accuracy']:.4f}\")\n",
    "    \n",
    "    experiment_results.append({\n",
    "        \"target_domain\": target_domain,\n",
    "        \"test_accuracy\": test_metrics['accuracy'],\n",
    "        \"best_val_accuracy\": best_val_accuracy\n",
    "    })\n",
    "\n",
    "print(\"\\n\\nALL EMA LODO EXPERIMENTS COMPLETE\")"
   ]
  },
  {
   "cell_type": "code",
   "execution_count": null,
   "metadata": {},
   "outputs": [
    {
     "name": "stdout",
     "output_type": "stream",
     "text": [
      "\n",
      "======================================================================\n",
      "--- Visualizing Component Loss Curves ---\n",
      "======================================================================\n"
     ]
    }
   ],
   "source": [
    "# =================================================================================\n",
    "# SECTION 7: VISUALIZE COMPONENT LOSS CURVES\n",
    "# =================================================================================\n",
    "print(\"\\n\" + \"=\"*70)\n",
    "print(\"--- Visualizing Component Loss Curves ---\")\n",
    "print(\"=\"*70)\n",
    "\n",
    "for domain, history in lodo_histories.items():\n",
    "    epochs = range(1, config.NUM_EPOCHS + 1)\n",
    "    \n",
    "    fig, ax1 = plt.subplots(figsize=(14, 8))\n",
    "    \n",
    "    # Plotting losses on the primary y-axis\n",
    "    ax1.set_xlabel('Epochs', fontsize=14)\n",
    "    ax1.set_ylabel('Loss', fontsize=14, color='tab:blue')\n",
    "    \n",
    "    # Plot the primary losses\n",
    "    p1, = ax1.plot(epochs, history['backbone_loss'], 'r-', linewidth=2.5, label='Backbone Loss')\n",
    "    p2, = ax1.plot(epochs, history['dummy_loss'], 'b-', linewidth=2.5, label='Dummy Head (Distillation) Loss')\n",
    "    p3, = ax1.plot(epochs, history['val_loss'], 'k:', linewidth=2.5, label='Validation Loss')\n",
    "    \n",
    "    # Plot the competing head losses\n",
    "    colors = ['#66c2a5', '#fc8d62', '#8da0cb', '#e78ac3'] # Colorblind-friendly palette\n",
    "    head_plots = []\n",
    "    for i in range(config.NUM_HEADS):\n",
    "        p, = ax1.plot(epochs, history[f'head_{i+1}_loss'], linestyle='--', color=colors[i], label=f'Head {i+1} Loss')\n",
    "        head_plots.append(p)\n",
    "    \n",
    "    ax1.tick_params(axis='y', labelcolor='tab:blue')\n",
    "    \n",
    "    # Creating a secondary y-axis for accuracy\n",
    "    ax2 = ax1.twinx()\n",
    "    ax2.set_ylabel('Accuracy', fontsize=14, color='tab:green')\n",
    "    p_acc, = ax2.plot(epochs, history['val_accuracy'], 'g-s', linewidth=2, markersize=8, label='Validation Accuracy')\n",
    "    ax2.tick_params(axis='y', labelcolor='tab:green')\n",
    "\n",
    "    plt.title(f'Learning & Loss Dynamics (Target Domain: {domain.upper()})', fontsize=18, fontweight='bold')\n",
    "    \n",
    "    # Combined legend\n",
    "    all_plots = [p1, p2, p3] + head_plots + [p_acc]\n",
    "    ax1.legend(all_plots, [p.get_label() for p in all_plots], loc='upper center', bbox_to_anchor=(0.5, -0.1), fancybox=True, shadow=True, ncol=4, fontsize=12)\n",
    "    \n",
    "    fig.tight_layout(rect=[0, 0.05, 1, 1])\n",
    "    plt.show()"
   ]
  },
  {
   "cell_type": "code",
   "execution_count": null,
   "metadata": {
    "execution": {
     "iopub.execute_input": "2025-10-10T18:52:06.403970Z",
     "iopub.status.busy": "2025-10-10T18:52:06.403200Z",
     "iopub.status.idle": "2025-10-10T18:52:06.625604Z",
     "shell.execute_reply": "2025-10-10T18:52:06.624810Z",
     "shell.execute_reply.started": "2025-10-10T18:52:06.403944Z"
    },
    "trusted": true
   },
   "outputs": [
    {
     "name": "stdout",
     "output_type": "stream",
     "text": [
      "--- Final Experiment Results ---\n",
      "  target_domain  test_accuracy  best_val_accuracy  num_epochs  batch_size  learning_rate                      model_name\n",
      "0  art_painting       0.799316           0.913782           5         128         0.0001  WinKawaks/vit-tiny-patch16-224\n",
      "1       cartoon       0.738055           0.915033           5         128         0.0001  WinKawaks/vit-tiny-patch16-224\n",
      "2         photo       0.958683           0.911111           5         128         0.0001  WinKawaks/vit-tiny-patch16-224\n",
      "3        sketch       0.614915           0.949711           5         128         0.0001  WinKawaks/vit-tiny-patch16-224\n",
      "\n",
      "==================================================\n",
      "Average Test Accuracy Across All Domains: 0.7777\n",
      "==================================================\n"
     ]
    },
    {
     "name": "stderr",
     "output_type": "stream",
     "text": [
      "C:\\Users\\Haseeb\\AppData\\Local\\Temp\\ipykernel_36844\\2340688840.py:40: FutureWarning: \n",
      "\n",
      "Passing `palette` without assigning `hue` is deprecated and will be removed in v0.14.0. Assign the `x` variable to `hue` and set `legend=False` for the same effect.\n",
      "\n",
      "  sns.barplot(\n"
     ]
    },
    {
     "data": {
      "image/png": "[encoded data removed]",
      "text/plain": [
       "<Figure size 1000x600 with 1 Axes>"
      ]
     },
     "metadata": {},
     "output_type": "display_data"
    },
    {
     "name": "stdout",
     "output_type": "stream",
     "text": [
      "\n",
      "======================================================================\n",
      "--- Dictionary for Final Plotting ---\n",
      "# Copy the dictionary below and paste it into your final analysis notebook.\n",
      "evolutionary_results = {\n",
      "    'target_domain': ['art_painting', 'cartoon', 'photo', 'sketch'],\n",
      "    'test_accuracy': [0.7993, 0.7381, 0.9587, 0.6149]\n",
      "}\n",
      "======================================================================\n",
      "\n",
      "--- Experiment Complete ---\n"
     ]
    }
   ],
   "source": [
    "# =================================================================================\n",
    "# SECTION 6: ANALYSIS & VISUALIZATION (with Dictionary Output)\n",
    "# =================================================================================\n",
    "# Now that all experiments are complete, we'll process the results\n",
    "# and create visualizations to understand the performance of our method.\n",
    "# ---------------------------------------------------------------------------------\n",
    "\n",
    "# Add this magic command to ensure plots are displayed in the notebook\n",
    "%matplotlib inline\n",
    "import matplotlib.pyplot as plt\n",
    "import seaborn as sns\n",
    "\n",
    "\n",
    "# ---------------------------------------------------------------------------------\n",
    "# 6.1: DISPLAY RESULTS IN A TABLE\n",
    "# ---------------------------------------------------------------------------------\n",
    "print(\"--- Final Experiment Results ---\")\n",
    "\n",
    "results_df = pd.DataFrame(experiment_results)\n",
    "column_order = [\n",
    "    \"target_domain\", \"test_accuracy\", \"best_val_accuracy\", \"num_epochs\",\n",
    "    \"batch_size\", \"learning_rate\", \"model_name\"\n",
    "]\n",
    "existing_columns = [col for col in column_order if col in results_df.columns]\n",
    "results_df = results_df[existing_columns]\n",
    "average_accuracy = results_df['test_accuracy'].mean()\n",
    "\n",
    "print(results_df.to_string())\n",
    "print(\"\\n\" + \"=\"*50)\n",
    "print(f\"Average Test Accuracy Across All Domains: {average_accuracy:.4f}\")\n",
    "print(\"=\"*50)\n",
    "\n",
    "\n",
    "# ---------------------------------------------------------------------------------\n",
    "# 6.2: VISUALIZE THE RESULTS\n",
    "# ---------------------------------------------------------------------------------\n",
    "plt.style.use('seaborn-v0_8-whitegrid')\n",
    "fig, ax = plt.subplots(1, 1, figsize=(10, 6))\n",
    "\n",
    "sns.barplot(\n",
    "    data=results_df, x='target_domain', y='test_accuracy', ax=ax, palette='viridis'\n",
    ")\n",
    "\n",
    "for index, row in results_df.iterrows():\n",
    "    ax.text(index, row['test_accuracy'] + 0.01, f\"{row['test_accuracy']:.2%}\",\n",
    "            color='black', ha=\"center\", fontsize=12)\n",
    "    \n",
    "ax.axhline(average_accuracy, ls='--', color='red', label=f'Average Accuracy ({average_accuracy:.2%})')\n",
    "\n",
    "ax.set_title('Model Performance on Unseen Target Domains (LODO)', fontsize=16, pad=20)\n",
    "ax.set_xlabel('Target (Unseen) Domain', fontsize=12)\n",
    "ax.set_ylabel('Test Accuracy', fontsize=12)\n",
    "ax.set_ylim(0, 1.0)\n",
    "ax.legend()\n",
    "\n",
    "plt.tight_layout()\n",
    "plt.show()\n",
    "\n",
    "# ---------------------------------------------------------------------------------\n",
    "### NEW SECTION ###\n",
    "# 6.3: GENERATE COPY-PASTE DICTIONARY FOR FINAL PLOTTING\n",
    "# ---------------------------------------------------------------------------------\n",
    "print(\"\\n\" + \"=\"*70)\n",
    "print(\"--- Dictionary for Final Plotting ---\")\n",
    "print(\"# Copy the dictionary below and paste it into your final analysis notebook.\")\n",
    "\n",
    "# Determine the variable name based on the notebook (you can adjust this)\n",
    "# For the baseline notebook, you'd want 'baseline_results'.\n",
    "# For the evolutionary notebook, you'd want 'evolutionary_results'.\n",
    "method_name = \"my_method_results\" # Generic name\n",
    "if \"baseline\" in os.getcwd(): # Simple check if 'baseline' is in the notebook path\n",
    "    method_name = \"baseline_results\"\n",
    "elif \"drop-out\" in os.getcwd():\n",
    "    method_name = \"evolutionary_results\"\n",
    "    \n",
    "# Extract the lists from the DataFrame\n",
    "domain_list = results_df['target_domain'].tolist()\n",
    "accuracy_list = [round(acc, 4) for acc in results_df['test_accuracy'].tolist()]\n",
    "\n",
    "# Print in the desired format\n",
    "print(f\"{method_name} = {{\")\n",
    "print(f\"    'target_domain': {domain_list},\")\n",
    "print(f\"    'test_accuracy': {accuracy_list}\")\n",
    "print(f\"}}\")\n",
    "print(\"=\"*70)\n",
    "\n",
    "\n",
    "print(\"\\n--- Experiment Complete ---\")"
   ]
  },
  {
   "cell_type": "code",
   "execution_count": null,
   "metadata": {},
   "outputs": [
    {
     "data": {
      "image/png": "[encoded data removed]",
      "text/plain": [
       "<Figure size 1400x800 with 1 Axes>"
      ]
     },
     "metadata": {},
     "output_type": "display_data"
    },
    {
     "name": "stdout",
     "output_type": "stream",
     "text": [
      "\n",
      "--- Average Performance Summary ---\n",
      "Average Baseline Accuracy: 75.61%\n",
      "Average Evolutionary Dropout Accuracy: 77.77%\n"
     ]
    }
   ],
   "source": [
    "# =================================================================================\n",
    "# SECTION 7: COMPARATIVE ANALYSIS & VISUALIZATION (ACADEMIC STYLE - FINAL FIX)\n",
    "# =================================================================================\n",
    "\n",
    "import pandas as pd\n",
    "import matplotlib.pyplot as plt\n",
    "import seaborn as sns\n",
    "\n",
    "# --- 7.1: COMBINE EXPERIMENT RESULTS ---\n",
    "baseline_results = {\n",
    "    'target_domain': ['art_painting', 'cartoon', 'photo', 'sketch'],\n",
    "    'test_accuracy': [0.8213, 0.7082, 0.9060, 0.5887]\n",
    "}\n",
    "# Using the results from your successful Option 4 run\n",
    "evolutionary_results = {\n",
    "    'target_domain': ['art_painting', 'cartoon', 'photo', 'sketch'],\n",
    "    'test_accuracy': [0.7993, 0.7381, 0.9587, 0.6149]\n",
    "}\n",
    "baseline_df = pd.DataFrame(baseline_results)\n",
    "baseline_df['method_name'] = 'Baseline'\n",
    "evolutionary_df = pd.DataFrame(evolutionary_results)\n",
    "evolutionary_df['method_name'] = 'Train All'\n",
    "combined_df = pd.concat([baseline_df, evolutionary_df])\n",
    "\n",
    "# --- 7.2: CREATE THE GROUPED BAR CHART (ROBUST VERSION) ---\n",
    "\n",
    "sns.set_theme(style=\"whitegrid\")\n",
    "plt.rcParams['font.family'] = 'serif'\n",
    "fig, ax = plt.subplots(figsize=(14, 8))\n",
    "\n",
    "custom_palette = {'Baseline': '#4B6A9A', 'Train All': '#66C2A5'}\n",
    "\n",
    "barplot = sns.barplot(\n",
    "    data=combined_df,\n",
    "    x='target_domain',\n",
    "    y='test_accuracy',\n",
    "    hue='method_name',\n",
    "    ax=ax,\n",
    "    palette=custom_palette,\n",
    "    edgecolor='black'\n",
    ")\n",
    "\n",
    "### THE FIX IS HERE ###\n",
    "# Use the robust 'containers' method to apply patterns correctly.\n",
    "\n",
    "# ax.containers[0] is the container for the first hue category (Baseline)\n",
    "# ax.containers[1] is the container for the second hue category (Evolutionary Dropout)\n",
    "\n",
    "# We want to add a pattern to the second container's bars.\n",
    "for bar in ax.containers[1]:\n",
    "    bar.set_hatch('..')\n",
    "\n",
    "# We also need to apply the pattern to the corresponding legend handle.\n",
    "# The legend handles are created in the same order.\n",
    "ax.legend_.legend_handles[1].set_hatch('..')\n",
    "\n",
    "# --- Add annotations (text on bars) ---\n",
    "for p in ax.patches:\n",
    "    if p.get_height() > 0:\n",
    "        ax.annotate(\n",
    "            f\"{p.get_height():.2%}\",\n",
    "            (p.get_x() + p.get_width() / 2., p.get_height()),\n",
    "            ha='center', va='center',\n",
    "            xytext=(0, 10),\n",
    "            textcoords='offset points',\n",
    "            fontsize=14,\n",
    "            fontweight='bold',\n",
    "            color='black'\n",
    "        )\n",
    "\n",
    "# --- Final plot styling ---\n",
    "ax.set_title('Model Comparison on Unseen Target Domains (LODO)', fontsize=22, fontweight='bold', pad=20)\n",
    "ax.set_xlabel('Target (Unseen) Domain', fontsize=18, fontweight='bold')\n",
    "ax.set_ylabel('Top-1 Test Accuracy (%)', fontsize=18, fontweight='bold')\n",
    "ax.set_ylim(0, 1.1)\n",
    "ax.tick_params(axis='both', which='major', labelsize=14)\n",
    "ax.get_yaxis().set_major_formatter(plt.FuncFormatter(lambda x, p: f'{x:.0%}'))\n",
    "\n",
    "legend = ax.get_legend()\n",
    "plt.setp(legend.get_title(), fontweight='bold')\n",
    "\n",
    "sns.despine()\n",
    "plt.tight_layout()\n",
    "plt.show()\n",
    "\n",
    "# --- Print the final summary table ---\n",
    "avg_baseline = baseline_df['test_accuracy'].mean()\n",
    "avg_evolutionary = evolutionary_df['test_accuracy'].mean()\n",
    "print(\"\\n--- Average Performance Summary ---\")\n",
    "print(f\"Average Baseline Accuracy: {avg_baseline:.2%}\")\n",
    "print(f\"Average Evolutionary Dropout Accuracy: {avg_evolutionary:.2%}\")"
   ]
  }
 ],
 "metadata": {
  "kaggle": {
   "accelerator": "nvidiaTeslaT4",
   "dataSources": [
    {
     "datasetId": 8446344,
     "sourceId": 13323122,
     "sourceType": "datasetVersion"
    }
   ],
   "dockerImageVersionId": 31154,
   "isGpuEnabled": true,
   "isInternetEnabled": true,
   "language": "python",
   "sourceType": "notebook"
  },
  "kernelspec": {
   "display_name": "Python 3",
   "language": "python",
   "name": "python3"
  },
  "language_info": {
   "codemirror_mode": {
    "name": "ipython",
    "version": 3
   },
   "file_extension": ".py",
   "mimetype": "text/x-python",
   "name": "python",
   "nbconvert_exporter": "python",
   "pygments_lexer": "ipython3",
   "version": "3.11.9"
  }
 },
 "nbformat": 4,
 "nbformat_minor": 4
}
