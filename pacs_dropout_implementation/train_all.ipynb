{
 "cells": [
  {
   "cell_type": "code",
   "execution_count": 1,
   "metadata": {
    "_cell_guid": "b1076dfc-b9ad-4769-8c92-a6c4dae69d19",
    "_uuid": "8f2839f25d086af736a60e9eeb907d3b93b6e0e5",
    "execution": {
     "iopub.execute_input": "2025-10-10T18:41:13.345758Z",
     "iopub.status.busy": "2025-10-10T18:41:13.345233Z",
     "iopub.status.idle": "2025-10-10T18:41:13.352583Z",
     "shell.execute_reply": "2025-10-10T18:41:13.351859Z",
     "shell.execute_reply.started": "2025-10-10T18:41:13.345732Z"
    },
    "trusted": true
   },
   "outputs": [],
   "source": [
    "# =================================================================================\n",
    "# SECTION 1: PROJECT SCAFFOLDING & CONFIGURATION\n",
    "# =================================================================================\n",
    "\n",
    "# ---------------------------------------------------------------------------------\n",
    "# 1.1: IMPORTS\n",
    "# All necessary libraries for the project.\n",
    "# ---------------------------------------------------------------------------------\n",
    "%matplotlib inline \n",
    "import os\n",
    "import numpy as np\n",
    "import pandas as pd\n",
    "import torch\n",
    "import torch.nn as nn\n",
    "from torch.utils.data import Dataset, DataLoader\n",
    "from torchvision import transforms\n",
    "from transformers import ViTModel, ViTConfig\n",
    "from PIL import Image\n",
    "from tqdm.notebook import tqdm\n",
    "import matplotlib.pyplot as plt\n",
    "import seaborn as sns\n",
    "from sklearn.model_selection import StratifiedKFold # We might use this later for robustness\n",
    "from collections import defaultdict\n",
    "import copy\n",
    "\n",
    "# Set a seed for reproducibility\n",
    "torch.manual_seed(42)\n",
    "np.random.seed(42)"
   ]
  },
  {
   "cell_type": "code",
   "execution_count": 2,
   "metadata": {
    "execution": {
     "iopub.execute_input": "2025-10-10T18:41:13.354688Z",
     "iopub.status.busy": "2025-10-10T18:41:13.353877Z",
     "iopub.status.idle": "2025-10-10T18:41:13.385781Z",
     "shell.execute_reply": "2025-10-10T18:41:13.385144Z",
     "shell.execute_reply.started": "2025-10-10T18:41:13.354663Z"
    },
    "trusted": true
   },
   "outputs": [
    {
     "name": "stdout",
     "output_type": "stream",
     "text": [
      "--- Project Configuration ---\n",
      "DATA_DIR: D:\\Salaar Masood\\pacs-dataset\\pacs_data\n",
      "DOMAINS: ['art_painting', 'cartoon', 'photo', 'sketch']\n",
      "MODEL_NAME: WinKawaks/vit-tiny-patch16-224\n",
      "NUM_CLASSES: 7\n",
      "NUM_HEADS: 4\n",
      "DROPOUT_OPTIONS: [0.1, 0.2, 0.3, 0.4, 0.5, 0.7]\n",
      "BATCH_SIZE: 128\n",
      "NUM_EPOCHS: 10\n",
      "LEARNING_RATE: 0.0001\n",
      "OPTIMIZER: AdamW\n",
      "DEVICE: cuda\n",
      "SEED: 42\n",
      "---------------------------\n",
      "Device: cuda\n",
      "\n",
      "Project scaffolding is complete. Ready for Section 2: Data Loading.\n"
     ]
    }
   ],
   "source": [
    "\n",
    "# ---------------------------------------------------------------------------------\n",
    "# 1.2: CONFIGURATION CLASS\n",
    "# This class holds all hyperparameters and settings in one place.\n",
    "# ---------------------------------------------------------------------------------\n",
    "class Config:\n",
    "    # --- Data Paths and Domains ---\n",
    "    # In your Config class\n",
    "    DATA_DIR = r\"D:\\Salaar Masood\\pacs-dataset\\pacs_data\"\n",
    "    DOMAINS = [\"art_painting\", \"cartoon\", \"photo\", \"sketch\"]\n",
    "    \n",
    "    # --- Model & Architecture ---\n",
    "    # In your Config class\n",
    "    MODEL_NAME = \"WinKawaks/vit-tiny-patch16-224\"\n",
    "    NUM_CLASSES = 7\n",
    "    NUM_HEADS = 4\n",
    "    DROPOUT_OPTIONS = [0.1, 0.2, 0.3, 0.4, 0.5,0.7]\n",
    "    \n",
    "    # --- Training Hyperparameters ---\n",
    "    BATCH_SIZE = 128\n",
    "    NUM_EPOCHS = 10\n",
    "    LEARNING_RATE = 1e-4  # A good starting point for fine-tuning transformers\n",
    "    OPTIMIZER = \"AdamW\"   # AdamW is generally preferred for transformers\n",
    "    \n",
    "    # --- Hardware & Reproducibility ---\n",
    "    DEVICE = \"cuda\" if torch.cuda.is_available() else \"cpu\"\n",
    "    SEED = 42\n",
    "\n",
    "# Instantiate the config\n",
    "config = Config()\n",
    "\n",
    "# Print out the configuration to verify\n",
    "print(\"--- Project Configuration ---\")\n",
    "for key, value in config.__class__.__dict__.items():\n",
    "    if not key.startswith('__'):\n",
    "        print(f\"{key}: {value}\")\n",
    "print(\"---------------------------\")\n",
    "print(f\"Device: {config.DEVICE}\")\n",
    "\n",
    "# ---------------------------------------------------------------------------------\n",
    "# 1.3: RESULTS TRACKER\n",
    "# A list to store the final results from each LODO experiment run.\n",
    "# This will be converted to a DataFrame at the end for analysis.\n",
    "# ---------------------------------------------------------------------------------\n",
    "experiment_results = []\n",
    "\n",
    "print(\"\\nProject scaffolding is complete. Ready for Section 2: Data Loading.\")"
   ]
  },
  {
   "cell_type": "code",
   "execution_count": 3,
   "metadata": {
    "execution": {
     "iopub.execute_input": "2025-10-10T18:41:13.386821Z",
     "iopub.status.busy": "2025-10-10T18:41:13.386565Z",
     "iopub.status.idle": "2025-10-10T18:41:13.415060Z",
     "shell.execute_reply": "2025-10-10T18:41:13.414321Z",
     "shell.execute_reply.started": "2025-10-10T18:41:13.386797Z"
    },
    "trusted": true
   },
   "outputs": [],
   "source": [
    "# =================================================================================\n",
    "# SECTION 2: DATA LOADING & PREPROCESSING\n",
    "# =================================================================================\n",
    "\n",
    "# ---------------------------------------------------------------------------------\n",
    "# 2.1: IMAGE TRANSFORMATIONS\n",
    "# Define the transformations for training (with augmentation) and validation/testing.\n",
    "# ---------------------------------------------------------------------------------\n",
    "\n",
    "# The ViT model was pre-trained on images of size 224x224\n",
    "IMG_SIZE = 224\n",
    "\n",
    "# The normalization values are standard for many pre-trained models\n",
    "# but it's good practice to use the ones specified by the model's authors if available.\n",
    "# For ViT, a simple (0.5, 0.5, 0.5) normalization is common.\n",
    "data_transforms = {\n",
    "    'train': transforms.Compose([\n",
    "        transforms.Resize((IMG_SIZE, IMG_SIZE)),\n",
    "        transforms.RandomHorizontalFlip(), # A simple data augmentation technique\n",
    "        transforms.ToTensor(),\n",
    "        transforms.Normalize(mean=[0.5, 0.5, 0.5], std=[0.5, 0.5, 0.5])\n",
    "    ]),\n",
    "    'val': transforms.Compose([\n",
    "        transforms.Resize((IMG_SIZE, IMG_SIZE)),\n",
    "        transforms.ToTensor(),\n",
    "        transforms.Normalize(mean=[0.5, 0.5, 0.5], std=[0.5, 0.5, 0.5])\n",
    "    ]),\n",
    "}\n"
   ]
  },
  {
   "cell_type": "code",
   "execution_count": 4,
   "metadata": {
    "execution": {
     "iopub.execute_input": "2025-10-10T18:41:13.416535Z",
     "iopub.status.busy": "2025-10-10T18:41:13.416345Z",
     "iopub.status.idle": "2025-10-10T18:41:13.445670Z",
     "shell.execute_reply": "2025-10-10T18:41:13.445083Z",
     "shell.execute_reply.started": "2025-10-10T18:41:13.416520Z"
    },
    "trusted": true
   },
   "outputs": [],
   "source": [
    "# ---------------------------------------------------------------------------------\n",
    "# 2.2: CUSTOM PACS DATASET CLASS\n",
    "# This class will read the images and labels from our specific folder structure.\n",
    "# ---------------------------------------------------------------------------------\n",
    "class PACSDataset(Dataset):\n",
    "    def __init__(self, root_dir, domains, transform=None):\n",
    "        \"\"\"\n",
    "        Args:\n",
    "            root_dir (string): Directory with all the domain folders.\n",
    "            domains (list of string): List of domains to include in this dataset.\n",
    "            transform (callable, optional): Optional transform to be applied on a sample.\n",
    "        \"\"\"\n",
    "        self.root_dir = root_dir\n",
    "        self.domains = domains\n",
    "        self.transform = transform\n",
    "        self.image_paths = []\n",
    "        self.labels = []\n",
    "        \n",
    "        # Discover all classes (dog, elephant, etc.) and map them to integers\n",
    "        self.classes = sorted(os.listdir(os.path.join(root_dir, domains[0])))\n",
    "        self.class_to_idx = {cls_name: i for i, cls_name in enumerate(self.classes)}\n",
    "        \n",
    "        # Load image paths and labels from the specified domains\n",
    "        for domain in self.domains:\n",
    "            domain_path = os.path.join(self.root_dir, domain)\n",
    "            for class_name in self.classes:\n",
    "                class_path = os.path.join(domain_path, class_name)\n",
    "                for img_name in os.listdir(class_path):\n",
    "                    self.image_paths.append(os.path.join(class_path, img_name))\n",
    "                    self.labels.append(self.class_to_idx[class_name])\n",
    "\n",
    "    def __len__(self):\n",
    "        return len(self.image_paths)\n",
    "\n",
    "    def __getitem__(self, idx):\n",
    "        img_path = self.image_paths[idx]\n",
    "        image = Image.open(img_path).convert('RGB')\n",
    "        label = self.labels[idx]\n",
    "        \n",
    "        if self.transform:\n",
    "            image = self.transform(image)\n",
    "            \n",
    "        return image, label"
   ]
  },
  {
   "cell_type": "code",
   "execution_count": 5,
   "metadata": {
    "execution": {
     "iopub.execute_input": "2025-10-10T18:41:13.448409Z",
     "iopub.status.busy": "2025-10-10T18:41:13.447964Z",
     "iopub.status.idle": "2025-10-10T18:41:13.478136Z",
     "shell.execute_reply": "2025-10-10T18:41:13.477575Z",
     "shell.execute_reply.started": "2025-10-10T18:41:13.448393Z"
    },
    "trusted": true
   },
   "outputs": [],
   "source": [
    "# =================================================================================\n",
    "# SECTION 2.3: DATALOADER HELPER FUNCTION (NEW 80/20 SPLIT VERSION)\n",
    "# =================================================================================\n",
    "# Replace the old get_dataloaders function in Section 2 of BOTH notebooks with this.\n",
    "\n",
    "from torch.utils.data import Subset\n",
    "from sklearn.model_selection import train_test_split\n",
    "\n",
    "def get_dataloaders(root_dir, target_domain, all_domains, batch_size, seed):\n",
    "    \"\"\"\n",
    "    Creates dataloaders for a LODO split using an 80/20 split on the source domains.\n",
    "    \"\"\"\n",
    "    source_domains = [d for d in all_domains if d != target_domain]\n",
    "    \n",
    "    print(f\"--- Creating DataLoaders (80/20 Split Strategy) ---\")\n",
    "    print(f\"Target (Test) Domain: {target_domain}\")\n",
    "    print(f\"Source Domains for Train/Val: {source_domains}\")\n",
    "    \n",
    "    # 1. Create a single, large dataset by combining all source domains\n",
    "    source_dataset = PACSDataset(\n",
    "        root_dir=root_dir, \n",
    "        domains=source_domains, \n",
    "        transform=data_transforms['train'] # Use training transforms for the whole source\n",
    "    )\n",
    "    \n",
    "    # We need to perform a stratified split to ensure the train and val sets\n",
    "    # have a similar distribution of classes.\n",
    "    indices = list(range(len(source_dataset)))\n",
    "    labels = source_dataset.labels\n",
    "    \n",
    "    # Use sklearn's train_test_split to get indices for an 80% train / 20% val split\n",
    "    train_idx, val_idx = train_test_split(\n",
    "        indices, \n",
    "        test_size=0.2, \n",
    "        stratify=labels, \n",
    "        random_state=seed\n",
    "    )\n",
    "    \n",
    "    # 2. Create the training and validation subsets\n",
    "    train_subset = Subset(source_dataset, train_idx)\n",
    "    val_subset = Subset(source_dataset, val_idx)\n",
    "    \n",
    "    # Important: The validation subset should not use training augmentations (like RandomFlip).\n",
    "    # We create a new dataset object for validation with the correct transforms.\n",
    "    # This is a cleaner way to handle transforms for subsets.\n",
    "    val_dataset_clean = PACSDataset(root_dir=root_dir, domains=source_domains, transform=data_transforms['val'])\n",
    "    val_subset_final = Subset(val_dataset_clean, val_idx)\n",
    "    \n",
    "    # 3. Create the test dataset from the full target domain\n",
    "    test_dataset = PACSDataset(\n",
    "        root_dir=root_dir, \n",
    "        domains=[target_domain], \n",
    "        transform=data_transforms['val']\n",
    "    )\n",
    "\n",
    "    # 4. Create the DataLoaders\n",
    "    train_loader = DataLoader(train_subset, batch_size=batch_size, shuffle=True, num_workers=0)\n",
    "    val_loader = DataLoader(val_subset_final, batch_size=batch_size, shuffle=False, num_workers=0)\n",
    "    test_loader = DataLoader(test_dataset, batch_size=batch_size, shuffle=False, num_workers=0)\n",
    "    \n",
    "    print(f\"Source data size: {len(source_dataset)}\")\n",
    "    print(f\"  -> Training on: {len(train_subset)} images (80%)\")\n",
    "    print(f\"  -> Validating on: {len(val_subset_final)} images (20%)\")\n",
    "    print(f\"Testing on full '{target_domain}' domain: {len(test_dataset)} images\")\n",
    "    print(\"----------------------------------------------------\")\n",
    "    \n",
    "    return train_loader, val_loader, test_loader"
   ]
  },
  {
   "cell_type": "code",
   "execution_count": 6,
   "metadata": {
    "execution": {
     "iopub.execute_input": "2025-10-10T18:41:13.479579Z",
     "iopub.status.busy": "2025-10-10T18:41:13.479370Z",
     "iopub.status.idle": "2025-10-10T18:41:13.507477Z",
     "shell.execute_reply": "2025-10-10T18:41:13.506936Z",
     "shell.execute_reply.started": "2025-10-10T18:41:13.479564Z"
    },
    "trusted": true
   },
   "outputs": [
    {
     "name": "stdout",
     "output_type": "stream",
     "text": [
      "\n",
      "Model architecture seems correct. Ready for Section 4: Training and Evaluation Logic.\n"
     ]
    }
   ],
   "source": [
    "# =================================================================================\n",
    "# SECTION 3: THE MODEL ARCHITECTURE\n",
    "# =================================================================================\n",
    "\n",
    "# ---------------------------------------------------------------------------------\n",
    "# 3.1: CUSTOM ViT MODEL WITH EVOLUTIONARY HEADS\n",
    "# We define a class that wraps the ViT backbone and adds our 4 competing heads.\n",
    "# ---------------------------------------------------------------------------------\n",
    "\n",
    "class EvolutionaryViT(nn.Module):\n",
    "    def __init__(self, model_name, num_classes, dropout_rates: list):\n",
    "        \"\"\"\n",
    "        Args:\n",
    "            model_name (string): The name of the pre-trained ViT model from Hugging Face.\n",
    "            num_classes (int): The number of output classes.\n",
    "            num_heads (int): The number of parallel classification heads.\n",
    "            dropout_rate (float): The dropout probability.\n",
    "        \"\"\"\n",
    "        super(EvolutionaryViT, self).__init__()\n",
    "        \n",
    "        # 1. Load the pre-trained ViT backbone\n",
    "        # We use ViTModel, which gives us the feature extractor without the final classification layer.\n",
    "        self.vit_backbone = ViTModel.from_pretrained(model_name)\n",
    "        \n",
    "        # Get the hidden size (feature dimension) from the model's config\n",
    "        hidden_dim = self.vit_backbone.config.hidden_size\n",
    "        \n",
    "        # 2. Create the list of competing heads\n",
    "        # We use nn.ModuleList, which is the proper way to hold a list of PyTorch modules.\n",
    "        self.heads = nn.ModuleList([\n",
    "            nn.Sequential(\n",
    "                nn.Dropout(p=rate), # Use the specific rate for this head\n",
    "                nn.Linear(hidden_dim, num_classes)\n",
    "            ) for rate in dropout_rates\n",
    "        ])\n",
    "\n",
    "    def update_dropout_rates(self, new_rates: list):\n",
    "        \"\"\"\n",
    "        Updates the dropout probability for each head.\n",
    "        This allows us to change the rates between epochs without re-creating the model.\n",
    "        \"\"\"\n",
    "        for i, head in enumerate(self.heads):\n",
    "            # nn.Sequential has layers indexed. 0 is Dropout, 1 is Linear.\n",
    "            head[0].p = new_rates[i]\n",
    "        \n",
    "    def forward(self, images):\n",
    "        \"\"\"\n",
    "        Defines the forward pass of the model.\n",
    "        \"\"\"\n",
    "        # 1. Get features from the backbone\n",
    "        # The output is a dictionary-like object. We want the 'last_hidden_state'.\n",
    "        outputs = self.vit_backbone(pixel_values=images)\n",
    "        \n",
    "        # For ViT, the feature representation for the entire image is the output\n",
    "        # corresponding to the special [CLS] token, which is the first one.\n",
    "        # Shape: (batch_size, sequence_length, hidden_dim) -> (batch_size, hidden_dim)\n",
    "        feature_vector_z = outputs.last_hidden_state[:, 0, :]\n",
    "        \n",
    "        # 2. Pass the feature vector through all heads\n",
    "        head_outputs = {}\n",
    "        for i, head in enumerate(self.heads):\n",
    "            head_outputs[f'head_{i+1}'] = head(feature_vector_z)\n",
    "            \n",
    "        return head_outputs\n",
    "\n",
    "# --- Let's test it to make sure it works ---\n",
    "print(\"\\nModel architecture seems correct. Ready for Section 4: Training and Evaluation Logic.\")"
   ]
  },
  {
   "cell_type": "code",
   "execution_count": 7,
   "metadata": {
    "execution": {
     "iopub.execute_input": "2025-10-10T18:41:13.508460Z",
     "iopub.status.busy": "2025-10-10T18:41:13.508233Z",
     "iopub.status.idle": "2025-10-10T18:41:13.531246Z",
     "shell.execute_reply": "2025-10-10T18:41:13.530720Z",
     "shell.execute_reply.started": "2025-10-10T18:41:13.508435Z"
    },
    "trusted": true
   },
   "outputs": [],
   "source": [
    "# =================================================================================\n",
    "# SECTION 4: TRAINING & EVALUATION LOGIC\n",
    "# =================================================================================\n",
    "\n",
    "# =================================================================================\n",
    "# SECTION 4.1: TRAIN_ONE_EPOCH FUNCTION (FINAL \"TRAIN ALL\" STRATEGY)\n",
    "# =================================================================================\n",
    "# Replace your old train_one_epoch function with this new, correct version.\n",
    "\n",
    "def train_one_epoch(model, train_loader, optimizer, criterion, device):\n",
    "    model.train()\n",
    "    total_winner_loss = 0.0\n",
    "    head_correct_preds = defaultdict(int)\n",
    "    total_samples = 0\n",
    "    progress_bar = tqdm(train_loader, desc=\"Training Epoch\", leave=False)\n",
    "\n",
    "    for images, labels in progress_bar:\n",
    "        images = images.to(device)\n",
    "        labels = labels.to(device)\n",
    "        \n",
    "        # --- Step 1: Main Forward Pass ---\n",
    "        # We get the feature vector z WITH the graph attached\n",
    "        z = model.vit_backbone(pixel_values=images).last_hidden_state[:, 0, :]\n",
    "        \n",
    "        # --- Step 2: Create a Detached Copy of z ---\n",
    "        # This z_detached has the same values but no gradient history linking it to the backbone.\n",
    "        z_detached = z.detach()\n",
    "\n",
    "        # --- Step 3: Calculate All Losses and Find the Winner ---\n",
    "        head_outputs = {}\n",
    "        all_losses = {}\n",
    "        batch_accuracies = {}\n",
    "\n",
    "        for i, head in enumerate(model.heads):\n",
    "            head_name = f'head_{i+1}'\n",
    "            \n",
    "            # Use the \"live\" z for the winner's path, detached z for losers' path\n",
    "            # We calculate both for now and decide which one to use for backprop later\n",
    "            live_logits = head(z)\n",
    "            detached_logits = head(z_detached)\n",
    "\n",
    "            head_outputs[head_name] = live_logits # Store live logits for accuracy check\n",
    "            \n",
    "            # Store the two possible losses for each head\n",
    "            all_losses[head_name] = {\n",
    "                'live': criterion(live_logits, labels),\n",
    "                'detached': criterion(detached_logits, labels)\n",
    "            }\n",
    "\n",
    "            # Find accuracy to determine the winner\n",
    "            _, preds = torch.max(live_logits, 1)\n",
    "            correct = torch.sum(preds == labels).item()\n",
    "            batch_accuracies[head_name] = correct / labels.size(0)\n",
    "\n",
    "        winner_head_name = max(batch_accuracies, key=batch_accuracies.get)\n",
    "\n",
    "        # --- Step 4: Combine Losses for Backpropagation ---\n",
    "        # Start with the winner's \"live\" loss, which will train the backbone.\n",
    "        final_loss = all_losses[winner_head_name]['live']\n",
    "        \n",
    "        # Add the losers' \"detached\" losses, which will only train the heads.\n",
    "        for head_name, loss_dict in all_losses.items():\n",
    "            if head_name != winner_head_name:\n",
    "                final_loss += loss_dict['detached']\n",
    "        \n",
    "        # --- Step 5: Single Backpropagation and Optimizer Step ---\n",
    "        optimizer.zero_grad()\n",
    "        final_loss.backward()\n",
    "        optimizer.step()\n",
    "\n",
    "        # --- Update logging stats ---\n",
    "        total_winner_loss += all_losses[winner_head_name]['live'].item()\n",
    "        for head_name, logits in head_outputs.items():\n",
    "             _, preds = torch.max(logits, 1)\n",
    "             head_correct_preds[head_name] += torch.sum(preds == labels).item()\n",
    "        total_samples += labels.size(0)\n",
    "    \n",
    "    # --- End of Epoch ---\n",
    "    final_head_accuracies = {name: (correct / total_samples) for name, correct in head_correct_preds.items()}\n",
    "    return {\n",
    "        \"avg_winner_loss\": total_winner_loss / len(train_loader),\n",
    "        \"head_accuracies\": final_head_accuracies\n",
    "    }"
   ]
  },
  {
   "cell_type": "code",
   "execution_count": 8,
   "metadata": {
    "execution": {
     "iopub.execute_input": "2025-10-10T18:41:13.532789Z",
     "iopub.status.busy": "2025-10-10T18:41:13.532497Z",
     "iopub.status.idle": "2025-10-10T18:41:37.322954Z",
     "shell.execute_reply": "2025-10-10T18:41:37.322070Z",
     "shell.execute_reply.started": "2025-10-10T18:41:13.532772Z"
    },
    "trusted": true
   },
   "outputs": [],
   "source": [
    "# =================================================================================\n",
    "# SECTION 4: TRAINING & EVALUATION LOGIC (ADVANCED STRATEGY)\n",
    "# =================================================================================\n",
    "\n",
    "\n",
    "# ---------------------------------------------------------------------------------\n",
    "# 4.2: EVALUATE FUNCTION\n",
    "# (This function is correct and does not need to change)\n",
    "# ---------------------------------------------------------------------------------\n",
    "def evaluate(model, data_loader, criterion, device):\n",
    "    model.eval()\n",
    "    total_loss = 0.0\n",
    "    correct_preds = 0\n",
    "    total_samples = 0\n",
    "    with torch.no_grad():\n",
    "        progress_bar = tqdm(data_loader, desc=\"Evaluating\", leave=False)\n",
    "        for images, labels in progress_bar:\n",
    "            images = images.to(device)\n",
    "            labels = labels.to(device)\n",
    "            total_samples += labels.size(0)\n",
    "            head_outputs = model(images)\n",
    "            all_logits = torch.stack(list(head_outputs.values()))\n",
    "            ensembled_logits = torch.mean(all_logits, dim=0)\n",
    "            loss = criterion(ensembled_logits, labels)\n",
    "            total_loss += loss.item()\n",
    "            _, preds = torch.max(ensembled_logits, 1)\n",
    "            correct_preds += torch.sum(preds == labels).item()\n",
    "    avg_loss = total_loss / len(data_loader)\n",
    "    accuracy = correct_preds / total_samples\n",
    "    return {\n",
    "        \"avg_loss\": avg_loss,\n",
    "        \"accuracy\": accuracy\n",
    "    }"
   ]
  },
  {
   "cell_type": "code",
   "execution_count": null,
   "metadata": {
    "execution": {
     "iopub.execute_input": "2025-10-10T18:41:37.325012Z",
     "iopub.status.busy": "2025-10-10T18:41:37.324286Z",
     "iopub.status.idle": "2025-10-10T18:52:06.401923Z",
     "shell.execute_reply": "2025-10-10T18:52:06.401064Z",
     "shell.execute_reply.started": "2025-10-10T18:41:37.324985Z"
    },
    "trusted": true
   },
   "outputs": [
    {
     "name": "stdout",
     "output_type": "stream",
     "text": [
      "==============================================================\n",
      "  STARTING LODO EXPERIMENT: Target Domain = ART_PAINTING\n",
      "==============================================================\n",
      "--- Creating DataLoaders (80/20 Split Strategy) ---\n",
      "Target (Test) Domain: art_painting\n",
      "Source Domains for Train/Val: ['cartoon', 'photo', 'sketch']\n",
      "Source data size: 7943\n",
      "  -> Training on: 6354 images (80%)\n",
      "  -> Validating on: 1589 images (20%)\n",
      "Testing on full 'art_painting' domain: 2048 images\n",
      "----------------------------------------------------\n"
     ]
    },
    {
     "name": "stderr",
     "output_type": "stream",
     "text": [
      "Some weights of ViTModel were not initialized from the model checkpoint at WinKawaks/vit-tiny-patch16-224 and are newly initialized: ['pooler.dense.bias', 'pooler.dense.weight']\n",
      "You should probably TRAIN this model on a down-stream task to be able to use it for predictions and inference.\n"
     ]
    },
    {
     "name": "stdout",
     "output_type": "stream",
     "text": [
      "\n",
      "--- Epoch 1/10 ---\n",
      "Current Dropout Rates: {'head_1': 0.1, 'head_2': 0.2, 'head_3': 0.7, 'head_4': 0.3}\n"
     ]
    },
    {
     "data": {
      "application/vnd.jupyter.widget-view+json": {
       "model_id": "9c797460587c46e0b084362c12cb7d18",
       "version_major": 2,
       "version_minor": 0
      },
      "text/plain": [
       "Training Epoch:   0%|          | 0/50 [00:00<?, ?it/s]"
      ]
     },
     "metadata": {},
     "output_type": "display_data"
    },
    {
     "data": {
      "application/vnd.jupyter.widget-view+json": {
       "model_id": "765cecc706be453eac6564d3bcad7187",
       "version_major": 2,
       "version_minor": 0
      },
      "text/plain": [
       "Evaluating:   0%|          | 0/13 [00:00<?, ?it/s]"
      ]
     },
     "metadata": {},
     "output_type": "display_data"
    },
    {
     "name": "stdout",
     "output_type": "stream",
     "text": [
      "Epoch 1 Summary:\n",
      "  Train Avg Winner Loss: 10.6392\n",
      "  Validation Loss: 0.7696\n",
      "  Validation Accuracy: 0.8181\n",
      "  New best validation accuracy! Saving model state.\n",
      "  Epoch Training Accuracies:\n",
      "    head_1: 0.1358 \n",
      "    head_2: 0.6662 <- WINNER\n",
      "    head_3: 0.1497 \n",
      "    head_4: 0.2167 \n",
      "\n",
      "--- Epoch 2/10 ---\n",
      "Current Dropout Rates: {'head_1': 0.4, 'head_2': 0.2, 'head_3': 0.2, 'head_4': 0.3}\n"
     ]
    },
    {
     "data": {
      "application/vnd.jupyter.widget-view+json": {
       "model_id": "1e3eb39e76eb491da130e20bd1320914",
       "version_major": 2,
       "version_minor": 0
      },
      "text/plain": [
       "Training Epoch:   0%|          | 0/50 [00:00<?, ?it/s]"
      ]
     },
     "metadata": {},
     "output_type": "display_data"
    },
    {
     "data": {
      "application/vnd.jupyter.widget-view+json": {
       "model_id": "8863a060881f4afdbd72ad87676e9594",
       "version_major": 2,
       "version_minor": 0
      },
      "text/plain": [
       "Evaluating:   0%|          | 0/13 [00:00<?, ?it/s]"
      ]
     },
     "metadata": {},
     "output_type": "display_data"
    },
    {
     "name": "stdout",
     "output_type": "stream",
     "text": [
      "Epoch 2 Summary:\n",
      "  Train Avg Winner Loss: 6.6487\n",
      "  Validation Loss: 0.4198\n",
      "  Validation Accuracy: 0.8836\n",
      "  New best validation accuracy! Saving model state.\n",
      "  Epoch Training Accuracies:\n",
      "    head_1: 0.2794 \n",
      "    head_2: 0.8906 <- WINNER\n",
      "    head_3: 0.2686 \n",
      "    head_4: 0.4062 \n",
      "\n",
      "--- Epoch 3/10 ---\n",
      "Current Dropout Rates: {'head_1': 0.5, 'head_2': 0.2, 'head_3': 0.1, 'head_4': 0.4}\n"
     ]
    },
    {
     "data": {
      "application/vnd.jupyter.widget-view+json": {
       "model_id": "fc0fd21a12ab45448341cdcfbbc80377",
       "version_major": 2,
       "version_minor": 0
      },
      "text/plain": [
       "Training Epoch:   0%|          | 0/50 [00:00<?, ?it/s]"
      ]
     },
     "metadata": {},
     "output_type": "display_data"
    },
    {
     "data": {
      "application/vnd.jupyter.widget-view+json": {
       "model_id": "335b8b6b5df04bb9837f00d7106b8bcb",
       "version_major": 2,
       "version_minor": 0
      },
      "text/plain": [
       "Evaluating:   0%|          | 0/13 [00:00<?, ?it/s]"
      ]
     },
     "metadata": {},
     "output_type": "display_data"
    },
    {
     "name": "stdout",
     "output_type": "stream",
     "text": [
      "Epoch 3 Summary:\n",
      "  Train Avg Winner Loss: 4.4185\n",
      "  Validation Loss: 0.3443\n",
      "  Validation Accuracy: 0.8823\n",
      "  Epoch Training Accuracies:\n",
      "    head_1: 0.4556 \n",
      "    head_2: 0.9405 <- WINNER\n",
      "    head_3: 0.5379 \n",
      "    head_4: 0.5796 \n",
      "\n",
      "--- Epoch 4/10 ---\n",
      "Current Dropout Rates: {'head_1': 0.1, 'head_2': 0.2, 'head_3': 0.4, 'head_4': 0.2}\n"
     ]
    },
    {
     "data": {
      "application/vnd.jupyter.widget-view+json": {
       "model_id": "376a12406cb44683a4fcc15fcd8bd9bb",
       "version_major": 2,
       "version_minor": 0
      },
      "text/plain": [
       "Training Epoch:   0%|          | 0/50 [00:00<?, ?it/s]"
      ]
     },
     "metadata": {},
     "output_type": "display_data"
    },
    {
     "data": {
      "application/vnd.jupyter.widget-view+json": {
       "model_id": "02695bffa79d43049da30acc01186ab8",
       "version_major": 2,
       "version_minor": 0
      },
      "text/plain": [
       "Evaluating:   0%|          | 0/13 [00:00<?, ?it/s]"
      ]
     },
     "metadata": {},
     "output_type": "display_data"
    },
    {
     "name": "stdout",
     "output_type": "stream",
     "text": [
      "Epoch 4 Summary:\n",
      "  Train Avg Winner Loss: 2.4561\n",
      "  Validation Loss: 0.2924\n",
      "  Validation Accuracy: 0.9062\n",
      "  New best validation accuracy! Saving model state.\n",
      "  Epoch Training Accuracies:\n",
      "    head_1: 0.7795 \n",
      "    head_2: 0.9701 <- WINNER\n",
      "    head_3: 0.6039 \n",
      "    head_4: 0.8121 \n",
      "\n",
      "--- Epoch 5/10 ---\n",
      "Current Dropout Rates: {'head_1': 0.3, 'head_2': 0.2, 'head_3': 0.5, 'head_4': 0.1}\n"
     ]
    },
    {
     "data": {
      "application/vnd.jupyter.widget-view+json": {
       "model_id": "1dbd448c533f4954abd75aef06e02bea",
       "version_major": 2,
       "version_minor": 0
      },
      "text/plain": [
       "Training Epoch:   0%|          | 0/50 [00:00<?, ?it/s]"
      ]
     },
     "metadata": {},
     "output_type": "display_data"
    },
    {
     "data": {
      "application/vnd.jupyter.widget-view+json": {
       "model_id": "498da74527624fe29873085ebf9eafa9",
       "version_major": 2,
       "version_minor": 0
      },
      "text/plain": [
       "Evaluating:   0%|          | 0/13 [00:00<?, ?it/s]"
      ]
     },
     "metadata": {},
     "output_type": "display_data"
    },
    {
     "name": "stdout",
     "output_type": "stream",
     "text": [
      "Epoch 5 Summary:\n",
      "  Train Avg Winner Loss: 2.1120\n",
      "  Validation Loss: 0.2496\n",
      "  Validation Accuracy: 0.9144\n",
      "  New best validation accuracy! Saving model state.\n",
      "  Epoch Training Accuracies:\n",
      "    head_1: 0.7836 \n",
      "    head_2: 0.9747 <- WINNER\n",
      "    head_3: 0.6638 \n",
      "    head_4: 0.8876 \n",
      "\n",
      "--- Epoch 6/10 ---\n",
      "Current Dropout Rates: {'head_1': 0.7, 'head_2': 0.2, 'head_3': 0.1, 'head_4': 0.4}\n"
     ]
    },
    {
     "data": {
      "application/vnd.jupyter.widget-view+json": {
       "model_id": "15197b531a174439ad5bc6d262faef62",
       "version_major": 2,
       "version_minor": 0
      },
      "text/plain": [
       "Training Epoch:   0%|          | 0/50 [00:00<?, ?it/s]"
      ]
     },
     "metadata": {},
     "output_type": "display_data"
    },
    {
     "data": {
      "application/vnd.jupyter.widget-view+json": {
       "model_id": "6d6f87c7371c4712b5636d377cac6f98",
       "version_major": 2,
       "version_minor": 0
      },
      "text/plain": [
       "Evaluating:   0%|          | 0/13 [00:00<?, ?it/s]"
      ]
     },
     "metadata": {},
     "output_type": "display_data"
    },
    {
     "name": "stdout",
     "output_type": "stream",
     "text": [
      "Epoch 6 Summary:\n",
      "  Train Avg Winner Loss: 2.1283\n",
      "  Validation Loss: 0.2365\n",
      "  Validation Accuracy: 0.9182\n",
      "  New best validation accuracy! Saving model state.\n",
      "  Epoch Training Accuracies:\n",
      "    head_1: 0.6172 \n",
      "    head_2: 0.9841 <- WINNER\n",
      "    head_3: 0.8985 \n",
      "    head_4: 0.8448 \n",
      "\n",
      "--- Epoch 7/10 ---\n",
      "Current Dropout Rates: {'head_1': 0.1, 'head_2': 0.2, 'head_3': 0.2, 'head_4': 0.5}\n"
     ]
    },
    {
     "data": {
      "application/vnd.jupyter.widget-view+json": {
       "model_id": "a0ac70c9cf4b4905b12546623b8f325f",
       "version_major": 2,
       "version_minor": 0
      },
      "text/plain": [
       "Training Epoch:   0%|          | 0/50 [00:00<?, ?it/s]"
      ]
     },
     "metadata": {},
     "output_type": "display_data"
    },
    {
     "data": {
      "application/vnd.jupyter.widget-view+json": {
       "model_id": "ec71c62a62554b1a8db40084b2d22bf3",
       "version_major": 2,
       "version_minor": 0
      },
      "text/plain": [
       "Evaluating:   0%|          | 0/13 [00:00<?, ?it/s]"
      ]
     },
     "metadata": {},
     "output_type": "display_data"
    },
    {
     "name": "stdout",
     "output_type": "stream",
     "text": [
      "Epoch 7 Summary:\n",
      "  Train Avg Winner Loss: 0.9429\n",
      "  Validation Loss: 0.2247\n",
      "  Validation Accuracy: 0.9220\n",
      "  New best validation accuracy! Saving model state.\n",
      "  Epoch Training Accuracies:\n",
      "    head_1: 0.9413 \n",
      "    head_2: 0.9817 <- WINNER\n",
      "    head_3: 0.9100 \n",
      "    head_4: 0.8494 \n",
      "\n",
      "--- Epoch 8/10 ---\n",
      "Current Dropout Rates: {'head_1': 0.1, 'head_2': 0.2, 'head_3': 0.3, 'head_4': 0.5}\n"
     ]
    },
    {
     "data": {
      "application/vnd.jupyter.widget-view+json": {
       "model_id": "1662e66e2de2475c86ccb01dbce72a36",
       "version_major": 2,
       "version_minor": 0
      },
      "text/plain": [
       "Training Epoch:   0%|          | 0/50 [00:00<?, ?it/s]"
      ]
     },
     "metadata": {},
     "output_type": "display_data"
    },
    {
     "data": {
      "application/vnd.jupyter.widget-view+json": {
       "model_id": "5d5067bf71694b5791acaf6b911004d3",
       "version_major": 2,
       "version_minor": 0
      },
      "text/plain": [
       "Evaluating:   0%|          | 0/13 [00:00<?, ?it/s]"
      ]
     },
     "metadata": {},
     "output_type": "display_data"
    },
    {
     "name": "stdout",
     "output_type": "stream",
     "text": [
      "Epoch 8 Summary:\n",
      "  Train Avg Winner Loss: 0.6698\n",
      "  Validation Loss: 0.2360\n",
      "  Validation Accuracy: 0.9239\n",
      "  New best validation accuracy! Saving model state.\n",
      "  Epoch Training Accuracies:\n",
      "    head_1: 0.9618 \n",
      "    head_2: 0.9869 <- WINNER\n",
      "    head_3: 0.9243 \n",
      "    head_4: 0.9007 \n",
      "\n",
      "--- Epoch 9/10 ---\n",
      "Current Dropout Rates: {'head_1': 0.1, 'head_2': 0.2, 'head_3': 0.5, 'head_4': 0.4}\n"
     ]
    },
    {
     "data": {
      "application/vnd.jupyter.widget-view+json": {
       "model_id": "a1391ee9524e45b5823a685b036fa74a",
       "version_major": 2,
       "version_minor": 0
      },
      "text/plain": [
       "Training Epoch:   0%|          | 0/50 [00:00<?, ?it/s]"
      ]
     },
     "metadata": {},
     "output_type": "display_data"
    },
    {
     "data": {
      "application/vnd.jupyter.widget-view+json": {
       "model_id": "c7be14ed7821489b9602b39e04699b98",
       "version_major": 2,
       "version_minor": 0
      },
      "text/plain": [
       "Evaluating:   0%|          | 0/13 [00:00<?, ?it/s]"
      ]
     },
     "metadata": {},
     "output_type": "display_data"
    },
    {
     "name": "stdout",
     "output_type": "stream",
     "text": [
      "Epoch 9 Summary:\n",
      "  Train Avg Winner Loss: 0.7206\n",
      "  Validation Loss: 0.2422\n",
      "  Validation Accuracy: 0.9182\n",
      "  Epoch Training Accuracies:\n",
      "    head_1: 0.9605 \n",
      "    head_2: 0.9871 <- WINNER\n",
      "    head_3: 0.8763 \n",
      "    head_4: 0.9389 \n",
      "\n",
      "--- Epoch 10/10 ---\n",
      "Current Dropout Rates: {'head_1': 0.2, 'head_2': 0.2, 'head_3': 0.5, 'head_4': 0.7}\n"
     ]
    },
    {
     "data": {
      "application/vnd.jupyter.widget-view+json": {
       "model_id": "3854c5d2d4fe4b8090aec0f392bc4260",
       "version_major": 2,
       "version_minor": 0
      },
      "text/plain": [
       "Training Epoch:   0%|          | 0/50 [00:00<?, ?it/s]"
      ]
     },
     "metadata": {},
     "output_type": "display_data"
    },
    {
     "data": {
      "application/vnd.jupyter.widget-view+json": {
       "model_id": "ad310a3a0004478f93a08380757db95e",
       "version_major": 2,
       "version_minor": 0
      },
      "text/plain": [
       "Evaluating:   0%|          | 0/13 [00:00<?, ?it/s]"
      ]
     },
     "metadata": {},
     "output_type": "display_data"
    },
    {
     "name": "stdout",
     "output_type": "stream",
     "text": [
      "Epoch 10 Summary:\n",
      "  Train Avg Winner Loss: 0.8975\n",
      "  Validation Loss: 0.2526\n",
      "  Validation Accuracy: 0.9232\n",
      "  Epoch Training Accuracies:\n",
      "    head_1: 0.9720 \n",
      "    head_2: 0.9869 <- WINNER\n",
      "    head_3: 0.9078 \n",
      "    head_4: 0.8363 \n",
      "\n",
      "Training complete for this LODO split.\n",
      "Loading best model state and evaluating on the TEST set...\n"
     ]
    },
    {
     "data": {
      "application/vnd.jupyter.widget-view+json": {
       "model_id": "7556a0ae54e5497d8270ee1a69014f51",
       "version_major": 2,
       "version_minor": 0
      },
      "text/plain": [
       "Evaluating:   0%|          | 0/16 [00:00<?, ?it/s]"
      ]
     },
     "metadata": {},
     "output_type": "display_data"
    },
    {
     "name": "stdout",
     "output_type": "stream",
     "text": [
      "\n",
      "--- RESULTS FOR TARGET DOMAIN: ART_PAINTING ---\n",
      "  Test Accuracy: 0.8101\n",
      "--------------------------------------------------\n",
      "==============================================================\n",
      "  STARTING LODO EXPERIMENT: Target Domain = CARTOON\n",
      "==============================================================\n",
      "--- Creating DataLoaders (80/20 Split Strategy) ---\n",
      "Target (Test) Domain: cartoon\n",
      "Source Domains for Train/Val: ['art_painting', 'photo', 'sketch']\n",
      "Source data size: 7647\n",
      "  -> Training on: 6117 images (80%)\n",
      "  -> Validating on: 1530 images (20%)\n",
      "Testing on full 'cartoon' domain: 2344 images\n",
      "----------------------------------------------------\n"
     ]
    },
    {
     "name": "stderr",
     "output_type": "stream",
     "text": [
      "Some weights of ViTModel were not initialized from the model checkpoint at WinKawaks/vit-tiny-patch16-224 and are newly initialized: ['pooler.dense.bias', 'pooler.dense.weight']\n",
      "You should probably TRAIN this model on a down-stream task to be able to use it for predictions and inference.\n"
     ]
    },
    {
     "name": "stdout",
     "output_type": "stream",
     "text": [
      "\n",
      "--- Epoch 1/10 ---\n",
      "Current Dropout Rates: {'head_1': 0.7, 'head_2': 0.3, 'head_3': 0.5, 'head_4': 0.2}\n"
     ]
    },
    {
     "data": {
      "application/vnd.jupyter.widget-view+json": {
       "model_id": "b36b1729f4e046ce953e6e378c94af07",
       "version_major": 2,
       "version_minor": 0
      },
      "text/plain": [
       "Training Epoch:   0%|          | 0/48 [00:00<?, ?it/s]"
      ]
     },
     "metadata": {},
     "output_type": "display_data"
    },
    {
     "data": {
      "application/vnd.jupyter.widget-view+json": {
       "model_id": "94d1a1b3c2ee4f45bd3e84060b1d24aa",
       "version_major": 2,
       "version_minor": 0
      },
      "text/plain": [
       "Evaluating:   0%|          | 0/12 [00:00<?, ?it/s]"
      ]
     },
     "metadata": {},
     "output_type": "display_data"
    },
    {
     "name": "stdout",
     "output_type": "stream",
     "text": [
      "Epoch 1 Summary:\n",
      "  Train Avg Winner Loss: 10.3353\n",
      "  Validation Loss: 0.7315\n",
      "  Validation Accuracy: 0.7797\n",
      "  New best validation accuracy! Saving model state.\n",
      "  Epoch Training Accuracies:\n",
      "    head_1: 0.2679 \n",
      "    head_2: 0.1491 \n",
      "    head_3: 0.1723 \n",
      "    head_4: 0.6459 <- WINNER\n",
      "\n",
      "--- Epoch 2/10 ---\n",
      "Current Dropout Rates: {'head_1': 0.4, 'head_2': 0.3, 'head_3': 0.5, 'head_4': 0.2}\n"
     ]
    },
    {
     "data": {
      "application/vnd.jupyter.widget-view+json": {
       "model_id": "be99836f7f89460c9d72cbd2900b6de0",
       "version_major": 2,
       "version_minor": 0
      },
      "text/plain": [
       "Training Epoch:   0%|          | 0/48 [00:00<?, ?it/s]"
      ]
     },
     "metadata": {},
     "output_type": "display_data"
    },
    {
     "data": {
      "application/vnd.jupyter.widget-view+json": {
       "model_id": "648915213cea47858284754759d2bcda",
       "version_major": 2,
       "version_minor": 0
      },
      "text/plain": [
       "Evaluating:   0%|          | 0/12 [00:00<?, ?it/s]"
      ]
     },
     "metadata": {},
     "output_type": "display_data"
    },
    {
     "name": "stdout",
     "output_type": "stream",
     "text": [
      "Epoch 2 Summary:\n",
      "  Train Avg Winner Loss: 6.5972\n",
      "  Validation Loss: 0.4558\n",
      "  Validation Accuracy: 0.8667\n",
      "  New best validation accuracy! Saving model state.\n",
      "  Epoch Training Accuracies:\n",
      "    head_1: 0.4854 \n",
      "    head_2: 0.3052 \n",
      "    head_3: 0.2740 \n",
      "    head_4: 0.8877 <- WINNER\n",
      "\n",
      "--- Epoch 3/10 ---\n",
      "Current Dropout Rates: {'head_1': 0.5, 'head_2': 0.2, 'head_3': 0.1, 'head_4': 0.2}\n"
     ]
    },
    {
     "data": {
      "application/vnd.jupyter.widget-view+json": {
       "model_id": "20a828590ba644dcb2069aef384d5f97",
       "version_major": 2,
       "version_minor": 0
      },
      "text/plain": [
       "Training Epoch:   0%|          | 0/48 [00:00<?, ?it/s]"
      ]
     },
     "metadata": {},
     "output_type": "display_data"
    },
    {
     "data": {
      "application/vnd.jupyter.widget-view+json": {
       "model_id": "cdedac3850a641f4a8ab1b4cc642e41e",
       "version_major": 2,
       "version_minor": 0
      },
      "text/plain": [
       "Evaluating:   0%|          | 0/12 [00:00<?, ?it/s]"
      ]
     },
     "metadata": {},
     "output_type": "display_data"
    },
    {
     "name": "stdout",
     "output_type": "stream",
     "text": [
      "Epoch 3 Summary:\n",
      "  Train Avg Winner Loss: 3.8092\n",
      "  Validation Loss: 0.3570\n",
      "  Validation Accuracy: 0.8895\n",
      "  New best validation accuracy! Saving model state.\n",
      "  Epoch Training Accuracies:\n",
      "    head_1: 0.5820 \n",
      "    head_2: 0.5723 \n",
      "    head_3: 0.5792 \n",
      "    head_4: 0.9371 <- WINNER\n",
      "\n",
      "--- Epoch 4/10 ---\n",
      "Current Dropout Rates: {'head_1': 0.5, 'head_2': 0.7, 'head_3': 0.2, 'head_4': 0.2}\n"
     ]
    },
    {
     "data": {
      "application/vnd.jupyter.widget-view+json": {
       "model_id": "1e055827b2274293aa2c0ea1734a9e7b",
       "version_major": 2,
       "version_minor": 0
      },
      "text/plain": [
       "Training Epoch:   0%|          | 0/48 [00:00<?, ?it/s]"
      ]
     },
     "metadata": {},
     "output_type": "display_data"
    },
    {
     "data": {
      "application/vnd.jupyter.widget-view+json": {
       "model_id": "ee3b9fe0a7704fe696a8eab0b5d3a65c",
       "version_major": 2,
       "version_minor": 0
      },
      "text/plain": [
       "Evaluating:   0%|          | 0/12 [00:00<?, ?it/s]"
      ]
     },
     "metadata": {},
     "output_type": "display_data"
    },
    {
     "name": "stdout",
     "output_type": "stream",
     "text": [
      "Epoch 4 Summary:\n",
      "  Train Avg Winner Loss: 3.6496\n",
      "  Validation Loss: 0.3153\n",
      "  Validation Accuracy: 0.8967\n",
      "  New best validation accuracy! Saving model state.\n",
      "  Epoch Training Accuracies:\n",
      "    head_1: 0.7167 \n",
      "    head_2: 0.4893 \n",
      "    head_3: 0.7409 \n",
      "    head_4: 0.9689 <- WINNER\n",
      "\n",
      "--- Epoch 5/10 ---\n",
      "Current Dropout Rates: {'head_1': 0.1, 'head_2': 0.3, 'head_3': 0.7, 'head_4': 0.2}\n"
     ]
    },
    {
     "data": {
      "application/vnd.jupyter.widget-view+json": {
       "model_id": "88d7b34c62724a3d9b3c3076faa9d650",
       "version_major": 2,
       "version_minor": 0
      },
      "text/plain": [
       "Training Epoch:   0%|          | 0/48 [00:00<?, ?it/s]"
      ]
     },
     "metadata": {},
     "output_type": "display_data"
    },
    {
     "data": {
      "application/vnd.jupyter.widget-view+json": {
       "model_id": "abdedf98e30949f39fe5ee5a5e8a6d9d",
       "version_major": 2,
       "version_minor": 0
      },
      "text/plain": [
       "Evaluating:   0%|          | 0/12 [00:00<?, ?it/s]"
      ]
     },
     "metadata": {},
     "output_type": "display_data"
    },
    {
     "name": "stdout",
     "output_type": "stream",
     "text": [
      "Epoch 5 Summary:\n",
      "  Train Avg Winner Loss: 2.4105\n",
      "  Validation Loss: 0.2827\n",
      "  Validation Accuracy: 0.8993\n",
      "  New best validation accuracy! Saving model state.\n",
      "  Epoch Training Accuracies:\n",
      "    head_1: 0.9071 \n",
      "    head_2: 0.8172 \n",
      "    head_3: 0.5617 \n",
      "    head_4: 0.9727 <- WINNER\n",
      "\n",
      "--- Epoch 6/10 ---\n",
      "Current Dropout Rates: {'head_1': 0.5, 'head_2': 0.3, 'head_3': 0.1, 'head_4': 0.2}\n"
     ]
    },
    {
     "data": {
      "application/vnd.jupyter.widget-view+json": {
       "model_id": "e8ed395cabde45c3ae7de323a3945b21",
       "version_major": 2,
       "version_minor": 0
      },
      "text/plain": [
       "Training Epoch:   0%|          | 0/48 [00:00<?, ?it/s]"
      ]
     },
     "metadata": {},
     "output_type": "display_data"
    },
    {
     "data": {
      "application/vnd.jupyter.widget-view+json": {
       "model_id": "a8421d3f02c34af689551999903d93c9",
       "version_major": 2,
       "version_minor": 0
      },
      "text/plain": [
       "Evaluating:   0%|          | 0/12 [00:00<?, ?it/s]"
      ]
     },
     "metadata": {},
     "output_type": "display_data"
    },
    {
     "name": "stdout",
     "output_type": "stream",
     "text": [
      "Epoch 6 Summary:\n",
      "  Train Avg Winner Loss: 1.0367\n",
      "  Validation Loss: 0.3241\n",
      "  Validation Accuracy: 0.9013\n",
      "  New best validation accuracy! Saving model state.\n",
      "  Epoch Training Accuracies:\n",
      "    head_1: 0.8326 \n",
      "    head_2: 0.8913 \n",
      "    head_3: 0.9482 \n",
      "    head_4: 0.9856 <- WINNER\n",
      "\n",
      "--- Epoch 7/10 ---\n",
      "Current Dropout Rates: {'head_1': 0.1, 'head_2': 0.3, 'head_3': 0.5, 'head_4': 0.2}\n"
     ]
    },
    {
     "data": {
      "application/vnd.jupyter.widget-view+json": {
       "model_id": "ee8d243a4fad44ebb51926947108aa77",
       "version_major": 2,
       "version_minor": 0
      },
      "text/plain": [
       "Training Epoch:   0%|          | 0/48 [00:00<?, ?it/s]"
      ]
     },
     "metadata": {},
     "output_type": "display_data"
    },
    {
     "data": {
      "application/vnd.jupyter.widget-view+json": {
       "model_id": "618b864fbe184401961a8f2688d7991f",
       "version_major": 2,
       "version_minor": 0
      },
      "text/plain": [
       "Evaluating:   0%|          | 0/12 [00:00<?, ?it/s]"
      ]
     },
     "metadata": {},
     "output_type": "display_data"
    },
    {
     "name": "stdout",
     "output_type": "stream",
     "text": [
      "Epoch 7 Summary:\n",
      "  Train Avg Winner Loss: 0.7613\n",
      "  Validation Loss: 0.3287\n",
      "  Validation Accuracy: 0.9124\n",
      "  New best validation accuracy! Saving model state.\n",
      "  Epoch Training Accuracies:\n",
      "    head_1: 0.9635 \n",
      "    head_2: 0.9179 \n",
      "    head_3: 0.8836 \n",
      "    head_4: 0.9822 <- WINNER\n",
      "\n",
      "--- Epoch 8/10 ---\n",
      "Current Dropout Rates: {'head_1': 0.1, 'head_2': 0.5, 'head_3': 0.3, 'head_4': 0.2}\n"
     ]
    },
    {
     "data": {
      "application/vnd.jupyter.widget-view+json": {
       "model_id": "82c62a12f7614119a5cf59501e3a8a16",
       "version_major": 2,
       "version_minor": 0
      },
      "text/plain": [
       "Training Epoch:   0%|          | 0/48 [00:00<?, ?it/s]"
      ]
     },
     "metadata": {},
     "output_type": "display_data"
    },
    {
     "data": {
      "application/vnd.jupyter.widget-view+json": {
       "model_id": "7b0ac32cbdb340c99d2d2cf0c675cceb",
       "version_major": 2,
       "version_minor": 0
      },
      "text/plain": [
       "Evaluating:   0%|          | 0/12 [00:00<?, ?it/s]"
      ]
     },
     "metadata": {},
     "output_type": "display_data"
    },
    {
     "name": "stdout",
     "output_type": "stream",
     "text": [
      "Epoch 8 Summary:\n",
      "  Train Avg Winner Loss: 0.5292\n",
      "  Validation Loss: 0.3244\n",
      "  Validation Accuracy: 0.9170\n",
      "  New best validation accuracy! Saving model state.\n",
      "  Epoch Training Accuracies:\n",
      "    head_1: 0.9812 \n",
      "    head_2: 0.8885 \n",
      "    head_3: 0.9617 \n",
      "    head_4: 0.9894 <- WINNER\n",
      "\n",
      "--- Epoch 9/10 ---\n",
      "Current Dropout Rates: {'head_1': 0.5, 'head_2': 0.3, 'head_3': 0.2, 'head_4': 0.2}\n"
     ]
    },
    {
     "data": {
      "application/vnd.jupyter.widget-view+json": {
       "model_id": "ec761fa3ac61466890613f5574392fd4",
       "version_major": 2,
       "version_minor": 0
      },
      "text/plain": [
       "Training Epoch:   0%|          | 0/48 [00:00<?, ?it/s]"
      ]
     },
     "metadata": {},
     "output_type": "display_data"
    },
    {
     "data": {
      "application/vnd.jupyter.widget-view+json": {
       "model_id": "1ac781ec63b947b8bc23145aee7d199f",
       "version_major": 2,
       "version_minor": 0
      },
      "text/plain": [
       "Evaluating:   0%|          | 0/12 [00:00<?, ?it/s]"
      ]
     },
     "metadata": {},
     "output_type": "display_data"
    },
    {
     "name": "stdout",
     "output_type": "stream",
     "text": [
      "Epoch 9 Summary:\n",
      "  Train Avg Winner Loss: 0.2464\n",
      "  Validation Loss: 0.3620\n",
      "  Validation Accuracy: 0.9150\n",
      "  Epoch Training Accuracies:\n",
      "    head_1: 0.9748 \n",
      "    head_2: 0.9738 \n",
      "    head_3: 0.9823 \n",
      "    head_4: 0.9926 <- WINNER\n",
      "\n",
      "--- Epoch 10/10 ---\n",
      "Current Dropout Rates: {'head_1': 0.4, 'head_2': 0.1, 'head_3': 0.3, 'head_4': 0.2}\n"
     ]
    },
    {
     "data": {
      "application/vnd.jupyter.widget-view+json": {
       "model_id": "c59102e28a954217a4555122d28abc17",
       "version_major": 2,
       "version_minor": 0
      },
      "text/plain": [
       "Training Epoch:   0%|          | 0/48 [00:00<?, ?it/s]"
      ]
     },
     "metadata": {},
     "output_type": "display_data"
    },
    {
     "data": {
      "application/vnd.jupyter.widget-view+json": {
       "model_id": "286b545cc5b34017a775deb7f6b18727",
       "version_major": 2,
       "version_minor": 0
      },
      "text/plain": [
       "Evaluating:   0%|          | 0/12 [00:00<?, ?it/s]"
      ]
     },
     "metadata": {},
     "output_type": "display_data"
    },
    {
     "name": "stdout",
     "output_type": "stream",
     "text": [
      "Epoch 10 Summary:\n",
      "  Train Avg Winner Loss: 0.2122\n",
      "  Validation Loss: 0.4838\n",
      "  Validation Accuracy: 0.9072\n",
      "  Epoch Training Accuracies:\n",
      "    head_1: 0.9801 \n",
      "    head_2: 0.9825 \n",
      "    head_3: 0.9792 \n",
      "    head_4: 0.9890 <- WINNER\n",
      "\n",
      "Training complete for this LODO split.\n",
      "Loading best model state and evaluating on the TEST set...\n"
     ]
    },
    {
     "data": {
      "application/vnd.jupyter.widget-view+json": {
       "model_id": "ba419a6a626c4b43b28c9d3ca0fe284d",
       "version_major": 2,
       "version_minor": 0
      },
      "text/plain": [
       "Evaluating:   0%|          | 0/19 [00:00<?, ?it/s]"
      ]
     },
     "metadata": {},
     "output_type": "display_data"
    },
    {
     "name": "stdout",
     "output_type": "stream",
     "text": [
      "\n",
      "--- RESULTS FOR TARGET DOMAIN: CARTOON ---\n",
      "  Test Accuracy: 0.7675\n",
      "--------------------------------------------------\n",
      "==============================================================\n",
      "  STARTING LODO EXPERIMENT: Target Domain = PHOTO\n",
      "==============================================================\n",
      "--- Creating DataLoaders (80/20 Split Strategy) ---\n",
      "Target (Test) Domain: photo\n",
      "Source Domains for Train/Val: ['art_painting', 'cartoon', 'sketch']\n",
      "Source data size: 8321\n",
      "  -> Training on: 6656 images (80%)\n",
      "  -> Validating on: 1665 images (20%)\n",
      "Testing on full 'photo' domain: 1670 images\n",
      "----------------------------------------------------\n"
     ]
    },
    {
     "name": "stderr",
     "output_type": "stream",
     "text": [
      "Some weights of ViTModel were not initialized from the model checkpoint at WinKawaks/vit-tiny-patch16-224 and are newly initialized: ['pooler.dense.bias', 'pooler.dense.weight']\n",
      "You should probably TRAIN this model on a down-stream task to be able to use it for predictions and inference.\n"
     ]
    },
    {
     "name": "stdout",
     "output_type": "stream",
     "text": [
      "\n",
      "--- Epoch 1/10 ---\n",
      "Current Dropout Rates: {'head_1': 0.2, 'head_2': 0.3, 'head_3': 0.4, 'head_4': 0.1}\n"
     ]
    },
    {
     "data": {
      "application/vnd.jupyter.widget-view+json": {
       "model_id": "5c8532004bda42e09eb32103450c260f",
       "version_major": 2,
       "version_minor": 0
      },
      "text/plain": [
       "Training Epoch:   0%|          | 0/52 [00:00<?, ?it/s]"
      ]
     },
     "metadata": {},
     "output_type": "display_data"
    },
    {
     "data": {
      "application/vnd.jupyter.widget-view+json": {
       "model_id": "77c20ac32498441f8cfe19cd1b541d3b",
       "version_major": 2,
       "version_minor": 0
      },
      "text/plain": [
       "Evaluating:   0%|          | 0/14 [00:00<?, ?it/s]"
      ]
     },
     "metadata": {},
     "output_type": "display_data"
    },
    {
     "name": "stdout",
     "output_type": "stream",
     "text": [
      "Epoch 1 Summary:\n",
      "  Train Avg Winner Loss: 8.9645\n",
      "  Validation Loss: 1.0661\n",
      "  Validation Accuracy: 0.6126\n",
      "  New best validation accuracy! Saving model state.\n",
      "  Epoch Training Accuracies:\n",
      "    head_1: 0.3120 \n",
      "    head_2: 0.1979 \n",
      "    head_3: 0.1303 \n",
      "    head_4: 0.3748 <- WINNER\n",
      "\n",
      "--- Epoch 2/10 ---\n",
      "Current Dropout Rates: {'head_1': 0.2, 'head_2': 0.5, 'head_3': 0.3, 'head_4': 0.1}\n"
     ]
    },
    {
     "data": {
      "application/vnd.jupyter.widget-view+json": {
       "model_id": "92aea7580474478ca73963f6018073ca",
       "version_major": 2,
       "version_minor": 0
      },
      "text/plain": [
       "Training Epoch:   0%|          | 0/52 [00:00<?, ?it/s]"
      ]
     },
     "metadata": {},
     "output_type": "display_data"
    },
    {
     "data": {
      "application/vnd.jupyter.widget-view+json": {
       "model_id": "422bf7d5feec4628bda5912eb14c43fc",
       "version_major": 2,
       "version_minor": 0
      },
      "text/plain": [
       "Evaluating:   0%|          | 0/14 [00:00<?, ?it/s]"
      ]
     },
     "metadata": {},
     "output_type": "display_data"
    },
    {
     "name": "stdout",
     "output_type": "stream",
     "text": [
      "Epoch 2 Summary:\n",
      "  Train Avg Winner Loss: 6.7798\n",
      "  Validation Loss: 0.5968\n",
      "  Validation Accuracy: 0.8192\n",
      "  New best validation accuracy! Saving model state.\n",
      "  Epoch Training Accuracies:\n",
      "    head_1: 0.5346 \n",
      "    head_2: 0.2822 \n",
      "    head_3: 0.2162 \n",
      "    head_4: 0.8035 <- WINNER\n",
      "\n",
      "--- Epoch 3/10 ---\n",
      "Current Dropout Rates: {'head_1': 0.2, 'head_2': 0.5, 'head_3': 0.7, 'head_4': 0.1}\n"
     ]
    },
    {
     "data": {
      "application/vnd.jupyter.widget-view+json": {
       "model_id": "f96224a030914154bae8c972d66f48ce",
       "version_major": 2,
       "version_minor": 0
      },
      "text/plain": [
       "Training Epoch:   0%|          | 0/52 [00:00<?, ?it/s]"
      ]
     },
     "metadata": {},
     "output_type": "display_data"
    },
    {
     "data": {
      "application/vnd.jupyter.widget-view+json": {
       "model_id": "db580b037564466e9f81b638c956f547",
       "version_major": 2,
       "version_minor": 0
      },
      "text/plain": [
       "Evaluating:   0%|          | 0/14 [00:00<?, ?it/s]"
      ]
     },
     "metadata": {},
     "output_type": "display_data"
    },
    {
     "name": "stdout",
     "output_type": "stream",
     "text": [
      "Epoch 3 Summary:\n",
      "  Train Avg Winner Loss: 5.8272\n",
      "  Validation Loss: 0.3724\n",
      "  Validation Accuracy: 0.8817\n",
      "  New best validation accuracy! Saving model state.\n",
      "  Epoch Training Accuracies:\n",
      "    head_1: 0.6807 \n",
      "    head_2: 0.4058 \n",
      "    head_3: 0.2982 \n",
      "    head_4: 0.9052 <- WINNER\n",
      "\n",
      "--- Epoch 4/10 ---\n",
      "Current Dropout Rates: {'head_1': 0.5, 'head_2': 0.4, 'head_3': 0.2, 'head_4': 0.1}\n"
     ]
    },
    {
     "data": {
      "application/vnd.jupyter.widget-view+json": {
       "model_id": "1131f787d7b144bfb232514e9308dd42",
       "version_major": 2,
       "version_minor": 0
      },
      "text/plain": [
       "Training Epoch:   0%|          | 0/52 [00:00<?, ?it/s]"
      ]
     },
     "metadata": {},
     "output_type": "display_data"
    },
    {
     "data": {
      "application/vnd.jupyter.widget-view+json": {
       "model_id": "060e04b885284091baf9e6ca5a8b96a5",
       "version_major": 2,
       "version_minor": 0
      },
      "text/plain": [
       "Evaluating:   0%|          | 0/14 [00:00<?, ?it/s]"
      ]
     },
     "metadata": {},
     "output_type": "display_data"
    },
    {
     "name": "stdout",
     "output_type": "stream",
     "text": [
      "Epoch 4 Summary:\n",
      "  Train Avg Winner Loss: 3.1489\n",
      "  Validation Loss: 0.2906\n",
      "  Validation Accuracy: 0.9009\n",
      "  New best validation accuracy! Saving model state.\n",
      "  Epoch Training Accuracies:\n",
      "    head_1: 0.6696 \n",
      "    head_2: 0.5930 \n",
      "    head_3: 0.6555 \n",
      "    head_4: 0.9470 <- WINNER\n",
      "\n",
      "--- Epoch 5/10 ---\n",
      "Current Dropout Rates: {'head_1': 0.7, 'head_2': 0.5, 'head_3': 0.3, 'head_4': 0.1}\n"
     ]
    },
    {
     "data": {
      "application/vnd.jupyter.widget-view+json": {
       "model_id": "200bfcc3ead04c848b98ddd38737e048",
       "version_major": 2,
       "version_minor": 0
      },
      "text/plain": [
       "Training Epoch:   0%|          | 0/52 [00:00<?, ?it/s]"
      ]
     },
     "metadata": {},
     "output_type": "display_data"
    },
    {
     "data": {
      "application/vnd.jupyter.widget-view+json": {
       "model_id": "6525c63639dd421f8d72cddb2cbc8eef",
       "version_major": 2,
       "version_minor": 0
      },
      "text/plain": [
       "Evaluating:   0%|          | 0/14 [00:00<?, ?it/s]"
      ]
     },
     "metadata": {},
     "output_type": "display_data"
    },
    {
     "name": "stdout",
     "output_type": "stream",
     "text": [
      "Epoch 5 Summary:\n",
      "  Train Avg Winner Loss: 2.8698\n",
      "  Validation Loss: 0.2420\n",
      "  Validation Accuracy: 0.9111\n",
      "  New best validation accuracy! Saving model state.\n",
      "  Epoch Training Accuracies:\n",
      "    head_1: 0.6540 \n",
      "    head_2: 0.6782 \n",
      "    head_3: 0.7523 \n",
      "    head_4: 0.9681 <- WINNER\n",
      "\n",
      "--- Epoch 6/10 ---\n",
      "Current Dropout Rates: {'head_1': 0.5, 'head_2': 0.7, 'head_3': 0.3, 'head_4': 0.1}\n"
     ]
    },
    {
     "data": {
      "application/vnd.jupyter.widget-view+json": {
       "model_id": "d0fb6ae83e924c1a8aec7e834dd3b114",
       "version_major": 2,
       "version_minor": 0
      },
      "text/plain": [
       "Training Epoch:   0%|          | 0/52 [00:00<?, ?it/s]"
      ]
     },
     "metadata": {},
     "output_type": "display_data"
    },
    {
     "data": {
      "application/vnd.jupyter.widget-view+json": {
       "model_id": "f769d9c3a88e48d0b8f8150a0afc0c02",
       "version_major": 2,
       "version_minor": 0
      },
      "text/plain": [
       "Evaluating:   0%|          | 0/14 [00:00<?, ?it/s]"
      ]
     },
     "metadata": {},
     "output_type": "display_data"
    },
    {
     "name": "stdout",
     "output_type": "stream",
     "text": [
      "Epoch 6 Summary:\n",
      "  Train Avg Winner Loss: 2.1625\n",
      "  Validation Loss: 0.2267\n",
      "  Validation Accuracy: 0.9147\n",
      "  New best validation accuracy! Saving model state.\n",
      "  Epoch Training Accuracies:\n",
      "    head_1: 0.8484 \n",
      "    head_2: 0.6544 \n",
      "    head_3: 0.8373 \n",
      "    head_4: 0.9839 <- WINNER\n",
      "\n",
      "--- Epoch 7/10 ---\n",
      "Current Dropout Rates: {'head_1': 0.4, 'head_2': 0.1, 'head_3': 0.2, 'head_4': 0.1}\n"
     ]
    },
    {
     "data": {
      "application/vnd.jupyter.widget-view+json": {
       "model_id": "78dd8024ad8041499f40323d9d381243",
       "version_major": 2,
       "version_minor": 0
      },
      "text/plain": [
       "Training Epoch:   0%|          | 0/52 [00:00<?, ?it/s]"
      ]
     },
     "metadata": {},
     "output_type": "display_data"
    },
    {
     "data": {
      "application/vnd.jupyter.widget-view+json": {
       "model_id": "bfb5f044576f46979cde04b224f84ac0",
       "version_major": 2,
       "version_minor": 0
      },
      "text/plain": [
       "Evaluating:   0%|          | 0/14 [00:00<?, ?it/s]"
      ]
     },
     "metadata": {},
     "output_type": "display_data"
    },
    {
     "name": "stdout",
     "output_type": "stream",
     "text": [
      "Epoch 7 Summary:\n",
      "  Train Avg Winner Loss: 0.7478\n",
      "  Validation Loss: 0.1975\n",
      "  Validation Accuracy: 0.9273\n",
      "  New best validation accuracy! Saving model state.\n",
      "  Epoch Training Accuracies:\n",
      "    head_1: 0.9100 \n",
      "    head_2: 0.9414 \n",
      "    head_3: 0.9142 \n",
      "    head_4: 0.9880 <- WINNER\n",
      "\n",
      "--- Epoch 8/10 ---\n",
      "Current Dropout Rates: {'head_1': 0.2, 'head_2': 0.4, 'head_3': 0.5, 'head_4': 0.1}\n"
     ]
    },
    {
     "data": {
      "application/vnd.jupyter.widget-view+json": {
       "model_id": "febe33d30f014b7590053f6b06df8af3",
       "version_major": 2,
       "version_minor": 0
      },
      "text/plain": [
       "Training Epoch:   0%|          | 0/52 [00:00<?, ?it/s]"
      ]
     },
     "metadata": {},
     "output_type": "display_data"
    },
    {
     "data": {
      "application/vnd.jupyter.widget-view+json": {
       "model_id": "fb436de6d0b74c518604dcd979b89230",
       "version_major": 2,
       "version_minor": 0
      },
      "text/plain": [
       "Evaluating:   0%|          | 0/14 [00:00<?, ?it/s]"
      ]
     },
     "metadata": {},
     "output_type": "display_data"
    },
    {
     "name": "stdout",
     "output_type": "stream",
     "text": [
      "Epoch 8 Summary:\n",
      "  Train Avg Winner Loss: 0.9139\n",
      "  Validation Loss: 0.2304\n",
      "  Validation Accuracy: 0.9147\n",
      "  Epoch Training Accuracies:\n",
      "    head_1: 0.9494 \n",
      "    head_2: 0.9038 \n",
      "    head_3: 0.8498 \n",
      "    head_4: 0.9890 <- WINNER\n",
      "\n",
      "--- Epoch 9/10 ---\n",
      "Current Dropout Rates: {'head_1': 0.5, 'head_2': 0.2, 'head_3': 0.4, 'head_4': 0.1}\n"
     ]
    },
    {
     "data": {
      "application/vnd.jupyter.widget-view+json": {
       "model_id": "23fec41648a1491dacd9f24a59263094",
       "version_major": 2,
       "version_minor": 0
      },
      "text/plain": [
       "Training Epoch:   0%|          | 0/52 [00:00<?, ?it/s]"
      ]
     },
     "metadata": {},
     "output_type": "display_data"
    },
    {
     "data": {
      "application/vnd.jupyter.widget-view+json": {
       "model_id": "6c126a0749d646c3b30d4a2376e821f4",
       "version_major": 2,
       "version_minor": 0
      },
      "text/plain": [
       "Evaluating:   0%|          | 0/14 [00:00<?, ?it/s]"
      ]
     },
     "metadata": {},
     "output_type": "display_data"
    },
    {
     "name": "stdout",
     "output_type": "stream",
     "text": [
      "Epoch 9 Summary:\n",
      "  Train Avg Winner Loss: 0.6809\n",
      "  Validation Loss: 0.2495\n",
      "  Validation Accuracy: 0.9111\n",
      "  Epoch Training Accuracies:\n",
      "    head_1: 0.9150 \n",
      "    head_2: 0.9501 \n",
      "    head_3: 0.9126 \n",
      "    head_4: 0.9899 <- WINNER\n",
      "\n",
      "--- Epoch 10/10 ---\n",
      "Current Dropout Rates: {'head_1': 0.2, 'head_2': 0.4, 'head_3': 0.5, 'head_4': 0.1}\n"
     ]
    },
    {
     "data": {
      "application/vnd.jupyter.widget-view+json": {
       "model_id": "5553016f894c4b129cc49ce18467197a",
       "version_major": 2,
       "version_minor": 0
      },
      "text/plain": [
       "Training Epoch:   0%|          | 0/52 [00:00<?, ?it/s]"
      ]
     },
     "metadata": {},
     "output_type": "display_data"
    },
    {
     "data": {
      "application/vnd.jupyter.widget-view+json": {
       "model_id": "5b51c387042a4628bb9aaf1dc8ce930b",
       "version_major": 2,
       "version_minor": 0
      },
      "text/plain": [
       "Evaluating:   0%|          | 0/14 [00:00<?, ?it/s]"
      ]
     },
     "metadata": {},
     "output_type": "display_data"
    },
    {
     "name": "stdout",
     "output_type": "stream",
     "text": [
      "Epoch 10 Summary:\n",
      "  Train Avg Winner Loss: 0.6933\n",
      "  Validation Loss: 0.3139\n",
      "  Validation Accuracy: 0.8937\n",
      "  Epoch Training Accuracies:\n",
      "    head_1: 0.9623 \n",
      "    head_2: 0.9232 \n",
      "    head_3: 0.8971 \n",
      "    head_4: 0.9856 <- WINNER\n",
      "\n",
      "Training complete for this LODO split.\n",
      "Loading best model state and evaluating on the TEST set...\n"
     ]
    },
    {
     "data": {
      "application/vnd.jupyter.widget-view+json": {
       "model_id": "dd103358da574a8591382b3e2ab82058",
       "version_major": 2,
       "version_minor": 0
      },
      "text/plain": [
       "Evaluating:   0%|          | 0/14 [00:00<?, ?it/s]"
      ]
     },
     "metadata": {},
     "output_type": "display_data"
    },
    {
     "name": "stdout",
     "output_type": "stream",
     "text": [
      "\n",
      "--- RESULTS FOR TARGET DOMAIN: PHOTO ---\n",
      "  Test Accuracy: 0.9449\n",
      "--------------------------------------------------\n",
      "==============================================================\n",
      "  STARTING LODO EXPERIMENT: Target Domain = SKETCH\n",
      "==============================================================\n",
      "--- Creating DataLoaders (80/20 Split Strategy) ---\n",
      "Target (Test) Domain: sketch\n",
      "Source Domains for Train/Val: ['art_painting', 'cartoon', 'photo']\n",
      "Source data size: 6062\n",
      "  -> Training on: 4849 images (80%)\n",
      "  -> Validating on: 1213 images (20%)\n",
      "Testing on full 'sketch' domain: 3929 images\n",
      "----------------------------------------------------\n"
     ]
    },
    {
     "name": "stderr",
     "output_type": "stream",
     "text": [
      "Some weights of ViTModel were not initialized from the model checkpoint at WinKawaks/vit-tiny-patch16-224 and are newly initialized: ['pooler.dense.bias', 'pooler.dense.weight']\n",
      "You should probably TRAIN this model on a down-stream task to be able to use it for predictions and inference.\n"
     ]
    },
    {
     "name": "stdout",
     "output_type": "stream",
     "text": [
      "\n",
      "--- Epoch 1/10 ---\n",
      "Current Dropout Rates: {'head_1': 0.3, 'head_2': 0.5, 'head_3': 0.2, 'head_4': 0.7}\n"
     ]
    },
    {
     "data": {
      "application/vnd.jupyter.widget-view+json": {
       "model_id": "1ce52262deeb4b4eb385c2380226cde3",
       "version_major": 2,
       "version_minor": 0
      },
      "text/plain": [
       "Training Epoch:   0%|          | 0/38 [00:00<?, ?it/s]"
      ]
     },
     "metadata": {},
     "output_type": "display_data"
    },
    {
     "data": {
      "application/vnd.jupyter.widget-view+json": {
       "model_id": "32786b44884e40bb81b8e02cc9221c67",
       "version_major": 2,
       "version_minor": 0
      },
      "text/plain": [
       "Evaluating:   0%|          | 0/10 [00:00<?, ?it/s]"
      ]
     },
     "metadata": {},
     "output_type": "display_data"
    },
    {
     "name": "stdout",
     "output_type": "stream",
     "text": [
      "Epoch 1 Summary:\n",
      "  Train Avg Winner Loss: 11.9756\n",
      "  Validation Loss: 0.4976\n",
      "  Validation Accuracy: 0.8920\n",
      "  New best validation accuracy! Saving model state.\n",
      "  Epoch Training Accuracies:\n",
      "    head_1: 0.1326 \n",
      "    head_2: 0.2227 \n",
      "    head_3: 0.2095 \n",
      "    head_4: 0.5972 <- WINNER\n",
      "\n",
      "--- Epoch 2/10 ---\n",
      "Current Dropout Rates: {'head_1': 0.7, 'head_2': 0.2, 'head_3': 0.4, 'head_4': 0.7}\n"
     ]
    },
    {
     "data": {
      "application/vnd.jupyter.widget-view+json": {
       "model_id": "1411615c35674eadb40a106921679712",
       "version_major": 2,
       "version_minor": 0
      },
      "text/plain": [
       "Training Epoch:   0%|          | 0/38 [00:00<?, ?it/s]"
      ]
     },
     "metadata": {},
     "output_type": "display_data"
    },
    {
     "data": {
      "application/vnd.jupyter.widget-view+json": {
       "model_id": "cf349bdf2ccb4749b9dc5211f2bac016",
       "version_major": 2,
       "version_minor": 0
      },
      "text/plain": [
       "Evaluating:   0%|          | 0/10 [00:00<?, ?it/s]"
      ]
     },
     "metadata": {},
     "output_type": "display_data"
    },
    {
     "name": "stdout",
     "output_type": "stream",
     "text": [
      "Epoch 2 Summary:\n",
      "  Train Avg Winner Loss: 7.7009\n",
      "  Validation Loss: 0.3400\n",
      "  Validation Accuracy: 0.9167\n",
      "  New best validation accuracy! Saving model state.\n",
      "  Epoch Training Accuracies:\n",
      "    head_1: 0.1961 \n",
      "    head_2: 0.4974 \n",
      "    head_3: 0.3797 \n",
      "    head_4: 0.8837 <- WINNER\n",
      "\n",
      "--- Epoch 3/10 ---\n",
      "Current Dropout Rates: {'head_1': 0.1, 'head_2': 0.5, 'head_3': 0.4, 'head_4': 0.7}\n"
     ]
    },
    {
     "data": {
      "application/vnd.jupyter.widget-view+json": {
       "model_id": "87c19662ade84bb28a37c72197bb5cbd",
       "version_major": 2,
       "version_minor": 0
      },
      "text/plain": [
       "Training Epoch:   0%|          | 0/38 [00:00<?, ?it/s]"
      ]
     },
     "metadata": {},
     "output_type": "display_data"
    },
    {
     "data": {
      "application/vnd.jupyter.widget-view+json": {
       "model_id": "380e8128b2ac4d4394c7f4b0587b1523",
       "version_major": 2,
       "version_minor": 0
      },
      "text/plain": [
       "Evaluating:   0%|          | 0/10 [00:00<?, ?it/s]"
      ]
     },
     "metadata": {},
     "output_type": "display_data"
    },
    {
     "name": "stdout",
     "output_type": "stream",
     "text": [
      "Epoch 3 Summary:\n",
      "  Train Avg Winner Loss: 4.4461\n",
      "  Validation Loss: 0.2243\n",
      "  Validation Accuracy: 0.9316\n",
      "  New best validation accuracy! Saving model state.\n",
      "  Epoch Training Accuracies:\n",
      "    head_1: 0.4584 \n",
      "    head_2: 0.5620 \n",
      "    head_3: 0.5593 \n",
      "    head_4: 0.9443 <- WINNER\n",
      "\n",
      "--- Epoch 4/10 ---\n",
      "Current Dropout Rates: {'head_1': 0.4, 'head_2': 0.3, 'head_3': 0.2, 'head_4': 0.7}\n"
     ]
    },
    {
     "data": {
      "application/vnd.jupyter.widget-view+json": {
       "model_id": "8cfa8dc3ce5745c9866ced0732aea6de",
       "version_major": 2,
       "version_minor": 0
      },
      "text/plain": [
       "Training Epoch:   0%|          | 0/38 [00:00<?, ?it/s]"
      ]
     },
     "metadata": {},
     "output_type": "display_data"
    },
    {
     "data": {
      "application/vnd.jupyter.widget-view+json": {
       "model_id": "5a2481accdf34d39995d29d223ac3c9e",
       "version_major": 2,
       "version_minor": 0
      },
      "text/plain": [
       "Evaluating:   0%|          | 0/10 [00:00<?, ?it/s]"
      ]
     },
     "metadata": {},
     "output_type": "display_data"
    },
    {
     "name": "stdout",
     "output_type": "stream",
     "text": [
      "Epoch 4 Summary:\n",
      "  Train Avg Winner Loss: 2.6479\n",
      "  Validation Loss: 0.1978\n",
      "  Validation Accuracy: 0.9390\n",
      "  New best validation accuracy! Saving model state.\n",
      "  Epoch Training Accuracies:\n",
      "    head_1: 0.5397 \n",
      "    head_2: 0.8181 \n",
      "    head_3: 0.7901 \n",
      "    head_4: 0.9670 <- WINNER\n",
      "\n",
      "--- Epoch 5/10 ---\n",
      "Current Dropout Rates: {'head_1': 0.1, 'head_2': 0.3, 'head_3': 0.2, 'head_4': 0.7}\n"
     ]
    },
    {
     "data": {
      "application/vnd.jupyter.widget-view+json": {
       "model_id": "f7219da9682a4b4e9931f97fa2d88ca7",
       "version_major": 2,
       "version_minor": 0
      },
      "text/plain": [
       "Training Epoch:   0%|          | 0/38 [00:00<?, ?it/s]"
      ]
     },
     "metadata": {},
     "output_type": "display_data"
    },
    {
     "data": {
      "application/vnd.jupyter.widget-view+json": {
       "model_id": "f4f1dc77170e4dcfa783f03984b927e1",
       "version_major": 2,
       "version_minor": 0
      },
      "text/plain": [
       "Evaluating:   0%|          | 0/10 [00:00<?, ?it/s]"
      ]
     },
     "metadata": {},
     "output_type": "display_data"
    },
    {
     "name": "stdout",
     "output_type": "stream",
     "text": [
      "Epoch 5 Summary:\n",
      "  Train Avg Winner Loss: 1.2807\n",
      "  Validation Loss: 0.1494\n",
      "  Validation Accuracy: 0.9497\n",
      "  New best validation accuracy! Saving model state.\n",
      "  Epoch Training Accuracies:\n",
      "    head_1: 0.8301 \n",
      "    head_2: 0.8928 \n",
      "    head_3: 0.8897 \n",
      "    head_4: 0.9800 <- WINNER\n",
      "\n",
      "--- Epoch 6/10 ---\n",
      "Current Dropout Rates: {'head_1': 0.5, 'head_2': 0.4, 'head_3': 0.1, 'head_4': 0.7}\n"
     ]
    },
    {
     "data": {
      "application/vnd.jupyter.widget-view+json": {
       "model_id": "bcebc9fc9419450da11eae079affda6d",
       "version_major": 2,
       "version_minor": 0
      },
      "text/plain": [
       "Training Epoch:   0%|          | 0/38 [00:00<?, ?it/s]"
      ]
     },
     "metadata": {},
     "output_type": "display_data"
    },
    {
     "data": {
      "application/vnd.jupyter.widget-view+json": {
       "model_id": "4108275180fa405b9d4f9b81c5db4c5d",
       "version_major": 2,
       "version_minor": 0
      },
      "text/plain": [
       "Evaluating:   0%|          | 0/10 [00:00<?, ?it/s]"
      ]
     },
     "metadata": {},
     "output_type": "display_data"
    },
    {
     "name": "stdout",
     "output_type": "stream",
     "text": [
      "Epoch 6 Summary:\n",
      "  Train Avg Winner Loss: 1.2838\n",
      "  Validation Loss: 0.1587\n",
      "  Validation Accuracy: 0.9464\n",
      "  Epoch Training Accuracies:\n",
      "    head_1: 0.7562 \n",
      "    head_2: 0.9016 \n",
      "    head_3: 0.9472 \n",
      "    head_4: 0.9852 <- WINNER\n",
      "\n",
      "--- Epoch 7/10 ---\n",
      "Current Dropout Rates: {'head_1': 0.2, 'head_2': 0.3, 'head_3': 0.4, 'head_4': 0.7}\n"
     ]
    },
    {
     "data": {
      "application/vnd.jupyter.widget-view+json": {
       "model_id": "e4b9c0b5a5aa4ec6abcd2dc541b430b8",
       "version_major": 2,
       "version_minor": 0
      },
      "text/plain": [
       "Training Epoch:   0%|          | 0/38 [00:00<?, ?it/s]"
      ]
     },
     "metadata": {},
     "output_type": "display_data"
    },
    {
     "data": {
      "application/vnd.jupyter.widget-view+json": {
       "model_id": "c25eab3da8b9481eb363e3b4898ef03d",
       "version_major": 2,
       "version_minor": 0
      },
      "text/plain": [
       "Evaluating:   0%|          | 0/10 [00:00<?, ?it/s]"
      ]
     },
     "metadata": {},
     "output_type": "display_data"
    },
    {
     "name": "stdout",
     "output_type": "stream",
     "text": [
      "Epoch 7 Summary:\n",
      "  Train Avg Winner Loss: 0.7388\n",
      "  Validation Loss: 0.1635\n",
      "  Validation Accuracy: 0.9448\n",
      "  Epoch Training Accuracies:\n",
      "    head_1: 0.9307 \n",
      "    head_2: 0.9602 \n",
      "    head_3: 0.8963 \n",
      "    head_4: 0.9872 <- WINNER\n",
      "\n",
      "--- Epoch 8/10 ---\n",
      "Current Dropout Rates: {'head_1': 0.2, 'head_2': 0.3, 'head_3': 0.5, 'head_4': 0.7}\n"
     ]
    },
    {
     "data": {
      "application/vnd.jupyter.widget-view+json": {
       "model_id": "cf5a960a087045f5bad089af8729b295",
       "version_major": 2,
       "version_minor": 0
      },
      "text/plain": [
       "Training Epoch:   0%|          | 0/38 [00:00<?, ?it/s]"
      ]
     },
     "metadata": {},
     "output_type": "display_data"
    },
    {
     "data": {
      "application/vnd.jupyter.widget-view+json": {
       "model_id": "656bb781479644c982fd451a56d3bd25",
       "version_major": 2,
       "version_minor": 0
      },
      "text/plain": [
       "Evaluating:   0%|          | 0/10 [00:00<?, ?it/s]"
      ]
     },
     "metadata": {},
     "output_type": "display_data"
    },
    {
     "name": "stdout",
     "output_type": "stream",
     "text": [
      "Epoch 8 Summary:\n",
      "  Train Avg Winner Loss: 0.4677\n",
      "  Validation Loss: 0.1778\n",
      "  Validation Accuracy: 0.9448\n",
      "  Epoch Training Accuracies:\n",
      "    head_1: 0.9775 \n",
      "    head_2: 0.9833 \n",
      "    head_3: 0.8969 \n",
      "    head_4: 0.9946 <- WINNER\n",
      "\n",
      "--- Epoch 9/10 ---\n",
      "Current Dropout Rates: {'head_1': 0.5, 'head_2': 0.4, 'head_3': 0.2, 'head_4': 0.7}\n"
     ]
    },
    {
     "data": {
      "application/vnd.jupyter.widget-view+json": {
       "model_id": "27caadd977c842bea2319c371fc62e69",
       "version_major": 2,
       "version_minor": 0
      },
      "text/plain": [
       "Training Epoch:   0%|          | 0/38 [00:00<?, ?it/s]"
      ]
     },
     "metadata": {},
     "output_type": "display_data"
    },
    {
     "data": {
      "application/vnd.jupyter.widget-view+json": {
       "model_id": "59432f064ac64a71b8980dc352c3ce0f",
       "version_major": 2,
       "version_minor": 0
      },
      "text/plain": [
       "Evaluating:   0%|          | 0/10 [00:00<?, ?it/s]"
      ]
     },
     "metadata": {},
     "output_type": "display_data"
    },
    {
     "name": "stdout",
     "output_type": "stream",
     "text": [
      "Epoch 9 Summary:\n",
      "  Train Avg Winner Loss: 0.2596\n",
      "  Validation Loss: 0.1820\n",
      "  Validation Accuracy: 0.9514\n",
      "  New best validation accuracy! Saving model state.\n",
      "  Epoch Training Accuracies:\n",
      "    head_1: 0.9464 \n",
      "    head_2: 0.9872 \n",
      "    head_3: 0.9860 \n",
      "    head_4: 0.9942 <- WINNER\n",
      "\n",
      "--- Epoch 10/10 ---\n",
      "Current Dropout Rates: {'head_1': 0.4, 'head_2': 0.7, 'head_3': 0.5, 'head_4': 0.7}\n"
     ]
    },
    {
     "data": {
      "application/vnd.jupyter.widget-view+json": {
       "model_id": "fdc2219997a143a181cf9adf90a6aba6",
       "version_major": 2,
       "version_minor": 0
      },
      "text/plain": [
       "Training Epoch:   0%|          | 0/38 [00:00<?, ?it/s]"
      ]
     },
     "metadata": {},
     "output_type": "display_data"
    },
    {
     "data": {
      "application/vnd.jupyter.widget-view+json": {
       "model_id": "2b66ee5de5674726a2942945a725f81d",
       "version_major": 2,
       "version_minor": 0
      },
      "text/plain": [
       "Evaluating:   0%|          | 0/10 [00:00<?, ?it/s]"
      ]
     },
     "metadata": {},
     "output_type": "display_data"
    },
    {
     "name": "stdout",
     "output_type": "stream",
     "text": [
      "Epoch 10 Summary:\n",
      "  Train Avg Winner Loss: 0.3837\n",
      "  Validation Loss: 0.1978\n",
      "  Validation Accuracy: 0.9481\n",
      "  Epoch Training Accuracies:\n",
      "    head_1: 0.9823 \n",
      "    head_2: 0.9330 \n",
      "    head_3: 0.9637 \n",
      "    head_4: 0.9936 <- WINNER\n",
      "\n",
      "Training complete for this LODO split.\n",
      "Loading best model state and evaluating on the TEST set...\n"
     ]
    },
    {
     "data": {
      "application/vnd.jupyter.widget-view+json": {
       "model_id": "7521ee2f86104dfd8fe715474f01a271",
       "version_major": 2,
       "version_minor": 0
      },
      "text/plain": [
       "Evaluating:   0%|          | 0/31 [00:00<?, ?it/s]"
      ]
     },
     "metadata": {},
     "output_type": "display_data"
    },
    {
     "name": "stdout",
     "output_type": "stream",
     "text": [
      "\n",
      "--- RESULTS FOR TARGET DOMAIN: SKETCH ---\n",
      "  Test Accuracy: 0.6500\n",
      "--------------------------------------------------\n",
      "\n",
      "\n",
      "==============================================================\n",
      "          ALL ADAPTIVE DROPOUT LODO EXPERIMENTS COMPLETE\n",
      "==============================================================\n"
     ]
    }
   ],
   "source": [
    "# =================================================================================\n",
    "# SECTION 5: THE MAIN EXPERIMENT LOOP (ADVANCED STRATEGY)\n",
    "# =================================================================================\n",
    "# This version implements the \"Winner-Stays, Losers-Re-roll\" dropout strategy.\n",
    "# The dropout rates are now dynamic and adapt based on epoch performance.\n",
    "# ---------------------------------------------------------------------------------\n",
    "\n",
    "# A fresh copy of the config to ensure we start clean\n",
    "config = Config()\n",
    "lodo_histories = {} # <--- ADD THIS LINE\n",
    "\n",
    "\n",
    "# Loop over each domain to set it as the target domain once\n",
    "for target_domain in config.DOMAINS:\n",
    "    print(f\"==============================================================\")\n",
    "    print(f\"  STARTING LODO EXPERIMENT: Target Domain = {target_domain.upper()}\")\n",
    "    print(f\"==============================================================\")\n",
    "    \n",
    "    # --- 1. Setup for this specific LODO run ---\n",
    "    # Get the specific data loaders for this train/test split\n",
    "    train_loader, val_loader, test_loader = get_dataloaders(\n",
    "        root_dir=config.DATA_DIR,\n",
    "        target_domain=target_domain,\n",
    "        all_domains=config.DOMAINS,\n",
    "        batch_size=config.BATCH_SIZE, seed=config.SEED\n",
    "    )\n",
    "    \n",
    "    # Initialize the first set of random dropout rates for the competing heads.\n",
    "    # np.random.choice ensures we get unique rates if possible.\n",
    "    current_dropout_rates = list(np.random.choice(\n",
    "        config.DROPOUT_OPTIONS, \n",
    "        config.NUM_HEADS, \n",
    "        replace=False # Tries to pick unique rates\n",
    "    ))\n",
    "    \n",
    "    # Initialize a fresh model with the starting dropout rates\n",
    "    model = EvolutionaryViT(\n",
    "        model_name=config.MODEL_NAME,\n",
    "        num_classes=config.NUM_CLASSES,\n",
    "        dropout_rates=current_dropout_rates # Pass the list of rates\n",
    "    ).to(config.DEVICE)\n",
    "    \n",
    "    # Initialize a fresh optimizer and loss function\n",
    "    optimizer = torch.optim.AdamW(model.parameters(), lr=config.LEARNING_RATE)\n",
    "    criterion = nn.CrossEntropyLoss()\n",
    "    \n",
    "    # --- 2. Training Loop for this LODO run ---\n",
    "    best_val_accuracy = 0.0\n",
    "    best_model_state = None\n",
    "\n",
    "    history = {\n",
    "        \"train_loss\": [],\n",
    "        \"val_loss\": [],\n",
    "        \"val_accuracy\": []\n",
    "    }\n",
    "    \n",
    "    for epoch in range(config.NUM_EPOCHS):\n",
    "        print(f\"\\n--- Epoch {epoch+1}/{config.NUM_EPOCHS} ---\")\n",
    "        print(f\"Current Dropout Rates: { {f'head_{i+1}': rate for i, rate in enumerate(current_dropout_rates)} }\")\n",
    "        \n",
    "        # Train for one epoch using the per-batch winner selection\n",
    "        train_metrics = train_one_epoch(model, train_loader, optimizer, criterion, config.DEVICE)\n",
    "        \n",
    "        # Evaluate on the validation set to check progress and save the best model\n",
    "        val_metrics = evaluate(model, val_loader, criterion, config.DEVICE)\n",
    "        \n",
    "        print(f\"Epoch {epoch+1} Summary:\")\n",
    "        print(f\"  Train Avg Winner Loss: {train_metrics['avg_winner_loss']:.4f}\")\n",
    "        print(f\"  Validation Loss: {val_metrics['avg_loss']:.4f}\")\n",
    "        print(f\"  Validation Accuracy: {val_metrics['accuracy']:.4f}\")\n",
    "\n",
    "        history[\"train_loss\"].append(train_metrics['avg_winner_loss'])\n",
    "        history[\"val_loss\"].append(val_metrics['avg_loss'])\n",
    "        history[\"val_accuracy\"].append(val_metrics['accuracy'])\n",
    "        \n",
    "        # Check if this is the best model so far based on validation performance\n",
    "        if val_metrics['accuracy'] > best_val_accuracy:\n",
    "            print(f\"  New best validation accuracy! Saving model state.\")\n",
    "            best_val_accuracy = val_metrics['accuracy']\n",
    "            best_model_state = copy.deepcopy(model.state_dict())\n",
    "\n",
    "        # --- Adaptive Dropout Logic for the NEXT epoch ---\n",
    "        # Find the head that had the best OVERALL accuracy during this epoch\n",
    "        epoch_winner_head_name = max(train_metrics['head_accuracies'], key=train_metrics['head_accuracies'].get)\n",
    "        epoch_winner_index = int(epoch_winner_head_name.split('_')[-1]) - 1\n",
    "        \n",
    "        print(f\"  Epoch Training Accuracies:\")\n",
    "        for name, acc in sorted(train_metrics['head_accuracies'].items()):\n",
    "            marker = \"<- WINNER\" if name == epoch_winner_head_name else \"\"\n",
    "            print(f\"    {name}: {acc:.4f} {marker}\")\n",
    "        \n",
    "        # Keep the winner's dropout rate for the next epoch\n",
    "        winner_rate = current_dropout_rates[epoch_winner_index]\n",
    "        \n",
    "        # Generate a new set of random rates for all heads\n",
    "        new_random_rates = list(np.random.choice(config.DROPOUT_OPTIONS, config.NUM_HEADS, replace=False))\n",
    "        \n",
    "        # \"Exploitation\": Overwrite the winner's slot with its successful rate\n",
    "        new_random_rates[epoch_winner_index] = winner_rate\n",
    "        \n",
    "        # \"Exploration\": The other heads get new random rates\n",
    "        current_dropout_rates = new_random_rates\n",
    "        \n",
    "        # Update the model in-place with the new dropout rates\n",
    "        model.update_dropout_rates(current_dropout_rates)\n",
    "            \n",
    "    # --- 3. Final Evaluation for this LODO run ---\n",
    "    print(\"\\nTraining complete for this LODO split.\")\n",
    "    print(\"Loading best model state and evaluating on the TEST set...\")\n",
    "    \n",
    "    # Load the best performing model based on validation accuracy\n",
    "    model.load_state_dict(best_model_state)\n",
    "    \n",
    "    # Evaluate on the unseen target domain (the test set)\n",
    "    test_metrics = evaluate(model, test_loader, criterion, config.DEVICE)\n",
    "    \n",
    "    print(f\"\\n--- RESULTS FOR TARGET DOMAIN: {target_domain.upper()} ---\")\n",
    "    print(f\"  Test Accuracy: {test_metrics['accuracy']:.4f}\")\n",
    "    print(f\"--------------------------------------------------\")\n",
    "    \n",
    "    lodo_histories[target_domain] = history\n",
    "    # --- 4. Store the final results ---\n",
    "    experiment_results.append({\n",
    "        \"target_domain\": target_domain,\n",
    "        \"source_domains\": [d for d in config.DOMAINS if d != target_domain],\n",
    "        \"test_accuracy\": test_metrics['accuracy'],\n",
    "        \"best_val_accuracy\": best_val_accuracy,\n",
    "        \"model_name\": config.MODEL_NAME,\n",
    "        \"num_epochs\": config.NUM_EPOCHS,\n",
    "        \"batch_size\": config.BATCH_SIZE,\n",
    "        \"learning_rate\": config.LEARNING_RATE\n",
    "    })\n",
    "\n",
    "print(\"\\n\\n==============================================================\")\n",
    "print(\"          ALL ADAPTIVE DROPOUT LODO EXPERIMENTS COMPLETE\")\n",
    "print(\"==============================================================\")"
   ]
  },
  {
   "cell_type": "code",
   "execution_count": null,
   "metadata": {},
   "outputs": [],
   "source": [
    "# =================================================================================\n",
    "# SECTION 8: VISUALIZE LEARNING CURVES\n",
    "# =================================================================================\n",
    "print(\"\\n\" + \"=\"*70)\n",
    "print(\"--- Visualizing Learning Curves for Each LODO Experiment ---\")\n",
    "print(\"=\"*70)\n",
    "\n",
    "for domain, history in lodo_histories.items():\n",
    "    epochs = range(1, len(history['train_loss']) + 1)\n",
    "    \n",
    "    fig, ax1 = plt.subplots(figsize=(12, 7))\n",
    "    \n",
    "    ax1.set_xlabel('Epochs', fontsize=14)\n",
    "    ax1.set_ylabel('Loss', fontsize=14, color='tab:blue')\n",
    "    ax1.plot(epochs, history['train_loss'], 'b-', label='Training Loss')\n",
    "    ax1.plot(epochs, history['val_loss'], 'b--', label='Validation Loss')\n",
    "    ax1.tick_params(axis='y', labelcolor='tab:blue')\n",
    "    \n",
    "    ax2 = ax1.twinx()\n",
    "    ax2.set_ylabel('Accuracy', fontsize=14, color='tab:green')\n",
    "    ax2.plot(epochs, history['val_accuracy'], 'g-s', label='Validation Accuracy')\n",
    "    ax2.tick_params(axis='y', labelcolor='tab:green')\n",
    "    \n",
    "    plt.title(f'Learning Curves (Target Domain: {domain.upper()})', fontsize=16, fontweight='bold')\n",
    "    fig.legend(loc=\"upper right\", bbox_to_anchor=(0.9,0.9))\n",
    "    \n",
    "    fig.tight_layout()\n",
    "    plt.show()"
   ]
  },
  {
   "cell_type": "code",
   "execution_count": 9,
   "metadata": {
    "execution": {
     "iopub.execute_input": "2025-10-10T18:52:06.403970Z",
     "iopub.status.busy": "2025-10-10T18:52:06.403200Z",
     "iopub.status.idle": "2025-10-10T18:52:06.625604Z",
     "shell.execute_reply": "2025-10-10T18:52:06.624810Z",
     "shell.execute_reply.started": "2025-10-10T18:52:06.403944Z"
    },
    "trusted": true
   },
   "outputs": [
    {
     "name": "stdout",
     "output_type": "stream",
     "text": [
      "--- Final Experiment Results ---\n",
      "  target_domain  test_accuracy  best_val_accuracy  num_epochs  batch_size  learning_rate                      model_name\n",
      "0  art_painting       0.810059           0.923851          10         128         0.0001  WinKawaks/vit-tiny-patch16-224\n",
      "1       cartoon       0.767491           0.916993          10         128         0.0001  WinKawaks/vit-tiny-patch16-224\n",
      "2         photo       0.944910           0.927327          10         128         0.0001  WinKawaks/vit-tiny-patch16-224\n",
      "3        sketch       0.650038           0.951360          10         128         0.0001  WinKawaks/vit-tiny-patch16-224\n",
      "\n",
      "==================================================\n",
      "Average Test Accuracy Across All Domains: 0.7931\n",
      "==================================================\n"
     ]
    },
    {
     "name": "stderr",
     "output_type": "stream",
     "text": [
      "C:\\Users\\Fatim_Sproj\\AppData\\Local\\Temp\\ipykernel_5152\\2340688840.py:40: FutureWarning: \n",
      "\n",
      "Passing `palette` without assigning `hue` is deprecated and will be removed in v0.14.0. Assign the `x` variable to `hue` and set `legend=False` for the same effect.\n",
      "\n",
      "  sns.barplot(\n"
     ]
    },
    {
     "data": {
      "image/png": "[encoded data removed]",
      "text/plain": [
       "<Figure size 1000x600 with 1 Axes>"
      ]
     },
     "metadata": {},
     "output_type": "display_data"
    },
    {
     "name": "stdout",
     "output_type": "stream",
     "text": [
      "\n",
      "======================================================================\n",
      "--- Dictionary for Final Plotting ---\n",
      "# Copy the dictionary below and paste it into your final analysis notebook.\n",
      "my_method_results = {\n",
      "    'target_domain': ['art_painting', 'cartoon', 'photo', 'sketch'],\n",
      "    'test_accuracy': [0.8101, 0.7675, 0.9449, 0.65]\n",
      "}\n",
      "======================================================================\n",
      "\n",
      "--- Experiment Complete ---\n"
     ]
    }
   ],
   "source": [
    "# =================================================================================\n",
    "# SECTION 6: ANALYSIS & VISUALIZATION (with Dictionary Output)\n",
    "# =================================================================================\n",
    "# Now that all experiments are complete, we'll process the results\n",
    "# and create visualizations to understand the performance of our method.\n",
    "# ---------------------------------------------------------------------------------\n",
    "\n",
    "# Add this magic command to ensure plots are displayed in the notebook\n",
    "%matplotlib inline\n",
    "import matplotlib.pyplot as plt\n",
    "import seaborn as sns\n",
    "\n",
    "\n",
    "# ---------------------------------------------------------------------------------\n",
    "# 6.1: DISPLAY RESULTS IN A TABLE\n",
    "# ---------------------------------------------------------------------------------\n",
    "print(\"--- Final Experiment Results ---\")\n",
    "\n",
    "results_df = pd.DataFrame(experiment_results)\n",
    "column_order = [\n",
    "    \"target_domain\", \"test_accuracy\", \"best_val_accuracy\", \"num_epochs\",\n",
    "    \"batch_size\", \"learning_rate\", \"model_name\"\n",
    "]\n",
    "existing_columns = [col for col in column_order if col in results_df.columns]\n",
    "results_df = results_df[existing_columns]\n",
    "average_accuracy = results_df['test_accuracy'].mean()\n",
    "\n",
    "print(results_df.to_string())\n",
    "print(\"\\n\" + \"=\"*50)\n",
    "print(f\"Average Test Accuracy Across All Domains: {average_accuracy:.4f}\")\n",
    "print(\"=\"*50)\n",
    "\n",
    "\n",
    "# ---------------------------------------------------------------------------------\n",
    "# 6.2: VISUALIZE THE RESULTS\n",
    "# ---------------------------------------------------------------------------------\n",
    "plt.style.use('seaborn-v0_8-whitegrid')\n",
    "fig, ax = plt.subplots(1, 1, figsize=(10, 6))\n",
    "\n",
    "sns.barplot(\n",
    "    data=results_df, x='target_domain', y='test_accuracy', ax=ax, palette='viridis'\n",
    ")\n",
    "\n",
    "for index, row in results_df.iterrows():\n",
    "    ax.text(index, row['test_accuracy'] + 0.01, f\"{row['test_accuracy']:.2%}\",\n",
    "            color='black', ha=\"center\", fontsize=12)\n",
    "    \n",
    "ax.axhline(average_accuracy, ls='--', color='red', label=f'Average Accuracy ({average_accuracy:.2%})')\n",
    "\n",
    "ax.set_title('Model Performance on Unseen Target Domains (LODO)', fontsize=16, pad=20)\n",
    "ax.set_xlabel('Target (Unseen) Domain', fontsize=12)\n",
    "ax.set_ylabel('Test Accuracy', fontsize=12)\n",
    "ax.set_ylim(0, 1.0)\n",
    "ax.legend()\n",
    "\n",
    "plt.tight_layout()\n",
    "plt.show()\n",
    "\n",
    "# ---------------------------------------------------------------------------------\n",
    "### NEW SECTION ###\n",
    "# 6.3: GENERATE COPY-PASTE DICTIONARY FOR FINAL PLOTTING\n",
    "# ---------------------------------------------------------------------------------\n",
    "print(\"\\n\" + \"=\"*70)\n",
    "print(\"--- Dictionary for Final Plotting ---\")\n",
    "print(\"# Copy the dictionary below and paste it into your final analysis notebook.\")\n",
    "\n",
    "# Determine the variable name based on the notebook (you can adjust this)\n",
    "# For the baseline notebook, you'd want 'baseline_results'.\n",
    "# For the evolutionary notebook, you'd want 'evolutionary_results'.\n",
    "method_name = \"my_method_results\" # Generic name\n",
    "if \"baseline\" in os.getcwd(): # Simple check if 'baseline' is in the notebook path\n",
    "    method_name = \"baseline_results\"\n",
    "elif \"drop-out\" in os.getcwd():\n",
    "    method_name = \"evolutionary_results\"\n",
    "    \n",
    "# Extract the lists from the DataFrame\n",
    "domain_list = results_df['target_domain'].tolist()\n",
    "accuracy_list = [round(acc, 4) for acc in results_df['test_accuracy'].tolist()]\n",
    "\n",
    "# Print in the desired format\n",
    "print(f\"{method_name} = {{\")\n",
    "print(f\"    'target_domain': {domain_list},\")\n",
    "print(f\"    'test_accuracy': {accuracy_list}\")\n",
    "print(f\"}}\")\n",
    "print(\"=\"*70)\n",
    "\n",
    "\n",
    "print(\"\\n--- Experiment Complete ---\")"
   ]
  },
  {
   "cell_type": "code",
   "execution_count": 10,
   "metadata": {},
   "outputs": [
    {
     "data": {
      "image/png": "[encoded data removed]",
      "text/plain": [
       "<Figure size 1400x800 with 1 Axes>"
      ]
     },
     "metadata": {},
     "output_type": "display_data"
    },
    {
     "name": "stdout",
     "output_type": "stream",
     "text": [
      "\n",
      "--- Average Performance Summary ---\n",
      "Average Baseline Accuracy: 75.61%\n",
      "Average Evolutionary Dropout Accuracy: 77.77%\n"
     ]
    }
   ],
   "source": [
    "# =================================================================================\n",
    "# SECTION 7: COMPARATIVE ANALYSIS & VISUALIZATION (ACADEMIC STYLE - FINAL FIX)\n",
    "# =================================================================================\n",
    "\n",
    "import pandas as pd\n",
    "import matplotlib.pyplot as plt\n",
    "import seaborn as sns\n",
    "\n",
    "# --- 7.1: COMBINE EXPERIMENT RESULTS ---\n",
    "baseline_results = {\n",
    "    'target_domain': ['art_painting', 'cartoon', 'photo', 'sketch'],\n",
    "    'test_accuracy': [0.8213, 0.7082, 0.9060, 0.5887]\n",
    "}\n",
    "# Using the results from your successful Option 4 run\n",
    "evolutionary_results = {\n",
    "    'target_domain': ['art_painting', 'cartoon', 'photo', 'sketch'],\n",
    "    'test_accuracy': [0.7993, 0.7381, 0.9587, 0.6149]\n",
    "}\n",
    "baseline_df = pd.DataFrame(baseline_results)\n",
    "baseline_df['method_name'] = 'Baseline'\n",
    "evolutionary_df = pd.DataFrame(evolutionary_results)\n",
    "evolutionary_df['method_name'] = 'Train All'\n",
    "combined_df = pd.concat([baseline_df, evolutionary_df])\n",
    "\n",
    "# --- 7.2: CREATE THE GROUPED BAR CHART (ROBUST VERSION) ---\n",
    "\n",
    "sns.set_theme(style=\"whitegrid\")\n",
    "plt.rcParams['font.family'] = 'serif'\n",
    "fig, ax = plt.subplots(figsize=(14, 8))\n",
    "\n",
    "custom_palette = {'Baseline': '#4B6A9A', 'Train All': '#66C2A5'}\n",
    "\n",
    "barplot = sns.barplot(\n",
    "    data=combined_df,\n",
    "    x='target_domain',\n",
    "    y='test_accuracy',\n",
    "    hue='method_name',\n",
    "    ax=ax,\n",
    "    palette=custom_palette,\n",
    "    edgecolor='black'\n",
    ")\n",
    "\n",
    "### THE FIX IS HERE ###\n",
    "# Use the robust 'containers' method to apply patterns correctly.\n",
    "\n",
    "# ax.containers[0] is the container for the first hue category (Baseline)\n",
    "# ax.containers[1] is the container for the second hue category (Evolutionary Dropout)\n",
    "\n",
    "# We want to add a pattern to the second container's bars.\n",
    "for bar in ax.containers[1]:\n",
    "    bar.set_hatch('..')\n",
    "\n",
    "# We also need to apply the pattern to the corresponding legend handle.\n",
    "# The legend handles are created in the same order.\n",
    "ax.legend_.legend_handles[1].set_hatch('..')\n",
    "\n",
    "# --- Add annotations (text on bars) ---\n",
    "for p in ax.patches:\n",
    "    if p.get_height() > 0:\n",
    "        ax.annotate(\n",
    "            f\"{p.get_height():.2%}\",\n",
    "            (p.get_x() + p.get_width() / 2., p.get_height()),\n",
    "            ha='center', va='center',\n",
    "            xytext=(0, 10),\n",
    "            textcoords='offset points',\n",
    "            fontsize=14,\n",
    "            fontweight='bold',\n",
    "            color='black'\n",
    "        )\n",
    "\n",
    "# --- Final plot styling ---\n",
    "ax.set_title('Model Comparison on Unseen Target Domains (LODO)', fontsize=22, fontweight='bold', pad=20)\n",
    "ax.set_xlabel('Target (Unseen) Domain', fontsize=18, fontweight='bold')\n",
    "ax.set_ylabel('Top-1 Test Accuracy (%)', fontsize=18, fontweight='bold')\n",
    "ax.set_ylim(0, 1.1)\n",
    "ax.tick_params(axis='both', which='major', labelsize=14)\n",
    "ax.get_yaxis().set_major_formatter(plt.FuncFormatter(lambda x, p: f'{x:.0%}'))\n",
    "\n",
    "legend = ax.get_legend()\n",
    "plt.setp(legend.get_title(), fontweight='bold')\n",
    "\n",
    "sns.despine()\n",
    "plt.tight_layout()\n",
    "plt.show()\n",
    "\n",
    "# --- Print the final summary table ---\n",
    "avg_baseline = baseline_df['test_accuracy'].mean()\n",
    "avg_evolutionary = evolutionary_df['test_accuracy'].mean()\n",
    "print(\"\\n--- Average Performance Summary ---\")\n",
    "print(f\"Average Baseline Accuracy: {avg_baseline:.2%}\")\n",
    "print(f\"Average Evolutionary Dropout Accuracy: {avg_evolutionary:.2%}\")"
   ]
  }
 ],
 "metadata": {
  "kaggle": {
   "accelerator": "nvidiaTeslaT4",
   "dataSources": [
    {
     "datasetId": 8446344,
     "sourceId": 13323122,
     "sourceType": "datasetVersion"
    }
   ],
   "dockerImageVersionId": 31154,
   "isGpuEnabled": true,
   "isInternetEnabled": true,
   "language": "python",
   "sourceType": "notebook"
  },
  "kernelspec": {
   "display_name": "Python 3",
   "language": "python",
   "name": "python3"
  },
  "language_info": {
   "codemirror_mode": {
    "name": "ipython",
    "version": 3
   },
   "file_extension": ".py",
   "mimetype": "text/x-python",
   "name": "python",
   "nbconvert_exporter": "python",
   "pygments_lexer": "ipython3",
   "version": "3.11.9"
  }
 },
 "nbformat": 4,
 "nbformat_minor": 4
}
