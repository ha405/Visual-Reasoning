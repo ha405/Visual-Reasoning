{
 "cells": [
  {
   "cell_type": "markdown",
   "id": "45b54d51",
   "metadata": {},
   "source": [
    "### Imports"
   ]
  },
  {
   "cell_type": "code",
   "execution_count": null,
   "id": "c2ed7aba",
   "metadata": {},
   "outputs": [],
   "source": [
    "import torch\n",
    "import torch.nn as nn\n",
    "import torch.optim as optim\n",
    "import torchvision.transforms as transforms\n",
    "import timm\n",
    "from model import LatenViTSmall\n",
    "import os\n",
    "from torch.utils.data import DataLoader, Dataset\n",
    "from PIL import Image\n"
   ]
  },
  {
   "cell_type": "markdown",
   "id": "d8966fc6",
   "metadata": {},
   "source": [
    "### Configuration"
   ]
  },
  {
   "cell_type": "code",
   "execution_count": null,
   "id": "4fdcfdab",
   "metadata": {},
   "outputs": [],
   "source": [
    "\n",
    "class Config:\n",
    "    MODEL_NAME   = 'vit_small_patch16_224.augreg_in21k'\n",
    "    NUM_CLASSES  = 7      \n",
    "    NREPEAT      = 3\n",
    "    START_BLOCK  = 8\n",
    "    END_BLOCK    = 10\n",
    "    NUM_LAYERS   = 12\n",
    "    \n",
    "    BATCH_SIZE   = 32\n",
    "    NUM_EPOCHS   = 5\n",
    "    LEARNING_RATE= 1e-4\n",
    "    DEVICE       = torch.device('cuda' if torch.cuda.is_available() else 'cpu')\n",
    "\n",
    "    DATA_ROOT    = \"../../../../pacs_data/pacs_data\"\n",
    "    DOMAINS      = [\"art_painting\", \"cartoon\", \"photo\", \"sketch\"]\n",
    "    \n",
    "    TRANSFORM = transforms.Compose([\n",
    "    transforms.Resize((224, 224)),\n",
    "    transforms.ToTensor(),\n",
    "    transforms.Normalize(mean=(0.5,), std=(0.5,))\n",
    "])\n"
   ]
  },
  {
   "cell_type": "markdown",
   "id": "07547270",
   "metadata": {},
   "source": [
    "### PACS Dataset Class"
   ]
  },
  {
   "cell_type": "code",
   "execution_count": null,
   "id": "f1d5a0cd",
   "metadata": {},
   "outputs": [],
   "source": [
    "class PACSDataset(Dataset):\n",
    "    def __init__(self, root_dir, domain, transform=None):\n",
    "        self.root_dir    = os.path.join(root_dir, domain)\n",
    "        self.transform   = transform\n",
    "        self.classes     = sorted(os.listdir(self.root_dir))\n",
    "        self.class_to_idx= {cls_name: i for i, cls_name in enumerate(self.classes)}\n",
    "        self.images      = []\n",
    "        self.labels      = []\n",
    "        \n",
    "        for cls_name in self.classes:\n",
    "            cls_dir = os.path.join(self.root_dir, cls_name)\n",
    "            for img_name in os.listdir(cls_dir):\n",
    "                self.images.append(os.path.join(cls_dir, img_name))\n",
    "                self.labels.append(self.class_to_idx[cls_name])\n",
    "                \n",
    "    def __len__(self):\n",
    "        return len(self.images)\n",
    "    \n",
    "    def __getitem__(self, idx):\n",
    "        img_path = self.images[idx]\n",
    "        image    = Image.open(img_path).convert('RGB')\n",
    "        label    = self.labels[idx]\n",
    "        \n",
    "        if self.transform:\n",
    "            image = self.transform(image)\n",
    "        return image, label\n"
   ]
  },
  {
   "cell_type": "markdown",
   "id": "d95fe33e",
   "metadata": {},
   "source": [
    "### Model Setup"
   ]
  },
  {
   "cell_type": "code",
   "execution_count": null,
   "id": "a1af0b35",
   "metadata": {},
   "outputs": [],
   "source": [
    "def setup_model():\n",
    "    base_model = timm.create_model(Config.MODEL_NAME, pretrained=True)\n",
    "    model = LatenViTSmall(\n",
    "        model     = base_model,\n",
    "        nrepeat   = Config.NREPEAT,\n",
    "        start     = Config.START_BLOCK,\n",
    "        end       = Config.END_BLOCK,\n",
    "        num_layers= Config.NUM_LAYERS\n",
    "    )\n",
    "    return model.to(Config.DEVICE)\n"
   ]
  },
  {
   "cell_type": "markdown",
   "id": "9db40587",
   "metadata": {},
   "source": [
    "### Training Function"
   ]
  },
  {
   "cell_type": "code",
   "execution_count": null,
   "id": "489747cb",
   "metadata": {},
   "outputs": [],
   "source": [
    "def train_epoch(model, dataloader, criterion, optimizer):\n",
    "    model.train()\n",
    "    running_loss = 0.0\n",
    "    correct      = 0\n",
    "    total        = 0\n",
    "    \n",
    "    for images, labels in dataloader:\n",
    "        images, labels = images.to(Config.DEVICE), labels.to(Config.DEVICE)\n",
    "        \n",
    "        optimizer.zero_grad()\n",
    "        outputs = model(images)\n",
    "        loss    = criterion(outputs, labels)\n",
    "        loss.backward()\n",
    "        optimizer.step()\n",
    "        \n",
    "        running_loss += loss.item()\n",
    "        _, predicted  = outputs.max(1)\n",
    "        total        += labels.size(0)\n",
    "        correct      += predicted.eq(labels).sum().item()\n",
    "        \n",
    "    epoch_loss = running_loss / len(dataloader)\n",
    "    epoch_acc  = 100.0 * correct / total\n",
    "    return epoch_loss, epoch_acc\n"
   ]
  },
  {
   "cell_type": "markdown",
   "id": "b13d5b1e",
   "metadata": {},
   "source": [
    "### Training Function"
   ]
  },
  {
   "cell_type": "code",
   "execution_count": null,
   "id": "d5ee5a3c",
   "metadata": {},
   "outputs": [],
   "source": [
    "@torch.no_grad()\n",
    "def evaluate(model, dataloader):\n",
    "    model.eval()\n",
    "    correct = 0\n",
    "    total   = 0\n",
    "    \n",
    "    for images, labels in dataloader:\n",
    "        images, labels = images.to(Config.DEVICE), labels.to(Config.DEVICE)\n",
    "        outputs        = model(images)\n",
    "        \n",
    "        _, predicted = outputs.max(1)\n",
    "        total       += labels.size(0)\n",
    "        correct     += predicted.eq(labels).sum().item()\n",
    "        \n",
    "    return 100.0 * correct / total\n"
   ]
  },
  {
   "cell_type": "markdown",
   "id": "9ec7a5ba",
   "metadata": {},
   "source": [
    "### Main"
   ]
  },
  {
   "cell_type": "code",
   "execution_count": null,
   "id": "2d57310d",
   "metadata": {},
   "outputs": [],
   "source": [
    "model     = setup_model()\n",
    "criterion = nn.CrossEntropyLoss()\n",
    "optimizer = optim.AdamW(model.parameters(), lr=Config.LEARNING_RATE)\n",
    "\n",
    "train_ds   = PACSDataset(Config.DATA_ROOT, \"photo\", Config.TRANSFORM)\n",
    "train_loader = DataLoader(\n",
    "    train_ds, batch_size=Config.BATCH_SIZE, shuffle=True\n",
    ")\n",
    "\n",
    "val_loaders = {}\n",
    "for domain in Config.DOMAINS:\n",
    "    if domain == \"photo\": continue\n",
    "    ds = PACSDataset(Config.DATA_ROOT, domain, Config.TRANSFORM)\n",
    "    val_loaders[domain] = DataLoader(\n",
    "        ds, batch_size=Config.BATCH_SIZE, shuffle=False\n",
    "    )\n",
    "\n",
    "for epoch in range(1, Config.NUM_EPOCHS+1):\n",
    "    loss, acc = train_epoch(model, train_loader, criterion, optimizer)\n",
    "    print(f\"[Epoch {epoch}/{Config.NUM_EPOCHS}] Train Loss: {loss:.4f}, Train Acc: {acc:.2f}%\")\n",
    "    \n",
    "    for domain, loader in val_loaders.items():\n",
    "        val_acc = evaluate(model, loader)\n",
    "        print(f\"  {domain:>14} Acc: {val_acc:.2f}%\")\n",
    "    print(\"-\" * 60)"
   ]
  }
 ],
 "metadata": {
  "language_info": {
   "name": "python"
  }
 },
 "nbformat": 4,
 "nbformat_minor": 5
}
