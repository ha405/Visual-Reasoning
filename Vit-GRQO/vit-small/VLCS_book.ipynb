{
 "cells": [
  {
   "cell_type": "markdown",
   "id": "7aeb725f",
   "metadata": {},
   "source": [
    "### Imports"
   ]
  },
  {
   "cell_type": "code",
   "execution_count": 2,
   "id": "e407742a",
   "metadata": {},
   "outputs": [
    {
     "name": "stdout",
     "output_type": "stream",
     "text": [
      "Device: cuda\n",
      "PyTorch: 2.5.1+cu121\n"
     ]
    }
   ],
   "source": [
    "import sys\n",
    "sys.dont_write_bytecode = True\n",
    "\n",
    "\n",
    "import torch\n",
    "import numpy as np\n",
    "import random\n",
    "import os\n",
    "\n",
    "def set_seeds(seed_value=42):\n",
    "    \"\"\"Sets seeds for reproducibility.\"\"\"\n",
    "    random.seed(seed_value)\n",
    "    np.random.seed(seed_value)\n",
    "    torch.manual_seed(seed_value)\n",
    "    os.environ['PYTHONHASHSEED'] = str(seed_value)\n",
    "    \n",
    "    if torch.cuda.is_available():\n",
    "        torch.cuda.manual_seed(seed_value)\n",
    "\n",
    "set_seeds(42) \n",
    "\n",
    "import json\n",
    "import torch.nn as nn\n",
    "import torch.optim as optim\n",
    "from tqdm import tqdm\n",
    "import warnings\n",
    "import logging\n",
    "from datetime import datetime\n",
    "warnings.filterwarnings('ignore')\n",
    "\n",
    "from model import get_model\n",
    "from config import CFG\n",
    "from dataset import get_dataset_class\n",
    "# from plot import plot_domainwise_accuracy\n",
    "from transform import get_transforms\n",
    "from runner import run_baseline, run_lodo\n",
    "\n",
    "torch.manual_seed(CFG[\"system\"][\"seed\"])\n",
    "np.random.seed(CFG[\"system\"][\"seed\"])\n",
    "\n",
    "device = CFG[\"system\"][\"device\"]\n",
    "print(f\"Device: {device}\")\n",
    "print(f\"PyTorch: {torch.__version__}\")\n",
    "\n",
    "DS = \"VLCS\"\n",
    "MODEL_NAME = \"WinKawaks/vit-small-patch16-224\""
   ]
  },
  {
   "cell_type": "markdown",
   "id": "d617af05",
   "metadata": {},
   "source": [
    "### DataLoading"
   ]
  },
  {
   "cell_type": "code",
   "execution_count": 3,
   "id": "3e673c0a",
   "metadata": {},
   "outputs": [
    {
     "name": "stdout",
     "output_type": "stream",
     "text": [
      "\n",
      "Data loaders ready!\n"
     ]
    }
   ],
   "source": [
    "train_transform, test_transform = get_transforms(img_size=224, augment=False, use_imagenet_norm=False)\n",
    "\n",
    "DatasetClass = get_dataset_class(DS)\n",
    "\n",
    "ld = DatasetClass(\n",
    "    data_root=CFG[\"datasets\"][DS][\"root\"],\n",
    "    transform=train_transform,\n",
    "    batch_size=CFG[\"train\"][\"batch_size\"]\n",
    ")\n",
    "\n",
    "print(\"\\nData loaders ready!\")"
   ]
  },
  {
   "cell_type": "markdown",
   "id": "e5a3d318",
   "metadata": {},
   "source": [
    "### Logging"
   ]
  },
  {
   "cell_type": "code",
   "execution_count": 4,
   "id": "f01fd7aa",
   "metadata": {},
   "outputs": [
    {
     "name": "stderr",
     "output_type": "stream",
     "text": [
      "2025-10-20 08:51:21,816 | INFO | Initialized experiment directories for VLCS\n",
      "2025-10-20 08:51:21,816 | INFO | Logs: c:\\Users\\Fatim_Sproj\\Desktop\\Fatim\\Spring 2025\\sproj\\Visual-Reasoning\\Vit-GRQO\\vit-small\\VLCS\\logs\n",
      "2025-10-20 08:51:21,820 | INFO | Checkpoints: c:\\Users\\Fatim_Sproj\\Desktop\\Fatim\\Spring 2025\\sproj\\Visual-Reasoning\\Vit-GRQO\\vit-small\\VLCS\\checkpoints\n",
      "2025-10-20 08:51:21,820 | INFO | Plots: c:\\Users\\Fatim_Sproj\\Desktop\\Fatim\\Spring 2025\\sproj\\Visual-Reasoning\\Vit-GRQO\\vit-small\\VLCS\\plots\n"
     ]
    }
   ],
   "source": [
    "dataset_name = DS\n",
    "base_dir = os.path.join(os.getcwd(), dataset_name)\n",
    "subdirs = [\"logs\", \"checkpoints\", \"plots\"]\n",
    "\n",
    "for sub in subdirs:\n",
    "    os.makedirs(os.path.join(base_dir, sub), exist_ok=True)\n",
    "\n",
    "timestamp = datetime.now().strftime(\"%Y-%m-%d_%H-%M-%S\")\n",
    "log_file = os.path.join(base_dir, \"logs\", f\"train_{timestamp}.log\")\n",
    "\n",
    "logging.basicConfig(\n",
    "    level=logging.INFO,\n",
    "    format=\"%(asctime)s | %(levelname)s | %(message)s\",\n",
    "    handlers=[\n",
    "        logging.FileHandler(log_file),\n",
    "        logging.StreamHandler()\n",
    "    ]\n",
    ")\n",
    "\n",
    "logger = logging.getLogger(f\"{dataset_name}_logger\")\n",
    "\n",
    "logger.info(f\"Initialized experiment directories for {dataset_name}\")\n",
    "logger.info(f\"Logs: {os.path.join(base_dir, 'logs')}\")\n",
    "logger.info(f\"Checkpoints: {os.path.join(base_dir, 'checkpoints')}\")\n",
    "logger.info(f\"Plots: {os.path.join(base_dir, 'plots')}\")"
   ]
  },
  {
   "cell_type": "markdown",
   "id": "47398d2c",
   "metadata": {},
   "source": [
    "### Setup"
   ]
  },
  {
   "cell_type": "code",
   "execution_count": 5,
   "id": "450d7f06",
   "metadata": {},
   "outputs": [],
   "source": [
    "domains = CFG[\"datasets\"][DS][\"domains\"]\n",
    "loaders = {d: {\"train\": ld.get_dataloader(d, train=True), \"val\": ld.get_dataloader(d, train=False)} for d in domains}\n",
    "ckpt_root = os.path.join(base_dir, \"checkpoints\")\n",
    "log_dir = os.path.join(base_dir, \"logs\")\n",
    "plots_dir = os.path.join(base_dir, \"plots\")\n",
    "os.makedirs(ckpt_root, exist_ok=True)\n",
    "os.makedirs(log_dir, exist_ok=True)\n",
    "os.makedirs(plots_dir, exist_ok=True)\n",
    "model_factory = lambda cfg, dataset_key: get_model(cfg,dataset=DS)\n",
    "optimizer_fn = lambda model: optim.AdamW(model.parameters(), lr=CFG[\"train\"][\"lr\"], weight_decay=CFG[\"train\"].get(\"weight_decay\", 0.01))\n",
    "device = CFG[\"system\"][\"device\"]\n",
    "epochs = CFG[\"train\"][\"epochs\"]\n"
   ]
  },
  {
   "cell_type": "markdown",
   "id": "2d8dafe9",
   "metadata": {},
   "source": [
    "{\n",
    "  \"lodo_results\": {\n",
    "    \"art_painting\": 0.8341463414634146,\n",
    "    \"cartoon\": 0.7974413646055437,\n",
    "    \"photo\": 0.9580838323353293,\n",
    "    \"sketch\": 0.6017811704834606\n",
    "  },\n",
    "  \"timestamp\": \"20251004_020611\"\n",
    "}"
   ]
  },
  {
   "cell_type": "markdown",
   "id": "4931c868",
   "metadata": {},
   "source": [
    "### Leave One Domain Out"
   ]
  },
  {
   "cell_type": "code",
   "execution_count": 6,
   "id": "c0344437",
   "metadata": {},
   "outputs": [
    {
     "name": "stderr",
     "output_type": "stream",
     "text": [
      "Some weights of ViTModel were not initialized from the model checkpoint at WinKawaks/vit-small-patch16-224 and are newly initialized: ['pooler.dense.bias', 'pooler.dense.weight']\n",
      "You should probably TRAIN this model on a down-stream task to be able to use it for predictions and inference.\n",
      "2025-10-20 08:51:23,347 | INFO | === LODO: Leaving out domain 'VOC2007' ===\n"
     ]
    },
    {
     "name": "stdout",
     "output_type": "stream",
     "text": [
      "\n",
      "=== LODO: Leaving out domain 'VOC2007' ===\n"
     ]
    },
    {
     "name": "stderr",
     "output_type": "stream",
     "text": [
      "Evaluating: 100%|██████████| 27/27 [00:10<00:00,  2.54it/s]\n",
      "2025-10-20 08:53:27,053 | INFO | [VOC2007] Epoch 1/5 | Train - Loss: 0.5643, Cls: 0.5552, GRQO: 0.0091, Acc: 0.7832 | Val - Loss: 0.4767, Cls: 0.4748, GRQO: 0.0019, Acc: 0.8294\n",
      "2025-10-20 08:53:27,156 | INFO | [VOC2007] New best val acc: 0.8294\n"
     ]
    },
    {
     "name": "stdout",
     "output_type": "stream",
     "text": [
      "[VOC2007] Epoch 1/5 | Train - Loss: 0.5643, Cls: 0.5552, GRQO: 0.0091, Acc: 0.7832 | Val - Loss: 0.4767, Cls: 0.4748, GRQO: 0.0019, Acc: 0.8294\n",
      "[VOC2007] New best val acc: 0.8294\n"
     ]
    },
    {
     "name": "stderr",
     "output_type": "stream",
     "text": [
      "Evaluating: 100%|██████████| 27/27 [00:09<00:00,  2.93it/s]\n",
      "2025-10-20 08:55:09,286 | INFO | [VOC2007] Epoch 2/5 | Train - Loss: 0.3343, Cls: 0.3317, GRQO: 0.0026, Acc: 0.8780 | Val - Loss: 0.5077, Cls: 0.5065, GRQO: 0.0012, Acc: 0.8095\n"
     ]
    },
    {
     "name": "stdout",
     "output_type": "stream",
     "text": [
      "[VOC2007] Epoch 2/5 | Train - Loss: 0.3343, Cls: 0.3317, GRQO: 0.0026, Acc: 0.8780 | Val - Loss: 0.5077, Cls: 0.5065, GRQO: 0.0012, Acc: 0.8095\n"
     ]
    },
    {
     "name": "stderr",
     "output_type": "stream",
     "text": [
      "Evaluating: 100%|██████████| 27/27 [00:09<00:00,  2.94it/s]\n",
      "2025-10-20 08:57:13,634 | INFO | [VOC2007] Epoch 3/5 | Train - Loss: 0.2148, Cls: 0.2126, GRQO: 0.0022, Acc: 0.9309 | Val - Loss: 0.5540, Cls: 0.5532, GRQO: 0.0007, Acc: 0.8027\n"
     ]
    },
    {
     "name": "stdout",
     "output_type": "stream",
     "text": [
      "[VOC2007] Epoch 3/5 | Train - Loss: 0.2148, Cls: 0.2126, GRQO: 0.0022, Acc: 0.9309 | Val - Loss: 0.5540, Cls: 0.5532, GRQO: 0.0007, Acc: 0.8027\n"
     ]
    },
    {
     "name": "stderr",
     "output_type": "stream",
     "text": [
      "Evaluating: 100%|██████████| 27/27 [00:12<00:00,  2.13it/s]\n",
      "2025-10-20 08:59:56,166 | INFO | [VOC2007] Epoch 4/5 | Train - Loss: 0.1317, Cls: 0.1298, GRQO: 0.0020, Acc: 0.9604 | Val - Loss: 0.6793, Cls: 0.6788, GRQO: 0.0006, Acc: 0.7924\n"
     ]
    },
    {
     "name": "stdout",
     "output_type": "stream",
     "text": [
      "[VOC2007] Epoch 4/5 | Train - Loss: 0.1317, Cls: 0.1298, GRQO: 0.0020, Acc: 0.9604 | Val - Loss: 0.6793, Cls: 0.6788, GRQO: 0.0006, Acc: 0.7924\n"
     ]
    },
    {
     "name": "stderr",
     "output_type": "stream",
     "text": [
      "Evaluating: 100%|██████████| 27/27 [00:21<00:00,  1.25it/s]\n",
      "2025-10-20 09:03:08,180 | INFO | [VOC2007] Epoch 5/5 | Train - Loss: 0.0991, Cls: 0.0973, GRQO: 0.0018, Acc: 0.9697 | Val - Loss: 0.7926, Cls: 0.7922, GRQO: 0.0004, Acc: 0.7728\n",
      "2025-10-20 09:03:08,181 | INFO | [VOC2007] Best Acc: 0.8294\n",
      "2025-10-20 09:03:08,182 | INFO | ------------------------------------------------------------\n"
     ]
    },
    {
     "name": "stdout",
     "output_type": "stream",
     "text": [
      "[VOC2007] Epoch 5/5 | Train - Loss: 0.0991, Cls: 0.0973, GRQO: 0.0018, Acc: 0.9697 | Val - Loss: 0.7926, Cls: 0.7922, GRQO: 0.0004, Acc: 0.7728\n",
      "[VOC2007] Best Acc: 0.8294\n",
      "------------------------------------------------------------\n"
     ]
    },
    {
     "name": "stderr",
     "output_type": "stream",
     "text": [
      "Some weights of ViTModel were not initialized from the model checkpoint at WinKawaks/vit-small-patch16-224 and are newly initialized: ['pooler.dense.bias', 'pooler.dense.weight']\n",
      "You should probably TRAIN this model on a down-stream task to be able to use it for predictions and inference.\n",
      "2025-10-20 09:03:09,722 | INFO | === LODO: Leaving out domain 'LabelMe' ===\n"
     ]
    },
    {
     "name": "stdout",
     "output_type": "stream",
     "text": [
      "\n",
      "=== LODO: Leaving out domain 'LabelMe' ===\n"
     ]
    },
    {
     "name": "stderr",
     "output_type": "stream",
     "text": [
      "Evaluating: 100%|██████████| 21/21 [01:55<00:00,  5.50s/it]\n",
      "2025-10-20 09:05:59,176 | INFO | [LabelMe] Epoch 1/5 | Train - Loss: 0.4545, Cls: 0.4481, GRQO: 0.0064, Acc: 0.8364 | Val - Loss: 1.5173, Cls: 1.5164, GRQO: 0.0009, Acc: 0.6453\n",
      "2025-10-20 09:05:59,376 | INFO | [LabelMe] New best val acc: 0.6453\n"
     ]
    },
    {
     "name": "stdout",
     "output_type": "stream",
     "text": [
      "[LabelMe] Epoch 1/5 | Train - Loss: 0.4545, Cls: 0.4481, GRQO: 0.0064, Acc: 0.8364 | Val - Loss: 1.5173, Cls: 1.5164, GRQO: 0.0009, Acc: 0.6453\n",
      "[LabelMe] New best val acc: 0.6453\n"
     ]
    },
    {
     "name": "stderr",
     "output_type": "stream",
     "text": [
      "Evaluating: 100%|██████████| 21/21 [02:11<00:00,  6.27s/it]\n",
      "2025-10-20 09:09:28,897 | INFO | [LabelMe] Epoch 2/5 | Train - Loss: 0.2013, Cls: 0.1989, GRQO: 0.0024, Acc: 0.9296 | Val - Loss: 1.4990, Cls: 1.4985, GRQO: 0.0005, Acc: 0.6777\n"
     ]
    },
    {
     "name": "stdout",
     "output_type": "stream",
     "text": [
      "[LabelMe] Epoch 2/5 | Train - Loss: 0.2013, Cls: 0.1989, GRQO: 0.0024, Acc: 0.9296 | Val - Loss: 1.4990, Cls: 1.4985, GRQO: 0.0005, Acc: 0.6777\n"
     ]
    },
    {
     "name": "stderr",
     "output_type": "stream",
     "text": [
      "2025-10-20 09:09:29,134 | INFO | [LabelMe] New best val acc: 0.6777\n"
     ]
    },
    {
     "name": "stdout",
     "output_type": "stream",
     "text": [
      "[LabelMe] New best val acc: 0.6777\n"
     ]
    },
    {
     "name": "stderr",
     "output_type": "stream",
     "text": [
      "Evaluating: 100%|██████████| 21/21 [02:15<00:00,  6.45s/it]\n",
      "2025-10-20 09:13:05,052 | INFO | [LabelMe] Epoch 3/5 | Train - Loss: 0.1236, Cls: 0.1217, GRQO: 0.0020, Acc: 0.9599 | Val - Loss: 1.8640, Cls: 1.8636, GRQO: 0.0004, Acc: 0.6849\n",
      "2025-10-20 09:13:05,242 | INFO | [LabelMe] New best val acc: 0.6849\n"
     ]
    },
    {
     "name": "stdout",
     "output_type": "stream",
     "text": [
      "[LabelMe] Epoch 3/5 | Train - Loss: 0.1236, Cls: 0.1217, GRQO: 0.0020, Acc: 0.9599 | Val - Loss: 1.8640, Cls: 1.8636, GRQO: 0.0004, Acc: 0.6849\n",
      "[LabelMe] New best val acc: 0.6849\n"
     ]
    },
    {
     "name": "stderr",
     "output_type": "stream",
     "text": [
      "Evaluating: 100%|██████████| 21/21 [02:12<00:00,  6.33s/it]\n",
      "2025-10-20 09:16:42,976 | INFO | [LabelMe] Epoch 4/5 | Train - Loss: 0.0486, Cls: 0.0468, GRQO: 0.0018, Acc: 0.9859 | Val - Loss: 2.2091, Cls: 2.2088, GRQO: 0.0003, Acc: 0.6770\n"
     ]
    },
    {
     "name": "stdout",
     "output_type": "stream",
     "text": [
      "[LabelMe] Epoch 4/5 | Train - Loss: 0.0486, Cls: 0.0468, GRQO: 0.0018, Acc: 0.9859 | Val - Loss: 2.2091, Cls: 2.2088, GRQO: 0.0003, Acc: 0.6770\n"
     ]
    },
    {
     "name": "stderr",
     "output_type": "stream",
     "text": [
      "Evaluating: 100%|██████████| 21/21 [02:17<00:00,  6.55s/it]\n",
      "2025-10-20 09:20:20,709 | INFO | [LabelMe] Epoch 5/5 | Train - Loss: 0.0513, Cls: 0.0497, GRQO: 0.0016, Acc: 0.9835 | Val - Loss: 2.6209, Cls: 2.6207, GRQO: 0.0003, Acc: 0.6544\n",
      "2025-10-20 09:20:20,710 | INFO | [LabelMe] Best Acc: 0.6849\n",
      "2025-10-20 09:20:20,711 | INFO | ------------------------------------------------------------\n"
     ]
    },
    {
     "name": "stdout",
     "output_type": "stream",
     "text": [
      "[LabelMe] Epoch 5/5 | Train - Loss: 0.0513, Cls: 0.0497, GRQO: 0.0016, Acc: 0.9835 | Val - Loss: 2.6209, Cls: 2.6207, GRQO: 0.0003, Acc: 0.6544\n",
      "[LabelMe] Best Acc: 0.6849\n",
      "------------------------------------------------------------\n"
     ]
    },
    {
     "name": "stderr",
     "output_type": "stream",
     "text": [
      "Some weights of ViTModel were not initialized from the model checkpoint at WinKawaks/vit-small-patch16-224 and are newly initialized: ['pooler.dense.bias', 'pooler.dense.weight']\n",
      "You should probably TRAIN this model on a down-stream task to be able to use it for predictions and inference.\n",
      "2025-10-20 09:20:21,767 | INFO | === LODO: Leaving out domain 'Caltech101' ===\n"
     ]
    },
    {
     "name": "stdout",
     "output_type": "stream",
     "text": [
      "\n",
      "=== LODO: Leaving out domain 'Caltech101' ===\n"
     ]
    },
    {
     "name": "stderr",
     "output_type": "stream",
     "text": [
      "Evaluating: 100%|██████████| 12/12 [00:03<00:00,  3.95it/s]\n",
      "2025-10-20 09:22:47,601 | INFO | [Caltech101] Epoch 1/5 | Train - Loss: 0.5780, Cls: 0.5712, GRQO: 0.0068, Acc: 0.7848 | Val - Loss: 0.0784, Cls: 0.0771, GRQO: 0.0013, Acc: 0.9887\n",
      "2025-10-20 09:22:47,710 | INFO | [Caltech101] New best val acc: 0.9887\n"
     ]
    },
    {
     "name": "stdout",
     "output_type": "stream",
     "text": [
      "[Caltech101] Epoch 1/5 | Train - Loss: 0.5780, Cls: 0.5712, GRQO: 0.0068, Acc: 0.7848 | Val - Loss: 0.0784, Cls: 0.0771, GRQO: 0.0013, Acc: 0.9887\n",
      "[Caltech101] New best val acc: 0.9887\n"
     ]
    },
    {
     "name": "stderr",
     "output_type": "stream",
     "text": [
      "Evaluating: 100%|██████████| 12/12 [00:05<00:00,  2.05it/s]\n",
      "2025-10-20 09:26:41,394 | INFO | [Caltech101] Epoch 2/5 | Train - Loss: 0.3355, Cls: 0.3330, GRQO: 0.0024, Acc: 0.8808 | Val - Loss: 0.0448, Cls: 0.0441, GRQO: 0.0007, Acc: 0.9880\n"
     ]
    },
    {
     "name": "stdout",
     "output_type": "stream",
     "text": [
      "[Caltech101] Epoch 2/5 | Train - Loss: 0.3355, Cls: 0.3330, GRQO: 0.0024, Acc: 0.8808 | Val - Loss: 0.0448, Cls: 0.0441, GRQO: 0.0007, Acc: 0.9880\n"
     ]
    },
    {
     "name": "stderr",
     "output_type": "stream",
     "text": [
      "Evaluating: 100%|██████████| 12/12 [00:05<00:00,  2.07it/s]\n",
      "2025-10-20 09:30:19,717 | INFO | [Caltech101] Epoch 3/5 | Train - Loss: 0.2299, Cls: 0.2279, GRQO: 0.0020, Acc: 0.9216 | Val - Loss: 0.0488, Cls: 0.0483, GRQO: 0.0006, Acc: 0.9802\n"
     ]
    },
    {
     "name": "stdout",
     "output_type": "stream",
     "text": [
      "[Caltech101] Epoch 3/5 | Train - Loss: 0.2299, Cls: 0.2279, GRQO: 0.0020, Acc: 0.9216 | Val - Loss: 0.0488, Cls: 0.0483, GRQO: 0.0006, Acc: 0.9802\n"
     ]
    },
    {
     "name": "stderr",
     "output_type": "stream",
     "text": [
      "Evaluating: 100%|██████████| 12/12 [00:05<00:00,  2.04it/s]\n",
      "2025-10-20 09:34:14,167 | INFO | [Caltech101] Epoch 4/5 | Train - Loss: 0.1352, Cls: 0.1335, GRQO: 0.0017, Acc: 0.9577 | Val - Loss: 0.0436, Cls: 0.0433, GRQO: 0.0003, Acc: 0.9795\n"
     ]
    },
    {
     "name": "stdout",
     "output_type": "stream",
     "text": [
      "[Caltech101] Epoch 4/5 | Train - Loss: 0.1352, Cls: 0.1335, GRQO: 0.0017, Acc: 0.9577 | Val - Loss: 0.0436, Cls: 0.0433, GRQO: 0.0003, Acc: 0.9795\n"
     ]
    },
    {
     "name": "stderr",
     "output_type": "stream",
     "text": [
      "Evaluating: 100%|██████████| 12/12 [00:05<00:00,  2.11it/s]\n",
      "2025-10-20 09:38:01,124 | INFO | [Caltech101] Epoch 5/5 | Train - Loss: 0.0793, Cls: 0.0777, GRQO: 0.0016, Acc: 0.9748 | Val - Loss: 0.0753, Cls: 0.0750, GRQO: 0.0002, Acc: 0.9731\n",
      "2025-10-20 09:38:01,124 | INFO | [Caltech101] Best Acc: 0.9887\n",
      "2025-10-20 09:38:01,124 | INFO | ------------------------------------------------------------\n"
     ]
    },
    {
     "name": "stdout",
     "output_type": "stream",
     "text": [
      "[Caltech101] Epoch 5/5 | Train - Loss: 0.0793, Cls: 0.0777, GRQO: 0.0016, Acc: 0.9748 | Val - Loss: 0.0753, Cls: 0.0750, GRQO: 0.0002, Acc: 0.9731\n",
      "[Caltech101] Best Acc: 0.9887\n",
      "------------------------------------------------------------\n"
     ]
    },
    {
     "name": "stderr",
     "output_type": "stream",
     "text": [
      "Some weights of ViTModel were not initialized from the model checkpoint at WinKawaks/vit-small-patch16-224 and are newly initialized: ['pooler.dense.bias', 'pooler.dense.weight']\n",
      "You should probably TRAIN this model on a down-stream task to be able to use it for predictions and inference.\n",
      "2025-10-20 09:38:02,537 | INFO | === LODO: Leaving out domain 'SUN09' ===\n"
     ]
    },
    {
     "name": "stdout",
     "output_type": "stream",
     "text": [
      "\n",
      "=== LODO: Leaving out domain 'SUN09' ===\n"
     ]
    },
    {
     "name": "stderr",
     "output_type": "stream",
     "text": [
      "Evaluating: 100%|██████████| 26/26 [00:34<00:00,  1.31s/it]\n",
      "2025-10-20 09:41:50,564 | INFO | [SUN09] Epoch 1/5 | Train - Loss: 0.5140, Cls: 0.5073, GRQO: 0.0067, Acc: 0.8080 | Val - Loss: 0.5040, Cls: 0.5027, GRQO: 0.0012, Acc: 0.8087\n"
     ]
    },
    {
     "name": "stdout",
     "output_type": "stream",
     "text": [
      "[SUN09] Epoch 1/5 | Train - Loss: 0.5140, Cls: 0.5073, GRQO: 0.0067, Acc: 0.8080 | Val - Loss: 0.5040, Cls: 0.5027, GRQO: 0.0012, Acc: 0.8087\n"
     ]
    },
    {
     "name": "stderr",
     "output_type": "stream",
     "text": [
      "2025-10-20 09:41:50,803 | INFO | [SUN09] New best val acc: 0.8087\n"
     ]
    },
    {
     "name": "stdout",
     "output_type": "stream",
     "text": [
      "[SUN09] New best val acc: 0.8087\n"
     ]
    },
    {
     "name": "stderr",
     "output_type": "stream",
     "text": [
      "Evaluating: 100%|██████████| 26/26 [00:31<00:00,  1.21s/it]\n",
      "2025-10-20 09:45:36,686 | INFO | [SUN09] Epoch 2/5 | Train - Loss: 0.2691, Cls: 0.2669, GRQO: 0.0022, Acc: 0.9037 | Val - Loss: 0.5682, Cls: 0.5675, GRQO: 0.0008, Acc: 0.8020\n"
     ]
    },
    {
     "name": "stdout",
     "output_type": "stream",
     "text": [
      "[SUN09] Epoch 2/5 | Train - Loss: 0.2691, Cls: 0.2669, GRQO: 0.0022, Acc: 0.9037 | Val - Loss: 0.5682, Cls: 0.5675, GRQO: 0.0008, Acc: 0.8020\n"
     ]
    },
    {
     "name": "stderr",
     "output_type": "stream",
     "text": [
      "Evaluating: 100%|██████████| 26/26 [00:14<00:00,  1.77it/s]\n",
      "2025-10-20 09:47:58,746 | INFO | [SUN09] Epoch 3/5 | Train - Loss: 0.1692, Cls: 0.1673, GRQO: 0.0019, Acc: 0.9431 | Val - Loss: 0.7304, Cls: 0.7298, GRQO: 0.0006, Acc: 0.7575\n"
     ]
    },
    {
     "name": "stdout",
     "output_type": "stream",
     "text": [
      "[SUN09] Epoch 3/5 | Train - Loss: 0.1692, Cls: 0.1673, GRQO: 0.0019, Acc: 0.9431 | Val - Loss: 0.7304, Cls: 0.7298, GRQO: 0.0006, Acc: 0.7575\n"
     ]
    },
    {
     "name": "stderr",
     "output_type": "stream",
     "text": [
      "Evaluating: 100%|██████████| 26/26 [00:14<00:00,  1.78it/s]\n",
      "2025-10-20 09:49:42,659 | INFO | [SUN09] Epoch 4/5 | Train - Loss: 0.1162, Cls: 0.1145, GRQO: 0.0017, Acc: 0.9607 | Val - Loss: 0.9750, Cls: 0.9745, GRQO: 0.0005, Acc: 0.7264\n"
     ]
    },
    {
     "name": "stdout",
     "output_type": "stream",
     "text": [
      "[SUN09] Epoch 4/5 | Train - Loss: 0.1162, Cls: 0.1145, GRQO: 0.0017, Acc: 0.9607 | Val - Loss: 0.9750, Cls: 0.9745, GRQO: 0.0005, Acc: 0.7264\n"
     ]
    },
    {
     "name": "stderr",
     "output_type": "stream",
     "text": [
      "Evaluating: 100%|██████████| 26/26 [00:14<00:00,  1.77it/s]\n",
      "2025-10-20 09:51:26,262 | INFO | [SUN09] Epoch 5/5 | Train - Loss: 0.0785, Cls: 0.0769, GRQO: 0.0016, Acc: 0.9762 | Val - Loss: 0.9503, Cls: 0.9499, GRQO: 0.0004, Acc: 0.7745\n",
      "2025-10-20 09:51:26,262 | INFO | [SUN09] Best Acc: 0.8087\n",
      "2025-10-20 09:51:26,262 | INFO | ------------------------------------------------------------\n",
      "2025-10-20 09:51:26,262 | INFO | LODO finished | Mean Acc: 0.8279 | Summary saved to c:\\Users\\Fatim_Sproj\\Desktop\\Fatim\\Spring 2025\\sproj\\Visual-Reasoning\\Vit-GRQO\\vit-small\\VLCS\\logs\\lodo_summary_20251020_095126.json\n"
     ]
    },
    {
     "name": "stdout",
     "output_type": "stream",
     "text": [
      "[SUN09] Epoch 5/5 | Train - Loss: 0.0785, Cls: 0.0769, GRQO: 0.0016, Acc: 0.9762 | Val - Loss: 0.9503, Cls: 0.9499, GRQO: 0.0004, Acc: 0.7745\n",
      "[SUN09] Best Acc: 0.8087\n",
      "------------------------------------------------------------\n",
      "LODO finished | Mean Acc: 0.8279\n",
      "Summary saved to c:\\Users\\Fatim_Sproj\\Desktop\\Fatim\\Spring 2025\\sproj\\Visual-Reasoning\\Vit-GRQO\\vit-small\\VLCS\\logs\\lodo_summary_20251020_095126.json\n"
     ]
    }
   ],
   "source": [
    "lodo_results, lodo_mean, lodo_summary = run_lodo(\n",
    "    model_fn=model_factory,\n",
    "    CFG=CFG,\n",
    "    logger=logger,\n",
    "    dataset_key=DS,\n",
    "    domains=domains,\n",
    "    loaders=loaders,\n",
    "    optimizer_fn=optimizer_fn,\n",
    "    device=device,\n",
    "    ckpt_root=ckpt_root,\n",
    "    log_dir=log_dir,\n",
    "    epochs=epochs\n",
    ")"
   ]
  },
  {
   "cell_type": "markdown",
   "id": "008d21ac",
   "metadata": {},
   "source": [
    "### Baseline"
   ]
  },
  {
   "cell_type": "code",
   "execution_count": 7,
   "id": "060b18a4",
   "metadata": {},
   "outputs": [
    {
     "name": "stderr",
     "output_type": "stream",
     "text": [
      "2025-10-20 09:51:26,282 | INFO | Initializing ViT baseline: WinKawaks/vit-small-patch16-224\n"
     ]
    },
    {
     "name": "stdout",
     "output_type": "stream",
     "text": [
      "Initializing ViT baseline: WinKawaks/vit-small-patch16-224\n"
     ]
    },
    {
     "name": "stderr",
     "output_type": "stream",
     "text": [
      "Some weights of ViTForImageClassification were not initialized from the model checkpoint at WinKawaks/vit-small-patch16-224 and are newly initialized because the shapes did not match:\n",
      "- classifier.bias: found shape torch.Size([1000]) in the checkpoint and torch.Size([5]) in the model instantiated\n",
      "- classifier.weight: found shape torch.Size([1000, 384]) in the checkpoint and torch.Size([5, 384]) in the model instantiated\n",
      "You should probably TRAIN this model on a down-stream task to be able to use it for predictions and inference.\n",
      "2025-10-20 09:51:27,381 | INFO | === Baseline LODO: Leaving out domain 'VOC2007' ===\n"
     ]
    },
    {
     "name": "stdout",
     "output_type": "stream",
     "text": [
      "\n",
      "=== Baseline LODO: Leaving out domain 'VOC2007' ===\n"
     ]
    },
    {
     "name": "stderr",
     "output_type": "stream",
     "text": [
      "2025-10-20 09:53:53,803 | INFO | [VOC2007] Epoch 1/5 | Train - Loss: 0.5182, Acc: 0.8031 | Val Acc: 0.7879\n"
     ]
    },
    {
     "name": "stdout",
     "output_type": "stream",
     "text": [
      "[VOC2007] Epoch 1/5 | Train - Loss: 0.5182, Acc: 0.8031 | Val Acc: 0.7879\n"
     ]
    },
    {
     "name": "stderr",
     "output_type": "stream",
     "text": [
      "2025-10-20 09:56:33,478 | INFO | [VOC2007] Epoch 2/5 | Train - Loss: 0.2185, Acc: 0.9267 | Val Acc: 0.8004\n"
     ]
    },
    {
     "name": "stdout",
     "output_type": "stream",
     "text": [
      "[VOC2007] Epoch 2/5 | Train - Loss: 0.2185, Acc: 0.9267 | Val Acc: 0.8004\n"
     ]
    },
    {
     "name": "stderr",
     "output_type": "stream",
     "text": [
      "2025-10-20 09:58:15,623 | INFO | [VOC2007] Epoch 3/5 | Train - Loss: 0.0871, Acc: 0.9738 | Val Acc: 0.8282\n"
     ]
    },
    {
     "name": "stdout",
     "output_type": "stream",
     "text": [
      "[VOC2007] Epoch 3/5 | Train - Loss: 0.0871, Acc: 0.9738 | Val Acc: 0.8282\n"
     ]
    },
    {
     "name": "stderr",
     "output_type": "stream",
     "text": [
      "2025-10-20 09:59:58,042 | INFO | [VOC2007] Epoch 4/5 | Train - Loss: 0.0367, Acc: 0.9899 | Val Acc: 0.8178\n"
     ]
    },
    {
     "name": "stdout",
     "output_type": "stream",
     "text": [
      "[VOC2007] Epoch 4/5 | Train - Loss: 0.0367, Acc: 0.9899 | Val Acc: 0.8178\n"
     ]
    },
    {
     "name": "stderr",
     "output_type": "stream",
     "text": [
      "2025-10-20 10:01:41,762 | INFO | [VOC2007] Epoch 5/5 | Train - Loss: 0.0246, Acc: 0.9929 | Val Acc: 0.8238\n",
      "2025-10-20 10:01:41,762 | INFO | [VOC2007] Best Val Acc: 0.8282\n",
      "2025-10-20 10:01:41,762 | INFO | ------------------------------------------------------------\n",
      "2025-10-20 10:01:41,762 | INFO | Initializing ViT baseline: WinKawaks/vit-small-patch16-224\n"
     ]
    },
    {
     "name": "stdout",
     "output_type": "stream",
     "text": [
      "[VOC2007] Epoch 5/5 | Train - Loss: 0.0246, Acc: 0.9929 | Val Acc: 0.8238\n",
      "[VOC2007] Best Val Acc: 0.8282\n",
      "------------------------------------------------------------\n",
      "Initializing ViT baseline: WinKawaks/vit-small-patch16-224\n"
     ]
    },
    {
     "name": "stderr",
     "output_type": "stream",
     "text": [
      "Some weights of ViTForImageClassification were not initialized from the model checkpoint at WinKawaks/vit-small-patch16-224 and are newly initialized because the shapes did not match:\n",
      "- classifier.bias: found shape torch.Size([1000]) in the checkpoint and torch.Size([5]) in the model instantiated\n",
      "- classifier.weight: found shape torch.Size([1000, 384]) in the checkpoint and torch.Size([5, 384]) in the model instantiated\n",
      "You should probably TRAIN this model on a down-stream task to be able to use it for predictions and inference.\n",
      "2025-10-20 10:01:44,449 | INFO | === Baseline LODO: Leaving out domain 'LabelMe' ===\n"
     ]
    },
    {
     "name": "stdout",
     "output_type": "stream",
     "text": [
      "\n",
      "=== Baseline LODO: Leaving out domain 'LabelMe' ===\n"
     ]
    },
    {
     "name": "stderr",
     "output_type": "stream",
     "text": [
      "2025-10-20 10:03:29,374 | INFO | [LabelMe] Epoch 1/5 | Train - Loss: 0.4073, Acc: 0.8522 | Val Acc: 0.6706\n"
     ]
    },
    {
     "name": "stdout",
     "output_type": "stream",
     "text": [
      "[LabelMe] Epoch 1/5 | Train - Loss: 0.4073, Acc: 0.8522 | Val Acc: 0.6706\n"
     ]
    },
    {
     "name": "stderr",
     "output_type": "stream",
     "text": [
      "2025-10-20 10:05:14,159 | INFO | [LabelMe] Epoch 2/5 | Train - Loss: 0.1399, Acc: 0.9527 | Val Acc: 0.6517\n"
     ]
    },
    {
     "name": "stdout",
     "output_type": "stream",
     "text": [
      "[LabelMe] Epoch 2/5 | Train - Loss: 0.1399, Acc: 0.9527 | Val Acc: 0.6517\n"
     ]
    },
    {
     "name": "stderr",
     "output_type": "stream",
     "text": [
      "2025-10-20 10:07:01,461 | INFO | [LabelMe] Epoch 3/5 | Train - Loss: 0.0552, Acc: 0.9833 | Val Acc: 0.6875\n"
     ]
    },
    {
     "name": "stdout",
     "output_type": "stream",
     "text": [
      "[LabelMe] Epoch 3/5 | Train - Loss: 0.0552, Acc: 0.9833 | Val Acc: 0.6875\n"
     ]
    },
    {
     "name": "stderr",
     "output_type": "stream",
     "text": [
      "2025-10-20 10:09:07,982 | INFO | [LabelMe] Epoch 4/5 | Train - Loss: 0.0131, Acc: 0.9973 | Val Acc: 0.6645\n"
     ]
    },
    {
     "name": "stdout",
     "output_type": "stream",
     "text": [
      "[LabelMe] Epoch 4/5 | Train - Loss: 0.0131, Acc: 0.9973 | Val Acc: 0.6645\n"
     ]
    },
    {
     "name": "stderr",
     "output_type": "stream",
     "text": [
      "2025-10-20 10:10:52,241 | INFO | [LabelMe] Epoch 5/5 | Train - Loss: 0.0054, Acc: 0.9991 | Val Acc: 0.6721\n",
      "2025-10-20 10:10:52,241 | INFO | [LabelMe] Best Val Acc: 0.6875\n",
      "2025-10-20 10:10:52,241 | INFO | ------------------------------------------------------------\n",
      "2025-10-20 10:10:52,241 | INFO | Initializing ViT baseline: WinKawaks/vit-small-patch16-224\n"
     ]
    },
    {
     "name": "stdout",
     "output_type": "stream",
     "text": [
      "[LabelMe] Epoch 5/5 | Train - Loss: 0.0054, Acc: 0.9991 | Val Acc: 0.6721\n",
      "[LabelMe] Best Val Acc: 0.6875\n",
      "------------------------------------------------------------\n",
      "Initializing ViT baseline: WinKawaks/vit-small-patch16-224\n"
     ]
    },
    {
     "name": "stderr",
     "output_type": "stream",
     "text": [
      "Some weights of ViTForImageClassification were not initialized from the model checkpoint at WinKawaks/vit-small-patch16-224 and are newly initialized because the shapes did not match:\n",
      "- classifier.bias: found shape torch.Size([1000]) in the checkpoint and torch.Size([5]) in the model instantiated\n",
      "- classifier.weight: found shape torch.Size([1000, 384]) in the checkpoint and torch.Size([5, 384]) in the model instantiated\n",
      "You should probably TRAIN this model on a down-stream task to be able to use it for predictions and inference.\n",
      "2025-10-20 10:10:53,261 | INFO | === Baseline LODO: Leaving out domain 'Caltech101' ===\n"
     ]
    },
    {
     "name": "stdout",
     "output_type": "stream",
     "text": [
      "\n",
      "=== Baseline LODO: Leaving out domain 'Caltech101' ===\n"
     ]
    },
    {
     "name": "stderr",
     "output_type": "stream",
     "text": [
      "2025-10-20 10:12:36,925 | INFO | [Caltech101] Epoch 1/5 | Train - Loss: 0.5682, Acc: 0.7913 | Val Acc: 0.9823\n"
     ]
    },
    {
     "name": "stdout",
     "output_type": "stream",
     "text": [
      "[Caltech101] Epoch 1/5 | Train - Loss: 0.5682, Acc: 0.7913 | Val Acc: 0.9823\n"
     ]
    },
    {
     "name": "stderr",
     "output_type": "stream",
     "text": [
      "2025-10-20 10:14:19,849 | INFO | [Caltech101] Epoch 2/5 | Train - Loss: 0.2409, Acc: 0.9185 | Val Acc: 0.9830\n"
     ]
    },
    {
     "name": "stdout",
     "output_type": "stream",
     "text": [
      "[Caltech101] Epoch 2/5 | Train - Loss: 0.2409, Acc: 0.9185 | Val Acc: 0.9830\n"
     ]
    },
    {
     "name": "stderr",
     "output_type": "stream",
     "text": [
      "2025-10-20 10:16:03,225 | INFO | [Caltech101] Epoch 3/5 | Train - Loss: 0.0840, Acc: 0.9751 | Val Acc: 0.9739\n"
     ]
    },
    {
     "name": "stdout",
     "output_type": "stream",
     "text": [
      "[Caltech101] Epoch 3/5 | Train - Loss: 0.0840, Acc: 0.9751 | Val Acc: 0.9739\n"
     ]
    },
    {
     "name": "stderr",
     "output_type": "stream",
     "text": [
      "2025-10-20 10:17:48,410 | INFO | [Caltech101] Epoch 4/5 | Train - Loss: 0.0357, Acc: 0.9903 | Val Acc: 0.9788\n"
     ]
    },
    {
     "name": "stdout",
     "output_type": "stream",
     "text": [
      "[Caltech101] Epoch 4/5 | Train - Loss: 0.0357, Acc: 0.9903 | Val Acc: 0.9788\n"
     ]
    },
    {
     "name": "stderr",
     "output_type": "stream",
     "text": [
      "2025-10-20 10:19:33,490 | INFO | [Caltech101] Epoch 5/5 | Train - Loss: 0.0102, Acc: 0.9972 | Val Acc: 0.9852\n",
      "2025-10-20 10:19:33,490 | INFO | [Caltech101] Best Val Acc: 0.9852\n",
      "2025-10-20 10:19:33,490 | INFO | ------------------------------------------------------------\n",
      "2025-10-20 10:19:33,490 | INFO | Initializing ViT baseline: WinKawaks/vit-small-patch16-224\n"
     ]
    },
    {
     "name": "stdout",
     "output_type": "stream",
     "text": [
      "[Caltech101] Epoch 5/5 | Train - Loss: 0.0102, Acc: 0.9972 | Val Acc: 0.9852\n",
      "[Caltech101] Best Val Acc: 0.9852\n",
      "------------------------------------------------------------\n",
      "Initializing ViT baseline: WinKawaks/vit-small-patch16-224\n"
     ]
    },
    {
     "name": "stderr",
     "output_type": "stream",
     "text": [
      "Some weights of ViTForImageClassification were not initialized from the model checkpoint at WinKawaks/vit-small-patch16-224 and are newly initialized because the shapes did not match:\n",
      "- classifier.bias: found shape torch.Size([1000]) in the checkpoint and torch.Size([5]) in the model instantiated\n",
      "- classifier.weight: found shape torch.Size([1000, 384]) in the checkpoint and torch.Size([5, 384]) in the model instantiated\n",
      "You should probably TRAIN this model on a down-stream task to be able to use it for predictions and inference.\n",
      "2025-10-20 10:19:37,193 | INFO | === Baseline LODO: Leaving out domain 'SUN09' ===\n"
     ]
    },
    {
     "name": "stdout",
     "output_type": "stream",
     "text": [
      "\n",
      "=== Baseline LODO: Leaving out domain 'SUN09' ===\n"
     ]
    },
    {
     "name": "stderr",
     "output_type": "stream",
     "text": [
      "2025-10-20 10:21:20,207 | INFO | [SUN09] Epoch 1/5 | Train - Loss: 0.4877, Acc: 0.8201 | Val Acc: 0.7937\n"
     ]
    },
    {
     "name": "stdout",
     "output_type": "stream",
     "text": [
      "[SUN09] Epoch 1/5 | Train - Loss: 0.4877, Acc: 0.8201 | Val Acc: 0.7937\n"
     ]
    },
    {
     "name": "stderr",
     "output_type": "stream",
     "text": [
      "2025-10-20 10:23:03,589 | INFO | [SUN09] Epoch 2/5 | Train - Loss: 0.2105, Acc: 0.9240 | Val Acc: 0.7279\n"
     ]
    },
    {
     "name": "stdout",
     "output_type": "stream",
     "text": [
      "[SUN09] Epoch 2/5 | Train - Loss: 0.2105, Acc: 0.9240 | Val Acc: 0.7279\n"
     ]
    },
    {
     "name": "stderr",
     "output_type": "stream",
     "text": [
      "2025-10-20 10:24:47,607 | INFO | [SUN09] Epoch 3/5 | Train - Loss: 0.0929, Acc: 0.9691 | Val Acc: 0.7508\n"
     ]
    },
    {
     "name": "stdout",
     "output_type": "stream",
     "text": [
      "[SUN09] Epoch 3/5 | Train - Loss: 0.0929, Acc: 0.9691 | Val Acc: 0.7508\n"
     ]
    },
    {
     "name": "stderr",
     "output_type": "stream",
     "text": [
      "2025-10-20 10:26:31,706 | INFO | [SUN09] Epoch 4/5 | Train - Loss: 0.0345, Acc: 0.9905 | Val Acc: 0.7782\n"
     ]
    },
    {
     "name": "stdout",
     "output_type": "stream",
     "text": [
      "[SUN09] Epoch 4/5 | Train - Loss: 0.0345, Acc: 0.9905 | Val Acc: 0.7782\n"
     ]
    },
    {
     "name": "stderr",
     "output_type": "stream",
     "text": [
      "2025-10-20 10:28:15,553 | INFO | [SUN09] Epoch 5/5 | Train - Loss: 0.0325, Acc: 0.9899 | Val Acc: 0.7791\n",
      "2025-10-20 10:28:15,553 | INFO | [SUN09] Best Val Acc: 0.7937\n",
      "2025-10-20 10:28:15,553 | INFO | ------------------------------------------------------------\n",
      "2025-10-20 10:28:15,553 | INFO | Baseline LODO (WinKawaks/vit-small-patch16-224) finished | Mean Acc: 0.8236\n"
     ]
    },
    {
     "name": "stdout",
     "output_type": "stream",
     "text": [
      "[SUN09] Epoch 5/5 | Train - Loss: 0.0325, Acc: 0.9899 | Val Acc: 0.7791\n",
      "[SUN09] Best Val Acc: 0.7937\n",
      "------------------------------------------------------------\n",
      "Baseline LODO (WinKawaks/vit-small-patch16-224) finished | Mean Acc: 0.8236\n"
     ]
    }
   ],
   "source": [
    "baseline_results, baseline_mean = run_baseline(\n",
    "    model_name=MODEL_NAME,\n",
    "    CFG=CFG,\n",
    "    logger=logger,\n",
    "    dataset_key=DS,\n",
    "    domains=domains,\n",
    "    loaders=loaders,\n",
    "    optimizer_fn=optimizer_fn,\n",
    "    device=device,\n",
    "    epochs=CFG[\"train\"][\"epochs\"]\n",
    ")\n"
   ]
  }
 ],
 "metadata": {
  "kernelspec": {
   "display_name": "bacp",
   "language": "python",
   "name": "python3"
  },
  "language_info": {
   "codemirror_mode": {
    "name": "ipython",
    "version": 3
   },
   "file_extension": ".py",
   "mimetype": "text/x-python",
   "name": "python",
   "nbconvert_exporter": "python",
   "pygments_lexer": "ipython3",
   "version": "3.10.16"
  }
 },
 "nbformat": 4,
 "nbformat_minor": 5
}
