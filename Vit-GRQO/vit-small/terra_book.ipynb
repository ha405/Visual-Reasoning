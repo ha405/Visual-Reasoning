{
 "cells": [
  {
   "cell_type": "markdown",
   "id": "7aeb725f",
   "metadata": {},
   "source": [
    "### Imports"
   ]
  },
  {
   "cell_type": "code",
   "execution_count": 2,
   "id": "e407742a",
   "metadata": {},
   "outputs": [
    {
     "name": "stdout",
     "output_type": "stream",
     "text": [
      "Device: cuda\n",
      "PyTorch: 2.5.1+cu121\n"
     ]
    }
   ],
   "source": [
    "import sys\n",
    "sys.dont_write_bytecode = True\n",
    "\n",
    "\n",
    "import torch\n",
    "import numpy as np\n",
    "import random\n",
    "import os\n",
    "\n",
    "def set_seeds(seed_value=42):\n",
    "    \"\"\"Sets seeds for reproducibility.\"\"\"\n",
    "    random.seed(seed_value)\n",
    "    np.random.seed(seed_value)\n",
    "    torch.manual_seed(seed_value)\n",
    "    os.environ['PYTHONHASHSEED'] = str(seed_value)\n",
    "    \n",
    "    if torch.cuda.is_available():\n",
    "        torch.cuda.manual_seed(seed_value)\n",
    "\n",
    "set_seeds(42) \n",
    "\n",
    "import json\n",
    "import torch.nn as nn\n",
    "import torch.optim as optim\n",
    "from tqdm import tqdm\n",
    "import warnings\n",
    "import logging\n",
    "from datetime import datetime\n",
    "warnings.filterwarnings('ignore')\n",
    "\n",
    "from model import get_model\n",
    "from config import CFG\n",
    "from dataset import get_dataset_class\n",
    "# from plot import plot_domainwise_accuracy\n",
    "from transform import get_transforms\n",
    "from runner import run_baseline, run_lodo\n",
    "\n",
    "torch.manual_seed(CFG[\"system\"][\"seed\"])\n",
    "np.random.seed(CFG[\"system\"][\"seed\"])\n",
    "\n",
    "device = CFG[\"system\"][\"device\"]\n",
    "print(f\"Device: {device}\")\n",
    "print(f\"PyTorch: {torch.__version__}\")\n",
    "\n",
    "DS = \"TerraIncognita\"\n",
    "MODEL_NAME = \"WinKawaks/vit-small-patch16-224\""
   ]
  },
  {
   "cell_type": "markdown",
   "id": "d617af05",
   "metadata": {},
   "source": [
    "### DataLoading"
   ]
  },
  {
   "cell_type": "code",
   "execution_count": 3,
   "id": "3e673c0a",
   "metadata": {},
   "outputs": [
    {
     "name": "stdout",
     "output_type": "stream",
     "text": [
      "\n",
      "Data loaders ready!\n"
     ]
    }
   ],
   "source": [
    "train_transform, test_transform = get_transforms(img_size=224, augment=False, use_imagenet_norm=False)\n",
    "\n",
    "DatasetClass = get_dataset_class(DS)\n",
    "\n",
    "ld = DatasetClass(\n",
    "    data_root=CFG[\"datasets\"][DS][\"root\"],\n",
    "    transform=train_transform,\n",
    "    batch_size=CFG[\"train\"][\"batch_size\"]\n",
    ")\n",
    "\n",
    "print(\"\\nData loaders ready!\")"
   ]
  },
  {
   "cell_type": "markdown",
   "id": "e5a3d318",
   "metadata": {},
   "source": [
    "### Logging"
   ]
  },
  {
   "cell_type": "code",
   "execution_count": 4,
   "id": "f01fd7aa",
   "metadata": {},
   "outputs": [
    {
     "name": "stderr",
     "output_type": "stream",
     "text": [
      "2025-10-20 13:10:08,417 | INFO | Initialized experiment directories for TerraIncognita\n",
      "2025-10-20 13:10:08,417 | INFO | Logs: c:\\Users\\Fatim_Sproj\\Desktop\\Fatim\\Spring 2025\\sproj\\Visual-Reasoning\\Vit-GRQO\\vit-small\\TerraIncognita\\logs\n",
      "2025-10-20 13:10:08,417 | INFO | Checkpoints: c:\\Users\\Fatim_Sproj\\Desktop\\Fatim\\Spring 2025\\sproj\\Visual-Reasoning\\Vit-GRQO\\vit-small\\TerraIncognita\\checkpoints\n",
      "2025-10-20 13:10:08,417 | INFO | Plots: c:\\Users\\Fatim_Sproj\\Desktop\\Fatim\\Spring 2025\\sproj\\Visual-Reasoning\\Vit-GRQO\\vit-small\\TerraIncognita\\plots\n"
     ]
    }
   ],
   "source": [
    "dataset_name = DS\n",
    "base_dir = os.path.join(os.getcwd(), dataset_name)\n",
    "subdirs = [\"logs\", \"checkpoints\", \"plots\"]\n",
    "\n",
    "for sub in subdirs:\n",
    "    os.makedirs(os.path.join(base_dir, sub), exist_ok=True)\n",
    "\n",
    "timestamp = datetime.now().strftime(\"%Y-%m-%d_%H-%M-%S\")\n",
    "log_file = os.path.join(base_dir, \"logs\", f\"train_{timestamp}.log\")\n",
    "\n",
    "logging.basicConfig(\n",
    "    level=logging.INFO,\n",
    "    format=\"%(asctime)s | %(levelname)s | %(message)s\",\n",
    "    handlers=[\n",
    "        logging.FileHandler(log_file),\n",
    "        logging.StreamHandler()\n",
    "    ]\n",
    ")\n",
    "\n",
    "logger = logging.getLogger(f\"{dataset_name}_logger\")\n",
    "\n",
    "logger.info(f\"Initialized experiment directories for {dataset_name}\")\n",
    "logger.info(f\"Logs: {os.path.join(base_dir, 'logs')}\")\n",
    "logger.info(f\"Checkpoints: {os.path.join(base_dir, 'checkpoints')}\")\n",
    "logger.info(f\"Plots: {os.path.join(base_dir, 'plots')}\")"
   ]
  },
  {
   "cell_type": "markdown",
   "id": "47398d2c",
   "metadata": {},
   "source": [
    "### Setup"
   ]
  },
  {
   "cell_type": "code",
   "execution_count": 5,
   "id": "450d7f06",
   "metadata": {},
   "outputs": [],
   "source": [
    "domains = CFG[\"datasets\"][DS][\"domains\"]\n",
    "loaders = {d: {\"train\": ld.get_dataloader(d, train=True), \"val\": ld.get_dataloader(d, train=False)} for d in domains}\n",
    "ckpt_root = os.path.join(base_dir, \"checkpoints\")\n",
    "log_dir = os.path.join(base_dir, \"logs\")\n",
    "plots_dir = os.path.join(base_dir, \"plots\")\n",
    "os.makedirs(ckpt_root, exist_ok=True)\n",
    "os.makedirs(log_dir, exist_ok=True)\n",
    "os.makedirs(plots_dir, exist_ok=True)\n",
    "model_factory = lambda cfg, dataset_key: get_model(cfg,dataset=DS)\n",
    "optimizer_fn = lambda model: optim.AdamW(model.parameters(), lr=CFG[\"train\"][\"lr\"], weight_decay=CFG[\"train\"].get(\"weight_decay\", 0.01))\n",
    "device = CFG[\"system\"][\"device\"]\n",
    "epochs = CFG[\"train\"][\"epochs\"]\n"
   ]
  },
  {
   "cell_type": "markdown",
   "id": "2d8dafe9",
   "metadata": {},
   "source": [
    "{\n",
    "  \"lodo_results\": {\n",
    "    \"art_painting\": 0.8341463414634146,\n",
    "    \"cartoon\": 0.7974413646055437,\n",
    "    \"photo\": 0.9580838323353293,\n",
    "    \"sketch\": 0.6017811704834606\n",
    "  },\n",
    "  \"timestamp\": \"20251004_020611\"\n",
    "}"
   ]
  },
  {
   "cell_type": "markdown",
   "id": "4931c868",
   "metadata": {},
   "source": [
    "### Leave One Domain Out"
   ]
  },
  {
   "cell_type": "code",
   "execution_count": 6,
   "id": "c0344437",
   "metadata": {},
   "outputs": [
    {
     "name": "stderr",
     "output_type": "stream",
     "text": [
      "Some weights of ViTModel were not initialized from the model checkpoint at WinKawaks/vit-small-patch16-224 and are newly initialized: ['pooler.dense.bias', 'pooler.dense.weight']\n",
      "You should probably TRAIN this model on a down-stream task to be able to use it for predictions and inference.\n",
      "2025-10-20 13:10:12,049 | INFO | === LODO: Leaving out domain 'location_38' ===\n"
     ]
    },
    {
     "name": "stdout",
     "output_type": "stream",
     "text": [
      "\n",
      "=== LODO: Leaving out domain 'location_38' ===\n"
     ]
    },
    {
     "name": "stderr",
     "output_type": "stream",
     "text": [
      "Evaluating: 100%|██████████| 77/77 [00:59<00:00,  1.30it/s]\n",
      "2025-10-20 13:13:01,287 | INFO | [location_38] Epoch 1/5 | Train - Loss: 1.0538, Cls: 1.0483, GRQO: 0.0055, Acc: 0.6296 | Val - Loss: 1.9390, Cls: 1.9382, GRQO: 0.0008, Acc: 0.4156\n",
      "2025-10-20 13:13:01,384 | INFO | [location_38] New best val acc: 0.4156\n"
     ]
    },
    {
     "name": "stdout",
     "output_type": "stream",
     "text": [
      "[location_38] Epoch 1/5 | Train - Loss: 1.0538, Cls: 1.0483, GRQO: 0.0055, Acc: 0.6296 | Val - Loss: 1.9390, Cls: 1.9382, GRQO: 0.0008, Acc: 0.4156\n",
      "[location_38] New best val acc: 0.4156\n"
     ]
    },
    {
     "name": "stderr",
     "output_type": "stream",
     "text": [
      "Evaluating: 100%|██████████| 77/77 [00:56<00:00,  1.36it/s]\n",
      "2025-10-20 13:15:35,231 | INFO | [location_38] Epoch 2/5 | Train - Loss: 0.4947, Cls: 0.4923, GRQO: 0.0023, Acc: 0.8346 | Val - Loss: 2.7346, Cls: 2.7342, GRQO: 0.0005, Acc: 0.3147\n"
     ]
    },
    {
     "name": "stdout",
     "output_type": "stream",
     "text": [
      "[location_38] Epoch 2/5 | Train - Loss: 0.4947, Cls: 0.4923, GRQO: 0.0023, Acc: 0.8346 | Val - Loss: 2.7346, Cls: 2.7342, GRQO: 0.0005, Acc: 0.3147\n"
     ]
    },
    {
     "name": "stderr",
     "output_type": "stream",
     "text": [
      "Evaluating: 100%|██████████| 77/77 [00:56<00:00,  1.36it/s]\n",
      "2025-10-20 13:18:10,565 | INFO | [location_38] Epoch 3/5 | Train - Loss: 0.2995, Cls: 0.2975, GRQO: 0.0020, Acc: 0.9009 | Val - Loss: 2.7498, Cls: 2.7494, GRQO: 0.0004, Acc: 0.3645\n"
     ]
    },
    {
     "name": "stdout",
     "output_type": "stream",
     "text": [
      "[location_38] Epoch 3/5 | Train - Loss: 0.2995, Cls: 0.2975, GRQO: 0.0020, Acc: 0.9009 | Val - Loss: 2.7498, Cls: 2.7494, GRQO: 0.0004, Acc: 0.3645\n"
     ]
    },
    {
     "name": "stderr",
     "output_type": "stream",
     "text": [
      "Evaluating: 100%|██████████| 77/77 [00:56<00:00,  1.37it/s]\n",
      "2025-10-20 13:20:43,898 | INFO | [location_38] Epoch 4/5 | Train - Loss: 0.2008, Cls: 0.1991, GRQO: 0.0018, Acc: 0.9320 | Val - Loss: 3.4377, Cls: 3.4373, GRQO: 0.0003, Acc: 0.2764\n"
     ]
    },
    {
     "name": "stdout",
     "output_type": "stream",
     "text": [
      "[location_38] Epoch 4/5 | Train - Loss: 0.2008, Cls: 0.1991, GRQO: 0.0018, Acc: 0.9320 | Val - Loss: 3.4377, Cls: 3.4373, GRQO: 0.0003, Acc: 0.2764\n"
     ]
    },
    {
     "name": "stderr",
     "output_type": "stream",
     "text": [
      "Evaluating: 100%|██████████| 77/77 [00:56<00:00,  1.36it/s]\n",
      "2025-10-20 13:23:35,666 | INFO | [location_38] Epoch 5/5 | Train - Loss: 0.1420, Cls: 0.1404, GRQO: 0.0016, Acc: 0.9524 | Val - Loss: 3.1754, Cls: 3.1751, GRQO: 0.0003, Acc: 0.3581\n",
      "2025-10-20 13:23:35,666 | INFO | [location_38] Best Acc: 0.4156\n",
      "2025-10-20 13:23:35,666 | INFO | ------------------------------------------------------------\n"
     ]
    },
    {
     "name": "stdout",
     "output_type": "stream",
     "text": [
      "[location_38] Epoch 5/5 | Train - Loss: 0.1420, Cls: 0.1404, GRQO: 0.0016, Acc: 0.9524 | Val - Loss: 3.1754, Cls: 3.1751, GRQO: 0.0003, Acc: 0.3581\n",
      "[location_38] Best Acc: 0.4156\n",
      "------------------------------------------------------------\n"
     ]
    },
    {
     "name": "stderr",
     "output_type": "stream",
     "text": [
      "Some weights of ViTModel were not initialized from the model checkpoint at WinKawaks/vit-small-patch16-224 and are newly initialized: ['pooler.dense.bias', 'pooler.dense.weight']\n",
      "You should probably TRAIN this model on a down-stream task to be able to use it for predictions and inference.\n",
      "2025-10-20 13:23:36,720 | INFO | === LODO: Leaving out domain 'location_43' ===\n"
     ]
    },
    {
     "name": "stdout",
     "output_type": "stream",
     "text": [
      "\n",
      "=== LODO: Leaving out domain 'location_43' ===\n"
     ]
    },
    {
     "name": "stderr",
     "output_type": "stream",
     "text": [
      "Evaluating: 100%|██████████| 32/32 [00:42<00:00,  1.33s/it]\n",
      "2025-10-20 13:26:34,510 | INFO | [location_43] Epoch 1/5 | Train - Loss: 0.8404, Cls: 0.8361, GRQO: 0.0043, Acc: 0.7167 | Val - Loss: 1.9833, Cls: 1.9825, GRQO: 0.0008, Acc: 0.3888\n",
      "2025-10-20 13:26:34,692 | INFO | [location_43] New best val acc: 0.3888\n"
     ]
    },
    {
     "name": "stdout",
     "output_type": "stream",
     "text": [
      "[location_43] Epoch 1/5 | Train - Loss: 0.8404, Cls: 0.8361, GRQO: 0.0043, Acc: 0.7167 | Val - Loss: 1.9833, Cls: 1.9825, GRQO: 0.0008, Acc: 0.3888\n",
      "[location_43] New best val acc: 0.3888\n"
     ]
    },
    {
     "name": "stderr",
     "output_type": "stream",
     "text": [
      "Evaluating: 100%|██████████| 32/32 [00:23<00:00,  1.35it/s]\n",
      "2025-10-20 13:30:10,615 | INFO | [location_43] Epoch 2/5 | Train - Loss: 0.4025, Cls: 0.4003, GRQO: 0.0022, Acc: 0.8684 | Val - Loss: 1.7610, Cls: 1.7605, GRQO: 0.0005, Acc: 0.4791\n",
      "2025-10-20 13:30:10,730 | INFO | [location_43] New best val acc: 0.4791\n"
     ]
    },
    {
     "name": "stdout",
     "output_type": "stream",
     "text": [
      "[location_43] Epoch 2/5 | Train - Loss: 0.4025, Cls: 0.4003, GRQO: 0.0022, Acc: 0.8684 | Val - Loss: 1.7610, Cls: 1.7605, GRQO: 0.0005, Acc: 0.4791\n",
      "[location_43] New best val acc: 0.4791\n"
     ]
    },
    {
     "name": "stderr",
     "output_type": "stream",
     "text": [
      "Evaluating: 100%|██████████| 32/32 [00:24<00:00,  1.30it/s]\n",
      "2025-10-20 13:32:50,410 | INFO | [location_43] Epoch 3/5 | Train - Loss: 0.2494, Cls: 0.2477, GRQO: 0.0017, Acc: 0.9183 | Val - Loss: 1.6931, Cls: 1.6929, GRQO: 0.0002, Acc: 0.4990\n",
      "2025-10-20 13:32:50,515 | INFO | [location_43] New best val acc: 0.4990\n"
     ]
    },
    {
     "name": "stdout",
     "output_type": "stream",
     "text": [
      "[location_43] Epoch 3/5 | Train - Loss: 0.2494, Cls: 0.2477, GRQO: 0.0017, Acc: 0.9183 | Val - Loss: 1.6931, Cls: 1.6929, GRQO: 0.0002, Acc: 0.4990\n",
      "[location_43] New best val acc: 0.4990\n"
     ]
    },
    {
     "name": "stderr",
     "output_type": "stream",
     "text": [
      "Evaluating: 100%|██████████| 32/32 [00:24<00:00,  1.31it/s]\n",
      "2025-10-20 13:35:33,682 | INFO | [location_43] Epoch 4/5 | Train - Loss: 0.1712, Cls: 0.1698, GRQO: 0.0015, Acc: 0.9441 | Val - Loss: 1.9584, Cls: 1.9583, GRQO: 0.0002, Acc: 0.4647\n"
     ]
    },
    {
     "name": "stdout",
     "output_type": "stream",
     "text": [
      "[location_43] Epoch 4/5 | Train - Loss: 0.1712, Cls: 0.1698, GRQO: 0.0015, Acc: 0.9441 | Val - Loss: 1.9584, Cls: 1.9583, GRQO: 0.0002, Acc: 0.4647\n"
     ]
    },
    {
     "name": "stderr",
     "output_type": "stream",
     "text": [
      "Evaluating: 100%|██████████| 32/32 [00:24<00:00,  1.30it/s]\n",
      "2025-10-20 13:38:17,208 | INFO | [location_43] Epoch 5/5 | Train - Loss: 0.1300, Cls: 0.1288, GRQO: 0.0012, Acc: 0.9577 | Val - Loss: 2.0672, Cls: 2.0670, GRQO: 0.0002, Acc: 0.4570\n",
      "2025-10-20 13:38:17,208 | INFO | [location_43] Best Acc: 0.4990\n",
      "2025-10-20 13:38:17,208 | INFO | ------------------------------------------------------------\n"
     ]
    },
    {
     "name": "stdout",
     "output_type": "stream",
     "text": [
      "[location_43] Epoch 5/5 | Train - Loss: 0.1300, Cls: 0.1288, GRQO: 0.0012, Acc: 0.9577 | Val - Loss: 2.0672, Cls: 2.0670, GRQO: 0.0002, Acc: 0.4570\n",
      "[location_43] Best Acc: 0.4990\n",
      "------------------------------------------------------------\n"
     ]
    },
    {
     "name": "stderr",
     "output_type": "stream",
     "text": [
      "Some weights of ViTModel were not initialized from the model checkpoint at WinKawaks/vit-small-patch16-224 and are newly initialized: ['pooler.dense.bias', 'pooler.dense.weight']\n",
      "You should probably TRAIN this model on a down-stream task to be able to use it for predictions and inference.\n",
      "2025-10-20 13:38:18,503 | INFO | === LODO: Leaving out domain 'location_46' ===\n"
     ]
    },
    {
     "name": "stdout",
     "output_type": "stream",
     "text": [
      "\n",
      "=== LODO: Leaving out domain 'location_46' ===\n"
     ]
    },
    {
     "name": "stderr",
     "output_type": "stream",
     "text": [
      "Evaluating: 100%|██████████| 48/48 [00:35<00:00,  1.36it/s]\n",
      "2025-10-20 13:40:59,078 | INFO | [location_46] Epoch 1/5 | Train - Loss: 0.8697, Cls: 0.8651, GRQO: 0.0046, Acc: 0.7087 | Val - Loss: 1.7366, Cls: 1.7353, GRQO: 0.0013, Acc: 0.3690\n",
      "2025-10-20 13:40:59,195 | INFO | [location_46] New best val acc: 0.3690\n"
     ]
    },
    {
     "name": "stdout",
     "output_type": "stream",
     "text": [
      "[location_46] Epoch 1/5 | Train - Loss: 0.8697, Cls: 0.8651, GRQO: 0.0046, Acc: 0.7087 | Val - Loss: 1.7366, Cls: 1.7353, GRQO: 0.0013, Acc: 0.3690\n",
      "[location_46] New best val acc: 0.3690\n"
     ]
    },
    {
     "name": "stderr",
     "output_type": "stream",
     "text": [
      "Evaluating: 100%|██████████| 48/48 [00:36<00:00,  1.32it/s]\n",
      "2025-10-20 13:43:39,957 | INFO | [location_46] Epoch 2/5 | Train - Loss: 0.4003, Cls: 0.3981, GRQO: 0.0022, Acc: 0.8692 | Val - Loss: 2.1797, Cls: 2.1790, GRQO: 0.0007, Acc: 0.3981\n",
      "2025-10-20 13:43:40,078 | INFO | [location_46] New best val acc: 0.3981\n"
     ]
    },
    {
     "name": "stdout",
     "output_type": "stream",
     "text": [
      "[location_46] Epoch 2/5 | Train - Loss: 0.4003, Cls: 0.3981, GRQO: 0.0022, Acc: 0.8692 | Val - Loss: 2.1797, Cls: 2.1790, GRQO: 0.0007, Acc: 0.3981\n",
      "[location_46] New best val acc: 0.3981\n"
     ]
    },
    {
     "name": "stderr",
     "output_type": "stream",
     "text": [
      "Evaluating: 100%|██████████| 48/48 [00:35<00:00,  1.36it/s]\n",
      "2025-10-20 13:46:20,294 | INFO | [location_46] Epoch 3/5 | Train - Loss: 0.2485, Cls: 0.2467, GRQO: 0.0018, Acc: 0.9189 | Val - Loss: 2.2443, Cls: 2.2439, GRQO: 0.0005, Acc: 0.4072\n",
      "2025-10-20 13:46:20,394 | INFO | [location_46] New best val acc: 0.4072\n"
     ]
    },
    {
     "name": "stdout",
     "output_type": "stream",
     "text": [
      "[location_46] Epoch 3/5 | Train - Loss: 0.2485, Cls: 0.2467, GRQO: 0.0018, Acc: 0.9189 | Val - Loss: 2.2443, Cls: 2.2439, GRQO: 0.0005, Acc: 0.4072\n",
      "[location_46] New best val acc: 0.4072\n"
     ]
    },
    {
     "name": "stderr",
     "output_type": "stream",
     "text": [
      "Evaluating: 100%|██████████| 48/48 [00:36<00:00,  1.33it/s]\n",
      "2025-10-20 13:49:02,395 | INFO | [location_46] Epoch 4/5 | Train - Loss: 0.1572, Cls: 0.1556, GRQO: 0.0016, Acc: 0.9480 | Val - Loss: 2.5249, Cls: 2.5245, GRQO: 0.0004, Acc: 0.3713\n"
     ]
    },
    {
     "name": "stdout",
     "output_type": "stream",
     "text": [
      "[location_46] Epoch 4/5 | Train - Loss: 0.1572, Cls: 0.1556, GRQO: 0.0016, Acc: 0.9480 | Val - Loss: 2.5249, Cls: 2.5245, GRQO: 0.0004, Acc: 0.3713\n"
     ]
    },
    {
     "name": "stderr",
     "output_type": "stream",
     "text": [
      "Evaluating: 100%|██████████| 48/48 [00:35<00:00,  1.36it/s]\n",
      "2025-10-20 13:51:42,610 | INFO | [location_46] Epoch 5/5 | Train - Loss: 0.1199, Cls: 0.1185, GRQO: 0.0013, Acc: 0.9596 | Val - Loss: 2.3722, Cls: 2.3719, GRQO: 0.0003, Acc: 0.4102\n",
      "2025-10-20 13:51:42,710 | INFO | [location_46] New best val acc: 0.4102\n",
      "2025-10-20 13:51:42,710 | INFO | [location_46] Best Acc: 0.4102\n",
      "2025-10-20 13:51:42,710 | INFO | ------------------------------------------------------------\n"
     ]
    },
    {
     "name": "stdout",
     "output_type": "stream",
     "text": [
      "[location_46] Epoch 5/5 | Train - Loss: 0.1199, Cls: 0.1185, GRQO: 0.0013, Acc: 0.9596 | Val - Loss: 2.3722, Cls: 2.3719, GRQO: 0.0003, Acc: 0.4102\n",
      "[location_46] New best val acc: 0.4102\n",
      "[location_46] Best Acc: 0.4102\n",
      "------------------------------------------------------------\n"
     ]
    },
    {
     "name": "stderr",
     "output_type": "stream",
     "text": [
      "Some weights of ViTModel were not initialized from the model checkpoint at WinKawaks/vit-small-patch16-224 and are newly initialized: ['pooler.dense.bias', 'pooler.dense.weight']\n",
      "You should probably TRAIN this model on a down-stream task to be able to use it for predictions and inference.\n",
      "2025-10-20 13:51:43,741 | INFO | === LODO: Leaving out domain 'location_100' ===\n"
     ]
    },
    {
     "name": "stdout",
     "output_type": "stream",
     "text": [
      "\n",
      "=== LODO: Leaving out domain 'location_100' ===\n"
     ]
    },
    {
     "name": "stderr",
     "output_type": "stream",
     "text": [
      "Evaluating: 100%|██████████| 39/39 [00:28<00:00,  1.36it/s]\n",
      "2025-10-20 13:54:25,757 | INFO | [location_100] Epoch 1/5 | Train - Loss: 1.0066, Cls: 1.0024, GRQO: 0.0041, Acc: 0.6550 | Val - Loss: 1.6652, Cls: 1.6643, GRQO: 0.0009, Acc: 0.4792\n",
      "2025-10-20 13:54:25,858 | INFO | [location_100] New best val acc: 0.4792\n"
     ]
    },
    {
     "name": "stdout",
     "output_type": "stream",
     "text": [
      "[location_100] Epoch 1/5 | Train - Loss: 1.0066, Cls: 1.0024, GRQO: 0.0041, Acc: 0.6550 | Val - Loss: 1.6652, Cls: 1.6643, GRQO: 0.0009, Acc: 0.4792\n",
      "[location_100] New best val acc: 0.4792\n"
     ]
    },
    {
     "name": "stderr",
     "output_type": "stream",
     "text": [
      "Evaluating: 100%|██████████| 39/39 [00:41<00:00,  1.06s/it]\n",
      "2025-10-20 13:57:19,292 | INFO | [location_100] Epoch 2/5 | Train - Loss: 0.4763, Cls: 0.4742, GRQO: 0.0021, Acc: 0.8420 | Val - Loss: 1.7856, Cls: 1.7849, GRQO: 0.0007, Acc: 0.4765\n"
     ]
    },
    {
     "name": "stdout",
     "output_type": "stream",
     "text": [
      "[location_100] Epoch 2/5 | Train - Loss: 0.4763, Cls: 0.4742, GRQO: 0.0021, Acc: 0.8420 | Val - Loss: 1.7856, Cls: 1.7849, GRQO: 0.0007, Acc: 0.4765\n"
     ]
    },
    {
     "name": "stderr",
     "output_type": "stream",
     "text": [
      "Evaluating: 100%|██████████| 39/39 [01:13<00:00,  1.90s/it]\n",
      "2025-10-20 14:03:58,897 | INFO | [location_100] Epoch 3/5 | Train - Loss: 0.3024, Cls: 0.3007, GRQO: 0.0017, Acc: 0.8995 | Val - Loss: 1.6947, Cls: 1.6943, GRQO: 0.0004, Acc: 0.5819\n"
     ]
    },
    {
     "name": "stdout",
     "output_type": "stream",
     "text": [
      "[location_100] Epoch 3/5 | Train - Loss: 0.3024, Cls: 0.3007, GRQO: 0.0017, Acc: 0.8995 | Val - Loss: 1.6947, Cls: 1.6943, GRQO: 0.0004, Acc: 0.5819\n"
     ]
    },
    {
     "name": "stderr",
     "output_type": "stream",
     "text": [
      "2025-10-20 14:03:59,115 | INFO | [location_100] New best val acc: 0.5819\n"
     ]
    },
    {
     "name": "stdout",
     "output_type": "stream",
     "text": [
      "[location_100] New best val acc: 0.5819\n"
     ]
    },
    {
     "name": "stderr",
     "output_type": "stream",
     "text": [
      "Evaluating: 100%|██████████| 39/39 [00:28<00:00,  1.38it/s]\n",
      "2025-10-20 14:09:36,458 | INFO | [location_100] Epoch 4/5 | Train - Loss: 0.2088, Cls: 0.2073, GRQO: 0.0015, Acc: 0.9290 | Val - Loss: 2.0772, Cls: 2.0768, GRQO: 0.0003, Acc: 0.5038\n"
     ]
    },
    {
     "name": "stdout",
     "output_type": "stream",
     "text": [
      "[location_100] Epoch 4/5 | Train - Loss: 0.2088, Cls: 0.2073, GRQO: 0.0015, Acc: 0.9290 | Val - Loss: 2.0772, Cls: 2.0768, GRQO: 0.0003, Acc: 0.5038\n"
     ]
    },
    {
     "name": "stderr",
     "output_type": "stream",
     "text": [
      "Evaluating: 100%|██████████| 39/39 [00:28<00:00,  1.37it/s]\n",
      "2025-10-20 14:12:16,573 | INFO | [location_100] Epoch 5/5 | Train - Loss: 0.1594, Cls: 0.1581, GRQO: 0.0012, Acc: 0.9460 | Val - Loss: 2.3089, Cls: 2.3086, GRQO: 0.0003, Acc: 0.5042\n",
      "2025-10-20 14:12:16,574 | INFO | [location_100] Best Acc: 0.5819\n",
      "2025-10-20 14:12:16,574 | INFO | ------------------------------------------------------------\n",
      "2025-10-20 14:12:16,575 | INFO | LODO finished | Mean Acc: 0.4767 | Summary saved to c:\\Users\\Fatim_Sproj\\Desktop\\Fatim\\Spring 2025\\sproj\\Visual-Reasoning\\Vit-GRQO\\vit-small\\TerraIncognita\\logs\\lodo_summary_20251020_141216.json\n"
     ]
    },
    {
     "name": "stdout",
     "output_type": "stream",
     "text": [
      "[location_100] Epoch 5/5 | Train - Loss: 0.1594, Cls: 0.1581, GRQO: 0.0012, Acc: 0.9460 | Val - Loss: 2.3089, Cls: 2.3086, GRQO: 0.0003, Acc: 0.5042\n",
      "[location_100] Best Acc: 0.5819\n",
      "------------------------------------------------------------\n",
      "LODO finished | Mean Acc: 0.4767\n",
      "Summary saved to c:\\Users\\Fatim_Sproj\\Desktop\\Fatim\\Spring 2025\\sproj\\Visual-Reasoning\\Vit-GRQO\\vit-small\\TerraIncognita\\logs\\lodo_summary_20251020_141216.json\n"
     ]
    }
   ],
   "source": [
    "lodo_results, lodo_mean, lodo_summary = run_lodo(\n",
    "    model_fn=model_factory,\n",
    "    CFG=CFG,\n",
    "    logger=logger,\n",
    "    dataset_key=DS,\n",
    "    domains=domains,\n",
    "    loaders=loaders,\n",
    "    optimizer_fn=optimizer_fn,\n",
    "    device=device,\n",
    "    ckpt_root=ckpt_root,\n",
    "    log_dir=log_dir,\n",
    "    epochs=epochs\n",
    ")"
   ]
  },
  {
   "cell_type": "markdown",
   "id": "008d21ac",
   "metadata": {},
   "source": [
    "### Baseline"
   ]
  },
  {
   "cell_type": "code",
   "execution_count": 7,
   "id": "060b18a4",
   "metadata": {},
   "outputs": [
    {
     "name": "stderr",
     "output_type": "stream",
     "text": [
      "2025-10-20 14:12:16,593 | INFO | Initializing ViT baseline: WinKawaks/vit-small-patch16-224\n"
     ]
    },
    {
     "name": "stdout",
     "output_type": "stream",
     "text": [
      "Initializing ViT baseline: WinKawaks/vit-small-patch16-224\n"
     ]
    },
    {
     "name": "stderr",
     "output_type": "stream",
     "text": [
      "Some weights of ViTForImageClassification were not initialized from the model checkpoint at WinKawaks/vit-small-patch16-224 and are newly initialized because the shapes did not match:\n",
      "- classifier.bias: found shape torch.Size([1000]) in the checkpoint and torch.Size([10]) in the model instantiated\n",
      "- classifier.weight: found shape torch.Size([1000, 384]) in the checkpoint and torch.Size([10, 384]) in the model instantiated\n",
      "You should probably TRAIN this model on a down-stream task to be able to use it for predictions and inference.\n",
      "2025-10-20 14:12:17,623 | INFO | === Baseline LODO: Leaving out domain 'location_38' ===\n"
     ]
    },
    {
     "name": "stdout",
     "output_type": "stream",
     "text": [
      "\n",
      "=== Baseline LODO: Leaving out domain 'location_38' ===\n"
     ]
    },
    {
     "name": "stderr",
     "output_type": "stream",
     "text": [
      "2025-10-20 14:14:48,600 | INFO | [location_38] Epoch 1/5 | Train - Loss: 0.8359, Acc: 0.7085 | Val Acc: 0.3450\n"
     ]
    },
    {
     "name": "stdout",
     "output_type": "stream",
     "text": [
      "[location_38] Epoch 1/5 | Train - Loss: 0.8359, Acc: 0.7085 | Val Acc: 0.3450\n"
     ]
    },
    {
     "name": "stderr",
     "output_type": "stream",
     "text": [
      "2025-10-20 14:17:19,944 | INFO | [location_38] Epoch 2/5 | Train - Loss: 0.3421, Acc: 0.8856 | Val Acc: 0.3450\n"
     ]
    },
    {
     "name": "stdout",
     "output_type": "stream",
     "text": [
      "[location_38] Epoch 2/5 | Train - Loss: 0.3421, Acc: 0.8856 | Val Acc: 0.3450\n"
     ]
    },
    {
     "name": "stderr",
     "output_type": "stream",
     "text": [
      "2025-10-20 14:19:51,641 | INFO | [location_38] Epoch 3/5 | Train - Loss: 0.2020, Acc: 0.9304 | Val Acc: 0.2874\n"
     ]
    },
    {
     "name": "stdout",
     "output_type": "stream",
     "text": [
      "[location_38] Epoch 3/5 | Train - Loss: 0.2020, Acc: 0.9304 | Val Acc: 0.2874\n"
     ]
    },
    {
     "name": "stderr",
     "output_type": "stream",
     "text": [
      "2025-10-20 14:22:22,507 | INFO | [location_38] Epoch 4/5 | Train - Loss: 0.1524, Acc: 0.9484 | Val Acc: 0.3334\n"
     ]
    },
    {
     "name": "stdout",
     "output_type": "stream",
     "text": [
      "[location_38] Epoch 4/5 | Train - Loss: 0.1524, Acc: 0.9484 | Val Acc: 0.3334\n"
     ]
    },
    {
     "name": "stderr",
     "output_type": "stream",
     "text": [
      "2025-10-20 14:24:53,756 | INFO | [location_38] Epoch 5/5 | Train - Loss: 0.1130, Acc: 0.9619 | Val Acc: 0.3681\n",
      "2025-10-20 14:24:53,756 | INFO | [location_38] Best Val Acc: 0.3681\n",
      "2025-10-20 14:24:53,757 | INFO | ------------------------------------------------------------\n",
      "2025-10-20 14:24:53,757 | INFO | Initializing ViT baseline: WinKawaks/vit-small-patch16-224\n"
     ]
    },
    {
     "name": "stdout",
     "output_type": "stream",
     "text": [
      "[location_38] Epoch 5/5 | Train - Loss: 0.1130, Acc: 0.9619 | Val Acc: 0.3681\n",
      "[location_38] Best Val Acc: 0.3681\n",
      "------------------------------------------------------------\n",
      "Initializing ViT baseline: WinKawaks/vit-small-patch16-224\n"
     ]
    },
    {
     "name": "stderr",
     "output_type": "stream",
     "text": [
      "Some weights of ViTForImageClassification were not initialized from the model checkpoint at WinKawaks/vit-small-patch16-224 and are newly initialized because the shapes did not match:\n",
      "- classifier.bias: found shape torch.Size([1000]) in the checkpoint and torch.Size([10]) in the model instantiated\n",
      "- classifier.weight: found shape torch.Size([1000, 384]) in the checkpoint and torch.Size([10, 384]) in the model instantiated\n",
      "You should probably TRAIN this model on a down-stream task to be able to use it for predictions and inference.\n",
      "2025-10-20 14:24:55,120 | INFO | === Baseline LODO: Leaving out domain 'location_43' ===\n"
     ]
    },
    {
     "name": "stdout",
     "output_type": "stream",
     "text": [
      "\n",
      "=== Baseline LODO: Leaving out domain 'location_43' ===\n"
     ]
    },
    {
     "name": "stderr",
     "output_type": "stream",
     "text": [
      "2025-10-20 14:29:19,820 | INFO | [location_43] Epoch 1/5 | Train - Loss: 0.7347, Acc: 0.7509 | Val Acc: 0.3637\n"
     ]
    },
    {
     "name": "stdout",
     "output_type": "stream",
     "text": [
      "[location_43] Epoch 1/5 | Train - Loss: 0.7347, Acc: 0.7509 | Val Acc: 0.3637\n"
     ]
    },
    {
     "name": "stderr",
     "output_type": "stream",
     "text": [
      "2025-10-20 14:32:23,102 | INFO | [location_43] Epoch 2/5 | Train - Loss: 0.3046, Acc: 0.8994 | Val Acc: 0.4495\n"
     ]
    },
    {
     "name": "stdout",
     "output_type": "stream",
     "text": [
      "[location_43] Epoch 2/5 | Train - Loss: 0.3046, Acc: 0.8994 | Val Acc: 0.4495\n"
     ]
    },
    {
     "name": "stderr",
     "output_type": "stream",
     "text": [
      "2025-10-20 14:34:57,054 | INFO | [location_43] Epoch 3/5 | Train - Loss: 0.1906, Acc: 0.9374 | Val Acc: 0.4828\n"
     ]
    },
    {
     "name": "stdout",
     "output_type": "stream",
     "text": [
      "[location_43] Epoch 3/5 | Train - Loss: 0.1906, Acc: 0.9374 | Val Acc: 0.4828\n"
     ]
    },
    {
     "name": "stderr",
     "output_type": "stream",
     "text": [
      "2025-10-20 14:37:31,702 | INFO | [location_43] Epoch 4/5 | Train - Loss: 0.1291, Acc: 0.9572 | Val Acc: 0.4714\n"
     ]
    },
    {
     "name": "stdout",
     "output_type": "stream",
     "text": [
      "[location_43] Epoch 4/5 | Train - Loss: 0.1291, Acc: 0.9572 | Val Acc: 0.4714\n"
     ]
    },
    {
     "name": "stderr",
     "output_type": "stream",
     "text": [
      "2025-10-20 14:40:06,120 | INFO | [location_43] Epoch 5/5 | Train - Loss: 0.1017, Acc: 0.9667 | Val Acc: 0.4219\n",
      "2025-10-20 14:40:06,120 | INFO | [location_43] Best Val Acc: 0.4828\n",
      "2025-10-20 14:40:06,120 | INFO | ------------------------------------------------------------\n",
      "2025-10-20 14:40:06,120 | INFO | Initializing ViT baseline: WinKawaks/vit-small-patch16-224\n"
     ]
    },
    {
     "name": "stdout",
     "output_type": "stream",
     "text": [
      "[location_43] Epoch 5/5 | Train - Loss: 0.1017, Acc: 0.9667 | Val Acc: 0.4219\n",
      "[location_43] Best Val Acc: 0.4828\n",
      "------------------------------------------------------------\n",
      "Initializing ViT baseline: WinKawaks/vit-small-patch16-224\n"
     ]
    },
    {
     "name": "stderr",
     "output_type": "stream",
     "text": [
      "Some weights of ViTForImageClassification were not initialized from the model checkpoint at WinKawaks/vit-small-patch16-224 and are newly initialized because the shapes did not match:\n",
      "- classifier.bias: found shape torch.Size([1000]) in the checkpoint and torch.Size([10]) in the model instantiated\n",
      "- classifier.weight: found shape torch.Size([1000, 384]) in the checkpoint and torch.Size([10, 384]) in the model instantiated\n",
      "You should probably TRAIN this model on a down-stream task to be able to use it for predictions and inference.\n",
      "2025-10-20 14:40:08,121 | INFO | === Baseline LODO: Leaving out domain 'location_46' ===\n"
     ]
    },
    {
     "name": "stdout",
     "output_type": "stream",
     "text": [
      "\n",
      "=== Baseline LODO: Leaving out domain 'location_46' ===\n"
     ]
    },
    {
     "name": "stderr",
     "output_type": "stream",
     "text": [
      "2025-10-20 14:42:41,550 | INFO | [location_46] Epoch 1/5 | Train - Loss: 0.6969, Acc: 0.7665 | Val Acc: 0.4314\n"
     ]
    },
    {
     "name": "stdout",
     "output_type": "stream",
     "text": [
      "[location_46] Epoch 1/5 | Train - Loss: 0.6969, Acc: 0.7665 | Val Acc: 0.4314\n"
     ]
    },
    {
     "name": "stderr",
     "output_type": "stream",
     "text": [
      "2025-10-20 14:45:15,284 | INFO | [location_46] Epoch 2/5 | Train - Loss: 0.2597, Acc: 0.9146 | Val Acc: 0.3589\n"
     ]
    },
    {
     "name": "stdout",
     "output_type": "stream",
     "text": [
      "[location_46] Epoch 2/5 | Train - Loss: 0.2597, Acc: 0.9146 | Val Acc: 0.3589\n"
     ]
    },
    {
     "name": "stderr",
     "output_type": "stream",
     "text": [
      "2025-10-20 14:47:51,100 | INFO | [location_46] Epoch 3/5 | Train - Loss: 0.1429, Acc: 0.9547 | Val Acc: 0.4219\n"
     ]
    },
    {
     "name": "stdout",
     "output_type": "stream",
     "text": [
      "[location_46] Epoch 3/5 | Train - Loss: 0.1429, Acc: 0.9547 | Val Acc: 0.4219\n"
     ]
    },
    {
     "name": "stderr",
     "output_type": "stream",
     "text": [
      "2025-10-20 14:50:26,532 | INFO | [location_46] Epoch 4/5 | Train - Loss: 0.1000, Acc: 0.9668 | Val Acc: 0.3729\n"
     ]
    },
    {
     "name": "stdout",
     "output_type": "stream",
     "text": [
      "[location_46] Epoch 4/5 | Train - Loss: 0.1000, Acc: 0.9668 | Val Acc: 0.3729\n"
     ]
    },
    {
     "name": "stderr",
     "output_type": "stream",
     "text": [
      "2025-10-20 14:53:02,066 | INFO | [location_46] Epoch 5/5 | Train - Loss: 0.0907, Acc: 0.9699 | Val Acc: 0.3755\n",
      "2025-10-20 14:53:02,081 | INFO | [location_46] Best Val Acc: 0.4314\n",
      "2025-10-20 14:53:02,081 | INFO | ------------------------------------------------------------\n",
      "2025-10-20 14:53:02,081 | INFO | Initializing ViT baseline: WinKawaks/vit-small-patch16-224\n"
     ]
    },
    {
     "name": "stdout",
     "output_type": "stream",
     "text": [
      "[location_46] Epoch 5/5 | Train - Loss: 0.0907, Acc: 0.9699 | Val Acc: 0.3755\n",
      "[location_46] Best Val Acc: 0.4314\n",
      "------------------------------------------------------------\n",
      "Initializing ViT baseline: WinKawaks/vit-small-patch16-224\n"
     ]
    },
    {
     "name": "stderr",
     "output_type": "stream",
     "text": [
      "Some weights of ViTForImageClassification were not initialized from the model checkpoint at WinKawaks/vit-small-patch16-224 and are newly initialized because the shapes did not match:\n",
      "- classifier.bias: found shape torch.Size([1000]) in the checkpoint and torch.Size([10]) in the model instantiated\n",
      "- classifier.weight: found shape torch.Size([1000, 384]) in the checkpoint and torch.Size([10, 384]) in the model instantiated\n",
      "You should probably TRAIN this model on a down-stream task to be able to use it for predictions and inference.\n",
      "2025-10-20 14:53:05,681 | INFO | === Baseline LODO: Leaving out domain 'location_100' ===\n"
     ]
    },
    {
     "name": "stdout",
     "output_type": "stream",
     "text": [
      "\n",
      "=== Baseline LODO: Leaving out domain 'location_100' ===\n"
     ]
    },
    {
     "name": "stderr",
     "output_type": "stream",
     "text": [
      "2025-10-20 14:55:43,047 | INFO | [location_100] Epoch 1/5 | Train - Loss: 0.8064, Acc: 0.7271 | Val Acc: 0.5792\n"
     ]
    },
    {
     "name": "stdout",
     "output_type": "stream",
     "text": [
      "[location_100] Epoch 1/5 | Train - Loss: 0.8064, Acc: 0.7271 | Val Acc: 0.5792\n"
     ]
    },
    {
     "name": "stderr",
     "output_type": "stream",
     "text": [
      "2025-10-20 14:58:20,597 | INFO | [location_100] Epoch 2/5 | Train - Loss: 0.3289, Acc: 0.8866 | Val Acc: 0.5977\n"
     ]
    },
    {
     "name": "stdout",
     "output_type": "stream",
     "text": [
      "[location_100] Epoch 2/5 | Train - Loss: 0.3289, Acc: 0.8866 | Val Acc: 0.5977\n"
     ]
    },
    {
     "name": "stderr",
     "output_type": "stream",
     "text": [
      "2025-10-20 15:00:59,398 | INFO | [location_100] Epoch 3/5 | Train - Loss: 0.1956, Acc: 0.9341 | Val Acc: 0.5725\n"
     ]
    },
    {
     "name": "stdout",
     "output_type": "stream",
     "text": [
      "[location_100] Epoch 3/5 | Train - Loss: 0.1956, Acc: 0.9341 | Val Acc: 0.5725\n"
     ]
    },
    {
     "name": "stderr",
     "output_type": "stream",
     "text": [
      "2025-10-20 15:03:35,073 | INFO | [location_100] Epoch 4/5 | Train - Loss: 0.1426, Acc: 0.9516 | Val Acc: 0.5809\n"
     ]
    },
    {
     "name": "stdout",
     "output_type": "stream",
     "text": [
      "[location_100] Epoch 4/5 | Train - Loss: 0.1426, Acc: 0.9516 | Val Acc: 0.5809\n"
     ]
    },
    {
     "name": "stderr",
     "output_type": "stream",
     "text": [
      "2025-10-20 15:06:11,865 | INFO | [location_100] Epoch 5/5 | Train - Loss: 0.1188, Acc: 0.9593 | Val Acc: 0.4778\n",
      "2025-10-20 15:06:11,865 | INFO | [location_100] Best Val Acc: 0.5977\n",
      "2025-10-20 15:06:11,865 | INFO | ------------------------------------------------------------\n",
      "2025-10-20 15:06:11,865 | INFO | Baseline LODO (WinKawaks/vit-small-patch16-224) finished | Mean Acc: 0.4700\n"
     ]
    },
    {
     "name": "stdout",
     "output_type": "stream",
     "text": [
      "[location_100] Epoch 5/5 | Train - Loss: 0.1188, Acc: 0.9593 | Val Acc: 0.4778\n",
      "[location_100] Best Val Acc: 0.5977\n",
      "------------------------------------------------------------\n",
      "Baseline LODO (WinKawaks/vit-small-patch16-224) finished | Mean Acc: 0.4700\n"
     ]
    }
   ],
   "source": [
    "baseline_results, baseline_mean = run_baseline(\n",
    "    model_name=MODEL_NAME,\n",
    "    CFG=CFG,\n",
    "    logger=logger,\n",
    "    dataset_key=DS,\n",
    "    domains=domains,\n",
    "    loaders=loaders,\n",
    "    optimizer_fn=optimizer_fn,\n",
    "    device=device,\n",
    "    epochs=CFG[\"train\"][\"epochs\"]\n",
    ")\n"
   ]
  }
 ],
 "metadata": {
  "kernelspec": {
   "display_name": "bacp",
   "language": "python",
   "name": "python3"
  },
  "language_info": {
   "codemirror_mode": {
    "name": "ipython",
    "version": 3
   },
   "file_extension": ".py",
   "mimetype": "text/x-python",
   "name": "python",
   "nbconvert_exporter": "python",
   "pygments_lexer": "ipython3",
   "version": "3.10.16"
  }
 },
 "nbformat": 4,
 "nbformat_minor": 5
}
