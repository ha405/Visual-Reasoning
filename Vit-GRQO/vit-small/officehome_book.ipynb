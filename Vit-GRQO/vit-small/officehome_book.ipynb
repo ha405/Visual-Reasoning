{
 "cells": [
  {
   "cell_type": "markdown",
   "id": "7aeb725f",
   "metadata": {},
   "source": [
    "### Imports"
   ]
  },
  {
   "cell_type": "code",
   "execution_count": 2,
   "id": "e407742a",
   "metadata": {},
   "outputs": [
    {
     "name": "stdout",
     "output_type": "stream",
     "text": [
      "Device: cuda\n",
      "PyTorch: 2.5.1+cu121\n"
     ]
    }
   ],
   "source": [
    "import sys\n",
    "sys.dont_write_bytecode = True\n",
    "\n",
    "\n",
    "import torch\n",
    "import numpy as np\n",
    "import random\n",
    "import os\n",
    "\n",
    "def set_seeds(seed_value=42):\n",
    "    \"\"\"Sets seeds for reproducibility.\"\"\"\n",
    "    random.seed(seed_value)\n",
    "    np.random.seed(seed_value)\n",
    "    torch.manual_seed(seed_value)\n",
    "    os.environ['PYTHONHASHSEED'] = str(seed_value)\n",
    "    \n",
    "    if torch.cuda.is_available():\n",
    "        torch.cuda.manual_seed(seed_value)\n",
    "\n",
    "set_seeds(42) \n",
    "\n",
    "import json\n",
    "import torch.nn as nn\n",
    "import torch.optim as optim\n",
    "from tqdm import tqdm\n",
    "import warnings\n",
    "import logging\n",
    "from datetime import datetime\n",
    "warnings.filterwarnings('ignore')\n",
    "\n",
    "from model import get_model\n",
    "from config import CFG\n",
    "from dataset import get_dataset_class\n",
    "# from resnet.plot import plot_domainwise_accuracy\n",
    "from transform import get_transforms\n",
    "from runner import run_baseline, run_lodo\n",
    "\n",
    "torch.manual_seed(CFG[\"system\"][\"seed\"])\n",
    "np.random.seed(CFG[\"system\"][\"seed\"])\n",
    "\n",
    "device = CFG[\"system\"][\"device\"]\n",
    "print(f\"Device: {device}\")\n",
    "print(f\"PyTorch: {torch.__version__}\")\n",
    "\n",
    "DS = \"OfficeHome\"\n",
    "MODEL_NAME = \"WinKawaks/vit-small-patch16-224\""
   ]
  },
  {
   "cell_type": "markdown",
   "id": "d617af05",
   "metadata": {},
   "source": [
    "### DataLoading"
   ]
  },
  {
   "cell_type": "code",
   "execution_count": 3,
   "id": "3e673c0a",
   "metadata": {},
   "outputs": [
    {
     "name": "stdout",
     "output_type": "stream",
     "text": [
      "\n",
      "Data loaders ready!\n"
     ]
    }
   ],
   "source": [
    "train_transform, test_transform = get_transforms(img_size=224, augment=False, use_imagenet_norm=False)\n",
    "\n",
    "DatasetClass = get_dataset_class(DS)\n",
    "\n",
    "ld = DatasetClass(\n",
    "    data_root=CFG[\"datasets\"][DS][\"root\"],\n",
    "    transform=train_transform,\n",
    "    batch_size=CFG[\"train\"][\"batch_size\"]\n",
    ")\n",
    "\n",
    "print(\"\\nData loaders ready!\")"
   ]
  },
  {
   "cell_type": "markdown",
   "id": "e5a3d318",
   "metadata": {},
   "source": [
    "### Logging"
   ]
  },
  {
   "cell_type": "code",
   "execution_count": 4,
   "id": "f01fd7aa",
   "metadata": {},
   "outputs": [
    {
     "name": "stderr",
     "output_type": "stream",
     "text": [
      "2025-10-20 11:21:02,249 | INFO | Initialized experiment directories for OfficeHome\n",
      "2025-10-20 11:21:02,250 | INFO | Logs: c:\\Users\\Fatim_Sproj\\Desktop\\Fatim\\Spring 2025\\sproj\\Visual-Reasoning\\Vit-GRQO\\vit-small\\OfficeHome\\logs\n",
      "2025-10-20 11:21:02,251 | INFO | Checkpoints: c:\\Users\\Fatim_Sproj\\Desktop\\Fatim\\Spring 2025\\sproj\\Visual-Reasoning\\Vit-GRQO\\vit-small\\OfficeHome\\checkpoints\n",
      "2025-10-20 11:21:02,251 | INFO | Plots: c:\\Users\\Fatim_Sproj\\Desktop\\Fatim\\Spring 2025\\sproj\\Visual-Reasoning\\Vit-GRQO\\vit-small\\OfficeHome\\plots\n"
     ]
    }
   ],
   "source": [
    "dataset_name = DS\n",
    "base_dir = os.path.join(os.getcwd(), dataset_name)\n",
    "subdirs = [\"logs\", \"checkpoints\", \"plots\"]\n",
    "\n",
    "for sub in subdirs:\n",
    "    os.makedirs(os.path.join(base_dir, sub), exist_ok=True)\n",
    "\n",
    "timestamp = datetime.now().strftime(\"%Y-%m-%d_%H-%M-%S\")\n",
    "log_file = os.path.join(base_dir, \"logs\", f\"train_{timestamp}.log\")\n",
    "\n",
    "logging.basicConfig(\n",
    "    level=logging.INFO,\n",
    "    format=\"%(asctime)s | %(levelname)s | %(message)s\",\n",
    "    handlers=[\n",
    "        logging.FileHandler(log_file),\n",
    "        logging.StreamHandler()\n",
    "    ]\n",
    ")\n",
    "\n",
    "logger = logging.getLogger(f\"{dataset_name}_logger\")\n",
    "\n",
    "logger.info(f\"Initialized experiment directories for {dataset_name}\")\n",
    "logger.info(f\"Logs: {os.path.join(base_dir, 'logs')}\")\n",
    "logger.info(f\"Checkpoints: {os.path.join(base_dir, 'checkpoints')}\")\n",
    "logger.info(f\"Plots: {os.path.join(base_dir, 'plots')}\")"
   ]
  },
  {
   "cell_type": "markdown",
   "id": "47398d2c",
   "metadata": {},
   "source": [
    "### Setup"
   ]
  },
  {
   "cell_type": "code",
   "execution_count": 5,
   "id": "450d7f06",
   "metadata": {},
   "outputs": [],
   "source": [
    "domains = CFG[\"datasets\"][DS][\"domains\"]\n",
    "loaders = {d: {\"train\": ld.get_dataloader(d, train=True), \"val\": ld.get_dataloader(d, train=False)} for d in domains}\n",
    "ckpt_root = os.path.join(base_dir, \"checkpoints\")\n",
    "log_dir = os.path.join(base_dir, \"logs\")\n",
    "plots_dir = os.path.join(base_dir, \"plots\")\n",
    "os.makedirs(ckpt_root, exist_ok=True)\n",
    "os.makedirs(log_dir, exist_ok=True)\n",
    "os.makedirs(plots_dir, exist_ok=True)\n",
    "model_factory = lambda cfg, dataset_key: get_model(cfg,dataset=DS)\n",
    "optimizer_fn = lambda model: optim.AdamW(model.parameters(), lr=CFG[\"train\"][\"lr\"], weight_decay=CFG[\"train\"].get(\"weight_decay\", 0.01))\n",
    "device = CFG[\"system\"][\"device\"]\n",
    "epochs = CFG[\"train\"][\"epochs\"]\n"
   ]
  },
  {
   "cell_type": "markdown",
   "id": "2d8dafe9",
   "metadata": {},
   "source": [
    "{\n",
    "  \"lodo_results\": {\n",
    "    \"art_painting\": 0.8341463414634146,\n",
    "    \"cartoon\": 0.7974413646055437,\n",
    "    \"photo\": 0.9580838323353293,\n",
    "    \"sketch\": 0.6017811704834606\n",
    "  },\n",
    "  \"timestamp\": \"20251004_020611\"\n",
    "}"
   ]
  },
  {
   "cell_type": "markdown",
   "id": "4931c868",
   "metadata": {},
   "source": [
    "### Leave One Domain Out"
   ]
  },
  {
   "cell_type": "code",
   "execution_count": 6,
   "id": "c0344437",
   "metadata": {},
   "outputs": [
    {
     "name": "stderr",
     "output_type": "stream",
     "text": [
      "Some weights of ViTModel were not initialized from the model checkpoint at WinKawaks/vit-small-patch16-224 and are newly initialized: ['pooler.dense.bias', 'pooler.dense.weight']\n",
      "You should probably TRAIN this model on a down-stream task to be able to use it for predictions and inference.\n",
      "2025-10-20 11:21:07,366 | INFO | === LODO: Leaving out domain 'Art' ===\n"
     ]
    },
    {
     "name": "stdout",
     "output_type": "stream",
     "text": [
      "\n",
      "=== LODO: Leaving out domain 'Art' ===\n"
     ]
    },
    {
     "name": "stderr",
     "output_type": "stream",
     "text": [
      "Evaluating: 100%|██████████| 19/19 [00:13<00:00,  1.37it/s]\n",
      "2025-10-20 11:22:51,949 | INFO | [Art] Epoch 1/5 | Train - Loss: 1.5776, Cls: 1.5700, GRQO: 0.0075, Acc: 0.7127 | Val - Loss: 0.9159, Cls: 0.9143, GRQO: 0.0016, Acc: 0.7849\n",
      "2025-10-20 11:22:52,054 | INFO | [Art] New best val acc: 0.7849\n"
     ]
    },
    {
     "name": "stdout",
     "output_type": "stream",
     "text": [
      "[Art] Epoch 1/5 | Train - Loss: 1.5776, Cls: 1.5700, GRQO: 0.0075, Acc: 0.7127 | Val - Loss: 0.9159, Cls: 0.9143, GRQO: 0.0016, Acc: 0.7849\n",
      "[Art] New best val acc: 0.7849\n"
     ]
    },
    {
     "name": "stderr",
     "output_type": "stream",
     "text": [
      "Evaluating: 100%|██████████| 19/19 [00:29<00:00,  1.57s/it]\n",
      "2025-10-20 11:25:26,138 | INFO | [Art] Epoch 2/5 | Train - Loss: 0.2916, Cls: 0.2879, GRQO: 0.0037, Acc: 0.9271 | Val - Loss: 0.9312, Cls: 0.9303, GRQO: 0.0009, Acc: 0.7660\n"
     ]
    },
    {
     "name": "stdout",
     "output_type": "stream",
     "text": [
      "[Art] Epoch 2/5 | Train - Loss: 0.2916, Cls: 0.2879, GRQO: 0.0037, Acc: 0.9271 | Val - Loss: 0.9312, Cls: 0.9303, GRQO: 0.0009, Acc: 0.7660\n"
     ]
    },
    {
     "name": "stderr",
     "output_type": "stream",
     "text": [
      "Evaluating: 100%|██████████| 19/19 [00:11<00:00,  1.60it/s]\n",
      "2025-10-20 11:28:08,598 | INFO | [Art] Epoch 3/5 | Train - Loss: 0.1337, Cls: 0.1307, GRQO: 0.0030, Acc: 0.9681 | Val - Loss: 0.9057, Cls: 0.9051, GRQO: 0.0006, Acc: 0.7792\n"
     ]
    },
    {
     "name": "stdout",
     "output_type": "stream",
     "text": [
      "[Art] Epoch 3/5 | Train - Loss: 0.1337, Cls: 0.1307, GRQO: 0.0030, Acc: 0.9681 | Val - Loss: 0.9057, Cls: 0.9051, GRQO: 0.0006, Acc: 0.7792\n"
     ]
    },
    {
     "name": "stderr",
     "output_type": "stream",
     "text": [
      "Evaluating: 100%|██████████| 19/19 [00:11<00:00,  1.60it/s]\n",
      "2025-10-20 11:29:43,895 | INFO | [Art] Epoch 4/5 | Train - Loss: 0.0782, Cls: 0.0757, GRQO: 0.0025, Acc: 0.9807 | Val - Loss: 0.9547, Cls: 0.9542, GRQO: 0.0005, Acc: 0.7899\n",
      "2025-10-20 11:29:44,000 | INFO | [Art] New best val acc: 0.7899\n"
     ]
    },
    {
     "name": "stdout",
     "output_type": "stream",
     "text": [
      "[Art] Epoch 4/5 | Train - Loss: 0.0782, Cls: 0.0757, GRQO: 0.0025, Acc: 0.9807 | Val - Loss: 0.9547, Cls: 0.9542, GRQO: 0.0005, Acc: 0.7899\n",
      "[Art] New best val acc: 0.7899\n"
     ]
    },
    {
     "name": "stderr",
     "output_type": "stream",
     "text": [
      "Evaluating: 100%|██████████| 19/19 [00:12<00:00,  1.57it/s]\n",
      "2025-10-20 11:31:19,905 | INFO | [Art] Epoch 5/5 | Train - Loss: 0.0613, Cls: 0.0591, GRQO: 0.0021, Acc: 0.9839 | Val - Loss: 0.9571, Cls: 0.9567, GRQO: 0.0004, Acc: 0.7787\n",
      "2025-10-20 11:31:19,905 | INFO | [Art] Best Acc: 0.7899\n",
      "2025-10-20 11:31:19,906 | INFO | ------------------------------------------------------------\n"
     ]
    },
    {
     "name": "stdout",
     "output_type": "stream",
     "text": [
      "[Art] Epoch 5/5 | Train - Loss: 0.0613, Cls: 0.0591, GRQO: 0.0021, Acc: 0.9839 | Val - Loss: 0.9571, Cls: 0.9567, GRQO: 0.0004, Acc: 0.7787\n",
      "[Art] Best Acc: 0.7899\n",
      "------------------------------------------------------------\n"
     ]
    },
    {
     "name": "stderr",
     "output_type": "stream",
     "text": [
      "Some weights of ViTModel were not initialized from the model checkpoint at WinKawaks/vit-small-patch16-224 and are newly initialized: ['pooler.dense.bias', 'pooler.dense.weight']\n",
      "You should probably TRAIN this model on a down-stream task to be able to use it for predictions and inference.\n",
      "2025-10-20 11:31:20,969 | INFO | === LODO: Leaving out domain 'Clipart' ===\n"
     ]
    },
    {
     "name": "stdout",
     "output_type": "stream",
     "text": [
      "\n",
      "=== LODO: Leaving out domain 'Clipart' ===\n"
     ]
    },
    {
     "name": "stderr",
     "output_type": "stream",
     "text": [
      "Evaluating: 100%|██████████| 35/35 [00:11<00:00,  2.95it/s]\n",
      "2025-10-20 11:32:54,700 | INFO | [Clipart] Epoch 1/5 | Train - Loss: 1.6564, Cls: 1.6488, GRQO: 0.0076, Acc: 0.6961 | Val - Loss: 1.4100, Cls: 1.4082, GRQO: 0.0018, Acc: 0.6525\n",
      "2025-10-20 11:32:54,797 | INFO | [Clipart] New best val acc: 0.6525\n"
     ]
    },
    {
     "name": "stdout",
     "output_type": "stream",
     "text": [
      "[Clipart] Epoch 1/5 | Train - Loss: 1.6564, Cls: 1.6488, GRQO: 0.0076, Acc: 0.6961 | Val - Loss: 1.4100, Cls: 1.4082, GRQO: 0.0018, Acc: 0.6525\n",
      "[Clipart] New best val acc: 0.6525\n"
     ]
    },
    {
     "name": "stderr",
     "output_type": "stream",
     "text": [
      "Evaluating: 100%|██████████| 35/35 [00:11<00:00,  2.95it/s]\n",
      "2025-10-20 11:34:28,138 | INFO | [Clipart] Epoch 2/5 | Train - Loss: 0.2888, Cls: 0.2850, GRQO: 0.0038, Acc: 0.9336 | Val - Loss: 1.4032, Cls: 1.4021, GRQO: 0.0011, Acc: 0.6699\n",
      "2025-10-20 11:34:28,231 | INFO | [Clipart] New best val acc: 0.6699\n"
     ]
    },
    {
     "name": "stdout",
     "output_type": "stream",
     "text": [
      "[Clipart] Epoch 2/5 | Train - Loss: 0.2888, Cls: 0.2850, GRQO: 0.0038, Acc: 0.9336 | Val - Loss: 1.4032, Cls: 1.4021, GRQO: 0.0011, Acc: 0.6699\n",
      "[Clipart] New best val acc: 0.6699\n"
     ]
    },
    {
     "name": "stderr",
     "output_type": "stream",
     "text": [
      "Evaluating: 100%|██████████| 35/35 [00:11<00:00,  2.99it/s]\n",
      "2025-10-20 11:36:01,757 | INFO | [Clipart] Epoch 3/5 | Train - Loss: 0.1142, Cls: 0.1111, GRQO: 0.0031, Acc: 0.9749 | Val - Loss: 1.5769, Cls: 1.5762, GRQO: 0.0007, Acc: 0.6458\n"
     ]
    },
    {
     "name": "stdout",
     "output_type": "stream",
     "text": [
      "[Clipart] Epoch 3/5 | Train - Loss: 0.1142, Cls: 0.1111, GRQO: 0.0031, Acc: 0.9749 | Val - Loss: 1.5769, Cls: 1.5762, GRQO: 0.0007, Acc: 0.6458\n"
     ]
    },
    {
     "name": "stderr",
     "output_type": "stream",
     "text": [
      "Evaluating: 100%|██████████| 35/35 [00:25<00:00,  1.35it/s]\n",
      "2025-10-20 11:38:34,327 | INFO | [Clipart] Epoch 4/5 | Train - Loss: 0.0578, Cls: 0.0553, GRQO: 0.0026, Acc: 0.9880 | Val - Loss: 1.4985, Cls: 1.4979, GRQO: 0.0006, Acc: 0.6715\n",
      "2025-10-20 11:38:34,511 | INFO | [Clipart] New best val acc: 0.6715\n"
     ]
    },
    {
     "name": "stdout",
     "output_type": "stream",
     "text": [
      "[Clipart] Epoch 4/5 | Train - Loss: 0.0578, Cls: 0.0553, GRQO: 0.0026, Acc: 0.9880 | Val - Loss: 1.4985, Cls: 1.4979, GRQO: 0.0006, Acc: 0.6715\n",
      "[Clipart] New best val acc: 0.6715\n"
     ]
    },
    {
     "name": "stderr",
     "output_type": "stream",
     "text": [
      "Evaluating: 100%|██████████| 35/35 [00:28<00:00,  1.23it/s]\n",
      "2025-10-20 11:42:17,587 | INFO | [Clipart] Epoch 5/5 | Train - Loss: 0.0342, Cls: 0.0320, GRQO: 0.0022, Acc: 0.9937 | Val - Loss: 1.6181, Cls: 1.6177, GRQO: 0.0004, Acc: 0.6600\n",
      "2025-10-20 11:42:17,587 | INFO | [Clipart] Best Acc: 0.6715\n",
      "2025-10-20 11:42:17,604 | INFO | ------------------------------------------------------------\n"
     ]
    },
    {
     "name": "stdout",
     "output_type": "stream",
     "text": [
      "[Clipart] Epoch 5/5 | Train - Loss: 0.0342, Cls: 0.0320, GRQO: 0.0022, Acc: 0.9937 | Val - Loss: 1.6181, Cls: 1.6177, GRQO: 0.0004, Acc: 0.6600\n",
      "[Clipart] Best Acc: 0.6715\n",
      "------------------------------------------------------------\n"
     ]
    },
    {
     "name": "stderr",
     "output_type": "stream",
     "text": [
      "Some weights of ViTModel were not initialized from the model checkpoint at WinKawaks/vit-small-patch16-224 and are newly initialized: ['pooler.dense.bias', 'pooler.dense.weight']\n",
      "You should probably TRAIN this model on a down-stream task to be able to use it for predictions and inference.\n",
      "2025-10-20 11:42:23,510 | INFO | === LODO: Leaving out domain 'Product' ===\n"
     ]
    },
    {
     "name": "stdout",
     "output_type": "stream",
     "text": [
      "\n",
      "=== LODO: Leaving out domain 'Product' ===\n"
     ]
    },
    {
     "name": "stderr",
     "output_type": "stream",
     "text": [
      "Evaluating: 100%|██████████| 35/35 [00:25<00:00,  1.36it/s]\n",
      "2025-10-20 11:45:46,852 | INFO | [Product] Epoch 1/5 | Train - Loss: 1.8896, Cls: 1.8823, GRQO: 0.0074, Acc: 0.6384 | Val - Loss: 0.7025, Cls: 0.7013, GRQO: 0.0012, Acc: 0.8274\n"
     ]
    },
    {
     "name": "stdout",
     "output_type": "stream",
     "text": [
      "[Product] Epoch 1/5 | Train - Loss: 1.8896, Cls: 1.8823, GRQO: 0.0074, Acc: 0.6384 | Val - Loss: 0.7025, Cls: 0.7013, GRQO: 0.0012, Acc: 0.8274\n"
     ]
    },
    {
     "name": "stderr",
     "output_type": "stream",
     "text": [
      "2025-10-20 11:45:47,080 | INFO | [Product] New best val acc: 0.8274\n"
     ]
    },
    {
     "name": "stdout",
     "output_type": "stream",
     "text": [
      "[Product] New best val acc: 0.8274\n"
     ]
    },
    {
     "name": "stderr",
     "output_type": "stream",
     "text": [
      "Evaluating: 100%|██████████| 35/35 [00:28<00:00,  1.22it/s]\n",
      "2025-10-20 11:49:32,660 | INFO | [Product] Epoch 2/5 | Train - Loss: 0.4010, Cls: 0.3973, GRQO: 0.0037, Acc: 0.9012 | Val - Loss: 0.5639, Cls: 0.5632, GRQO: 0.0007, Acc: 0.8509\n"
     ]
    },
    {
     "name": "stdout",
     "output_type": "stream",
     "text": [
      "[Product] Epoch 2/5 | Train - Loss: 0.4010, Cls: 0.3973, GRQO: 0.0037, Acc: 0.9012 | Val - Loss: 0.5639, Cls: 0.5632, GRQO: 0.0007, Acc: 0.8509\n"
     ]
    },
    {
     "name": "stderr",
     "output_type": "stream",
     "text": [
      "2025-10-20 11:49:32,851 | INFO | [Product] New best val acc: 0.8509\n"
     ]
    },
    {
     "name": "stdout",
     "output_type": "stream",
     "text": [
      "[Product] New best val acc: 0.8509\n"
     ]
    },
    {
     "name": "stderr",
     "output_type": "stream",
     "text": [
      "Evaluating: 100%|██████████| 35/35 [00:18<00:00,  1.89it/s]\n",
      "2025-10-20 11:52:58,662 | INFO | [Product] Epoch 3/5 | Train - Loss: 0.1763, Cls: 0.1731, GRQO: 0.0031, Acc: 0.9568 | Val - Loss: 0.5153, Cls: 0.5148, GRQO: 0.0005, Acc: 0.8655\n",
      "2025-10-20 11:52:58,820 | INFO | [Product] New best val acc: 0.8655\n"
     ]
    },
    {
     "name": "stdout",
     "output_type": "stream",
     "text": [
      "[Product] Epoch 3/5 | Train - Loss: 0.1763, Cls: 0.1731, GRQO: 0.0031, Acc: 0.9568 | Val - Loss: 0.5153, Cls: 0.5148, GRQO: 0.0005, Acc: 0.8655\n",
      "[Product] New best val acc: 0.8655\n"
     ]
    },
    {
     "name": "stderr",
     "output_type": "stream",
     "text": [
      "Evaluating: 100%|██████████| 35/35 [00:17<00:00,  1.95it/s]\n",
      "2025-10-20 11:55:24,132 | INFO | [Product] Epoch 4/5 | Train - Loss: 0.1034, Cls: 0.1007, GRQO: 0.0027, Acc: 0.9755 | Val - Loss: 0.5647, Cls: 0.5643, GRQO: 0.0004, Acc: 0.8572\n"
     ]
    },
    {
     "name": "stdout",
     "output_type": "stream",
     "text": [
      "[Product] Epoch 4/5 | Train - Loss: 0.1034, Cls: 0.1007, GRQO: 0.0027, Acc: 0.9755 | Val - Loss: 0.5647, Cls: 0.5643, GRQO: 0.0004, Acc: 0.8572\n"
     ]
    },
    {
     "name": "stderr",
     "output_type": "stream",
     "text": [
      "Evaluating: 100%|██████████| 35/35 [00:18<00:00,  1.89it/s]\n",
      "2025-10-20 11:58:31,060 | INFO | [Product] Epoch 5/5 | Train - Loss: 0.0736, Cls: 0.0713, GRQO: 0.0023, Acc: 0.9819 | Val - Loss: 0.5587, Cls: 0.5584, GRQO: 0.0003, Acc: 0.8608\n",
      "2025-10-20 11:58:31,061 | INFO | [Product] Best Acc: 0.8655\n",
      "2025-10-20 11:58:31,061 | INFO | ------------------------------------------------------------\n"
     ]
    },
    {
     "name": "stdout",
     "output_type": "stream",
     "text": [
      "[Product] Epoch 5/5 | Train - Loss: 0.0736, Cls: 0.0713, GRQO: 0.0023, Acc: 0.9819 | Val - Loss: 0.5587, Cls: 0.5584, GRQO: 0.0003, Acc: 0.8608\n",
      "[Product] Best Acc: 0.8655\n",
      "------------------------------------------------------------\n"
     ]
    },
    {
     "name": "stderr",
     "output_type": "stream",
     "text": [
      "Some weights of ViTModel were not initialized from the model checkpoint at WinKawaks/vit-small-patch16-224 and are newly initialized: ['pooler.dense.bias', 'pooler.dense.weight']\n",
      "You should probably TRAIN this model on a down-stream task to be able to use it for predictions and inference.\n",
      "2025-10-20 11:58:32,393 | INFO | === LODO: Leaving out domain 'Real World' ===\n"
     ]
    },
    {
     "name": "stdout",
     "output_type": "stream",
     "text": [
      "\n",
      "=== LODO: Leaving out domain 'Real World' ===\n"
     ]
    },
    {
     "name": "stderr",
     "output_type": "stream",
     "text": [
      "Evaluating: 100%|██████████| 35/35 [01:32<00:00,  2.64s/it]\n",
      "2025-10-20 12:01:15,428 | INFO | [Real World] Epoch 1/5 | Train - Loss: 1.8730, Cls: 1.8665, GRQO: 0.0066, Acc: 0.6350 | Val - Loss: 0.6003, Cls: 0.5990, GRQO: 0.0013, Acc: 0.8497\n",
      "2025-10-20 12:01:15,570 | INFO | [Real World] New best val acc: 0.8497\n"
     ]
    },
    {
     "name": "stdout",
     "output_type": "stream",
     "text": [
      "[Real World] Epoch 1/5 | Train - Loss: 1.8730, Cls: 1.8665, GRQO: 0.0066, Acc: 0.6350 | Val - Loss: 0.6003, Cls: 0.5990, GRQO: 0.0013, Acc: 0.8497\n",
      "[Real World] New best val acc: 0.8497\n"
     ]
    },
    {
     "name": "stderr",
     "output_type": "stream",
     "text": [
      "Evaluating: 100%|██████████| 35/35 [01:59<00:00,  3.42s/it]\n",
      "2025-10-20 12:04:58,443 | INFO | [Real World] Epoch 2/5 | Train - Loss: 0.3823, Cls: 0.3786, GRQO: 0.0037, Acc: 0.9111 | Val - Loss: 0.4644, Cls: 0.4636, GRQO: 0.0007, Acc: 0.8781\n"
     ]
    },
    {
     "name": "stdout",
     "output_type": "stream",
     "text": [
      "[Real World] Epoch 2/5 | Train - Loss: 0.3823, Cls: 0.3786, GRQO: 0.0037, Acc: 0.9111 | Val - Loss: 0.4644, Cls: 0.4636, GRQO: 0.0007, Acc: 0.8781\n"
     ]
    },
    {
     "name": "stderr",
     "output_type": "stream",
     "text": [
      "2025-10-20 12:04:58,671 | INFO | [Real World] New best val acc: 0.8781\n"
     ]
    },
    {
     "name": "stdout",
     "output_type": "stream",
     "text": [
      "[Real World] New best val acc: 0.8781\n"
     ]
    },
    {
     "name": "stderr",
     "output_type": "stream",
     "text": [
      "Evaluating: 100%|██████████| 35/35 [01:51<00:00,  3.18s/it]\n",
      "2025-10-20 12:08:36,209 | INFO | [Real World] Epoch 3/5 | Train - Loss: 0.1660, Cls: 0.1628, GRQO: 0.0032, Acc: 0.9592 | Val - Loss: 0.4665, Cls: 0.4660, GRQO: 0.0005, Acc: 0.8747\n"
     ]
    },
    {
     "name": "stdout",
     "output_type": "stream",
     "text": [
      "[Real World] Epoch 3/5 | Train - Loss: 0.1660, Cls: 0.1628, GRQO: 0.0032, Acc: 0.9592 | Val - Loss: 0.4665, Cls: 0.4660, GRQO: 0.0005, Acc: 0.8747\n"
     ]
    },
    {
     "name": "stderr",
     "output_type": "stream",
     "text": [
      "Evaluating: 100%|██████████| 35/35 [01:54<00:00,  3.27s/it]\n",
      "2025-10-20 12:12:12,323 | INFO | [Real World] Epoch 4/5 | Train - Loss: 0.0934, Cls: 0.0907, GRQO: 0.0027, Acc: 0.9788 | Val - Loss: 0.4448, Cls: 0.4444, GRQO: 0.0004, Acc: 0.8820\n"
     ]
    },
    {
     "name": "stdout",
     "output_type": "stream",
     "text": [
      "[Real World] Epoch 4/5 | Train - Loss: 0.0934, Cls: 0.0907, GRQO: 0.0027, Acc: 0.9788 | Val - Loss: 0.4448, Cls: 0.4444, GRQO: 0.0004, Acc: 0.8820\n"
     ]
    },
    {
     "name": "stderr",
     "output_type": "stream",
     "text": [
      "2025-10-20 12:12:12,515 | INFO | [Real World] New best val acc: 0.8820\n"
     ]
    },
    {
     "name": "stdout",
     "output_type": "stream",
     "text": [
      "[Real World] New best val acc: 0.8820\n"
     ]
    },
    {
     "name": "stderr",
     "output_type": "stream",
     "text": [
      "Evaluating: 100%|██████████| 35/35 [01:55<00:00,  3.29s/it]\n",
      "2025-10-20 12:16:00,439 | INFO | [Real World] Epoch 5/5 | Train - Loss: 0.0649, Cls: 0.0625, GRQO: 0.0024, Acc: 0.9842 | Val - Loss: 0.4783, Cls: 0.4780, GRQO: 0.0003, Acc: 0.8809\n",
      "2025-10-20 12:16:00,439 | INFO | [Real World] Best Acc: 0.8820\n",
      "2025-10-20 12:16:00,439 | INFO | ------------------------------------------------------------\n",
      "2025-10-20 12:16:00,455 | INFO | LODO finished | Mean Acc: 0.8022 | Summary saved to c:\\Users\\Fatim_Sproj\\Desktop\\Fatim\\Spring 2025\\sproj\\Visual-Reasoning\\Vit-GRQO\\vit-small\\OfficeHome\\logs\\lodo_summary_20251020_121600.json\n"
     ]
    },
    {
     "name": "stdout",
     "output_type": "stream",
     "text": [
      "[Real World] Epoch 5/5 | Train - Loss: 0.0649, Cls: 0.0625, GRQO: 0.0024, Acc: 0.9842 | Val - Loss: 0.4783, Cls: 0.4780, GRQO: 0.0003, Acc: 0.8809\n",
      "[Real World] Best Acc: 0.8820\n",
      "------------------------------------------------------------\n",
      "LODO finished | Mean Acc: 0.8022\n",
      "Summary saved to c:\\Users\\Fatim_Sproj\\Desktop\\Fatim\\Spring 2025\\sproj\\Visual-Reasoning\\Vit-GRQO\\vit-small\\OfficeHome\\logs\\lodo_summary_20251020_121600.json\n"
     ]
    }
   ],
   "source": [
    "lodo_results, lodo_mean, lodo_summary = run_lodo(\n",
    "    model_fn=model_factory,\n",
    "    CFG=CFG,\n",
    "    logger=logger,\n",
    "    dataset_key=DS,\n",
    "    domains=domains,\n",
    "    loaders=loaders,\n",
    "    optimizer_fn=optimizer_fn,\n",
    "    device=device,\n",
    "    ckpt_root=ckpt_root,\n",
    "    log_dir=log_dir,\n",
    "    epochs=epochs\n",
    ")"
   ]
  },
  {
   "cell_type": "markdown",
   "id": "008d21ac",
   "metadata": {},
   "source": [
    "### Baseline"
   ]
  },
  {
   "cell_type": "code",
   "execution_count": 7,
   "id": "060b18a4",
   "metadata": {},
   "outputs": [
    {
     "name": "stderr",
     "output_type": "stream",
     "text": [
      "2025-10-20 12:16:00,478 | INFO | Initializing ViT baseline: WinKawaks/vit-small-patch16-224\n"
     ]
    },
    {
     "name": "stdout",
     "output_type": "stream",
     "text": [
      "Initializing ViT baseline: WinKawaks/vit-small-patch16-224\n"
     ]
    },
    {
     "name": "stderr",
     "output_type": "stream",
     "text": [
      "Some weights of ViTForImageClassification were not initialized from the model checkpoint at WinKawaks/vit-small-patch16-224 and are newly initialized because the shapes did not match:\n",
      "- classifier.bias: found shape torch.Size([1000]) in the checkpoint and torch.Size([65]) in the model instantiated\n",
      "- classifier.weight: found shape torch.Size([1000, 384]) in the checkpoint and torch.Size([65, 384]) in the model instantiated\n",
      "You should probably TRAIN this model on a down-stream task to be able to use it for predictions and inference.\n",
      "2025-10-20 12:16:02,353 | INFO | === Baseline LODO: Leaving out domain 'Art' ===\n"
     ]
    },
    {
     "name": "stdout",
     "output_type": "stream",
     "text": [
      "\n",
      "=== Baseline LODO: Leaving out domain 'Art' ===\n"
     ]
    },
    {
     "name": "stderr",
     "output_type": "stream",
     "text": [
      "2025-10-20 12:19:38,010 | INFO | [Art] Epoch 1/5 | Train - Loss: 1.1126, Acc: 0.7525 | Val Acc: 0.7750\n"
     ]
    },
    {
     "name": "stdout",
     "output_type": "stream",
     "text": [
      "[Art] Epoch 1/5 | Train - Loss: 1.1126, Acc: 0.7525 | Val Acc: 0.7750\n"
     ]
    },
    {
     "name": "stderr",
     "output_type": "stream",
     "text": [
      "2025-10-20 12:23:08,413 | INFO | [Art] Epoch 2/5 | Train - Loss: 0.1980, Acc: 0.9508 | Val Acc: 0.7721\n"
     ]
    },
    {
     "name": "stdout",
     "output_type": "stream",
     "text": [
      "[Art] Epoch 2/5 | Train - Loss: 0.1980, Acc: 0.9508 | Val Acc: 0.7721\n"
     ]
    },
    {
     "name": "stderr",
     "output_type": "stream",
     "text": [
      "2025-10-20 12:26:21,678 | INFO | [Art] Epoch 3/5 | Train - Loss: 0.0856, Acc: 0.9787 | Val Acc: 0.7676\n"
     ]
    },
    {
     "name": "stdout",
     "output_type": "stream",
     "text": [
      "[Art] Epoch 3/5 | Train - Loss: 0.0856, Acc: 0.9787 | Val Acc: 0.7676\n"
     ]
    },
    {
     "name": "stderr",
     "output_type": "stream",
     "text": [
      "2025-10-20 12:29:45,741 | INFO | [Art] Epoch 4/5 | Train - Loss: 0.0525, Acc: 0.9866 | Val Acc: 0.7857\n"
     ]
    },
    {
     "name": "stdout",
     "output_type": "stream",
     "text": [
      "[Art] Epoch 4/5 | Train - Loss: 0.0525, Acc: 0.9866 | Val Acc: 0.7857\n"
     ]
    },
    {
     "name": "stderr",
     "output_type": "stream",
     "text": [
      "2025-10-20 12:32:26,387 | INFO | [Art] Epoch 5/5 | Train - Loss: 0.0410, Acc: 0.9882 | Val Acc: 0.7689\n",
      "2025-10-20 12:32:26,387 | INFO | [Art] Best Val Acc: 0.7857\n",
      "2025-10-20 12:32:26,387 | INFO | ------------------------------------------------------------\n",
      "2025-10-20 12:32:26,387 | INFO | Initializing ViT baseline: WinKawaks/vit-small-patch16-224\n"
     ]
    },
    {
     "name": "stdout",
     "output_type": "stream",
     "text": [
      "[Art] Epoch 5/5 | Train - Loss: 0.0410, Acc: 0.9882 | Val Acc: 0.7689\n",
      "[Art] Best Val Acc: 0.7857\n",
      "------------------------------------------------------------\n",
      "Initializing ViT baseline: WinKawaks/vit-small-patch16-224\n"
     ]
    },
    {
     "name": "stderr",
     "output_type": "stream",
     "text": [
      "Some weights of ViTForImageClassification were not initialized from the model checkpoint at WinKawaks/vit-small-patch16-224 and are newly initialized because the shapes did not match:\n",
      "- classifier.bias: found shape torch.Size([1000]) in the checkpoint and torch.Size([65]) in the model instantiated\n",
      "- classifier.weight: found shape torch.Size([1000, 384]) in the checkpoint and torch.Size([65, 384]) in the model instantiated\n",
      "You should probably TRAIN this model on a down-stream task to be able to use it for predictions and inference.\n",
      "2025-10-20 12:32:27,323 | INFO | === Baseline LODO: Leaving out domain 'Clipart' ===\n"
     ]
    },
    {
     "name": "stdout",
     "output_type": "stream",
     "text": [
      "\n",
      "=== Baseline LODO: Leaving out domain 'Clipart' ===\n"
     ]
    },
    {
     "name": "stderr",
     "output_type": "stream",
     "text": [
      "2025-10-20 12:35:31,821 | INFO | [Clipart] Epoch 1/5 | Train - Loss: 1.1936, Acc: 0.7365 | Val Acc: 0.6513\n"
     ]
    },
    {
     "name": "stdout",
     "output_type": "stream",
     "text": [
      "[Clipart] Epoch 1/5 | Train - Loss: 1.1936, Acc: 0.7365 | Val Acc: 0.6513\n"
     ]
    },
    {
     "name": "stderr",
     "output_type": "stream",
     "text": [
      "2025-10-20 12:38:37,648 | INFO | [Clipart] Epoch 2/5 | Train - Loss: 0.1737, Acc: 0.9579 | Val Acc: 0.6424\n"
     ]
    },
    {
     "name": "stdout",
     "output_type": "stream",
     "text": [
      "[Clipart] Epoch 2/5 | Train - Loss: 0.1737, Acc: 0.9579 | Val Acc: 0.6424\n"
     ]
    },
    {
     "name": "stderr",
     "output_type": "stream",
     "text": [
      "2025-10-20 12:40:13,249 | INFO | [Clipart] Epoch 3/5 | Train - Loss: 0.0632, Acc: 0.9853 | Val Acc: 0.6671\n"
     ]
    },
    {
     "name": "stdout",
     "output_type": "stream",
     "text": [
      "[Clipart] Epoch 3/5 | Train - Loss: 0.0632, Acc: 0.9853 | Val Acc: 0.6671\n"
     ]
    },
    {
     "name": "stderr",
     "output_type": "stream",
     "text": [
      "2025-10-20 12:41:43,900 | INFO | [Clipart] Epoch 4/5 | Train - Loss: 0.0338, Acc: 0.9928 | Val Acc: 0.6603\n"
     ]
    },
    {
     "name": "stdout",
     "output_type": "stream",
     "text": [
      "[Clipart] Epoch 4/5 | Train - Loss: 0.0338, Acc: 0.9928 | Val Acc: 0.6603\n"
     ]
    },
    {
     "name": "stderr",
     "output_type": "stream",
     "text": [
      "2025-10-20 12:43:13,479 | INFO | [Clipart] Epoch 5/5 | Train - Loss: 0.0224, Acc: 0.9947 | Val Acc: 0.6635\n",
      "2025-10-20 12:43:13,480 | INFO | [Clipart] Best Val Acc: 0.6671\n",
      "2025-10-20 12:43:13,480 | INFO | ------------------------------------------------------------\n",
      "2025-10-20 12:43:13,481 | INFO | Initializing ViT baseline: WinKawaks/vit-small-patch16-224\n"
     ]
    },
    {
     "name": "stdout",
     "output_type": "stream",
     "text": [
      "[Clipart] Epoch 5/5 | Train - Loss: 0.0224, Acc: 0.9947 | Val Acc: 0.6635\n",
      "[Clipart] Best Val Acc: 0.6671\n",
      "------------------------------------------------------------\n",
      "Initializing ViT baseline: WinKawaks/vit-small-patch16-224\n"
     ]
    },
    {
     "name": "stderr",
     "output_type": "stream",
     "text": [
      "Some weights of ViTForImageClassification were not initialized from the model checkpoint at WinKawaks/vit-small-patch16-224 and are newly initialized because the shapes did not match:\n",
      "- classifier.bias: found shape torch.Size([1000]) in the checkpoint and torch.Size([65]) in the model instantiated\n",
      "- classifier.weight: found shape torch.Size([1000, 384]) in the checkpoint and torch.Size([65, 384]) in the model instantiated\n",
      "You should probably TRAIN this model on a down-stream task to be able to use it for predictions and inference.\n",
      "2025-10-20 12:43:15,505 | INFO | === Baseline LODO: Leaving out domain 'Product' ===\n"
     ]
    },
    {
     "name": "stdout",
     "output_type": "stream",
     "text": [
      "\n",
      "=== Baseline LODO: Leaving out domain 'Product' ===\n"
     ]
    },
    {
     "name": "stderr",
     "output_type": "stream",
     "text": [
      "2025-10-20 12:44:44,751 | INFO | [Product] Epoch 1/5 | Train - Loss: 1.3884, Acc: 0.6862 | Val Acc: 0.8414\n"
     ]
    },
    {
     "name": "stdout",
     "output_type": "stream",
     "text": [
      "[Product] Epoch 1/5 | Train - Loss: 1.3884, Acc: 0.6862 | Val Acc: 0.8414\n"
     ]
    },
    {
     "name": "stderr",
     "output_type": "stream",
     "text": [
      "2025-10-20 12:46:14,172 | INFO | [Product] Epoch 2/5 | Train - Loss: 0.2626, Acc: 0.9314 | Val Acc: 0.8579\n"
     ]
    },
    {
     "name": "stdout",
     "output_type": "stream",
     "text": [
      "[Product] Epoch 2/5 | Train - Loss: 0.2626, Acc: 0.9314 | Val Acc: 0.8579\n"
     ]
    },
    {
     "name": "stderr",
     "output_type": "stream",
     "text": [
      "2025-10-20 12:47:43,537 | INFO | [Product] Epoch 3/5 | Train - Loss: 0.1135, Acc: 0.9711 | Val Acc: 0.8628\n"
     ]
    },
    {
     "name": "stdout",
     "output_type": "stream",
     "text": [
      "[Product] Epoch 3/5 | Train - Loss: 0.1135, Acc: 0.9711 | Val Acc: 0.8628\n"
     ]
    },
    {
     "name": "stderr",
     "output_type": "stream",
     "text": [
      "2025-10-20 12:49:13,139 | INFO | [Product] Epoch 4/5 | Train - Loss: 0.0659, Acc: 0.9831 | Val Acc: 0.8590\n"
     ]
    },
    {
     "name": "stdout",
     "output_type": "stream",
     "text": [
      "[Product] Epoch 4/5 | Train - Loss: 0.0659, Acc: 0.9831 | Val Acc: 0.8590\n"
     ]
    },
    {
     "name": "stderr",
     "output_type": "stream",
     "text": [
      "2025-10-20 12:50:43,470 | INFO | [Product] Epoch 5/5 | Train - Loss: 0.0491, Acc: 0.9860 | Val Acc: 0.8533\n",
      "2025-10-20 12:50:43,470 | INFO | [Product] Best Val Acc: 0.8628\n",
      "2025-10-20 12:50:43,470 | INFO | ------------------------------------------------------------\n",
      "2025-10-20 12:50:43,470 | INFO | Initializing ViT baseline: WinKawaks/vit-small-patch16-224\n"
     ]
    },
    {
     "name": "stdout",
     "output_type": "stream",
     "text": [
      "[Product] Epoch 5/5 | Train - Loss: 0.0491, Acc: 0.9860 | Val Acc: 0.8533\n",
      "[Product] Best Val Acc: 0.8628\n",
      "------------------------------------------------------------\n",
      "Initializing ViT baseline: WinKawaks/vit-small-patch16-224\n"
     ]
    },
    {
     "name": "stderr",
     "output_type": "stream",
     "text": [
      "Some weights of ViTForImageClassification were not initialized from the model checkpoint at WinKawaks/vit-small-patch16-224 and are newly initialized because the shapes did not match:\n",
      "- classifier.bias: found shape torch.Size([1000]) in the checkpoint and torch.Size([65]) in the model instantiated\n",
      "- classifier.weight: found shape torch.Size([1000, 384]) in the checkpoint and torch.Size([65, 384]) in the model instantiated\n",
      "You should probably TRAIN this model on a down-stream task to be able to use it for predictions and inference.\n",
      "2025-10-20 12:50:44,437 | INFO | === Baseline LODO: Leaving out domain 'Real World' ===\n"
     ]
    },
    {
     "name": "stdout",
     "output_type": "stream",
     "text": [
      "\n",
      "=== Baseline LODO: Leaving out domain 'Real World' ===\n"
     ]
    },
    {
     "name": "stderr",
     "output_type": "stream",
     "text": [
      "2025-10-20 12:53:35,960 | INFO | [Real World] Epoch 1/5 | Train - Loss: 1.3600, Acc: 0.6958 | Val Acc: 0.8515\n"
     ]
    },
    {
     "name": "stdout",
     "output_type": "stream",
     "text": [
      "[Real World] Epoch 1/5 | Train - Loss: 1.3600, Acc: 0.6958 | Val Acc: 0.8515\n"
     ]
    },
    {
     "name": "stderr",
     "output_type": "stream",
     "text": [
      "2025-10-20 12:56:33,176 | INFO | [Real World] Epoch 2/5 | Train - Loss: 0.2399, Acc: 0.9420 | Val Acc: 0.8740\n"
     ]
    },
    {
     "name": "stdout",
     "output_type": "stream",
     "text": [
      "[Real World] Epoch 2/5 | Train - Loss: 0.2399, Acc: 0.9420 | Val Acc: 0.8740\n"
     ]
    },
    {
     "name": "stderr",
     "output_type": "stream",
     "text": [
      "2025-10-20 12:59:51,023 | INFO | [Real World] Epoch 3/5 | Train - Loss: 0.1017, Acc: 0.9753 | Val Acc: 0.8768\n"
     ]
    },
    {
     "name": "stdout",
     "output_type": "stream",
     "text": [
      "[Real World] Epoch 3/5 | Train - Loss: 0.1017, Acc: 0.9753 | Val Acc: 0.8768\n"
     ]
    },
    {
     "name": "stderr",
     "output_type": "stream",
     "text": [
      "2025-10-20 13:03:12,592 | INFO | [Real World] Epoch 4/5 | Train - Loss: 0.0576, Acc: 0.9862 | Val Acc: 0.8816\n"
     ]
    },
    {
     "name": "stdout",
     "output_type": "stream",
     "text": [
      "[Real World] Epoch 4/5 | Train - Loss: 0.0576, Acc: 0.9862 | Val Acc: 0.8816\n"
     ]
    },
    {
     "name": "stderr",
     "output_type": "stream",
     "text": [
      "2025-10-20 13:06:18,068 | INFO | [Real World] Epoch 5/5 | Train - Loss: 0.0437, Acc: 0.9881 | Val Acc: 0.8772\n",
      "2025-10-20 13:06:18,068 | INFO | [Real World] Best Val Acc: 0.8816\n",
      "2025-10-20 13:06:18,068 | INFO | ------------------------------------------------------------\n",
      "2025-10-20 13:06:18,068 | INFO | Baseline LODO (WinKawaks/vit-small-patch16-224) finished | Mean Acc: 0.7993\n"
     ]
    },
    {
     "name": "stdout",
     "output_type": "stream",
     "text": [
      "[Real World] Epoch 5/5 | Train - Loss: 0.0437, Acc: 0.9881 | Val Acc: 0.8772\n",
      "[Real World] Best Val Acc: 0.8816\n",
      "------------------------------------------------------------\n",
      "Baseline LODO (WinKawaks/vit-small-patch16-224) finished | Mean Acc: 0.7993\n"
     ]
    }
   ],
   "source": [
    "baseline_results, baseline_mean = run_baseline(\n",
    "    model_name=MODEL_NAME,\n",
    "    CFG=CFG,\n",
    "    logger=logger,\n",
    "    dataset_key=DS,\n",
    "    domains=domains,\n",
    "    loaders=loaders,\n",
    "    optimizer_fn=optimizer_fn,\n",
    "    device=device,\n",
    "    epochs=CFG[\"train\"][\"epochs\"]\n",
    ")\n"
   ]
  }
 ],
 "metadata": {
  "kernelspec": {
   "display_name": "bacp",
   "language": "python",
   "name": "python3"
  },
  "language_info": {
   "codemirror_mode": {
    "name": "ipython",
    "version": 3
   },
   "file_extension": ".py",
   "mimetype": "text/x-python",
   "name": "python",
   "nbconvert_exporter": "python",
   "pygments_lexer": "ipython3",
   "version": "3.10.16"
  }
 },
 "nbformat": 4,
 "nbformat_minor": 5
}
