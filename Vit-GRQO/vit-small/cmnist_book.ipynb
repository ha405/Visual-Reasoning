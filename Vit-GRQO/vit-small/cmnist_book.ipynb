{
 "cells": [
  {
   "cell_type": "markdown",
   "id": "7aeb725f",
   "metadata": {},
   "source": [
    "### Imports"
   ]
  },
  {
   "cell_type": "code",
   "execution_count": 1,
   "id": "e407742a",
   "metadata": {},
   "outputs": [
    {
     "name": "stderr",
     "output_type": "stream",
     "text": [
      "c:\\Users\\Fatim_Sproj\\anaconda3\\envs\\bacp\\lib\\site-packages\\torch\\cuda\\__init__.py:61: FutureWarning: The pynvml package is deprecated. Please install nvidia-ml-py instead. If you did not install pynvml directly, please report this to the maintainers of the package that installed pynvml for you.\n",
      "  import pynvml  # type: ignore[import]\n"
     ]
    },
    {
     "name": "stdout",
     "output_type": "stream",
     "text": [
      "Device: cuda\n",
      "PyTorch: 2.5.1+cu121\n"
     ]
    }
   ],
   "source": [
    "import sys\n",
    "sys.dont_write_bytecode = True\n",
    "\n",
    "\n",
    "import torch\n",
    "import numpy as np\n",
    "import random\n",
    "import os\n",
    "\n",
    "def set_seeds(seed_value=42):\n",
    "    \"\"\"Sets seeds for reproducibility.\"\"\"\n",
    "    random.seed(seed_value)\n",
    "    np.random.seed(seed_value)\n",
    "    torch.manual_seed(seed_value)\n",
    "    os.environ['PYTHONHASHSEED'] = str(seed_value)\n",
    "    \n",
    "    if torch.cuda.is_available():\n",
    "        torch.cuda.manual_seed(seed_value)\n",
    "\n",
    "set_seeds(42) \n",
    "\n",
    "import json\n",
    "import torch.nn as nn\n",
    "import torch.optim as optim\n",
    "from tqdm import tqdm\n",
    "import warnings\n",
    "import logging\n",
    "from datetime import datetime\n",
    "warnings.filterwarnings('ignore')\n",
    "\n",
    "from model import get_model\n",
    "from config import CFG\n",
    "from dataset import get_dataset_class\n",
    "# from plot import plot_domainwise_accuracy\n",
    "from transform import get_transforms\n",
    "from runner import run_baseline, run_lodo\n",
    "\n",
    "torch.manual_seed(CFG[\"system\"][\"seed\"])\n",
    "np.random.seed(CFG[\"system\"][\"seed\"])\n",
    "\n",
    "device = CFG[\"system\"][\"device\"]\n",
    "print(f\"Device: {device}\")\n",
    "print(f\"PyTorch: {torch.__version__}\")\n",
    "\n",
    "DS = \"CMNIST\"\n",
    "MODEL_NAME = \"WinKawaks/vit-small-patch16-224\""
   ]
  },
  {
   "cell_type": "markdown",
   "id": "d617af05",
   "metadata": {},
   "source": [
    "### DataLoading"
   ]
  },
  {
   "cell_type": "code",
   "execution_count": 2,
   "id": "3e673c0a",
   "metadata": {},
   "outputs": [
    {
     "name": "stdout",
     "output_type": "stream",
     "text": [
      "\n",
      "Data loaders ready!\n"
     ]
    }
   ],
   "source": [
    "train_transform, test_transform = get_transforms(img_size=224, augment=False, use_imagenet_norm=False)\n",
    "\n",
    "DatasetClass = get_dataset_class(DS)\n",
    "\n",
    "ld = DatasetClass(\n",
    "    data_root=CFG[\"datasets\"][DS][\"root\"],\n",
    "    transform=train_transform,\n",
    "    batch_size=CFG[\"train\"][\"batch_size\"]\n",
    ")\n",
    "\n",
    "print(\"\\nData loaders ready!\")"
   ]
  },
  {
   "cell_type": "markdown",
   "id": "e5a3d318",
   "metadata": {},
   "source": [
    "### Logging"
   ]
  },
  {
   "cell_type": "code",
   "execution_count": 3,
   "id": "f01fd7aa",
   "metadata": {},
   "outputs": [
    {
     "name": "stderr",
     "output_type": "stream",
     "text": [
      "2025-10-21 07:04:16,066 | INFO | Initialized experiment directories for CMNIST\n",
      "2025-10-21 07:04:16,066 | INFO | Logs: c:\\Users\\Fatim_Sproj\\Desktop\\Fatim\\Spring 2025\\sproj\\Visual-Reasoning\\Vit-GRQO\\vit-small\\CMNIST\\logs\n",
      "2025-10-21 07:04:16,066 | INFO | Checkpoints: c:\\Users\\Fatim_Sproj\\Desktop\\Fatim\\Spring 2025\\sproj\\Visual-Reasoning\\Vit-GRQO\\vit-small\\CMNIST\\checkpoints\n",
      "2025-10-21 07:04:16,066 | INFO | Plots: c:\\Users\\Fatim_Sproj\\Desktop\\Fatim\\Spring 2025\\sproj\\Visual-Reasoning\\Vit-GRQO\\vit-small\\CMNIST\\plots\n"
     ]
    }
   ],
   "source": [
    "dataset_name = DS\n",
    "base_dir = os.path.join(os.getcwd(), dataset_name)\n",
    "subdirs = [\"logs\", \"checkpoints\", \"plots\"]\n",
    "\n",
    "for sub in subdirs:\n",
    "    os.makedirs(os.path.join(base_dir, sub), exist_ok=True)\n",
    "\n",
    "timestamp = datetime.now().strftime(\"%Y-%m-%d_%H-%M-%S\")\n",
    "log_file = os.path.join(base_dir, \"logs\", f\"train_{timestamp}.log\")\n",
    "\n",
    "logging.basicConfig(\n",
    "    level=logging.INFO,\n",
    "    format=\"%(asctime)s | %(levelname)s | %(message)s\",\n",
    "    handlers=[\n",
    "        logging.FileHandler(log_file),\n",
    "        logging.StreamHandler()\n",
    "    ]\n",
    ")\n",
    "\n",
    "logger = logging.getLogger(f\"{dataset_name}_logger\")\n",
    "\n",
    "logger.info(f\"Initialized experiment directories for {dataset_name}\")\n",
    "logger.info(f\"Logs: {os.path.join(base_dir, 'logs')}\")\n",
    "logger.info(f\"Checkpoints: {os.path.join(base_dir, 'checkpoints')}\")\n",
    "logger.info(f\"Plots: {os.path.join(base_dir, 'plots')}\")"
   ]
  },
  {
   "cell_type": "markdown",
   "id": "47398d2c",
   "metadata": {},
   "source": [
    "### Setup"
   ]
  },
  {
   "cell_type": "code",
   "execution_count": 4,
   "id": "450d7f06",
   "metadata": {},
   "outputs": [],
   "source": [
    "domains = CFG[\"datasets\"][DS][\"domains\"]\n",
    "loaders = {d: {\"train\": ld.get_dataloader(d, train=True), \"val\": ld.get_dataloader(d, train=False)} for d in domains}\n",
    "ckpt_root = os.path.join(base_dir, \"checkpoints\")\n",
    "log_dir = os.path.join(base_dir, \"logs\")\n",
    "plots_dir = os.path.join(base_dir, \"plots\")\n",
    "os.makedirs(ckpt_root, exist_ok=True)\n",
    "os.makedirs(log_dir, exist_ok=True)\n",
    "os.makedirs(plots_dir, exist_ok=True)\n",
    "model_factory = lambda cfg, dataset_key: get_model(cfg,dataset=DS)\n",
    "optimizer_fn = lambda model: optim.AdamW(model.parameters(), lr=CFG[\"train\"][\"lr\"], weight_decay=CFG[\"train\"].get(\"weight_decay\", 0.01))\n",
    "device = CFG[\"system\"][\"device\"]\n",
    "epochs = CFG[\"train\"][\"epochs\"]\n"
   ]
  },
  {
   "cell_type": "markdown",
   "id": "2d8dafe9",
   "metadata": {},
   "source": [
    "{\n",
    "  \"lodo_results\": {\n",
    "    \"art_painting\": 0.8341463414634146,\n",
    "    \"cartoon\": 0.7974413646055437,\n",
    "    \"photo\": 0.9580838323353293,\n",
    "    \"sketch\": 0.6017811704834606\n",
    "  },\n",
    "  \"timestamp\": \"20251004_020611\"\n",
    "}"
   ]
  },
  {
   "cell_type": "markdown",
   "id": "4931c868",
   "metadata": {},
   "source": [
    "### Leave One Domain Out"
   ]
  },
  {
   "cell_type": "code",
   "execution_count": 5,
   "id": "c0344437",
   "metadata": {},
   "outputs": [
    {
     "name": "stderr",
     "output_type": "stream",
     "text": [
      "Some weights of ViTModel were not initialized from the model checkpoint at WinKawaks/vit-small-patch16-224 and are newly initialized: ['pooler.dense.bias', 'pooler.dense.weight']\n",
      "You should probably TRAIN this model on a down-stream task to be able to use it for predictions and inference.\n",
      "2025-10-21 04:26:19,559 | INFO | === LODO: Leaving out domain 'red' ===\n"
     ]
    },
    {
     "name": "stdout",
     "output_type": "stream",
     "text": [
      "\n",
      "=== LODO: Leaving out domain 'red' ===\n"
     ]
    },
    {
     "name": "stderr",
     "output_type": "stream",
     "text": [
      "Evaluating: 100%|██████████| 50/50 [00:12<00:00,  3.93it/s]\n",
      "2025-10-21 04:27:05,566 | INFO | [red] Epoch 1/5 | Train - Loss: 0.5243, Cls: 0.5187, GRQO: 0.0056, Acc: 0.8336 | Val - Loss: 0.1043, Cls: 0.1039, GRQO: 0.0004, Acc: 0.9704\n",
      "2025-10-21 04:27:05,756 | INFO | [red] New best val acc: 0.9704\n"
     ]
    },
    {
     "name": "stdout",
     "output_type": "stream",
     "text": [
      "[red] Epoch 1/5 | Train - Loss: 0.5243, Cls: 0.5187, GRQO: 0.0056, Acc: 0.8336 | Val - Loss: 0.1043, Cls: 0.1039, GRQO: 0.0004, Acc: 0.9704\n",
      "[red] New best val acc: 0.9704\n"
     ]
    },
    {
     "name": "stderr",
     "output_type": "stream",
     "text": [
      "Evaluating: 100%|██████████| 50/50 [00:12<00:00,  4.17it/s]\n",
      "2025-10-21 04:28:08,633 | INFO | [red] Epoch 2/5 | Train - Loss: 0.0648, Cls: 0.0624, GRQO: 0.0024, Acc: 0.9812 | Val - Loss: 0.0766, Cls: 0.0764, GRQO: 0.0002, Acc: 0.9762\n",
      "2025-10-21 04:28:08,828 | INFO | [red] New best val acc: 0.9762\n"
     ]
    },
    {
     "name": "stdout",
     "output_type": "stream",
     "text": [
      "[red] Epoch 2/5 | Train - Loss: 0.0648, Cls: 0.0624, GRQO: 0.0024, Acc: 0.9812 | Val - Loss: 0.0766, Cls: 0.0764, GRQO: 0.0002, Acc: 0.9762\n",
      "[red] New best val acc: 0.9762\n"
     ]
    },
    {
     "name": "stderr",
     "output_type": "stream",
     "text": [
      "Evaluating: 100%|██████████| 50/50 [00:12<00:00,  4.08it/s]\n",
      "2025-10-21 04:29:11,409 | INFO | [red] Epoch 3/5 | Train - Loss: 0.0363, Cls: 0.0343, GRQO: 0.0019, Acc: 0.9896 | Val - Loss: 0.0682, Cls: 0.0681, GRQO: 0.0001, Acc: 0.9809\n"
     ]
    },
    {
     "name": "stdout",
     "output_type": "stream",
     "text": [
      "[red] Epoch 3/5 | Train - Loss: 0.0363, Cls: 0.0343, GRQO: 0.0019, Acc: 0.9896 | Val - Loss: 0.0682, Cls: 0.0681, GRQO: 0.0001, Acc: 0.9809\n"
     ]
    },
    {
     "name": "stderr",
     "output_type": "stream",
     "text": [
      "2025-10-21 04:29:11,663 | INFO | [red] New best val acc: 0.9809\n"
     ]
    },
    {
     "name": "stdout",
     "output_type": "stream",
     "text": [
      "[red] New best val acc: 0.9809\n"
     ]
    },
    {
     "name": "stderr",
     "output_type": "stream",
     "text": [
      "Evaluating: 100%|██████████| 50/50 [00:12<00:00,  4.09it/s]\n",
      "2025-10-21 04:30:15,585 | INFO | [red] Epoch 4/5 | Train - Loss: 0.0325, Cls: 0.0309, GRQO: 0.0017, Acc: 0.9905 | Val - Loss: 0.0586, Cls: 0.0585, GRQO: 0.0001, Acc: 0.9832\n",
      "2025-10-21 04:30:15,775 | INFO | [red] New best val acc: 0.9832\n"
     ]
    },
    {
     "name": "stdout",
     "output_type": "stream",
     "text": [
      "[red] Epoch 4/5 | Train - Loss: 0.0325, Cls: 0.0309, GRQO: 0.0017, Acc: 0.9905 | Val - Loss: 0.0586, Cls: 0.0585, GRQO: 0.0001, Acc: 0.9832\n",
      "[red] New best val acc: 0.9832\n"
     ]
    },
    {
     "name": "stderr",
     "output_type": "stream",
     "text": [
      "Evaluating: 100%|██████████| 50/50 [00:11<00:00,  4.18it/s]\n",
      "2025-10-21 04:31:21,010 | INFO | [red] Epoch 5/5 | Train - Loss: 0.0265, Cls: 0.0251, GRQO: 0.0014, Acc: 0.9913 | Val - Loss: 0.0552, Cls: 0.0551, GRQO: 0.0001, Acc: 0.9836\n"
     ]
    },
    {
     "name": "stdout",
     "output_type": "stream",
     "text": [
      "[red] Epoch 5/5 | Train - Loss: 0.0265, Cls: 0.0251, GRQO: 0.0014, Acc: 0.9913 | Val - Loss: 0.0552, Cls: 0.0551, GRQO: 0.0001, Acc: 0.9836\n"
     ]
    },
    {
     "name": "stderr",
     "output_type": "stream",
     "text": [
      "2025-10-21 04:31:21,209 | INFO | [red] New best val acc: 0.9836\n",
      "2025-10-21 04:31:21,209 | INFO | [red] Best Acc: 0.9836\n",
      "2025-10-21 04:31:21,209 | INFO | ------------------------------------------------------------\n"
     ]
    },
    {
     "name": "stdout",
     "output_type": "stream",
     "text": [
      "[red] New best val acc: 0.9836\n",
      "[red] Best Acc: 0.9836\n",
      "------------------------------------------------------------\n"
     ]
    },
    {
     "name": "stderr",
     "output_type": "stream",
     "text": [
      "Some weights of ViTModel were not initialized from the model checkpoint at WinKawaks/vit-small-patch16-224 and are newly initialized: ['pooler.dense.bias', 'pooler.dense.weight']\n",
      "You should probably TRAIN this model on a down-stream task to be able to use it for predictions and inference.\n",
      "2025-10-21 04:31:22,303 | INFO | === LODO: Leaving out domain 'green' ===\n"
     ]
    },
    {
     "name": "stdout",
     "output_type": "stream",
     "text": [
      "\n",
      "=== LODO: Leaving out domain 'green' ===\n"
     ]
    },
    {
     "name": "stderr",
     "output_type": "stream",
     "text": [
      "Evaluating: 100%|██████████| 50/50 [00:12<00:00,  4.10it/s]\n",
      "2025-10-21 04:32:27,942 | INFO | [green] Epoch 1/5 | Train - Loss: 0.4897, Cls: 0.4848, GRQO: 0.0048, Acc: 0.8488 | Val - Loss: 0.0845, Cls: 0.0841, GRQO: 0.0003, Acc: 0.9753\n",
      "2025-10-21 04:32:28,154 | INFO | [green] New best val acc: 0.9753\n"
     ]
    },
    {
     "name": "stdout",
     "output_type": "stream",
     "text": [
      "[green] Epoch 1/5 | Train - Loss: 0.4897, Cls: 0.4848, GRQO: 0.0048, Acc: 0.8488 | Val - Loss: 0.0845, Cls: 0.0841, GRQO: 0.0003, Acc: 0.9753\n",
      "[green] New best val acc: 0.9753\n"
     ]
    },
    {
     "name": "stderr",
     "output_type": "stream",
     "text": [
      "Evaluating: 100%|██████████| 50/50 [00:12<00:00,  4.05it/s]\n",
      "2025-10-21 04:33:31,573 | INFO | [green] Epoch 2/5 | Train - Loss: 0.0601, Cls: 0.0577, GRQO: 0.0023, Acc: 0.9852 | Val - Loss: 0.0619, Cls: 0.0617, GRQO: 0.0002, Acc: 0.9813\n"
     ]
    },
    {
     "name": "stdout",
     "output_type": "stream",
     "text": [
      "[green] Epoch 2/5 | Train - Loss: 0.0601, Cls: 0.0577, GRQO: 0.0023, Acc: 0.9852 | Val - Loss: 0.0619, Cls: 0.0617, GRQO: 0.0002, Acc: 0.9813\n"
     ]
    },
    {
     "name": "stderr",
     "output_type": "stream",
     "text": [
      "2025-10-21 04:33:31,787 | INFO | [green] New best val acc: 0.9813\n"
     ]
    },
    {
     "name": "stdout",
     "output_type": "stream",
     "text": [
      "[green] New best val acc: 0.9813\n"
     ]
    },
    {
     "name": "stderr",
     "output_type": "stream",
     "text": [
      "Evaluating: 100%|██████████| 50/50 [00:12<00:00,  4.16it/s]\n",
      "2025-10-21 04:34:34,898 | INFO | [green] Epoch 3/5 | Train - Loss: 0.0393, Cls: 0.0375, GRQO: 0.0019, Acc: 0.9886 | Val - Loss: 0.0619, Cls: 0.0618, GRQO: 0.0001, Acc: 0.9835\n"
     ]
    },
    {
     "name": "stdout",
     "output_type": "stream",
     "text": [
      "[green] Epoch 3/5 | Train - Loss: 0.0393, Cls: 0.0375, GRQO: 0.0019, Acc: 0.9886 | Val - Loss: 0.0619, Cls: 0.0618, GRQO: 0.0001, Acc: 0.9835\n"
     ]
    },
    {
     "name": "stderr",
     "output_type": "stream",
     "text": [
      "2025-10-21 04:34:35,104 | INFO | [green] New best val acc: 0.9835\n"
     ]
    },
    {
     "name": "stdout",
     "output_type": "stream",
     "text": [
      "[green] New best val acc: 0.9835\n"
     ]
    },
    {
     "name": "stderr",
     "output_type": "stream",
     "text": [
      "Evaluating: 100%|██████████| 50/50 [00:11<00:00,  4.24it/s]\n",
      "2025-10-21 04:35:32,374 | INFO | [green] Epoch 4/5 | Train - Loss: 0.0303, Cls: 0.0287, GRQO: 0.0016, Acc: 0.9911 | Val - Loss: 0.0908, Cls: 0.0908, GRQO: 0.0001, Acc: 0.9743\n"
     ]
    },
    {
     "name": "stdout",
     "output_type": "stream",
     "text": [
      "[green] Epoch 4/5 | Train - Loss: 0.0303, Cls: 0.0287, GRQO: 0.0016, Acc: 0.9911 | Val - Loss: 0.0908, Cls: 0.0908, GRQO: 0.0001, Acc: 0.9743\n"
     ]
    },
    {
     "name": "stderr",
     "output_type": "stream",
     "text": [
      "Evaluating: 100%|██████████| 50/50 [00:12<00:00,  4.03it/s]\n",
      "2025-10-21 04:36:16,407 | INFO | [green] Epoch 5/5 | Train - Loss: 0.0243, Cls: 0.0229, GRQO: 0.0014, Acc: 0.9936 | Val - Loss: 0.0562, Cls: 0.0562, GRQO: 0.0000, Acc: 0.9867\n",
      "2025-10-21 04:36:16,591 | INFO | [green] New best val acc: 0.9867\n"
     ]
    },
    {
     "name": "stdout",
     "output_type": "stream",
     "text": [
      "[green] Epoch 5/5 | Train - Loss: 0.0243, Cls: 0.0229, GRQO: 0.0014, Acc: 0.9936 | Val - Loss: 0.0562, Cls: 0.0562, GRQO: 0.0000, Acc: 0.9867\n",
      "[green] New best val acc: 0.9867\n"
     ]
    },
    {
     "name": "stderr",
     "output_type": "stream",
     "text": [
      "2025-10-21 04:36:16,591 | INFO | [green] Best Acc: 0.9867\n",
      "2025-10-21 04:36:16,591 | INFO | ------------------------------------------------------------\n"
     ]
    },
    {
     "name": "stdout",
     "output_type": "stream",
     "text": [
      "[green] Best Acc: 0.9867\n",
      "------------------------------------------------------------\n"
     ]
    },
    {
     "name": "stderr",
     "output_type": "stream",
     "text": [
      "Some weights of ViTModel were not initialized from the model checkpoint at WinKawaks/vit-small-patch16-224 and are newly initialized: ['pooler.dense.bias', 'pooler.dense.weight']\n",
      "You should probably TRAIN this model on a down-stream task to be able to use it for predictions and inference.\n",
      "2025-10-21 04:36:26,974 | INFO | === LODO: Leaving out domain 'blue' ===\n"
     ]
    },
    {
     "name": "stdout",
     "output_type": "stream",
     "text": [
      "\n",
      "=== LODO: Leaving out domain 'blue' ===\n"
     ]
    },
    {
     "name": "stderr",
     "output_type": "stream",
     "text": [
      "Evaluating: 100%|██████████| 49/49 [00:12<00:00,  3.95it/s]\n",
      "2025-10-21 04:37:24,556 | INFO | [blue] Epoch 1/5 | Train - Loss: 0.4303, Cls: 0.4252, GRQO: 0.0052, Acc: 0.8768 | Val - Loss: 0.0972, Cls: 0.0968, GRQO: 0.0004, Acc: 0.9698\n"
     ]
    },
    {
     "name": "stdout",
     "output_type": "stream",
     "text": [
      "[blue] Epoch 1/5 | Train - Loss: 0.4303, Cls: 0.4252, GRQO: 0.0052, Acc: 0.8768 | Val - Loss: 0.0972, Cls: 0.0968, GRQO: 0.0004, Acc: 0.9698\n"
     ]
    },
    {
     "name": "stderr",
     "output_type": "stream",
     "text": [
      "2025-10-21 04:37:24,774 | INFO | [blue] New best val acc: 0.9698\n"
     ]
    },
    {
     "name": "stdout",
     "output_type": "stream",
     "text": [
      "[blue] New best val acc: 0.9698\n"
     ]
    },
    {
     "name": "stderr",
     "output_type": "stream",
     "text": [
      "Evaluating: 100%|██████████| 49/49 [00:12<00:00,  4.01it/s]\n",
      "2025-10-21 04:38:27,822 | INFO | [blue] Epoch 2/5 | Train - Loss: 0.0690, Cls: 0.0667, GRQO: 0.0023, Acc: 0.9810 | Val - Loss: 0.0695, Cls: 0.0694, GRQO: 0.0002, Acc: 0.9787\n"
     ]
    },
    {
     "name": "stdout",
     "output_type": "stream",
     "text": [
      "[blue] Epoch 2/5 | Train - Loss: 0.0690, Cls: 0.0667, GRQO: 0.0023, Acc: 0.9810 | Val - Loss: 0.0695, Cls: 0.0694, GRQO: 0.0002, Acc: 0.9787\n"
     ]
    },
    {
     "name": "stderr",
     "output_type": "stream",
     "text": [
      "2025-10-21 04:38:28,024 | INFO | [blue] New best val acc: 0.9787\n"
     ]
    },
    {
     "name": "stdout",
     "output_type": "stream",
     "text": [
      "[blue] New best val acc: 0.9787\n"
     ]
    },
    {
     "name": "stderr",
     "output_type": "stream",
     "text": [
      "Evaluating: 100%|██████████| 49/49 [00:12<00:00,  4.00it/s]\n",
      "2025-10-21 04:39:30,807 | INFO | [blue] Epoch 3/5 | Train - Loss: 0.0315, Cls: 0.0297, GRQO: 0.0019, Acc: 0.9915 | Val - Loss: 0.0506, Cls: 0.0505, GRQO: 0.0001, Acc: 0.9851\n",
      "2025-10-21 04:39:31,006 | INFO | [blue] New best val acc: 0.9851\n"
     ]
    },
    {
     "name": "stdout",
     "output_type": "stream",
     "text": [
      "[blue] Epoch 3/5 | Train - Loss: 0.0315, Cls: 0.0297, GRQO: 0.0019, Acc: 0.9915 | Val - Loss: 0.0506, Cls: 0.0505, GRQO: 0.0001, Acc: 0.9851\n",
      "[blue] New best val acc: 0.9851\n"
     ]
    },
    {
     "name": "stderr",
     "output_type": "stream",
     "text": [
      "Evaluating: 100%|██████████| 49/49 [00:12<00:00,  3.97it/s]\n",
      "2025-10-21 04:40:33,823 | INFO | [blue] Epoch 4/5 | Train - Loss: 0.0270, Cls: 0.0254, GRQO: 0.0016, Acc: 0.9920 | Val - Loss: 0.0513, Cls: 0.0512, GRQO: 0.0001, Acc: 0.9862\n"
     ]
    },
    {
     "name": "stdout",
     "output_type": "stream",
     "text": [
      "[blue] Epoch 4/5 | Train - Loss: 0.0270, Cls: 0.0254, GRQO: 0.0016, Acc: 0.9920 | Val - Loss: 0.0513, Cls: 0.0512, GRQO: 0.0001, Acc: 0.9862\n"
     ]
    },
    {
     "name": "stderr",
     "output_type": "stream",
     "text": [
      "2025-10-21 04:40:34,090 | INFO | [blue] New best val acc: 0.9862\n"
     ]
    },
    {
     "name": "stdout",
     "output_type": "stream",
     "text": [
      "[blue] New best val acc: 0.9862\n"
     ]
    },
    {
     "name": "stderr",
     "output_type": "stream",
     "text": [
      "Evaluating: 100%|██████████| 49/49 [00:12<00:00,  3.94it/s]\n",
      "2025-10-21 04:41:36,806 | INFO | [blue] Epoch 5/5 | Train - Loss: 0.0169, Cls: 0.0155, GRQO: 0.0014, Acc: 0.9955 | Val - Loss: 0.0594, Cls: 0.0593, GRQO: 0.0000, Acc: 0.9836\n",
      "2025-10-21 04:41:36,806 | INFO | [blue] Best Acc: 0.9862\n",
      "2025-10-21 04:41:36,806 | INFO | ------------------------------------------------------------\n",
      "2025-10-21 04:41:36,806 | INFO | LODO finished | Mean Acc: 0.9855 | Summary saved to c:\\Users\\Fatim_Sproj\\Desktop\\Fatim\\Spring 2025\\sproj\\Visual-Reasoning\\Vit-GRQO\\vit-small\\CMNIST\\logs\\lodo_summary_20251021_044136.json\n"
     ]
    },
    {
     "name": "stdout",
     "output_type": "stream",
     "text": [
      "[blue] Epoch 5/5 | Train - Loss: 0.0169, Cls: 0.0155, GRQO: 0.0014, Acc: 0.9955 | Val - Loss: 0.0594, Cls: 0.0593, GRQO: 0.0000, Acc: 0.9836\n",
      "[blue] Best Acc: 0.9862\n",
      "------------------------------------------------------------\n",
      "LODO finished | Mean Acc: 0.9855\n",
      "Summary saved to c:\\Users\\Fatim_Sproj\\Desktop\\Fatim\\Spring 2025\\sproj\\Visual-Reasoning\\Vit-GRQO\\vit-small\\CMNIST\\logs\\lodo_summary_20251021_044136.json\n"
     ]
    }
   ],
   "source": [
    "lodo_results, lodo_mean, lodo_summary = run_lodo(\n",
    "    model_fn=model_factory,\n",
    "    CFG=CFG,\n",
    "    logger=logger,\n",
    "    dataset_key=DS,\n",
    "    domains=domains,\n",
    "    loaders=loaders,\n",
    "    optimizer_fn=optimizer_fn,\n",
    "    device=device,\n",
    "    ckpt_root=ckpt_root,\n",
    "    log_dir=log_dir,\n",
    "    epochs=epochs\n",
    ")"
   ]
  },
  {
   "cell_type": "markdown",
   "id": "008d21ac",
   "metadata": {},
   "source": [
    "### Baseline"
   ]
  },
  {
   "cell_type": "code",
   "execution_count": 5,
   "id": "060b18a4",
   "metadata": {},
   "outputs": [
    {
     "name": "stderr",
     "output_type": "stream",
     "text": [
      "2025-10-21 07:04:18,132 | INFO | Initializing ViT baseline: WinKawaks/vit-small-patch16-224\n"
     ]
    },
    {
     "name": "stdout",
     "output_type": "stream",
     "text": [
      "Initializing ViT baseline: WinKawaks/vit-small-patch16-224\n"
     ]
    },
    {
     "name": "stderr",
     "output_type": "stream",
     "text": [
      "Some weights of ViTForImageClassification were not initialized from the model checkpoint at WinKawaks/vit-small-patch16-224 and are newly initialized because the shapes did not match:\n",
      "- classifier.bias: found shape torch.Size([1000]) in the checkpoint and torch.Size([10]) in the model instantiated\n",
      "- classifier.weight: found shape torch.Size([1000, 384]) in the checkpoint and torch.Size([10, 384]) in the model instantiated\n",
      "You should probably TRAIN this model on a down-stream task to be able to use it for predictions and inference.\n",
      "2025-10-21 07:04:19,098 | INFO | === Baseline LODO: Leaving out domain 'red' ===\n"
     ]
    },
    {
     "name": "stdout",
     "output_type": "stream",
     "text": [
      "\n",
      "=== Baseline LODO: Leaving out domain 'red' ===\n"
     ]
    },
    {
     "name": "stderr",
     "output_type": "stream",
     "text": [
      "2025-10-21 07:04:58,814 | INFO | [red] Epoch 1/5 | Train - Loss: 0.3018, Acc: 0.9065 | Val Acc: 0.9687\n"
     ]
    },
    {
     "name": "stdout",
     "output_type": "stream",
     "text": [
      "[red] Epoch 1/5 | Train - Loss: 0.3018, Acc: 0.9065 | Val Acc: 0.9687\n"
     ]
    },
    {
     "name": "stderr",
     "output_type": "stream",
     "text": [
      "2025-10-21 07:05:38,214 | INFO | [red] Epoch 2/5 | Train - Loss: 0.0394, Acc: 0.9880 | Val Acc: 0.9828\n"
     ]
    },
    {
     "name": "stdout",
     "output_type": "stream",
     "text": [
      "[red] Epoch 2/5 | Train - Loss: 0.0394, Acc: 0.9880 | Val Acc: 0.9828\n"
     ]
    },
    {
     "name": "stderr",
     "output_type": "stream",
     "text": [
      "2025-10-21 07:06:17,398 | INFO | [red] Epoch 3/5 | Train - Loss: 0.0253, Acc: 0.9921 | Val Acc: 0.9785\n"
     ]
    },
    {
     "name": "stdout",
     "output_type": "stream",
     "text": [
      "[red] Epoch 3/5 | Train - Loss: 0.0253, Acc: 0.9921 | Val Acc: 0.9785\n"
     ]
    },
    {
     "name": "stderr",
     "output_type": "stream",
     "text": [
      "2025-10-21 07:06:56,781 | INFO | [red] Epoch 4/5 | Train - Loss: 0.0168, Acc: 0.9947 | Val Acc: 0.9873\n"
     ]
    },
    {
     "name": "stdout",
     "output_type": "stream",
     "text": [
      "[red] Epoch 4/5 | Train - Loss: 0.0168, Acc: 0.9947 | Val Acc: 0.9873\n"
     ]
    },
    {
     "name": "stderr",
     "output_type": "stream",
     "text": [
      "2025-10-21 07:07:36,166 | INFO | [red] Epoch 5/5 | Train - Loss: 0.0123, Acc: 0.9964 | Val Acc: 0.9868\n",
      "2025-10-21 07:07:36,166 | INFO | [red] Best Val Acc: 0.9873\n",
      "2025-10-21 07:07:36,166 | INFO | ------------------------------------------------------------\n",
      "2025-10-21 07:07:36,166 | INFO | Initializing ViT baseline: WinKawaks/vit-small-patch16-224\n"
     ]
    },
    {
     "name": "stdout",
     "output_type": "stream",
     "text": [
      "[red] Epoch 5/5 | Train - Loss: 0.0123, Acc: 0.9964 | Val Acc: 0.9868\n",
      "[red] Best Val Acc: 0.9873\n",
      "------------------------------------------------------------\n",
      "Initializing ViT baseline: WinKawaks/vit-small-patch16-224\n"
     ]
    },
    {
     "name": "stderr",
     "output_type": "stream",
     "text": [
      "Some weights of ViTForImageClassification were not initialized from the model checkpoint at WinKawaks/vit-small-patch16-224 and are newly initialized because the shapes did not match:\n",
      "- classifier.bias: found shape torch.Size([1000]) in the checkpoint and torch.Size([10]) in the model instantiated\n",
      "- classifier.weight: found shape torch.Size([1000, 384]) in the checkpoint and torch.Size([10, 384]) in the model instantiated\n",
      "You should probably TRAIN this model on a down-stream task to be able to use it for predictions and inference.\n",
      "2025-10-21 07:07:36,977 | INFO | === Baseline LODO: Leaving out domain 'green' ===\n"
     ]
    },
    {
     "name": "stdout",
     "output_type": "stream",
     "text": [
      "\n",
      "=== Baseline LODO: Leaving out domain 'green' ===\n"
     ]
    },
    {
     "name": "stderr",
     "output_type": "stream",
     "text": [
      "2025-10-21 07:08:16,397 | INFO | [green] Epoch 1/5 | Train - Loss: 0.3856, Acc: 0.8760 | Val Acc: 0.9689\n"
     ]
    },
    {
     "name": "stdout",
     "output_type": "stream",
     "text": [
      "[green] Epoch 1/5 | Train - Loss: 0.3856, Acc: 0.8760 | Val Acc: 0.9689\n"
     ]
    },
    {
     "name": "stderr",
     "output_type": "stream",
     "text": [
      "2025-10-21 07:08:57,757 | INFO | [green] Epoch 2/5 | Train - Loss: 0.0418, Acc: 0.9868 | Val Acc: 0.9832\n"
     ]
    },
    {
     "name": "stdout",
     "output_type": "stream",
     "text": [
      "[green] Epoch 2/5 | Train - Loss: 0.0418, Acc: 0.9868 | Val Acc: 0.9832\n"
     ]
    },
    {
     "name": "stderr",
     "output_type": "stream",
     "text": [
      "2025-10-21 07:09:38,330 | INFO | [green] Epoch 3/5 | Train - Loss: 0.0194, Acc: 0.9944 | Val Acc: 0.9799\n"
     ]
    },
    {
     "name": "stdout",
     "output_type": "stream",
     "text": [
      "[green] Epoch 3/5 | Train - Loss: 0.0194, Acc: 0.9944 | Val Acc: 0.9799\n"
     ]
    },
    {
     "name": "stderr",
     "output_type": "stream",
     "text": [
      "2025-10-21 07:10:18,953 | INFO | [green] Epoch 4/5 | Train - Loss: 0.0173, Acc: 0.9952 | Val Acc: 0.9821\n"
     ]
    },
    {
     "name": "stdout",
     "output_type": "stream",
     "text": [
      "[green] Epoch 4/5 | Train - Loss: 0.0173, Acc: 0.9952 | Val Acc: 0.9821\n"
     ]
    },
    {
     "name": "stderr",
     "output_type": "stream",
     "text": [
      "2025-10-21 07:10:59,114 | INFO | [green] Epoch 5/5 | Train - Loss: 0.0093, Acc: 0.9973 | Val Acc: 0.9786\n",
      "2025-10-21 07:10:59,114 | INFO | [green] Best Val Acc: 0.9832\n",
      "2025-10-21 07:10:59,114 | INFO | ------------------------------------------------------------\n",
      "2025-10-21 07:10:59,114 | INFO | Initializing ViT baseline: WinKawaks/vit-small-patch16-224\n"
     ]
    },
    {
     "name": "stdout",
     "output_type": "stream",
     "text": [
      "[green] Epoch 5/5 | Train - Loss: 0.0093, Acc: 0.9973 | Val Acc: 0.9786\n",
      "[green] Best Val Acc: 0.9832\n",
      "------------------------------------------------------------\n",
      "Initializing ViT baseline: WinKawaks/vit-small-patch16-224\n"
     ]
    },
    {
     "name": "stderr",
     "output_type": "stream",
     "text": [
      "Some weights of ViTForImageClassification were not initialized from the model checkpoint at WinKawaks/vit-small-patch16-224 and are newly initialized because the shapes did not match:\n",
      "- classifier.bias: found shape torch.Size([1000]) in the checkpoint and torch.Size([10]) in the model instantiated\n",
      "- classifier.weight: found shape torch.Size([1000, 384]) in the checkpoint and torch.Size([10, 384]) in the model instantiated\n",
      "You should probably TRAIN this model on a down-stream task to be able to use it for predictions and inference.\n",
      "2025-10-21 07:10:59,959 | INFO | === Baseline LODO: Leaving out domain 'blue' ===\n"
     ]
    },
    {
     "name": "stdout",
     "output_type": "stream",
     "text": [
      "\n",
      "=== Baseline LODO: Leaving out domain 'blue' ===\n"
     ]
    },
    {
     "name": "stderr",
     "output_type": "stream",
     "text": [
      "2025-10-21 07:11:40,097 | INFO | [blue] Epoch 1/5 | Train - Loss: 0.4473, Acc: 0.8521 | Val Acc: 0.9790\n"
     ]
    },
    {
     "name": "stdout",
     "output_type": "stream",
     "text": [
      "[blue] Epoch 1/5 | Train - Loss: 0.4473, Acc: 0.8521 | Val Acc: 0.9790\n"
     ]
    },
    {
     "name": "stderr",
     "output_type": "stream",
     "text": [
      "2025-10-21 07:12:21,864 | INFO | [blue] Epoch 2/5 | Train - Loss: 0.0454, Acc: 0.9867 | Val Acc: 0.9819\n"
     ]
    },
    {
     "name": "stdout",
     "output_type": "stream",
     "text": [
      "[blue] Epoch 2/5 | Train - Loss: 0.0454, Acc: 0.9867 | Val Acc: 0.9819\n"
     ]
    },
    {
     "name": "stderr",
     "output_type": "stream",
     "text": [
      "2025-10-21 07:13:02,246 | INFO | [blue] Epoch 3/5 | Train - Loss: 0.0249, Acc: 0.9924 | Val Acc: 0.9877\n"
     ]
    },
    {
     "name": "stdout",
     "output_type": "stream",
     "text": [
      "[blue] Epoch 3/5 | Train - Loss: 0.0249, Acc: 0.9924 | Val Acc: 0.9877\n"
     ]
    },
    {
     "name": "stderr",
     "output_type": "stream",
     "text": [
      "2025-10-21 07:13:43,229 | INFO | [blue] Epoch 4/5 | Train - Loss: 0.0198, Acc: 0.9936 | Val Acc: 0.9846\n"
     ]
    },
    {
     "name": "stdout",
     "output_type": "stream",
     "text": [
      "[blue] Epoch 4/5 | Train - Loss: 0.0198, Acc: 0.9936 | Val Acc: 0.9846\n"
     ]
    },
    {
     "name": "stderr",
     "output_type": "stream",
     "text": [
      "2025-10-21 07:14:24,014 | INFO | [blue] Epoch 5/5 | Train - Loss: 0.0145, Acc: 0.9948 | Val Acc: 0.9856\n",
      "2025-10-21 07:14:24,014 | INFO | [blue] Best Val Acc: 0.9877\n",
      "2025-10-21 07:14:24,014 | INFO | ------------------------------------------------------------\n",
      "2025-10-21 07:14:24,014 | INFO | Baseline LODO (WinKawaks/vit-small-patch16-224) finished | Mean Acc: 0.9860\n"
     ]
    },
    {
     "name": "stdout",
     "output_type": "stream",
     "text": [
      "[blue] Epoch 5/5 | Train - Loss: 0.0145, Acc: 0.9948 | Val Acc: 0.9856\n",
      "[blue] Best Val Acc: 0.9877\n",
      "------------------------------------------------------------\n",
      "Baseline LODO (WinKawaks/vit-small-patch16-224) finished | Mean Acc: 0.9860\n"
     ]
    }
   ],
   "source": [
    "baseline_results, baseline_mean = run_baseline(\n",
    "    model_name=MODEL_NAME,\n",
    "    CFG=CFG,\n",
    "    logger=logger,\n",
    "    dataset_key=DS,\n",
    "    domains=domains,\n",
    "    loaders=loaders,\n",
    "    optimizer_fn=optimizer_fn,\n",
    "    device=device,\n",
    "    epochs=CFG[\"train\"][\"epochs\"]\n",
    ")"
   ]
  }
 ],
 "metadata": {
  "kernelspec": {
   "display_name": "bacp",
   "language": "python",
   "name": "python3"
  },
  "language_info": {
   "codemirror_mode": {
    "name": "ipython",
    "version": 3
   },
   "file_extension": ".py",
   "mimetype": "text/x-python",
   "name": "python",
   "nbconvert_exporter": "python",
   "pygments_lexer": "ipython3",
   "version": "3.10.16"
  }
 },
 "nbformat": 4,
 "nbformat_minor": 5
}
