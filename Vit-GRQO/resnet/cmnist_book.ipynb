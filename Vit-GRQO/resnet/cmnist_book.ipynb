{
 "cells": [
  {
   "cell_type": "markdown",
   "id": "7aeb725f",
   "metadata": {},
   "source": [
    "### Imports"
   ]
  },
  {
   "cell_type": "code",
   "execution_count": 1,
   "id": "e407742a",
   "metadata": {},
   "outputs": [
    {
     "name": "stdout",
     "output_type": "stream",
     "text": [
      "Device: cuda\n",
      "PyTorch: 2.5.1+cu121\n"
     ]
    }
   ],
   "source": [
    "import sys\n",
    "sys.dont_write_bytecode = True\n",
    "\n",
    "\n",
    "import torch\n",
    "import numpy as np\n",
    "import random\n",
    "import os\n",
    "\n",
    "def set_seeds(seed_value=42):\n",
    "    \"\"\"Sets seeds for reproducibility.\"\"\"\n",
    "    random.seed(seed_value)\n",
    "    np.random.seed(seed_value)\n",
    "    torch.manual_seed(seed_value)\n",
    "    os.environ['PYTHONHASHSEED'] = str(seed_value)\n",
    "    \n",
    "    if torch.cuda.is_available():\n",
    "        torch.cuda.manual_seed(seed_value)\n",
    "\n",
    "set_seeds(42) \n",
    "\n",
    "import json\n",
    "import torch.nn as nn\n",
    "import torch.optim as optim\n",
    "from tqdm import tqdm\n",
    "import warnings\n",
    "import logging\n",
    "from datetime import datetime\n",
    "warnings.filterwarnings('ignore')\n",
    "\n",
    "from model import get_model\n",
    "from config import CFG\n",
    "from dataset import CMNISTDataset\n",
    "from plot import plot_domainwise_accuracy\n",
    "from transform import get_transforms\n",
    "from runner import run_baseline, run_lodo\n",
    "\n",
    "torch.manual_seed(CFG[\"system\"][\"seed\"])\n",
    "np.random.seed(CFG[\"system\"][\"seed\"])\n",
    "\n",
    "device = CFG[\"system\"][\"device\"]\n",
    "print(f\"Device: {device}\")\n",
    "print(f\"PyTorch: {torch.__version__}\")\n"
   ]
  },
  {
   "cell_type": "markdown",
   "id": "d617af05",
   "metadata": {},
   "source": [
    "### DataLoading"
   ]
  },
  {
   "cell_type": "code",
   "execution_count": 2,
   "id": "3e673c0a",
   "metadata": {},
   "outputs": [
    {
     "name": "stdout",
     "output_type": "stream",
     "text": [
      "\n",
      "Data loaders ready!\n"
     ]
    }
   ],
   "source": [
    "train_transform, test_transform = get_transforms(img_size=224, augment=False, use_imagenet_norm=False)\n",
    "\n",
    "cmnist = CMNISTDataset(\n",
    "    data_root=CFG[\"datasets\"][\"CMNIST\"][\"root\"],\n",
    "    transform=train_transform,\n",
    "    batch_size=CFG[\"train\"][\"batch_size\"]\n",
    ")\n",
    "\n",
    "print(\"\\nData loaders ready!\")"
   ]
  },
  {
   "cell_type": "markdown",
   "id": "e5a3d318",
   "metadata": {},
   "source": [
    "### Logging"
   ]
  },
  {
   "cell_type": "code",
   "execution_count": 3,
   "id": "f01fd7aa",
   "metadata": {},
   "outputs": [
    {
     "name": "stderr",
     "output_type": "stream",
     "text": [
      "2025-10-10 23:12:18,823 | INFO | Initialized experiment directories for CMNIST\n",
      "2025-10-10 23:12:18,823 | INFO | Logs: c:\\Users\\Fatim_Sproj\\Desktop\\Fatim\\Spring 2025\\sproj\\Visual-Reasoning\\Vit-GRQO\\resnet\\CMNIST\\logs\n",
      "2025-10-10 23:12:18,823 | INFO | Checkpoints: c:\\Users\\Fatim_Sproj\\Desktop\\Fatim\\Spring 2025\\sproj\\Visual-Reasoning\\Vit-GRQO\\resnet\\CMNIST\\checkpoints\n",
      "2025-10-10 23:12:18,823 | INFO | Plots: c:\\Users\\Fatim_Sproj\\Desktop\\Fatim\\Spring 2025\\sproj\\Visual-Reasoning\\Vit-GRQO\\resnet\\CMNIST\\plots\n"
     ]
    }
   ],
   "source": [
    "dataset_name = \"CMNIST\" \n",
    "base_dir = os.path.join(os.getcwd(), dataset_name)\n",
    "subdirs = [\"logs\", \"checkpoints\", \"plots\"]\n",
    "\n",
    "for sub in subdirs:\n",
    "    os.makedirs(os.path.join(base_dir, sub), exist_ok=True)\n",
    "\n",
    "timestamp = datetime.now().strftime(\"%Y-%m-%d_%H-%M-%S\")\n",
    "log_file = os.path.join(base_dir, \"logs\", f\"train_{timestamp}.log\")\n",
    "\n",
    "logging.basicConfig(\n",
    "    level=logging.INFO,\n",
    "    format=\"%(asctime)s | %(levelname)s | %(message)s\",\n",
    "    handlers=[\n",
    "        logging.FileHandler(log_file),\n",
    "        logging.StreamHandler()\n",
    "    ]\n",
    ")\n",
    "\n",
    "logger = logging.getLogger(f\"{dataset_name}_logger\")\n",
    "\n",
    "logger.info(f\"Initialized experiment directories for {dataset_name}\")\n",
    "logger.info(f\"Logs: {os.path.join(base_dir, 'logs')}\")\n",
    "logger.info(f\"Checkpoints: {os.path.join(base_dir, 'checkpoints')}\")\n",
    "logger.info(f\"Plots: {os.path.join(base_dir, 'plots')}\")"
   ]
  },
  {
   "cell_type": "markdown",
   "id": "47398d2c",
   "metadata": {},
   "source": [
    "### Setup"
   ]
  },
  {
   "cell_type": "code",
   "execution_count": 4,
   "id": "450d7f06",
   "metadata": {},
   "outputs": [],
   "source": [
    "domains = CFG[\"datasets\"][\"CMNIST\"][\"domains\"]\n",
    "loaders = {d: {\"train\": cmnist.get_dataloader(d, train=True), \"val\": cmnist.get_dataloader(d, train=False)} for d in domains}\n",
    "ckpt_root = os.path.join(base_dir, \"checkpoints\")\n",
    "log_dir = os.path.join(base_dir, \"logs\")\n",
    "plots_dir = os.path.join(base_dir, \"plots\")\n",
    "os.makedirs(ckpt_root, exist_ok=True)\n",
    "os.makedirs(log_dir, exist_ok=True)\n",
    "os.makedirs(plots_dir, exist_ok=True)\n",
    "model_factory = lambda cfg, dataset_key: get_model(cfg,dataset=\"CMNIST\")\n",
    "optimizer_fn = lambda model: optim.AdamW(model.parameters(), lr=CFG[\"train\"][\"lr\"], weight_decay=CFG[\"train\"].get(\"weight_decay\", 0.01))\n",
    "device = CFG[\"system\"][\"device\"]\n",
    "epochs = CFG[\"train\"][\"epochs\"]"
   ]
  },
  {
   "cell_type": "markdown",
   "id": "2d8dafe9",
   "metadata": {},
   "source": [
    "{\n",
    "  \"lodo_results\": {\n",
    "    \"art_painting\": 0.8341463414634146,\n",
    "    \"cartoon\": 0.7974413646055437,\n",
    "    \"photo\": 0.9580838323353293,\n",
    "    \"sketch\": 0.6017811704834606\n",
    "  },\n",
    "  \"timestamp\": \"20251004_020611\"\n",
    "}"
   ]
  },
  {
   "cell_type": "markdown",
   "id": "4931c868",
   "metadata": {},
   "source": [
    "### Leave One Domain Out"
   ]
  },
  {
   "cell_type": "code",
   "execution_count": 5,
   "id": "c0344437",
   "metadata": {},
   "outputs": [
    {
     "name": "stderr",
     "output_type": "stream",
     "text": [
      "2025-10-10 22:32:10,834 | INFO | === LODO: Leaving out domain 'red' ===\n"
     ]
    },
    {
     "name": "stdout",
     "output_type": "stream",
     "text": [
      "\n",
      "=== LODO: Leaving out domain 'red' ===\n"
     ]
    },
    {
     "name": "stderr",
     "output_type": "stream",
     "text": [
      "Evaluating: 100%|██████████| 50/50 [00:10<00:00,  4.88it/s]\n",
      "2025-10-10 22:32:39,881 | INFO | [red] Epoch 1/5 | Train - Loss: 0.4737, Cls: 0.4662, GRQO: 0.0074, Acc: 0.8747 | Val - Loss: 0.1957, Cls: 0.1946, GRQO: 0.0012, Acc: 0.9412\n",
      "2025-10-10 22:32:39,956 | INFO | [red] New best val acc: 0.9412\n"
     ]
    },
    {
     "name": "stdout",
     "output_type": "stream",
     "text": [
      "[red] Epoch 1/5 | Train - Loss: 0.4737, Cls: 0.4662, GRQO: 0.0074, Acc: 0.8747 | Val - Loss: 0.1957, Cls: 0.1946, GRQO: 0.0012, Acc: 0.9412\n",
      "[red] New best val acc: 0.9412\n"
     ]
    },
    {
     "name": "stderr",
     "output_type": "stream",
     "text": [
      "Evaluating: 100%|██████████| 50/50 [00:10<00:00,  4.97it/s]\n",
      "2025-10-10 22:33:08,380 | INFO | [red] Epoch 2/5 | Train - Loss: 0.0383, Cls: 0.0357, GRQO: 0.0026, Acc: 0.9899 | Val - Loss: 0.1084, Cls: 0.1080, GRQO: 0.0004, Acc: 0.9668\n",
      "2025-10-10 22:33:08,449 | INFO | [red] New best val acc: 0.9668\n"
     ]
    },
    {
     "name": "stdout",
     "output_type": "stream",
     "text": [
      "[red] Epoch 2/5 | Train - Loss: 0.0383, Cls: 0.0357, GRQO: 0.0026, Acc: 0.9899 | Val - Loss: 0.1084, Cls: 0.1080, GRQO: 0.0004, Acc: 0.9668\n",
      "[red] New best val acc: 0.9668\n"
     ]
    },
    {
     "name": "stderr",
     "output_type": "stream",
     "text": [
      "Evaluating: 100%|██████████| 50/50 [00:10<00:00,  4.94it/s]\n",
      "2025-10-10 22:33:36,995 | INFO | [red] Epoch 3/5 | Train - Loss: 0.0195, Cls: 0.0174, GRQO: 0.0021, Acc: 0.9949 | Val - Loss: 0.0653, Cls: 0.0651, GRQO: 0.0002, Acc: 0.9801\n",
      "2025-10-10 22:33:37,067 | INFO | [red] New best val acc: 0.9801\n"
     ]
    },
    {
     "name": "stdout",
     "output_type": "stream",
     "text": [
      "[red] Epoch 3/5 | Train - Loss: 0.0195, Cls: 0.0174, GRQO: 0.0021, Acc: 0.9949 | Val - Loss: 0.0653, Cls: 0.0651, GRQO: 0.0002, Acc: 0.9801\n",
      "[red] New best val acc: 0.9801\n"
     ]
    },
    {
     "name": "stderr",
     "output_type": "stream",
     "text": [
      "Evaluating: 100%|██████████| 50/50 [00:11<00:00,  4.31it/s]\n",
      "2025-10-10 22:34:07,136 | INFO | [red] Epoch 4/5 | Train - Loss: 0.0115, Cls: 0.0098, GRQO: 0.0017, Acc: 0.9974 | Val - Loss: 0.1249, Cls: 0.1248, GRQO: 0.0002, Acc: 0.9644\n"
     ]
    },
    {
     "name": "stdout",
     "output_type": "stream",
     "text": [
      "[red] Epoch 4/5 | Train - Loss: 0.0115, Cls: 0.0098, GRQO: 0.0017, Acc: 0.9974 | Val - Loss: 0.1249, Cls: 0.1248, GRQO: 0.0002, Acc: 0.9644\n"
     ]
    },
    {
     "name": "stderr",
     "output_type": "stream",
     "text": [
      "Evaluating: 100%|██████████| 50/50 [00:10<00:00,  4.94it/s]\n",
      "2025-10-10 22:34:35,595 | INFO | [red] Epoch 5/5 | Train - Loss: 0.0130, Cls: 0.0115, GRQO: 0.0015, Acc: 0.9958 | Val - Loss: 0.0808, Cls: 0.0807, GRQO: 0.0001, Acc: 0.9797\n",
      "2025-10-10 22:34:35,595 | INFO | [red] Best Acc: 0.9801\n",
      "2025-10-10 22:34:35,595 | INFO | ------------------------------------------------------------\n",
      "2025-10-10 22:34:35,712 | INFO | === LODO: Leaving out domain 'green' ===\n"
     ]
    },
    {
     "name": "stdout",
     "output_type": "stream",
     "text": [
      "[red] Epoch 5/5 | Train - Loss: 0.0130, Cls: 0.0115, GRQO: 0.0015, Acc: 0.9958 | Val - Loss: 0.0808, Cls: 0.0807, GRQO: 0.0001, Acc: 0.9797\n",
      "[red] Best Acc: 0.9801\n",
      "------------------------------------------------------------\n",
      "\n",
      "=== LODO: Leaving out domain 'green' ===\n"
     ]
    },
    {
     "name": "stderr",
     "output_type": "stream",
     "text": [
      "Evaluating: 100%|██████████| 50/50 [00:11<00:00,  4.40it/s]\n",
      "2025-10-10 22:35:08,790 | INFO | [green] Epoch 1/5 | Train - Loss: 0.4460, Cls: 0.4378, GRQO: 0.0082, Acc: 0.8876 | Val - Loss: 0.5802, Cls: 0.5786, GRQO: 0.0017, Acc: 0.8026\n",
      "2025-10-10 22:35:08,898 | INFO | [green] New best val acc: 0.8026\n"
     ]
    },
    {
     "name": "stdout",
     "output_type": "stream",
     "text": [
      "[green] Epoch 1/5 | Train - Loss: 0.4460, Cls: 0.4378, GRQO: 0.0082, Acc: 0.8876 | Val - Loss: 0.5802, Cls: 0.5786, GRQO: 0.0017, Acc: 0.8026\n",
      "[green] New best val acc: 0.8026\n"
     ]
    },
    {
     "name": "stderr",
     "output_type": "stream",
     "text": [
      "Evaluating: 100%|██████████| 50/50 [00:11<00:00,  4.43it/s]\n",
      "2025-10-10 22:35:41,684 | INFO | [green] Epoch 2/5 | Train - Loss: 0.0410, Cls: 0.0386, GRQO: 0.0024, Acc: 0.9895 | Val - Loss: 0.6280, Cls: 0.6267, GRQO: 0.0014, Acc: 0.7925\n"
     ]
    },
    {
     "name": "stdout",
     "output_type": "stream",
     "text": [
      "[green] Epoch 2/5 | Train - Loss: 0.0410, Cls: 0.0386, GRQO: 0.0024, Acc: 0.9895 | Val - Loss: 0.6280, Cls: 0.6267, GRQO: 0.0014, Acc: 0.7925\n"
     ]
    },
    {
     "name": "stderr",
     "output_type": "stream",
     "text": [
      "Evaluating: 100%|██████████| 50/50 [00:11<00:00,  4.31it/s]\n",
      "2025-10-10 22:36:14,884 | INFO | [green] Epoch 3/5 | Train - Loss: 0.0232, Cls: 0.0212, GRQO: 0.0020, Acc: 0.9934 | Val - Loss: 0.1544, Cls: 0.1539, GRQO: 0.0005, Acc: 0.9523\n",
      "2025-10-10 22:36:15,001 | INFO | [green] New best val acc: 0.9523\n"
     ]
    },
    {
     "name": "stdout",
     "output_type": "stream",
     "text": [
      "[green] Epoch 3/5 | Train - Loss: 0.0232, Cls: 0.0212, GRQO: 0.0020, Acc: 0.9934 | Val - Loss: 0.1544, Cls: 0.1539, GRQO: 0.0005, Acc: 0.9523\n",
      "[green] New best val acc: 0.9523\n"
     ]
    },
    {
     "name": "stderr",
     "output_type": "stream",
     "text": [
      "Evaluating: 100%|██████████| 50/50 [00:11<00:00,  4.41it/s]\n",
      "2025-10-10 22:36:47,871 | INFO | [green] Epoch 4/5 | Train - Loss: 0.0172, Cls: 0.0155, GRQO: 0.0017, Acc: 0.9947 | Val - Loss: 0.2548, Cls: 0.2544, GRQO: 0.0004, Acc: 0.9244\n"
     ]
    },
    {
     "name": "stdout",
     "output_type": "stream",
     "text": [
      "[green] Epoch 4/5 | Train - Loss: 0.0172, Cls: 0.0155, GRQO: 0.0017, Acc: 0.9947 | Val - Loss: 0.2548, Cls: 0.2544, GRQO: 0.0004, Acc: 0.9244\n"
     ]
    },
    {
     "name": "stderr",
     "output_type": "stream",
     "text": [
      "Evaluating: 100%|██████████| 50/50 [00:11<00:00,  4.41it/s]\n",
      "2025-10-10 22:37:20,669 | INFO | [green] Epoch 5/5 | Train - Loss: 0.0120, Cls: 0.0106, GRQO: 0.0014, Acc: 0.9970 | Val - Loss: 0.1331, Cls: 0.1329, GRQO: 0.0002, Acc: 0.9596\n",
      "2025-10-10 22:37:20,794 | INFO | [green] New best val acc: 0.9596\n",
      "2025-10-10 22:37:20,795 | INFO | [green] Best Acc: 0.9596\n",
      "2025-10-10 22:37:20,796 | INFO | ------------------------------------------------------------\n"
     ]
    },
    {
     "name": "stdout",
     "output_type": "stream",
     "text": [
      "[green] Epoch 5/5 | Train - Loss: 0.0120, Cls: 0.0106, GRQO: 0.0014, Acc: 0.9970 | Val - Loss: 0.1331, Cls: 0.1329, GRQO: 0.0002, Acc: 0.9596\n",
      "[green] New best val acc: 0.9596\n",
      "[green] Best Acc: 0.9596\n",
      "------------------------------------------------------------\n"
     ]
    },
    {
     "name": "stderr",
     "output_type": "stream",
     "text": [
      "2025-10-10 22:37:21,042 | INFO | === LODO: Leaving out domain 'blue' ===\n"
     ]
    },
    {
     "name": "stdout",
     "output_type": "stream",
     "text": [
      "\n",
      "=== LODO: Leaving out domain 'blue' ===\n"
     ]
    },
    {
     "name": "stderr",
     "output_type": "stream",
     "text": [
      "Evaluating: 100%|██████████| 49/49 [00:11<00:00,  4.28it/s]\n",
      "2025-10-10 22:37:54,002 | INFO | [blue] Epoch 1/5 | Train - Loss: 0.4540, Cls: 0.4462, GRQO: 0.0078, Acc: 0.8776 | Val - Loss: 0.3883, Cls: 0.3865, GRQO: 0.0018, Acc: 0.8860\n",
      "2025-10-10 22:37:54,121 | INFO | [blue] New best val acc: 0.8860\n"
     ]
    },
    {
     "name": "stdout",
     "output_type": "stream",
     "text": [
      "[blue] Epoch 1/5 | Train - Loss: 0.4540, Cls: 0.4462, GRQO: 0.0078, Acc: 0.8776 | Val - Loss: 0.3883, Cls: 0.3865, GRQO: 0.0018, Acc: 0.8860\n",
      "[blue] New best val acc: 0.8860\n"
     ]
    },
    {
     "name": "stderr",
     "output_type": "stream",
     "text": [
      "Evaluating: 100%|██████████| 49/49 [00:11<00:00,  4.40it/s]\n",
      "2025-10-10 22:38:26,986 | INFO | [blue] Epoch 2/5 | Train - Loss: 0.0454, Cls: 0.0428, GRQO: 0.0026, Acc: 0.9871 | Val - Loss: 0.3407, Cls: 0.3397, GRQO: 0.0010, Acc: 0.8924\n",
      "2025-10-10 22:38:27,122 | INFO | [blue] New best val acc: 0.8924\n"
     ]
    },
    {
     "name": "stdout",
     "output_type": "stream",
     "text": [
      "[blue] Epoch 2/5 | Train - Loss: 0.0454, Cls: 0.0428, GRQO: 0.0026, Acc: 0.9871 | Val - Loss: 0.3407, Cls: 0.3397, GRQO: 0.0010, Acc: 0.8924\n",
      "[blue] New best val acc: 0.8924\n"
     ]
    },
    {
     "name": "stderr",
     "output_type": "stream",
     "text": [
      "Evaluating: 100%|██████████| 49/49 [00:11<00:00,  4.39it/s]\n",
      "2025-10-10 22:38:59,934 | INFO | [blue] Epoch 3/5 | Train - Loss: 0.0189, Cls: 0.0168, GRQO: 0.0021, Acc: 0.9958 | Val - Loss: 0.2059, Cls: 0.2054, GRQO: 0.0005, Acc: 0.9376\n",
      "2025-10-10 22:39:00,058 | INFO | [blue] New best val acc: 0.9376\n"
     ]
    },
    {
     "name": "stdout",
     "output_type": "stream",
     "text": [
      "[blue] Epoch 3/5 | Train - Loss: 0.0189, Cls: 0.0168, GRQO: 0.0021, Acc: 0.9958 | Val - Loss: 0.2059, Cls: 0.2054, GRQO: 0.0005, Acc: 0.9376\n",
      "[blue] New best val acc: 0.9376\n"
     ]
    },
    {
     "name": "stderr",
     "output_type": "stream",
     "text": [
      "Evaluating: 100%|██████████| 49/49 [00:11<00:00,  4.30it/s]\n",
      "2025-10-10 22:39:33,138 | INFO | [blue] Epoch 4/5 | Train - Loss: 0.0094, Cls: 0.0077, GRQO: 0.0017, Acc: 0.9981 | Val - Loss: 0.2201, Cls: 0.2195, GRQO: 0.0005, Acc: 0.9352\n"
     ]
    },
    {
     "name": "stdout",
     "output_type": "stream",
     "text": [
      "[blue] Epoch 4/5 | Train - Loss: 0.0094, Cls: 0.0077, GRQO: 0.0017, Acc: 0.9981 | Val - Loss: 0.2201, Cls: 0.2195, GRQO: 0.0005, Acc: 0.9352\n"
     ]
    },
    {
     "name": "stderr",
     "output_type": "stream",
     "text": [
      "Evaluating: 100%|██████████| 49/49 [00:11<00:00,  4.34it/s]\n",
      "2025-10-10 22:40:06,069 | INFO | [blue] Epoch 5/5 | Train - Loss: 0.0083, Cls: 0.0069, GRQO: 0.0014, Acc: 0.9980 | Val - Loss: 0.2232, Cls: 0.2228, GRQO: 0.0003, Acc: 0.9358\n",
      "2025-10-10 22:40:06,069 | INFO | [blue] Best Acc: 0.9376\n",
      "2025-10-10 22:40:06,069 | INFO | ------------------------------------------------------------\n",
      "2025-10-10 22:40:06,069 | INFO | LODO finished | Mean Acc: 0.9591 | Summary saved to c:\\Users\\Fatim_Sproj\\Desktop\\Fatim\\Spring 2025\\sproj\\Visual-Reasoning\\Vit-GRQO\\resnet\\CMNIST\\logs\\lodo_summary_20251010_224006.json\n"
     ]
    },
    {
     "name": "stdout",
     "output_type": "stream",
     "text": [
      "[blue] Epoch 5/5 | Train - Loss: 0.0083, Cls: 0.0069, GRQO: 0.0014, Acc: 0.9980 | Val - Loss: 0.2232, Cls: 0.2228, GRQO: 0.0003, Acc: 0.9358\n",
      "[blue] Best Acc: 0.9376\n",
      "------------------------------------------------------------\n",
      "LODO finished | Mean Acc: 0.9591\n",
      "Summary saved to c:\\Users\\Fatim_Sproj\\Desktop\\Fatim\\Spring 2025\\sproj\\Visual-Reasoning\\Vit-GRQO\\resnet\\CMNIST\\logs\\lodo_summary_20251010_224006.json\n"
     ]
    }
   ],
   "source": [
    "lodo_results, lodo_mean, lodo_summary = run_lodo(\n",
    "    model_fn=model_factory,\n",
    "    CFG=CFG,\n",
    "    logger=logger,\n",
    "    dataset_key=\"CMNIST\",\n",
    "    domains=domains,\n",
    "    loaders=loaders,\n",
    "    optimizer_fn=optimizer_fn,\n",
    "    device=device,\n",
    "    ckpt_root=ckpt_root,\n",
    "    log_dir=log_dir,\n",
    "    epochs=epochs\n",
    ")"
   ]
  },
  {
   "cell_type": "markdown",
   "id": "008d21ac",
   "metadata": {},
   "source": [
    "### Baseline"
   ]
  },
  {
   "cell_type": "code",
   "execution_count": 5,
   "id": "060b18a4",
   "metadata": {},
   "outputs": [
    {
     "name": "stderr",
     "output_type": "stream",
     "text": [
      "2025-10-10 23:12:20,991 | INFO | Initializing ResNet baseline: resnet18\n",
      "2025-10-10 23:12:21,156 | INFO | === Baseline LODO: Leaving out domain 'red' ===\n"
     ]
    },
    {
     "name": "stdout",
     "output_type": "stream",
     "text": [
      "Initializing ResNet baseline: resnet18\n",
      "\n",
      "=== Baseline LODO: Leaving out domain 'red' ===\n"
     ]
    },
    {
     "name": "stderr",
     "output_type": "stream",
     "text": [
      "2025-10-10 23:12:49,556 | INFO | [red] Epoch 1/5 | Train - Loss: 0.3227, Acc: 0.9206 | Val Acc: 0.9461\n"
     ]
    },
    {
     "name": "stdout",
     "output_type": "stream",
     "text": [
      "[red] Epoch 1/5 | Train - Loss: 0.3227, Acc: 0.9206 | Val Acc: 0.9461\n"
     ]
    },
    {
     "name": "stderr",
     "output_type": "stream",
     "text": [
      "2025-10-10 23:13:15,941 | INFO | [red] Epoch 2/5 | Train - Loss: 0.0364, Acc: 0.9919 | Val Acc: 0.9501\n"
     ]
    },
    {
     "name": "stdout",
     "output_type": "stream",
     "text": [
      "[red] Epoch 2/5 | Train - Loss: 0.0364, Acc: 0.9919 | Val Acc: 0.9501\n"
     ]
    },
    {
     "name": "stderr",
     "output_type": "stream",
     "text": [
      "2025-10-10 23:13:42,356 | INFO | [red] Epoch 3/5 | Train - Loss: 0.0126, Acc: 0.9981 | Val Acc: 0.9642\n"
     ]
    },
    {
     "name": "stdout",
     "output_type": "stream",
     "text": [
      "[red] Epoch 3/5 | Train - Loss: 0.0126, Acc: 0.9981 | Val Acc: 0.9642\n"
     ]
    },
    {
     "name": "stderr",
     "output_type": "stream",
     "text": [
      "2025-10-10 23:14:08,713 | INFO | [red] Epoch 4/5 | Train - Loss: 0.0049, Acc: 0.9998 | Val Acc: 0.9660\n"
     ]
    },
    {
     "name": "stdout",
     "output_type": "stream",
     "text": [
      "[red] Epoch 4/5 | Train - Loss: 0.0049, Acc: 0.9998 | Val Acc: 0.9660\n"
     ]
    },
    {
     "name": "stderr",
     "output_type": "stream",
     "text": [
      "2025-10-10 23:14:35,139 | INFO | [red] Epoch 5/5 | Train - Loss: 0.0023, Acc: 1.0000 | Val Acc: 0.9658\n",
      "2025-10-10 23:14:35,139 | INFO | [red] Best Val Acc: 0.9660\n",
      "2025-10-10 23:14:35,139 | INFO | ------------------------------------------------------------\n",
      "2025-10-10 23:14:35,139 | INFO | Initializing ResNet baseline: resnet18\n",
      "2025-10-10 23:14:35,224 | INFO | === Baseline LODO: Leaving out domain 'green' ===\n"
     ]
    },
    {
     "name": "stdout",
     "output_type": "stream",
     "text": [
      "[red] Epoch 5/5 | Train - Loss: 0.0023, Acc: 1.0000 | Val Acc: 0.9658\n",
      "[red] Best Val Acc: 0.9660\n",
      "------------------------------------------------------------\n",
      "Initializing ResNet baseline: resnet18\n",
      "\n",
      "=== Baseline LODO: Leaving out domain 'green' ===\n"
     ]
    },
    {
     "name": "stderr",
     "output_type": "stream",
     "text": [
      "2025-10-10 23:15:01,516 | INFO | [green] Epoch 1/5 | Train - Loss: 0.2925, Acc: 0.9304 | Val Acc: 0.7733\n"
     ]
    },
    {
     "name": "stdout",
     "output_type": "stream",
     "text": [
      "[green] Epoch 1/5 | Train - Loss: 0.2925, Acc: 0.9304 | Val Acc: 0.7733\n"
     ]
    },
    {
     "name": "stderr",
     "output_type": "stream",
     "text": [
      "2025-10-10 23:15:27,906 | INFO | [green] Epoch 2/5 | Train - Loss: 0.0381, Acc: 0.9907 | Val Acc: 0.7658\n"
     ]
    },
    {
     "name": "stdout",
     "output_type": "stream",
     "text": [
      "[green] Epoch 2/5 | Train - Loss: 0.0381, Acc: 0.9907 | Val Acc: 0.7658\n"
     ]
    },
    {
     "name": "stderr",
     "output_type": "stream",
     "text": [
      "2025-10-10 23:15:54,493 | INFO | [green] Epoch 3/5 | Train - Loss: 0.0137, Acc: 0.9981 | Val Acc: 0.6884\n"
     ]
    },
    {
     "name": "stdout",
     "output_type": "stream",
     "text": [
      "[green] Epoch 3/5 | Train - Loss: 0.0137, Acc: 0.9981 | Val Acc: 0.6884\n"
     ]
    },
    {
     "name": "stderr",
     "output_type": "stream",
     "text": [
      "2025-10-10 23:16:20,905 | INFO | [green] Epoch 4/5 | Train - Loss: 0.0052, Acc: 0.9995 | Val Acc: 0.8059\n"
     ]
    },
    {
     "name": "stdout",
     "output_type": "stream",
     "text": [
      "[green] Epoch 4/5 | Train - Loss: 0.0052, Acc: 0.9995 | Val Acc: 0.8059\n"
     ]
    },
    {
     "name": "stderr",
     "output_type": "stream",
     "text": [
      "2025-10-10 23:16:47,288 | INFO | [green] Epoch 5/5 | Train - Loss: 0.0021, Acc: 1.0000 | Val Acc: 0.7457\n",
      "2025-10-10 23:16:47,288 | INFO | [green] Best Val Acc: 0.8059\n",
      "2025-10-10 23:16:47,288 | INFO | ------------------------------------------------------------\n",
      "2025-10-10 23:16:47,288 | INFO | Initializing ResNet baseline: resnet18\n",
      "2025-10-10 23:16:47,372 | INFO | === Baseline LODO: Leaving out domain 'blue' ===\n"
     ]
    },
    {
     "name": "stdout",
     "output_type": "stream",
     "text": [
      "[green] Epoch 5/5 | Train - Loss: 0.0021, Acc: 1.0000 | Val Acc: 0.7457\n",
      "[green] Best Val Acc: 0.8059\n",
      "------------------------------------------------------------\n",
      "Initializing ResNet baseline: resnet18\n",
      "\n",
      "=== Baseline LODO: Leaving out domain 'blue' ===\n"
     ]
    },
    {
     "name": "stderr",
     "output_type": "stream",
     "text": [
      "2025-10-10 23:17:14,139 | INFO | [blue] Epoch 1/5 | Train - Loss: 0.2937, Acc: 0.9304 | Val Acc: 0.5562\n"
     ]
    },
    {
     "name": "stdout",
     "output_type": "stream",
     "text": [
      "[blue] Epoch 1/5 | Train - Loss: 0.2937, Acc: 0.9304 | Val Acc: 0.5562\n"
     ]
    },
    {
     "name": "stderr",
     "output_type": "stream",
     "text": [
      "2025-10-10 23:17:40,798 | INFO | [blue] Epoch 2/5 | Train - Loss: 0.0351, Acc: 0.9920 | Val Acc: 0.7304\n"
     ]
    },
    {
     "name": "stdout",
     "output_type": "stream",
     "text": [
      "[blue] Epoch 2/5 | Train - Loss: 0.0351, Acc: 0.9920 | Val Acc: 0.7304\n"
     ]
    },
    {
     "name": "stderr",
     "output_type": "stream",
     "text": [
      "2025-10-10 23:18:07,990 | INFO | [blue] Epoch 3/5 | Train - Loss: 0.0126, Acc: 0.9984 | Val Acc: 0.8096\n"
     ]
    },
    {
     "name": "stdout",
     "output_type": "stream",
     "text": [
      "[blue] Epoch 3/5 | Train - Loss: 0.0126, Acc: 0.9984 | Val Acc: 0.8096\n"
     ]
    },
    {
     "name": "stderr",
     "output_type": "stream",
     "text": [
      "2025-10-10 23:18:34,890 | INFO | [blue] Epoch 4/5 | Train - Loss: 0.0042, Acc: 0.9997 | Val Acc: 0.6991\n"
     ]
    },
    {
     "name": "stdout",
     "output_type": "stream",
     "text": [
      "[blue] Epoch 4/5 | Train - Loss: 0.0042, Acc: 0.9997 | Val Acc: 0.6991\n"
     ]
    },
    {
     "name": "stderr",
     "output_type": "stream",
     "text": [
      "2025-10-10 23:19:02,137 | INFO | [blue] Epoch 5/5 | Train - Loss: 0.0025, Acc: 0.9999 | Val Acc: 0.7974\n",
      "2025-10-10 23:19:02,138 | INFO | [blue] Best Val Acc: 0.8096\n",
      "2025-10-10 23:19:02,138 | INFO | ------------------------------------------------------------\n",
      "2025-10-10 23:19:02,138 | INFO | Baseline LODO (resnet18) finished | Mean Acc: 0.8605\n"
     ]
    },
    {
     "name": "stdout",
     "output_type": "stream",
     "text": [
      "[blue] Epoch 5/5 | Train - Loss: 0.0025, Acc: 0.9999 | Val Acc: 0.7974\n",
      "[blue] Best Val Acc: 0.8096\n",
      "------------------------------------------------------------\n",
      "Baseline LODO (resnet18) finished | Mean Acc: 0.8605\n"
     ]
    }
   ],
   "source": [
    "model_name =\"resnet18\"\n",
    "baseline_results, baseline_mean = run_baseline(\n",
    "    model_name=model_name,\n",
    "    CFG=CFG,\n",
    "    logger=logger,\n",
    "    dataset_key=\"CMNIST\",\n",
    "    domains=domains,\n",
    "    loaders=loaders,\n",
    "    optimizer_fn=optimizer_fn,\n",
    "    device=device,\n",
    "    epochs=CFG[\"train\"][\"epochs\"]\n",
    ")\n"
   ]
  }
 ],
 "metadata": {
  "kernelspec": {
   "display_name": "bacp",
   "language": "python",
   "name": "python3"
  },
  "language_info": {
   "codemirror_mode": {
    "name": "ipython",
    "version": 3
   },
   "file_extension": ".py",
   "mimetype": "text/x-python",
   "name": "python",
   "nbconvert_exporter": "python",
   "pygments_lexer": "ipython3",
   "version": "3.10.16"
  }
 },
 "nbformat": 4,
 "nbformat_minor": 5
}
