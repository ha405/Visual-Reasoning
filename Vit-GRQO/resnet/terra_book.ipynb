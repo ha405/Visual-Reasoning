{
 "cells": [
  {
   "cell_type": "markdown",
   "id": "7aeb725f",
   "metadata": {},
   "source": [
    "### Imports"
   ]
  },
  {
   "cell_type": "code",
   "execution_count": 1,
   "id": "e407742a",
   "metadata": {},
   "outputs": [
    {
     "name": "stdout",
     "output_type": "stream",
     "text": [
      "Device: cuda\n",
      "PyTorch: 2.5.1+cu121\n"
     ]
    }
   ],
   "source": [
    "import sys\n",
    "sys.dont_write_bytecode = True\n",
    "\n",
    "\n",
    "import torch\n",
    "import numpy as np\n",
    "import random\n",
    "import os\n",
    "\n",
    "def set_seeds(seed_value=42):\n",
    "    \"\"\"Sets seeds for reproducibility.\"\"\"\n",
    "    random.seed(seed_value)\n",
    "    np.random.seed(seed_value)\n",
    "    torch.manual_seed(seed_value)\n",
    "    os.environ['PYTHONHASHSEED'] = str(seed_value)\n",
    "    \n",
    "    if torch.cuda.is_available():\n",
    "        torch.cuda.manual_seed(seed_value)\n",
    "\n",
    "set_seeds(42) \n",
    "\n",
    "import json\n",
    "import torch.nn as nn\n",
    "import torch.optim as optim\n",
    "from tqdm import tqdm\n",
    "import warnings\n",
    "import logging\n",
    "from datetime import datetime\n",
    "warnings.filterwarnings('ignore')\n",
    "\n",
    "from model import get_model\n",
    "from config import CFG\n",
    "from dataset import TerraIncognitaDataset\n",
    "from plot import plot_domainwise_accuracy\n",
    "from transform import get_transforms\n",
    "from runner import run_baseline, run_lodo\n",
    "\n",
    "torch.manual_seed(CFG[\"system\"][\"seed\"])\n",
    "np.random.seed(CFG[\"system\"][\"seed\"])\n",
    "\n",
    "device = CFG[\"system\"][\"device\"]\n",
    "print(f\"Device: {device}\")\n",
    "print(f\"PyTorch: {torch.__version__}\")\n"
   ]
  },
  {
   "cell_type": "markdown",
   "id": "d617af05",
   "metadata": {},
   "source": [
    "### DataLoading"
   ]
  },
  {
   "cell_type": "code",
   "execution_count": 2,
   "id": "3e673c0a",
   "metadata": {},
   "outputs": [
    {
     "name": "stdout",
     "output_type": "stream",
     "text": [
      "\n",
      "Data loaders ready!\n"
     ]
    }
   ],
   "source": [
    "train_transform, test_transform = get_transforms(img_size=224, augment=False, use_imagenet_norm=False)\n",
    "\n",
    "ti = TerraIncognitaDataset(\n",
    "    data_root=CFG[\"datasets\"][\"TerraIncognita\"][\"root\"],\n",
    "    transform=train_transform,\n",
    "    batch_size=CFG[\"train\"][\"batch_size\"]\n",
    ")\n",
    "\n",
    "print(\"\\nData loaders ready!\")"
   ]
  },
  {
   "cell_type": "markdown",
   "id": "e5a3d318",
   "metadata": {},
   "source": [
    "### Logging"
   ]
  },
  {
   "cell_type": "code",
   "execution_count": 3,
   "id": "f01fd7aa",
   "metadata": {},
   "outputs": [
    {
     "name": "stderr",
     "output_type": "stream",
     "text": [
      "2025-10-11 04:08:26,518 | INFO | Initialized experiment directories for TerraIncognita\n",
      "2025-10-11 04:08:26,518 | INFO | Logs: c:\\Users\\Fatim_Sproj\\Desktop\\Fatim\\Spring 2025\\sproj\\Visual-Reasoning\\Vit-GRQO\\resnet\\TerraIncognita\\logs\n",
      "2025-10-11 04:08:26,518 | INFO | Checkpoints: c:\\Users\\Fatim_Sproj\\Desktop\\Fatim\\Spring 2025\\sproj\\Visual-Reasoning\\Vit-GRQO\\resnet\\TerraIncognita\\checkpoints\n",
      "2025-10-11 04:08:26,518 | INFO | Plots: c:\\Users\\Fatim_Sproj\\Desktop\\Fatim\\Spring 2025\\sproj\\Visual-Reasoning\\Vit-GRQO\\resnet\\TerraIncognita\\plots\n"
     ]
    }
   ],
   "source": [
    "dataset_name = \"TerraIncognita\" \n",
    "base_dir = os.path.join(os.getcwd(), dataset_name)\n",
    "subdirs = [\"logs\", \"checkpoints\", \"plots\"]\n",
    "\n",
    "for sub in subdirs:\n",
    "    os.makedirs(os.path.join(base_dir, sub), exist_ok=True)\n",
    "\n",
    "timestamp = datetime.now().strftime(\"%Y-%m-%d_%H-%M-%S\")\n",
    "log_file = os.path.join(base_dir, \"logs\", f\"train_{timestamp}.log\")\n",
    "\n",
    "logging.basicConfig(\n",
    "    level=logging.INFO,\n",
    "    format=\"%(asctime)s | %(levelname)s | %(message)s\",\n",
    "    handlers=[\n",
    "        logging.FileHandler(log_file),\n",
    "        logging.StreamHandler()\n",
    "    ]\n",
    ")\n",
    "\n",
    "logger = logging.getLogger(f\"{dataset_name}_logger\")\n",
    "\n",
    "logger.info(f\"Initialized experiment directories for {dataset_name}\")\n",
    "logger.info(f\"Logs: {os.path.join(base_dir, 'logs')}\")\n",
    "logger.info(f\"Checkpoints: {os.path.join(base_dir, 'checkpoints')}\")\n",
    "logger.info(f\"Plots: {os.path.join(base_dir, 'plots')}\")"
   ]
  },
  {
   "cell_type": "markdown",
   "id": "47398d2c",
   "metadata": {},
   "source": [
    "### Setup"
   ]
  },
  {
   "cell_type": "code",
   "execution_count": 4,
   "id": "450d7f06",
   "metadata": {},
   "outputs": [],
   "source": [
    "domains = CFG[\"datasets\"][\"TerraIncognita\"][\"domains\"]\n",
    "loaders = {d: {\"train\": ti.get_dataloader(d, train=True), \"val\": ti.get_dataloader(d, train=False)} for d in domains}\n",
    "ckpt_root = os.path.join(base_dir, \"checkpoints\")\n",
    "log_dir = os.path.join(base_dir, \"logs\")\n",
    "plots_dir = os.path.join(base_dir, \"plots\")\n",
    "os.makedirs(ckpt_root, exist_ok=True)\n",
    "os.makedirs(log_dir, exist_ok=True)\n",
    "os.makedirs(plots_dir, exist_ok=True)\n",
    "model_factory = lambda cfg, dataset_key: get_model(cfg,dataset=\"TerraIncognita\")\n",
    "optimizer_fn = lambda model: optim.AdamW(model.parameters(), lr=CFG[\"train\"][\"lr\"], weight_decay=CFG[\"train\"].get(\"weight_decay\", 0.01))\n",
    "device = CFG[\"system\"][\"device\"]\n",
    "epochs = CFG[\"train\"][\"epochs\"]\n"
   ]
  },
  {
   "cell_type": "markdown",
   "id": "2d8dafe9",
   "metadata": {},
   "source": [
    "{\n",
    "  \"lodo_results\": {\n",
    "    \"art_painting\": 0.8341463414634146,\n",
    "    \"cartoon\": 0.7974413646055437,\n",
    "    \"photo\": 0.9580838323353293,\n",
    "    \"sketch\": 0.6017811704834606\n",
    "  },\n",
    "  \"timestamp\": \"20251004_020611\"\n",
    "}"
   ]
  },
  {
   "cell_type": "markdown",
   "id": "4931c868",
   "metadata": {},
   "source": [
    "### Leave One Domain Out"
   ]
  },
  {
   "cell_type": "code",
   "execution_count": 5,
   "id": "c0344437",
   "metadata": {},
   "outputs": [
    {
     "name": "stderr",
     "output_type": "stream",
     "text": [
      "2025-10-11 04:08:47,132 | INFO | === LODO: Leaving out domain 'location_38' ===\n"
     ]
    },
    {
     "name": "stdout",
     "output_type": "stream",
     "text": [
      "\n",
      "=== LODO: Leaving out domain 'location_38' ===\n"
     ]
    },
    {
     "name": "stderr",
     "output_type": "stream",
     "text": [
      "Evaluating: 100%|██████████| 77/77 [00:20<00:00,  3.75it/s]\n",
      "2025-10-11 04:09:35,564 | INFO | [location_38] Epoch 1/5 | Train - Loss: 1.0298, Cls: 1.0237, GRQO: 0.0061, Acc: 0.6404 | Val - Loss: 2.0119, Cls: 2.0108, GRQO: 0.0011, Acc: 0.3785\n",
      "2025-10-11 04:09:35,630 | INFO | [location_38] New best val acc: 0.3785\n"
     ]
    },
    {
     "name": "stdout",
     "output_type": "stream",
     "text": [
      "[location_38] Epoch 1/5 | Train - Loss: 1.0298, Cls: 1.0237, GRQO: 0.0061, Acc: 0.6404 | Val - Loss: 2.0119, Cls: 2.0108, GRQO: 0.0011, Acc: 0.3785\n",
      "[location_38] New best val acc: 0.3785\n"
     ]
    },
    {
     "name": "stderr",
     "output_type": "stream",
     "text": [
      "Evaluating: 100%|██████████| 77/77 [00:20<00:00,  3.77it/s]\n",
      "2025-10-11 04:10:23,348 | INFO | [location_38] Epoch 2/5 | Train - Loss: 0.4268, Cls: 0.4243, GRQO: 0.0026, Acc: 0.8572 | Val - Loss: 3.6643, Cls: 3.6637, GRQO: 0.0006, Acc: 0.1862\n"
     ]
    },
    {
     "name": "stdout",
     "output_type": "stream",
     "text": [
      "[location_38] Epoch 2/5 | Train - Loss: 0.4268, Cls: 0.4243, GRQO: 0.0026, Acc: 0.8572 | Val - Loss: 3.6643, Cls: 3.6637, GRQO: 0.0006, Acc: 0.1862\n"
     ]
    },
    {
     "name": "stderr",
     "output_type": "stream",
     "text": [
      "Evaluating: 100%|██████████| 77/77 [00:20<00:00,  3.78it/s]\n",
      "2025-10-11 04:11:10,881 | INFO | [location_38] Epoch 3/5 | Train - Loss: 0.2234, Cls: 0.2212, GRQO: 0.0022, Acc: 0.9267 | Val - Loss: 3.3056, Cls: 3.3051, GRQO: 0.0005, Acc: 0.2626\n"
     ]
    },
    {
     "name": "stdout",
     "output_type": "stream",
     "text": [
      "[location_38] Epoch 3/5 | Train - Loss: 0.2234, Cls: 0.2212, GRQO: 0.0022, Acc: 0.9267 | Val - Loss: 3.3056, Cls: 3.3051, GRQO: 0.0005, Acc: 0.2626\n"
     ]
    },
    {
     "name": "stderr",
     "output_type": "stream",
     "text": [
      "Evaluating: 100%|██████████| 77/77 [00:20<00:00,  3.80it/s]\n",
      "2025-10-11 04:11:58,847 | INFO | [location_38] Epoch 4/5 | Train - Loss: 0.1303, Cls: 0.1283, GRQO: 0.0019, Acc: 0.9585 | Val - Loss: 4.2991, Cls: 4.2987, GRQO: 0.0004, Acc: 0.2341\n"
     ]
    },
    {
     "name": "stdout",
     "output_type": "stream",
     "text": [
      "[location_38] Epoch 4/5 | Train - Loss: 0.1303, Cls: 0.1283, GRQO: 0.0019, Acc: 0.9585 | Val - Loss: 4.2991, Cls: 4.2987, GRQO: 0.0004, Acc: 0.2341\n"
     ]
    },
    {
     "name": "stderr",
     "output_type": "stream",
     "text": [
      "Evaluating: 100%|██████████| 77/77 [00:20<00:00,  3.72it/s]\n",
      "2025-10-11 04:12:46,798 | INFO | [location_38] Epoch 5/5 | Train - Loss: 0.1097, Cls: 0.1079, GRQO: 0.0018, Acc: 0.9638 | Val - Loss: 3.2334, Cls: 3.2330, GRQO: 0.0004, Acc: 0.3710\n",
      "2025-10-11 04:12:46,798 | INFO | [location_38] Best Acc: 0.3785\n",
      "2025-10-11 04:12:46,798 | INFO | ------------------------------------------------------------\n",
      "2025-10-11 04:12:46,914 | INFO | === LODO: Leaving out domain 'location_43' ===\n"
     ]
    },
    {
     "name": "stdout",
     "output_type": "stream",
     "text": [
      "[location_38] Epoch 5/5 | Train - Loss: 0.1097, Cls: 0.1079, GRQO: 0.0018, Acc: 0.9638 | Val - Loss: 3.2334, Cls: 3.2330, GRQO: 0.0004, Acc: 0.3710\n",
      "[location_38] Best Acc: 0.3785\n",
      "------------------------------------------------------------\n",
      "\n",
      "=== LODO: Leaving out domain 'location_43' ===\n"
     ]
    },
    {
     "name": "stderr",
     "output_type": "stream",
     "text": [
      "Evaluating: 100%|██████████| 32/32 [00:13<00:00,  2.36it/s]\n",
      "2025-10-11 04:13:35,514 | INFO | [location_43] Epoch 1/5 | Train - Loss: 0.8667, Cls: 0.8613, GRQO: 0.0053, Acc: 0.6966 | Val - Loss: 1.6548, Cls: 1.6538, GRQO: 0.0010, Acc: 0.4164\n",
      "2025-10-11 04:13:35,591 | INFO | [location_43] New best val acc: 0.4164\n"
     ]
    },
    {
     "name": "stdout",
     "output_type": "stream",
     "text": [
      "[location_43] Epoch 1/5 | Train - Loss: 0.8667, Cls: 0.8613, GRQO: 0.0053, Acc: 0.6966 | Val - Loss: 1.6548, Cls: 1.6538, GRQO: 0.0010, Acc: 0.4164\n",
      "[location_43] New best val acc: 0.4164\n"
     ]
    },
    {
     "name": "stderr",
     "output_type": "stream",
     "text": [
      "Evaluating: 100%|██████████| 32/32 [00:13<00:00,  2.39it/s]\n",
      "2025-10-11 04:14:23,264 | INFO | [location_43] Epoch 2/5 | Train - Loss: 0.3525, Cls: 0.3502, GRQO: 0.0023, Acc: 0.8819 | Val - Loss: 1.8119, Cls: 1.8114, GRQO: 0.0005, Acc: 0.4438\n",
      "2025-10-11 04:14:23,329 | INFO | [location_43] New best val acc: 0.4438\n"
     ]
    },
    {
     "name": "stdout",
     "output_type": "stream",
     "text": [
      "[location_43] Epoch 2/5 | Train - Loss: 0.3525, Cls: 0.3502, GRQO: 0.0023, Acc: 0.8819 | Val - Loss: 1.8119, Cls: 1.8114, GRQO: 0.0005, Acc: 0.4438\n",
      "[location_43] New best val acc: 0.4438\n"
     ]
    },
    {
     "name": "stderr",
     "output_type": "stream",
     "text": [
      "Evaluating: 100%|██████████| 32/32 [00:13<00:00,  2.39it/s]\n",
      "2025-10-11 04:15:11,431 | INFO | [location_43] Epoch 3/5 | Train - Loss: 0.1714, Cls: 0.1696, GRQO: 0.0018, Acc: 0.9428 | Val - Loss: 1.9449, Cls: 1.9446, GRQO: 0.0004, Acc: 0.4734\n",
      "2025-10-11 04:15:11,498 | INFO | [location_43] New best val acc: 0.4734\n"
     ]
    },
    {
     "name": "stdout",
     "output_type": "stream",
     "text": [
      "[location_43] Epoch 3/5 | Train - Loss: 0.1714, Cls: 0.1696, GRQO: 0.0018, Acc: 0.9428 | Val - Loss: 1.9449, Cls: 1.9446, GRQO: 0.0004, Acc: 0.4734\n",
      "[location_43] New best val acc: 0.4734\n"
     ]
    },
    {
     "name": "stderr",
     "output_type": "stream",
     "text": [
      "Evaluating: 100%|██████████| 32/32 [00:13<00:00,  2.39it/s]\n",
      "2025-10-11 04:15:59,537 | INFO | [location_43] Epoch 4/5 | Train - Loss: 0.1101, Cls: 0.1085, GRQO: 0.0015, Acc: 0.9651 | Val - Loss: 2.3192, Cls: 2.3188, GRQO: 0.0004, Acc: 0.4475\n"
     ]
    },
    {
     "name": "stdout",
     "output_type": "stream",
     "text": [
      "[location_43] Epoch 4/5 | Train - Loss: 0.1101, Cls: 0.1085, GRQO: 0.0015, Acc: 0.9651 | Val - Loss: 2.3192, Cls: 2.3188, GRQO: 0.0004, Acc: 0.4475\n"
     ]
    },
    {
     "name": "stderr",
     "output_type": "stream",
     "text": [
      "Evaluating: 100%|██████████| 32/32 [00:13<00:00,  2.39it/s]\n",
      "2025-10-11 04:16:47,565 | INFO | [location_43] Epoch 5/5 | Train - Loss: 0.0857, Cls: 0.0843, GRQO: 0.0014, Acc: 0.9729 | Val - Loss: 2.2816, Cls: 2.2811, GRQO: 0.0005, Acc: 0.4363\n",
      "2025-10-11 04:16:47,565 | INFO | [location_43] Best Acc: 0.4734\n",
      "2025-10-11 04:16:47,565 | INFO | ------------------------------------------------------------\n",
      "2025-10-11 04:16:47,680 | INFO | === LODO: Leaving out domain 'location_46' ===\n"
     ]
    },
    {
     "name": "stdout",
     "output_type": "stream",
     "text": [
      "[location_43] Epoch 5/5 | Train - Loss: 0.0857, Cls: 0.0843, GRQO: 0.0014, Acc: 0.9729 | Val - Loss: 2.2816, Cls: 2.2811, GRQO: 0.0005, Acc: 0.4363\n",
      "[location_43] Best Acc: 0.4734\n",
      "------------------------------------------------------------\n",
      "\n",
      "=== LODO: Leaving out domain 'location_46' ===\n"
     ]
    },
    {
     "name": "stderr",
     "output_type": "stream",
     "text": [
      "Evaluating: 100%|██████████| 48/48 [00:16<00:00,  2.96it/s]\n",
      "2025-10-11 04:17:35,864 | INFO | [location_46] Epoch 1/5 | Train - Loss: 0.8570, Cls: 0.8513, GRQO: 0.0058, Acc: 0.7060 | Val - Loss: 2.7175, Cls: 2.7165, GRQO: 0.0010, Acc: 0.2769\n",
      "2025-10-11 04:17:35,935 | INFO | [location_46] New best val acc: 0.2769\n"
     ]
    },
    {
     "name": "stdout",
     "output_type": "stream",
     "text": [
      "[location_46] Epoch 1/5 | Train - Loss: 0.8570, Cls: 0.8513, GRQO: 0.0058, Acc: 0.7060 | Val - Loss: 2.7175, Cls: 2.7165, GRQO: 0.0010, Acc: 0.2769\n",
      "[location_46] New best val acc: 0.2769\n"
     ]
    },
    {
     "name": "stderr",
     "output_type": "stream",
     "text": [
      "Evaluating: 100%|██████████| 48/48 [00:15<00:00,  3.08it/s]\n",
      "2025-10-11 04:18:23,947 | INFO | [location_46] Epoch 2/5 | Train - Loss: 0.2944, Cls: 0.2920, GRQO: 0.0024, Acc: 0.9052 | Val - Loss: 2.5788, Cls: 2.5781, GRQO: 0.0007, Acc: 0.3226\n",
      "2025-10-11 04:18:24,024 | INFO | [location_46] New best val acc: 0.3226\n"
     ]
    },
    {
     "name": "stdout",
     "output_type": "stream",
     "text": [
      "[location_46] Epoch 2/5 | Train - Loss: 0.2944, Cls: 0.2920, GRQO: 0.0024, Acc: 0.9052 | Val - Loss: 2.5788, Cls: 2.5781, GRQO: 0.0007, Acc: 0.3226\n",
      "[location_46] New best val acc: 0.3226\n"
     ]
    },
    {
     "name": "stderr",
     "output_type": "stream",
     "text": [
      "Evaluating: 100%|██████████| 48/48 [00:15<00:00,  3.08it/s]\n",
      "2025-10-11 04:19:11,919 | INFO | [location_46] Epoch 3/5 | Train - Loss: 0.1360, Cls: 0.1341, GRQO: 0.0019, Acc: 0.9561 | Val - Loss: 3.4212, Cls: 3.4207, GRQO: 0.0006, Acc: 0.2996\n"
     ]
    },
    {
     "name": "stdout",
     "output_type": "stream",
     "text": [
      "[location_46] Epoch 3/5 | Train - Loss: 0.1360, Cls: 0.1341, GRQO: 0.0019, Acc: 0.9561 | Val - Loss: 3.4212, Cls: 3.4207, GRQO: 0.0006, Acc: 0.2996\n"
     ]
    },
    {
     "name": "stderr",
     "output_type": "stream",
     "text": [
      "Evaluating: 100%|██████████| 48/48 [00:15<00:00,  3.06it/s]\n",
      "2025-10-11 04:19:59,423 | INFO | [location_46] Epoch 4/5 | Train - Loss: 0.0834, Cls: 0.0818, GRQO: 0.0016, Acc: 0.9735 | Val - Loss: 3.3676, Cls: 3.3672, GRQO: 0.0004, Acc: 0.3133\n"
     ]
    },
    {
     "name": "stdout",
     "output_type": "stream",
     "text": [
      "[location_46] Epoch 4/5 | Train - Loss: 0.0834, Cls: 0.0818, GRQO: 0.0016, Acc: 0.9735 | Val - Loss: 3.3676, Cls: 3.3672, GRQO: 0.0004, Acc: 0.3133\n"
     ]
    },
    {
     "name": "stderr",
     "output_type": "stream",
     "text": [
      "Evaluating: 100%|██████████| 48/48 [00:15<00:00,  3.05it/s]\n",
      "2025-10-11 04:20:47,146 | INFO | [location_46] Epoch 5/5 | Train - Loss: 0.0648, Cls: 0.0634, GRQO: 0.0014, Acc: 0.9802 | Val - Loss: 3.0067, Cls: 3.0063, GRQO: 0.0004, Acc: 0.3451\n",
      "2025-10-11 04:20:47,224 | INFO | [location_46] New best val acc: 0.3451\n",
      "2025-10-11 04:20:47,224 | INFO | [location_46] Best Acc: 0.3451\n",
      "2025-10-11 04:20:47,224 | INFO | ------------------------------------------------------------\n",
      "2025-10-11 04:20:47,343 | INFO | === LODO: Leaving out domain 'location_100' ===\n"
     ]
    },
    {
     "name": "stdout",
     "output_type": "stream",
     "text": [
      "[location_46] Epoch 5/5 | Train - Loss: 0.0648, Cls: 0.0634, GRQO: 0.0014, Acc: 0.9802 | Val - Loss: 3.0067, Cls: 3.0063, GRQO: 0.0004, Acc: 0.3451\n",
      "[location_46] New best val acc: 0.3451\n",
      "[location_46] Best Acc: 0.3451\n",
      "------------------------------------------------------------\n",
      "\n",
      "=== LODO: Leaving out domain 'location_100' ===\n"
     ]
    },
    {
     "name": "stderr",
     "output_type": "stream",
     "text": [
      "Evaluating: 100%|██████████| 39/39 [00:14<00:00,  2.62it/s]\n",
      "2025-10-11 04:21:38,076 | INFO | [location_100] Epoch 1/5 | Train - Loss: 0.9604, Cls: 0.9563, GRQO: 0.0041, Acc: 0.6647 | Val - Loss: 1.7643, Cls: 1.7635, GRQO: 0.0007, Acc: 0.4302\n",
      "2025-10-11 04:21:38,146 | INFO | [location_100] New best val acc: 0.4302\n"
     ]
    },
    {
     "name": "stdout",
     "output_type": "stream",
     "text": [
      "[location_100] Epoch 1/5 | Train - Loss: 0.9604, Cls: 0.9563, GRQO: 0.0041, Acc: 0.6647 | Val - Loss: 1.7643, Cls: 1.7635, GRQO: 0.0007, Acc: 0.4302\n",
      "[location_100] New best val acc: 0.4302\n"
     ]
    },
    {
     "name": "stderr",
     "output_type": "stream",
     "text": [
      "Evaluating: 100%|██████████| 39/39 [00:14<00:00,  2.70it/s]\n",
      "2025-10-11 04:22:26,580 | INFO | [location_100] Epoch 2/5 | Train - Loss: 0.3807, Cls: 0.3783, GRQO: 0.0023, Acc: 0.8741 | Val - Loss: 2.3025, Cls: 2.3018, GRQO: 0.0007, Acc: 0.4036\n"
     ]
    },
    {
     "name": "stdout",
     "output_type": "stream",
     "text": [
      "[location_100] Epoch 2/5 | Train - Loss: 0.3807, Cls: 0.3783, GRQO: 0.0023, Acc: 0.8741 | Val - Loss: 2.3025, Cls: 2.3018, GRQO: 0.0007, Acc: 0.4036\n"
     ]
    },
    {
     "name": "stderr",
     "output_type": "stream",
     "text": [
      "Evaluating: 100%|██████████| 39/39 [00:14<00:00,  2.69it/s]\n",
      "2025-10-11 04:23:14,703 | INFO | [location_100] Epoch 3/5 | Train - Loss: 0.1976, Cls: 0.1956, GRQO: 0.0020, Acc: 0.9344 | Val - Loss: 2.1218, Cls: 2.1213, GRQO: 0.0005, Acc: 0.5001\n",
      "2025-10-11 04:23:14,773 | INFO | [location_100] New best val acc: 0.5001\n"
     ]
    },
    {
     "name": "stdout",
     "output_type": "stream",
     "text": [
      "[location_100] Epoch 3/5 | Train - Loss: 0.1976, Cls: 0.1956, GRQO: 0.0020, Acc: 0.9344 | Val - Loss: 2.1218, Cls: 2.1213, GRQO: 0.0005, Acc: 0.5001\n",
      "[location_100] New best val acc: 0.5001\n"
     ]
    },
    {
     "name": "stderr",
     "output_type": "stream",
     "text": [
      "Evaluating: 100%|██████████| 39/39 [00:14<00:00,  2.70it/s]\n",
      "2025-10-11 04:24:02,663 | INFO | [location_100] Epoch 4/5 | Train - Loss: 0.1298, Cls: 0.1281, GRQO: 0.0017, Acc: 0.9579 | Val - Loss: 2.6894, Cls: 2.6892, GRQO: 0.0002, Acc: 0.4765\n"
     ]
    },
    {
     "name": "stdout",
     "output_type": "stream",
     "text": [
      "[location_100] Epoch 4/5 | Train - Loss: 0.1298, Cls: 0.1281, GRQO: 0.0017, Acc: 0.9579 | Val - Loss: 2.6894, Cls: 2.6892, GRQO: 0.0002, Acc: 0.4765\n"
     ]
    },
    {
     "name": "stderr",
     "output_type": "stream",
     "text": [
      "Evaluating: 100%|██████████| 39/39 [00:14<00:00,  2.68it/s]\n",
      "2025-10-11 04:24:50,913 | INFO | [location_100] Epoch 5/5 | Train - Loss: 0.0854, Cls: 0.0840, GRQO: 0.0014, Acc: 0.9726 | Val - Loss: 4.2394, Cls: 4.2393, GRQO: 0.0001, Acc: 0.3087\n",
      "2025-10-11 04:24:50,913 | INFO | [location_100] Best Acc: 0.5001\n",
      "2025-10-11 04:24:50,913 | INFO | ------------------------------------------------------------\n",
      "2025-10-11 04:24:50,929 | INFO | LODO finished | Mean Acc: 0.4243 | Summary saved to c:\\Users\\Fatim_Sproj\\Desktop\\Fatim\\Spring 2025\\sproj\\Visual-Reasoning\\Vit-GRQO\\resnet\\TerraIncognita\\logs\\lodo_summary_20251011_042450.json\n"
     ]
    },
    {
     "name": "stdout",
     "output_type": "stream",
     "text": [
      "[location_100] Epoch 5/5 | Train - Loss: 0.0854, Cls: 0.0840, GRQO: 0.0014, Acc: 0.9726 | Val - Loss: 4.2394, Cls: 4.2393, GRQO: 0.0001, Acc: 0.3087\n",
      "[location_100] Best Acc: 0.5001\n",
      "------------------------------------------------------------\n",
      "LODO finished | Mean Acc: 0.4243\n",
      "Summary saved to c:\\Users\\Fatim_Sproj\\Desktop\\Fatim\\Spring 2025\\sproj\\Visual-Reasoning\\Vit-GRQO\\resnet\\TerraIncognita\\logs\\lodo_summary_20251011_042450.json\n"
     ]
    }
   ],
   "source": [
    "lodo_results, lodo_mean, lodo_summary = run_lodo(\n",
    "    model_fn=model_factory,\n",
    "    CFG=CFG,\n",
    "    logger=logger,\n",
    "    dataset_key=\"TerraIncognita\",\n",
    "    domains=domains,\n",
    "    loaders=loaders,\n",
    "    optimizer_fn=optimizer_fn,\n",
    "    device=device,\n",
    "    ckpt_root=ckpt_root,\n",
    "    log_dir=log_dir,\n",
    "    epochs=epochs\n",
    ")"
   ]
  },
  {
   "cell_type": "markdown",
   "id": "008d21ac",
   "metadata": {},
   "source": [
    "### Baseline"
   ]
  },
  {
   "cell_type": "code",
   "execution_count": 6,
   "id": "060b18a4",
   "metadata": {},
   "outputs": [
    {
     "name": "stderr",
     "output_type": "stream",
     "text": [
      "2025-10-11 04:24:50,948 | INFO | Initializing ResNet baseline: resnet18\n",
      "2025-10-11 04:24:51,039 | INFO | === Baseline LODO: Leaving out domain 'location_38' ===\n"
     ]
    },
    {
     "name": "stdout",
     "output_type": "stream",
     "text": [
      "Initializing ResNet baseline: resnet18\n",
      "\n",
      "=== Baseline LODO: Leaving out domain 'location_38' ===\n"
     ]
    },
    {
     "name": "stderr",
     "output_type": "stream",
     "text": [
      "2025-10-11 04:25:38,079 | INFO | [location_38] Epoch 1/5 | Train - Loss: 0.8364, Acc: 0.7182 | Val Acc: 0.2226\n"
     ]
    },
    {
     "name": "stdout",
     "output_type": "stream",
     "text": [
      "[location_38] Epoch 1/5 | Train - Loss: 0.8364, Acc: 0.7182 | Val Acc: 0.2226\n"
     ]
    },
    {
     "name": "stderr",
     "output_type": "stream",
     "text": [
      "2025-10-11 04:26:25,651 | INFO | [location_38] Epoch 2/5 | Train - Loss: 0.2685, Acc: 0.9153 | Val Acc: 0.3980\n"
     ]
    },
    {
     "name": "stdout",
     "output_type": "stream",
     "text": [
      "[location_38] Epoch 2/5 | Train - Loss: 0.2685, Acc: 0.9153 | Val Acc: 0.3980\n"
     ]
    },
    {
     "name": "stderr",
     "output_type": "stream",
     "text": [
      "2025-10-11 04:27:15,709 | INFO | [location_38] Epoch 3/5 | Train - Loss: 0.1182, Acc: 0.9651 | Val Acc: 0.2681\n"
     ]
    },
    {
     "name": "stdout",
     "output_type": "stream",
     "text": [
      "[location_38] Epoch 3/5 | Train - Loss: 0.1182, Acc: 0.9651 | Val Acc: 0.2681\n"
     ]
    },
    {
     "name": "stderr",
     "output_type": "stream",
     "text": [
      "2025-10-11 04:28:03,092 | INFO | [location_38] Epoch 4/5 | Train - Loss: 0.0633, Acc: 0.9814 | Val Acc: 0.3135\n"
     ]
    },
    {
     "name": "stdout",
     "output_type": "stream",
     "text": [
      "[location_38] Epoch 4/5 | Train - Loss: 0.0633, Acc: 0.9814 | Val Acc: 0.3135\n"
     ]
    },
    {
     "name": "stderr",
     "output_type": "stream",
     "text": [
      "2025-10-11 04:29:03,819 | INFO | [location_38] Epoch 5/5 | Train - Loss: 0.0392, Acc: 0.9889 | Val Acc: 0.3646\n",
      "2025-10-11 04:29:03,829 | INFO | [location_38] Best Val Acc: 0.3980\n",
      "2025-10-11 04:29:03,830 | INFO | ------------------------------------------------------------\n",
      "2025-10-11 04:29:03,831 | INFO | Initializing ResNet baseline: resnet18\n"
     ]
    },
    {
     "name": "stdout",
     "output_type": "stream",
     "text": [
      "[location_38] Epoch 5/5 | Train - Loss: 0.0392, Acc: 0.9889 | Val Acc: 0.3646\n",
      "[location_38] Best Val Acc: 0.3980\n",
      "------------------------------------------------------------\n",
      "Initializing ResNet baseline: resnet18\n",
      "\n",
      "=== Baseline LODO: Leaving out domain 'location_43' ===\n"
     ]
    },
    {
     "name": "stderr",
     "output_type": "stream",
     "text": [
      "2025-10-11 04:29:04,026 | INFO | === Baseline LODO: Leaving out domain 'location_43' ===\n",
      "2025-10-11 04:29:59,199 | INFO | [location_43] Epoch 1/5 | Train - Loss: 0.7189, Acc: 0.7612 | Val Acc: 0.4229\n"
     ]
    },
    {
     "name": "stdout",
     "output_type": "stream",
     "text": [
      "[location_43] Epoch 1/5 | Train - Loss: 0.7189, Acc: 0.7612 | Val Acc: 0.4229\n"
     ]
    },
    {
     "name": "stderr",
     "output_type": "stream",
     "text": [
      "2025-10-11 04:30:47,459 | INFO | [location_43] Epoch 2/5 | Train - Loss: 0.2269, Acc: 0.9290 | Val Acc: 0.4592\n"
     ]
    },
    {
     "name": "stdout",
     "output_type": "stream",
     "text": [
      "[location_43] Epoch 2/5 | Train - Loss: 0.2269, Acc: 0.9290 | Val Acc: 0.4592\n"
     ]
    },
    {
     "name": "stderr",
     "output_type": "stream",
     "text": [
      "2025-10-11 04:31:36,521 | INFO | [location_43] Epoch 3/5 | Train - Loss: 0.0992, Acc: 0.9699 | Val Acc: 0.4542\n"
     ]
    },
    {
     "name": "stdout",
     "output_type": "stream",
     "text": [
      "[location_43] Epoch 3/5 | Train - Loss: 0.0992, Acc: 0.9699 | Val Acc: 0.4542\n"
     ]
    },
    {
     "name": "stderr",
     "output_type": "stream",
     "text": [
      "2025-10-11 04:32:24,974 | INFO | [location_43] Epoch 4/5 | Train - Loss: 0.0552, Acc: 0.9836 | Val Acc: 0.4878\n"
     ]
    },
    {
     "name": "stdout",
     "output_type": "stream",
     "text": [
      "[location_43] Epoch 4/5 | Train - Loss: 0.0552, Acc: 0.9836 | Val Acc: 0.4878\n"
     ]
    },
    {
     "name": "stderr",
     "output_type": "stream",
     "text": [
      "2025-10-11 04:33:28,462 | INFO | [location_43] Epoch 5/5 | Train - Loss: 0.0352, Acc: 0.9900 | Val Acc: 0.4714\n",
      "2025-10-11 04:33:28,477 | INFO | [location_43] Best Val Acc: 0.4878\n",
      "2025-10-11 04:33:28,478 | INFO | ------------------------------------------------------------\n",
      "2025-10-11 04:33:28,480 | INFO | Initializing ResNet baseline: resnet18\n"
     ]
    },
    {
     "name": "stdout",
     "output_type": "stream",
     "text": [
      "[location_43] Epoch 5/5 | Train - Loss: 0.0352, Acc: 0.9900 | Val Acc: 0.4714\n",
      "[location_43] Best Val Acc: 0.4878\n",
      "------------------------------------------------------------\n",
      "Initializing ResNet baseline: resnet18\n"
     ]
    },
    {
     "name": "stderr",
     "output_type": "stream",
     "text": [
      "2025-10-11 04:33:28,664 | INFO | === Baseline LODO: Leaving out domain 'location_46' ===\n"
     ]
    },
    {
     "name": "stdout",
     "output_type": "stream",
     "text": [
      "\n",
      "=== Baseline LODO: Leaving out domain 'location_46' ===\n"
     ]
    },
    {
     "name": "stderr",
     "output_type": "stream",
     "text": [
      "2025-10-11 04:34:31,928 | INFO | [location_46] Epoch 1/5 | Train - Loss: 0.6574, Acc: 0.7845 | Val Acc: 0.3076\n"
     ]
    },
    {
     "name": "stdout",
     "output_type": "stream",
     "text": [
      "[location_46] Epoch 1/5 | Train - Loss: 0.6574, Acc: 0.7845 | Val Acc: 0.3076\n"
     ]
    },
    {
     "name": "stderr",
     "output_type": "stream",
     "text": [
      "2025-10-11 04:35:19,954 | INFO | [location_46] Epoch 2/5 | Train - Loss: 0.1786, Acc: 0.9450 | Val Acc: 0.3376\n"
     ]
    },
    {
     "name": "stdout",
     "output_type": "stream",
     "text": [
      "[location_46] Epoch 2/5 | Train - Loss: 0.1786, Acc: 0.9450 | Val Acc: 0.3376\n"
     ]
    },
    {
     "name": "stderr",
     "output_type": "stream",
     "text": [
      "2025-10-11 04:36:13,776 | INFO | [location_46] Epoch 3/5 | Train - Loss: 0.0696, Acc: 0.9796 | Val Acc: 0.3438\n"
     ]
    },
    {
     "name": "stdout",
     "output_type": "stream",
     "text": [
      "[location_46] Epoch 3/5 | Train - Loss: 0.0696, Acc: 0.9796 | Val Acc: 0.3438\n"
     ]
    },
    {
     "name": "stderr",
     "output_type": "stream",
     "text": [
      "2025-10-11 04:37:06,761 | INFO | [location_46] Epoch 4/5 | Train - Loss: 0.0400, Acc: 0.9886 | Val Acc: 0.3654\n"
     ]
    },
    {
     "name": "stdout",
     "output_type": "stream",
     "text": [
      "[location_46] Epoch 4/5 | Train - Loss: 0.0400, Acc: 0.9886 | Val Acc: 0.3654\n"
     ]
    },
    {
     "name": "stderr",
     "output_type": "stream",
     "text": [
      "2025-10-11 04:37:55,267 | INFO | [location_46] Epoch 5/5 | Train - Loss: 0.0254, Acc: 0.9926 | Val Acc: 0.3670\n",
      "2025-10-11 04:37:55,268 | INFO | [location_46] Best Val Acc: 0.3670\n",
      "2025-10-11 04:37:55,269 | INFO | ------------------------------------------------------------\n",
      "2025-10-11 04:37:55,269 | INFO | Initializing ResNet baseline: resnet18\n",
      "2025-10-11 04:37:55,347 | INFO | === Baseline LODO: Leaving out domain 'location_100' ===\n"
     ]
    },
    {
     "name": "stdout",
     "output_type": "stream",
     "text": [
      "[location_46] Epoch 5/5 | Train - Loss: 0.0254, Acc: 0.9926 | Val Acc: 0.3670\n",
      "[location_46] Best Val Acc: 0.3670\n",
      "------------------------------------------------------------\n",
      "Initializing ResNet baseline: resnet18\n",
      "\n",
      "=== Baseline LODO: Leaving out domain 'location_100' ===\n"
     ]
    },
    {
     "name": "stderr",
     "output_type": "stream",
     "text": [
      "2025-10-11 04:38:53,846 | INFO | [location_100] Epoch 1/5 | Train - Loss: 0.8088, Acc: 0.7282 | Val Acc: 0.4663\n"
     ]
    },
    {
     "name": "stdout",
     "output_type": "stream",
     "text": [
      "[location_100] Epoch 1/5 | Train - Loss: 0.8088, Acc: 0.7282 | Val Acc: 0.4663\n"
     ]
    },
    {
     "name": "stderr",
     "output_type": "stream",
     "text": [
      "2025-10-11 04:39:44,707 | INFO | [location_100] Epoch 2/5 | Train - Loss: 0.2614, Acc: 0.9173 | Val Acc: 0.4610\n"
     ]
    },
    {
     "name": "stdout",
     "output_type": "stream",
     "text": [
      "[location_100] Epoch 2/5 | Train - Loss: 0.2614, Acc: 0.9173 | Val Acc: 0.4610\n"
     ]
    },
    {
     "name": "stderr",
     "output_type": "stream",
     "text": [
      "2025-10-11 04:40:32,600 | INFO | [location_100] Epoch 3/5 | Train - Loss: 0.1153, Acc: 0.9658 | Val Acc: 0.4212\n"
     ]
    },
    {
     "name": "stdout",
     "output_type": "stream",
     "text": [
      "[location_100] Epoch 3/5 | Train - Loss: 0.1153, Acc: 0.9658 | Val Acc: 0.4212\n"
     ]
    },
    {
     "name": "stderr",
     "output_type": "stream",
     "text": [
      "2025-10-11 04:41:20,459 | INFO | [location_100] Epoch 4/5 | Train - Loss: 0.0672, Acc: 0.9805 | Val Acc: 0.4423\n"
     ]
    },
    {
     "name": "stdout",
     "output_type": "stream",
     "text": [
      "[location_100] Epoch 4/5 | Train - Loss: 0.0672, Acc: 0.9805 | Val Acc: 0.4423\n"
     ]
    },
    {
     "name": "stderr",
     "output_type": "stream",
     "text": [
      "2025-10-11 04:42:27,473 | INFO | [location_100] Epoch 5/5 | Train - Loss: 0.0391, Acc: 0.9885 | Val Acc: 0.4669\n",
      "2025-10-11 04:42:27,473 | INFO | [location_100] Best Val Acc: 0.4669\n",
      "2025-10-11 04:42:27,474 | INFO | ------------------------------------------------------------\n",
      "2025-10-11 04:42:27,474 | INFO | Baseline LODO (resnet18) finished | Mean Acc: 0.4299\n"
     ]
    },
    {
     "name": "stdout",
     "output_type": "stream",
     "text": [
      "[location_100] Epoch 5/5 | Train - Loss: 0.0391, Acc: 0.9885 | Val Acc: 0.4669\n",
      "[location_100] Best Val Acc: 0.4669\n",
      "------------------------------------------------------------\n",
      "Baseline LODO (resnet18) finished | Mean Acc: 0.4299\n"
     ]
    }
   ],
   "source": [
    "model_name =\"resnet18\"\n",
    "baseline_results, baseline_mean = run_baseline(\n",
    "    model_name=model_name,\n",
    "    CFG=CFG,\n",
    "    logger=logger,\n",
    "    dataset_key=\"TerraIncognita\",\n",
    "    domains=domains,\n",
    "    loaders=loaders,\n",
    "    optimizer_fn=optimizer_fn,\n",
    "    device=device,\n",
    "    epochs=CFG[\"train\"][\"epochs\"]\n",
    ")\n"
   ]
  }
 ],
 "metadata": {
  "kernelspec": {
   "display_name": "bacp",
   "language": "python",
   "name": "python3"
  },
  "language_info": {
   "codemirror_mode": {
    "name": "ipython",
    "version": 3
   },
   "file_extension": ".py",
   "mimetype": "text/x-python",
   "name": "python",
   "nbconvert_exporter": "python",
   "pygments_lexer": "ipython3",
   "version": "3.10.16"
  }
 },
 "nbformat": 4,
 "nbformat_minor": 5
}
