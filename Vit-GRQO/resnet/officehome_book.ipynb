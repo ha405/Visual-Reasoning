{
 "cells": [
  {
   "cell_type": "markdown",
   "id": "7aeb725f",
   "metadata": {},
   "source": [
    "### Imports"
   ]
  },
  {
   "cell_type": "code",
   "execution_count": 1,
   "id": "e407742a",
   "metadata": {},
   "outputs": [
    {
     "name": "stdout",
     "output_type": "stream",
     "text": [
      "Device: cuda\n",
      "PyTorch: 2.5.1+cu121\n"
     ]
    }
   ],
   "source": [
    "import sys\n",
    "sys.dont_write_bytecode = True\n",
    "\n",
    "\n",
    "import torch\n",
    "import numpy as np\n",
    "import random\n",
    "import os\n",
    "\n",
    "def set_seeds(seed_value=42):\n",
    "    \"\"\"Sets seeds for reproducibility.\"\"\"\n",
    "    random.seed(seed_value)\n",
    "    np.random.seed(seed_value)\n",
    "    torch.manual_seed(seed_value)\n",
    "    os.environ['PYTHONHASHSEED'] = str(seed_value)\n",
    "    \n",
    "    if torch.cuda.is_available():\n",
    "        torch.cuda.manual_seed(seed_value)\n",
    "\n",
    "set_seeds(42) \n",
    "\n",
    "import json\n",
    "import torch.nn as nn\n",
    "import torch.optim as optim\n",
    "from tqdm import tqdm\n",
    "import warnings\n",
    "import logging\n",
    "from datetime import datetime\n",
    "warnings.filterwarnings('ignore')\n",
    "\n",
    "from model import get_model\n",
    "from config import CFG\n",
    "from dataset import OfficeHomeDataset\n",
    "from plot import plot_domainwise_accuracy\n",
    "from transform import get_transforms\n",
    "from runner import run_baseline, run_lodo\n",
    "\n",
    "torch.manual_seed(CFG[\"system\"][\"seed\"])\n",
    "np.random.seed(CFG[\"system\"][\"seed\"])\n",
    "\n",
    "device = CFG[\"system\"][\"device\"]\n",
    "print(f\"Device: {device}\")\n",
    "print(f\"PyTorch: {torch.__version__}\")\n"
   ]
  },
  {
   "cell_type": "markdown",
   "id": "d617af05",
   "metadata": {},
   "source": [
    "### DataLoading"
   ]
  },
  {
   "cell_type": "code",
   "execution_count": 2,
   "id": "3e673c0a",
   "metadata": {},
   "outputs": [
    {
     "name": "stdout",
     "output_type": "stream",
     "text": [
      "\n",
      "Data loaders ready!\n"
     ]
    }
   ],
   "source": [
    "train_transform, test_transform = get_transforms(img_size=224, augment=False, use_imagenet_norm=False)\n",
    "\n",
    "oh = OfficeHomeDataset(\n",
    "    data_root=CFG[\"datasets\"][\"OfficeHome\"][\"root\"],\n",
    "    transform=train_transform,\n",
    "    batch_size=CFG[\"train\"][\"batch_size\"]\n",
    ")\n",
    "\n",
    "print(\"\\nData loaders ready!\")"
   ]
  },
  {
   "cell_type": "markdown",
   "id": "e5a3d318",
   "metadata": {},
   "source": [
    "### Logging"
   ]
  },
  {
   "cell_type": "code",
   "execution_count": 3,
   "id": "f01fd7aa",
   "metadata": {},
   "outputs": [
    {
     "name": "stderr",
     "output_type": "stream",
     "text": [
      "2025-10-10 17:51:34,890 | INFO | Initialized experiment directories for OfficeHome\n",
      "2025-10-10 17:51:34,892 | INFO | Logs: c:\\Users\\Fatim_Sproj\\Desktop\\Fatim\\Spring 2025\\sproj\\Visual-Reasoning\\Vit-GRQO\\resnet\\OfficeHome\\logs\n",
      "2025-10-10 17:51:34,892 | INFO | Checkpoints: c:\\Users\\Fatim_Sproj\\Desktop\\Fatim\\Spring 2025\\sproj\\Visual-Reasoning\\Vit-GRQO\\resnet\\OfficeHome\\checkpoints\n",
      "2025-10-10 17:51:34,892 | INFO | Plots: c:\\Users\\Fatim_Sproj\\Desktop\\Fatim\\Spring 2025\\sproj\\Visual-Reasoning\\Vit-GRQO\\resnet\\OfficeHome\\plots\n"
     ]
    }
   ],
   "source": [
    "dataset_name = \"OfficeHome\" \n",
    "base_dir = os.path.join(os.getcwd(), dataset_name)\n",
    "subdirs = [\"logs\", \"checkpoints\", \"plots\"]\n",
    "\n",
    "for sub in subdirs:\n",
    "    os.makedirs(os.path.join(base_dir, sub), exist_ok=True)\n",
    "\n",
    "timestamp = datetime.now().strftime(\"%Y-%m-%d_%H-%M-%S\")\n",
    "log_file = os.path.join(base_dir, \"logs\", f\"train_{timestamp}.log\")\n",
    "\n",
    "logging.basicConfig(\n",
    "    level=logging.INFO,\n",
    "    format=\"%(asctime)s | %(levelname)s | %(message)s\",\n",
    "    handlers=[\n",
    "        logging.FileHandler(log_file),\n",
    "        logging.StreamHandler()\n",
    "    ]\n",
    ")\n",
    "\n",
    "logger = logging.getLogger(f\"{dataset_name}_logger\")\n",
    "\n",
    "logger.info(f\"Initialized experiment directories for {dataset_name}\")\n",
    "logger.info(f\"Logs: {os.path.join(base_dir, 'logs')}\")\n",
    "logger.info(f\"Checkpoints: {os.path.join(base_dir, 'checkpoints')}\")\n",
    "logger.info(f\"Plots: {os.path.join(base_dir, 'plots')}\")"
   ]
  },
  {
   "cell_type": "markdown",
   "id": "47398d2c",
   "metadata": {},
   "source": [
    "### Setup"
   ]
  },
  {
   "cell_type": "code",
   "execution_count": 4,
   "id": "450d7f06",
   "metadata": {},
   "outputs": [],
   "source": [
    "domains = CFG[\"datasets\"][\"OfficeHome\"][\"domains\"]\n",
    "loaders = {d: {\"train\": oh.get_dataloader(d, train=True), \"val\": oh.get_dataloader(d, train=False)} for d in domains}\n",
    "ckpt_root = os.path.join(base_dir, \"checkpoints\")\n",
    "log_dir = os.path.join(base_dir, \"logs\")\n",
    "plots_dir = os.path.join(base_dir, \"plots\")\n",
    "os.makedirs(ckpt_root, exist_ok=True)\n",
    "os.makedirs(log_dir, exist_ok=True)\n",
    "os.makedirs(plots_dir, exist_ok=True)\n",
    "model_factory = lambda cfg, dataset_key: get_model(cfg,dataset=\"OfficeHome\")\n",
    "optimizer_fn = lambda model: optim.AdamW(model.parameters(), lr=CFG[\"train\"][\"lr\"], weight_decay=CFG[\"train\"].get(\"weight_decay\", 0.01))\n",
    "device = CFG[\"system\"][\"device\"]\n",
    "epochs = CFG[\"train\"][\"epochs\"]\n"
   ]
  },
  {
   "cell_type": "markdown",
   "id": "2d8dafe9",
   "metadata": {},
   "source": [
    "{\n",
    "  \"lodo_results\": {\n",
    "    \"art_painting\": 0.8341463414634146,\n",
    "    \"cartoon\": 0.7974413646055437,\n",
    "    \"photo\": 0.9580838323353293,\n",
    "    \"sketch\": 0.6017811704834606\n",
    "  },\n",
    "  \"timestamp\": \"20251004_020611\"\n",
    "}"
   ]
  },
  {
   "cell_type": "markdown",
   "id": "4931c868",
   "metadata": {},
   "source": [
    "### Leave One Domain Out"
   ]
  },
  {
   "cell_type": "code",
   "execution_count": 5,
   "id": "c0344437",
   "metadata": {},
   "outputs": [
    {
     "name": "stderr",
     "output_type": "stream",
     "text": [
      "2025-10-10 17:51:35,271 | INFO | === LODO: Leaving out domain 'Art' ===\n"
     ]
    },
    {
     "name": "stdout",
     "output_type": "stream",
     "text": [
      "\n",
      "=== LODO: Leaving out domain 'Art' ===\n"
     ]
    },
    {
     "name": "stderr",
     "output_type": "stream",
     "text": [
      "Evaluating: 100%|██████████| 19/19 [00:14<00:00,  1.36it/s]\n",
      "2025-10-10 17:52:23,127 | INFO | [Art] Epoch 1/5 | Train - Loss: 2.4442, Cls: 2.4358, GRQO: 0.0084, Acc: 0.4679 | Val - Loss: 1.9780, Cls: 1.9755, GRQO: 0.0025, Acc: 0.5262\n",
      "2025-10-10 17:52:23,304 | INFO | [Art] New best val acc: 0.5262\n"
     ]
    },
    {
     "name": "stdout",
     "output_type": "stream",
     "text": [
      "[Art] Epoch 1/5 | Train - Loss: 2.4442, Cls: 2.4358, GRQO: 0.0084, Acc: 0.4679 | Val - Loss: 1.9780, Cls: 1.9755, GRQO: 0.0025, Acc: 0.5262\n",
      "[Art] New best val acc: 0.5262\n"
     ]
    },
    {
     "name": "stderr",
     "output_type": "stream",
     "text": [
      "Evaluating: 100%|██████████| 19/19 [00:13<00:00,  1.46it/s]\n",
      "2025-10-10 17:53:11,667 | INFO | [Art] Epoch 2/5 | Train - Loss: 0.7455, Cls: 0.7413, GRQO: 0.0042, Acc: 0.8268 | Val - Loss: 1.8144, Cls: 1.8128, GRQO: 0.0015, Acc: 0.5501\n",
      "2025-10-10 17:53:11,778 | INFO | [Art] New best val acc: 0.5501\n"
     ]
    },
    {
     "name": "stdout",
     "output_type": "stream",
     "text": [
      "[Art] Epoch 2/5 | Train - Loss: 0.7455, Cls: 0.7413, GRQO: 0.0042, Acc: 0.8268 | Val - Loss: 1.8144, Cls: 1.8128, GRQO: 0.0015, Acc: 0.5501\n",
      "[Art] New best val acc: 0.5501\n"
     ]
    },
    {
     "name": "stderr",
     "output_type": "stream",
     "text": [
      "Evaluating: 100%|██████████| 19/19 [00:13<00:00,  1.46it/s]\n",
      "2025-10-10 17:54:00,429 | INFO | [Art] Epoch 3/5 | Train - Loss: 0.2899, Cls: 0.2864, GRQO: 0.0035, Acc: 0.9377 | Val - Loss: 1.8551, Cls: 1.8541, GRQO: 0.0010, Acc: 0.5459\n"
     ]
    },
    {
     "name": "stdout",
     "output_type": "stream",
     "text": [
      "[Art] Epoch 3/5 | Train - Loss: 0.2899, Cls: 0.2864, GRQO: 0.0035, Acc: 0.9377 | Val - Loss: 1.8551, Cls: 1.8541, GRQO: 0.0010, Acc: 0.5459\n"
     ]
    },
    {
     "name": "stderr",
     "output_type": "stream",
     "text": [
      "Evaluating: 100%|██████████| 19/19 [00:13<00:00,  1.44it/s]\n",
      "2025-10-10 17:54:48,742 | INFO | [Art] Epoch 4/5 | Train - Loss: 0.1241, Cls: 0.1211, GRQO: 0.0030, Acc: 0.9773 | Val - Loss: 1.8404, Cls: 1.8397, GRQO: 0.0007, Acc: 0.5715\n",
      "2025-10-10 17:54:48,941 | INFO | [Art] New best val acc: 0.5715\n"
     ]
    },
    {
     "name": "stdout",
     "output_type": "stream",
     "text": [
      "[Art] Epoch 4/5 | Train - Loss: 0.1241, Cls: 0.1211, GRQO: 0.0030, Acc: 0.9773 | Val - Loss: 1.8404, Cls: 1.8397, GRQO: 0.0007, Acc: 0.5715\n",
      "[Art] New best val acc: 0.5715\n"
     ]
    },
    {
     "name": "stderr",
     "output_type": "stream",
     "text": [
      "Evaluating: 100%|██████████| 19/19 [00:10<00:00,  1.74it/s]\n",
      "2025-10-10 17:55:25,287 | INFO | [Art] Epoch 5/5 | Train - Loss: 0.0678, Cls: 0.0652, GRQO: 0.0026, Acc: 0.9883 | Val - Loss: 1.8458, Cls: 1.8452, GRQO: 0.0006, Acc: 0.5715\n",
      "2025-10-10 17:55:25,287 | INFO | [Art] Best Acc: 0.5715\n",
      "2025-10-10 17:55:25,287 | INFO | ------------------------------------------------------------\n",
      "2025-10-10 17:55:25,404 | INFO | === LODO: Leaving out domain 'Clipart' ===\n"
     ]
    },
    {
     "name": "stdout",
     "output_type": "stream",
     "text": [
      "[Art] Epoch 5/5 | Train - Loss: 0.0678, Cls: 0.0652, GRQO: 0.0026, Acc: 0.9883 | Val - Loss: 1.8458, Cls: 1.8452, GRQO: 0.0006, Acc: 0.5715\n",
      "[Art] Best Acc: 0.5715\n",
      "------------------------------------------------------------\n",
      "\n",
      "=== LODO: Leaving out domain 'Clipart' ===\n"
     ]
    },
    {
     "name": "stderr",
     "output_type": "stream",
     "text": [
      "Evaluating: 100%|██████████| 35/35 [00:10<00:00,  3.25it/s]\n",
      "2025-10-10 17:56:01,002 | INFO | [Clipart] Epoch 1/5 | Train - Loss: 2.5141, Cls: 2.5054, GRQO: 0.0087, Acc: 0.4689 | Val - Loss: 2.3610, Cls: 2.3588, GRQO: 0.0022, Acc: 0.4296\n",
      "2025-10-10 17:56:01,069 | INFO | [Clipart] New best val acc: 0.4296\n"
     ]
    },
    {
     "name": "stdout",
     "output_type": "stream",
     "text": [
      "[Clipart] Epoch 1/5 | Train - Loss: 2.5141, Cls: 2.5054, GRQO: 0.0087, Acc: 0.4689 | Val - Loss: 2.3610, Cls: 2.3588, GRQO: 0.0022, Acc: 0.4296\n",
      "[Clipart] New best val acc: 0.4296\n"
     ]
    },
    {
     "name": "stderr",
     "output_type": "stream",
     "text": [
      "Evaluating: 100%|██████████| 35/35 [00:10<00:00,  3.25it/s]\n",
      "2025-10-10 17:56:37,237 | INFO | [Clipart] Epoch 2/5 | Train - Loss: 0.7846, Cls: 0.7807, GRQO: 0.0039, Acc: 0.8209 | Val - Loss: 2.1789, Cls: 2.1771, GRQO: 0.0018, Acc: 0.4754\n",
      "2025-10-10 17:56:37,305 | INFO | [Clipart] New best val acc: 0.4754\n"
     ]
    },
    {
     "name": "stdout",
     "output_type": "stream",
     "text": [
      "[Clipart] Epoch 2/5 | Train - Loss: 0.7846, Cls: 0.7807, GRQO: 0.0039, Acc: 0.8209 | Val - Loss: 2.1789, Cls: 2.1771, GRQO: 0.0018, Acc: 0.4754\n",
      "[Clipart] New best val acc: 0.4754\n"
     ]
    },
    {
     "name": "stderr",
     "output_type": "stream",
     "text": [
      "Evaluating: 100%|██████████| 35/35 [00:10<00:00,  3.25it/s]\n",
      "2025-10-10 17:57:13,137 | INFO | [Clipart] Epoch 3/5 | Train - Loss: 0.2903, Cls: 0.2870, GRQO: 0.0033, Acc: 0.9423 | Val - Loss: 2.3075, Cls: 2.3062, GRQO: 0.0013, Acc: 0.4708\n"
     ]
    },
    {
     "name": "stdout",
     "output_type": "stream",
     "text": [
      "[Clipart] Epoch 3/5 | Train - Loss: 0.2903, Cls: 0.2870, GRQO: 0.0033, Acc: 0.9423 | Val - Loss: 2.3075, Cls: 2.3062, GRQO: 0.0013, Acc: 0.4708\n"
     ]
    },
    {
     "name": "stderr",
     "output_type": "stream",
     "text": [
      "Evaluating: 100%|██████████| 35/35 [00:10<00:00,  3.26it/s]\n",
      "2025-10-10 17:57:52,152 | INFO | [Clipart] Epoch 4/5 | Train - Loss: 0.1090, Cls: 0.1061, GRQO: 0.0029, Acc: 0.9846 | Val - Loss: 2.2642, Cls: 2.2631, GRQO: 0.0011, Acc: 0.4910\n",
      "2025-10-10 17:57:52,220 | INFO | [Clipart] New best val acc: 0.4910\n"
     ]
    },
    {
     "name": "stdout",
     "output_type": "stream",
     "text": [
      "[Clipart] Epoch 4/5 | Train - Loss: 0.1090, Cls: 0.1061, GRQO: 0.0029, Acc: 0.9846 | Val - Loss: 2.2642, Cls: 2.2631, GRQO: 0.0011, Acc: 0.4910\n",
      "[Clipart] New best val acc: 0.4910\n"
     ]
    },
    {
     "name": "stderr",
     "output_type": "stream",
     "text": [
      "Evaluating: 100%|██████████| 35/35 [00:10<00:00,  3.26it/s]\n",
      "2025-10-10 17:58:27,786 | INFO | [Clipart] Epoch 5/5 | Train - Loss: 0.0510, Cls: 0.0485, GRQO: 0.0026, Acc: 0.9939 | Val - Loss: 2.3484, Cls: 2.3474, GRQO: 0.0010, Acc: 0.4836\n",
      "2025-10-10 17:58:27,786 | INFO | [Clipart] Best Acc: 0.4910\n",
      "2025-10-10 17:58:27,786 | INFO | ------------------------------------------------------------\n",
      "2025-10-10 17:58:27,920 | INFO | === LODO: Leaving out domain 'Product' ===\n"
     ]
    },
    {
     "name": "stdout",
     "output_type": "stream",
     "text": [
      "[Clipart] Epoch 5/5 | Train - Loss: 0.0510, Cls: 0.0485, GRQO: 0.0026, Acc: 0.9939 | Val - Loss: 2.3484, Cls: 2.3474, GRQO: 0.0010, Acc: 0.4836\n",
      "[Clipart] Best Acc: 0.4910\n",
      "------------------------------------------------------------\n",
      "\n",
      "=== LODO: Leaving out domain 'Product' ===\n"
     ]
    },
    {
     "name": "stderr",
     "output_type": "stream",
     "text": [
      "Evaluating: 100%|██████████| 35/35 [00:10<00:00,  3.25it/s]\n",
      "2025-10-10 17:59:04,387 | INFO | [Product] Epoch 1/5 | Train - Loss: 2.8097, Cls: 2.8011, GRQO: 0.0086, Acc: 0.3678 | Val - Loss: 1.6736, Cls: 1.6717, GRQO: 0.0019, Acc: 0.5686\n",
      "2025-10-10 17:59:04,465 | INFO | [Product] New best val acc: 0.5686\n"
     ]
    },
    {
     "name": "stdout",
     "output_type": "stream",
     "text": [
      "[Product] Epoch 1/5 | Train - Loss: 2.8097, Cls: 2.8011, GRQO: 0.0086, Acc: 0.3678 | Val - Loss: 1.6736, Cls: 1.6717, GRQO: 0.0019, Acc: 0.5686\n",
      "[Product] New best val acc: 0.5686\n"
     ]
    },
    {
     "name": "stderr",
     "output_type": "stream",
     "text": [
      "Evaluating: 100%|██████████| 35/35 [00:10<00:00,  3.21it/s]\n",
      "2025-10-10 17:59:40,805 | INFO | [Product] Epoch 2/5 | Train - Loss: 1.0346, Cls: 1.0305, GRQO: 0.0041, Acc: 0.7603 | Val - Loss: 1.1755, Cls: 1.1744, GRQO: 0.0012, Acc: 0.6948\n",
      "2025-10-10 17:59:40,873 | INFO | [Product] New best val acc: 0.6948\n"
     ]
    },
    {
     "name": "stdout",
     "output_type": "stream",
     "text": [
      "[Product] Epoch 2/5 | Train - Loss: 1.0346, Cls: 1.0305, GRQO: 0.0041, Acc: 0.7603 | Val - Loss: 1.1755, Cls: 1.1744, GRQO: 0.0012, Acc: 0.6948\n",
      "[Product] New best val acc: 0.6948\n"
     ]
    },
    {
     "name": "stderr",
     "output_type": "stream",
     "text": [
      "Evaluating: 100%|██████████| 35/35 [00:10<00:00,  3.25it/s]\n",
      "2025-10-10 18:00:16,570 | INFO | [Product] Epoch 3/5 | Train - Loss: 0.4291, Cls: 0.4256, GRQO: 0.0034, Acc: 0.9063 | Val - Loss: 1.1263, Cls: 1.1253, GRQO: 0.0010, Acc: 0.7098\n",
      "2025-10-10 18:00:16,639 | INFO | [Product] New best val acc: 0.7098\n"
     ]
    },
    {
     "name": "stdout",
     "output_type": "stream",
     "text": [
      "[Product] Epoch 3/5 | Train - Loss: 0.4291, Cls: 0.4256, GRQO: 0.0034, Acc: 0.9063 | Val - Loss: 1.1263, Cls: 1.1253, GRQO: 0.0010, Acc: 0.7098\n",
      "[Product] New best val acc: 0.7098\n"
     ]
    },
    {
     "name": "stderr",
     "output_type": "stream",
     "text": [
      "Evaluating: 100%|██████████| 35/35 [00:10<00:00,  3.20it/s]\n",
      "2025-10-10 18:00:52,760 | INFO | [Product] Epoch 4/5 | Train - Loss: 0.1782, Cls: 0.1752, GRQO: 0.0030, Acc: 0.9691 | Val - Loss: 1.1180, Cls: 1.1173, GRQO: 0.0007, Acc: 0.7121\n",
      "2025-10-10 18:00:52,825 | INFO | [Product] New best val acc: 0.7121\n"
     ]
    },
    {
     "name": "stdout",
     "output_type": "stream",
     "text": [
      "[Product] Epoch 4/5 | Train - Loss: 0.1782, Cls: 0.1752, GRQO: 0.0030, Acc: 0.9691 | Val - Loss: 1.1180, Cls: 1.1173, GRQO: 0.0007, Acc: 0.7121\n",
      "[Product] New best val acc: 0.7121\n"
     ]
    },
    {
     "name": "stderr",
     "output_type": "stream",
     "text": [
      "Evaluating: 100%|██████████| 35/35 [00:10<00:00,  3.21it/s]\n",
      "2025-10-10 18:01:29,170 | INFO | [Product] Epoch 5/5 | Train - Loss: 0.0938, Cls: 0.0912, GRQO: 0.0026, Acc: 0.9826 | Val - Loss: 1.1368, Cls: 1.1362, GRQO: 0.0006, Acc: 0.7116\n",
      "2025-10-10 18:01:29,170 | INFO | [Product] Best Acc: 0.7121\n",
      "2025-10-10 18:01:29,170 | INFO | ------------------------------------------------------------\n",
      "2025-10-10 18:01:29,286 | INFO | === LODO: Leaving out domain 'Real World' ===\n"
     ]
    },
    {
     "name": "stdout",
     "output_type": "stream",
     "text": [
      "[Product] Epoch 5/5 | Train - Loss: 0.0938, Cls: 0.0912, GRQO: 0.0026, Acc: 0.9826 | Val - Loss: 1.1368, Cls: 1.1362, GRQO: 0.0006, Acc: 0.7116\n",
      "[Product] Best Acc: 0.7121\n",
      "------------------------------------------------------------\n",
      "\n",
      "=== LODO: Leaving out domain 'Real World' ===\n"
     ]
    },
    {
     "name": "stderr",
     "output_type": "stream",
     "text": [
      "Evaluating: 100%|██████████| 35/35 [00:21<00:00,  1.67it/s]\n",
      "2025-10-10 18:02:07,968 | INFO | [Real World] Epoch 1/5 | Train - Loss: 2.7682, Cls: 2.7594, GRQO: 0.0088, Acc: 0.3900 | Val - Loss: 1.5209, Cls: 1.5186, GRQO: 0.0023, Acc: 0.6342\n",
      "2025-10-10 18:02:08,021 | INFO | [Real World] New best val acc: 0.6342\n"
     ]
    },
    {
     "name": "stdout",
     "output_type": "stream",
     "text": [
      "[Real World] Epoch 1/5 | Train - Loss: 2.7682, Cls: 2.7594, GRQO: 0.0088, Acc: 0.3900 | Val - Loss: 1.5209, Cls: 1.5186, GRQO: 0.0023, Acc: 0.6342\n",
      "[Real World] New best val acc: 0.6342\n"
     ]
    },
    {
     "name": "stderr",
     "output_type": "stream",
     "text": [
      "Evaluating: 100%|██████████| 35/35 [00:21<00:00,  1.63it/s]\n",
      "2025-10-10 18:02:47,237 | INFO | [Real World] Epoch 2/5 | Train - Loss: 0.9337, Cls: 0.9293, GRQO: 0.0044, Acc: 0.7925 | Val - Loss: 1.0752, Cls: 1.0739, GRQO: 0.0012, Acc: 0.7110\n",
      "2025-10-10 18:02:47,304 | INFO | [Real World] New best val acc: 0.7110\n"
     ]
    },
    {
     "name": "stdout",
     "output_type": "stream",
     "text": [
      "[Real World] Epoch 2/5 | Train - Loss: 0.9337, Cls: 0.9293, GRQO: 0.0044, Acc: 0.7925 | Val - Loss: 1.0752, Cls: 1.0739, GRQO: 0.0012, Acc: 0.7110\n",
      "[Real World] New best val acc: 0.7110\n"
     ]
    },
    {
     "name": "stderr",
     "output_type": "stream",
     "text": [
      "Evaluating: 100%|██████████| 35/35 [00:21<00:00,  1.62it/s]\n",
      "2025-10-10 18:03:26,836 | INFO | [Real World] Epoch 3/5 | Train - Loss: 0.3619, Cls: 0.3583, GRQO: 0.0036, Acc: 0.9231 | Val - Loss: 1.0929, Cls: 1.0921, GRQO: 0.0008, Acc: 0.7122\n",
      "2025-10-10 18:03:26,919 | INFO | [Real World] New best val acc: 0.7122\n"
     ]
    },
    {
     "name": "stdout",
     "output_type": "stream",
     "text": [
      "[Real World] Epoch 3/5 | Train - Loss: 0.3619, Cls: 0.3583, GRQO: 0.0036, Acc: 0.9231 | Val - Loss: 1.0929, Cls: 1.0921, GRQO: 0.0008, Acc: 0.7122\n",
      "[Real World] New best val acc: 0.7122\n"
     ]
    },
    {
     "name": "stderr",
     "output_type": "stream",
     "text": [
      "Evaluating: 100%|██████████| 35/35 [00:21<00:00,  1.62it/s]\n",
      "2025-10-10 18:04:06,554 | INFO | [Real World] Epoch 4/5 | Train - Loss: 0.1503, Cls: 0.1472, GRQO: 0.0031, Acc: 0.9751 | Val - Loss: 1.0561, Cls: 1.0555, GRQO: 0.0007, Acc: 0.7285\n",
      "2025-10-10 18:04:06,623 | INFO | [Real World] New best val acc: 0.7285\n"
     ]
    },
    {
     "name": "stdout",
     "output_type": "stream",
     "text": [
      "[Real World] Epoch 4/5 | Train - Loss: 0.1503, Cls: 0.1472, GRQO: 0.0031, Acc: 0.9751 | Val - Loss: 1.0561, Cls: 1.0555, GRQO: 0.0007, Acc: 0.7285\n",
      "[Real World] New best val acc: 0.7285\n"
     ]
    },
    {
     "name": "stderr",
     "output_type": "stream",
     "text": [
      "Evaluating: 100%|██████████| 35/35 [00:21<00:00,  1.63it/s]\n",
      "2025-10-10 18:04:46,102 | INFO | [Real World] Epoch 5/5 | Train - Loss: 0.0775, Cls: 0.0748, GRQO: 0.0027, Acc: 0.9860 | Val - Loss: 1.0607, Cls: 1.0602, GRQO: 0.0005, Acc: 0.7315\n",
      "2025-10-10 18:04:46,174 | INFO | [Real World] New best val acc: 0.7315\n",
      "2025-10-10 18:04:46,174 | INFO | [Real World] Best Acc: 0.7315\n",
      "2025-10-10 18:04:46,175 | INFO | ------------------------------------------------------------\n",
      "2025-10-10 18:04:46,176 | INFO | LODO finished | Mean Acc: 0.6265 | Summary saved to c:\\Users\\Fatim_Sproj\\Desktop\\Fatim\\Spring 2025\\sproj\\Visual-Reasoning\\Vit-GRQO\\resnet\\OfficeHome\\logs\\lodo_summary_20251010_180446.json\n"
     ]
    },
    {
     "name": "stdout",
     "output_type": "stream",
     "text": [
      "[Real World] Epoch 5/5 | Train - Loss: 0.0775, Cls: 0.0748, GRQO: 0.0027, Acc: 0.9860 | Val - Loss: 1.0607, Cls: 1.0602, GRQO: 0.0005, Acc: 0.7315\n",
      "[Real World] New best val acc: 0.7315\n",
      "[Real World] Best Acc: 0.7315\n",
      "------------------------------------------------------------\n",
      "LODO finished | Mean Acc: 0.6265\n",
      "Summary saved to c:\\Users\\Fatim_Sproj\\Desktop\\Fatim\\Spring 2025\\sproj\\Visual-Reasoning\\Vit-GRQO\\resnet\\OfficeHome\\logs\\lodo_summary_20251010_180446.json\n"
     ]
    }
   ],
   "source": [
    "lodo_results, lodo_mean, lodo_summary = run_lodo(\n",
    "    model_fn=model_factory,\n",
    "    CFG=CFG,\n",
    "    logger=logger,\n",
    "    dataset_key=\"OfficeHome\",\n",
    "    domains=domains,\n",
    "    loaders=loaders,\n",
    "    optimizer_fn=optimizer_fn,\n",
    "    device=device,\n",
    "    ckpt_root=ckpt_root,\n",
    "    log_dir=log_dir,\n",
    "    epochs=epochs\n",
    ")"
   ]
  },
  {
   "cell_type": "markdown",
   "id": "008d21ac",
   "metadata": {},
   "source": [
    "### Baseline"
   ]
  },
  {
   "cell_type": "code",
   "execution_count": 6,
   "id": "060b18a4",
   "metadata": {},
   "outputs": [
    {
     "name": "stderr",
     "output_type": "stream",
     "text": [
      "2025-10-10 18:04:46,188 | INFO | Initializing ResNet baseline: resnet18\n",
      "2025-10-10 18:04:46,277 | INFO | === Baseline LODO: Leaving out domain 'Art' ===\n"
     ]
    },
    {
     "name": "stdout",
     "output_type": "stream",
     "text": [
      "Initializing ResNet baseline: resnet18\n",
      "\n",
      "=== Baseline LODO: Leaving out domain 'Art' ===\n"
     ]
    },
    {
     "name": "stderr",
     "output_type": "stream",
     "text": [
      "2025-10-10 18:05:22,253 | INFO | [Art] Epoch 1/5 | Train - Loss: 2.2092, Acc: 0.5282 | Val Acc: 0.4878\n"
     ]
    },
    {
     "name": "stdout",
     "output_type": "stream",
     "text": [
      "[Art] Epoch 1/5 | Train - Loss: 2.2092, Acc: 0.5282 | Val Acc: 0.4878\n"
     ]
    },
    {
     "name": "stderr",
     "output_type": "stream",
     "text": [
      "2025-10-10 18:05:59,138 | INFO | [Art] Epoch 2/5 | Train - Loss: 0.8353, Acc: 0.8375 | Val Acc: 0.5373\n"
     ]
    },
    {
     "name": "stdout",
     "output_type": "stream",
     "text": [
      "[Art] Epoch 2/5 | Train - Loss: 0.8353, Acc: 0.8375 | Val Acc: 0.5373\n"
     ]
    },
    {
     "name": "stderr",
     "output_type": "stream",
     "text": [
      "2025-10-10 18:06:35,536 | INFO | [Art] Epoch 3/5 | Train - Loss: 0.4110, Acc: 0.9289 | Val Acc: 0.5686\n"
     ]
    },
    {
     "name": "stdout",
     "output_type": "stream",
     "text": [
      "[Art] Epoch 3/5 | Train - Loss: 0.4110, Acc: 0.9289 | Val Acc: 0.5686\n"
     ]
    },
    {
     "name": "stderr",
     "output_type": "stream",
     "text": [
      "2025-10-10 18:07:12,102 | INFO | [Art] Epoch 4/5 | Train - Loss: 0.1974, Acc: 0.9717 | Val Acc: 0.5645\n"
     ]
    },
    {
     "name": "stdout",
     "output_type": "stream",
     "text": [
      "[Art] Epoch 4/5 | Train - Loss: 0.1974, Acc: 0.9717 | Val Acc: 0.5645\n"
     ]
    },
    {
     "name": "stderr",
     "output_type": "stream",
     "text": [
      "2025-10-10 18:07:48,103 | INFO | [Art] Epoch 5/5 | Train - Loss: 0.1054, Acc: 0.9845 | Val Acc: 0.5744\n",
      "2025-10-10 18:07:48,103 | INFO | [Art] Best Val Acc: 0.5744\n",
      "2025-10-10 18:07:48,103 | INFO | ------------------------------------------------------------\n",
      "2025-10-10 18:07:48,103 | INFO | Initializing ResNet baseline: resnet18\n",
      "2025-10-10 18:07:48,203 | INFO | === Baseline LODO: Leaving out domain 'Clipart' ===\n"
     ]
    },
    {
     "name": "stdout",
     "output_type": "stream",
     "text": [
      "[Art] Epoch 5/5 | Train - Loss: 0.1054, Acc: 0.9845 | Val Acc: 0.5744\n",
      "[Art] Best Val Acc: 0.5744\n",
      "------------------------------------------------------------\n",
      "Initializing ResNet baseline: resnet18\n",
      "\n",
      "=== Baseline LODO: Leaving out domain 'Clipart' ===\n"
     ]
    },
    {
     "name": "stderr",
     "output_type": "stream",
     "text": [
      "2025-10-10 18:08:24,369 | INFO | [Clipart] Epoch 1/5 | Train - Loss: 2.2722, Acc: 0.5210 | Val Acc: 0.3879\n"
     ]
    },
    {
     "name": "stdout",
     "output_type": "stream",
     "text": [
      "[Clipart] Epoch 1/5 | Train - Loss: 2.2722, Acc: 0.5210 | Val Acc: 0.3879\n"
     ]
    },
    {
     "name": "stderr",
     "output_type": "stream",
     "text": [
      "2025-10-10 18:09:00,537 | INFO | [Clipart] Epoch 2/5 | Train - Loss: 0.8665, Acc: 0.8281 | Val Acc: 0.4431\n"
     ]
    },
    {
     "name": "stdout",
     "output_type": "stream",
     "text": [
      "[Clipart] Epoch 2/5 | Train - Loss: 0.8665, Acc: 0.8281 | Val Acc: 0.4431\n"
     ]
    },
    {
     "name": "stderr",
     "output_type": "stream",
     "text": [
      "2025-10-10 18:09:36,802 | INFO | [Clipart] Epoch 3/5 | Train - Loss: 0.4273, Acc: 0.9296 | Val Acc: 0.4486\n"
     ]
    },
    {
     "name": "stdout",
     "output_type": "stream",
     "text": [
      "[Clipart] Epoch 3/5 | Train - Loss: 0.4273, Acc: 0.9296 | Val Acc: 0.4486\n"
     ]
    },
    {
     "name": "stderr",
     "output_type": "stream",
     "text": [
      "2025-10-10 18:10:14,352 | INFO | [Clipart] Epoch 4/5 | Train - Loss: 0.2008, Acc: 0.9766 | Val Acc: 0.4564\n"
     ]
    },
    {
     "name": "stdout",
     "output_type": "stream",
     "text": [
      "[Clipart] Epoch 4/5 | Train - Loss: 0.2008, Acc: 0.9766 | Val Acc: 0.4564\n"
     ]
    },
    {
     "name": "stderr",
     "output_type": "stream",
     "text": [
      "2025-10-10 18:10:50,769 | INFO | [Clipart] Epoch 5/5 | Train - Loss: 0.0941, Acc: 0.9919 | Val Acc: 0.4584\n",
      "2025-10-10 18:10:50,784 | INFO | [Clipart] Best Val Acc: 0.4584\n",
      "2025-10-10 18:10:50,785 | INFO | ------------------------------------------------------------\n",
      "2025-10-10 18:10:50,785 | INFO | Initializing ResNet baseline: resnet18\n",
      "2025-10-10 18:10:50,868 | INFO | === Baseline LODO: Leaving out domain 'Product' ===\n"
     ]
    },
    {
     "name": "stdout",
     "output_type": "stream",
     "text": [
      "[Clipart] Epoch 5/5 | Train - Loss: 0.0941, Acc: 0.9919 | Val Acc: 0.4584\n",
      "[Clipart] Best Val Acc: 0.4584\n",
      "------------------------------------------------------------\n",
      "Initializing ResNet baseline: resnet18\n",
      "\n",
      "=== Baseline LODO: Leaving out domain 'Product' ===\n"
     ]
    },
    {
     "name": "stderr",
     "output_type": "stream",
     "text": [
      "2025-10-10 18:11:28,786 | INFO | [Product] Epoch 1/5 | Train - Loss: 2.5631, Acc: 0.4498 | Val Acc: 0.6193\n"
     ]
    },
    {
     "name": "stdout",
     "output_type": "stream",
     "text": [
      "[Product] Epoch 1/5 | Train - Loss: 2.5631, Acc: 0.4498 | Val Acc: 0.6193\n"
     ]
    },
    {
     "name": "stderr",
     "output_type": "stream",
     "text": [
      "2025-10-10 18:12:16,600 | INFO | [Product] Epoch 2/5 | Train - Loss: 1.1009, Acc: 0.7820 | Val Acc: 0.6907\n"
     ]
    },
    {
     "name": "stdout",
     "output_type": "stream",
     "text": [
      "[Product] Epoch 2/5 | Train - Loss: 1.1009, Acc: 0.7820 | Val Acc: 0.6907\n"
     ]
    },
    {
     "name": "stderr",
     "output_type": "stream",
     "text": [
      "2025-10-10 18:13:04,175 | INFO | [Product] Epoch 3/5 | Train - Loss: 0.5893, Acc: 0.8934 | Val Acc: 0.7222\n"
     ]
    },
    {
     "name": "stdout",
     "output_type": "stream",
     "text": [
      "[Product] Epoch 3/5 | Train - Loss: 0.5893, Acc: 0.8934 | Val Acc: 0.7222\n"
     ]
    },
    {
     "name": "stderr",
     "output_type": "stream",
     "text": [
      "2025-10-10 18:13:52,691 | INFO | [Product] Epoch 4/5 | Train - Loss: 0.3057, Acc: 0.9554 | Val Acc: 0.7252\n"
     ]
    },
    {
     "name": "stdout",
     "output_type": "stream",
     "text": [
      "[Product] Epoch 4/5 | Train - Loss: 0.3057, Acc: 0.9554 | Val Acc: 0.7252\n"
     ]
    },
    {
     "name": "stderr",
     "output_type": "stream",
     "text": [
      "2025-10-10 18:14:40,842 | INFO | [Product] Epoch 5/5 | Train - Loss: 0.1611, Acc: 0.9811 | Val Acc: 0.7312\n",
      "2025-10-10 18:14:40,842 | INFO | [Product] Best Val Acc: 0.7312\n",
      "2025-10-10 18:14:40,842 | INFO | ------------------------------------------------------------\n",
      "2025-10-10 18:14:40,842 | INFO | Initializing ResNet baseline: resnet18\n",
      "2025-10-10 18:14:41,022 | INFO | === Baseline LODO: Leaving out domain 'Real World' ===\n"
     ]
    },
    {
     "name": "stdout",
     "output_type": "stream",
     "text": [
      "[Product] Epoch 5/5 | Train - Loss: 0.1611, Acc: 0.9811 | Val Acc: 0.7312\n",
      "[Product] Best Val Acc: 0.7312\n",
      "------------------------------------------------------------\n",
      "Initializing ResNet baseline: resnet18\n",
      "\n",
      "=== Baseline LODO: Leaving out domain 'Real World' ===\n"
     ]
    },
    {
     "name": "stderr",
     "output_type": "stream",
     "text": [
      "2025-10-10 18:15:29,251 | INFO | [Real World] Epoch 1/5 | Train - Loss: 2.4766, Acc: 0.4761 | Val Acc: 0.6401\n"
     ]
    },
    {
     "name": "stdout",
     "output_type": "stream",
     "text": [
      "[Real World] Epoch 1/5 | Train - Loss: 2.4766, Acc: 0.4761 | Val Acc: 0.6401\n"
     ]
    },
    {
     "name": "stderr",
     "output_type": "stream",
     "text": [
      "2025-10-10 18:16:13,053 | INFO | [Real World] Epoch 2/5 | Train - Loss: 1.0293, Acc: 0.8046 | Val Acc: 0.7241\n"
     ]
    },
    {
     "name": "stdout",
     "output_type": "stream",
     "text": [
      "[Real World] Epoch 2/5 | Train - Loss: 1.0293, Acc: 0.8046 | Val Acc: 0.7241\n"
     ]
    },
    {
     "name": "stderr",
     "output_type": "stream",
     "text": [
      "2025-10-10 18:16:59,547 | INFO | [Real World] Epoch 3/5 | Train - Loss: 0.5272, Acc: 0.9096 | Val Acc: 0.7487\n"
     ]
    },
    {
     "name": "stdout",
     "output_type": "stream",
     "text": [
      "[Real World] Epoch 3/5 | Train - Loss: 0.5272, Acc: 0.9096 | Val Acc: 0.7487\n"
     ]
    },
    {
     "name": "stderr",
     "output_type": "stream",
     "text": [
      "2025-10-10 18:17:47,951 | INFO | [Real World] Epoch 4/5 | Train - Loss: 0.2607, Acc: 0.9660 | Val Acc: 0.7505\n"
     ]
    },
    {
     "name": "stdout",
     "output_type": "stream",
     "text": [
      "[Real World] Epoch 4/5 | Train - Loss: 0.2607, Acc: 0.9660 | Val Acc: 0.7505\n"
     ]
    },
    {
     "name": "stderr",
     "output_type": "stream",
     "text": [
      "2025-10-10 18:18:28,610 | INFO | [Real World] Epoch 5/5 | Train - Loss: 0.1321, Acc: 0.9842 | Val Acc: 0.7519\n",
      "2025-10-10 18:18:28,616 | INFO | [Real World] Best Val Acc: 0.7519\n",
      "2025-10-10 18:18:28,616 | INFO | ------------------------------------------------------------\n",
      "2025-10-10 18:18:28,618 | INFO | Baseline LODO (resnet18) finished | Mean Acc: 0.6290\n"
     ]
    },
    {
     "name": "stdout",
     "output_type": "stream",
     "text": [
      "[Real World] Epoch 5/5 | Train - Loss: 0.1321, Acc: 0.9842 | Val Acc: 0.7519\n",
      "[Real World] Best Val Acc: 0.7519\n",
      "------------------------------------------------------------\n",
      "Baseline LODO (resnet18) finished | Mean Acc: 0.6290\n"
     ]
    }
   ],
   "source": [
    "model_name =\"resnet18\"\n",
    "baseline_results, baseline_mean = run_baseline(\n",
    "    model_name=model_name,\n",
    "    CFG=CFG,\n",
    "    logger=logger,\n",
    "    dataset_key=\"OfficeHome\",\n",
    "    domains=domains,\n",
    "    loaders=loaders,\n",
    "    optimizer_fn=optimizer_fn,\n",
    "    device=device,\n",
    "    epochs=CFG[\"train\"][\"epochs\"]\n",
    ")\n"
   ]
  }
 ],
 "metadata": {
  "kernelspec": {
   "display_name": "bacp",
   "language": "python",
   "name": "python3"
  },
  "language_info": {
   "codemirror_mode": {
    "name": "ipython",
    "version": 3
   },
   "file_extension": ".py",
   "mimetype": "text/x-python",
   "name": "python",
   "nbconvert_exporter": "python",
   "pygments_lexer": "ipython3",
   "version": "3.10.16"
  }
 },
 "nbformat": 4,
 "nbformat_minor": 5
}
