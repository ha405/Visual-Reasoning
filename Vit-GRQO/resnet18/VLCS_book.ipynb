{
 "cells": [
  {
   "cell_type": "markdown",
   "id": "7aeb725f",
   "metadata": {},
   "source": [
    "### Imports"
   ]
  },
  {
   "cell_type": "code",
   "execution_count": null,
   "id": "e407742a",
   "metadata": {},
   "outputs": [
    {
     "name": "stdout",
     "output_type": "stream",
     "text": [
      "Device: cuda\n",
      "PyTorch: 2.5.1+cu121\n"
     ]
    }
   ],
   "source": [
    "import sys\n",
    "sys.dont_write_bytecode = True\n",
    "\n",
    "\n",
    "import torch\n",
    "import numpy as np\n",
    "import random\n",
    "import os\n",
    "\n",
    "def set_seeds(seed_value=42):\n",
    "    \"\"\"Sets seeds for reproducibility.\"\"\"\n",
    "    random.seed(seed_value)\n",
    "    np.random.seed(seed_value)\n",
    "    torch.manual_seed(seed_value)\n",
    "    os.environ['PYTHONHASHSEED'] = str(seed_value)\n",
    "    \n",
    "    if torch.cuda.is_available():\n",
    "        torch.cuda.manual_seed(seed_value)\n",
    "\n",
    "set_seeds(42) \n",
    "\n",
    "import json\n",
    "import torch.nn as nn\n",
    "import torch.optim as optim\n",
    "from tqdm import tqdm\n",
    "import warnings\n",
    "import logging\n",
    "from datetime import datetime\n",
    "warnings.filterwarnings('ignore')\n",
    "\n",
    "from model import get_model\n",
    "from config import CFG\n",
    "from dataset import get_dataset_class\n",
    "from resnet.plot import plot_domainwise_accuracy\n",
    "from transform import get_transforms\n",
    "from runner import run_baseline, run_lodo\n",
    "\n",
    "torch.manual_seed(CFG[\"system\"][\"seed\"])\n",
    "np.random.seed(CFG[\"system\"][\"seed\"])\n",
    "\n",
    "device = CFG[\"system\"][\"device\"]\n",
    "print(f\"Device: {device}\")\n",
    "print(f\"PyTorch: {torch.__version__}\")\n",
    "\n",
    "DS = \"VLCS\"\n",
    "MODEL_NAME = \"resnet18\""
   ]
  },
  {
   "cell_type": "markdown",
   "id": "d617af05",
   "metadata": {},
   "source": [
    "### DataLoading"
   ]
  },
  {
   "cell_type": "code",
   "execution_count": null,
   "id": "3e673c0a",
   "metadata": {},
   "outputs": [
    {
     "name": "stdout",
     "output_type": "stream",
     "text": [
      "\n",
      "Data loaders ready!\n"
     ]
    }
   ],
   "source": [
    "train_transform, test_transform = get_transforms(img_size=224, augment=False, use_imagenet_norm=False)\n",
    "\n",
    "DatasetClass = get_dataset_class(DS)\n",
    "\n",
    "ld = DatasetClass(\n",
    "    data_root=CFG[\"datasets\"][DS][\"root\"],\n",
    "    transform=train_transform,\n",
    "    batch_size=CFG[\"train\"][\"batch_size\"]\n",
    ")\n",
    "\n",
    "print(\"\\nData loaders ready!\")"
   ]
  },
  {
   "cell_type": "markdown",
   "id": "e5a3d318",
   "metadata": {},
   "source": [
    "### Logging"
   ]
  },
  {
   "cell_type": "code",
   "execution_count": null,
   "id": "f01fd7aa",
   "metadata": {},
   "outputs": [
    {
     "name": "stderr",
     "output_type": "stream",
     "text": [
      "2025-10-10 07:23:05,174 | INFO | Initialized experiment directories for VLCS\n",
      "2025-10-10 07:23:05,174 | INFO | Logs: c:\\Users\\Fatim_Sproj\\Desktop\\Fatim\\Spring 2025\\sproj\\Visual-Reasoning\\Vit-GRQO\\resnet\\VLCS\\logs\n",
      "2025-10-10 07:23:05,174 | INFO | Checkpoints: c:\\Users\\Fatim_Sproj\\Desktop\\Fatim\\Spring 2025\\sproj\\Visual-Reasoning\\Vit-GRQO\\resnet\\VLCS\\checkpoints\n",
      "2025-10-10 07:23:05,174 | INFO | Plots: c:\\Users\\Fatim_Sproj\\Desktop\\Fatim\\Spring 2025\\sproj\\Visual-Reasoning\\Vit-GRQO\\resnet\\VLCS\\plots\n"
     ]
    }
   ],
   "source": [
    "dataset_name = DS\n",
    "base_dir = os.path.join(os.getcwd(), dataset_name)\n",
    "subdirs = [\"logs\", \"checkpoints\", \"plots\"]\n",
    "\n",
    "for sub in subdirs:\n",
    "    os.makedirs(os.path.join(base_dir, sub), exist_ok=True)\n",
    "\n",
    "timestamp = datetime.now().strftime(\"%Y-%m-%d_%H-%M-%S\")\n",
    "log_file = os.path.join(base_dir, \"logs\", f\"train_{timestamp}.log\")\n",
    "\n",
    "logging.basicConfig(\n",
    "    level=logging.INFO,\n",
    "    format=\"%(asctime)s | %(levelname)s | %(message)s\",\n",
    "    handlers=[\n",
    "        logging.FileHandler(log_file),\n",
    "        logging.StreamHandler()\n",
    "    ]\n",
    ")\n",
    "\n",
    "logger = logging.getLogger(f\"{dataset_name}_logger\")\n",
    "\n",
    "logger.info(f\"Initialized experiment directories for {dataset_name}\")\n",
    "logger.info(f\"Logs: {os.path.join(base_dir, 'logs')}\")\n",
    "logger.info(f\"Checkpoints: {os.path.join(base_dir, 'checkpoints')}\")\n",
    "logger.info(f\"Plots: {os.path.join(base_dir, 'plots')}\")"
   ]
  },
  {
   "cell_type": "markdown",
   "id": "47398d2c",
   "metadata": {},
   "source": [
    "### Setup"
   ]
  },
  {
   "cell_type": "code",
   "execution_count": null,
   "id": "450d7f06",
   "metadata": {},
   "outputs": [],
   "source": [
    "domains = CFG[\"datasets\"][DS][\"domains\"]\n",
    "loaders = {d: {\"train\": ld.get_dataloader(d, train=True), \"val\": ld.get_dataloader(d, train=False)} for d in domains}\n",
    "ckpt_root = os.path.join(base_dir, \"checkpoints\")\n",
    "log_dir = os.path.join(base_dir, \"logs\")\n",
    "plots_dir = os.path.join(base_dir, \"plots\")\n",
    "os.makedirs(ckpt_root, exist_ok=True)\n",
    "os.makedirs(log_dir, exist_ok=True)\n",
    "os.makedirs(plots_dir, exist_ok=True)\n",
    "model_factory = lambda cfg, dataset_key: get_model(cfg,dataset=DS)\n",
    "optimizer_fn = lambda model: optim.AdamW(model.parameters(), lr=CFG[\"train\"][\"lr\"], weight_decay=CFG[\"train\"].get(\"weight_decay\", 0.01))\n",
    "device = CFG[\"system\"][\"device\"]\n",
    "epochs = CFG[\"train\"][\"epochs\"]\n"
   ]
  },
  {
   "cell_type": "markdown",
   "id": "2d8dafe9",
   "metadata": {},
   "source": [
    "{\n",
    "  \"lodo_results\": {\n",
    "    \"art_painting\": 0.8341463414634146,\n",
    "    \"cartoon\": 0.7974413646055437,\n",
    "    \"photo\": 0.9580838323353293,\n",
    "    \"sketch\": 0.6017811704834606\n",
    "  },\n",
    "  \"timestamp\": \"20251004_020611\"\n",
    "}"
   ]
  },
  {
   "cell_type": "markdown",
   "id": "4931c868",
   "metadata": {},
   "source": [
    "### Leave One Domain Out"
   ]
  },
  {
   "cell_type": "code",
   "execution_count": null,
   "id": "c0344437",
   "metadata": {},
   "outputs": [
    {
     "name": "stderr",
     "output_type": "stream",
     "text": [
      "2025-10-10 07:23:05,473 | INFO | === LODO: Leaving out domain 'VOC2007' ===\n"
     ]
    },
    {
     "name": "stdout",
     "output_type": "stream",
     "text": [
      "\n",
      "=== LODO: Leaving out domain 'VOC2007' ===\n"
     ]
    },
    {
     "name": "stderr",
     "output_type": "stream",
     "text": [
      "Evaluating: 100%|██████████| 27/27 [00:13<00:00,  2.07it/s]\n",
      "2025-10-10 07:23:49,470 | INFO | [VOC2007] Epoch 1/5 | Train - Loss: 0.6993, Cls: 0.6900, GRQO: 0.0093, Acc: 0.7242 | Val - Loss: 0.7433, Cls: 0.7421, GRQO: 0.0012, Acc: 0.7171\n",
      "2025-10-10 07:23:49,543 | INFO | [VOC2007] New best val acc: 0.7171\n"
     ]
    },
    {
     "name": "stdout",
     "output_type": "stream",
     "text": [
      "[VOC2007] Epoch 1/5 | Train - Loss: 0.6993, Cls: 0.6900, GRQO: 0.0093, Acc: 0.7242 | Val - Loss: 0.7433, Cls: 0.7421, GRQO: 0.0012, Acc: 0.7171\n",
      "[VOC2007] New best val acc: 0.7171\n"
     ]
    },
    {
     "name": "stderr",
     "output_type": "stream",
     "text": [
      "Evaluating: 100%|██████████| 27/27 [00:12<00:00,  2.15it/s]\n",
      "2025-10-10 07:24:31,971 | INFO | [VOC2007] Epoch 2/5 | Train - Loss: 0.3640, Cls: 0.3615, GRQO: 0.0025, Acc: 0.8681 | Val - Loss: 0.7022, Cls: 0.7014, GRQO: 0.0009, Acc: 0.7482\n",
      "2025-10-10 07:24:32,083 | INFO | [VOC2007] New best val acc: 0.7482\n"
     ]
    },
    {
     "name": "stdout",
     "output_type": "stream",
     "text": [
      "[VOC2007] Epoch 2/5 | Train - Loss: 0.3640, Cls: 0.3615, GRQO: 0.0025, Acc: 0.8681 | Val - Loss: 0.7022, Cls: 0.7014, GRQO: 0.0009, Acc: 0.7482\n",
      "[VOC2007] New best val acc: 0.7482\n"
     ]
    },
    {
     "name": "stderr",
     "output_type": "stream",
     "text": [
      "Evaluating: 100%|██████████| 27/27 [00:12<00:00,  2.15it/s]\n",
      "2025-10-10 07:25:14,591 | INFO | [VOC2007] Epoch 3/5 | Train - Loss: 0.1808, Cls: 0.1783, GRQO: 0.0024, Acc: 0.9433 | Val - Loss: 0.9889, Cls: 0.9879, GRQO: 0.0010, Acc: 0.7041\n"
     ]
    },
    {
     "name": "stdout",
     "output_type": "stream",
     "text": [
      "[VOC2007] Epoch 3/5 | Train - Loss: 0.1808, Cls: 0.1783, GRQO: 0.0024, Acc: 0.9433 | Val - Loss: 0.9889, Cls: 0.9879, GRQO: 0.0010, Acc: 0.7041\n"
     ]
    },
    {
     "name": "stderr",
     "output_type": "stream",
     "text": [
      "Evaluating: 100%|██████████| 27/27 [00:12<00:00,  2.16it/s]\n",
      "2025-10-10 07:26:08,205 | INFO | [VOC2007] Epoch 4/5 | Train - Loss: 0.0625, Cls: 0.0602, GRQO: 0.0022, Acc: 0.9818 | Val - Loss: 1.2464, Cls: 1.2460, GRQO: 0.0004, Acc: 0.7121\n"
     ]
    },
    {
     "name": "stdout",
     "output_type": "stream",
     "text": [
      "[VOC2007] Epoch 4/5 | Train - Loss: 0.0625, Cls: 0.0602, GRQO: 0.0022, Acc: 0.9818 | Val - Loss: 1.2464, Cls: 1.2460, GRQO: 0.0004, Acc: 0.7121\n"
     ]
    },
    {
     "name": "stderr",
     "output_type": "stream",
     "text": [
      "Evaluating: 100%|██████████| 27/27 [00:12<00:00,  2.13it/s]\n",
      "2025-10-10 07:27:03,126 | INFO | [VOC2007] Epoch 5/5 | Train - Loss: 0.0285, Cls: 0.0265, GRQO: 0.0020, Acc: 0.9922 | Val - Loss: 1.3000, Cls: 1.2997, GRQO: 0.0004, Acc: 0.7222\n",
      "2025-10-10 07:27:03,126 | INFO | [VOC2007] Best Acc: 0.7482\n",
      "2025-10-10 07:27:03,126 | INFO | ------------------------------------------------------------\n",
      "2025-10-10 07:27:03,258 | INFO | === LODO: Leaving out domain 'LabelMe' ===\n"
     ]
    },
    {
     "name": "stdout",
     "output_type": "stream",
     "text": [
      "[VOC2007] Epoch 5/5 | Train - Loss: 0.0285, Cls: 0.0265, GRQO: 0.0020, Acc: 0.9922 | Val - Loss: 1.3000, Cls: 1.2997, GRQO: 0.0004, Acc: 0.7222\n",
      "[VOC2007] Best Acc: 0.7482\n",
      "------------------------------------------------------------\n",
      "\n",
      "=== LODO: Leaving out domain 'LabelMe' ===\n"
     ]
    },
    {
     "name": "stderr",
     "output_type": "stream",
     "text": [
      "Evaluating: 100%|██████████| 21/21 [00:27<00:00,  1.29s/it]\n",
      "2025-10-10 07:27:52,352 | INFO | [LabelMe] Epoch 1/5 | Train - Loss: 0.6260, Cls: 0.6187, GRQO: 0.0074, Acc: 0.7703 | Val - Loss: 1.3284, Cls: 1.3274, GRQO: 0.0011, Acc: 0.6103\n",
      "2025-10-10 07:27:52,423 | INFO | [LabelMe] New best val acc: 0.6103\n"
     ]
    },
    {
     "name": "stdout",
     "output_type": "stream",
     "text": [
      "[LabelMe] Epoch 1/5 | Train - Loss: 0.6260, Cls: 0.6187, GRQO: 0.0074, Acc: 0.7703 | Val - Loss: 1.3284, Cls: 1.3274, GRQO: 0.0011, Acc: 0.6103\n",
      "[LabelMe] New best val acc: 0.6103\n"
     ]
    },
    {
     "name": "stderr",
     "output_type": "stream",
     "text": [
      "Evaluating: 100%|██████████| 21/21 [00:26<00:00,  1.27s/it]\n",
      "2025-10-10 07:28:41,112 | INFO | [LabelMe] Epoch 2/5 | Train - Loss: 0.2708, Cls: 0.2684, GRQO: 0.0024, Acc: 0.9046 | Val - Loss: 1.6066, Cls: 1.6059, GRQO: 0.0007, Acc: 0.6687\n",
      "2025-10-10 07:28:41,175 | INFO | [LabelMe] New best val acc: 0.6687\n"
     ]
    },
    {
     "name": "stdout",
     "output_type": "stream",
     "text": [
      "[LabelMe] Epoch 2/5 | Train - Loss: 0.2708, Cls: 0.2684, GRQO: 0.0024, Acc: 0.9046 | Val - Loss: 1.6066, Cls: 1.6059, GRQO: 0.0007, Acc: 0.6687\n",
      "[LabelMe] New best val acc: 0.6687\n"
     ]
    },
    {
     "name": "stderr",
     "output_type": "stream",
     "text": [
      "Evaluating: 100%|██████████| 21/21 [00:28<00:00,  1.34s/it]\n",
      "2025-10-10 07:29:31,441 | INFO | [LabelMe] Epoch 3/5 | Train - Loss: 0.1227, Cls: 0.1205, GRQO: 0.0022, Acc: 0.9623 | Val - Loss: 2.1604, Cls: 2.1598, GRQO: 0.0005, Acc: 0.6593\n"
     ]
    },
    {
     "name": "stdout",
     "output_type": "stream",
     "text": [
      "[LabelMe] Epoch 3/5 | Train - Loss: 0.1227, Cls: 0.1205, GRQO: 0.0022, Acc: 0.9623 | Val - Loss: 2.1604, Cls: 2.1598, GRQO: 0.0005, Acc: 0.6593\n"
     ]
    },
    {
     "name": "stderr",
     "output_type": "stream",
     "text": [
      "Evaluating: 100%|██████████| 21/21 [00:34<00:00,  1.64s/it]\n",
      "2025-10-10 07:35:06,058 | INFO | [LabelMe] Epoch 4/5 | Train - Loss: 0.0704, Cls: 0.0685, GRQO: 0.0019, Acc: 0.9750 | Val - Loss: 2.8370, Cls: 2.8366, GRQO: 0.0005, Acc: 0.6273\n"
     ]
    },
    {
     "name": "stdout",
     "output_type": "stream",
     "text": [
      "[LabelMe] Epoch 4/5 | Train - Loss: 0.0704, Cls: 0.0685, GRQO: 0.0019, Acc: 0.9750 | Val - Loss: 2.8370, Cls: 2.8366, GRQO: 0.0005, Acc: 0.6273\n"
     ]
    },
    {
     "name": "stderr",
     "output_type": "stream",
     "text": [
      "Evaluating: 100%|██████████| 21/21 [00:34<00:00,  1.62s/it]\n",
      "2025-10-10 07:37:24,937 | INFO | [LabelMe] Epoch 5/5 | Train - Loss: 0.0472, Cls: 0.0453, GRQO: 0.0019, Acc: 0.9870 | Val - Loss: 2.7332, Cls: 2.7328, GRQO: 0.0005, Acc: 0.6468\n",
      "2025-10-10 07:37:24,937 | INFO | [LabelMe] Best Acc: 0.6687\n",
      "2025-10-10 07:37:24,937 | INFO | ------------------------------------------------------------\n",
      "2025-10-10 07:37:25,063 | INFO | === LODO: Leaving out domain 'Caltech101' ===\n"
     ]
    },
    {
     "name": "stdout",
     "output_type": "stream",
     "text": [
      "[LabelMe] Epoch 5/5 | Train - Loss: 0.0472, Cls: 0.0453, GRQO: 0.0019, Acc: 0.9870 | Val - Loss: 2.7332, Cls: 2.7328, GRQO: 0.0005, Acc: 0.6468\n",
      "[LabelMe] Best Acc: 0.6687\n",
      "------------------------------------------------------------\n",
      "\n",
      "=== LODO: Leaving out domain 'Caltech101' ===\n"
     ]
    },
    {
     "name": "stderr",
     "output_type": "stream",
     "text": [
      "Evaluating: 100%|██████████| 12/12 [00:18<00:00,  1.52s/it]\n",
      "2025-10-10 07:39:59,581 | INFO | [Caltech101] Epoch 1/5 | Train - Loss: 0.7364, Cls: 0.7296, GRQO: 0.0068, Acc: 0.7282 | Val - Loss: 0.1818, Cls: 0.1805, GRQO: 0.0013, Acc: 0.9717\n",
      "2025-10-10 07:39:59,647 | INFO | [Caltech101] New best val acc: 0.9717\n"
     ]
    },
    {
     "name": "stdout",
     "output_type": "stream",
     "text": [
      "[Caltech101] Epoch 1/5 | Train - Loss: 0.7364, Cls: 0.7296, GRQO: 0.0068, Acc: 0.7282 | Val - Loss: 0.1818, Cls: 0.1805, GRQO: 0.0013, Acc: 0.9717\n",
      "[Caltech101] New best val acc: 0.9717\n"
     ]
    },
    {
     "name": "stderr",
     "output_type": "stream",
     "text": [
      "Evaluating: 100%|██████████| 12/12 [00:18<00:00,  1.54s/it]\n",
      "2025-10-10 07:42:38,233 | INFO | [Caltech101] Epoch 2/5 | Train - Loss: 0.3973, Cls: 0.3951, GRQO: 0.0023, Acc: 0.8545 | Val - Loss: 0.1595, Cls: 0.1586, GRQO: 0.0009, Acc: 0.9583\n"
     ]
    },
    {
     "name": "stdout",
     "output_type": "stream",
     "text": [
      "[Caltech101] Epoch 2/5 | Train - Loss: 0.3973, Cls: 0.3951, GRQO: 0.0023, Acc: 0.8545 | Val - Loss: 0.1595, Cls: 0.1586, GRQO: 0.0009, Acc: 0.9583\n"
     ]
    },
    {
     "name": "stderr",
     "output_type": "stream",
     "text": [
      "Evaluating: 100%|██████████| 12/12 [00:18<00:00,  1.53s/it]\n",
      "2025-10-10 07:45:17,425 | INFO | [Caltech101] Epoch 3/5 | Train - Loss: 0.1768, Cls: 0.1748, GRQO: 0.0020, Acc: 0.9450 | Val - Loss: 0.1200, Cls: 0.1194, GRQO: 0.0006, Acc: 0.9618\n"
     ]
    },
    {
     "name": "stdout",
     "output_type": "stream",
     "text": [
      "[Caltech101] Epoch 3/5 | Train - Loss: 0.1768, Cls: 0.1748, GRQO: 0.0020, Acc: 0.9450 | Val - Loss: 0.1200, Cls: 0.1194, GRQO: 0.0006, Acc: 0.9618\n"
     ]
    },
    {
     "name": "stderr",
     "output_type": "stream",
     "text": [
      "Evaluating: 100%|██████████| 12/12 [00:18<00:00,  1.52s/it]\n",
      "2025-10-10 07:47:53,819 | INFO | [Caltech101] Epoch 4/5 | Train - Loss: 0.0639, Cls: 0.0620, GRQO: 0.0019, Acc: 0.9781 | Val - Loss: 0.1754, Cls: 0.1751, GRQO: 0.0003, Acc: 0.9399\n"
     ]
    },
    {
     "name": "stdout",
     "output_type": "stream",
     "text": [
      "[Caltech101] Epoch 4/5 | Train - Loss: 0.0639, Cls: 0.0620, GRQO: 0.0019, Acc: 0.9781 | Val - Loss: 0.1754, Cls: 0.1751, GRQO: 0.0003, Acc: 0.9399\n"
     ]
    },
    {
     "name": "stderr",
     "output_type": "stream",
     "text": [
      "Evaluating: 100%|██████████| 12/12 [00:18<00:00,  1.53s/it]\n",
      "2025-10-10 07:50:30,435 | INFO | [Caltech101] Epoch 5/5 | Train - Loss: 0.0323, Cls: 0.0307, GRQO: 0.0017, Acc: 0.9896 | Val - Loss: 0.3274, Cls: 0.3272, GRQO: 0.0003, Acc: 0.9265\n",
      "2025-10-10 07:50:30,435 | INFO | [Caltech101] Best Acc: 0.9717\n",
      "2025-10-10 07:50:30,435 | INFO | ------------------------------------------------------------\n",
      "2025-10-10 07:50:30,571 | INFO | === LODO: Leaving out domain 'SUN09' ===\n"
     ]
    },
    {
     "name": "stdout",
     "output_type": "stream",
     "text": [
      "[Caltech101] Epoch 5/5 | Train - Loss: 0.0323, Cls: 0.0307, GRQO: 0.0017, Acc: 0.9896 | Val - Loss: 0.3274, Cls: 0.3272, GRQO: 0.0003, Acc: 0.9265\n",
      "[Caltech101] Best Acc: 0.9717\n",
      "------------------------------------------------------------\n",
      "\n",
      "=== LODO: Leaving out domain 'SUN09' ===\n"
     ]
    },
    {
     "name": "stderr",
     "output_type": "stream",
     "text": [
      "Evaluating: 100%|██████████| 26/26 [00:36<00:00,  1.40s/it]\n",
      "2025-10-10 07:53:15,951 | INFO | [SUN09] Epoch 1/5 | Train - Loss: 0.6566, Cls: 0.6487, GRQO: 0.0079, Acc: 0.7596 | Val - Loss: 0.7456, Cls: 0.7442, GRQO: 0.0013, Acc: 0.6898\n",
      "2025-10-10 07:53:16,022 | INFO | [SUN09] New best val acc: 0.6898\n"
     ]
    },
    {
     "name": "stdout",
     "output_type": "stream",
     "text": [
      "[SUN09] Epoch 1/5 | Train - Loss: 0.6566, Cls: 0.6487, GRQO: 0.0079, Acc: 0.7596 | Val - Loss: 0.7456, Cls: 0.7442, GRQO: 0.0013, Acc: 0.6898\n",
      "[SUN09] New best val acc: 0.6898\n"
     ]
    },
    {
     "name": "stderr",
     "output_type": "stream",
     "text": [
      "Evaluating: 100%|██████████| 26/26 [00:35<00:00,  1.37s/it]\n",
      "2025-10-10 07:55:58,518 | INFO | [SUN09] Epoch 2/5 | Train - Loss: 0.3263, Cls: 0.3240, GRQO: 0.0023, Acc: 0.8834 | Val - Loss: 0.9257, Cls: 0.9248, GRQO: 0.0009, Acc: 0.6353\n"
     ]
    },
    {
     "name": "stdout",
     "output_type": "stream",
     "text": [
      "[SUN09] Epoch 2/5 | Train - Loss: 0.3263, Cls: 0.3240, GRQO: 0.0023, Acc: 0.8834 | Val - Loss: 0.9257, Cls: 0.9248, GRQO: 0.0009, Acc: 0.6353\n"
     ]
    },
    {
     "name": "stderr",
     "output_type": "stream",
     "text": [
      "Evaluating: 100%|██████████| 26/26 [00:35<00:00,  1.37s/it]\n",
      "2025-10-10 07:58:44,017 | INFO | [SUN09] Epoch 3/5 | Train - Loss: 0.1689, Cls: 0.1668, GRQO: 0.0021, Acc: 0.9421 | Val - Loss: 0.9452, Cls: 0.9440, GRQO: 0.0012, Acc: 0.7127\n",
      "2025-10-10 07:58:44,090 | INFO | [SUN09] New best val acc: 0.7127\n"
     ]
    },
    {
     "name": "stdout",
     "output_type": "stream",
     "text": [
      "[SUN09] Epoch 3/5 | Train - Loss: 0.1689, Cls: 0.1668, GRQO: 0.0021, Acc: 0.9421 | Val - Loss: 0.9452, Cls: 0.9440, GRQO: 0.0012, Acc: 0.7127\n",
      "[SUN09] New best val acc: 0.7127\n"
     ]
    },
    {
     "name": "stderr",
     "output_type": "stream",
     "text": [
      "Evaluating: 100%|██████████| 26/26 [00:36<00:00,  1.39s/it]\n",
      "2025-10-10 08:01:29,533 | INFO | [SUN09] Epoch 4/5 | Train - Loss: 0.0539, Cls: 0.0520, GRQO: 0.0020, Acc: 0.9831 | Val - Loss: 1.2495, Cls: 1.2488, GRQO: 0.0007, Acc: 0.6801\n"
     ]
    },
    {
     "name": "stdout",
     "output_type": "stream",
     "text": [
      "[SUN09] Epoch 4/5 | Train - Loss: 0.0539, Cls: 0.0520, GRQO: 0.0020, Acc: 0.9831 | Val - Loss: 1.2495, Cls: 1.2488, GRQO: 0.0007, Acc: 0.6801\n"
     ]
    },
    {
     "name": "stderr",
     "output_type": "stream",
     "text": [
      "Evaluating: 100%|██████████| 26/26 [00:36<00:00,  1.40s/it]\n",
      "2025-10-10 08:04:15,318 | INFO | [SUN09] Epoch 5/5 | Train - Loss: 0.0231, Cls: 0.0213, GRQO: 0.0018, Acc: 0.9936 | Val - Loss: 1.5497, Cls: 1.5493, GRQO: 0.0005, Acc: 0.6843\n",
      "2025-10-10 08:04:15,318 | INFO | [SUN09] Best Acc: 0.7127\n",
      "2025-10-10 08:04:15,318 | INFO | ------------------------------------------------------------\n",
      "2025-10-10 08:04:15,318 | INFO | LODO finished | Mean Acc: 0.7753 | Summary saved to c:\\Users\\Fatim_Sproj\\Desktop\\Fatim\\Spring 2025\\sproj\\Visual-Reasoning\\Vit-GRQO\\resnet\\VLCS\\logs\\lodo_summary_20251010_080415.json\n"
     ]
    },
    {
     "name": "stdout",
     "output_type": "stream",
     "text": [
      "[SUN09] Epoch 5/5 | Train - Loss: 0.0231, Cls: 0.0213, GRQO: 0.0018, Acc: 0.9936 | Val - Loss: 1.5497, Cls: 1.5493, GRQO: 0.0005, Acc: 0.6843\n",
      "[SUN09] Best Acc: 0.7127\n",
      "------------------------------------------------------------\n",
      "LODO finished | Mean Acc: 0.7753\n",
      "Summary saved to c:\\Users\\Fatim_Sproj\\Desktop\\Fatim\\Spring 2025\\sproj\\Visual-Reasoning\\Vit-GRQO\\resnet\\VLCS\\logs\\lodo_summary_20251010_080415.json\n"
     ]
    }
   ],
   "source": [
    "lodo_results, lodo_mean, lodo_summary = run_lodo(\n",
    "    model_fn=model_factory,\n",
    "    CFG=CFG,\n",
    "    logger=logger,\n",
    "    dataset_key=DS,\n",
    "    domains=domains,\n",
    "    loaders=loaders,\n",
    "    optimizer_fn=optimizer_fn,\n",
    "    device=device,\n",
    "    ckpt_root=ckpt_root,\n",
    "    log_dir=log_dir,\n",
    "    epochs=epochs\n",
    ")"
   ]
  },
  {
   "cell_type": "markdown",
   "id": "008d21ac",
   "metadata": {},
   "source": [
    "### Baseline"
   ]
  },
  {
   "cell_type": "code",
   "execution_count": null,
   "id": "060b18a4",
   "metadata": {},
   "outputs": [
    {
     "name": "stderr",
     "output_type": "stream",
     "text": [
      "2025-10-10 08:04:15,336 | INFO | Initializing ResNet baseline: resnet18\n",
      "2025-10-10 08:04:15,428 | INFO | === Baseline LODO: Leaving out domain 'VOC2007' ===\n"
     ]
    },
    {
     "name": "stdout",
     "output_type": "stream",
     "text": [
      "Initializing ResNet baseline: resnet18\n",
      "\n",
      "=== Baseline LODO: Leaving out domain 'VOC2007' ===\n"
     ]
    },
    {
     "name": "stderr",
     "output_type": "stream",
     "text": [
      "2025-10-10 08:05:57,766 | INFO | [VOC2007] Epoch 1/5 | Train - Loss: 0.6753, Acc: 0.7489 | Val Acc: 0.7441\n"
     ]
    },
    {
     "name": "stdout",
     "output_type": "stream",
     "text": [
      "[VOC2007] Epoch 1/5 | Train - Loss: 0.6753, Acc: 0.7489 | Val Acc: 0.7441\n"
     ]
    },
    {
     "name": "stderr",
     "output_type": "stream",
     "text": [
      "2025-10-10 08:07:39,027 | INFO | [VOC2007] Epoch 2/5 | Train - Loss: 0.2813, Acc: 0.9056 | Val Acc: 0.7586\n"
     ]
    },
    {
     "name": "stdout",
     "output_type": "stream",
     "text": [
      "[VOC2007] Epoch 2/5 | Train - Loss: 0.2813, Acc: 0.9056 | Val Acc: 0.7586\n"
     ]
    },
    {
     "name": "stderr",
     "output_type": "stream",
     "text": [
      "2025-10-10 08:09:16,605 | INFO | [VOC2007] Epoch 3/5 | Train - Loss: 0.1013, Acc: 0.9765 | Val Acc: 0.7281\n"
     ]
    },
    {
     "name": "stdout",
     "output_type": "stream",
     "text": [
      "[VOC2007] Epoch 3/5 | Train - Loss: 0.1013, Acc: 0.9765 | Val Acc: 0.7281\n"
     ]
    },
    {
     "name": "stderr",
     "output_type": "stream",
     "text": [
      "2025-10-10 08:10:54,542 | INFO | [VOC2007] Epoch 4/5 | Train - Loss: 0.0305, Acc: 0.9956 | Val Acc: 0.7340\n"
     ]
    },
    {
     "name": "stdout",
     "output_type": "stream",
     "text": [
      "[VOC2007] Epoch 4/5 | Train - Loss: 0.0305, Acc: 0.9956 | Val Acc: 0.7340\n"
     ]
    },
    {
     "name": "stderr",
     "output_type": "stream",
     "text": [
      "2025-10-10 08:12:32,749 | INFO | [VOC2007] Epoch 5/5 | Train - Loss: 0.0108, Acc: 0.9993 | Val Acc: 0.7346\n",
      "2025-10-10 08:12:32,749 | INFO | [VOC2007] Best Val Acc: 0.7586\n",
      "2025-10-10 08:12:32,749 | INFO | ------------------------------------------------------------\n",
      "2025-10-10 08:12:32,749 | INFO | Initializing ResNet baseline: resnet18\n",
      "2025-10-10 08:12:32,832 | INFO | === Baseline LODO: Leaving out domain 'LabelMe' ===\n"
     ]
    },
    {
     "name": "stdout",
     "output_type": "stream",
     "text": [
      "[VOC2007] Epoch 5/5 | Train - Loss: 0.0108, Acc: 0.9993 | Val Acc: 0.7346\n",
      "[VOC2007] Best Val Acc: 0.7586\n",
      "------------------------------------------------------------\n",
      "Initializing ResNet baseline: resnet18\n",
      "\n",
      "=== Baseline LODO: Leaving out domain 'LabelMe' ===\n"
     ]
    },
    {
     "name": "stderr",
     "output_type": "stream",
     "text": [
      "2025-10-10 08:14:30,450 | INFO | [LabelMe] Epoch 1/5 | Train - Loss: 0.5855, Acc: 0.7863 | Val Acc: 0.6352\n"
     ]
    },
    {
     "name": "stdout",
     "output_type": "stream",
     "text": [
      "[LabelMe] Epoch 1/5 | Train - Loss: 0.5855, Acc: 0.7863 | Val Acc: 0.6352\n"
     ]
    },
    {
     "name": "stderr",
     "output_type": "stream",
     "text": [
      "2025-10-10 08:16:30,157 | INFO | [LabelMe] Epoch 2/5 | Train - Loss: 0.2133, Acc: 0.9296 | Val Acc: 0.6299\n"
     ]
    },
    {
     "name": "stdout",
     "output_type": "stream",
     "text": [
      "[LabelMe] Epoch 2/5 | Train - Loss: 0.2133, Acc: 0.9296 | Val Acc: 0.6299\n"
     ]
    },
    {
     "name": "stderr",
     "output_type": "stream",
     "text": [
      "2025-10-10 08:18:27,930 | INFO | [LabelMe] Epoch 3/5 | Train - Loss: 0.0922, Acc: 0.9771 | Val Acc: 0.6679\n"
     ]
    },
    {
     "name": "stdout",
     "output_type": "stream",
     "text": [
      "[LabelMe] Epoch 3/5 | Train - Loss: 0.0922, Acc: 0.9771 | Val Acc: 0.6679\n"
     ]
    },
    {
     "name": "stderr",
     "output_type": "stream",
     "text": [
      "2025-10-10 08:20:24,920 | INFO | [LabelMe] Epoch 4/5 | Train - Loss: 0.0418, Acc: 0.9921 | Val Acc: 0.6397\n"
     ]
    },
    {
     "name": "stdout",
     "output_type": "stream",
     "text": [
      "[LabelMe] Epoch 4/5 | Train - Loss: 0.0418, Acc: 0.9921 | Val Acc: 0.6397\n"
     ]
    },
    {
     "name": "stderr",
     "output_type": "stream",
     "text": [
      "2025-10-10 08:22:22,392 | INFO | [LabelMe] Epoch 5/5 | Train - Loss: 0.0171, Acc: 0.9984 | Val Acc: 0.6367\n",
      "2025-10-10 08:22:22,392 | INFO | [LabelMe] Best Val Acc: 0.6679\n",
      "2025-10-10 08:22:22,392 | INFO | ------------------------------------------------------------\n",
      "2025-10-10 08:22:22,392 | INFO | Initializing ResNet baseline: resnet18\n",
      "2025-10-10 08:22:22,492 | INFO | === Baseline LODO: Leaving out domain 'Caltech101' ===\n"
     ]
    },
    {
     "name": "stdout",
     "output_type": "stream",
     "text": [
      "[LabelMe] Epoch 5/5 | Train - Loss: 0.0171, Acc: 0.9984 | Val Acc: 0.6367\n",
      "[LabelMe] Best Val Acc: 0.6679\n",
      "------------------------------------------------------------\n",
      "Initializing ResNet baseline: resnet18\n",
      "\n",
      "=== Baseline LODO: Leaving out domain 'Caltech101' ===\n"
     ]
    },
    {
     "name": "stderr",
     "output_type": "stream",
     "text": [
      "2025-10-10 08:24:21,553 | INFO | [Caltech101] Epoch 1/5 | Train - Loss: 0.6883, Acc: 0.7488 | Val Acc: 0.9682\n"
     ]
    },
    {
     "name": "stdout",
     "output_type": "stream",
     "text": [
      "[Caltech101] Epoch 1/5 | Train - Loss: 0.6883, Acc: 0.7488 | Val Acc: 0.9682\n"
     ]
    },
    {
     "name": "stderr",
     "output_type": "stream",
     "text": [
      "2025-10-10 08:26:18,914 | INFO | [Caltech101] Epoch 2/5 | Train - Loss: 0.2993, Acc: 0.8968 | Val Acc: 0.9753\n"
     ]
    },
    {
     "name": "stdout",
     "output_type": "stream",
     "text": [
      "[Caltech101] Epoch 2/5 | Train - Loss: 0.2993, Acc: 0.8968 | Val Acc: 0.9753\n"
     ]
    },
    {
     "name": "stderr",
     "output_type": "stream",
     "text": [
      "2025-10-10 08:28:13,688 | INFO | [Caltech101] Epoch 3/5 | Train - Loss: 0.1009, Acc: 0.9775 | Val Acc: 0.9449\n"
     ]
    },
    {
     "name": "stdout",
     "output_type": "stream",
     "text": [
      "[Caltech101] Epoch 3/5 | Train - Loss: 0.1009, Acc: 0.9775 | Val Acc: 0.9449\n"
     ]
    },
    {
     "name": "stderr",
     "output_type": "stream",
     "text": [
      "2025-10-10 08:30:08,572 | INFO | [Caltech101] Epoch 4/5 | Train - Loss: 0.0253, Acc: 0.9972 | Val Acc: 0.9449\n"
     ]
    },
    {
     "name": "stdout",
     "output_type": "stream",
     "text": [
      "[Caltech101] Epoch 4/5 | Train - Loss: 0.0253, Acc: 0.9972 | Val Acc: 0.9449\n"
     ]
    },
    {
     "name": "stderr",
     "output_type": "stream",
     "text": [
      "2025-10-10 08:32:07,820 | INFO | [Caltech101] Epoch 5/5 | Train - Loss: 0.0089, Acc: 0.9996 | Val Acc: 0.9555\n",
      "2025-10-10 08:32:07,822 | INFO | [Caltech101] Best Val Acc: 0.9753\n",
      "2025-10-10 08:32:07,822 | INFO | ------------------------------------------------------------\n",
      "2025-10-10 08:32:07,823 | INFO | Initializing ResNet baseline: resnet18\n",
      "2025-10-10 08:32:07,911 | INFO | === Baseline LODO: Leaving out domain 'SUN09' ===\n"
     ]
    },
    {
     "name": "stdout",
     "output_type": "stream",
     "text": [
      "[Caltech101] Epoch 5/5 | Train - Loss: 0.0089, Acc: 0.9996 | Val Acc: 0.9555\n",
      "[Caltech101] Best Val Acc: 0.9753\n",
      "------------------------------------------------------------\n",
      "Initializing ResNet baseline: resnet18\n",
      "\n",
      "=== Baseline LODO: Leaving out domain 'SUN09' ===\n"
     ]
    },
    {
     "name": "stderr",
     "output_type": "stream",
     "text": [
      "2025-10-10 08:33:44,458 | INFO | [SUN09] Epoch 1/5 | Train - Loss: 0.6227, Acc: 0.7741 | Val Acc: 0.7005\n"
     ]
    },
    {
     "name": "stdout",
     "output_type": "stream",
     "text": [
      "[SUN09] Epoch 1/5 | Train - Loss: 0.6227, Acc: 0.7741 | Val Acc: 0.7005\n"
     ]
    },
    {
     "name": "stderr",
     "output_type": "stream",
     "text": [
      "2025-10-10 08:35:25,694 | INFO | [SUN09] Epoch 2/5 | Train - Loss: 0.2735, Acc: 0.9026 | Val Acc: 0.7087\n"
     ]
    },
    {
     "name": "stdout",
     "output_type": "stream",
     "text": [
      "[SUN09] Epoch 2/5 | Train - Loss: 0.2735, Acc: 0.9026 | Val Acc: 0.7087\n"
     ]
    },
    {
     "name": "stderr",
     "output_type": "stream",
     "text": [
      "2025-10-10 08:37:03,569 | INFO | [SUN09] Epoch 3/5 | Train - Loss: 0.1170, Acc: 0.9694 | Val Acc: 0.6840\n"
     ]
    },
    {
     "name": "stdout",
     "output_type": "stream",
     "text": [
      "[SUN09] Epoch 3/5 | Train - Loss: 0.1170, Acc: 0.9694 | Val Acc: 0.6840\n"
     ]
    },
    {
     "name": "stderr",
     "output_type": "stream",
     "text": [
      "2025-10-10 08:38:38,726 | INFO | [SUN09] Epoch 4/5 | Train - Loss: 0.0353, Acc: 0.9946 | Val Acc: 0.7252\n"
     ]
    },
    {
     "name": "stdout",
     "output_type": "stream",
     "text": [
      "[SUN09] Epoch 4/5 | Train - Loss: 0.0353, Acc: 0.9946 | Val Acc: 0.7252\n"
     ]
    },
    {
     "name": "stderr",
     "output_type": "stream",
     "text": [
      "2025-10-10 08:40:16,789 | INFO | [SUN09] Epoch 5/5 | Train - Loss: 0.0116, Acc: 0.9995 | Val Acc: 0.7148\n",
      "2025-10-10 08:40:16,790 | INFO | [SUN09] Best Val Acc: 0.7252\n",
      "2025-10-10 08:40:16,790 | INFO | ------------------------------------------------------------\n",
      "2025-10-10 08:40:16,791 | INFO | Baseline LODO (resnet18) finished | Mean Acc: 0.7817\n"
     ]
    },
    {
     "name": "stdout",
     "output_type": "stream",
     "text": [
      "[SUN09] Epoch 5/5 | Train - Loss: 0.0116, Acc: 0.9995 | Val Acc: 0.7148\n",
      "[SUN09] Best Val Acc: 0.7252\n",
      "------------------------------------------------------------\n",
      "Baseline LODO (resnet18) finished | Mean Acc: 0.7817\n"
     ]
    }
   ],
   "source": [
    "baseline_results, baseline_mean = run_baseline(\n",
    "    model_name=MODEL_NAME,\n",
    "    CFG=CFG,\n",
    "    logger=logger,\n",
    "    dataset_key=DS,\n",
    "    domains=domains,\n",
    "    loaders=loaders,\n",
    "    optimizer_fn=optimizer_fn,\n",
    "    device=device,\n",
    "    epochs=CFG[\"train\"][\"epochs\"]\n",
    ")"
   ]
  }
 ],
 "metadata": {
  "kernelspec": {
   "display_name": "bacp",
   "language": "python",
   "name": "python3"
  },
  "language_info": {
   "codemirror_mode": {
    "name": "ipython",
    "version": 3
   },
   "file_extension": ".py",
   "mimetype": "text/x-python",
   "name": "python",
   "nbconvert_exporter": "python",
   "pygments_lexer": "ipython3",
   "version": "3.10.16"
  }
 },
 "nbformat": 4,
 "nbformat_minor": 5
}
