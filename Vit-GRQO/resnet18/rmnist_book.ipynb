{
 "cells": [
  {
   "cell_type": "markdown",
   "id": "7aeb725f",
   "metadata": {},
   "source": [
    "### Imports"
   ]
  },
  {
   "cell_type": "code",
   "execution_count": null,
   "id": "e407742a",
   "metadata": {},
   "outputs": [
    {
     "name": "stdout",
     "output_type": "stream",
     "text": [
      "Device: cuda\n",
      "PyTorch: 2.5.1+cu121\n"
     ]
    }
   ],
   "source": [
    "import sys\n",
    "sys.dont_write_bytecode = True\n",
    "\n",
    "\n",
    "import torch\n",
    "import numpy as np\n",
    "import random\n",
    "import os\n",
    "\n",
    "def set_seeds(seed_value=42):\n",
    "    \"\"\"Sets seeds for reproducibility.\"\"\"\n",
    "    random.seed(seed_value)\n",
    "    np.random.seed(seed_value)\n",
    "    torch.manual_seed(seed_value)\n",
    "    os.environ['PYTHONHASHSEED'] = str(seed_value)\n",
    "    \n",
    "    if torch.cuda.is_available():\n",
    "        torch.cuda.manual_seed(seed_value)\n",
    "\n",
    "set_seeds(42) \n",
    "\n",
    "import json\n",
    "import torch.nn as nn\n",
    "import torch.optim as optim\n",
    "from tqdm import tqdm\n",
    "import warnings\n",
    "import logging\n",
    "from datetime import datetime\n",
    "warnings.filterwarnings('ignore')\n",
    "\n",
    "from model import get_model\n",
    "from config import CFG\n",
    "from dataset import get_dataset_class\n",
    "from resnet.plot import plot_domainwise_accuracy\n",
    "from transform import get_transforms\n",
    "from runner import run_baseline, run_lodo\n",
    "\n",
    "torch.manual_seed(CFG[\"system\"][\"seed\"])\n",
    "np.random.seed(CFG[\"system\"][\"seed\"])\n",
    "\n",
    "device = CFG[\"system\"][\"device\"]\n",
    "print(f\"Device: {device}\")\n",
    "print(f\"PyTorch: {torch.__version__}\")\n",
    "\n",
    "DS = \"RMNIST\"\n",
    "MODEL_NAME = \"resnet18\""
   ]
  },
  {
   "cell_type": "markdown",
   "id": "d617af05",
   "metadata": {},
   "source": [
    "### DataLoading"
   ]
  },
  {
   "cell_type": "code",
   "execution_count": null,
   "id": "3e673c0a",
   "metadata": {},
   "outputs": [
    {
     "name": "stdout",
     "output_type": "stream",
     "text": [
      "\n",
      "Data loaders ready!\n"
     ]
    }
   ],
   "source": [
    "train_transform, test_transform = get_transforms(img_size=224, augment=False, use_imagenet_norm=False)\n",
    "\n",
    "DatasetClass = get_dataset_class(DS)\n",
    "\n",
    "ld = DatasetClass(\n",
    "    data_root=CFG[\"datasets\"][DS][\"root\"],\n",
    "    transform=train_transform,\n",
    "    batch_size=CFG[\"train\"][\"batch_size\"]\n",
    ")\n",
    "\n",
    "print(\"\\nData loaders ready!\")"
   ]
  },
  {
   "cell_type": "markdown",
   "id": "e5a3d318",
   "metadata": {},
   "source": [
    "### Logging"
   ]
  },
  {
   "cell_type": "code",
   "execution_count": null,
   "id": "f01fd7aa",
   "metadata": {},
   "outputs": [
    {
     "name": "stderr",
     "output_type": "stream",
     "text": [
      "2025-10-10 23:52:42,401 | INFO | Initialized experiment directories for RMNIST\n",
      "2025-10-10 23:52:42,401 | INFO | Logs: c:\\Users\\Fatim_Sproj\\Desktop\\Fatim\\Spring 2025\\sproj\\Visual-Reasoning\\Vit-GRQO\\resnet\\RMNIST\\logs\n",
      "2025-10-10 23:52:42,401 | INFO | Checkpoints: c:\\Users\\Fatim_Sproj\\Desktop\\Fatim\\Spring 2025\\sproj\\Visual-Reasoning\\Vit-GRQO\\resnet\\RMNIST\\checkpoints\n",
      "2025-10-10 23:52:42,401 | INFO | Plots: c:\\Users\\Fatim_Sproj\\Desktop\\Fatim\\Spring 2025\\sproj\\Visual-Reasoning\\Vit-GRQO\\resnet\\RMNIST\\plots\n"
     ]
    }
   ],
   "source": [
    "dataset_name = DS\n",
    "base_dir = os.path.join(os.getcwd(), dataset_name)\n",
    "subdirs = [\"logs\", \"checkpoints\", \"plots\"]\n",
    "\n",
    "for sub in subdirs:\n",
    "    os.makedirs(os.path.join(base_dir, sub), exist_ok=True)\n",
    "\n",
    "timestamp = datetime.now().strftime(\"%Y-%m-%d_%H-%M-%S\")\n",
    "log_file = os.path.join(base_dir, \"logs\", f\"train_{timestamp}.log\")\n",
    "\n",
    "logging.basicConfig(\n",
    "    level=logging.INFO,\n",
    "    format=\"%(asctime)s | %(levelname)s | %(message)s\",\n",
    "    handlers=[\n",
    "        logging.FileHandler(log_file),\n",
    "        logging.StreamHandler()\n",
    "    ]\n",
    ")\n",
    "\n",
    "logger = logging.getLogger(f\"{dataset_name}_logger\")\n",
    "\n",
    "logger.info(f\"Initialized experiment directories for {dataset_name}\")\n",
    "logger.info(f\"Logs: {os.path.join(base_dir, 'logs')}\")\n",
    "logger.info(f\"Checkpoints: {os.path.join(base_dir, 'checkpoints')}\")\n",
    "logger.info(f\"Plots: {os.path.join(base_dir, 'plots')}\")"
   ]
  },
  {
   "cell_type": "markdown",
   "id": "47398d2c",
   "metadata": {},
   "source": [
    "### Setup"
   ]
  },
  {
   "cell_type": "code",
   "execution_count": null,
   "id": "450d7f06",
   "metadata": {},
   "outputs": [],
   "source": [
    "domains = CFG[\"datasets\"][DS][\"domains\"]\n",
    "loaders = {d: {\"train\": ld.get_dataloader(d, train=True), \"val\": ld.get_dataloader(d, train=False)} for d in domains}\n",
    "ckpt_root = os.path.join(base_dir, \"checkpoints\")\n",
    "log_dir = os.path.join(base_dir, \"logs\")\n",
    "plots_dir = os.path.join(base_dir, \"plots\")\n",
    "os.makedirs(ckpt_root, exist_ok=True)\n",
    "os.makedirs(log_dir, exist_ok=True)\n",
    "os.makedirs(plots_dir, exist_ok=True)\n",
    "model_factory = lambda cfg, dataset_key: get_model(cfg,dataset=DS)\n",
    "optimizer_fn = lambda model: optim.AdamW(model.parameters(), lr=CFG[\"train\"][\"lr\"], weight_decay=CFG[\"train\"].get(\"weight_decay\", 0.01))\n",
    "device = CFG[\"system\"][\"device\"]\n",
    "epochs = CFG[\"train\"][\"epochs\"]"
   ]
  },
  {
   "cell_type": "markdown",
   "id": "2d8dafe9",
   "metadata": {},
   "source": [
    "{\n",
    "  \"lodo_results\": {\n",
    "    \"art_painting\": 0.8341463414634146,\n",
    "    \"cartoon\": 0.7974413646055437,\n",
    "    \"photo\": 0.9580838323353293,\n",
    "    \"sketch\": 0.6017811704834606\n",
    "  },\n",
    "  \"timestamp\": \"20251004_020611\"\n",
    "}"
   ]
  },
  {
   "cell_type": "markdown",
   "id": "4931c868",
   "metadata": {},
   "source": [
    "### Leave One Domain Out"
   ]
  },
  {
   "cell_type": "code",
   "execution_count": null,
   "id": "c0344437",
   "metadata": {},
   "outputs": [
    {
     "name": "stderr",
     "output_type": "stream",
     "text": [
      "2025-10-10 20:45:08,259 | INFO | === LODO: Leaving out domain '0' ===\n"
     ]
    },
    {
     "name": "stdout",
     "output_type": "stream",
     "text": [
      "\n",
      "=== LODO: Leaving out domain '0' ===\n"
     ]
    },
    {
     "name": "stderr",
     "output_type": "stream",
     "text": [
      "Evaluating: 100%|██████████| 547/547 [00:28<00:00, 19.15it/s]\n",
      "2025-10-10 20:50:21,641 | INFO | [0] Epoch 1/5 | Train - Loss: 0.0549, Cls: 0.0540, GRQO: 0.0009, Acc: 0.9841 | Val - Loss: 0.1301, Cls: 0.1301, GRQO: 0.0000, Acc: 0.9603\n",
      "2025-10-10 20:50:21,692 | INFO | [0] New best val acc: 0.9603\n"
     ]
    },
    {
     "name": "stdout",
     "output_type": "stream",
     "text": [
      "[0] Epoch 1/5 | Train - Loss: 0.0549, Cls: 0.0540, GRQO: 0.0009, Acc: 0.9841 | Val - Loss: 0.1301, Cls: 0.1301, GRQO: 0.0000, Acc: 0.9603\n",
      "[0] New best val acc: 0.9603\n"
     ]
    },
    {
     "name": "stderr",
     "output_type": "stream",
     "text": [
      "Evaluating: 100%|██████████| 547/547 [00:27<00:00, 19.69it/s]\n",
      "2025-10-10 20:55:34,723 | INFO | [0] Epoch 2/5 | Train - Loss: 0.0193, Cls: 0.0192, GRQO: 0.0001, Acc: 0.9942 | Val - Loss: 0.0815, Cls: 0.0815, GRQO: 0.0000, Acc: 0.9775\n",
      "2025-10-10 20:55:34,797 | INFO | [0] New best val acc: 0.9775\n"
     ]
    },
    {
     "name": "stdout",
     "output_type": "stream",
     "text": [
      "[0] Epoch 2/5 | Train - Loss: 0.0193, Cls: 0.0192, GRQO: 0.0001, Acc: 0.9942 | Val - Loss: 0.0815, Cls: 0.0815, GRQO: 0.0000, Acc: 0.9775\n",
      "[0] New best val acc: 0.9775\n"
     ]
    },
    {
     "name": "stderr",
     "output_type": "stream",
     "text": [
      "Evaluating: 100%|██████████| 547/547 [00:27<00:00, 19.63it/s]\n",
      "2025-10-10 21:00:48,658 | INFO | [0] Epoch 3/5 | Train - Loss: 0.0141, Cls: 0.0141, GRQO: 0.0000, Acc: 0.9957 | Val - Loss: 0.1099, Cls: 0.1099, GRQO: 0.0000, Acc: 0.9701\n"
     ]
    },
    {
     "name": "stdout",
     "output_type": "stream",
     "text": [
      "[0] Epoch 3/5 | Train - Loss: 0.0141, Cls: 0.0141, GRQO: 0.0000, Acc: 0.9957 | Val - Loss: 0.1099, Cls: 0.1099, GRQO: 0.0000, Acc: 0.9701\n"
     ]
    },
    {
     "name": "stderr",
     "output_type": "stream",
     "text": [
      "Evaluating: 100%|██████████| 547/547 [00:27<00:00, 19.94it/s]\n",
      "2025-10-10 21:06:02,470 | INFO | [0] Epoch 4/5 | Train - Loss: 0.0111, Cls: 0.0111, GRQO: 0.0000, Acc: 0.9966 | Val - Loss: 0.1952, Cls: 0.1952, GRQO: 0.0000, Acc: 0.9517\n"
     ]
    },
    {
     "name": "stdout",
     "output_type": "stream",
     "text": [
      "[0] Epoch 4/5 | Train - Loss: 0.0111, Cls: 0.0111, GRQO: 0.0000, Acc: 0.9966 | Val - Loss: 0.1952, Cls: 0.1952, GRQO: 0.0000, Acc: 0.9517\n"
     ]
    },
    {
     "name": "stderr",
     "output_type": "stream",
     "text": [
      "Evaluating: 100%|██████████| 547/547 [00:27<00:00, 19.64it/s]\n",
      "2025-10-10 21:11:17,051 | INFO | [0] Epoch 5/5 | Train - Loss: 0.0092, Cls: 0.0092, GRQO: 0.0000, Acc: 0.9973 | Val - Loss: 0.1358, Cls: 0.1358, GRQO: 0.0000, Acc: 0.9647\n",
      "2025-10-10 21:11:17,051 | INFO | [0] Best Acc: 0.9775\n",
      "2025-10-10 21:11:17,051 | INFO | ------------------------------------------------------------\n",
      "2025-10-10 21:11:17,168 | INFO | === LODO: Leaving out domain '15' ===\n"
     ]
    },
    {
     "name": "stdout",
     "output_type": "stream",
     "text": [
      "[0] Epoch 5/5 | Train - Loss: 0.0092, Cls: 0.0092, GRQO: 0.0000, Acc: 0.9973 | Val - Loss: 0.1358, Cls: 0.1358, GRQO: 0.0000, Acc: 0.9647\n",
      "[0] Best Acc: 0.9775\n",
      "------------------------------------------------------------\n",
      "\n",
      "=== LODO: Leaving out domain '15' ===\n"
     ]
    },
    {
     "name": "stderr",
     "output_type": "stream",
     "text": [
      "Evaluating: 100%|██████████| 547/547 [00:27<00:00, 19.61it/s]\n",
      "2025-10-10 21:16:32,898 | INFO | [15] Epoch 1/5 | Train - Loss: 0.0545, Cls: 0.0536, GRQO: 0.0009, Acc: 0.9844 | Val - Loss: 0.0438, Cls: 0.0438, GRQO: 0.0000, Acc: 0.9865\n",
      "2025-10-10 21:16:32,950 | INFO | [15] New best val acc: 0.9865\n"
     ]
    },
    {
     "name": "stdout",
     "output_type": "stream",
     "text": [
      "[15] Epoch 1/5 | Train - Loss: 0.0545, Cls: 0.0536, GRQO: 0.0009, Acc: 0.9844 | Val - Loss: 0.0438, Cls: 0.0438, GRQO: 0.0000, Acc: 0.9865\n",
      "[15] New best val acc: 0.9865\n"
     ]
    },
    {
     "name": "stderr",
     "output_type": "stream",
     "text": [
      "Evaluating: 100%|██████████| 547/547 [00:27<00:00, 19.99it/s]\n",
      "2025-10-10 21:21:47,715 | INFO | [15] Epoch 2/5 | Train - Loss: 0.0200, Cls: 0.0199, GRQO: 0.0001, Acc: 0.9939 | Val - Loss: 0.0371, Cls: 0.0371, GRQO: 0.0000, Acc: 0.9884\n",
      "2025-10-10 21:21:47,802 | INFO | [15] New best val acc: 0.9884\n"
     ]
    },
    {
     "name": "stdout",
     "output_type": "stream",
     "text": [
      "[15] Epoch 2/5 | Train - Loss: 0.0200, Cls: 0.0199, GRQO: 0.0001, Acc: 0.9939 | Val - Loss: 0.0371, Cls: 0.0371, GRQO: 0.0000, Acc: 0.9884\n",
      "[15] New best val acc: 0.9884\n"
     ]
    },
    {
     "name": "stderr",
     "output_type": "stream",
     "text": [
      "Evaluating: 100%|██████████| 547/547 [00:27<00:00, 19.59it/s]\n",
      "2025-10-10 21:27:02,461 | INFO | [15] Epoch 3/5 | Train - Loss: 0.0147, Cls: 0.0147, GRQO: 0.0000, Acc: 0.9956 | Val - Loss: 0.0271, Cls: 0.0271, GRQO: 0.0000, Acc: 0.9915\n",
      "2025-10-10 21:27:02,530 | INFO | [15] New best val acc: 0.9915\n"
     ]
    },
    {
     "name": "stdout",
     "output_type": "stream",
     "text": [
      "[15] Epoch 3/5 | Train - Loss: 0.0147, Cls: 0.0147, GRQO: 0.0000, Acc: 0.9956 | Val - Loss: 0.0271, Cls: 0.0271, GRQO: 0.0000, Acc: 0.9915\n",
      "[15] New best val acc: 0.9915\n"
     ]
    },
    {
     "name": "stderr",
     "output_type": "stream",
     "text": [
      "Evaluating: 100%|██████████| 547/547 [00:27<00:00, 19.61it/s]\n",
      "2025-10-10 21:32:16,843 | INFO | [15] Epoch 4/5 | Train - Loss: 0.0118, Cls: 0.0118, GRQO: 0.0000, Acc: 0.9964 | Val - Loss: 0.0424, Cls: 0.0424, GRQO: 0.0000, Acc: 0.9871\n"
     ]
    },
    {
     "name": "stdout",
     "output_type": "stream",
     "text": [
      "[15] Epoch 4/5 | Train - Loss: 0.0118, Cls: 0.0118, GRQO: 0.0000, Acc: 0.9964 | Val - Loss: 0.0424, Cls: 0.0424, GRQO: 0.0000, Acc: 0.9871\n"
     ]
    },
    {
     "name": "stderr",
     "output_type": "stream",
     "text": [
      "Evaluating: 100%|██████████| 547/547 [00:27<00:00, 19.75it/s]\n",
      "2025-10-10 21:37:30,308 | INFO | [15] Epoch 5/5 | Train - Loss: 0.0096, Cls: 0.0096, GRQO: 0.0000, Acc: 0.9971 | Val - Loss: 0.0367, Cls: 0.0367, GRQO: -0.0000, Acc: 0.9890\n",
      "2025-10-10 21:37:30,308 | INFO | [15] Best Acc: 0.9915\n",
      "2025-10-10 21:37:30,308 | INFO | ------------------------------------------------------------\n",
      "2025-10-10 21:37:30,436 | INFO | === LODO: Leaving out domain '30' ===\n"
     ]
    },
    {
     "name": "stdout",
     "output_type": "stream",
     "text": [
      "[15] Epoch 5/5 | Train - Loss: 0.0096, Cls: 0.0096, GRQO: 0.0000, Acc: 0.9971 | Val - Loss: 0.0367, Cls: 0.0367, GRQO: -0.0000, Acc: 0.9890\n",
      "[15] Best Acc: 0.9915\n",
      "------------------------------------------------------------\n",
      "\n",
      "=== LODO: Leaving out domain '30' ===\n"
     ]
    },
    {
     "name": "stderr",
     "output_type": "stream",
     "text": [
      "Evaluating: 100%|██████████| 547/547 [00:27<00:00, 19.56it/s]\n",
      "2025-10-10 21:42:45,572 | INFO | [30] Epoch 1/5 | Train - Loss: 0.0558, Cls: 0.0548, GRQO: 0.0009, Acc: 0.9841 | Val - Loss: 0.0293, Cls: 0.0293, GRQO: 0.0000, Acc: 0.9906\n",
      "2025-10-10 21:42:45,646 | INFO | [30] New best val acc: 0.9906\n"
     ]
    },
    {
     "name": "stdout",
     "output_type": "stream",
     "text": [
      "[30] Epoch 1/5 | Train - Loss: 0.0558, Cls: 0.0548, GRQO: 0.0009, Acc: 0.9841 | Val - Loss: 0.0293, Cls: 0.0293, GRQO: 0.0000, Acc: 0.9906\n",
      "[30] New best val acc: 0.9906\n"
     ]
    },
    {
     "name": "stderr",
     "output_type": "stream",
     "text": [
      "Evaluating: 100%|██████████| 547/547 [00:27<00:00, 19.63it/s]\n",
      "2025-10-10 21:48:00,338 | INFO | [30] Epoch 2/5 | Train - Loss: 0.0204, Cls: 0.0204, GRQO: 0.0001, Acc: 0.9936 | Val - Loss: 0.0477, Cls: 0.0477, GRQO: 0.0000, Acc: 0.9838\n"
     ]
    },
    {
     "name": "stdout",
     "output_type": "stream",
     "text": [
      "[30] Epoch 2/5 | Train - Loss: 0.0204, Cls: 0.0204, GRQO: 0.0001, Acc: 0.9936 | Val - Loss: 0.0477, Cls: 0.0477, GRQO: 0.0000, Acc: 0.9838\n"
     ]
    },
    {
     "name": "stderr",
     "output_type": "stream",
     "text": [
      "Evaluating: 100%|██████████| 547/547 [00:27<00:00, 19.65it/s]\n",
      "2025-10-10 21:53:14,678 | INFO | [30] Epoch 3/5 | Train - Loss: 0.0145, Cls: 0.0145, GRQO: 0.0000, Acc: 0.9955 | Val - Loss: 0.0202, Cls: 0.0202, GRQO: 0.0000, Acc: 0.9942\n",
      "2025-10-10 21:53:14,753 | INFO | [30] New best val acc: 0.9942\n"
     ]
    },
    {
     "name": "stdout",
     "output_type": "stream",
     "text": [
      "[30] Epoch 3/5 | Train - Loss: 0.0145, Cls: 0.0145, GRQO: 0.0000, Acc: 0.9955 | Val - Loss: 0.0202, Cls: 0.0202, GRQO: 0.0000, Acc: 0.9942\n",
      "[30] New best val acc: 0.9942\n"
     ]
    }
   ],
   "source": [
    "lodo_results, lodo_mean, lodo_summary = run_lodo(\n",
    "    model_fn=model_factory,\n",
    "    CFG=CFG,\n",
    "    logger=logger,\n",
    "    dataset_key=DS,\n",
    "    domains=domains,\n",
    "    loaders=loaders,\n",
    "    optimizer_fn=optimizer_fn,\n",
    "    device=device,\n",
    "    ckpt_root=ckpt_root,\n",
    "    log_dir=log_dir,\n",
    "    epochs=epochs\n",
    ")"
   ]
  },
  {
   "cell_type": "markdown",
   "id": "008d21ac",
   "metadata": {},
   "source": [
    "### Baseline"
   ]
  },
  {
   "cell_type": "code",
   "execution_count": null,
   "id": "060b18a4",
   "metadata": {},
   "outputs": [
    {
     "name": "stderr",
     "output_type": "stream",
     "text": [
      "2025-10-10 23:53:00,750 | INFO | Initializing ResNet baseline: resnet18\n",
      "2025-10-10 23:53:00,901 | INFO | === Baseline LODO: Leaving out domain '0' ===\n"
     ]
    },
    {
     "name": "stdout",
     "output_type": "stream",
     "text": [
      "Initializing ResNet baseline: resnet18\n",
      "\n",
      "=== Baseline LODO: Leaving out domain '0' ===\n"
     ]
    },
    {
     "name": "stderr",
     "output_type": "stream",
     "text": [
      "2025-10-10 23:57:23,704 | INFO | [0] Epoch 1/5 | Train - Loss: 0.0425, Acc: 0.9875 | Val Acc: 0.9643\n"
     ]
    },
    {
     "name": "stdout",
     "output_type": "stream",
     "text": [
      "[0] Epoch 1/5 | Train - Loss: 0.0425, Acc: 0.9875 | Val Acc: 0.9643\n"
     ]
    },
    {
     "name": "stderr",
     "output_type": "stream",
     "text": [
      "2025-10-11 00:02:48,819 | INFO | [0] Epoch 2/5 | Train - Loss: 0.0153, Acc: 0.9953 | Val Acc: 0.9725\n"
     ]
    },
    {
     "name": "stdout",
     "output_type": "stream",
     "text": [
      "[0] Epoch 2/5 | Train - Loss: 0.0153, Acc: 0.9953 | Val Acc: 0.9725\n"
     ]
    },
    {
     "name": "stderr",
     "output_type": "stream",
     "text": [
      "2025-10-11 00:07:29,331 | INFO | [0] Epoch 3/5 | Train - Loss: 0.0107, Acc: 0.9966 | Val Acc: 0.9752\n"
     ]
    },
    {
     "name": "stdout",
     "output_type": "stream",
     "text": [
      "[0] Epoch 3/5 | Train - Loss: 0.0107, Acc: 0.9966 | Val Acc: 0.9752\n"
     ]
    },
    {
     "name": "stderr",
     "output_type": "stream",
     "text": [
      "2025-10-11 00:11:54,412 | INFO | [0] Epoch 4/5 | Train - Loss: 0.0081, Acc: 0.9974 | Val Acc: 0.9817\n"
     ]
    },
    {
     "name": "stdout",
     "output_type": "stream",
     "text": [
      "[0] Epoch 4/5 | Train - Loss: 0.0081, Acc: 0.9974 | Val Acc: 0.9817\n"
     ]
    },
    {
     "name": "stderr",
     "output_type": "stream",
     "text": [
      "2025-10-11 00:16:32,579 | INFO | [0] Epoch 5/5 | Train - Loss: 0.0059, Acc: 0.9981 | Val Acc: 0.9844\n",
      "2025-10-11 00:16:32,579 | INFO | [0] Best Val Acc: 0.9844\n",
      "2025-10-11 00:16:32,579 | INFO | ------------------------------------------------------------\n",
      "2025-10-11 00:16:32,579 | INFO | Initializing ResNet baseline: resnet18\n",
      "2025-10-11 00:16:32,662 | INFO | === Baseline LODO: Leaving out domain '15' ===\n"
     ]
    },
    {
     "name": "stdout",
     "output_type": "stream",
     "text": [
      "[0] Epoch 5/5 | Train - Loss: 0.0059, Acc: 0.9981 | Val Acc: 0.9844\n",
      "[0] Best Val Acc: 0.9844\n",
      "------------------------------------------------------------\n",
      "Initializing ResNet baseline: resnet18\n",
      "\n",
      "=== Baseline LODO: Leaving out domain '15' ===\n"
     ]
    },
    {
     "name": "stderr",
     "output_type": "stream",
     "text": [
      "2025-10-11 00:20:52,509 | INFO | [15] Epoch 1/5 | Train - Loss: 0.0424, Acc: 0.9878 | Val Acc: 0.9872\n"
     ]
    },
    {
     "name": "stdout",
     "output_type": "stream",
     "text": [
      "[15] Epoch 1/5 | Train - Loss: 0.0424, Acc: 0.9878 | Val Acc: 0.9872\n"
     ]
    },
    {
     "name": "stderr",
     "output_type": "stream",
     "text": [
      "2025-10-11 00:25:11,819 | INFO | [15] Epoch 2/5 | Train - Loss: 0.0160, Acc: 0.9950 | Val Acc: 0.9887\n"
     ]
    },
    {
     "name": "stdout",
     "output_type": "stream",
     "text": [
      "[15] Epoch 2/5 | Train - Loss: 0.0160, Acc: 0.9950 | Val Acc: 0.9887\n"
     ]
    },
    {
     "name": "stderr",
     "output_type": "stream",
     "text": [
      "2025-10-11 00:29:38,826 | INFO | [15] Epoch 3/5 | Train - Loss: 0.0114, Acc: 0.9963 | Val Acc: 0.9860\n"
     ]
    },
    {
     "name": "stdout",
     "output_type": "stream",
     "text": [
      "[15] Epoch 3/5 | Train - Loss: 0.0114, Acc: 0.9963 | Val Acc: 0.9860\n"
     ]
    },
    {
     "name": "stderr",
     "output_type": "stream",
     "text": [
      "2025-10-11 00:34:55,883 | INFO | [15] Epoch 4/5 | Train - Loss: 0.0085, Acc: 0.9973 | Val Acc: 0.9916\n"
     ]
    },
    {
     "name": "stdout",
     "output_type": "stream",
     "text": [
      "[15] Epoch 4/5 | Train - Loss: 0.0085, Acc: 0.9973 | Val Acc: 0.9916\n"
     ]
    },
    {
     "name": "stderr",
     "output_type": "stream",
     "text": [
      "2025-10-11 00:40:09,654 | INFO | [15] Epoch 5/5 | Train - Loss: 0.0068, Acc: 0.9978 | Val Acc: 0.9898\n",
      "2025-10-11 00:40:09,654 | INFO | [15] Best Val Acc: 0.9916\n",
      "2025-10-11 00:40:09,654 | INFO | ------------------------------------------------------------\n",
      "2025-10-11 00:40:09,654 | INFO | Initializing ResNet baseline: resnet18\n",
      "2025-10-11 00:40:09,741 | INFO | === Baseline LODO: Leaving out domain '30' ===\n"
     ]
    },
    {
     "name": "stdout",
     "output_type": "stream",
     "text": [
      "[15] Epoch 5/5 | Train - Loss: 0.0068, Acc: 0.9978 | Val Acc: 0.9898\n",
      "[15] Best Val Acc: 0.9916\n",
      "------------------------------------------------------------\n",
      "Initializing ResNet baseline: resnet18\n",
      "\n",
      "=== Baseline LODO: Leaving out domain '30' ===\n"
     ]
    },
    {
     "name": "stderr",
     "output_type": "stream",
     "text": [
      "2025-10-11 00:44:45,148 | INFO | [30] Epoch 1/5 | Train - Loss: 0.0424, Acc: 0.9879 | Val Acc: 0.9899\n"
     ]
    },
    {
     "name": "stdout",
     "output_type": "stream",
     "text": [
      "[30] Epoch 1/5 | Train - Loss: 0.0424, Acc: 0.9879 | Val Acc: 0.9899\n"
     ]
    },
    {
     "name": "stderr",
     "output_type": "stream",
     "text": [
      "2025-10-11 00:49:44,914 | INFO | [30] Epoch 2/5 | Train - Loss: 0.0161, Acc: 0.9950 | Val Acc: 0.9949\n"
     ]
    },
    {
     "name": "stdout",
     "output_type": "stream",
     "text": [
      "[30] Epoch 2/5 | Train - Loss: 0.0161, Acc: 0.9950 | Val Acc: 0.9949\n"
     ]
    },
    {
     "name": "stderr",
     "output_type": "stream",
     "text": [
      "2025-10-11 00:54:10,116 | INFO | [30] Epoch 3/5 | Train - Loss: 0.0111, Acc: 0.9965 | Val Acc: 0.9839\n"
     ]
    },
    {
     "name": "stdout",
     "output_type": "stream",
     "text": [
      "[30] Epoch 3/5 | Train - Loss: 0.0111, Acc: 0.9965 | Val Acc: 0.9839\n"
     ]
    },
    {
     "name": "stderr",
     "output_type": "stream",
     "text": [
      "2025-10-11 00:58:29,179 | INFO | [30] Epoch 4/5 | Train - Loss: 0.0086, Acc: 0.9972 | Val Acc: 0.9938\n"
     ]
    },
    {
     "name": "stdout",
     "output_type": "stream",
     "text": [
      "[30] Epoch 4/5 | Train - Loss: 0.0086, Acc: 0.9972 | Val Acc: 0.9938\n"
     ]
    },
    {
     "name": "stderr",
     "output_type": "stream",
     "text": [
      "2025-10-11 01:02:46,761 | INFO | [30] Epoch 5/5 | Train - Loss: 0.0064, Acc: 0.9979 | Val Acc: 0.9924\n",
      "2025-10-11 01:02:46,761 | INFO | [30] Best Val Acc: 0.9949\n",
      "2025-10-11 01:02:46,762 | INFO | ------------------------------------------------------------\n",
      "2025-10-11 01:02:46,762 | INFO | Initializing ResNet baseline: resnet18\n",
      "2025-10-11 01:02:46,836 | INFO | === Baseline LODO: Leaving out domain '45' ===\n"
     ]
    },
    {
     "name": "stdout",
     "output_type": "stream",
     "text": [
      "[30] Epoch 5/5 | Train - Loss: 0.0064, Acc: 0.9979 | Val Acc: 0.9924\n",
      "[30] Best Val Acc: 0.9949\n",
      "------------------------------------------------------------\n",
      "Initializing ResNet baseline: resnet18\n",
      "\n",
      "=== Baseline LODO: Leaving out domain '45' ===\n"
     ]
    },
    {
     "name": "stderr",
     "output_type": "stream",
     "text": [
      "2025-10-11 01:07:17,696 | INFO | [45] Epoch 1/5 | Train - Loss: 0.0431, Acc: 0.9876 | Val Acc: 0.9893\n"
     ]
    },
    {
     "name": "stdout",
     "output_type": "stream",
     "text": [
      "[45] Epoch 1/5 | Train - Loss: 0.0431, Acc: 0.9876 | Val Acc: 0.9893\n"
     ]
    },
    {
     "name": "stderr",
     "output_type": "stream",
     "text": [
      "2025-10-11 01:11:44,928 | INFO | [45] Epoch 2/5 | Train - Loss: 0.0160, Acc: 0.9950 | Val Acc: 0.9924\n"
     ]
    },
    {
     "name": "stdout",
     "output_type": "stream",
     "text": [
      "[45] Epoch 2/5 | Train - Loss: 0.0160, Acc: 0.9950 | Val Acc: 0.9924\n"
     ]
    },
    {
     "name": "stderr",
     "output_type": "stream",
     "text": [
      "2025-10-11 01:16:12,054 | INFO | [45] Epoch 3/5 | Train - Loss: 0.0113, Acc: 0.9963 | Val Acc: 0.9941\n"
     ]
    },
    {
     "name": "stdout",
     "output_type": "stream",
     "text": [
      "[45] Epoch 3/5 | Train - Loss: 0.0113, Acc: 0.9963 | Val Acc: 0.9941\n"
     ]
    },
    {
     "name": "stderr",
     "output_type": "stream",
     "text": [
      "2025-10-11 01:20:37,208 | INFO | [45] Epoch 4/5 | Train - Loss: 0.0082, Acc: 0.9973 | Val Acc: 0.9902\n"
     ]
    },
    {
     "name": "stdout",
     "output_type": "stream",
     "text": [
      "[45] Epoch 4/5 | Train - Loss: 0.0082, Acc: 0.9973 | Val Acc: 0.9902\n"
     ]
    },
    {
     "name": "stderr",
     "output_type": "stream",
     "text": [
      "2025-10-11 01:25:20,723 | INFO | [45] Epoch 5/5 | Train - Loss: 0.0064, Acc: 0.9979 | Val Acc: 0.9951\n",
      "2025-10-11 01:25:20,723 | INFO | [45] Best Val Acc: 0.9951\n",
      "2025-10-11 01:25:20,723 | INFO | ------------------------------------------------------------\n",
      "2025-10-11 01:25:20,723 | INFO | Initializing ResNet baseline: resnet18\n",
      "2025-10-11 01:25:20,823 | INFO | === Baseline LODO: Leaving out domain '60' ===\n"
     ]
    },
    {
     "name": "stdout",
     "output_type": "stream",
     "text": [
      "[45] Epoch 5/5 | Train - Loss: 0.0064, Acc: 0.9979 | Val Acc: 0.9951\n",
      "[45] Best Val Acc: 0.9951\n",
      "------------------------------------------------------------\n",
      "Initializing ResNet baseline: resnet18\n",
      "\n",
      "=== Baseline LODO: Leaving out domain '60' ===\n"
     ]
    },
    {
     "name": "stderr",
     "output_type": "stream",
     "text": [
      "2025-10-11 01:29:47,470 | INFO | [60] Epoch 1/5 | Train - Loss: 0.0434, Acc: 0.9874 | Val Acc: 0.9910\n"
     ]
    },
    {
     "name": "stdout",
     "output_type": "stream",
     "text": [
      "[60] Epoch 1/5 | Train - Loss: 0.0434, Acc: 0.9874 | Val Acc: 0.9910\n"
     ]
    },
    {
     "ename": "KeyboardInterrupt",
     "evalue": "",
     "output_type": "error",
     "traceback": [
      "\u001b[1;31m---------------------------------------------------------------------------\u001b[0m",
      "\u001b[1;31mKeyboardInterrupt\u001b[0m                         Traceback (most recent call last)",
      "Cell \u001b[1;32mIn[5], line 2\u001b[0m\n\u001b[0;32m      1\u001b[0m model_name \u001b[38;5;241m=\u001b[39m\u001b[38;5;124m\"\u001b[39m\u001b[38;5;124mresnet18\u001b[39m\u001b[38;5;124m\"\u001b[39m\n\u001b[1;32m----> 2\u001b[0m baseline_results, baseline_mean \u001b[38;5;241m=\u001b[39m \u001b[43mrun_baseline\u001b[49m\u001b[43m(\u001b[49m\n\u001b[0;32m      3\u001b[0m \u001b[43m    \u001b[49m\u001b[43mmodel_name\u001b[49m\u001b[38;5;241;43m=\u001b[39;49m\u001b[43mmodel_name\u001b[49m\u001b[43m,\u001b[49m\n\u001b[0;32m      4\u001b[0m \u001b[43m    \u001b[49m\u001b[43mCFG\u001b[49m\u001b[38;5;241;43m=\u001b[39;49m\u001b[43mCFG\u001b[49m\u001b[43m,\u001b[49m\n\u001b[0;32m      5\u001b[0m \u001b[43m    \u001b[49m\u001b[43mlogger\u001b[49m\u001b[38;5;241;43m=\u001b[39;49m\u001b[43mlogger\u001b[49m\u001b[43m,\u001b[49m\n\u001b[0;32m      6\u001b[0m \u001b[43m    \u001b[49m\u001b[43mdataset_key\u001b[49m\u001b[38;5;241;43m=\u001b[39;49m\u001b[38;5;124;43m\"\u001b[39;49m\u001b[38;5;124;43mRMNIST\u001b[39;49m\u001b[38;5;124;43m\"\u001b[39;49m\u001b[43m,\u001b[49m\n\u001b[0;32m      7\u001b[0m \u001b[43m    \u001b[49m\u001b[43mdomains\u001b[49m\u001b[38;5;241;43m=\u001b[39;49m\u001b[43mdomains\u001b[49m\u001b[43m,\u001b[49m\n\u001b[0;32m      8\u001b[0m \u001b[43m    \u001b[49m\u001b[43mloaders\u001b[49m\u001b[38;5;241;43m=\u001b[39;49m\u001b[43mloaders\u001b[49m\u001b[43m,\u001b[49m\n\u001b[0;32m      9\u001b[0m \u001b[43m    \u001b[49m\u001b[43moptimizer_fn\u001b[49m\u001b[38;5;241;43m=\u001b[39;49m\u001b[43moptimizer_fn\u001b[49m\u001b[43m,\u001b[49m\n\u001b[0;32m     10\u001b[0m \u001b[43m    \u001b[49m\u001b[43mdevice\u001b[49m\u001b[38;5;241;43m=\u001b[39;49m\u001b[43mdevice\u001b[49m\u001b[43m,\u001b[49m\n\u001b[0;32m     11\u001b[0m \u001b[43m    \u001b[49m\u001b[43mepochs\u001b[49m\u001b[38;5;241;43m=\u001b[39;49m\u001b[43mCFG\u001b[49m\u001b[43m[\u001b[49m\u001b[38;5;124;43m\"\u001b[39;49m\u001b[38;5;124;43mtrain\u001b[39;49m\u001b[38;5;124;43m\"\u001b[39;49m\u001b[43m]\u001b[49m\u001b[43m[\u001b[49m\u001b[38;5;124;43m\"\u001b[39;49m\u001b[38;5;124;43mepochs\u001b[39;49m\u001b[38;5;124;43m\"\u001b[39;49m\u001b[43m]\u001b[49m\n\u001b[0;32m     12\u001b[0m \u001b[43m)\u001b[49m\n",
      "File \u001b[1;32mc:\\Users\\Fatim_Sproj\\Desktop\\Fatim\\Spring 2025\\sproj\\Visual-Reasoning\\Vit-GRQO\\runner.py:130\u001b[0m, in \u001b[0;36mrun_baseline\u001b[1;34m(model_name, CFG, logger, dataset_key, domains, loaders, optimizer_fn, device, ckpt_root, log_dir, epochs)\u001b[0m\n\u001b[0;32m    127\u001b[0m running_loss, running_corrects, running_samples \u001b[38;5;241m=\u001b[39m \u001b[38;5;241m0.0\u001b[39m, \u001b[38;5;241m0\u001b[39m, \u001b[38;5;241m0\u001b[39m\n\u001b[0;32m    129\u001b[0m \u001b[38;5;28;01mfor\u001b[39;00m images, labels \u001b[38;5;129;01min\u001b[39;00m combined_train_loader:\n\u001b[1;32m--> 130\u001b[0m     images, labels \u001b[38;5;241m=\u001b[39m \u001b[43mimages\u001b[49m\u001b[38;5;241;43m.\u001b[39;49m\u001b[43mto\u001b[49m\u001b[43m(\u001b[49m\u001b[43mdevice\u001b[49m\u001b[43m)\u001b[49m, labels\u001b[38;5;241m.\u001b[39mto(device)\n\u001b[0;32m    132\u001b[0m     optimizer\u001b[38;5;241m.\u001b[39mzero_grad()\n\u001b[0;32m    133\u001b[0m     outputs \u001b[38;5;241m=\u001b[39m model(images)\n",
      "\u001b[1;31mKeyboardInterrupt\u001b[0m: "
     ]
    }
   ],
   "source": [
    "baseline_results, baseline_mean = run_baseline(\n",
    "    model_name=MODEL_NAME,\n",
    "    CFG=CFG,\n",
    "    logger=logger,\n",
    "    dataset_key=DS,\n",
    "    domains=domains,\n",
    "    loaders=loaders,\n",
    "    optimizer_fn=optimizer_fn,\n",
    "    device=device,\n",
    "    epochs=CFG[\"train\"][\"epochs\"]\n",
    ")"
   ]
  }
 ],
 "metadata": {
  "kernelspec": {
   "display_name": "bacp",
   "language": "python",
   "name": "python3"
  },
  "language_info": {
   "codemirror_mode": {
    "name": "ipython",
    "version": 3
   },
   "file_extension": ".py",
   "mimetype": "text/x-python",
   "name": "python",
   "nbconvert_exporter": "python",
   "pygments_lexer": "ipython3",
   "version": "3.10.16"
  }
 },
 "nbformat": 4,
 "nbformat_minor": 5
}
