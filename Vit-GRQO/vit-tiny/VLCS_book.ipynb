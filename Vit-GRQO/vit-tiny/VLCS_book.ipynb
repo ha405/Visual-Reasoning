{
 "cells": [
  {
   "cell_type": "markdown",
   "id": "7aeb725f",
   "metadata": {},
   "source": [
    "### Imports"
   ]
  },
  {
   "cell_type": "code",
   "execution_count": null,
   "id": "e407742a",
   "metadata": {},
   "outputs": [
    {
     "name": "stdout",
     "output_type": "stream",
     "text": [
      "Device: cuda\n",
      "PyTorch: 2.5.1+cu121\n"
     ]
    }
   ],
   "source": [
    "import sys\n",
    "sys.dont_write_bytecode = True\n",
    "\n",
    "\n",
    "import torch\n",
    "import numpy as np\n",
    "import random\n",
    "import os\n",
    "\n",
    "def set_seeds(seed_value=42):\n",
    "    \"\"\"Sets seeds for reproducibility.\"\"\"\n",
    "    random.seed(seed_value)\n",
    "    np.random.seed(seed_value)\n",
    "    torch.manual_seed(seed_value)\n",
    "    os.environ['PYTHONHASHSEED'] = str(seed_value)\n",
    "    \n",
    "    if torch.cuda.is_available():\n",
    "        torch.cuda.manual_seed(seed_value)\n",
    "\n",
    "set_seeds(42) \n",
    "\n",
    "import json\n",
    "import torch.nn as nn\n",
    "import torch.optim as optim\n",
    "from tqdm import tqdm\n",
    "import warnings\n",
    "import logging\n",
    "from datetime import datetime\n",
    "warnings.filterwarnings('ignore')\n",
    "\n",
    "from model import get_model\n",
    "from config import CFG\n",
    "from dataset import get_dataset_class\n",
    "from plot import plot_domainwise_accuracy\n",
    "from transform import get_transforms\n",
    "from runner import run_baseline, run_lodo\n",
    "\n",
    "torch.manual_seed(CFG[\"system\"][\"seed\"])\n",
    "np.random.seed(CFG[\"system\"][\"seed\"])\n",
    "\n",
    "device = CFG[\"system\"][\"device\"]\n",
    "print(f\"Device: {device}\")\n",
    "print(f\"PyTorch: {torch.__version__}\")\n",
    "\n",
    "DS = \"VLCS\"\n",
    "MODEL_NAME = \"WinKawaks/vit-tiny-patch16-224\""
   ]
  },
  {
   "cell_type": "markdown",
   "id": "d617af05",
   "metadata": {},
   "source": [
    "### DataLoading"
   ]
  },
  {
   "cell_type": "code",
   "execution_count": null,
   "id": "3e673c0a",
   "metadata": {},
   "outputs": [
    {
     "name": "stdout",
     "output_type": "stream",
     "text": [
      "\n",
      "Data loaders ready!\n"
     ]
    }
   ],
   "source": [
    "train_transform, test_transform = get_transforms(img_size=224, augment=False, use_imagenet_norm=False)\n",
    "\n",
    "DatasetClass = get_dataset_class(DS)\n",
    "\n",
    "ld = DatasetClass(\n",
    "    data_root=CFG[\"datasets\"][DS][\"root\"],\n",
    "    transform=train_transform,\n",
    "    batch_size=CFG[\"train\"][\"batch_size\"]\n",
    ")\n",
    "\n",
    "print(\"\\nData loaders ready!\")"
   ]
  },
  {
   "cell_type": "markdown",
   "id": "e5a3d318",
   "metadata": {},
   "source": [
    "### Logging"
   ]
  },
  {
   "cell_type": "code",
   "execution_count": null,
   "id": "f01fd7aa",
   "metadata": {},
   "outputs": [
    {
     "name": "stdout",
     "output_type": "stream",
     "text": [
      "Initialized experiment directories for VLCS\n",
      "Logs: c:\\Users\\Fatim_Sproj\\Desktop\\Fatim\\Spring 2025\\sproj\\Visual-Reasoning\\Vit-GRQO\\vit-tiny\\VLCS\\logs\n",
      "Checkpoints: c:\\Users\\Fatim_Sproj\\Desktop\\Fatim\\Spring 2025\\sproj\\Visual-Reasoning\\Vit-GRQO\\vit-tiny\\VLCS\\checkpoints\n",
      "Plots: c:\\Users\\Fatim_Sproj\\Desktop\\Fatim\\Spring 2025\\sproj\\Visual-Reasoning\\Vit-GRQO\\vit-tiny\\VLCS\\plots\n"
     ]
    }
   ],
   "source": [
    "dataset_name = DS\n",
    "base_dir = os.path.join(os.getcwd(), dataset_name)\n",
    "subdirs = [\"logs\", \"checkpoints\", \"plots\"]\n",
    "\n",
    "for sub in subdirs:\n",
    "    os.makedirs(os.path.join(base_dir, sub), exist_ok=True)\n",
    "\n",
    "timestamp = datetime.now().strftime(\"%Y-%m-%d_%H-%M-%S\")\n",
    "log_file = os.path.join(base_dir, \"logs\", f\"train_{timestamp}.log\")\n",
    "\n",
    "logging.basicConfig(\n",
    "    level=logging.INFO,\n",
    "    format=\"%(asctime)s | %(levelname)s | %(message)s\",\n",
    "    handlers=[\n",
    "        logging.FileHandler(log_file),\n",
    "        logging.StreamHandler()\n",
    "    ]\n",
    ")\n",
    "\n",
    "logger = logging.getLogger(f\"{dataset_name}_logger\")\n",
    "\n",
    "logger.info(f\"Initialized experiment directories for {dataset_name}\")\n",
    "logger.info(f\"Logs: {os.path.join(base_dir, 'logs')}\")\n",
    "logger.info(f\"Checkpoints: {os.path.join(base_dir, 'checkpoints')}\")\n",
    "logger.info(f\"Plots: {os.path.join(base_dir, 'plots')}\")"
   ]
  },
  {
   "cell_type": "markdown",
   "id": "47398d2c",
   "metadata": {},
   "source": [
    "### Setup"
   ]
  },
  {
   "cell_type": "code",
   "execution_count": null,
   "id": "450d7f06",
   "metadata": {},
   "outputs": [],
   "source": [
    "domains = CFG[\"datasets\"][DS][\"domains\"]\n",
    "loaders = {d: {\"train\": ld.get_dataloader(d, train=True), \"val\": ld.get_dataloader(d, train=False)} for d in domains}\n",
    "ckpt_root = os.path.join(base_dir, \"checkpoints\")\n",
    "log_dir = os.path.join(base_dir, \"logs\")\n",
    "plots_dir = os.path.join(base_dir, \"plots\")\n",
    "os.makedirs(ckpt_root, exist_ok=True)\n",
    "os.makedirs(log_dir, exist_ok=True)\n",
    "os.makedirs(plots_dir, exist_ok=True)\n",
    "model_factory = lambda cfg, dataset_key: get_model(cfg,dataset=DS)\n",
    "optimizer_fn = lambda model: optim.AdamW(model.parameters(), lr=CFG[\"train\"][\"lr\"], weight_decay=CFG[\"train\"].get(\"weight_decay\", 0.01))\n",
    "device = CFG[\"system\"][\"device\"]\n",
    "epochs = CFG[\"train\"][\"epochs\"]\n"
   ]
  },
  {
   "cell_type": "markdown",
   "id": "2d8dafe9",
   "metadata": {},
   "source": [
    "{\n",
    "  \"lodo_results\": {\n",
    "    \"art_painting\": 0.8341463414634146,\n",
    "    \"cartoon\": 0.7974413646055437,\n",
    "    \"photo\": 0.9580838323353293,\n",
    "    \"sketch\": 0.6017811704834606\n",
    "  },\n",
    "  \"timestamp\": \"20251004_020611\"\n",
    "}"
   ]
  },
  {
   "cell_type": "markdown",
   "id": "4931c868",
   "metadata": {},
   "source": [
    "### Leave One Domain Out"
   ]
  },
  {
   "cell_type": "code",
   "execution_count": null,
   "id": "c0344437",
   "metadata": {},
   "outputs": [
    {
     "name": "stderr",
     "output_type": "stream",
     "text": [
      "Some weights of ViTModel were not initialized from the model checkpoint at WinKawaks/vit-tiny-patch16-224 and are newly initialized: ['pooler.dense.bias', 'pooler.dense.weight']\n",
      "You should probably TRAIN this model on a down-stream task to be able to use it for predictions and inference.\n"
     ]
    },
    {
     "name": "stdout",
     "output_type": "stream",
     "text": [
      "\n",
      "=== LODO: Leaving out domain 'VOC2007' ===\n"
     ]
    },
    {
     "name": "stderr",
     "output_type": "stream",
     "text": [
      "Evaluating: 100%|██████████| 27/27 [00:26<00:00,  1.01it/s]\n"
     ]
    },
    {
     "name": "stdout",
     "output_type": "stream",
     "text": [
      "[VOC2007] Epoch 1/5 | Train - Loss: 0.6864, Cls: 0.6735, GRQO: 0.0129, Acc: 0.7371 | Val - Loss: 0.6388, Cls: 0.6362, GRQO: 0.0025, Acc: 0.7595\n",
      "[VOC2007] New best val acc: 0.7595\n"
     ]
    },
    {
     "name": "stderr",
     "output_type": "stream",
     "text": [
      "Evaluating: 100%|██████████| 27/27 [00:24<00:00,  1.10it/s]\n"
     ]
    },
    {
     "name": "stdout",
     "output_type": "stream",
     "text": [
      "[VOC2007] Epoch 2/5 | Train - Loss: 0.3957, Cls: 0.3920, GRQO: 0.0037, Acc: 0.8598 | Val - Loss: 0.6147, Cls: 0.6130, GRQO: 0.0017, Acc: 0.7695\n",
      "[VOC2007] New best val acc: 0.7695\n"
     ]
    },
    {
     "name": "stderr",
     "output_type": "stream",
     "text": [
      "Evaluating: 100%|██████████| 27/27 [00:24<00:00,  1.10it/s]\n"
     ]
    },
    {
     "name": "stdout",
     "output_type": "stream",
     "text": [
      "[VOC2007] Epoch 3/5 | Train - Loss: 0.2721, Cls: 0.2691, GRQO: 0.0029, Acc: 0.9108 | Val - Loss: 0.6962, Cls: 0.6950, GRQO: 0.0012, Acc: 0.7574\n"
     ]
    },
    {
     "name": "stderr",
     "output_type": "stream",
     "text": [
      "Evaluating: 100%|██████████| 27/27 [00:24<00:00,  1.10it/s]\n"
     ]
    },
    {
     "name": "stdout",
     "output_type": "stream",
     "text": [
      "[VOC2007] Epoch 4/5 | Train - Loss: 0.1768, Cls: 0.1742, GRQO: 0.0026, Acc: 0.9445 | Val - Loss: 0.6584, Cls: 0.6574, GRQO: 0.0010, Acc: 0.7814\n",
      "[VOC2007] New best val acc: 0.7814\n"
     ]
    },
    {
     "name": "stderr",
     "output_type": "stream",
     "text": [
      "Evaluating: 100%|██████████| 27/27 [00:24<00:00,  1.09it/s]\n"
     ]
    },
    {
     "name": "stdout",
     "output_type": "stream",
     "text": [
      "[VOC2007] Epoch 5/5 | Train - Loss: 0.1220, Cls: 0.1198, GRQO: 0.0022, Acc: 0.9629 | Val - Loss: 0.7356, Cls: 0.7349, GRQO: 0.0007, Acc: 0.7790\n",
      "[VOC2007] Best Acc: 0.7814\n",
      "------------------------------------------------------------\n"
     ]
    },
    {
     "name": "stderr",
     "output_type": "stream",
     "text": [
      "Some weights of ViTModel were not initialized from the model checkpoint at WinKawaks/vit-tiny-patch16-224 and are newly initialized: ['pooler.dense.bias', 'pooler.dense.weight']\n",
      "You should probably TRAIN this model on a down-stream task to be able to use it for predictions and inference.\n"
     ]
    },
    {
     "name": "stdout",
     "output_type": "stream",
     "text": [
      "\n",
      "=== LODO: Leaving out domain 'LabelMe' ===\n"
     ]
    },
    {
     "name": "stderr",
     "output_type": "stream",
     "text": [
      "Evaluating: 100%|██████████| 21/21 [00:27<00:00,  1.33s/it]\n"
     ]
    },
    {
     "name": "stdout",
     "output_type": "stream",
     "text": [
      "[LabelMe] Epoch 1/5 | Train - Loss: 0.6159, Cls: 0.6079, GRQO: 0.0080, Acc: 0.7742 | Val - Loss: 0.9903, Cls: 0.9894, GRQO: 0.0009, Acc: 0.6822\n",
      "[LabelMe] New best val acc: 0.6822\n"
     ]
    },
    {
     "name": "stderr",
     "output_type": "stream",
     "text": [
      "Evaluating: 100%|██████████| 21/21 [00:28<00:00,  1.33s/it]\n"
     ]
    },
    {
     "name": "stdout",
     "output_type": "stream",
     "text": [
      "[LabelMe] Epoch 2/5 | Train - Loss: 0.2848, Cls: 0.2815, GRQO: 0.0034, Acc: 0.8992 | Val - Loss: 1.5076, Cls: 1.5070, GRQO: 0.0006, Acc: 0.6574\n"
     ]
    },
    {
     "name": "stderr",
     "output_type": "stream",
     "text": [
      "Evaluating: 100%|██████████| 21/21 [00:28<00:00,  1.34s/it]\n"
     ]
    },
    {
     "name": "stdout",
     "output_type": "stream",
     "text": [
      "[LabelMe] Epoch 3/5 | Train - Loss: 0.1604, Cls: 0.1577, GRQO: 0.0027, Acc: 0.9482 | Val - Loss: 2.1396, Cls: 2.1392, GRQO: 0.0005, Acc: 0.6212\n"
     ]
    },
    {
     "name": "stderr",
     "output_type": "stream",
     "text": [
      "Evaluating: 100%|██████████| 21/21 [00:27<00:00,  1.33s/it]\n"
     ]
    },
    {
     "name": "stdout",
     "output_type": "stream",
     "text": [
      "[LabelMe] Epoch 4/5 | Train - Loss: 0.1254, Cls: 0.1230, GRQO: 0.0023, Acc: 0.9586 | Val - Loss: 1.9684, Cls: 1.9681, GRQO: 0.0003, Acc: 0.6687\n"
     ]
    },
    {
     "name": "stderr",
     "output_type": "stream",
     "text": [
      "Evaluating: 100%|██████████| 21/21 [00:27<00:00,  1.33s/it]\n"
     ]
    },
    {
     "name": "stdout",
     "output_type": "stream",
     "text": [
      "[LabelMe] Epoch 5/5 | Train - Loss: 0.0712, Cls: 0.0691, GRQO: 0.0021, Acc: 0.9786 | Val - Loss: 2.3182, Cls: 2.3180, GRQO: 0.0002, Acc: 0.6363\n",
      "[LabelMe] Best Acc: 0.6822\n",
      "------------------------------------------------------------\n"
     ]
    },
    {
     "name": "stderr",
     "output_type": "stream",
     "text": [
      "Some weights of ViTModel were not initialized from the model checkpoint at WinKawaks/vit-tiny-patch16-224 and are newly initialized: ['pooler.dense.bias', 'pooler.dense.weight']\n",
      "You should probably TRAIN this model on a down-stream task to be able to use it for predictions and inference.\n"
     ]
    },
    {
     "name": "stdout",
     "output_type": "stream",
     "text": [
      "\n",
      "=== LODO: Leaving out domain 'Caltech101' ===\n"
     ]
    },
    {
     "name": "stderr",
     "output_type": "stream",
     "text": [
      "Evaluating: 100%|██████████| 12/12 [00:14<00:00,  1.25s/it]\n"
     ]
    },
    {
     "name": "stdout",
     "output_type": "stream",
     "text": [
      "[Caltech101] Epoch 1/5 | Train - Loss: 0.7409, Cls: 0.7300, GRQO: 0.0108, Acc: 0.7220 | Val - Loss: 0.1560, Cls: 0.1534, GRQO: 0.0026, Acc: 0.9753\n",
      "[Caltech101] New best val acc: 0.9753\n"
     ]
    },
    {
     "name": "stderr",
     "output_type": "stream",
     "text": [
      "Evaluating: 100%|██████████| 12/12 [00:14<00:00,  1.25s/it]\n"
     ]
    },
    {
     "name": "stdout",
     "output_type": "stream",
     "text": [
      "[Caltech101] Epoch 2/5 | Train - Loss: 0.4406, Cls: 0.4371, GRQO: 0.0035, Acc: 0.8407 | Val - Loss: 0.1133, Cls: 0.1120, GRQO: 0.0014, Acc: 0.9809\n",
      "[Caltech101] New best val acc: 0.9809\n"
     ]
    },
    {
     "name": "stderr",
     "output_type": "stream",
     "text": [
      "Evaluating: 100%|██████████| 12/12 [00:14<00:00,  1.25s/it]\n"
     ]
    },
    {
     "name": "stdout",
     "output_type": "stream",
     "text": [
      "[Caltech101] Epoch 3/5 | Train - Loss: 0.3016, Cls: 0.2988, GRQO: 0.0028, Acc: 0.8968 | Val - Loss: 0.0967, Cls: 0.0959, GRQO: 0.0008, Acc: 0.9753\n"
     ]
    },
    {
     "name": "stderr",
     "output_type": "stream",
     "text": [
      "Evaluating: 100%|██████████| 12/12 [00:14<00:00,  1.25s/it]\n"
     ]
    },
    {
     "name": "stdout",
     "output_type": "stream",
     "text": [
      "[Caltech101] Epoch 4/5 | Train - Loss: 0.1960, Cls: 0.1937, GRQO: 0.0024, Acc: 0.9382 | Val - Loss: 0.1590, Cls: 0.1583, GRQO: 0.0007, Acc: 0.9449\n"
     ]
    },
    {
     "name": "stderr",
     "output_type": "stream",
     "text": [
      "Evaluating: 100%|██████████| 12/12 [00:14<00:00,  1.25s/it]\n"
     ]
    },
    {
     "name": "stdout",
     "output_type": "stream",
     "text": [
      "[Caltech101] Epoch 5/5 | Train - Loss: 0.1347, Cls: 0.1326, GRQO: 0.0021, Acc: 0.9587 | Val - Loss: 0.0829, Cls: 0.0825, GRQO: 0.0004, Acc: 0.9717\n",
      "[Caltech101] Best Acc: 0.9809\n",
      "------------------------------------------------------------\n"
     ]
    },
    {
     "name": "stderr",
     "output_type": "stream",
     "text": [
      "Some weights of ViTModel were not initialized from the model checkpoint at WinKawaks/vit-tiny-patch16-224 and are newly initialized: ['pooler.dense.bias', 'pooler.dense.weight']\n",
      "You should probably TRAIN this model on a down-stream task to be able to use it for predictions and inference.\n"
     ]
    },
    {
     "name": "stdout",
     "output_type": "stream",
     "text": [
      "\n",
      "=== LODO: Leaving out domain 'SUN09' ===\n"
     ]
    },
    {
     "name": "stderr",
     "output_type": "stream",
     "text": [
      "Evaluating: 100%|██████████| 26/26 [00:24<00:00,  1.07it/s]\n"
     ]
    },
    {
     "name": "stdout",
     "output_type": "stream",
     "text": [
      "[SUN09] Epoch 1/5 | Train - Loss: 0.7064, Cls: 0.6910, GRQO: 0.0155, Acc: 0.7371 | Val - Loss: 0.7689, Cls: 0.7666, GRQO: 0.0024, Acc: 0.6935\n",
      "[SUN09] New best val acc: 0.6935\n"
     ]
    },
    {
     "name": "stderr",
     "output_type": "stream",
     "text": [
      "Evaluating: 100%|██████████| 26/26 [00:24<00:00,  1.06it/s]\n"
     ]
    },
    {
     "name": "stdout",
     "output_type": "stream",
     "text": [
      "[SUN09] Epoch 2/5 | Train - Loss: 0.3776, Cls: 0.3738, GRQO: 0.0038, Acc: 0.8648 | Val - Loss: 0.6906, Cls: 0.6890, GRQO: 0.0016, Acc: 0.7428\n",
      "[SUN09] New best val acc: 0.7428\n"
     ]
    },
    {
     "name": "stderr",
     "output_type": "stream",
     "text": [
      "Evaluating: 100%|██████████| 26/26 [00:24<00:00,  1.06it/s]\n"
     ]
    },
    {
     "name": "stdout",
     "output_type": "stream",
     "text": [
      "[SUN09] Epoch 3/5 | Train - Loss: 0.2541, Cls: 0.2510, GRQO: 0.0031, Acc: 0.9112 | Val - Loss: 0.7010, Cls: 0.6998, GRQO: 0.0012, Acc: 0.7556\n",
      "[SUN09] New best val acc: 0.7556\n"
     ]
    },
    {
     "name": "stderr",
     "output_type": "stream",
     "text": [
      "Evaluating: 100%|██████████| 26/26 [00:24<00:00,  1.06it/s]\n"
     ]
    },
    {
     "name": "stdout",
     "output_type": "stream",
     "text": [
      "[SUN09] Epoch 4/5 | Train - Loss: 0.1562, Cls: 0.1535, GRQO: 0.0026, Acc: 0.9514 | Val - Loss: 0.7539, Cls: 0.7530, GRQO: 0.0009, Acc: 0.7751\n",
      "[SUN09] New best val acc: 0.7751\n"
     ]
    },
    {
     "name": "stderr",
     "output_type": "stream",
     "text": [
      "Evaluating: 100%|██████████| 26/26 [00:24<00:00,  1.06it/s]"
     ]
    },
    {
     "name": "stdout",
     "output_type": "stream",
     "text": [
      "[SUN09] Epoch 5/5 | Train - Loss: 0.0870, Cls: 0.0846, GRQO: 0.0023, Acc: 0.9752 | Val - Loss: 0.9743, Cls: 0.9736, GRQO: 0.0007, Acc: 0.7413\n",
      "[SUN09] Best Acc: 0.7751\n",
      "------------------------------------------------------------\n",
      "LODO finished | Mean Acc: 0.8049\n",
      "Summary saved to c:\\Users\\Fatim_Sproj\\Desktop\\Fatim\\Spring 2025\\sproj\\Visual-Reasoning\\Vit-GRQO\\vit-tiny\\VLCS\\logs\\lodo_summary_20251010_090225.json\n"
     ]
    },
    {
     "name": "stderr",
     "output_type": "stream",
     "text": [
      "\n"
     ]
    }
   ],
   "source": [
    "lodo_results, lodo_mean, lodo_summary = run_lodo(\n",
    "    model_fn=model_factory,\n",
    "    CFG=CFG,\n",
    "    logger=logger,\n",
    "    dataset_key=DS,\n",
    "    domains=domains,\n",
    "    loaders=loaders,\n",
    "    optimizer_fn=optimizer_fn,\n",
    "    device=device,\n",
    "    ckpt_root=ckpt_root,\n",
    "    log_dir=log_dir,\n",
    "    epochs=epochs\n",
    ")"
   ]
  },
  {
   "cell_type": "markdown",
   "id": "008d21ac",
   "metadata": {},
   "source": [
    "### Baseline"
   ]
  },
  {
   "cell_type": "code",
   "execution_count": null,
   "id": "060b18a4",
   "metadata": {},
   "outputs": [
    {
     "name": "stdout",
     "output_type": "stream",
     "text": [
      "Initializing ViT baseline: WinKawaks/vit-tiny-patch16-224\n"
     ]
    },
    {
     "name": "stderr",
     "output_type": "stream",
     "text": [
      "Some weights of ViTForImageClassification were not initialized from the model checkpoint at WinKawaks/vit-tiny-patch16-224 and are newly initialized because the shapes did not match:\n",
      "- classifier.bias: found shape torch.Size([1000]) in the checkpoint and torch.Size([5]) in the model instantiated\n",
      "- classifier.weight: found shape torch.Size([1000, 192]) in the checkpoint and torch.Size([5, 192]) in the model instantiated\n",
      "You should probably TRAIN this model on a down-stream task to be able to use it for predictions and inference.\n"
     ]
    },
    {
     "name": "stdout",
     "output_type": "stream",
     "text": [
      "\n",
      "=== Baseline LODO: Leaving out domain 'VOC2007' ===\n",
      "[VOC2007] Epoch 1/5 | Train - Loss: 0.5627, Acc: 0.7850 | Val Acc: 0.8027\n",
      "[VOC2007] Epoch 2/5 | Train - Loss: 0.2946, Acc: 0.8980 | Val Acc: 0.8001\n",
      "[VOC2007] Epoch 3/5 | Train - Loss: 0.1577, Acc: 0.9490 | Val Acc: 0.7941\n",
      "[VOC2007] Epoch 4/5 | Train - Loss: 0.0579, Acc: 0.9830 | Val Acc: 0.7983\n",
      "[VOC2007] Epoch 5/5 | Train - Loss: 0.0246, Acc: 0.9937 | Val Acc: 0.7645\n",
      "[VOC2007] Best Val Acc: 0.8027\n",
      "------------------------------------------------------------\n",
      "Initializing ViT baseline: WinKawaks/vit-tiny-patch16-224\n"
     ]
    },
    {
     "name": "stderr",
     "output_type": "stream",
     "text": [
      "Some weights of ViTForImageClassification were not initialized from the model checkpoint at WinKawaks/vit-tiny-patch16-224 and are newly initialized because the shapes did not match:\n",
      "- classifier.bias: found shape torch.Size([1000]) in the checkpoint and torch.Size([5]) in the model instantiated\n",
      "- classifier.weight: found shape torch.Size([1000, 192]) in the checkpoint and torch.Size([5, 192]) in the model instantiated\n",
      "You should probably TRAIN this model on a down-stream task to be able to use it for predictions and inference.\n"
     ]
    },
    {
     "name": "stdout",
     "output_type": "stream",
     "text": [
      "\n",
      "=== Baseline LODO: Leaving out domain 'LabelMe' ===\n",
      "[LabelMe] Epoch 1/5 | Train - Loss: 0.4921, Acc: 0.8214 | Val Acc: 0.6525\n",
      "[LabelMe] Epoch 2/5 | Train - Loss: 0.1861, Acc: 0.9373 | Val Acc: 0.6404\n",
      "[LabelMe] Epoch 3/5 | Train - Loss: 0.0984, Acc: 0.9700 | Val Acc: 0.6803\n",
      "[LabelMe] Epoch 4/5 | Train - Loss: 0.0277, Acc: 0.9936 | Val Acc: 0.6691\n",
      "[LabelMe] Epoch 5/5 | Train - Loss: 0.0109, Acc: 0.9984 | Val Acc: 0.6487\n",
      "[LabelMe] Best Val Acc: 0.6803\n",
      "------------------------------------------------------------\n",
      "Initializing ViT baseline: WinKawaks/vit-tiny-patch16-224\n"
     ]
    },
    {
     "name": "stderr",
     "output_type": "stream",
     "text": [
      "Some weights of ViTForImageClassification were not initialized from the model checkpoint at WinKawaks/vit-tiny-patch16-224 and are newly initialized because the shapes did not match:\n",
      "- classifier.bias: found shape torch.Size([1000]) in the checkpoint and torch.Size([5]) in the model instantiated\n",
      "- classifier.weight: found shape torch.Size([1000, 192]) in the checkpoint and torch.Size([5, 192]) in the model instantiated\n",
      "You should probably TRAIN this model on a down-stream task to be able to use it for predictions and inference.\n"
     ]
    },
    {
     "name": "stdout",
     "output_type": "stream",
     "text": [
      "\n",
      "=== Baseline LODO: Leaving out domain 'Caltech101' ===\n",
      "[Caltech101] Epoch 1/5 | Train - Loss: 0.6220, Acc: 0.7645 | Val Acc: 0.9859\n",
      "[Caltech101] Epoch 2/5 | Train - Loss: 0.3137, Acc: 0.8866 | Val Acc: 0.9767\n",
      "[Caltech101] Epoch 3/5 | Train - Loss: 0.1605, Acc: 0.9465 | Val Acc: 0.9866\n",
      "[Caltech101] Epoch 4/5 | Train - Loss: 0.0611, Acc: 0.9821 | Val Acc: 0.9802\n",
      "[Caltech101] Epoch 5/5 | Train - Loss: 0.0306, Acc: 0.9918 | Val Acc: 0.9802\n",
      "[Caltech101] Best Val Acc: 0.9866\n",
      "------------------------------------------------------------\n",
      "Initializing ViT baseline: WinKawaks/vit-tiny-patch16-224\n"
     ]
    },
    {
     "name": "stderr",
     "output_type": "stream",
     "text": [
      "Some weights of ViTForImageClassification were not initialized from the model checkpoint at WinKawaks/vit-tiny-patch16-224 and are newly initialized because the shapes did not match:\n",
      "- classifier.bias: found shape torch.Size([1000]) in the checkpoint and torch.Size([5]) in the model instantiated\n",
      "- classifier.weight: found shape torch.Size([1000, 192]) in the checkpoint and torch.Size([5, 192]) in the model instantiated\n",
      "You should probably TRAIN this model on a down-stream task to be able to use it for predictions and inference.\n"
     ]
    },
    {
     "name": "stdout",
     "output_type": "stream",
     "text": [
      "\n",
      "=== Baseline LODO: Leaving out domain 'SUN09' ===\n",
      "[SUN09] Epoch 1/5 | Train - Loss: 0.5781, Acc: 0.7830 | Val Acc: 0.7233\n",
      "[SUN09] Epoch 2/5 | Train - Loss: 0.2651, Acc: 0.9060 | Val Acc: 0.7562\n",
      "[SUN09] Epoch 3/5 | Train - Loss: 0.1316, Acc: 0.9570 | Val Acc: 0.7239\n",
      "[SUN09] Epoch 4/5 | Train - Loss: 0.0521, Acc: 0.9852 | Val Acc: 0.7465\n",
      "[SUN09] Epoch 5/5 | Train - Loss: 0.0144, Acc: 0.9976 | Val Acc: 0.7690\n",
      "[SUN09] Best Val Acc: 0.7690\n",
      "------------------------------------------------------------\n",
      "Baseline LODO (WinKawaks/vit-tiny-patch16-224) finished | Mean Acc: 0.8097\n"
     ]
    }
   ],
   "source": [
    "baseline_results, baseline_mean = run_baseline(\n",
    "    model_name=MODEL_NAME,\n",
    "    CFG=CFG,\n",
    "    logger=logger,\n",
    "    dataset_key=DS,\n",
    "    domains=domains,\n",
    "    loaders=loaders,\n",
    "    optimizer_fn=optimizer_fn,\n",
    "    device=device,\n",
    "    epochs=CFG[\"train\"][\"epochs\"]\n",
    ")\n"
   ]
  }
 ],
 "metadata": {
  "kernelspec": {
   "display_name": "bacp",
   "language": "python",
   "name": "python3"
  },
  "language_info": {
   "codemirror_mode": {
    "name": "ipython",
    "version": 3
   },
   "file_extension": ".py",
   "mimetype": "text/x-python",
   "name": "python",
   "nbconvert_exporter": "python",
   "pygments_lexer": "ipython3",
   "version": "3.10.16"
  }
 },
 "nbformat": 4,
 "nbformat_minor": 5
}
