{
 "cells": [
  {
   "cell_type": "markdown",
   "id": "7aeb725f",
   "metadata": {},
   "source": [
    "### Imports"
   ]
  },
  {
   "cell_type": "code",
   "execution_count": 1,
   "id": "e407742a",
   "metadata": {},
   "outputs": [
    {
     "name": "stderr",
     "output_type": "stream",
     "text": [
      "c:\\Users\\Fatim_Sproj\\anaconda3\\envs\\bacp\\lib\\site-packages\\torch\\cuda\\__init__.py:61: FutureWarning: The pynvml package is deprecated. Please install nvidia-ml-py instead. If you did not install pynvml directly, please report this to the maintainers of the package that installed pynvml for you.\n",
      "  import pynvml  # type: ignore[import]\n"
     ]
    },
    {
     "name": "stdout",
     "output_type": "stream",
     "text": [
      "Device: cuda\n",
      "PyTorch: 2.5.1+cu121\n"
     ]
    }
   ],
   "source": [
    "import sys\n",
    "sys.dont_write_bytecode = True\n",
    "\n",
    "\n",
    "import torch\n",
    "import numpy as np\n",
    "import random\n",
    "import os\n",
    "\n",
    "def set_seeds(seed_value=42):\n",
    "    \"\"\"Sets seeds for reproducibility.\"\"\"\n",
    "    random.seed(seed_value)\n",
    "    np.random.seed(seed_value)\n",
    "    torch.manual_seed(seed_value)\n",
    "    os.environ['PYTHONHASHSEED'] = str(seed_value)\n",
    "    \n",
    "    if torch.cuda.is_available():\n",
    "        torch.cuda.manual_seed(seed_value)\n",
    "\n",
    "set_seeds(42) \n",
    "\n",
    "import json\n",
    "import torch.nn as nn\n",
    "import torch.optim as optim\n",
    "from tqdm import tqdm\n",
    "import warnings\n",
    "import logging\n",
    "from datetime import datetime\n",
    "warnings.filterwarnings('ignore')\n",
    "\n",
    "from model import get_model\n",
    "from config import CFG\n",
    "from dataset import get_dataset_class\n",
    "from plot import plot_domainwise_accuracy\n",
    "from transform import get_transforms\n",
    "from runner import run_baseline, run_lodo\n",
    "\n",
    "torch.manual_seed(CFG[\"system\"][\"seed\"])\n",
    "np.random.seed(CFG[\"system\"][\"seed\"])\n",
    "\n",
    "device = CFG[\"system\"][\"device\"]\n",
    "print(f\"Device: {device}\")\n",
    "print(f\"PyTorch: {torch.__version__}\")\n",
    "\n",
    "DS = \"TerraIncognita\"\n",
    "MODEL_NAME = \"WinKawaks/vit-tiny-patch16-224\""
   ]
  },
  {
   "cell_type": "markdown",
   "id": "d617af05",
   "metadata": {},
   "source": [
    "### DataLoading"
   ]
  },
  {
   "cell_type": "code",
   "execution_count": 2,
   "id": "3e673c0a",
   "metadata": {},
   "outputs": [
    {
     "name": "stdout",
     "output_type": "stream",
     "text": [
      "\n",
      "Data loaders ready!\n"
     ]
    }
   ],
   "source": [
    "train_transform, test_transform = get_transforms(img_size=224, augment=False, use_imagenet_norm=False)\n",
    "\n",
    "DatasetClass = get_dataset_class(DS)\n",
    "\n",
    "ld = DatasetClass(\n",
    "    data_root=CFG[\"datasets\"][DS][\"root\"],\n",
    "    transform=train_transform,\n",
    "    batch_size=CFG[\"train\"][\"batch_size\"]\n",
    ")\n",
    "\n",
    "print(\"\\nData loaders ready!\")"
   ]
  },
  {
   "cell_type": "markdown",
   "id": "e5a3d318",
   "metadata": {},
   "source": [
    "### Logging"
   ]
  },
  {
   "cell_type": "code",
   "execution_count": 3,
   "id": "f01fd7aa",
   "metadata": {},
   "outputs": [
    {
     "name": "stderr",
     "output_type": "stream",
     "text": [
      "2025-10-20 04:05:08,518 | INFO | Initialized experiment directories for TerraIncognita\n",
      "2025-10-20 04:05:08,518 | INFO | Logs: c:\\Users\\Fatim_Sproj\\Desktop\\Fatim\\Spring 2025\\sproj\\Visual-Reasoning\\Vit-GRQO\\vit-tiny\\TerraIncognita\\logs\n",
      "2025-10-20 04:05:08,518 | INFO | Checkpoints: c:\\Users\\Fatim_Sproj\\Desktop\\Fatim\\Spring 2025\\sproj\\Visual-Reasoning\\Vit-GRQO\\vit-tiny\\TerraIncognita\\checkpoints\n",
      "2025-10-20 04:05:08,518 | INFO | Plots: c:\\Users\\Fatim_Sproj\\Desktop\\Fatim\\Spring 2025\\sproj\\Visual-Reasoning\\Vit-GRQO\\vit-tiny\\TerraIncognita\\plots\n"
     ]
    }
   ],
   "source": [
    "dataset_name = DS\n",
    "base_dir = os.path.join(os.getcwd(), dataset_name)\n",
    "subdirs = [\"logs\", \"checkpoints\", \"plots\"]\n",
    "\n",
    "for sub in subdirs:\n",
    "    os.makedirs(os.path.join(base_dir, sub), exist_ok=True)\n",
    "\n",
    "timestamp = datetime.now().strftime(\"%Y-%m-%d_%H-%M-%S\")\n",
    "log_file = os.path.join(base_dir, \"logs\", f\"train_{timestamp}.log\")\n",
    "\n",
    "logging.basicConfig(\n",
    "    level=logging.INFO,\n",
    "    format=\"%(asctime)s | %(levelname)s | %(message)s\",\n",
    "    handlers=[\n",
    "        logging.FileHandler(log_file),\n",
    "        logging.StreamHandler()\n",
    "    ]\n",
    ")\n",
    "\n",
    "logger = logging.getLogger(f\"{dataset_name}_logger\")\n",
    "\n",
    "logger.info(f\"Initialized experiment directories for {dataset_name}\")\n",
    "logger.info(f\"Logs: {os.path.join(base_dir, 'logs')}\")\n",
    "logger.info(f\"Checkpoints: {os.path.join(base_dir, 'checkpoints')}\")\n",
    "logger.info(f\"Plots: {os.path.join(base_dir, 'plots')}\")"
   ]
  },
  {
   "cell_type": "markdown",
   "id": "47398d2c",
   "metadata": {},
   "source": [
    "### Setup"
   ]
  },
  {
   "cell_type": "code",
   "execution_count": 4,
   "id": "450d7f06",
   "metadata": {},
   "outputs": [],
   "source": [
    "domains = CFG[\"datasets\"][DS][\"domains\"]\n",
    "loaders = {d: {\"train\": ld.get_dataloader(d, train=True), \"val\": ld.get_dataloader(d, train=False)} for d in domains}\n",
    "ckpt_root = os.path.join(base_dir, \"checkpoints\")\n",
    "log_dir = os.path.join(base_dir, \"logs\")\n",
    "plots_dir = os.path.join(base_dir, \"plots\")\n",
    "os.makedirs(ckpt_root, exist_ok=True)\n",
    "os.makedirs(log_dir, exist_ok=True)\n",
    "os.makedirs(plots_dir, exist_ok=True)\n",
    "model_factory = lambda cfg, dataset_key: get_model(cfg,dataset=DS)\n",
    "optimizer_fn = lambda model: optim.AdamW(model.parameters(), lr=CFG[\"train\"][\"lr\"], weight_decay=CFG[\"train\"].get(\"weight_decay\", 0.01))\n",
    "device = CFG[\"system\"][\"device\"]\n",
    "epochs = CFG[\"train\"][\"epochs\"]\n"
   ]
  },
  {
   "cell_type": "markdown",
   "id": "2d8dafe9",
   "metadata": {},
   "source": [
    "{\n",
    "  \"lodo_results\": {\n",
    "    \"art_painting\": 0.8341463414634146,\n",
    "    \"cartoon\": 0.7974413646055437,\n",
    "    \"photo\": 0.9580838323353293,\n",
    "    \"sketch\": 0.6017811704834606\n",
    "  },\n",
    "  \"timestamp\": \"20251004_020611\"\n",
    "}"
   ]
  },
  {
   "cell_type": "markdown",
   "id": "4931c868",
   "metadata": {},
   "source": [
    "### Leave One Domain Out"
   ]
  },
  {
   "cell_type": "code",
   "execution_count": 5,
   "id": "c0344437",
   "metadata": {},
   "outputs": [
    {
     "name": "stderr",
     "output_type": "stream",
     "text": [
      "Some weights of ViTModel were not initialized from the model checkpoint at WinKawaks/vit-tiny-patch16-224 and are newly initialized: ['pooler.dense.bias', 'pooler.dense.weight']\n",
      "You should probably TRAIN this model on a down-stream task to be able to use it for predictions and inference.\n",
      "2025-10-20 04:05:10,149 | INFO | === LODO: Leaving out domain 'location_38' ===\n"
     ]
    },
    {
     "name": "stdout",
     "output_type": "stream",
     "text": [
      "\n",
      "=== LODO: Leaving out domain 'location_38' ===\n"
     ]
    },
    {
     "name": "stderr",
     "output_type": "stream",
     "text": [
      "Evaluating: 100%|██████████| 77/77 [01:26<00:00,  1.13s/it]\n",
      "2025-10-20 04:08:10,547 | INFO | [location_38] Epoch 1/5 | Train - Loss: 1.2368, Cls: 1.2291, GRQO: 0.0077, Acc: 0.5571 | Val - Loss: 2.7534, Cls: 2.7525, GRQO: 0.0009, Acc: 0.1734\n",
      "2025-10-20 04:08:10,597 | INFO | [location_38] New best val acc: 0.1734\n"
     ]
    },
    {
     "name": "stdout",
     "output_type": "stream",
     "text": [
      "[location_38] Epoch 1/5 | Train - Loss: 1.2368, Cls: 1.2291, GRQO: 0.0077, Acc: 0.5571 | Val - Loss: 2.7534, Cls: 2.7525, GRQO: 0.0009, Acc: 0.1734\n",
      "[location_38] New best val acc: 0.1734\n"
     ]
    },
    {
     "name": "stderr",
     "output_type": "stream",
     "text": [
      "Evaluating: 100%|██████████| 77/77 [00:54<00:00,  1.42it/s]\n",
      "2025-10-20 04:10:43,238 | INFO | [location_38] Epoch 2/5 | Train - Loss: 0.6373, Cls: 0.6344, GRQO: 0.0029, Acc: 0.7854 | Val - Loss: 3.2079, Cls: 3.2072, GRQO: 0.0006, Acc: 0.1986\n",
      "2025-10-20 04:10:43,285 | INFO | [location_38] New best val acc: 0.1986\n"
     ]
    },
    {
     "name": "stdout",
     "output_type": "stream",
     "text": [
      "[location_38] Epoch 2/5 | Train - Loss: 0.6373, Cls: 0.6344, GRQO: 0.0029, Acc: 0.7854 | Val - Loss: 3.2079, Cls: 3.2072, GRQO: 0.0006, Acc: 0.1986\n",
      "[location_38] New best val acc: 0.1986\n"
     ]
    },
    {
     "name": "stderr",
     "output_type": "stream",
     "text": [
      "Evaluating: 100%|██████████| 77/77 [02:12<00:00,  1.72s/it]\n",
      "2025-10-20 04:14:28,459 | INFO | [location_38] Epoch 3/5 | Train - Loss: 0.3759, Cls: 0.3734, GRQO: 0.0025, Acc: 0.8750 | Val - Loss: 3.6388, Cls: 3.6383, GRQO: 0.0005, Acc: 0.2042\n",
      "2025-10-20 04:14:28,570 | INFO | [location_38] New best val acc: 0.2042\n"
     ]
    },
    {
     "name": "stdout",
     "output_type": "stream",
     "text": [
      "[location_38] Epoch 3/5 | Train - Loss: 0.3759, Cls: 0.3734, GRQO: 0.0025, Acc: 0.8750 | Val - Loss: 3.6388, Cls: 3.6383, GRQO: 0.0005, Acc: 0.2042\n",
      "[location_38] New best val acc: 0.2042\n"
     ]
    },
    {
     "name": "stderr",
     "output_type": "stream",
     "text": [
      "Evaluating: 100%|██████████| 77/77 [02:05<00:00,  1.63s/it]\n",
      "2025-10-20 04:20:25,794 | INFO | [location_38] Epoch 4/5 | Train - Loss: 0.2437, Cls: 0.2415, GRQO: 0.0022, Acc: 0.9220 | Val - Loss: 3.9517, Cls: 3.9512, GRQO: 0.0005, Acc: 0.2042\n"
     ]
    },
    {
     "name": "stdout",
     "output_type": "stream",
     "text": [
      "[location_38] Epoch 4/5 | Train - Loss: 0.2437, Cls: 0.2415, GRQO: 0.0022, Acc: 0.9220 | Val - Loss: 3.9517, Cls: 3.9512, GRQO: 0.0005, Acc: 0.2042\n"
     ]
    },
    {
     "name": "stderr",
     "output_type": "stream",
     "text": [
      "Evaluating: 100%|██████████| 77/77 [01:01<00:00,  1.25it/s]\n",
      "2025-10-20 04:23:40,177 | INFO | [location_38] Epoch 5/5 | Train - Loss: 0.1751, Cls: 0.1733, GRQO: 0.0019, Acc: 0.9426 | Val - Loss: 4.1401, Cls: 4.1397, GRQO: 0.0003, Acc: 0.1971\n",
      "2025-10-20 04:23:40,177 | INFO | [location_38] Best Acc: 0.2042\n",
      "2025-10-20 04:23:40,177 | INFO | ------------------------------------------------------------\n"
     ]
    },
    {
     "name": "stdout",
     "output_type": "stream",
     "text": [
      "[location_38] Epoch 5/5 | Train - Loss: 0.1751, Cls: 0.1733, GRQO: 0.0019, Acc: 0.9426 | Val - Loss: 4.1401, Cls: 4.1397, GRQO: 0.0003, Acc: 0.1971\n",
      "[location_38] Best Acc: 0.2042\n",
      "------------------------------------------------------------\n"
     ]
    },
    {
     "name": "stderr",
     "output_type": "stream",
     "text": [
      "Some weights of ViTModel were not initialized from the model checkpoint at WinKawaks/vit-tiny-patch16-224 and are newly initialized: ['pooler.dense.bias', 'pooler.dense.weight']\n",
      "You should probably TRAIN this model on a down-stream task to be able to use it for predictions and inference.\n",
      "2025-10-20 04:23:42,356 | INFO | === LODO: Leaving out domain 'location_43' ===\n"
     ]
    },
    {
     "name": "stdout",
     "output_type": "stream",
     "text": [
      "\n",
      "=== LODO: Leaving out domain 'location_43' ===\n"
     ]
    },
    {
     "name": "stderr",
     "output_type": "stream",
     "text": [
      "Evaluating: 100%|██████████| 32/32 [00:23<00:00,  1.37it/s]\n",
      "2025-10-20 04:26:44,413 | INFO | [location_43] Epoch 1/5 | Train - Loss: 1.0651, Cls: 1.0590, GRQO: 0.0061, Acc: 0.6378 | Val - Loss: 1.9662, Cls: 1.9650, GRQO: 0.0012, Acc: 0.3405\n",
      "2025-10-20 04:26:44,458 | INFO | [location_43] New best val acc: 0.3405\n"
     ]
    },
    {
     "name": "stdout",
     "output_type": "stream",
     "text": [
      "[location_43] Epoch 1/5 | Train - Loss: 1.0651, Cls: 1.0590, GRQO: 0.0061, Acc: 0.6378 | Val - Loss: 1.9662, Cls: 1.9650, GRQO: 0.0012, Acc: 0.3405\n",
      "[location_43] New best val acc: 0.3405\n"
     ]
    },
    {
     "name": "stderr",
     "output_type": "stream",
     "text": [
      "Evaluating: 100%|██████████| 32/32 [00:25<00:00,  1.27it/s]\n",
      "2025-10-20 04:29:34,166 | INFO | [location_43] Epoch 2/5 | Train - Loss: 0.5555, Cls: 0.5527, GRQO: 0.0028, Acc: 0.8187 | Val - Loss: 1.9234, Cls: 1.9223, GRQO: 0.0010, Acc: 0.3826\n",
      "2025-10-20 04:29:34,210 | INFO | [location_43] New best val acc: 0.3826\n"
     ]
    },
    {
     "name": "stdout",
     "output_type": "stream",
     "text": [
      "[location_43] Epoch 2/5 | Train - Loss: 0.5555, Cls: 0.5527, GRQO: 0.0028, Acc: 0.8187 | Val - Loss: 1.9234, Cls: 1.9223, GRQO: 0.0010, Acc: 0.3826\n",
      "[location_43] New best val acc: 0.3826\n"
     ]
    },
    {
     "name": "stderr",
     "output_type": "stream",
     "text": [
      "Evaluating: 100%|██████████| 32/32 [00:25<00:00,  1.24it/s]\n",
      "2025-10-20 04:32:09,850 | INFO | [location_43] Epoch 3/5 | Train - Loss: 0.3313, Cls: 0.3291, GRQO: 0.0022, Acc: 0.8957 | Val - Loss: 2.7939, Cls: 2.7933, GRQO: 0.0006, Acc: 0.3249\n"
     ]
    },
    {
     "name": "stdout",
     "output_type": "stream",
     "text": [
      "[location_43] Epoch 3/5 | Train - Loss: 0.3313, Cls: 0.3291, GRQO: 0.0022, Acc: 0.8957 | Val - Loss: 2.7939, Cls: 2.7933, GRQO: 0.0006, Acc: 0.3249\n"
     ]
    },
    {
     "name": "stderr",
     "output_type": "stream",
     "text": [
      "Evaluating: 100%|██████████| 32/32 [00:25<00:00,  1.25it/s]\n",
      "2025-10-20 04:35:04,691 | INFO | [location_43] Epoch 4/5 | Train - Loss: 0.2261, Cls: 0.2243, GRQO: 0.0018, Acc: 0.9283 | Val - Loss: 2.1437, Cls: 2.1433, GRQO: 0.0004, Acc: 0.4318\n",
      "2025-10-20 04:35:04,750 | INFO | [location_43] New best val acc: 0.4318\n"
     ]
    },
    {
     "name": "stdout",
     "output_type": "stream",
     "text": [
      "[location_43] Epoch 4/5 | Train - Loss: 0.2261, Cls: 0.2243, GRQO: 0.0018, Acc: 0.9283 | Val - Loss: 2.1437, Cls: 2.1433, GRQO: 0.0004, Acc: 0.4318\n",
      "[location_43] New best val acc: 0.4318\n"
     ]
    },
    {
     "name": "stderr",
     "output_type": "stream",
     "text": [
      "Evaluating: 100%|██████████| 32/32 [00:58<00:00,  1.83s/it]\n",
      "2025-10-20 04:40:18,604 | INFO | [location_43] Epoch 5/5 | Train - Loss: 0.1575, Cls: 0.1560, GRQO: 0.0015, Acc: 0.9497 | Val - Loss: 2.9309, Cls: 2.9306, GRQO: 0.0003, Acc: 0.3582\n",
      "2025-10-20 04:40:18,604 | INFO | [location_43] Best Acc: 0.4318\n",
      "2025-10-20 04:40:18,605 | INFO | ------------------------------------------------------------\n"
     ]
    },
    {
     "name": "stdout",
     "output_type": "stream",
     "text": [
      "[location_43] Epoch 5/5 | Train - Loss: 0.1575, Cls: 0.1560, GRQO: 0.0015, Acc: 0.9497 | Val - Loss: 2.9309, Cls: 2.9306, GRQO: 0.0003, Acc: 0.3582\n",
      "[location_43] Best Acc: 0.4318\n",
      "------------------------------------------------------------\n"
     ]
    },
    {
     "name": "stderr",
     "output_type": "stream",
     "text": [
      "Some weights of ViTModel were not initialized from the model checkpoint at WinKawaks/vit-tiny-patch16-224 and are newly initialized: ['pooler.dense.bias', 'pooler.dense.weight']\n",
      "You should probably TRAIN this model on a down-stream task to be able to use it for predictions and inference.\n",
      "2025-10-20 04:40:20,357 | INFO | === LODO: Leaving out domain 'location_46' ===\n"
     ]
    },
    {
     "name": "stdout",
     "output_type": "stream",
     "text": [
      "\n",
      "=== LODO: Leaving out domain 'location_46' ===\n"
     ]
    },
    {
     "name": "stderr",
     "output_type": "stream",
     "text": [
      "Evaluating: 100%|██████████| 48/48 [01:24<00:00,  1.75s/it]\n",
      "2025-10-20 04:46:22,906 | INFO | [location_46] Epoch 1/5 | Train - Loss: 1.0565, Cls: 1.0500, GRQO: 0.0064, Acc: 0.6392 | Val - Loss: 1.9515, Cls: 1.9497, GRQO: 0.0018, Acc: 0.2978\n",
      "2025-10-20 04:46:22,989 | INFO | [location_46] New best val acc: 0.2978\n"
     ]
    },
    {
     "name": "stdout",
     "output_type": "stream",
     "text": [
      "[location_46] Epoch 1/5 | Train - Loss: 1.0565, Cls: 1.0500, GRQO: 0.0064, Acc: 0.6392 | Val - Loss: 1.9515, Cls: 1.9497, GRQO: 0.0018, Acc: 0.2978\n",
      "[location_46] New best val acc: 0.2978\n"
     ]
    },
    {
     "name": "stderr",
     "output_type": "stream",
     "text": [
      "Evaluating: 100%|██████████| 48/48 [01:31<00:00,  1.91s/it]\n",
      "2025-10-20 04:52:19,738 | INFO | [location_46] Epoch 2/5 | Train - Loss: 0.5261, Cls: 0.5231, GRQO: 0.0029, Acc: 0.8288 | Val - Loss: 2.2946, Cls: 2.2934, GRQO: 0.0013, Acc: 0.3009\n",
      "2025-10-20 04:52:19,881 | INFO | [location_46] New best val acc: 0.3009\n"
     ]
    },
    {
     "name": "stdout",
     "output_type": "stream",
     "text": [
      "[location_46] Epoch 2/5 | Train - Loss: 0.5261, Cls: 0.5231, GRQO: 0.0029, Acc: 0.8288 | Val - Loss: 2.2946, Cls: 2.2934, GRQO: 0.0013, Acc: 0.3009\n",
      "[location_46] New best val acc: 0.3009\n"
     ]
    },
    {
     "name": "stderr",
     "output_type": "stream",
     "text": [
      "Evaluating: 100%|██████████| 48/48 [01:23<00:00,  1.74s/it]\n",
      "2025-10-20 04:58:27,703 | INFO | [location_46] Epoch 3/5 | Train - Loss: 0.3215, Cls: 0.3191, GRQO: 0.0024, Acc: 0.9001 | Val - Loss: 2.4741, Cls: 2.4731, GRQO: 0.0010, Acc: 0.3090\n",
      "2025-10-20 04:58:27,783 | INFO | [location_46] New best val acc: 0.3090\n"
     ]
    },
    {
     "name": "stdout",
     "output_type": "stream",
     "text": [
      "[location_46] Epoch 3/5 | Train - Loss: 0.3215, Cls: 0.3191, GRQO: 0.0024, Acc: 0.9001 | Val - Loss: 2.4741, Cls: 2.4731, GRQO: 0.0010, Acc: 0.3090\n",
      "[location_46] New best val acc: 0.3090\n"
     ]
    },
    {
     "name": "stderr",
     "output_type": "stream",
     "text": [
      "Evaluating: 100%|██████████| 48/48 [01:27<00:00,  1.81s/it]\n",
      "2025-10-20 05:04:38,570 | INFO | [location_46] Epoch 4/5 | Train - Loss: 0.2049, Cls: 0.2030, GRQO: 0.0020, Acc: 0.9357 | Val - Loss: 2.8492, Cls: 2.8486, GRQO: 0.0005, Acc: 0.3027\n"
     ]
    },
    {
     "name": "stdout",
     "output_type": "stream",
     "text": [
      "[location_46] Epoch 4/5 | Train - Loss: 0.2049, Cls: 0.2030, GRQO: 0.0020, Acc: 0.9357 | Val - Loss: 2.8492, Cls: 2.8486, GRQO: 0.0005, Acc: 0.3027\n"
     ]
    },
    {
     "name": "stderr",
     "output_type": "stream",
     "text": [
      "Evaluating: 100%|██████████| 48/48 [01:27<00:00,  1.83s/it]\n",
      "2025-10-20 05:10:41,937 | INFO | [location_46] Epoch 5/5 | Train - Loss: 0.1527, Cls: 0.1511, GRQO: 0.0016, Acc: 0.9495 | Val - Loss: 3.1997, Cls: 3.1992, GRQO: 0.0005, Acc: 0.2821\n",
      "2025-10-20 05:10:41,939 | INFO | [location_46] Best Acc: 0.3090\n",
      "2025-10-20 05:10:41,940 | INFO | ------------------------------------------------------------\n"
     ]
    },
    {
     "name": "stdout",
     "output_type": "stream",
     "text": [
      "[location_46] Epoch 5/5 | Train - Loss: 0.1527, Cls: 0.1511, GRQO: 0.0016, Acc: 0.9495 | Val - Loss: 3.1997, Cls: 3.1992, GRQO: 0.0005, Acc: 0.2821\n",
      "[location_46] Best Acc: 0.3090\n",
      "------------------------------------------------------------\n"
     ]
    },
    {
     "name": "stderr",
     "output_type": "stream",
     "text": [
      "Some weights of ViTModel were not initialized from the model checkpoint at WinKawaks/vit-tiny-patch16-224 and are newly initialized: ['pooler.dense.bias', 'pooler.dense.weight']\n",
      "You should probably TRAIN this model on a down-stream task to be able to use it for predictions and inference.\n",
      "2025-10-20 05:10:43,617 | INFO | === LODO: Leaving out domain 'location_100' ===\n"
     ]
    },
    {
     "name": "stdout",
     "output_type": "stream",
     "text": [
      "\n",
      "=== LODO: Leaving out domain 'location_100' ===\n"
     ]
    },
    {
     "name": "stderr",
     "output_type": "stream",
     "text": [
      "Evaluating: 100%|██████████| 39/39 [01:13<00:00,  1.88s/it]\n",
      "2025-10-20 05:16:39,683 | INFO | [location_100] Epoch 1/5 | Train - Loss: 1.1720, Cls: 1.1656, GRQO: 0.0064, Acc: 0.5933 | Val - Loss: 1.6672, Cls: 1.6659, GRQO: 0.0014, Acc: 0.4548\n",
      "2025-10-20 05:16:39,770 | INFO | [location_100] New best val acc: 0.4548\n"
     ]
    },
    {
     "name": "stdout",
     "output_type": "stream",
     "text": [
      "[location_100] Epoch 1/5 | Train - Loss: 1.1720, Cls: 1.1656, GRQO: 0.0064, Acc: 0.5933 | Val - Loss: 1.6672, Cls: 1.6659, GRQO: 0.0014, Acc: 0.4548\n",
      "[location_100] New best val acc: 0.4548\n"
     ]
    },
    {
     "name": "stderr",
     "output_type": "stream",
     "text": [
      "Evaluating: 100%|██████████| 39/39 [01:05<00:00,  1.69s/it]\n",
      "2025-10-20 05:22:35,631 | INFO | [location_100] Epoch 2/5 | Train - Loss: 0.5974, Cls: 0.5945, GRQO: 0.0029, Acc: 0.8063 | Val - Loss: 1.9095, Cls: 1.9086, GRQO: 0.0009, Acc: 0.4466\n"
     ]
    },
    {
     "name": "stdout",
     "output_type": "stream",
     "text": [
      "[location_100] Epoch 2/5 | Train - Loss: 0.5974, Cls: 0.5945, GRQO: 0.0029, Acc: 0.8063 | Val - Loss: 1.9095, Cls: 1.9086, GRQO: 0.0009, Acc: 0.4466\n"
     ]
    },
    {
     "name": "stderr",
     "output_type": "stream",
     "text": [
      "Evaluating: 100%|██████████| 39/39 [00:43<00:00,  1.11s/it]\n",
      "2025-10-20 05:26:43,451 | INFO | [location_100] Epoch 3/5 | Train - Loss: 0.3550, Cls: 0.3526, GRQO: 0.0023, Acc: 0.8872 | Val - Loss: 1.7553, Cls: 1.7548, GRQO: 0.0006, Acc: 0.5144\n",
      "2025-10-20 05:26:43,495 | INFO | [location_100] New best val acc: 0.5144\n"
     ]
    },
    {
     "name": "stdout",
     "output_type": "stream",
     "text": [
      "[location_100] Epoch 3/5 | Train - Loss: 0.3550, Cls: 0.3526, GRQO: 0.0023, Acc: 0.8872 | Val - Loss: 1.7553, Cls: 1.7548, GRQO: 0.0006, Acc: 0.5144\n",
      "[location_100] New best val acc: 0.5144\n"
     ]
    },
    {
     "name": "stderr",
     "output_type": "stream",
     "text": [
      "Evaluating: 100%|██████████| 39/39 [00:33<00:00,  1.16it/s]\n",
      "2025-10-20 05:29:40,613 | INFO | [location_100] Epoch 4/5 | Train - Loss: 0.2435, Cls: 0.2415, GRQO: 0.0019, Acc: 0.9197 | Val - Loss: 2.7837, Cls: 2.7833, GRQO: 0.0004, Acc: 0.3603\n"
     ]
    },
    {
     "name": "stdout",
     "output_type": "stream",
     "text": [
      "[location_100] Epoch 4/5 | Train - Loss: 0.2435, Cls: 0.2415, GRQO: 0.0019, Acc: 0.9197 | Val - Loss: 2.7837, Cls: 2.7833, GRQO: 0.0004, Acc: 0.3603\n"
     ]
    },
    {
     "name": "stderr",
     "output_type": "stream",
     "text": [
      "Evaluating: 100%|██████████| 39/39 [00:30<00:00,  1.28it/s]\n",
      "2025-10-20 05:33:33,107 | INFO | [location_100] Epoch 5/5 | Train - Loss: 0.1735, Cls: 0.1719, GRQO: 0.0016, Acc: 0.9441 | Val - Loss: 2.4784, Cls: 2.4781, GRQO: 0.0003, Acc: 0.3970\n",
      "2025-10-20 05:33:33,107 | INFO | [location_100] Best Acc: 0.5144\n",
      "2025-10-20 05:33:33,107 | INFO | ------------------------------------------------------------\n",
      "2025-10-20 05:33:33,109 | INFO | LODO finished | Mean Acc: 0.3649 | Summary saved to c:\\Users\\Fatim_Sproj\\Desktop\\Fatim\\Spring 2025\\sproj\\Visual-Reasoning\\Vit-GRQO\\vit-tiny\\TerraIncognita\\logs\\lodo_summary_20251020_053333.json\n"
     ]
    },
    {
     "name": "stdout",
     "output_type": "stream",
     "text": [
      "[location_100] Epoch 5/5 | Train - Loss: 0.1735, Cls: 0.1719, GRQO: 0.0016, Acc: 0.9441 | Val - Loss: 2.4784, Cls: 2.4781, GRQO: 0.0003, Acc: 0.3970\n",
      "[location_100] Best Acc: 0.5144\n",
      "------------------------------------------------------------\n",
      "LODO finished | Mean Acc: 0.3649\n",
      "Summary saved to c:\\Users\\Fatim_Sproj\\Desktop\\Fatim\\Spring 2025\\sproj\\Visual-Reasoning\\Vit-GRQO\\vit-tiny\\TerraIncognita\\logs\\lodo_summary_20251020_053333.json\n"
     ]
    }
   ],
   "source": [
    "lodo_results, lodo_mean, lodo_summary = run_lodo(\n",
    "    model_fn=model_factory,\n",
    "    CFG=CFG,\n",
    "    logger=logger,\n",
    "    dataset_key=DS,\n",
    "    domains=domains,\n",
    "    loaders=loaders,\n",
    "    optimizer_fn=optimizer_fn,\n",
    "    device=device,\n",
    "    ckpt_root=ckpt_root,\n",
    "    log_dir=log_dir,\n",
    "    epochs=epochs\n",
    ")"
   ]
  },
  {
   "cell_type": "markdown",
   "id": "008d21ac",
   "metadata": {},
   "source": [
    "### Baseline"
   ]
  },
  {
   "cell_type": "code",
   "execution_count": 6,
   "id": "060b18a4",
   "metadata": {},
   "outputs": [
    {
     "name": "stderr",
     "output_type": "stream",
     "text": [
      "2025-10-20 05:33:33,130 | INFO | Initializing ViT baseline: WinKawaks/vit-tiny-patch16-224\n"
     ]
    },
    {
     "name": "stdout",
     "output_type": "stream",
     "text": [
      "Initializing ViT baseline: WinKawaks/vit-tiny-patch16-224\n"
     ]
    },
    {
     "name": "stderr",
     "output_type": "stream",
     "text": [
      "Some weights of ViTForImageClassification were not initialized from the model checkpoint at WinKawaks/vit-tiny-patch16-224 and are newly initialized because the shapes did not match:\n",
      "- classifier.bias: found shape torch.Size([1000]) in the checkpoint and torch.Size([10]) in the model instantiated\n",
      "- classifier.weight: found shape torch.Size([1000, 192]) in the checkpoint and torch.Size([10, 192]) in the model instantiated\n",
      "You should probably TRAIN this model on a down-stream task to be able to use it for predictions and inference.\n",
      "2025-10-20 05:33:34,849 | INFO | === Baseline LODO: Leaving out domain 'location_38' ===\n"
     ]
    },
    {
     "name": "stdout",
     "output_type": "stream",
     "text": [
      "\n",
      "=== Baseline LODO: Leaving out domain 'location_38' ===\n"
     ]
    },
    {
     "name": "stderr",
     "output_type": "stream",
     "text": [
      "2025-10-20 05:36:36,074 | INFO | [location_38] Epoch 1/5 | Train - Loss: 0.9253, Acc: 0.6695 | Val Acc: 0.1073\n"
     ]
    },
    {
     "name": "stdout",
     "output_type": "stream",
     "text": [
      "[location_38] Epoch 1/5 | Train - Loss: 0.9253, Acc: 0.6695 | Val Acc: 0.1073\n"
     ]
    },
    {
     "name": "stderr",
     "output_type": "stream",
     "text": [
      "2025-10-20 05:39:22,895 | INFO | [location_38] Epoch 2/5 | Train - Loss: 0.3979, Acc: 0.8634 | Val Acc: 0.2290\n"
     ]
    },
    {
     "name": "stdout",
     "output_type": "stream",
     "text": [
      "[location_38] Epoch 2/5 | Train - Loss: 0.3979, Acc: 0.8634 | Val Acc: 0.2290\n"
     ]
    },
    {
     "name": "stderr",
     "output_type": "stream",
     "text": [
      "2025-10-20 05:41:55,126 | INFO | [location_38] Epoch 3/5 | Train - Loss: 0.2304, Acc: 0.9228 | Val Acc: 0.1672\n"
     ]
    },
    {
     "name": "stdout",
     "output_type": "stream",
     "text": [
      "[location_38] Epoch 3/5 | Train - Loss: 0.2304, Acc: 0.9228 | Val Acc: 0.1672\n"
     ]
    },
    {
     "name": "stderr",
     "output_type": "stream",
     "text": [
      "2025-10-20 05:44:27,226 | INFO | [location_38] Epoch 4/5 | Train - Loss: 0.1629, Acc: 0.9443 | Val Acc: 0.1565\n"
     ]
    },
    {
     "name": "stdout",
     "output_type": "stream",
     "text": [
      "[location_38] Epoch 4/5 | Train - Loss: 0.1629, Acc: 0.9443 | Val Acc: 0.1565\n"
     ]
    },
    {
     "name": "stderr",
     "output_type": "stream",
     "text": [
      "2025-10-20 05:47:00,776 | INFO | [location_38] Epoch 5/5 | Train - Loss: 0.1268, Acc: 0.9570 | Val Acc: 0.1456\n",
      "2025-10-20 05:47:00,776 | INFO | [location_38] Best Val Acc: 0.2290\n",
      "2025-10-20 05:47:00,776 | INFO | ------------------------------------------------------------\n",
      "2025-10-20 05:47:00,776 | INFO | Initializing ViT baseline: WinKawaks/vit-tiny-patch16-224\n"
     ]
    },
    {
     "name": "stdout",
     "output_type": "stream",
     "text": [
      "[location_38] Epoch 5/5 | Train - Loss: 0.1268, Acc: 0.9570 | Val Acc: 0.1456\n",
      "[location_38] Best Val Acc: 0.2290\n",
      "------------------------------------------------------------\n",
      "Initializing ViT baseline: WinKawaks/vit-tiny-patch16-224\n"
     ]
    },
    {
     "name": "stderr",
     "output_type": "stream",
     "text": [
      "Some weights of ViTForImageClassification were not initialized from the model checkpoint at WinKawaks/vit-tiny-patch16-224 and are newly initialized because the shapes did not match:\n",
      "- classifier.bias: found shape torch.Size([1000]) in the checkpoint and torch.Size([10]) in the model instantiated\n",
      "- classifier.weight: found shape torch.Size([1000, 192]) in the checkpoint and torch.Size([10, 192]) in the model instantiated\n",
      "You should probably TRAIN this model on a down-stream task to be able to use it for predictions and inference.\n",
      "2025-10-20 05:47:02,466 | INFO | === Baseline LODO: Leaving out domain 'location_43' ===\n"
     ]
    },
    {
     "name": "stdout",
     "output_type": "stream",
     "text": [
      "\n",
      "=== Baseline LODO: Leaving out domain 'location_43' ===\n"
     ]
    },
    {
     "name": "stderr",
     "output_type": "stream",
     "text": [
      "2025-10-20 05:50:04,204 | INFO | [location_43] Epoch 1/5 | Train - Loss: 0.8035, Acc: 0.7286 | Val Acc: 0.4045\n"
     ]
    },
    {
     "name": "stdout",
     "output_type": "stream",
     "text": [
      "[location_43] Epoch 1/5 | Train - Loss: 0.8035, Acc: 0.7286 | Val Acc: 0.4045\n"
     ]
    },
    {
     "name": "stderr",
     "output_type": "stream",
     "text": [
      "2025-10-20 05:52:36,922 | INFO | [location_43] Epoch 2/5 | Train - Loss: 0.3411, Acc: 0.8874 | Val Acc: 0.4152\n"
     ]
    },
    {
     "name": "stdout",
     "output_type": "stream",
     "text": [
      "[location_43] Epoch 2/5 | Train - Loss: 0.3411, Acc: 0.8874 | Val Acc: 0.4152\n"
     ]
    },
    {
     "name": "stderr",
     "output_type": "stream",
     "text": [
      "2025-10-20 05:55:04,867 | INFO | [location_43] Epoch 3/5 | Train - Loss: 0.1899, Acc: 0.9398 | Val Acc: 0.4356\n"
     ]
    },
    {
     "name": "stdout",
     "output_type": "stream",
     "text": [
      "[location_43] Epoch 3/5 | Train - Loss: 0.1899, Acc: 0.9398 | Val Acc: 0.4356\n"
     ]
    },
    {
     "name": "stderr",
     "output_type": "stream",
     "text": [
      "2025-10-20 05:57:25,190 | INFO | [location_43] Epoch 4/5 | Train - Loss: 0.1317, Acc: 0.9569 | Val Acc: 0.4284\n"
     ]
    },
    {
     "name": "stdout",
     "output_type": "stream",
     "text": [
      "[location_43] Epoch 4/5 | Train - Loss: 0.1317, Acc: 0.9569 | Val Acc: 0.4284\n"
     ]
    },
    {
     "name": "stderr",
     "output_type": "stream",
     "text": [
      "2025-10-20 05:59:45,306 | INFO | [location_43] Epoch 5/5 | Train - Loss: 0.1053, Acc: 0.9652 | Val Acc: 0.4326\n",
      "2025-10-20 05:59:45,306 | INFO | [location_43] Best Val Acc: 0.4356\n",
      "2025-10-20 05:59:45,306 | INFO | ------------------------------------------------------------\n",
      "2025-10-20 05:59:45,306 | INFO | Initializing ViT baseline: WinKawaks/vit-tiny-patch16-224\n"
     ]
    },
    {
     "name": "stdout",
     "output_type": "stream",
     "text": [
      "[location_43] Epoch 5/5 | Train - Loss: 0.1053, Acc: 0.9652 | Val Acc: 0.4326\n",
      "[location_43] Best Val Acc: 0.4356\n",
      "------------------------------------------------------------\n",
      "Initializing ViT baseline: WinKawaks/vit-tiny-patch16-224\n"
     ]
    },
    {
     "name": "stderr",
     "output_type": "stream",
     "text": [
      "Some weights of ViTForImageClassification were not initialized from the model checkpoint at WinKawaks/vit-tiny-patch16-224 and are newly initialized because the shapes did not match:\n",
      "- classifier.bias: found shape torch.Size([1000]) in the checkpoint and torch.Size([10]) in the model instantiated\n",
      "- classifier.weight: found shape torch.Size([1000, 192]) in the checkpoint and torch.Size([10, 192]) in the model instantiated\n",
      "You should probably TRAIN this model on a down-stream task to be able to use it for predictions and inference.\n",
      "2025-10-20 05:59:46,956 | INFO | === Baseline LODO: Leaving out domain 'location_46' ===\n"
     ]
    },
    {
     "name": "stdout",
     "output_type": "stream",
     "text": [
      "\n",
      "=== Baseline LODO: Leaving out domain 'location_46' ===\n"
     ]
    },
    {
     "name": "stderr",
     "output_type": "stream",
     "text": [
      "2025-10-20 06:02:16,178 | INFO | [location_46] Epoch 1/5 | Train - Loss: 0.8465, Acc: 0.7104 | Val Acc: 0.2720\n"
     ]
    },
    {
     "name": "stdout",
     "output_type": "stream",
     "text": [
      "[location_46] Epoch 1/5 | Train - Loss: 0.8465, Acc: 0.7104 | Val Acc: 0.2720\n"
     ]
    },
    {
     "name": "stderr",
     "output_type": "stream",
     "text": [
      "2025-10-20 06:04:49,221 | INFO | [location_46] Epoch 2/5 | Train - Loss: 0.3500, Acc: 0.8874 | Val Acc: 0.2945\n"
     ]
    },
    {
     "name": "stdout",
     "output_type": "stream",
     "text": [
      "[location_46] Epoch 2/5 | Train - Loss: 0.3500, Acc: 0.8874 | Val Acc: 0.2945\n"
     ]
    },
    {
     "name": "stderr",
     "output_type": "stream",
     "text": [
      "2025-10-20 06:07:29,371 | INFO | [location_46] Epoch 3/5 | Train - Loss: 0.1959, Acc: 0.9380 | Val Acc: 0.3345\n"
     ]
    },
    {
     "name": "stdout",
     "output_type": "stream",
     "text": [
      "[location_46] Epoch 3/5 | Train - Loss: 0.1959, Acc: 0.9380 | Val Acc: 0.3345\n"
     ]
    },
    {
     "name": "stderr",
     "output_type": "stream",
     "text": [
      "2025-10-20 06:10:06,887 | INFO | [location_46] Epoch 4/5 | Train - Loss: 0.1323, Acc: 0.9574 | Val Acc: 0.3161\n"
     ]
    },
    {
     "name": "stdout",
     "output_type": "stream",
     "text": [
      "[location_46] Epoch 4/5 | Train - Loss: 0.1323, Acc: 0.9574 | Val Acc: 0.3161\n"
     ]
    },
    {
     "name": "stderr",
     "output_type": "stream",
     "text": [
      "2025-10-20 06:15:19,744 | INFO | [location_46] Epoch 5/5 | Train - Loss: 0.0980, Acc: 0.9689 | Val Acc: 0.3458\n",
      "2025-10-20 06:15:19,745 | INFO | [location_46] Best Val Acc: 0.3458\n",
      "2025-10-20 06:15:19,746 | INFO | ------------------------------------------------------------\n",
      "2025-10-20 06:15:19,747 | INFO | Initializing ViT baseline: WinKawaks/vit-tiny-patch16-224\n"
     ]
    },
    {
     "name": "stdout",
     "output_type": "stream",
     "text": [
      "[location_46] Epoch 5/5 | Train - Loss: 0.0980, Acc: 0.9689 | Val Acc: 0.3458\n",
      "[location_46] Best Val Acc: 0.3458\n",
      "------------------------------------------------------------\n",
      "Initializing ViT baseline: WinKawaks/vit-tiny-patch16-224\n"
     ]
    },
    {
     "name": "stderr",
     "output_type": "stream",
     "text": [
      "Some weights of ViTForImageClassification were not initialized from the model checkpoint at WinKawaks/vit-tiny-patch16-224 and are newly initialized because the shapes did not match:\n",
      "- classifier.bias: found shape torch.Size([1000]) in the checkpoint and torch.Size([10]) in the model instantiated\n",
      "- classifier.weight: found shape torch.Size([1000, 192]) in the checkpoint and torch.Size([10, 192]) in the model instantiated\n",
      "You should probably TRAIN this model on a down-stream task to be able to use it for predictions and inference.\n",
      "2025-10-20 06:15:21,508 | INFO | === Baseline LODO: Leaving out domain 'location_100' ===\n"
     ]
    },
    {
     "name": "stdout",
     "output_type": "stream",
     "text": [
      "\n",
      "=== Baseline LODO: Leaving out domain 'location_100' ===\n"
     ]
    },
    {
     "name": "stderr",
     "output_type": "stream",
     "text": [
      "2025-10-20 06:21:05,185 | INFO | [location_100] Epoch 1/5 | Train - Loss: 0.8716, Acc: 0.7018 | Val Acc: 0.3201\n"
     ]
    },
    {
     "name": "stdout",
     "output_type": "stream",
     "text": [
      "[location_100] Epoch 1/5 | Train - Loss: 0.8716, Acc: 0.7018 | Val Acc: 0.3201\n"
     ]
    },
    {
     "name": "stderr",
     "output_type": "stream",
     "text": [
      "2025-10-20 06:25:11,022 | INFO | [location_100] Epoch 2/5 | Train - Loss: 0.3859, Acc: 0.8701 | Val Acc: 0.3380\n"
     ]
    },
    {
     "name": "stdout",
     "output_type": "stream",
     "text": [
      "[location_100] Epoch 2/5 | Train - Loss: 0.3859, Acc: 0.8701 | Val Acc: 0.3380\n"
     ]
    },
    {
     "name": "stderr",
     "output_type": "stream",
     "text": [
      "2025-10-20 06:30:57,964 | INFO | [location_100] Epoch 3/5 | Train - Loss: 0.2281, Acc: 0.9241 | Val Acc: 0.4409\n"
     ]
    },
    {
     "name": "stdout",
     "output_type": "stream",
     "text": [
      "[location_100] Epoch 3/5 | Train - Loss: 0.2281, Acc: 0.9241 | Val Acc: 0.4409\n"
     ]
    },
    {
     "name": "stderr",
     "output_type": "stream",
     "text": [
      "2025-10-20 06:37:24,353 | INFO | [location_100] Epoch 4/5 | Train - Loss: 0.1548, Acc: 0.9486 | Val Acc: 0.4595\n"
     ]
    },
    {
     "name": "stdout",
     "output_type": "stream",
     "text": [
      "[location_100] Epoch 4/5 | Train - Loss: 0.1548, Acc: 0.9486 | Val Acc: 0.4595\n"
     ]
    },
    {
     "name": "stderr",
     "output_type": "stream",
     "text": [
      "2025-10-20 06:42:53,113 | INFO | [location_100] Epoch 5/5 | Train - Loss: 0.1207, Acc: 0.9593 | Val Acc: 0.4441\n",
      "2025-10-20 06:42:53,114 | INFO | [location_100] Best Val Acc: 0.4595\n",
      "2025-10-20 06:42:53,115 | INFO | ------------------------------------------------------------\n",
      "2025-10-20 06:42:53,116 | INFO | Baseline LODO (WinKawaks/vit-tiny-patch16-224) finished | Mean Acc: 0.3675\n"
     ]
    },
    {
     "name": "stdout",
     "output_type": "stream",
     "text": [
      "[location_100] Epoch 5/5 | Train - Loss: 0.1207, Acc: 0.9593 | Val Acc: 0.4441\n",
      "[location_100] Best Val Acc: 0.4595\n",
      "------------------------------------------------------------\n",
      "Baseline LODO (WinKawaks/vit-tiny-patch16-224) finished | Mean Acc: 0.3675\n"
     ]
    }
   ],
   "source": [
    "baseline_results, baseline_mean = run_baseline(\n",
    "    model_name=MODEL_NAME,\n",
    "    CFG=CFG,\n",
    "    logger=logger,\n",
    "    dataset_key=DS,\n",
    "    domains=domains,\n",
    "    loaders=loaders,\n",
    "    optimizer_fn=optimizer_fn,\n",
    "    device=device,\n",
    "    epochs=CFG[\"train\"][\"epochs\"]\n",
    ")\n"
   ]
  }
 ],
 "metadata": {
  "kernelspec": {
   "display_name": "bacp",
   "language": "python",
   "name": "python3"
  },
  "language_info": {
   "codemirror_mode": {
    "name": "ipython",
    "version": 3
   },
   "file_extension": ".py",
   "mimetype": "text/x-python",
   "name": "python",
   "nbconvert_exporter": "python",
   "pygments_lexer": "ipython3",
   "version": "3.10.16"
  }
 },
 "nbformat": 4,
 "nbformat_minor": 5
}
