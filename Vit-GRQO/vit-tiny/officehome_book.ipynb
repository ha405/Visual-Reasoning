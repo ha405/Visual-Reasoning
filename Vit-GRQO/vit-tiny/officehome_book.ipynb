{
 "cells": [
  {
   "cell_type": "markdown",
   "id": "7aeb725f",
   "metadata": {},
   "source": [
    "### Imports"
   ]
  },
  {
   "cell_type": "code",
   "execution_count": 1,
   "id": "e407742a",
   "metadata": {},
   "outputs": [
    {
     "name": "stdout",
     "output_type": "stream",
     "text": [
      "Device: cuda\n",
      "PyTorch: 2.5.1+cu121\n"
     ]
    }
   ],
   "source": [
    "import sys\n",
    "sys.dont_write_bytecode = True\n",
    "\n",
    "\n",
    "import torch\n",
    "import numpy as np\n",
    "import random\n",
    "import os\n",
    "\n",
    "def set_seeds(seed_value=42):\n",
    "    \"\"\"Sets seeds for reproducibility.\"\"\"\n",
    "    random.seed(seed_value)\n",
    "    np.random.seed(seed_value)\n",
    "    torch.manual_seed(seed_value)\n",
    "    os.environ['PYTHONHASHSEED'] = str(seed_value)\n",
    "    \n",
    "    if torch.cuda.is_available():\n",
    "        torch.cuda.manual_seed(seed_value)\n",
    "\n",
    "set_seeds(42) \n",
    "\n",
    "import json\n",
    "import torch.nn as nn\n",
    "import torch.optim as optim\n",
    "from tqdm import tqdm\n",
    "import warnings\n",
    "import logging\n",
    "from datetime import datetime\n",
    "warnings.filterwarnings('ignore')\n",
    "\n",
    "from model import get_model\n",
    "from config import CFG\n",
    "from dataset import OfficeHomeDataset\n",
    "from plot import plot_domainwise_accuracy\n",
    "from transform import get_transforms\n",
    "from runner import run_baseline, run_lodo\n",
    "\n",
    "torch.manual_seed(CFG[\"system\"][\"seed\"])\n",
    "np.random.seed(CFG[\"system\"][\"seed\"])\n",
    "\n",
    "device = CFG[\"system\"][\"device\"]\n",
    "print(f\"Device: {device}\")\n",
    "print(f\"PyTorch: {torch.__version__}\")\n"
   ]
  },
  {
   "cell_type": "markdown",
   "id": "d617af05",
   "metadata": {},
   "source": [
    "### DataLoading"
   ]
  },
  {
   "cell_type": "code",
   "execution_count": 2,
   "id": "3e673c0a",
   "metadata": {},
   "outputs": [
    {
     "name": "stdout",
     "output_type": "stream",
     "text": [
      "\n",
      "Data loaders ready!\n"
     ]
    }
   ],
   "source": [
    "train_transform, test_transform = get_transforms(img_size=224, augment=False, use_imagenet_norm=False)\n",
    "\n",
    "oh = OfficeHomeDataset(\n",
    "    data_root=CFG[\"datasets\"][\"OfficeHome\"][\"root\"],\n",
    "    transform=train_transform,\n",
    "    batch_size=CFG[\"train\"][\"batch_size\"]\n",
    ")\n",
    "\n",
    "print(\"\\nData loaders ready!\")"
   ]
  },
  {
   "cell_type": "markdown",
   "id": "e5a3d318",
   "metadata": {},
   "source": [
    "### Logging"
   ]
  },
  {
   "cell_type": "code",
   "execution_count": 3,
   "id": "f01fd7aa",
   "metadata": {},
   "outputs": [
    {
     "name": "stdout",
     "output_type": "stream",
     "text": [
      "Initialized experiment directories for OfficeHome\n",
      "Logs: c:\\Users\\Fatim_Sproj\\Desktop\\Fatim\\Spring 2025\\sproj\\Visual-Reasoning\\Vit-GRQO\\vit-tiny\\OfficeHome\\logs\n",
      "Checkpoints: c:\\Users\\Fatim_Sproj\\Desktop\\Fatim\\Spring 2025\\sproj\\Visual-Reasoning\\Vit-GRQO\\vit-tiny\\OfficeHome\\checkpoints\n",
      "Plots: c:\\Users\\Fatim_Sproj\\Desktop\\Fatim\\Spring 2025\\sproj\\Visual-Reasoning\\Vit-GRQO\\vit-tiny\\OfficeHome\\plots\n"
     ]
    }
   ],
   "source": [
    "\n",
    "dataset_name = \"OfficeHome\"\n",
    "base_dir = os.path.join(os.getcwd(), dataset_name)\n",
    "subdirs = [\"logs\", \"checkpoints\", \"plots\"]\n",
    "\n",
    "for sub in subdirs:\n",
    "    os.makedirs(os.path.join(base_dir, sub), exist_ok=True)\n",
    "\n",
    "timestamp = datetime.now().strftime(\"%Y-%m-%d_%H-%M-%S\")\n",
    "log_file = os.path.join(base_dir, \"logs\", f\"train_{timestamp}.log\")\n",
    "\n",
    "logging.basicConfig(\n",
    "    level=logging.INFO,\n",
    "    format=\"%(asctime)s | %(levelname)s | %(message)s\",\n",
    "    handlers=[logging.FileHandler(log_file)]\n",
    ")\n",
    "\n",
    "logger = logging.getLogger(dataset_name)\n",
    "\n",
    "logger.info(f\"Initialized experiment directories for {dataset_name}\")\n",
    "logger.info(f\"Logs: {os.path.join(base_dir, 'logs')}\")\n",
    "logger.info(f\"Checkpoints: {os.path.join(base_dir, 'checkpoints')}\")\n",
    "logger.info(f\"Plots: {os.path.join(base_dir, 'plots')}\")\n",
    "\n",
    "print(f\"Initialized experiment directories for {dataset_name}\")\n",
    "print(f\"Logs: {os.path.join(base_dir, 'logs')}\")\n",
    "print(f\"Checkpoints: {os.path.join(base_dir, 'checkpoints')}\")\n",
    "print(f\"Plots: {os.path.join(base_dir, 'plots')}\")\n"
   ]
  },
  {
   "cell_type": "markdown",
   "id": "47398d2c",
   "metadata": {},
   "source": [
    "### Setup"
   ]
  },
  {
   "cell_type": "code",
   "execution_count": 4,
   "id": "450d7f06",
   "metadata": {},
   "outputs": [],
   "source": [
    "domains = CFG[\"datasets\"][\"OfficeHome\"][\"domains\"]\n",
    "loaders = {d: {\"train\": oh.get_dataloader(d, train=True), \"val\": oh.get_dataloader(d, train=False)} for d in domains}\n",
    "ckpt_root = os.path.join(base_dir, \"checkpoints\")\n",
    "log_dir = os.path.join(base_dir, \"logs\")\n",
    "plots_dir = os.path.join(base_dir, \"plots\")\n",
    "os.makedirs(ckpt_root, exist_ok=True)\n",
    "os.makedirs(log_dir, exist_ok=True)\n",
    "os.makedirs(plots_dir, exist_ok=True)\n",
    "model_factory = lambda cfg, dataset_key: get_model(cfg,dataset=\"OfficeHome\")\n",
    "optimizer_fn = lambda model: optim.AdamW(model.parameters(), lr=CFG[\"train\"][\"lr\"], weight_decay=CFG[\"train\"].get(\"weight_decay\", 0.01))\n",
    "device = CFG[\"system\"][\"device\"]\n",
    "epochs = CFG[\"train\"][\"epochs\"]\n"
   ]
  },
  {
   "cell_type": "markdown",
   "id": "2d8dafe9",
   "metadata": {},
   "source": [
    "{\n",
    "  \"lodo_results\": {\n",
    "    \"art_painting\": 0.8341463414634146,\n",
    "    \"cartoon\": 0.7974413646055437,\n",
    "    \"photo\": 0.9580838323353293,\n",
    "    \"sketch\": 0.6017811704834606\n",
    "  },\n",
    "  \"timestamp\": \"20251004_020611\"\n",
    "}"
   ]
  },
  {
   "cell_type": "markdown",
   "id": "4931c868",
   "metadata": {},
   "source": [
    "### Leave One Domain Out"
   ]
  },
  {
   "cell_type": "code",
   "execution_count": 5,
   "id": "c0344437",
   "metadata": {},
   "outputs": [
    {
     "name": "stderr",
     "output_type": "stream",
     "text": [
      "Some weights of ViTModel were not initialized from the model checkpoint at WinKawaks/vit-tiny-patch16-224 and are newly initialized: ['pooler.dense.bias', 'pooler.dense.weight']\n",
      "You should probably TRAIN this model on a down-stream task to be able to use it for predictions and inference.\n"
     ]
    },
    {
     "name": "stdout",
     "output_type": "stream",
     "text": [
      "\n",
      "=== LODO: Leaving out domain 'Art' ===\n"
     ]
    },
    {
     "name": "stderr",
     "output_type": "stream",
     "text": [
      "Evaluating: 100%|██████████| 19/19 [00:13<00:00,  1.46it/s]\n"
     ]
    },
    {
     "name": "stdout",
     "output_type": "stream",
     "text": [
      "[Art] Epoch 1/5 | Train - Loss: 2.9347, Cls: 2.9256, GRQO: 0.0091, Acc: 0.3950 | Val - Loss: 2.1056, Cls: 2.1035, GRQO: 0.0022, Acc: 0.5550\n",
      "[Art] New best val acc: 0.5550\n"
     ]
    },
    {
     "name": "stderr",
     "output_type": "stream",
     "text": [
      "Evaluating: 100%|██████████| 19/19 [00:11<00:00,  1.71it/s]\n"
     ]
    },
    {
     "name": "stdout",
     "output_type": "stream",
     "text": [
      "[Art] Epoch 2/5 | Train - Loss: 1.1081, Cls: 1.1042, GRQO: 0.0039, Acc: 0.7948 | Val - Loss: 1.5050, Cls: 1.5038, GRQO: 0.0013, Acc: 0.6498\n",
      "[Art] New best val acc: 0.6498\n"
     ]
    },
    {
     "name": "stderr",
     "output_type": "stream",
     "text": [
      "Evaluating: 100%|██████████| 19/19 [00:10<00:00,  1.73it/s]\n"
     ]
    },
    {
     "name": "stdout",
     "output_type": "stream",
     "text": [
      "[Art] Epoch 3/5 | Train - Loss: 0.4939, Cls: 0.4905, GRQO: 0.0034, Acc: 0.9068 | Val - Loss: 1.3829, Cls: 1.3820, GRQO: 0.0010, Acc: 0.6506\n",
      "[Art] New best val acc: 0.6506\n"
     ]
    },
    {
     "name": "stderr",
     "output_type": "stream",
     "text": [
      "Evaluating: 100%|██████████| 19/19 [00:10<00:00,  1.73it/s]\n"
     ]
    },
    {
     "name": "stdout",
     "output_type": "stream",
     "text": [
      "[Art] Epoch 4/5 | Train - Loss: 0.2419, Cls: 0.2389, GRQO: 0.0030, Acc: 0.9600 | Val - Loss: 1.4163, Cls: 1.4155, GRQO: 0.0008, Acc: 0.6539\n",
      "[Art] New best val acc: 0.6539\n"
     ]
    },
    {
     "name": "stderr",
     "output_type": "stream",
     "text": [
      "Evaluating: 100%|██████████| 19/19 [00:10<00:00,  1.75it/s]\n"
     ]
    },
    {
     "name": "stdout",
     "output_type": "stream",
     "text": [
      "[Art] Epoch 5/5 | Train - Loss: 0.1367, Cls: 0.1341, GRQO: 0.0026, Acc: 0.9802 | Val - Loss: 1.4257, Cls: 1.4251, GRQO: 0.0006, Acc: 0.6560\n",
      "[Art] New best val acc: 0.6560\n",
      "[Art] Best Acc: 0.6560\n",
      "------------------------------------------------------------\n"
     ]
    },
    {
     "name": "stderr",
     "output_type": "stream",
     "text": [
      "Some weights of ViTModel were not initialized from the model checkpoint at WinKawaks/vit-tiny-patch16-224 and are newly initialized: ['pooler.dense.bias', 'pooler.dense.weight']\n",
      "You should probably TRAIN this model on a down-stream task to be able to use it for predictions and inference.\n"
     ]
    },
    {
     "name": "stdout",
     "output_type": "stream",
     "text": [
      "\n",
      "=== LODO: Leaving out domain 'Clipart' ===\n"
     ]
    },
    {
     "name": "stderr",
     "output_type": "stream",
     "text": [
      "Evaluating: 100%|██████████| 35/35 [00:10<00:00,  3.26it/s]\n"
     ]
    },
    {
     "name": "stdout",
     "output_type": "stream",
     "text": [
      "[Clipart] Epoch 1/5 | Train - Loss: 2.9481, Cls: 2.9382, GRQO: 0.0099, Acc: 0.4172 | Val - Loss: 2.4870, Cls: 2.4852, GRQO: 0.0018, Acc: 0.4628\n",
      "[Clipart] New best val acc: 0.4628\n"
     ]
    },
    {
     "name": "stderr",
     "output_type": "stream",
     "text": [
      "Evaluating: 100%|██████████| 35/35 [00:10<00:00,  3.29it/s]\n"
     ]
    },
    {
     "name": "stdout",
     "output_type": "stream",
     "text": [
      "[Clipart] Epoch 2/5 | Train - Loss: 1.1487, Cls: 1.1440, GRQO: 0.0047, Acc: 0.7990 | Val - Loss: 1.9822, Cls: 1.9811, GRQO: 0.0012, Acc: 0.5315\n",
      "[Clipart] New best val acc: 0.5315\n"
     ]
    },
    {
     "name": "stderr",
     "output_type": "stream",
     "text": [
      "Evaluating: 100%|██████████| 35/35 [00:12<00:00,  2.76it/s]\n"
     ]
    },
    {
     "name": "stdout",
     "output_type": "stream",
     "text": [
      "[Clipart] Epoch 3/5 | Train - Loss: 0.5124, Cls: 0.5085, GRQO: 0.0040, Acc: 0.9147 | Val - Loss: 1.8810, Cls: 1.8800, GRQO: 0.0009, Acc: 0.5611\n",
      "[Clipart] New best val acc: 0.5611\n"
     ]
    },
    {
     "name": "stderr",
     "output_type": "stream",
     "text": [
      "Evaluating: 100%|██████████| 35/35 [00:12<00:00,  2.78it/s]\n"
     ]
    },
    {
     "name": "stdout",
     "output_type": "stream",
     "text": [
      "[Clipart] Epoch 4/5 | Train - Loss: 0.2400, Cls: 0.2365, GRQO: 0.0034, Acc: 0.9680 | Val - Loss: 1.9225, Cls: 1.9218, GRQO: 0.0007, Acc: 0.5544\n"
     ]
    },
    {
     "name": "stderr",
     "output_type": "stream",
     "text": [
      "Evaluating: 100%|██████████| 35/35 [00:10<00:00,  3.28it/s]\n"
     ]
    },
    {
     "name": "stdout",
     "output_type": "stream",
     "text": [
      "[Clipart] Epoch 5/5 | Train - Loss: 0.1246, Cls: 0.1216, GRQO: 0.0030, Acc: 0.9861 | Val - Loss: 2.0537, Cls: 2.0531, GRQO: 0.0006, Acc: 0.5434\n",
      "[Clipart] Best Acc: 0.5611\n",
      "------------------------------------------------------------\n"
     ]
    },
    {
     "name": "stderr",
     "output_type": "stream",
     "text": [
      "Some weights of ViTModel were not initialized from the model checkpoint at WinKawaks/vit-tiny-patch16-224 and are newly initialized: ['pooler.dense.bias', 'pooler.dense.weight']\n",
      "You should probably TRAIN this model on a down-stream task to be able to use it for predictions and inference.\n"
     ]
    },
    {
     "name": "stdout",
     "output_type": "stream",
     "text": [
      "\n",
      "=== LODO: Leaving out domain 'Product' ===\n"
     ]
    },
    {
     "name": "stderr",
     "output_type": "stream",
     "text": [
      "Evaluating: 100%|██████████| 35/35 [00:10<00:00,  3.23it/s]\n"
     ]
    },
    {
     "name": "stdout",
     "output_type": "stream",
     "text": [
      "[Product] Epoch 1/5 | Train - Loss: 3.0762, Cls: 3.0655, GRQO: 0.0107, Acc: 0.3553 | Val - Loss: 1.9816, Cls: 1.9804, GRQO: 0.0012, Acc: 0.5598\n",
      "[Product] New best val acc: 0.5598\n"
     ]
    },
    {
     "name": "stderr",
     "output_type": "stream",
     "text": [
      "Evaluating: 100%|██████████| 35/35 [00:10<00:00,  3.27it/s]\n"
     ]
    },
    {
     "name": "stdout",
     "output_type": "stream",
     "text": [
      "[Product] Epoch 2/5 | Train - Loss: 1.3563, Cls: 1.3520, GRQO: 0.0042, Acc: 0.7372 | Val - Loss: 1.2087, Cls: 1.2080, GRQO: 0.0007, Acc: 0.7222\n",
      "[Product] New best val acc: 0.7222\n"
     ]
    },
    {
     "name": "stderr",
     "output_type": "stream",
     "text": [
      "Evaluating: 100%|██████████| 35/35 [00:10<00:00,  3.27it/s]\n"
     ]
    },
    {
     "name": "stdout",
     "output_type": "stream",
     "text": [
      "[Product] Epoch 3/5 | Train - Loss: 0.6698, Cls: 0.6660, GRQO: 0.0038, Acc: 0.8783 | Val - Loss: 1.0059, Cls: 1.0053, GRQO: 0.0006, Acc: 0.7547\n",
      "[Product] New best val acc: 0.7547\n"
     ]
    },
    {
     "name": "stderr",
     "output_type": "stream",
     "text": [
      "Evaluating: 100%|██████████| 35/35 [00:10<00:00,  3.24it/s]\n"
     ]
    },
    {
     "name": "stdout",
     "output_type": "stream",
     "text": [
      "[Product] Epoch 4/5 | Train - Loss: 0.3378, Cls: 0.3343, GRQO: 0.0034, Acc: 0.9439 | Val - Loss: 0.9799, Cls: 0.9794, GRQO: 0.0005, Acc: 0.7567\n",
      "[Product] New best val acc: 0.7567\n"
     ]
    },
    {
     "name": "stderr",
     "output_type": "stream",
     "text": [
      "Evaluating: 100%|██████████| 35/35 [00:10<00:00,  3.27it/s]\n"
     ]
    },
    {
     "name": "stdout",
     "output_type": "stream",
     "text": [
      "[Product] Epoch 5/5 | Train - Loss: 0.2024, Cls: 0.1993, GRQO: 0.0031, Acc: 0.9685 | Val - Loss: 0.9581, Cls: 0.9577, GRQO: 0.0004, Acc: 0.7596\n",
      "[Product] New best val acc: 0.7596\n",
      "[Product] Best Acc: 0.7596\n",
      "------------------------------------------------------------\n"
     ]
    },
    {
     "name": "stderr",
     "output_type": "stream",
     "text": [
      "Some weights of ViTModel were not initialized from the model checkpoint at WinKawaks/vit-tiny-patch16-224 and are newly initialized: ['pooler.dense.bias', 'pooler.dense.weight']\n",
      "You should probably TRAIN this model on a down-stream task to be able to use it for predictions and inference.\n"
     ]
    },
    {
     "name": "stdout",
     "output_type": "stream",
     "text": [
      "\n",
      "=== LODO: Leaving out domain 'Real World' ===\n"
     ]
    },
    {
     "name": "stderr",
     "output_type": "stream",
     "text": [
      "Evaluating: 100%|██████████| 35/35 [00:21<00:00,  1.63it/s]\n"
     ]
    },
    {
     "name": "stdout",
     "output_type": "stream",
     "text": [
      "[Real World] Epoch 1/5 | Train - Loss: 3.1082, Cls: 3.0986, GRQO: 0.0096, Acc: 0.3446 | Val - Loss: 1.8902, Cls: 1.8886, GRQO: 0.0016, Acc: 0.6114\n",
      "[Real World] New best val acc: 0.6114\n"
     ]
    },
    {
     "name": "stderr",
     "output_type": "stream",
     "text": [
      "Evaluating: 100%|██████████| 35/35 [00:21<00:00,  1.63it/s]\n"
     ]
    },
    {
     "name": "stdout",
     "output_type": "stream",
     "text": [
      "[Real World] Epoch 2/5 | Train - Loss: 1.3603, Cls: 1.3561, GRQO: 0.0042, Acc: 0.7454 | Val - Loss: 1.0906, Cls: 1.0896, GRQO: 0.0009, Acc: 0.7576\n",
      "[Real World] New best val acc: 0.7576\n"
     ]
    },
    {
     "name": "stderr",
     "output_type": "stream",
     "text": [
      "Evaluating: 100%|██████████| 35/35 [00:21<00:00,  1.63it/s]\n"
     ]
    },
    {
     "name": "stdout",
     "output_type": "stream",
     "text": [
      "[Real World] Epoch 3/5 | Train - Loss: 0.6431, Cls: 0.6393, GRQO: 0.0037, Acc: 0.8857 | Val - Loss: 0.8849, Cls: 0.8842, GRQO: 0.0007, Acc: 0.7838\n",
      "[Real World] New best val acc: 0.7838\n"
     ]
    },
    {
     "name": "stderr",
     "output_type": "stream",
     "text": [
      "Evaluating: 100%|██████████| 35/35 [00:21<00:00,  1.64it/s]\n"
     ]
    },
    {
     "name": "stdout",
     "output_type": "stream",
     "text": [
      "[Real World] Epoch 4/5 | Train - Loss: 0.3198, Cls: 0.3165, GRQO: 0.0033, Acc: 0.9509 | Val - Loss: 0.7930, Cls: 0.7925, GRQO: 0.0005, Acc: 0.8006\n",
      "[Real World] New best val acc: 0.8006\n"
     ]
    },
    {
     "name": "stderr",
     "output_type": "stream",
     "text": [
      "Evaluating: 100%|██████████| 35/35 [00:21<00:00,  1.65it/s]"
     ]
    },
    {
     "name": "stdout",
     "output_type": "stream",
     "text": [
      "[Real World] Epoch 5/5 | Train - Loss: 0.1719, Cls: 0.1690, GRQO: 0.0029, Acc: 0.9777 | Val - Loss: 0.7734, Cls: 0.7730, GRQO: 0.0005, Acc: 0.8033\n",
      "[Real World] New best val acc: 0.8033\n",
      "[Real World] Best Acc: 0.8033\n",
      "------------------------------------------------------------\n",
      "LODO finished | Mean Acc: 0.6950\n",
      "Summary saved to c:\\Users\\Fatim_Sproj\\Desktop\\Fatim\\Spring 2025\\sproj\\Visual-Reasoning\\Vit-GRQO\\vit-tiny\\OfficeHome\\logs\\lodo_summary_20251010_193546.json\n"
     ]
    },
    {
     "name": "stderr",
     "output_type": "stream",
     "text": [
      "\n"
     ]
    }
   ],
   "source": [
    "lodo_results, lodo_mean, lodo_summary = run_lodo(\n",
    "    model_fn=model_factory,\n",
    "    CFG=CFG,\n",
    "    logger=logger,\n",
    "    dataset_key=\"OfficeHome\",\n",
    "    domains=domains,\n",
    "    loaders=loaders,\n",
    "    optimizer_fn=optimizer_fn,\n",
    "    device=device,\n",
    "    ckpt_root=ckpt_root,\n",
    "    log_dir=log_dir,\n",
    "    epochs=epochs\n",
    ")"
   ]
  },
  {
   "cell_type": "markdown",
   "id": "008d21ac",
   "metadata": {},
   "source": [
    "### Baseline"
   ]
  },
  {
   "cell_type": "code",
   "execution_count": 6,
   "id": "060b18a4",
   "metadata": {},
   "outputs": [
    {
     "name": "stdout",
     "output_type": "stream",
     "text": [
      "Initializing ViT baseline: WinKawaks/vit-tiny-patch16-224\n"
     ]
    },
    {
     "name": "stderr",
     "output_type": "stream",
     "text": [
      "Some weights of ViTForImageClassification were not initialized from the model checkpoint at WinKawaks/vit-tiny-patch16-224 and are newly initialized because the shapes did not match:\n",
      "- classifier.bias: found shape torch.Size([1000]) in the checkpoint and torch.Size([65]) in the model instantiated\n",
      "- classifier.weight: found shape torch.Size([1000, 192]) in the checkpoint and torch.Size([65, 192]) in the model instantiated\n",
      "You should probably TRAIN this model on a down-stream task to be able to use it for predictions and inference.\n"
     ]
    },
    {
     "name": "stdout",
     "output_type": "stream",
     "text": [
      "\n",
      "=== Baseline LODO: Leaving out domain 'Art' ===\n",
      "[Art] Epoch 1/5 | Train - Loss: 1.7685, Acc: 0.5955 | Val Acc: 0.5834\n",
      "[Art] Epoch 2/5 | Train - Loss: 0.4521, Acc: 0.8946 | Val Acc: 0.6246\n",
      "[Art] Epoch 3/5 | Train - Loss: 0.1791, Acc: 0.9647 | Val Acc: 0.6300\n",
      "[Art] Epoch 4/5 | Train - Loss: 0.0865, Acc: 0.9831 | Val Acc: 0.6300\n",
      "[Art] Epoch 5/5 | Train - Loss: 0.0555, Acc: 0.9872 | Val Acc: 0.6428\n",
      "[Art] Best Val Acc: 0.6428\n",
      "------------------------------------------------------------\n",
      "Initializing ViT baseline: WinKawaks/vit-tiny-patch16-224\n"
     ]
    },
    {
     "name": "stderr",
     "output_type": "stream",
     "text": [
      "Some weights of ViTForImageClassification were not initialized from the model checkpoint at WinKawaks/vit-tiny-patch16-224 and are newly initialized because the shapes did not match:\n",
      "- classifier.bias: found shape torch.Size([1000]) in the checkpoint and torch.Size([65]) in the model instantiated\n",
      "- classifier.weight: found shape torch.Size([1000, 192]) in the checkpoint and torch.Size([65, 192]) in the model instantiated\n",
      "You should probably TRAIN this model on a down-stream task to be able to use it for predictions and inference.\n"
     ]
    },
    {
     "name": "stdout",
     "output_type": "stream",
     "text": [
      "\n",
      "=== Baseline LODO: Leaving out domain 'Clipart' ===\n",
      "[Clipart] Epoch 1/5 | Train - Loss: 1.8172, Acc: 0.5814 | Val Acc: 0.4696\n",
      "[Clipart] Epoch 2/5 | Train - Loss: 0.4404, Acc: 0.9009 | Val Acc: 0.5129\n",
      "[Clipart] Epoch 3/5 | Train - Loss: 0.1565, Acc: 0.9734 | Val Acc: 0.5372\n",
      "[Clipart] Epoch 4/5 | Train - Loss: 0.0638, Acc: 0.9909 | Val Acc: 0.5276\n",
      "[Clipart] Epoch 5/5 | Train - Loss: 0.0357, Acc: 0.9951 | Val Acc: 0.5375\n",
      "[Clipart] Best Val Acc: 0.5375\n",
      "------------------------------------------------------------\n",
      "Initializing ViT baseline: WinKawaks/vit-tiny-patch16-224\n"
     ]
    },
    {
     "name": "stderr",
     "output_type": "stream",
     "text": [
      "Some weights of ViTForImageClassification were not initialized from the model checkpoint at WinKawaks/vit-tiny-patch16-224 and are newly initialized because the shapes did not match:\n",
      "- classifier.bias: found shape torch.Size([1000]) in the checkpoint and torch.Size([65]) in the model instantiated\n",
      "- classifier.weight: found shape torch.Size([1000, 192]) in the checkpoint and torch.Size([65, 192]) in the model instantiated\n",
      "You should probably TRAIN this model on a down-stream task to be able to use it for predictions and inference.\n"
     ]
    },
    {
     "name": "stdout",
     "output_type": "stream",
     "text": [
      "\n",
      "=== Baseline LODO: Leaving out domain 'Product' ===\n",
      "[Product] Epoch 1/5 | Train - Loss: 2.0915, Acc: 0.5183 | Val Acc: 0.7189\n",
      "[Product] Epoch 2/5 | Train - Loss: 0.6015, Acc: 0.8565 | Val Acc: 0.7605\n",
      "[Product] Epoch 3/5 | Train - Loss: 0.2429, Acc: 0.9517 | Val Acc: 0.7572\n",
      "[Product] Epoch 4/5 | Train - Loss: 0.1285, Acc: 0.9775 | Val Acc: 0.7725\n",
      "[Product] Epoch 5/5 | Train - Loss: 0.0724, Acc: 0.9850 | Val Acc: 0.7740\n",
      "[Product] Best Val Acc: 0.7740\n",
      "------------------------------------------------------------\n",
      "Initializing ViT baseline: WinKawaks/vit-tiny-patch16-224\n"
     ]
    },
    {
     "name": "stderr",
     "output_type": "stream",
     "text": [
      "Some weights of ViTForImageClassification were not initialized from the model checkpoint at WinKawaks/vit-tiny-patch16-224 and are newly initialized because the shapes did not match:\n",
      "- classifier.bias: found shape torch.Size([1000]) in the checkpoint and torch.Size([65]) in the model instantiated\n",
      "- classifier.weight: found shape torch.Size([1000, 192]) in the checkpoint and torch.Size([65, 192]) in the model instantiated\n",
      "You should probably TRAIN this model on a down-stream task to be able to use it for predictions and inference.\n"
     ]
    },
    {
     "name": "stdout",
     "output_type": "stream",
     "text": [
      "\n",
      "=== Baseline LODO: Leaving out domain 'Real World' ===\n",
      "[Real World] Epoch 1/5 | Train - Loss: 2.0106, Acc: 0.5341 | Val Acc: 0.7448\n",
      "[Real World] Epoch 2/5 | Train - Loss: 0.5484, Acc: 0.8729 | Val Acc: 0.7822\n",
      "[Real World] Epoch 3/5 | Train - Loss: 0.2108, Acc: 0.9586 | Val Acc: 0.7994\n",
      "[Real World] Epoch 4/5 | Train - Loss: 0.0985, Acc: 0.9825 | Val Acc: 0.7957\n",
      "[Real World] Epoch 5/5 | Train - Loss: 0.0607, Acc: 0.9876 | Val Acc: 0.8033\n",
      "[Real World] Best Val Acc: 0.8033\n",
      "------------------------------------------------------------\n",
      "Baseline LODO (WinKawaks/vit-tiny-patch16-224) finished | Mean Acc: 0.6894\n"
     ]
    }
   ],
   "source": [
    "model_name = \"WinKawaks/vit-tiny-patch16-224\"\n",
    "baseline_results, baseline_mean = run_baseline(\n",
    "    model_name=model_name,\n",
    "    CFG=CFG,\n",
    "    logger=logger,\n",
    "    dataset_key=\"OfficeHome\",\n",
    "    domains=domains,\n",
    "    loaders=loaders,\n",
    "    optimizer_fn=optimizer_fn,\n",
    "    device=device,\n",
    "    epochs=CFG[\"train\"][\"epochs\"]\n",
    ")\n"
   ]
  }
 ],
 "metadata": {
  "kernelspec": {
   "display_name": "bacp",
   "language": "python",
   "name": "python3"
  },
  "language_info": {
   "codemirror_mode": {
    "name": "ipython",
    "version": 3
   },
   "file_extension": ".py",
   "mimetype": "text/x-python",
   "name": "python",
   "nbconvert_exporter": "python",
   "pygments_lexer": "ipython3",
   "version": "3.10.16"
  }
 },
 "nbformat": 4,
 "nbformat_minor": 5
}
