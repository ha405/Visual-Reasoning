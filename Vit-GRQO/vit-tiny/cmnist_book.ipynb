{
 "cells": [
  {
   "cell_type": "markdown",
   "id": "7aeb725f",
   "metadata": {},
   "source": [
    "### Imports"
   ]
  },
  {
   "cell_type": "code",
   "execution_count": 1,
   "id": "e407742a",
   "metadata": {},
   "outputs": [
    {
     "name": "stdout",
     "output_type": "stream",
     "text": [
      "Device: cuda\n",
      "PyTorch: 2.5.1+cu121\n"
     ]
    }
   ],
   "source": [
    "import sys\n",
    "sys.dont_write_bytecode = True\n",
    "\n",
    "\n",
    "import torch\n",
    "import numpy as np\n",
    "import random\n",
    "import os\n",
    "\n",
    "def set_seeds(seed_value=42):\n",
    "    \"\"\"Sets seeds for reproducibility.\"\"\"\n",
    "    random.seed(seed_value)\n",
    "    np.random.seed(seed_value)\n",
    "    torch.manual_seed(seed_value)\n",
    "    os.environ['PYTHONHASHSEED'] = str(seed_value)\n",
    "    \n",
    "    if torch.cuda.is_available():\n",
    "        torch.cuda.manual_seed(seed_value)\n",
    "\n",
    "set_seeds(42) \n",
    "\n",
    "import json\n",
    "import torch.nn as nn\n",
    "import torch.optim as optim\n",
    "from tqdm import tqdm\n",
    "import warnings\n",
    "import logging\n",
    "from datetime import datetime\n",
    "warnings.filterwarnings('ignore')\n",
    "\n",
    "from model import get_model\n",
    "from config import CFG\n",
    "from dataset import CMNISTDataset\n",
    "from plot import plot_domainwise_accuracy\n",
    "from transform import get_transforms\n",
    "from runner import run_baseline, run_lodo\n",
    "\n",
    "torch.manual_seed(CFG[\"system\"][\"seed\"])\n",
    "np.random.seed(CFG[\"system\"][\"seed\"])\n",
    "\n",
    "device = CFG[\"system\"][\"device\"]\n",
    "print(f\"Device: {device}\")\n",
    "print(f\"PyTorch: {torch.__version__}\")\n"
   ]
  },
  {
   "cell_type": "markdown",
   "id": "d617af05",
   "metadata": {},
   "source": [
    "### DataLoading"
   ]
  },
  {
   "cell_type": "code",
   "execution_count": 2,
   "id": "3e673c0a",
   "metadata": {},
   "outputs": [
    {
     "name": "stdout",
     "output_type": "stream",
     "text": [
      "\n",
      "Data loaders ready!\n"
     ]
    }
   ],
   "source": [
    "train_transform, test_transform = get_transforms(img_size=224, augment=False, use_imagenet_norm=False)\n",
    "\n",
    "cmnist = CMNISTDataset(\n",
    "    data_root=CFG[\"datasets\"][\"CMNIST\"][\"root\"],\n",
    "    transform=train_transform,\n",
    "    batch_size=CFG[\"train\"][\"batch_size\"]\n",
    ")\n",
    "\n",
    "print(\"\\nData loaders ready!\")"
   ]
  },
  {
   "cell_type": "markdown",
   "id": "e5a3d318",
   "metadata": {},
   "source": [
    "### Logging"
   ]
  },
  {
   "cell_type": "code",
   "execution_count": 3,
   "id": "f01fd7aa",
   "metadata": {},
   "outputs": [
    {
     "name": "stderr",
     "output_type": "stream",
     "text": [
      "2025-10-11 02:03:40,804 | INFO | Initialized experiment directories for CMNIST\n",
      "2025-10-11 02:03:40,804 | INFO | Logs: c:\\Users\\Fatim_Sproj\\Desktop\\Fatim\\Spring 2025\\sproj\\Visual-Reasoning\\Vit-GRQO\\vit-tiny\\CMNIST\\logs\n",
      "2025-10-11 02:03:40,804 | INFO | Checkpoints: c:\\Users\\Fatim_Sproj\\Desktop\\Fatim\\Spring 2025\\sproj\\Visual-Reasoning\\Vit-GRQO\\vit-tiny\\CMNIST\\checkpoints\n",
      "2025-10-11 02:03:40,804 | INFO | Plots: c:\\Users\\Fatim_Sproj\\Desktop\\Fatim\\Spring 2025\\sproj\\Visual-Reasoning\\Vit-GRQO\\vit-tiny\\CMNIST\\plots\n"
     ]
    }
   ],
   "source": [
    "dataset_name = \"CMNIST\" \n",
    "base_dir = os.path.join(os.getcwd(), dataset_name)\n",
    "subdirs = [\"logs\", \"checkpoints\", \"plots\"]\n",
    "\n",
    "for sub in subdirs:\n",
    "    os.makedirs(os.path.join(base_dir, sub), exist_ok=True)\n",
    "\n",
    "timestamp = datetime.now().strftime(\"%Y-%m-%d_%H-%M-%S\")\n",
    "log_file = os.path.join(base_dir, \"logs\", f\"train_{timestamp}.log\")\n",
    "\n",
    "logging.basicConfig(\n",
    "    level=logging.INFO,\n",
    "    format=\"%(asctime)s | %(levelname)s | %(message)s\",\n",
    "    handlers=[\n",
    "        logging.FileHandler(log_file),\n",
    "        logging.StreamHandler()\n",
    "    ]\n",
    ")\n",
    "\n",
    "logger = logging.getLogger(f\"{dataset_name}_logger\")\n",
    "\n",
    "logger.info(f\"Initialized experiment directories for {dataset_name}\")\n",
    "logger.info(f\"Logs: {os.path.join(base_dir, 'logs')}\")\n",
    "logger.info(f\"Checkpoints: {os.path.join(base_dir, 'checkpoints')}\")\n",
    "logger.info(f\"Plots: {os.path.join(base_dir, 'plots')}\")"
   ]
  },
  {
   "cell_type": "markdown",
   "id": "47398d2c",
   "metadata": {},
   "source": [
    "### Setup"
   ]
  },
  {
   "cell_type": "code",
   "execution_count": 4,
   "id": "450d7f06",
   "metadata": {},
   "outputs": [],
   "source": [
    "domains = CFG[\"datasets\"][\"CMNIST\"][\"domains\"]\n",
    "loaders = {d: {\"train\": cmnist.get_dataloader(d, train=True), \"val\": cmnist.get_dataloader(d, train=False)} for d in domains}\n",
    "ckpt_root = os.path.join(base_dir, \"checkpoints\")\n",
    "log_dir = os.path.join(base_dir, \"logs\")\n",
    "plots_dir = os.path.join(base_dir, \"plots\")\n",
    "os.makedirs(ckpt_root, exist_ok=True)\n",
    "os.makedirs(log_dir, exist_ok=True)\n",
    "os.makedirs(plots_dir, exist_ok=True)\n",
    "model_factory = lambda cfg, dataset_key: get_model(cfg,dataset=\"CMNIST\")\n",
    "optimizer_fn = lambda model: optim.AdamW(model.parameters(), lr=CFG[\"train\"][\"lr\"], weight_decay=CFG[\"train\"].get(\"weight_decay\", 0.01))\n",
    "device = CFG[\"system\"][\"device\"]\n",
    "epochs = CFG[\"train\"][\"epochs\"]"
   ]
  },
  {
   "cell_type": "markdown",
   "id": "2d8dafe9",
   "metadata": {},
   "source": [
    "{\n",
    "  \"lodo_results\": {\n",
    "    \"art_painting\": 0.8341463414634146,\n",
    "    \"cartoon\": 0.7974413646055437,\n",
    "    \"photo\": 0.9580838323353293,\n",
    "    \"sketch\": 0.6017811704834606\n",
    "  },\n",
    "  \"timestamp\": \"20251004_020611\"\n",
    "}"
   ]
  },
  {
   "cell_type": "markdown",
   "id": "4931c868",
   "metadata": {},
   "source": [
    "### Leave One Domain Out"
   ]
  },
  {
   "cell_type": "code",
   "execution_count": 5,
   "id": "c0344437",
   "metadata": {},
   "outputs": [
    {
     "name": "stderr",
     "output_type": "stream",
     "text": [
      "Some weights of ViTModel were not initialized from the model checkpoint at WinKawaks/vit-tiny-patch16-224 and are newly initialized: ['pooler.dense.bias', 'pooler.dense.weight']\n",
      "You should probably TRAIN this model on a down-stream task to be able to use it for predictions and inference.\n",
      "2025-10-11 02:03:46,181 | INFO | === LODO: Leaving out domain 'red' ===\n"
     ]
    },
    {
     "name": "stdout",
     "output_type": "stream",
     "text": [
      "\n",
      "=== LODO: Leaving out domain 'red' ===\n"
     ]
    },
    {
     "name": "stderr",
     "output_type": "stream",
     "text": [
      "Evaluating: 100%|██████████| 50/50 [00:10<00:00,  4.67it/s]\n",
      "2025-10-11 02:04:12,782 | INFO | [red] Epoch 1/5 | Train - Loss: 0.7781, Cls: 0.7701, GRQO: 0.0080, Acc: 0.7615 | Val - Loss: 0.2058, Cls: 0.2049, GRQO: 0.0008, Acc: 0.9353\n",
      "2025-10-11 02:04:12,827 | INFO | [red] New best val acc: 0.9353\n"
     ]
    },
    {
     "name": "stdout",
     "output_type": "stream",
     "text": [
      "[red] Epoch 1/5 | Train - Loss: 0.7781, Cls: 0.7701, GRQO: 0.0080, Acc: 0.7615 | Val - Loss: 0.2058, Cls: 0.2049, GRQO: 0.0008, Acc: 0.9353\n",
      "[red] New best val acc: 0.9353\n"
     ]
    },
    {
     "name": "stderr",
     "output_type": "stream",
     "text": [
      "Evaluating: 100%|██████████| 50/50 [00:10<00:00,  4.87it/s]\n",
      "2025-10-11 02:04:38,472 | INFO | [red] Epoch 2/5 | Train - Loss: 0.0932, Cls: 0.0901, GRQO: 0.0030, Acc: 0.9770 | Val - Loss: 0.0897, Cls: 0.0892, GRQO: 0.0005, Acc: 0.9749\n",
      "2025-10-11 02:04:38,516 | INFO | [red] New best val acc: 0.9749\n"
     ]
    },
    {
     "name": "stdout",
     "output_type": "stream",
     "text": [
      "[red] Epoch 2/5 | Train - Loss: 0.0932, Cls: 0.0901, GRQO: 0.0030, Acc: 0.9770 | Val - Loss: 0.0897, Cls: 0.0892, GRQO: 0.0005, Acc: 0.9749\n",
      "[red] New best val acc: 0.9749\n"
     ]
    },
    {
     "name": "stderr",
     "output_type": "stream",
     "text": [
      "Evaluating: 100%|██████████| 50/50 [00:10<00:00,  4.65it/s]\n",
      "2025-10-11 02:05:04,418 | INFO | [red] Epoch 3/5 | Train - Loss: 0.0579, Cls: 0.0555, GRQO: 0.0025, Acc: 0.9844 | Val - Loss: 0.0948, Cls: 0.0946, GRQO: 0.0002, Acc: 0.9722\n"
     ]
    },
    {
     "name": "stdout",
     "output_type": "stream",
     "text": [
      "[red] Epoch 3/5 | Train - Loss: 0.0579, Cls: 0.0555, GRQO: 0.0025, Acc: 0.9844 | Val - Loss: 0.0948, Cls: 0.0946, GRQO: 0.0002, Acc: 0.9722\n"
     ]
    },
    {
     "name": "stderr",
     "output_type": "stream",
     "text": [
      "Evaluating: 100%|██████████| 50/50 [00:10<00:00,  4.87it/s]\n",
      "2025-10-11 02:05:30,047 | INFO | [red] Epoch 4/5 | Train - Loss: 0.0364, Cls: 0.0343, GRQO: 0.0020, Acc: 0.9902 | Val - Loss: 0.0722, Cls: 0.0721, GRQO: 0.0001, Acc: 0.9792\n",
      "2025-10-11 02:05:30,102 | INFO | [red] New best val acc: 0.9792\n"
     ]
    },
    {
     "name": "stdout",
     "output_type": "stream",
     "text": [
      "[red] Epoch 4/5 | Train - Loss: 0.0364, Cls: 0.0343, GRQO: 0.0020, Acc: 0.9902 | Val - Loss: 0.0722, Cls: 0.0721, GRQO: 0.0001, Acc: 0.9792\n",
      "[red] New best val acc: 0.9792\n"
     ]
    },
    {
     "name": "stderr",
     "output_type": "stream",
     "text": [
      "Evaluating: 100%|██████████| 50/50 [00:10<00:00,  4.69it/s]\n",
      "2025-10-11 02:05:56,248 | INFO | [red] Epoch 5/5 | Train - Loss: 0.0324, Cls: 0.0307, GRQO: 0.0017, Acc: 0.9915 | Val - Loss: 0.0821, Cls: 0.0820, GRQO: 0.0001, Acc: 0.9763\n",
      "2025-10-11 02:05:56,248 | INFO | [red] Best Acc: 0.9792\n",
      "2025-10-11 02:05:56,248 | INFO | ------------------------------------------------------------\n"
     ]
    },
    {
     "name": "stdout",
     "output_type": "stream",
     "text": [
      "[red] Epoch 5/5 | Train - Loss: 0.0324, Cls: 0.0307, GRQO: 0.0017, Acc: 0.9915 | Val - Loss: 0.0821, Cls: 0.0820, GRQO: 0.0001, Acc: 0.9763\n",
      "[red] Best Acc: 0.9792\n",
      "------------------------------------------------------------\n"
     ]
    },
    {
     "name": "stderr",
     "output_type": "stream",
     "text": [
      "Some weights of ViTModel were not initialized from the model checkpoint at WinKawaks/vit-tiny-patch16-224 and are newly initialized: ['pooler.dense.bias', 'pooler.dense.weight']\n",
      "You should probably TRAIN this model on a down-stream task to be able to use it for predictions and inference.\n",
      "2025-10-11 02:05:57,669 | INFO | === LODO: Leaving out domain 'green' ===\n"
     ]
    },
    {
     "name": "stdout",
     "output_type": "stream",
     "text": [
      "\n",
      "=== LODO: Leaving out domain 'green' ===\n"
     ]
    },
    {
     "name": "stderr",
     "output_type": "stream",
     "text": [
      "Evaluating: 100%|██████████| 50/50 [00:10<00:00,  4.79it/s]\n",
      "2025-10-11 02:06:23,634 | INFO | [green] Epoch 1/5 | Train - Loss: 0.7329, Cls: 0.7253, GRQO: 0.0076, Acc: 0.7919 | Val - Loss: 0.3424, Cls: 0.3416, GRQO: 0.0008, Acc: 0.8879\n",
      "2025-10-11 02:06:23,670 | INFO | [green] New best val acc: 0.8879\n"
     ]
    },
    {
     "name": "stdout",
     "output_type": "stream",
     "text": [
      "[green] Epoch 1/5 | Train - Loss: 0.7329, Cls: 0.7253, GRQO: 0.0076, Acc: 0.7919 | Val - Loss: 0.3424, Cls: 0.3416, GRQO: 0.0008, Acc: 0.8879\n",
      "[green] New best val acc: 0.8879\n"
     ]
    },
    {
     "name": "stderr",
     "output_type": "stream",
     "text": [
      "Evaluating: 100%|██████████| 50/50 [00:10<00:00,  4.79it/s]\n",
      "2025-10-11 02:06:49,431 | INFO | [green] Epoch 2/5 | Train - Loss: 0.0869, Cls: 0.0838, GRQO: 0.0031, Acc: 0.9784 | Val - Loss: 0.1295, Cls: 0.1291, GRQO: 0.0004, Acc: 0.9626\n",
      "2025-10-11 02:06:49,477 | INFO | [green] New best val acc: 0.9626\n"
     ]
    },
    {
     "name": "stdout",
     "output_type": "stream",
     "text": [
      "[green] Epoch 2/5 | Train - Loss: 0.0869, Cls: 0.0838, GRQO: 0.0031, Acc: 0.9784 | Val - Loss: 0.1295, Cls: 0.1291, GRQO: 0.0004, Acc: 0.9626\n",
      "[green] New best val acc: 0.9626\n"
     ]
    },
    {
     "name": "stderr",
     "output_type": "stream",
     "text": [
      "Evaluating: 100%|██████████| 50/50 [00:10<00:00,  4.80it/s]\n",
      "2025-10-11 02:07:15,400 | INFO | [green] Epoch 3/5 | Train - Loss: 0.0476, Cls: 0.0451, GRQO: 0.0025, Acc: 0.9889 | Val - Loss: 0.1111, Cls: 0.1108, GRQO: 0.0002, Acc: 0.9658\n",
      "2025-10-11 02:07:15,453 | INFO | [green] New best val acc: 0.9658\n"
     ]
    },
    {
     "name": "stdout",
     "output_type": "stream",
     "text": [
      "[green] Epoch 3/5 | Train - Loss: 0.0476, Cls: 0.0451, GRQO: 0.0025, Acc: 0.9889 | Val - Loss: 0.1111, Cls: 0.1108, GRQO: 0.0002, Acc: 0.9658\n",
      "[green] New best val acc: 0.9658\n"
     ]
    },
    {
     "name": "stderr",
     "output_type": "stream",
     "text": [
      "Evaluating: 100%|██████████| 50/50 [00:10<00:00,  4.77it/s]\n",
      "2025-10-11 02:07:41,206 | INFO | [green] Epoch 4/5 | Train - Loss: 0.0325, Cls: 0.0303, GRQO: 0.0021, Acc: 0.9923 | Val - Loss: 0.2128, Cls: 0.2126, GRQO: 0.0002, Acc: 0.9359\n"
     ]
    },
    {
     "name": "stdout",
     "output_type": "stream",
     "text": [
      "[green] Epoch 4/5 | Train - Loss: 0.0325, Cls: 0.0303, GRQO: 0.0021, Acc: 0.9923 | Val - Loss: 0.2128, Cls: 0.2126, GRQO: 0.0002, Acc: 0.9359\n"
     ]
    },
    {
     "name": "stderr",
     "output_type": "stream",
     "text": [
      "Evaluating: 100%|██████████| 50/50 [00:10<00:00,  4.86it/s]\n",
      "2025-10-11 02:08:06,814 | INFO | [green] Epoch 5/5 | Train - Loss: 0.0220, Cls: 0.0202, GRQO: 0.0018, Acc: 0.9952 | Val - Loss: 0.0895, Cls: 0.0894, GRQO: 0.0001, Acc: 0.9711\n",
      "2025-10-11 02:08:06,859 | INFO | [green] New best val acc: 0.9711\n",
      "2025-10-11 02:08:06,859 | INFO | [green] Best Acc: 0.9711\n",
      "2025-10-11 02:08:06,859 | INFO | ------------------------------------------------------------\n"
     ]
    },
    {
     "name": "stdout",
     "output_type": "stream",
     "text": [
      "[green] Epoch 5/5 | Train - Loss: 0.0220, Cls: 0.0202, GRQO: 0.0018, Acc: 0.9952 | Val - Loss: 0.0895, Cls: 0.0894, GRQO: 0.0001, Acc: 0.9711\n",
      "[green] New best val acc: 0.9711\n",
      "[green] Best Acc: 0.9711\n",
      "------------------------------------------------------------\n"
     ]
    },
    {
     "name": "stderr",
     "output_type": "stream",
     "text": [
      "Some weights of ViTModel were not initialized from the model checkpoint at WinKawaks/vit-tiny-patch16-224 and are newly initialized: ['pooler.dense.bias', 'pooler.dense.weight']\n",
      "You should probably TRAIN this model on a down-stream task to be able to use it for predictions and inference.\n",
      "2025-10-11 02:08:07,853 | INFO | === LODO: Leaving out domain 'blue' ===\n"
     ]
    },
    {
     "name": "stdout",
     "output_type": "stream",
     "text": [
      "\n",
      "=== LODO: Leaving out domain 'blue' ===\n"
     ]
    },
    {
     "name": "stderr",
     "output_type": "stream",
     "text": [
      "Evaluating: 100%|██████████| 49/49 [00:10<00:00,  4.83it/s]\n",
      "2025-10-11 02:08:33,315 | INFO | [blue] Epoch 1/5 | Train - Loss: 0.8156, Cls: 0.8083, GRQO: 0.0073, Acc: 0.7534 | Val - Loss: 0.1818, Cls: 0.1811, GRQO: 0.0007, Acc: 0.9476\n",
      "2025-10-11 02:08:33,370 | INFO | [blue] New best val acc: 0.9476\n"
     ]
    },
    {
     "name": "stdout",
     "output_type": "stream",
     "text": [
      "[blue] Epoch 1/5 | Train - Loss: 0.8156, Cls: 0.8083, GRQO: 0.0073, Acc: 0.7534 | Val - Loss: 0.1818, Cls: 0.1811, GRQO: 0.0007, Acc: 0.9476\n",
      "[blue] New best val acc: 0.9476\n"
     ]
    },
    {
     "name": "stderr",
     "output_type": "stream",
     "text": [
      "Evaluating: 100%|██████████| 49/49 [00:10<00:00,  4.71it/s]\n",
      "2025-10-11 02:08:59,098 | INFO | [blue] Epoch 2/5 | Train - Loss: 0.0921, Cls: 0.0889, GRQO: 0.0033, Acc: 0.9772 | Val - Loss: 0.1041, Cls: 0.1038, GRQO: 0.0003, Acc: 0.9706\n",
      "2025-10-11 02:08:59,146 | INFO | [blue] New best val acc: 0.9706\n"
     ]
    },
    {
     "name": "stdout",
     "output_type": "stream",
     "text": [
      "[blue] Epoch 2/5 | Train - Loss: 0.0921, Cls: 0.0889, GRQO: 0.0033, Acc: 0.9772 | Val - Loss: 0.1041, Cls: 0.1038, GRQO: 0.0003, Acc: 0.9706\n",
      "[blue] New best val acc: 0.9706\n"
     ]
    },
    {
     "name": "stderr",
     "output_type": "stream",
     "text": [
      "Evaluating: 100%|██████████| 49/49 [00:10<00:00,  4.74it/s]\n",
      "2025-10-11 02:09:24,700 | INFO | [blue] Epoch 3/5 | Train - Loss: 0.0449, Cls: 0.0423, GRQO: 0.0026, Acc: 0.9881 | Val - Loss: 0.0974, Cls: 0.0972, GRQO: 0.0002, Acc: 0.9700\n"
     ]
    },
    {
     "name": "stdout",
     "output_type": "stream",
     "text": [
      "[blue] Epoch 3/5 | Train - Loss: 0.0449, Cls: 0.0423, GRQO: 0.0026, Acc: 0.9881 | Val - Loss: 0.0974, Cls: 0.0972, GRQO: 0.0002, Acc: 0.9700\n"
     ]
    },
    {
     "name": "stderr",
     "output_type": "stream",
     "text": [
      "Evaluating: 100%|██████████| 49/49 [00:10<00:00,  4.73it/s]\n",
      "2025-10-11 02:09:50,500 | INFO | [blue] Epoch 4/5 | Train - Loss: 0.0319, Cls: 0.0297, GRQO: 0.0022, Acc: 0.9928 | Val - Loss: 0.1429, Cls: 0.1428, GRQO: 0.0001, Acc: 0.9561\n"
     ]
    },
    {
     "name": "stdout",
     "output_type": "stream",
     "text": [
      "[blue] Epoch 4/5 | Train - Loss: 0.0319, Cls: 0.0297, GRQO: 0.0022, Acc: 0.9928 | Val - Loss: 0.1429, Cls: 0.1428, GRQO: 0.0001, Acc: 0.9561\n"
     ]
    },
    {
     "name": "stderr",
     "output_type": "stream",
     "text": [
      "Evaluating: 100%|██████████| 49/49 [00:10<00:00,  4.75it/s]\n",
      "2025-10-11 02:10:16,064 | INFO | [blue] Epoch 5/5 | Train - Loss: 0.0364, Cls: 0.0345, GRQO: 0.0019, Acc: 0.9912 | Val - Loss: 0.0802, Cls: 0.0801, GRQO: 0.0001, Acc: 0.9758\n",
      "2025-10-11 02:10:16,126 | INFO | [blue] New best val acc: 0.9758\n",
      "2025-10-11 02:10:16,126 | INFO | [blue] Best Acc: 0.9758\n",
      "2025-10-11 02:10:16,126 | INFO | ------------------------------------------------------------\n",
      "2025-10-11 02:10:16,126 | INFO | LODO finished | Mean Acc: 0.9754 | Summary saved to c:\\Users\\Fatim_Sproj\\Desktop\\Fatim\\Spring 2025\\sproj\\Visual-Reasoning\\Vit-GRQO\\vit-tiny\\CMNIST\\logs\\lodo_summary_20251011_021016.json\n"
     ]
    },
    {
     "name": "stdout",
     "output_type": "stream",
     "text": [
      "[blue] Epoch 5/5 | Train - Loss: 0.0364, Cls: 0.0345, GRQO: 0.0019, Acc: 0.9912 | Val - Loss: 0.0802, Cls: 0.0801, GRQO: 0.0001, Acc: 0.9758\n",
      "[blue] New best val acc: 0.9758\n",
      "[blue] Best Acc: 0.9758\n",
      "------------------------------------------------------------\n",
      "LODO finished | Mean Acc: 0.9754\n",
      "Summary saved to c:\\Users\\Fatim_Sproj\\Desktop\\Fatim\\Spring 2025\\sproj\\Visual-Reasoning\\Vit-GRQO\\vit-tiny\\CMNIST\\logs\\lodo_summary_20251011_021016.json\n"
     ]
    }
   ],
   "source": [
    "lodo_results, lodo_mean, lodo_summary = run_lodo(\n",
    "    model_fn=model_factory,\n",
    "    CFG=CFG,\n",
    "    logger=logger,\n",
    "    dataset_key=\"CMNIST\",\n",
    "    domains=domains,\n",
    "    loaders=loaders,\n",
    "    optimizer_fn=optimizer_fn,\n",
    "    device=device,\n",
    "    ckpt_root=ckpt_root,\n",
    "    log_dir=log_dir,\n",
    "    epochs=epochs\n",
    ")"
   ]
  },
  {
   "cell_type": "markdown",
   "id": "008d21ac",
   "metadata": {},
   "source": [
    "### Baseline"
   ]
  },
  {
   "cell_type": "code",
   "execution_count": 6,
   "id": "060b18a4",
   "metadata": {},
   "outputs": [
    {
     "name": "stderr",
     "output_type": "stream",
     "text": [
      "2025-10-11 02:10:16,137 | INFO | Initializing ViT baseline: WinKawaks/vit-tiny-patch16-224\n"
     ]
    },
    {
     "name": "stdout",
     "output_type": "stream",
     "text": [
      "Initializing ViT baseline: WinKawaks/vit-tiny-patch16-224\n"
     ]
    },
    {
     "name": "stderr",
     "output_type": "stream",
     "text": [
      "Some weights of ViTForImageClassification were not initialized from the model checkpoint at WinKawaks/vit-tiny-patch16-224 and are newly initialized because the shapes did not match:\n",
      "- classifier.bias: found shape torch.Size([1000]) in the checkpoint and torch.Size([10]) in the model instantiated\n",
      "- classifier.weight: found shape torch.Size([1000, 192]) in the checkpoint and torch.Size([10, 192]) in the model instantiated\n",
      "You should probably TRAIN this model on a down-stream task to be able to use it for predictions and inference.\n",
      "2025-10-11 02:10:17,144 | INFO | === Baseline LODO: Leaving out domain 'red' ===\n"
     ]
    },
    {
     "name": "stdout",
     "output_type": "stream",
     "text": [
      "\n",
      "=== Baseline LODO: Leaving out domain 'red' ===\n"
     ]
    },
    {
     "name": "stderr",
     "output_type": "stream",
     "text": [
      "2025-10-11 02:10:40,714 | INFO | [red] Epoch 1/5 | Train - Loss: 0.5103, Acc: 0.8295 | Val Acc: 0.9495\n"
     ]
    },
    {
     "name": "stdout",
     "output_type": "stream",
     "text": [
      "[red] Epoch 1/5 | Train - Loss: 0.5103, Acc: 0.8295 | Val Acc: 0.9495\n"
     ]
    },
    {
     "name": "stderr",
     "output_type": "stream",
     "text": [
      "2025-10-11 02:11:04,528 | INFO | [red] Epoch 2/5 | Train - Loss: 0.0626, Acc: 0.9809 | Val Acc: 0.9703\n"
     ]
    },
    {
     "name": "stdout",
     "output_type": "stream",
     "text": [
      "[red] Epoch 2/5 | Train - Loss: 0.0626, Acc: 0.9809 | Val Acc: 0.9703\n"
     ]
    },
    {
     "name": "stderr",
     "output_type": "stream",
     "text": [
      "2025-10-11 02:11:28,347 | INFO | [red] Epoch 3/5 | Train - Loss: 0.0347, Acc: 0.9894 | Val Acc: 0.9633\n"
     ]
    },
    {
     "name": "stdout",
     "output_type": "stream",
     "text": [
      "[red] Epoch 3/5 | Train - Loss: 0.0347, Acc: 0.9894 | Val Acc: 0.9633\n"
     ]
    },
    {
     "name": "stderr",
     "output_type": "stream",
     "text": [
      "2025-10-11 02:11:52,114 | INFO | [red] Epoch 4/5 | Train - Loss: 0.0283, Acc: 0.9904 | Val Acc: 0.9814\n"
     ]
    },
    {
     "name": "stdout",
     "output_type": "stream",
     "text": [
      "[red] Epoch 4/5 | Train - Loss: 0.0283, Acc: 0.9904 | Val Acc: 0.9814\n"
     ]
    },
    {
     "name": "stderr",
     "output_type": "stream",
     "text": [
      "2025-10-11 02:12:16,141 | INFO | [red] Epoch 5/5 | Train - Loss: 0.0144, Acc: 0.9954 | Val Acc: 0.9782\n",
      "2025-10-11 02:12:16,141 | INFO | [red] Best Val Acc: 0.9814\n",
      "2025-10-11 02:12:16,141 | INFO | ------------------------------------------------------------\n",
      "2025-10-11 02:12:16,147 | INFO | Initializing ViT baseline: WinKawaks/vit-tiny-patch16-224\n"
     ]
    },
    {
     "name": "stdout",
     "output_type": "stream",
     "text": [
      "[red] Epoch 5/5 | Train - Loss: 0.0144, Acc: 0.9954 | Val Acc: 0.9782\n",
      "[red] Best Val Acc: 0.9814\n",
      "------------------------------------------------------------\n",
      "Initializing ViT baseline: WinKawaks/vit-tiny-patch16-224\n"
     ]
    },
    {
     "name": "stderr",
     "output_type": "stream",
     "text": [
      "Some weights of ViTForImageClassification were not initialized from the model checkpoint at WinKawaks/vit-tiny-patch16-224 and are newly initialized because the shapes did not match:\n",
      "- classifier.bias: found shape torch.Size([1000]) in the checkpoint and torch.Size([10]) in the model instantiated\n",
      "- classifier.weight: found shape torch.Size([1000, 192]) in the checkpoint and torch.Size([10, 192]) in the model instantiated\n",
      "You should probably TRAIN this model on a down-stream task to be able to use it for predictions and inference.\n",
      "2025-10-11 02:12:17,359 | INFO | === Baseline LODO: Leaving out domain 'green' ===\n"
     ]
    },
    {
     "name": "stdout",
     "output_type": "stream",
     "text": [
      "\n",
      "=== Baseline LODO: Leaving out domain 'green' ===\n"
     ]
    },
    {
     "name": "stderr",
     "output_type": "stream",
     "text": [
      "2025-10-11 02:12:40,981 | INFO | [green] Epoch 1/5 | Train - Loss: 0.5686, Acc: 0.8130 | Val Acc: 0.8088\n"
     ]
    },
    {
     "name": "stdout",
     "output_type": "stream",
     "text": [
      "[green] Epoch 1/5 | Train - Loss: 0.5686, Acc: 0.8130 | Val Acc: 0.8088\n"
     ]
    },
    {
     "name": "stderr",
     "output_type": "stream",
     "text": [
      "2025-10-11 02:13:04,680 | INFO | [green] Epoch 2/5 | Train - Loss: 0.0758, Acc: 0.9776 | Val Acc: 0.9072\n"
     ]
    },
    {
     "name": "stdout",
     "output_type": "stream",
     "text": [
      "[green] Epoch 2/5 | Train - Loss: 0.0758, Acc: 0.9776 | Val Acc: 0.9072\n"
     ]
    },
    {
     "name": "stderr",
     "output_type": "stream",
     "text": [
      "2025-10-11 02:13:28,447 | INFO | [green] Epoch 3/5 | Train - Loss: 0.0417, Acc: 0.9876 | Val Acc: 0.9015\n"
     ]
    },
    {
     "name": "stdout",
     "output_type": "stream",
     "text": [
      "[green] Epoch 3/5 | Train - Loss: 0.0417, Acc: 0.9876 | Val Acc: 0.9015\n"
     ]
    },
    {
     "name": "stderr",
     "output_type": "stream",
     "text": [
      "2025-10-11 02:13:52,214 | INFO | [green] Epoch 4/5 | Train - Loss: 0.0282, Acc: 0.9903 | Val Acc: 0.9068\n"
     ]
    },
    {
     "name": "stdout",
     "output_type": "stream",
     "text": [
      "[green] Epoch 4/5 | Train - Loss: 0.0282, Acc: 0.9903 | Val Acc: 0.9068\n"
     ]
    },
    {
     "name": "stderr",
     "output_type": "stream",
     "text": [
      "2025-10-11 02:14:15,897 | INFO | [green] Epoch 5/5 | Train - Loss: 0.0152, Acc: 0.9955 | Val Acc: 0.9482\n",
      "2025-10-11 02:14:15,897 | INFO | [green] Best Val Acc: 0.9482\n",
      "2025-10-11 02:14:15,897 | INFO | ------------------------------------------------------------\n",
      "2025-10-11 02:14:15,897 | INFO | Initializing ViT baseline: WinKawaks/vit-tiny-patch16-224\n"
     ]
    },
    {
     "name": "stdout",
     "output_type": "stream",
     "text": [
      "[green] Epoch 5/5 | Train - Loss: 0.0152, Acc: 0.9955 | Val Acc: 0.9482\n",
      "[green] Best Val Acc: 0.9482\n",
      "------------------------------------------------------------\n",
      "Initializing ViT baseline: WinKawaks/vit-tiny-patch16-224\n"
     ]
    },
    {
     "name": "stderr",
     "output_type": "stream",
     "text": [
      "Some weights of ViTForImageClassification were not initialized from the model checkpoint at WinKawaks/vit-tiny-patch16-224 and are newly initialized because the shapes did not match:\n",
      "- classifier.bias: found shape torch.Size([1000]) in the checkpoint and torch.Size([10]) in the model instantiated\n",
      "- classifier.weight: found shape torch.Size([1000, 192]) in the checkpoint and torch.Size([10, 192]) in the model instantiated\n",
      "You should probably TRAIN this model on a down-stream task to be able to use it for predictions and inference.\n",
      "2025-10-11 02:14:16,914 | INFO | === Baseline LODO: Leaving out domain 'blue' ===\n"
     ]
    },
    {
     "name": "stdout",
     "output_type": "stream",
     "text": [
      "\n",
      "=== Baseline LODO: Leaving out domain 'blue' ===\n"
     ]
    },
    {
     "name": "stderr",
     "output_type": "stream",
     "text": [
      "2025-10-11 02:14:40,432 | INFO | [blue] Epoch 1/5 | Train - Loss: 0.7108, Acc: 0.7583 | Val Acc: 0.9411\n"
     ]
    },
    {
     "name": "stdout",
     "output_type": "stream",
     "text": [
      "[blue] Epoch 1/5 | Train - Loss: 0.7108, Acc: 0.7583 | Val Acc: 0.9411\n"
     ]
    },
    {
     "name": "stderr",
     "output_type": "stream",
     "text": [
      "2025-10-11 02:15:04,194 | INFO | [blue] Epoch 2/5 | Train - Loss: 0.0841, Acc: 0.9744 | Val Acc: 0.9647\n"
     ]
    },
    {
     "name": "stdout",
     "output_type": "stream",
     "text": [
      "[blue] Epoch 2/5 | Train - Loss: 0.0841, Acc: 0.9744 | Val Acc: 0.9647\n"
     ]
    },
    {
     "name": "stderr",
     "output_type": "stream",
     "text": [
      "2025-10-11 02:15:27,862 | INFO | [blue] Epoch 3/5 | Train - Loss: 0.0339, Acc: 0.9890 | Val Acc: 0.9713\n"
     ]
    },
    {
     "name": "stdout",
     "output_type": "stream",
     "text": [
      "[blue] Epoch 3/5 | Train - Loss: 0.0339, Acc: 0.9890 | Val Acc: 0.9713\n"
     ]
    },
    {
     "name": "stderr",
     "output_type": "stream",
     "text": [
      "2025-10-11 02:15:51,681 | INFO | [blue] Epoch 4/5 | Train - Loss: 0.0213, Acc: 0.9933 | Val Acc: 0.9695\n"
     ]
    },
    {
     "name": "stdout",
     "output_type": "stream",
     "text": [
      "[blue] Epoch 4/5 | Train - Loss: 0.0213, Acc: 0.9933 | Val Acc: 0.9695\n"
     ]
    },
    {
     "name": "stderr",
     "output_type": "stream",
     "text": [
      "2025-10-11 02:16:15,663 | INFO | [blue] Epoch 5/5 | Train - Loss: 0.0183, Acc: 0.9943 | Val Acc: 0.9666\n",
      "2025-10-11 02:16:15,663 | INFO | [blue] Best Val Acc: 0.9713\n",
      "2025-10-11 02:16:15,663 | INFO | ------------------------------------------------------------\n",
      "2025-10-11 02:16:15,663 | INFO | Baseline LODO (WinKawaks/vit-tiny-patch16-224) finished | Mean Acc: 0.9670\n"
     ]
    },
    {
     "name": "stdout",
     "output_type": "stream",
     "text": [
      "[blue] Epoch 5/5 | Train - Loss: 0.0183, Acc: 0.9943 | Val Acc: 0.9666\n",
      "[blue] Best Val Acc: 0.9713\n",
      "------------------------------------------------------------\n",
      "Baseline LODO (WinKawaks/vit-tiny-patch16-224) finished | Mean Acc: 0.9670\n"
     ]
    }
   ],
   "source": [
    "model_name = \"WinKawaks/vit-tiny-patch16-224\"\n",
    "baseline_results, baseline_mean = run_baseline(\n",
    "    model_name=model_name,\n",
    "    CFG=CFG,\n",
    "    logger=logger,\n",
    "    dataset_key=\"CMNIST\",\n",
    "    domains=domains,\n",
    "    loaders=loaders,\n",
    "    optimizer_fn=optimizer_fn,\n",
    "    device=device,\n",
    "    epochs=CFG[\"train\"][\"epochs\"]\n",
    ")\n"
   ]
  }
 ],
 "metadata": {
  "kernelspec": {
   "display_name": "bacp",
   "language": "python",
   "name": "python3"
  },
  "language_info": {
   "codemirror_mode": {
    "name": "ipython",
    "version": 3
   },
   "file_extension": ".py",
   "mimetype": "text/x-python",
   "name": "python",
   "nbconvert_exporter": "python",
   "pygments_lexer": "ipython3",
   "version": "3.10.16"
  }
 },
 "nbformat": 4,
 "nbformat_minor": 5
}
