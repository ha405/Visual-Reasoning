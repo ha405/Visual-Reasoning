{
 "cells": [
  {
   "cell_type": "markdown",
   "id": "7aeb725f",
   "metadata": {},
   "source": [
    "### Imports"
   ]
  },
  {
   "cell_type": "code",
   "execution_count": 1,
   "id": "e407742a",
   "metadata": {},
   "outputs": [
    {
     "name": "stderr",
     "output_type": "stream",
     "text": [
      "c:\\Users\\Fatim_Sproj\\anaconda3\\envs\\bacp\\lib\\site-packages\\torch\\cuda\\__init__.py:61: FutureWarning: The pynvml package is deprecated. Please install nvidia-ml-py instead. If you did not install pynvml directly, please report this to the maintainers of the package that installed pynvml for you.\n",
      "  import pynvml  # type: ignore[import]\n"
     ]
    },
    {
     "name": "stdout",
     "output_type": "stream",
     "text": [
      "Device: cuda\n",
      "PyTorch: 2.5.1+cu121\n"
     ]
    }
   ],
   "source": [
    "import sys\n",
    "sys.dont_write_bytecode = True\n",
    "\n",
    "\n",
    "import torch\n",
    "import numpy as np\n",
    "import random\n",
    "import os\n",
    "\n",
    "def set_seeds(seed_value=42):\n",
    "    \"\"\"Sets seeds for reproducibility.\"\"\"\n",
    "    random.seed(seed_value)\n",
    "    np.random.seed(seed_value)\n",
    "    torch.manual_seed(seed_value)\n",
    "    os.environ['PYTHONHASHSEED'] = str(seed_value)\n",
    "    \n",
    "    if torch.cuda.is_available():\n",
    "        torch.cuda.manual_seed(seed_value)\n",
    "\n",
    "set_seeds(42) \n",
    "\n",
    "import json\n",
    "import torch.nn as nn\n",
    "import torch.optim as optim\n",
    "from tqdm import tqdm\n",
    "import warnings\n",
    "import logging\n",
    "from datetime import datetime\n",
    "warnings.filterwarnings('ignore')\n",
    "\n",
    "from model import get_model\n",
    "from config import CFG\n",
    "from dataset import get_dataset_class\n",
    "# from resnet.plot import plot_domainwise_accuracy\n",
    "from transform import get_transforms\n",
    "from runner import run_baseline, run_lodo\n",
    "\n",
    "torch.manual_seed(CFG[\"system\"][\"seed\"])\n",
    "np.random.seed(CFG[\"system\"][\"seed\"])\n",
    "\n",
    "device = CFG[\"system\"][\"device\"]\n",
    "print(f\"Device: {device}\")\n",
    "print(f\"PyTorch: {torch.__version__}\")\n",
    "\n",
    "DS = \"PACS\"\n",
    "MODEL_NAME = \"resnet34\""
   ]
  },
  {
   "cell_type": "markdown",
   "id": "d617af05",
   "metadata": {},
   "source": [
    "### DataLoading"
   ]
  },
  {
   "cell_type": "code",
   "execution_count": 2,
   "id": "3e673c0a",
   "metadata": {},
   "outputs": [
    {
     "name": "stdout",
     "output_type": "stream",
     "text": [
      "\n",
      "Data loaders ready!\n"
     ]
    }
   ],
   "source": [
    "train_transform, test_transform = get_transforms(img_size=224, augment=False, use_imagenet_norm=False)\n",
    "\n",
    "DatasetClass = get_dataset_class(DS)\n",
    "\n",
    "ld = DatasetClass(\n",
    "    data_root=CFG[\"datasets\"][DS][\"root\"],\n",
    "    transform=train_transform,\n",
    "    batch_size=CFG[\"train\"][\"batch_size\"]\n",
    ")\n",
    "\n",
    "print(\"\\nData loaders ready!\")"
   ]
  },
  {
   "cell_type": "markdown",
   "id": "e5a3d318",
   "metadata": {},
   "source": [
    "### Logging"
   ]
  },
  {
   "cell_type": "code",
   "execution_count": 3,
   "id": "f01fd7aa",
   "metadata": {},
   "outputs": [
    {
     "name": "stderr",
     "output_type": "stream",
     "text": [
      "2025-10-25 04:38:52,853 | INFO | Initialized experiment directories for PACS\n",
      "2025-10-25 04:38:52,854 | INFO | Logs: c:\\Users\\Fatim_Sproj\\Desktop\\Fatim\\Spring 2025\\sproj\\Visual-Reasoning\\Vit-GRQO\\resnet34\\PACS\\logs\n",
      "2025-10-25 04:38:52,854 | INFO | Checkpoints: c:\\Users\\Fatim_Sproj\\Desktop\\Fatim\\Spring 2025\\sproj\\Visual-Reasoning\\Vit-GRQO\\resnet34\\PACS\\checkpoints\n",
      "2025-10-25 04:38:52,855 | INFO | Plots: c:\\Users\\Fatim_Sproj\\Desktop\\Fatim\\Spring 2025\\sproj\\Visual-Reasoning\\Vit-GRQO\\resnet34\\PACS\\plots\n"
     ]
    }
   ],
   "source": [
    "dataset_name = DS\n",
    "base_dir = os.path.join(os.getcwd(), dataset_name)\n",
    "subdirs = [\"logs\", \"checkpoints\", \"plots\"]\n",
    "\n",
    "for sub in subdirs:\n",
    "    os.makedirs(os.path.join(base_dir, sub), exist_ok=True)\n",
    "\n",
    "timestamp = datetime.now().strftime(\"%Y-%m-%d_%H-%M-%S\")\n",
    "log_file = os.path.join(base_dir, \"logs\", f\"train_{timestamp}.log\")\n",
    "\n",
    "logging.basicConfig(\n",
    "    level=logging.INFO,\n",
    "    format=\"%(asctime)s | %(levelname)s | %(message)s\",\n",
    "    handlers=[\n",
    "        logging.FileHandler(log_file),\n",
    "        logging.StreamHandler()\n",
    "    ]\n",
    ")\n",
    "\n",
    "logger = logging.getLogger(f\"{dataset_name}_logger\")\n",
    "\n",
    "logger.info(f\"Initialized experiment directories for {dataset_name}\")\n",
    "logger.info(f\"Logs: {os.path.join(base_dir, 'logs')}\")\n",
    "logger.info(f\"Checkpoints: {os.path.join(base_dir, 'checkpoints')}\")\n",
    "logger.info(f\"Plots: {os.path.join(base_dir, 'plots')}\")"
   ]
  },
  {
   "cell_type": "markdown",
   "id": "47398d2c",
   "metadata": {},
   "source": [
    "### Setup"
   ]
  },
  {
   "cell_type": "code",
   "execution_count": 4,
   "id": "450d7f06",
   "metadata": {},
   "outputs": [],
   "source": [
    "domains = CFG[\"datasets\"][DS][\"domains\"]\n",
    "loaders = {d: {\"train\": ld.get_dataloader(d, train=True), \"val\": ld.get_dataloader(d, train=False)} for d in domains}\n",
    "ckpt_root = os.path.join(base_dir, \"checkpoints\")\n",
    "log_dir = os.path.join(base_dir, \"logs\")\n",
    "plots_dir = os.path.join(base_dir, \"plots\")\n",
    "os.makedirs(ckpt_root, exist_ok=True)\n",
    "os.makedirs(log_dir, exist_ok=True)\n",
    "os.makedirs(plots_dir, exist_ok=True)\n",
    "model_factory = lambda cfg, dataset_key: get_model(cfg,dataset=DS)\n",
    "optimizer_fn = lambda model: optim.AdamW(model.parameters(), lr=CFG[\"train\"][\"lr\"], weight_decay=CFG[\"train\"].get(\"weight_decay\", 0.01))\n",
    "device = CFG[\"system\"][\"device\"]\n",
    "epochs = CFG[\"train\"][\"epochs\"]"
   ]
  },
  {
   "cell_type": "markdown",
   "id": "2d8dafe9",
   "metadata": {},
   "source": [
    "{\n",
    "  \"lodo_results\": {\n",
    "    \"art_painting\": 0.8341463414634146,\n",
    "    \"cartoon\": 0.7974413646055437,\n",
    "    \"photo\": 0.9580838323353293,\n",
    "    \"sketch\": 0.6017811704834606\n",
    "  },\n",
    "  \"timestamp\": \"20251004_020611\"\n",
    "}"
   ]
  },
  {
   "cell_type": "markdown",
   "id": "4931c868",
   "metadata": {},
   "source": [
    "### Leave One Domain Out"
   ]
  },
  {
   "cell_type": "code",
   "execution_count": null,
   "id": "c0344437",
   "metadata": {},
   "outputs": [
    {
     "name": "stderr",
     "output_type": "stream",
     "text": [
      "2025-10-25 04:38:53,447 | INFO | === LODO: Leaving out domain 'art_painting' ===\n"
     ]
    },
    {
     "name": "stdout",
     "output_type": "stream",
     "text": [
      "\n",
      "=== LODO: Leaving out domain 'art_painting' ===\n"
     ]
    },
    {
     "name": "stderr",
     "output_type": "stream",
     "text": [
      "Evaluating: 100%|██████████| 16/16 [00:07<00:00,  2.14it/s]\n",
      "2025-10-25 04:39:25,746 | INFO | [art_painting] Epoch 1/5 | Train - Loss: 0.5563, Cls: 0.5474, GRQO: 0.0089, Acc: 0.8139 | Val - Loss: 0.7795, Cls: 0.7782, GRQO: 0.0013, Acc: 0.7713\n",
      "2025-10-25 04:39:25,894 | INFO | [art_painting] New best val acc: 0.7713\n"
     ]
    },
    {
     "name": "stdout",
     "output_type": "stream",
     "text": [
      "[art_painting] Epoch 1/5 | Train - Loss: 0.5563, Cls: 0.5474, GRQO: 0.0089, Acc: 0.8139 | Val - Loss: 0.7795, Cls: 0.7782, GRQO: 0.0013, Acc: 0.7713\n",
      "[art_painting] New best val acc: 0.7713\n"
     ]
    }
   ],
   "source": [
    "lodo_results, lodo_mean, lodo_summary = run_lodo(\n",
    "    model_fn=model_factory,\n",
    "    CFG=CFG,\n",
    "    logger=logger,\n",
    "    dataset_key=DS,\n",
    "    domains=domains,\n",
    "    loaders=loaders,\n",
    "    optimizer_fn=optimizer_fn,\n",
    "    device=device,\n",
    "    ckpt_root=ckpt_root,\n",
    "    log_dir=log_dir,\n",
    "    epochs=epochs\n",
    ")"
   ]
  },
  {
   "cell_type": "markdown",
   "id": "008d21ac",
   "metadata": {},
   "source": [
    "### Baseline"
   ]
  },
  {
   "cell_type": "code",
   "execution_count": null,
   "id": "060b18a4",
   "metadata": {},
   "outputs": [
    {
     "name": "stderr",
     "output_type": "stream",
     "text": [
      "2025-10-21 07:55:33,053 | INFO | Initializing ResNet baseline: resnet34\n",
      "2025-10-21 07:55:33,213 | INFO | === Baseline LODO: Leaving out domain 'art_painting' ===\n"
     ]
    },
    {
     "name": "stdout",
     "output_type": "stream",
     "text": [
      "Initializing ResNet baseline: resnet34\n",
      "\n",
      "=== Baseline LODO: Leaving out domain 'art_painting' ===\n"
     ]
    },
    {
     "name": "stderr",
     "output_type": "stream",
     "text": [
      "2025-10-21 07:55:52,806 | INFO | [art_painting] Epoch 1/5 | Train - Loss: 0.3855, Acc: 0.8765 | Val Acc: 0.8121\n"
     ]
    },
    {
     "name": "stdout",
     "output_type": "stream",
     "text": [
      "[art_painting] Epoch 1/5 | Train - Loss: 0.3855, Acc: 0.8765 | Val Acc: 0.8121\n"
     ]
    },
    {
     "name": "stderr",
     "output_type": "stream",
     "text": [
      "2025-10-21 07:56:12,527 | INFO | [art_painting] Epoch 2/5 | Train - Loss: 0.0639, Acc: 0.9809 | Val Acc: 0.8081\n"
     ]
    },
    {
     "name": "stdout",
     "output_type": "stream",
     "text": [
      "[art_painting] Epoch 2/5 | Train - Loss: 0.0639, Acc: 0.9809 | Val Acc: 0.8081\n"
     ]
    },
    {
     "name": "stderr",
     "output_type": "stream",
     "text": [
      "2025-10-21 07:56:32,356 | INFO | [art_painting] Epoch 3/5 | Train - Loss: 0.0532, Acc: 0.9868 | Val Acc: 0.8047\n"
     ]
    },
    {
     "name": "stdout",
     "output_type": "stream",
     "text": [
      "[art_painting] Epoch 3/5 | Train - Loss: 0.0532, Acc: 0.9868 | Val Acc: 0.8047\n"
     ]
    },
    {
     "name": "stderr",
     "output_type": "stream",
     "text": [
      "2025-10-21 07:56:56,580 | INFO | [art_painting] Epoch 4/5 | Train - Loss: 0.0082, Acc: 0.9987 | Val Acc: 0.8307\n"
     ]
    },
    {
     "name": "stdout",
     "output_type": "stream",
     "text": [
      "[art_painting] Epoch 4/5 | Train - Loss: 0.0082, Acc: 0.9987 | Val Acc: 0.8307\n"
     ]
    },
    {
     "name": "stderr",
     "output_type": "stream",
     "text": [
      "2025-10-21 07:57:22,278 | INFO | [art_painting] Epoch 5/5 | Train - Loss: 0.0039, Acc: 0.9996 | Val Acc: 0.8288\n",
      "2025-10-21 07:57:22,278 | INFO | [art_painting] Best Val Acc: 0.8307\n",
      "2025-10-21 07:57:22,288 | INFO | ------------------------------------------------------------\n",
      "2025-10-21 07:57:22,289 | INFO | Initializing ResNet baseline: resnet34\n"
     ]
    },
    {
     "name": "stdout",
     "output_type": "stream",
     "text": [
      "[art_painting] Epoch 5/5 | Train - Loss: 0.0039, Acc: 0.9996 | Val Acc: 0.8288\n",
      "[art_painting] Best Val Acc: 0.8307\n",
      "------------------------------------------------------------\n",
      "Initializing ResNet baseline: resnet34\n"
     ]
    },
    {
     "name": "stderr",
     "output_type": "stream",
     "text": [
      "2025-10-21 07:57:22,610 | INFO | === Baseline LODO: Leaving out domain 'cartoon' ===\n"
     ]
    },
    {
     "name": "stdout",
     "output_type": "stream",
     "text": [
      "\n",
      "=== Baseline LODO: Leaving out domain 'cartoon' ===\n"
     ]
    },
    {
     "name": "stderr",
     "output_type": "stream",
     "text": [
      "2025-10-21 07:57:48,472 | INFO | [cartoon] Epoch 1/5 | Train - Loss: 0.3781, Acc: 0.8786 | Val Acc: 0.7278\n"
     ]
    },
    {
     "name": "stdout",
     "output_type": "stream",
     "text": [
      "[cartoon] Epoch 1/5 | Train - Loss: 0.3781, Acc: 0.8786 | Val Acc: 0.7278\n"
     ]
    },
    {
     "name": "stderr",
     "output_type": "stream",
     "text": [
      "2025-10-21 07:58:13,522 | INFO | [cartoon] Epoch 2/5 | Train - Loss: 0.0519, Acc: 0.9861 | Val Acc: 0.7372\n"
     ]
    },
    {
     "name": "stdout",
     "output_type": "stream",
     "text": [
      "[cartoon] Epoch 2/5 | Train - Loss: 0.0519, Acc: 0.9861 | Val Acc: 0.7372\n"
     ]
    },
    {
     "name": "stderr",
     "output_type": "stream",
     "text": [
      "2025-10-21 07:58:33,123 | INFO | [cartoon] Epoch 3/5 | Train - Loss: 0.0124, Acc: 0.9980 | Val Acc: 0.7342\n"
     ]
    },
    {
     "name": "stdout",
     "output_type": "stream",
     "text": [
      "[cartoon] Epoch 3/5 | Train - Loss: 0.0124, Acc: 0.9980 | Val Acc: 0.7342\n"
     ]
    },
    {
     "name": "stderr",
     "output_type": "stream",
     "text": [
      "2025-10-21 07:58:57,141 | INFO | [cartoon] Epoch 4/5 | Train - Loss: 0.0081, Acc: 0.9984 | Val Acc: 0.7683\n"
     ]
    },
    {
     "name": "stdout",
     "output_type": "stream",
     "text": [
      "[cartoon] Epoch 4/5 | Train - Loss: 0.0081, Acc: 0.9984 | Val Acc: 0.7683\n"
     ]
    },
    {
     "name": "stderr",
     "output_type": "stream",
     "text": [
      "2025-10-21 07:59:18,138 | INFO | [cartoon] Epoch 5/5 | Train - Loss: 0.0031, Acc: 1.0000 | Val Acc: 0.7683\n",
      "2025-10-21 07:59:18,154 | INFO | [cartoon] Best Val Acc: 0.7683\n",
      "2025-10-21 07:59:18,155 | INFO | ------------------------------------------------------------\n",
      "2025-10-21 07:59:18,155 | INFO | Initializing ResNet baseline: resnet34\n",
      "2025-10-21 07:59:18,319 | INFO | === Baseline LODO: Leaving out domain 'photo' ===\n"
     ]
    },
    {
     "name": "stdout",
     "output_type": "stream",
     "text": [
      "[cartoon] Epoch 5/5 | Train - Loss: 0.0031, Acc: 1.0000 | Val Acc: 0.7683\n",
      "[cartoon] Best Val Acc: 0.7683\n",
      "------------------------------------------------------------\n",
      "Initializing ResNet baseline: resnet34\n",
      "\n",
      "=== Baseline LODO: Leaving out domain 'photo' ===\n"
     ]
    },
    {
     "name": "stderr",
     "output_type": "stream",
     "text": [
      "2025-10-21 07:59:37,588 | INFO | [photo] Epoch 1/5 | Train - Loss: 0.4352, Acc: 0.8551 | Val Acc: 0.9617\n"
     ]
    },
    {
     "name": "stdout",
     "output_type": "stream",
     "text": [
      "[photo] Epoch 1/5 | Train - Loss: 0.4352, Acc: 0.8551 | Val Acc: 0.9617\n"
     ]
    },
    {
     "name": "stderr",
     "output_type": "stream",
     "text": [
      "2025-10-21 07:59:56,828 | INFO | [photo] Epoch 2/5 | Train - Loss: 0.0635, Acc: 0.9815 | Val Acc: 0.9611\n"
     ]
    },
    {
     "name": "stdout",
     "output_type": "stream",
     "text": [
      "[photo] Epoch 2/5 | Train - Loss: 0.0635, Acc: 0.9815 | Val Acc: 0.9611\n"
     ]
    },
    {
     "name": "stderr",
     "output_type": "stream",
     "text": [
      "2025-10-21 08:00:16,392 | INFO | [photo] Epoch 3/5 | Train - Loss: 0.0130, Acc: 0.9986 | Val Acc: 0.9641\n"
     ]
    },
    {
     "name": "stdout",
     "output_type": "stream",
     "text": [
      "[photo] Epoch 3/5 | Train - Loss: 0.0130, Acc: 0.9986 | Val Acc: 0.9641\n"
     ]
    },
    {
     "name": "stderr",
     "output_type": "stream",
     "text": [
      "2025-10-21 08:00:39,105 | INFO | [photo] Epoch 4/5 | Train - Loss: 0.0064, Acc: 0.9988 | Val Acc: 0.9737\n"
     ]
    },
    {
     "name": "stdout",
     "output_type": "stream",
     "text": [
      "[photo] Epoch 4/5 | Train - Loss: 0.0064, Acc: 0.9988 | Val Acc: 0.9737\n"
     ]
    },
    {
     "name": "stderr",
     "output_type": "stream",
     "text": [
      "2025-10-21 08:01:02,082 | INFO | [photo] Epoch 5/5 | Train - Loss: 0.0094, Acc: 0.9976 | Val Acc: 0.9665\n",
      "2025-10-21 08:01:02,082 | INFO | [photo] Best Val Acc: 0.9737\n",
      "2025-10-21 08:01:02,083 | INFO | ------------------------------------------------------------\n",
      "2025-10-21 08:01:02,084 | INFO | Initializing ResNet baseline: resnet34\n"
     ]
    },
    {
     "name": "stdout",
     "output_type": "stream",
     "text": [
      "[photo] Epoch 5/5 | Train - Loss: 0.0094, Acc: 0.9976 | Val Acc: 0.9665\n",
      "[photo] Best Val Acc: 0.9737\n",
      "------------------------------------------------------------\n",
      "Initializing ResNet baseline: resnet34\n"
     ]
    },
    {
     "name": "stderr",
     "output_type": "stream",
     "text": [
      "2025-10-21 08:01:02,401 | INFO | === Baseline LODO: Leaving out domain 'sketch' ===\n"
     ]
    },
    {
     "name": "stdout",
     "output_type": "stream",
     "text": [
      "\n",
      "=== Baseline LODO: Leaving out domain 'sketch' ===\n"
     ]
    },
    {
     "name": "stderr",
     "output_type": "stream",
     "text": [
      "2025-10-21 08:01:31,956 | INFO | [sketch] Epoch 1/5 | Train - Loss: 0.3997, Acc: 0.8723 | Val Acc: 0.6488\n"
     ]
    },
    {
     "name": "stdout",
     "output_type": "stream",
     "text": [
      "[sketch] Epoch 1/5 | Train - Loss: 0.3997, Acc: 0.8723 | Val Acc: 0.6488\n"
     ]
    },
    {
     "name": "stderr",
     "output_type": "stream",
     "text": [
      "2025-10-21 08:02:00,427 | INFO | [sketch] Epoch 2/5 | Train - Loss: 0.0423, Acc: 0.9891 | Val Acc: 0.6819\n"
     ]
    },
    {
     "name": "stdout",
     "output_type": "stream",
     "text": [
      "[sketch] Epoch 2/5 | Train - Loss: 0.0423, Acc: 0.9891 | Val Acc: 0.6819\n"
     ]
    },
    {
     "name": "stderr",
     "output_type": "stream",
     "text": [
      "2025-10-21 08:02:26,837 | INFO | [sketch] Epoch 3/5 | Train - Loss: 0.0109, Acc: 0.9988 | Val Acc: 0.6999\n"
     ]
    },
    {
     "name": "stdout",
     "output_type": "stream",
     "text": [
      "[sketch] Epoch 3/5 | Train - Loss: 0.0109, Acc: 0.9988 | Val Acc: 0.6999\n"
     ]
    },
    {
     "name": "stderr",
     "output_type": "stream",
     "text": [
      "2025-10-21 08:02:53,471 | INFO | [sketch] Epoch 4/5 | Train - Loss: 0.0044, Acc: 0.9997 | Val Acc: 0.6564\n"
     ]
    },
    {
     "name": "stdout",
     "output_type": "stream",
     "text": [
      "[sketch] Epoch 4/5 | Train - Loss: 0.0044, Acc: 0.9997 | Val Acc: 0.6564\n"
     ]
    },
    {
     "name": "stderr",
     "output_type": "stream",
     "text": [
      "2025-10-21 08:03:19,272 | INFO | [sketch] Epoch 5/5 | Train - Loss: 0.0018, Acc: 1.0000 | Val Acc: 0.6824\n",
      "2025-10-21 08:03:19,272 | INFO | [sketch] Best Val Acc: 0.6999\n",
      "2025-10-21 08:03:19,272 | INFO | ------------------------------------------------------------\n",
      "2025-10-21 08:03:19,272 | INFO | Baseline LODO (resnet34) finished | Mean Acc: 0.8182\n"
     ]
    },
    {
     "name": "stdout",
     "output_type": "stream",
     "text": [
      "[sketch] Epoch 5/5 | Train - Loss: 0.0018, Acc: 1.0000 | Val Acc: 0.6824\n",
      "[sketch] Best Val Acc: 0.6999\n",
      "------------------------------------------------------------\n",
      "Baseline LODO (resnet34) finished | Mean Acc: 0.8182\n"
     ]
    }
   ],
   "source": [
    "baseline_results, baseline_mean = run_baseline(\n",
    "    model_name=MODEL_NAME,\n",
    "    CFG=CFG,\n",
    "    logger=logger,\n",
    "    dataset_key=DS,\n",
    "    domains=domains,\n",
    "    loaders=loaders,\n",
    "    optimizer_fn=optimizer_fn,\n",
    "    device=device,\n",
    "    epochs=CFG[\"train\"][\"epochs\"]\n",
    ")"
   ]
  }
 ],
 "metadata": {
  "kernelspec": {
   "display_name": "bacp",
   "language": "python",
   "name": "python3"
  },
  "language_info": {
   "codemirror_mode": {
    "name": "ipython",
    "version": 3
   },
   "file_extension": ".py",
   "mimetype": "text/x-python",
   "name": "python",
   "nbconvert_exporter": "python",
   "pygments_lexer": "ipython3",
   "version": "3.10.16"
  }
 },
 "nbformat": 4,
 "nbformat_minor": 5
}
