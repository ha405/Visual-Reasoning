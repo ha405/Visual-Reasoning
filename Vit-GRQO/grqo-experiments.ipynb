{
 "cells": [
  {
   "cell_type": "markdown",
   "id": "505fe958",
   "metadata": {},
   "source": [
    "### Imports"
   ]
  },
  {
   "cell_type": "code",
   "execution_count": null,
   "id": "d3da69f1",
   "metadata": {},
   "outputs": [],
   "source": [
    "import os\n",
    "import torch\n",
    "import torch.nn as nn\n",
    "import torch.nn.functional as F\n",
    "from torch.utils.data import DataLoader\n",
    "from torchvision import transforms\n",
    "from dataset import PACSDataset\n",
    "from vit_grqo import ViTGRQO, grqo_loss_from_gradients"
   ]
  },
  {
   "cell_type": "markdown",
   "id": "61a5524d",
   "metadata": {},
   "source": [
    "### CONFIG "
   ]
  },
  {
   "cell_type": "code",
   "execution_count": null,
   "id": "129d8f44",
   "metadata": {},
   "outputs": [],
   "source": [
    "DATA_ROOT = \"../../../pacs_data/pacs_data\"\n",
    "DOMAINS = [\"art_painting\", \"cartoon\", \"photo\", \"sketch\"]\n",
    "BATCH_SIZE = 24\n",
    "NUM_CLASSES = 7\n",
    "NUM_EPOCHS = 5\n",
    "LR = 1e-4\n",
    "TOPK = 16\n",
    "ALPHA = 1.0\n",
    "BETA = 0.5\n",
    "TAU = 1e-3\n",
    "DEVICE = torch.device('cuda' if torch.cuda.is_available() else 'cpu')"
   ]
  },
  {
   "cell_type": "markdown",
   "id": "4cbdea6a",
   "metadata": {},
   "source": [
    "### Data"
   ]
  },
  {
   "cell_type": "code",
   "execution_count": null,
   "id": "c298e0fa",
   "metadata": {},
   "outputs": [],
   "source": [
    "transform = transforms.Compose([\n",
    "    transforms.Resize((224,224)),\n",
    "    transforms.ToTensor(),\n",
    "    transforms.Normalize(mean=[0.485,0.456,0.406], std=[0.229,0.224,0.225])\n",
    "])\n",
    "\n",
    "pacs_data = PACSDataset(DATA_ROOT, DOMAINS, transform, BATCH_SIZE)\n",
    "ALL_DOMAINS = ['photo', 'art_painting', 'cartoon', 'sketch']\n",
    "LEAVE_OUT = 'sketch'  \n",
    "TRAIN_DOMAINS = [d for d in ALL_DOMAINS if d != LEAVE_OUT]\n",
    "VAL_DOMAIN = LEAVE_OUT\n",
    "\n",
    "train_datasets = [pacs_data.get_dataloader(domain=d, train=True) for d in TRAIN_DOMAINS]\n",
    "train_loader = torch.utils.data.DataLoader(\n",
    "    torch.utils.data.ConcatDataset([d.dataset for d in train_datasets]),\n",
    "    batch_size=BATCH_SIZE,\n",
    "    shuffle=True\n",
    ")\n",
    "\n",
    "# Validation loader\n",
    "val_loader = pacs_data.get_dataloader(domain=VAL_DOMAIN, train=False)"
   ]
  },
  {
   "cell_type": "markdown",
   "id": "d893d9ae",
   "metadata": {},
   "source": [
    "### Model "
   ]
  },
  {
   "cell_type": "code",
   "execution_count": null,
   "id": "f9106871",
   "metadata": {},
   "outputs": [],
   "source": [
    "model = ViTGRQO(num_classes=NUM_CLASSES, topk=TOPK)\n",
    "model.to(DEVICE)\n",
    "optimizer = torch.optim.AdamW(model.parameters(), lr=LR, weight_decay=0.05)\n",
    "criterion = nn.CrossEntropyLoss()"
   ]
  },
  {
   "cell_type": "markdown",
   "id": "1eb7e896",
   "metadata": {},
   "source": [
    "### Finetuning"
   ]
  },
  {
   "cell_type": "code",
   "execution_count": null,
   "id": "319172c7",
   "metadata": {},
   "outputs": [],
   "source": [
    "for epoch in range(NUM_EPOCHS):\n",
    "    model.train()\n",
    "    running_loss = 0.0\n",
    "    \n",
    "    for images, labels in train_loader:\n",
    "        images, labels = images.to(DEVICE), labels.to(DEVICE)\n",
    "        \n",
    "        # Forward pass\n",
    "        logits, patch_tokens, token_probs = model(images)\n",
    "        \n",
    "        # Classification + GRQO loss\n",
    "        cls_loss = criterion(logits, labels)\n",
    "        grqo_loss = grqo_loss_from_gradients(\n",
    "            logits, patch_tokens, token_probs, labels,\n",
    "            teacher_probs=model.teacher_probs,\n",
    "            alpha=ALPHA, beta=BETA, topk=TOPK, tau=TAU\n",
    "        )\n",
    "        loss = cls_loss + grqo_loss\n",
    "        \n",
    "        optimizer.zero_grad()\n",
    "        loss.backward()\n",
    "        optimizer.step()\n",
    "        \n",
    "        # EMA teacher update\n",
    "        with torch.no_grad():\n",
    "            if model.teacher_probs.numel() != token_probs.mean(dim=0).numel():\n",
    "                model.teacher_probs = token_probs.mean(dim=0, keepdim=True)\n",
    "            else:\n",
    "                model.teacher_probs = 0.9*model.teacher_probs + 0.1*token_probs.mean(dim=0, keepdim=True)\n",
    "        \n",
    "        running_loss += loss.item() * images.size(0)\n",
    "    \n",
    "    # ------------------- VALIDATION -----------------\n",
    "    model.eval()\n",
    "    correct, total = 0, 0\n",
    "    with torch.no_grad():\n",
    "        for images, labels in val_loader:\n",
    "            images, labels = images.to(DEVICE), labels.to(DEVICE)\n",
    "            logits, _, _ = model(images)\n",
    "            preds = logits.argmax(dim=1)\n",
    "            correct += (preds == labels).sum().item()\n",
    "            total += labels.size(0)\n",
    "    \n",
    "    epoch_loss = running_loss / len(train_loader.dataset)\n",
    "    val_acc = correct / total\n",
    "    print(f\"Epoch [{epoch+1}/{NUM_EPOCHS}] - Loss: {epoch_loss:.4f}, Val Acc (LODO on {VAL_DOMAIN}): {val_acc:.4f}\")\n"
   ]
  }
 ],
 "metadata": {
  "language_info": {
   "name": "python"
  }
 },
 "nbformat": 4,
 "nbformat_minor": 5
}
