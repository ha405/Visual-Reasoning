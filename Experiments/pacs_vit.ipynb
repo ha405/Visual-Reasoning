{
 "cells": [
  {
   "cell_type": "markdown",
   "id": "8848ffa2",
   "metadata": {},
   "source": [
    "## PACS Domain Generalization with Vision Transformer (ViT)"
   ]
  },
  {
   "cell_type": "markdown",
   "id": "4f4b05ee",
   "metadata": {},
   "source": [
    "### Setup & Imports"
   ]
  },
  {
   "cell_type": "code",
   "execution_count": 12,
   "id": "d54f7928",
   "metadata": {},
   "outputs": [],
   "source": [
    "\n",
    "import os\n",
    "import torch\n",
    "import torchvision.transforms as transforms\n",
    "import torchvision.datasets as datasets\n",
    "import torch.nn as nn\n",
    "import torch.optim as optim\n",
    "from torch.utils.data import DataLoader, Subset, ConcatDataset\n",
    "from sklearn.model_selection import train_test_split\n",
    "from transformers import ViTForImageClassification, ViTFeatureExtractor\n",
    "from tqdm import tqdm\n",
    "import numpy as np\n",
    "import matplotlib.pyplot as plt\n",
    "import random\n"
   ]
  },
  {
   "cell_type": "markdown",
   "id": "08410c63",
   "metadata": {},
   "source": [
    "### Configuration & Seeds"
   ]
  },
  {
   "cell_type": "code",
   "execution_count": 3,
   "id": "c2647726",
   "metadata": {},
   "outputs": [
    {
     "name": "stdout",
     "output_type": "stream",
     "text": [
      "Device: cuda\n"
     ]
    }
   ],
   "source": [
    "\n",
    "DEVICE = torch.device(\"cuda\" if torch.cuda.is_available() else \"cpu\")\n",
    "print(f\"Device: {DEVICE}\")\n",
    "SEED = 42\n",
    "BATCH_SIZE = 24\n",
    "NUM_EPOCHS = 5\n",
    "NUM_CLASSES = 7\n",
    "DATA_ROOT = \"pacs_data/pacs_data\"\n",
    "DOMAINS = [\"art_painting\", \"cartoon\", \"photo\", \"sketch\"]\n",
    "\n",
    "torch.manual_seed(SEED)\n",
    "np.random.seed(SEED)\n",
    "random.seed(SEED)\n"
   ]
  },
  {
   "cell_type": "markdown",
   "id": "79b27125",
   "metadata": {},
   "source": [
    "### Dataset Wrapper Class"
   ]
  },
  {
   "cell_type": "code",
   "execution_count": 4,
   "id": "908de0df",
   "metadata": {},
   "outputs": [],
   "source": [
    "\n",
    "class PACSDataset:\n",
    "    def __init__(self, data_root, domains, transform):\n",
    "        self.data_root = data_root\n",
    "        self.domains = domains\n",
    "        self.transform = transform\n",
    "\n",
    "    def get_dataloader(self, domain, train=True):\n",
    "        dataset = datasets.ImageFolder(os.path.join(self.data_root, domain), transform=self.transform)\n",
    "        \n",
    "        indices = list(range(len(dataset)))\n",
    "        train_idx, val_idx = train_test_split(indices, test_size=0.2, stratify=[dataset.targets[i] for i in indices], random_state=SEED)\n",
    "        selected_idx = train_idx if train else val_idx\n",
    "        \n",
    "        subset = Subset(dataset, selected_idx)\n",
    "        loader = DataLoader(subset, batch_size=BATCH_SIZE, shuffle=train)\n",
    "        return loader\n"
   ]
  },
  {
   "cell_type": "markdown",
   "id": "5f80938e",
   "metadata": {},
   "source": [
    "### Vision Transformer Wrapper Class"
   ]
  },
  {
   "cell_type": "code",
   "execution_count": 5,
   "id": "987f5d0b",
   "metadata": {},
   "outputs": [],
   "source": [
    "\n",
    "class ViTModel(nn.Module):\n",
    "    def __init__(self, num_classes):\n",
    "        super(ViTModel, self).__init__()\n",
    "        self.model = ViTForImageClassification.from_pretrained(\n",
    "            'google/vit-base-patch16-224-in21k',\n",
    "            num_labels=num_classes,\n",
    "            ignore_mismatched_sizes=True\n",
    "        )\n",
    "\n",
    "    def forward(self, x):\n",
    "        return self.model(x).logits\n"
   ]
  },
  {
   "cell_type": "markdown",
   "id": "64fb41f6",
   "metadata": {},
   "source": [
    "### Trainer Class"
   ]
  },
  {
   "cell_type": "code",
   "execution_count": 6,
   "id": "f19d88da",
   "metadata": {},
   "outputs": [],
   "source": [
    "\n",
    "class Trainer:\n",
    "    def __init__(self, model, optimizer, criterion):\n",
    "        self.model = model.to(DEVICE)\n",
    "        self.optimizer = optimizer\n",
    "        self.criterion = criterion\n",
    "\n",
    "    def train(self, dataloader):\n",
    "        self.model.train()\n",
    "        total_loss = 0\n",
    "        for inputs, labels in tqdm(dataloader):\n",
    "            inputs, labels = inputs.to(DEVICE), labels.to(DEVICE)\n",
    "            outputs = self.model(inputs)\n",
    "            loss = self.criterion(outputs, labels)\n",
    "            self.optimizer.zero_grad()\n",
    "            loss.backward()\n",
    "            self.optimizer.step()\n",
    "            total_loss += loss.item()\n",
    "        return total_loss / len(dataloader)\n",
    "\n",
    "    def evaluate(self, dataloader):\n",
    "        self.model.eval()\n",
    "        total_correct = 0\n",
    "        total = 0\n",
    "        with torch.no_grad():\n",
    "            for inputs, labels in dataloader:\n",
    "                inputs, labels = inputs.to(DEVICE), labels.to(DEVICE)\n",
    "                outputs = self.model(inputs)\n",
    "                preds = torch.argmax(outputs, dim=1)\n",
    "                total_correct += (preds == labels).sum().item()\n",
    "                total += labels.size(0)\n",
    "        return total_correct / total\n"
   ]
  },
  {
   "cell_type": "markdown",
   "id": "49b7bf8b",
   "metadata": {},
   "source": [
    "### Leave-One-Domain-Out (LODO) Training"
   ]
  },
  {
   "cell_type": "code",
   "execution_count": null,
   "id": "e9160f49",
   "metadata": {},
   "outputs": [
    {
     "name": "stdout",
     "output_type": "stream",
     "text": [
      "\n",
      "🧪 Testing on domain: art_painting\n"
     ]
    },
    {
     "name": "stderr",
     "output_type": "stream",
     "text": [
      "Some weights of ViTForImageClassification were not initialized from the model checkpoint at google/vit-base-patch16-224-in21k and are newly initialized: ['classifier.bias', 'classifier.weight']\n",
      "You should probably TRAIN this model on a down-stream task to be able to use it for predictions and inference.\n"
     ]
    },
    {
     "name": "stdout",
     "output_type": "stream",
     "text": [
      "Epoch 1/5\n"
     ]
    },
    {
     "name": "stderr",
     "output_type": "stream",
     "text": [
      "100%|██████████| 265/265 [01:23<00:00,  3.19it/s]\n"
     ]
    },
    {
     "name": "stdout",
     "output_type": "stream",
     "text": [
      "Train Loss: 0.4924 | Val Acc: 0.9490\n",
      "Epoch 2/5\n"
     ]
    },
    {
     "name": "stderr",
     "output_type": "stream",
     "text": [
      "100%|██████████| 265/265 [00:30<00:00,  8.73it/s]\n"
     ]
    },
    {
     "name": "stdout",
     "output_type": "stream",
     "text": [
      "Train Loss: 0.1082 | Val Acc: 0.9610\n",
      "Epoch 3/5\n"
     ]
    },
    {
     "name": "stderr",
     "output_type": "stream",
     "text": [
      "100%|██████████| 265/265 [00:30<00:00,  8.65it/s]\n"
     ]
    },
    {
     "name": "stdout",
     "output_type": "stream",
     "text": [
      "Train Loss: 0.0609 | Val Acc: 0.9578\n",
      "Epoch 4/5\n"
     ]
    },
    {
     "name": "stderr",
     "output_type": "stream",
     "text": [
      "100%|██████████| 265/265 [00:30<00:00,  8.72it/s]\n"
     ]
    },
    {
     "name": "stdout",
     "output_type": "stream",
     "text": [
      "Train Loss: 0.0612 | Val Acc: 0.9509\n",
      "Epoch 5/5\n"
     ]
    },
    {
     "name": "stderr",
     "output_type": "stream",
     "text": [
      "100%|██████████| 265/265 [00:30<00:00,  8.75it/s]\n"
     ]
    },
    {
     "name": "stdout",
     "output_type": "stream",
     "text": [
      "Train Loss: 0.0305 | Val Acc: 0.9585\n",
      "✅ Test Accuracy on art_painting: 0.9220\n",
      "\n",
      "🧪 Testing on domain: cartoon\n"
     ]
    },
    {
     "name": "stderr",
     "output_type": "stream",
     "text": [
      "Some weights of ViTForImageClassification were not initialized from the model checkpoint at google/vit-base-patch16-224-in21k and are newly initialized: ['classifier.bias', 'classifier.weight']\n",
      "You should probably TRAIN this model on a down-stream task to be able to use it for predictions and inference.\n"
     ]
    },
    {
     "name": "stdout",
     "output_type": "stream",
     "text": [
      "Epoch 1/5\n"
     ]
    },
    {
     "name": "stderr",
     "output_type": "stream",
     "text": [
      "100%|██████████| 255/255 [00:37<00:00,  6.89it/s]\n"
     ]
    },
    {
     "name": "stdout",
     "output_type": "stream",
     "text": [
      "Train Loss: 0.4805 | Val Acc: 0.9562\n",
      "Epoch 2/5\n"
     ]
    },
    {
     "name": "stderr",
     "output_type": "stream",
     "text": [
      "100%|██████████| 255/255 [00:29<00:00,  8.77it/s]\n"
     ]
    },
    {
     "name": "stdout",
     "output_type": "stream",
     "text": [
      "Train Loss: 0.1158 | Val Acc: 0.9536\n",
      "Epoch 3/5\n"
     ]
    },
    {
     "name": "stderr",
     "output_type": "stream",
     "text": [
      "100%|██████████| 255/255 [00:29<00:00,  8.79it/s]\n"
     ]
    },
    {
     "name": "stdout",
     "output_type": "stream",
     "text": [
      "Train Loss: 0.0660 | Val Acc: 0.9582\n",
      "Epoch 4/5\n"
     ]
    },
    {
     "name": "stderr",
     "output_type": "stream",
     "text": [
      "100%|██████████| 255/255 [00:29<00:00,  8.75it/s]\n"
     ]
    },
    {
     "name": "stdout",
     "output_type": "stream",
     "text": [
      "Train Loss: 0.0498 | Val Acc: 0.9503\n",
      "Epoch 5/5\n"
     ]
    },
    {
     "name": "stderr",
     "output_type": "stream",
     "text": [
      "100%|██████████| 255/255 [00:29<00:00,  8.77it/s]\n"
     ]
    },
    {
     "name": "stdout",
     "output_type": "stream",
     "text": [
      "Train Loss: 0.0362 | Val Acc: 0.9484\n",
      "✅ Test Accuracy on cartoon: 0.7974\n",
      "\n",
      "🧪 Testing on domain: photo\n"
     ]
    },
    {
     "name": "stderr",
     "output_type": "stream",
     "text": [
      "Some weights of ViTForImageClassification were not initialized from the model checkpoint at google/vit-base-patch16-224-in21k and are newly initialized: ['classifier.bias', 'classifier.weight']\n",
      "You should probably TRAIN this model on a down-stream task to be able to use it for predictions and inference.\n"
     ]
    },
    {
     "name": "stdout",
     "output_type": "stream",
     "text": [
      "Epoch 1/5\n"
     ]
    },
    {
     "name": "stderr",
     "output_type": "stream",
     "text": [
      "100%|██████████| 278/278 [00:32<00:00,  8.68it/s]\n"
     ]
    },
    {
     "name": "stdout",
     "output_type": "stream",
     "text": [
      "Train Loss: 0.5252 | Val Acc: 0.9405\n",
      "Epoch 2/5\n"
     ]
    },
    {
     "name": "stderr",
     "output_type": "stream",
     "text": [
      "100%|██████████| 278/278 [00:31<00:00,  8.71it/s]\n"
     ]
    },
    {
     "name": "stdout",
     "output_type": "stream",
     "text": [
      "Train Loss: 0.1266 | Val Acc: 0.9369\n",
      "Epoch 3/5\n"
     ]
    },
    {
     "name": "stderr",
     "output_type": "stream",
     "text": [
      "100%|██████████| 278/278 [00:31<00:00,  8.69it/s]\n"
     ]
    },
    {
     "name": "stdout",
     "output_type": "stream",
     "text": [
      "Train Loss: 0.0734 | Val Acc: 0.9532\n",
      "Epoch 4/5\n"
     ]
    },
    {
     "name": "stderr",
     "output_type": "stream",
     "text": [
      "100%|██████████| 278/278 [00:31<00:00,  8.71it/s]\n"
     ]
    },
    {
     "name": "stdout",
     "output_type": "stream",
     "text": [
      "Train Loss: 0.0429 | Val Acc: 0.9477\n",
      "Epoch 5/5\n"
     ]
    },
    {
     "name": "stderr",
     "output_type": "stream",
     "text": [
      "100%|██████████| 278/278 [00:32<00:00,  8.67it/s]\n"
     ]
    },
    {
     "name": "stdout",
     "output_type": "stream",
     "text": [
      "Train Loss: 0.0378 | Val Acc: 0.9628\n",
      "✅ Test Accuracy on photo: 0.9940\n",
      "\n",
      "🧪 Testing on domain: sketch\n"
     ]
    },
    {
     "name": "stderr",
     "output_type": "stream",
     "text": [
      "Some weights of ViTForImageClassification were not initialized from the model checkpoint at google/vit-base-patch16-224-in21k and are newly initialized: ['classifier.bias', 'classifier.weight']\n",
      "You should probably TRAIN this model on a down-stream task to be able to use it for predictions and inference.\n"
     ]
    },
    {
     "name": "stdout",
     "output_type": "stream",
     "text": [
      "Epoch 1/5\n"
     ]
    },
    {
     "name": "stderr",
     "output_type": "stream",
     "text": [
      "100%|██████████| 203/203 [00:23<00:00,  8.60it/s]\n"
     ]
    },
    {
     "name": "stdout",
     "output_type": "stream",
     "text": [
      "Train Loss: 0.4620 | Val Acc: 0.9365\n",
      "Epoch 2/5\n"
     ]
    },
    {
     "name": "stderr",
     "output_type": "stream",
     "text": [
      "100%|██████████| 203/203 [00:23<00:00,  8.65it/s]\n"
     ]
    },
    {
     "name": "stdout",
     "output_type": "stream",
     "text": [
      "Train Loss: 0.0768 | Val Acc: 0.9678\n",
      "Epoch 3/5\n"
     ]
    },
    {
     "name": "stderr",
     "output_type": "stream",
     "text": [
      "100%|██████████| 203/203 [00:23<00:00,  8.66it/s]\n"
     ]
    },
    {
     "name": "stdout",
     "output_type": "stream",
     "text": [
      "Train Loss: 0.0584 | Val Acc: 0.9687\n",
      "Epoch 4/5\n"
     ]
    },
    {
     "name": "stderr",
     "output_type": "stream",
     "text": [
      "100%|██████████| 203/203 [00:23<00:00,  8.69it/s]\n"
     ]
    },
    {
     "name": "stdout",
     "output_type": "stream",
     "text": [
      "Train Loss: 0.0335 | Val Acc: 0.9580\n",
      "Epoch 5/5\n"
     ]
    },
    {
     "name": "stderr",
     "output_type": "stream",
     "text": [
      "100%|██████████| 203/203 [00:23<00:00,  8.67it/s]\n"
     ]
    },
    {
     "name": "stdout",
     "output_type": "stream",
     "text": [
      "Train Loss: 0.0337 | Val Acc: 0.9646\n",
      "✅ Test Accuracy on sketch: 0.4949\n"
     ]
    }
   ],
   "source": [
    "\n",
    "transform = transforms.Compose([\n",
    "    transforms.Resize((224, 224)),\n",
    "    transforms.ToTensor(),\n",
    "    transforms.Normalize(mean=(0.5,), std=(0.5,))\n",
    "])\n",
    "\n",
    "results = {}\n",
    "\n",
    "for test_domain in DOMAINS:\n",
    "    print(f\"\\Testing on domain: {test_domain}\")\n",
    "    train_domains = [d for d in DOMAINS if d != test_domain]\n",
    "\n",
    "    # Load datasets\n",
    "    dataset = PACSDataset(DATA_ROOT, DOMAINS, transform)\n",
    "    train_loaders = [dataset.get_dataloader(d, train=True) for d in train_domains]\n",
    "    val_loaders = [dataset.get_dataloader(d, train=False) for d in train_domains]\n",
    "    test_loader = dataset.get_dataloader(test_domain, train=False)\n",
    "\n",
    "    # Concatenate datasets\n",
    "    train_ds = ConcatDataset([dl.dataset for dl in train_loaders])\n",
    "    val_ds = ConcatDataset([dl.dataset for dl in val_loaders])\n",
    "\n",
    "    train_loader = DataLoader(train_ds, batch_size=BATCH_SIZE, shuffle=True)\n",
    "    val_loader = DataLoader(val_ds, batch_size=BATCH_SIZE, shuffle=False)\n",
    "\n",
    "    # Initialize model, optimizer, and criterion\n",
    "    model = ViTModel(NUM_CLASSES)\n",
    "    optimizer = optim.Adam(model.parameters(), lr=1e-4)\n",
    "    criterion = nn.CrossEntropyLoss()\n",
    "    trainer = Trainer(model, optimizer, criterion)\n",
    "\n",
    "    # Train\n",
    "    for epoch in range(NUM_EPOCHS):\n",
    "        print(f\"Epoch {epoch + 1}/{NUM_EPOCHS}\")\n",
    "        train_loss = trainer.train(train_loader)\n",
    "        val_acc = trainer.evaluate(val_loader)\n",
    "        print(f\"Train Loss: {train_loss:.4f} | Val Acc: {val_acc:.4f}\")\n",
    "\n",
    "    # Test\n",
    "    test_acc = trainer.evaluate(test_loader)\n",
    "    results[test_domain] = test_acc\n",
    "    print(f\"✅ Test Accuracy on {test_domain}: {test_acc:.4f}\")"
   ]
  },
  {
   "cell_type": "markdown",
   "id": "26878179",
   "metadata": {},
   "source": [
    "### Baseline"
   ]
  },
  {
   "cell_type": "code",
   "execution_count": null,
   "id": "25bd8d90",
   "metadata": {},
   "outputs": [
    {
     "name": "stdout",
     "output_type": "stream",
     "text": [
      "\n",
      "🏁 Baseline: training on all domains and testing on mixed domains\n"
     ]
    },
    {
     "name": "stderr",
     "output_type": "stream",
     "text": [
      "Some weights of ViTForImageClassification were not initialized from the model checkpoint at google/vit-base-patch16-224-in21k and are newly initialized: ['classifier.bias', 'classifier.weight']\n",
      "You should probably TRAIN this model on a down-stream task to be able to use it for predictions and inference.\n"
     ]
    },
    {
     "name": "stdout",
     "output_type": "stream",
     "text": [
      "Baseline Epoch 1/5\n"
     ]
    },
    {
     "name": "stderr",
     "output_type": "stream",
     "text": [
      "100%|██████████| 333/333 [00:38<00:00,  8.75it/s]\n"
     ]
    },
    {
     "name": "stdout",
     "output_type": "stream",
     "text": [
      "Baseline Loss: 0.4889 | Baseline Acc: 0.9525\n",
      "Baseline Epoch 2/5\n"
     ]
    },
    {
     "name": "stderr",
     "output_type": "stream",
     "text": [
      "100%|██████████| 333/333 [00:38<00:00,  8.76it/s]\n"
     ]
    },
    {
     "name": "stdout",
     "output_type": "stream",
     "text": [
      "Baseline Loss: 0.1086 | Baseline Acc: 0.9335\n",
      "Baseline Epoch 3/5\n"
     ]
    },
    {
     "name": "stderr",
     "output_type": "stream",
     "text": [
      "100%|██████████| 333/333 [00:38<00:00,  8.76it/s]\n"
     ]
    },
    {
     "name": "stdout",
     "output_type": "stream",
     "text": [
      "Baseline Loss: 0.0611 | Baseline Acc: 0.9525\n",
      "Baseline Epoch 4/5\n"
     ]
    },
    {
     "name": "stderr",
     "output_type": "stream",
     "text": [
      "100%|██████████| 333/333 [00:43<00:00,  7.74it/s]\n"
     ]
    },
    {
     "name": "stdout",
     "output_type": "stream",
     "text": [
      "Baseline Loss: 0.0412 | Baseline Acc: 0.9490\n",
      "Baseline Epoch 5/5\n"
     ]
    },
    {
     "name": "stderr",
     "output_type": "stream",
     "text": [
      "100%|██████████| 333/333 [00:38<00:00,  8.74it/s]\n"
     ]
    },
    {
     "name": "stdout",
     "output_type": "stream",
     "text": [
      "Baseline Loss: 0.0400 | Baseline Acc: 0.9550\n",
      "✅ Baseline Test Accuracy: 0.9550\n"
     ]
    }
   ],
   "source": [
    "print(\"\\Baseline: training on all domains and testing on mixed domains\")\n",
    "# Load full train and test sets via leave-all-in loaders\n",
    "dataset_all = PACSDataset(DATA_ROOT, DOMAINS, transform)\n",
    "all_train_loaders = [dataset_all.get_dataloader(d, train=True) for d in DOMAINS]\n",
    "all_test_loaders = [dataset_all.get_dataloader(d, train=False) for d in DOMAINS]\n",
    "\n",
    "# Concatenate\n",
    "full_train_ds = ConcatDataset([dl.dataset for dl in all_train_loaders])\n",
    "full_test_ds = ConcatDataset([dl.dataset for dl in all_test_loaders])\n",
    "full_train_loader = DataLoader(full_train_ds, batch_size=BATCH_SIZE, shuffle=True)\n",
    "full_test_loader = DataLoader(full_test_ds, batch_size=BATCH_SIZE, shuffle=False)\n",
    "\n",
    "# Initialize baseline model\n",
    "baseline_model = ViTModel(NUM_CLASSES)\n",
    "baseline_optimizer = optim.Adam(baseline_model.parameters(), lr=1e-4)\n",
    "baseline_criterion = nn.CrossEntropyLoss()\n",
    "baseline_trainer = Trainer(baseline_model, baseline_optimizer, baseline_criterion)\n",
    "\n",
    "# Train baseline\n",
    "for epoch in range(NUM_EPOCHS):\n",
    "    print(f\"Baseline Epoch {epoch + 1}/{NUM_EPOCHS}\")\n",
    "    baseline_loss = baseline_trainer.train(full_train_loader)\n",
    "    baseline_val_acc = baseline_trainer.evaluate(full_test_loader)\n",
    "    print(f\"Baseline Loss: {baseline_loss:.4f} | Baseline Acc: {baseline_val_acc:.4f}\")\n",
    "\n",
    "# Test baseline\n",
    "baseline_test_acc = baseline_trainer.evaluate(full_test_loader)\n",
    "results['baseline_all_domains'] = baseline_test_acc\n",
    "print(f\"Baseline Test Accuracy: {baseline_test_acc:.4f}\")\n"
   ]
  },
  {
   "cell_type": "markdown",
   "id": "81b07ec8",
   "metadata": {},
   "source": [
    "### Visual Comparison"
   ]
  },
  {
   "cell_type": "code",
   "execution_count": 13,
   "id": "f0ea7a15",
   "metadata": {},
   "outputs": [
    {
     "data": {
      "image/png": "[encoded data removed]",
      "text/plain": [
       "<Figure size 640x480 with 1 Axes>"
      ]
     },
     "metadata": {},
     "output_type": "display_data"
    }
   ],
   "source": [
    "domains = list(results.keys())\n",
    "accuracies = [results[d] for d in domains]\n",
    "\n",
    "plt.figure()\n",
    "plt.bar(domains, accuracies)\n",
    "plt.xticks(rotation=45, ha='right')\n",
    "plt.ylabel('Accuracy')\n",
    "plt.title('Leave-One-Domain-Out vs. Baseline Accuracy')\n",
    "plt.tight_layout()\n",
    "plt.show()"
   ]
  },
  {
   "cell_type": "markdown",
   "id": "1219b106",
   "metadata": {},
   "source": [
    "### 7. Final Results"
   ]
  },
  {
   "cell_type": "code",
   "execution_count": null,
   "id": "27dfd426",
   "metadata": {},
   "outputs": [
    {
     "name": "stdout",
     "output_type": "stream",
     "text": [
      "\n",
      "📊 Final Results (LODO Accuracy):\n",
      "art_painting: 0.9220\n",
      "cartoon: 0.7974\n",
      "photo: 0.9940\n",
      "sketch: 0.4949\n",
      "baseline_all_domains: 0.9550\n",
      "\n",
      "Average Accuracy: 0.8327\n"
     ]
    }
   ],
   "source": [
    "\n",
    "print(\"\\Final Results (LODO Accuracy):\")\n",
    "for domain, acc in results.items():\n",
    "    print(f\"{domain}: {acc:.4f}\")\n",
    "\n",
    "avg_acc = sum(results.values()) / len(results)\n",
    "print(f\"\\nAverage Accuracy: {avg_acc:.4f}\")\n"
   ]
  }
 ],
 "metadata": {
  "kernelspec": {
   "display_name": "Python 3",
   "language": "python",
   "name": "python3"
  },
  "language_info": {
   "codemirror_mode": {
    "name": "ipython",
    "version": 3
   },
   "file_extension": ".py",
   "mimetype": "text/x-python",
   "name": "python",
   "nbconvert_exporter": "python",
   "pygments_lexer": "ipython3",
   "version": "3.12.0"
  }
 },
 "nbformat": 4,
 "nbformat_minor": 5
}
