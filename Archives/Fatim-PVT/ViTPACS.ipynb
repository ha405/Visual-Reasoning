{
 "cells": [
  {
   "cell_type": "markdown",
   "id": "d25f78ff",
   "metadata": {},
   "source": [
    "# Imports and Configs"
   ]
  },
  {
   "cell_type": "code",
   "execution_count": null,
   "id": "58e14135",
   "metadata": {},
   "outputs": [],
   "source": [
    "import os\n",
    "import torch\n",
    "import torch.nn as nn\n",
    "import torch.optim as optim\n",
    "from torch.utils.data import DataLoader, Subset, ConcatDataset\n",
    "from torchvision import datasets, transforms\n",
    "from transformers import ViTImageProcessor, ViTForImageClassification  # Key: Processor for proper ViT prep!\n",
    "from sklearn.model_selection import train_test_split\n",
    "from tqdm import tqdm\n",
    "import numpy as np\n",
    "import matplotlib.pyplot as plt\n",
    "import random\n",
    "\n",
    "# Constants: Centralize for easy tweaking\n",
    "DEVICE = torch.device(\"cuda\" if torch.cuda.is_available() else \"cpu\")\n",
    "print(f\"Using device: {DEVICE}\")\n",
    "\n",
    "SEED = 42\n",
    "BATCH_SIZE = 24\n",
    "NUM_EPOCHS = 5\n",
    "NUM_CLASSES = 7  # PACS has 7 object classes\n",
    "DATA_ROOT = \"../../../pacs_data/pacs_data\"  # Adjust to your path\n",
    "DOMAINS = [\"art_painting\", \"cartoon\", \"photo\", \"sketch\"]\n",
    "\n",
    "# ViT model variants (pre-trained on ImageNet-21k for better generalization)\n",
    "MODELS = {\n",
    "    \"base\": \"google/vit-base-patch16-224-in21k\",\n",
    "    \"small\": \"WinKawaks/vit-small-patch16-224\",\n",
    "    \"tiny\": \"WinKawaks/vit-tiny-patch16-224\"\n",
    "}\n",
    "\n",
    "# Reproducibility: Seed everything\n",
    "torch.manual_seed(SEED)\n",
    "np.random.seed(SEED)\n",
    "random.seed(SEED)\n",
    "if torch.cuda.is_available():\n",
    "    torch.cuda.manual_seed_all(SEED)"
   ]
  },
  {
   "cell_type": "markdown",
   "id": "116e40a4",
   "metadata": {},
   "source": [
    "# Dataset"
   ]
  },
  {
   "cell_type": "code",
   "execution_count": null,
   "id": "9cf4759e",
   "metadata": {},
   "outputs": [],
   "source": [
    "class PACSDataset:\n",
    "    def __init__(self, data_root: str, domains: list, processor: ViTImageProcessor):\n",
    "        \"\"\"\n",
    "        Initializes the PACS multi-domain dataset.\n",
    "        - data_root: Base path to domain folders.\n",
    "        - domains: List of domain names (e.g., ['photo', 'sketch']).\n",
    "        - processor: ViTImageProcessor for preprocessing (resize, normalize to ImageNet stats).\n",
    "        \"\"\"\n",
    "        self.data_root = data_root\n",
    "        self.domains = domains\n",
    "        self.processor = processor  # Store for use in dataloader\n",
    "\n",
    "    def get_dataloader(self, domain: str, train: bool = True, batch_size: int = BATCH_SIZE) -> DataLoader:\n",
    "        \"\"\"\n",
    "        Creates a DataLoader for a specific domain, with train/val split.\n",
    "        - Splits 80/20 stratified by class labels.\n",
    "        - Applies processor in a custom collate_fn for batch processing.\n",
    "        \"\"\"\n",
    "        # Load full dataset for this domain using ImageFolder (assumes subfolders = classes)\n",
    "        full_dataset = datasets.ImageFolder(\n",
    "            root=os.path.join(self.data_root, domain),\n",
    "            transform=None  # We'll process in collate_fn to batch it efficiently\n",
    "        )\n",
    "        \n",
    "        # Stratified split: Ensure class balance in train/val\n",
    "        indices = list(range(len(full_dataset)))\n",
    "        targets = [full_dataset.targets[i] for i in indices]\n",
    "        train_idx, val_idx = train_test_split(\n",
    "            indices, test_size=0.2, stratify=targets, random_state=SEED\n",
    "        )\n",
    "        selected_idx = train_idx if train else val_idx\n",
    "        \n",
    "        # Subset the dataset\n",
    "        subset = Subset(full_dataset, selected_idx)\n",
    "        \n",
    "        # Custom collate_fn: Load PIL -> process -> tensor for ViT\n",
    "        def collate_fn(batch):\n",
    "            images, labels = zip(*batch)  # Unpack (PIL image, label) tuples\n",
    "            # Process batch of PIL images\n",
    "            inputs = self.processor(images, return_tensors=\"pt\")\n",
    "            labels = torch.tensor(labels)\n",
    "            return {\"pixel_values\": inputs[\"pixel_values\"], \"labels\": labels}\n",
    "        \n",
    "        # Create loader: Shuffle for train, parallel workers for speed\n",
    "        loader = DataLoader(\n",
    "            subset, batch_size=batch_size, shuffle=train,\n",
    "            num_workers=4, collate_fn=collate_fn, pin_memory=True  # pin_memory for faster GPU transfer\n",
    "        )\n",
    "        return loader"
   ]
  }
 ],
 "metadata": {
  "kernelspec": {
   "display_name": "Python 3",
   "language": "python",
   "name": "python3"
  },
  "language_info": {
   "name": "python",
   "version": "3.13.1"
  }
 },
 "nbformat": 4,
 "nbformat_minor": 5
}
