{
 "cells": [
  {
   "cell_type": "markdown",
   "id": "8dbf577d",
   "metadata": {},
   "source": [
    "# Imports and Setup"
   ]
  },
  {
   "cell_type": "code",
   "execution_count": null,
   "id": "8b168c9d",
   "metadata": {
    "vscode": {
     "languageId": "plaintext"
    }
   },
   "outputs": [],
   "source": [
    "import os\n",
    "import sys\n",
    "import numpy as np\n",
    "import matplotlib.pyplot as plt\n",
    "from IPython.display import display, Image\n",
    "import random\n",
    "import torch\n",
    "\n",
    "# Add src to path to import modules\n",
    "sys.path.append(os.path.abspath(os.path.join('..', 'src')))\n",
    "\n",
    "from src import config\n",
    "from src.train_phase1 import run_phase1\n",
    "from src.phase1_utils import compute_and_save_importance, create_consensus_mask, get_param_names\n",
    "from src.visualization import plot_matrix\n",
    "from src.train_phase2 import run_phase2_lodo\n",
    "from src.models import FeedForwardHead\n",
    "\n",
    "# --- Reproducibility ---\n",
    "random.seed(config.SEED)\n",
    "np.random.seed(config.SEED)\n",
    "torch.manual_seed(config.SEED)\n",
    "if torch.cuda.is_available():\n",
    "    torch.cuda.manual_seed_all(config.SEED)\n",
    "\n",
    "print(\"Setup complete. Using config:\")\n",
    "print(f\"  - Device: {config.DEVICE}\")\n",
    "print(f\"  - Domains: {config.DOMAINS}\")\n",
    "print(f\"  - Phase 1 Domains for Importance: {config.PH1_DOMAINS}\")"
   ]
  },
  {
   "cell_type": "markdown",
   "id": "aecc29c3",
   "metadata": {},
   "source": [
    "# Running Phase 1"
   ]
  },
  {
   "cell_type": "code",
   "execution_count": null,
   "id": "11df12b3",
   "metadata": {
    "vscode": {
     "languageId": "plaintext"
    }
   },
   "outputs": [],
   "source": [
    "# This will take some time to run. It trains 3 separate models.\n",
    "run_phase1()"
   ]
  },
  {
   "cell_type": "markdown",
   "id": "171ce70a",
   "metadata": {},
   "source": [
    "# Compute Importance and Create Consensus Masks"
   ]
  },
  {
   "cell_type": "code",
   "execution_count": null,
   "id": "983a1a56",
   "metadata": {
    "vscode": {
     "languageId": "plaintext"
    }
   },
   "outputs": [],
   "source": [
    "# Instantiate a temporary model to get parameter names\n",
    "ffn_temp = FeedForwardHead(config.EMBEDDING_DIM)\n",
    "param_names = get_param_names(ffn_temp)\n",
    "\n",
    "# 1. Compute per-domain importance\n",
    "for domain in config.PH1_DOMAINS:\n",
    "    print(f\"\\nComputing importance for domain: {domain}\")\n",
    "    for name in param_names:\n",
    "        compute_and_save_importance(domain, name)\n",
    "\n",
    "# 2. Create consensus masks\n",
    "print(\"\\nCreating consensus masks...\")\n",
    "for name in param_names:\n",
    "    create_consensus_mask(name, domains=config.PH1_DOMAINS)\n",
    "\n",
    "print(\"\\nImportance and consensus masks generated successfully.\")"
   ]
  },
  {
   "cell_type": "markdown",
   "id": "140554e0",
   "metadata": {},
   "source": [
    "# Visualize Weights and Importance Masks"
   ]
  },
  {
   "cell_type": "code",
   "execution_count": null,
   "id": "c412113c",
   "metadata": {
    "vscode": {
     "languageId": "plaintext"
    }
   },
   "outputs": [],
   "source": [
    "def visualize_all(param_name):\n",
    "    filename_base = param_name.replace('.', '_')\n",
    "    \n",
    "    # --- Visualize Initial and Final Weights ---\n",
    "    initial_w = np.load(os.path.join(config.PHASE1_WEIGHTS_DIR, \"initial\", f\"{filename_base}.npy\"))\n",
    "    plot_matrix(initial_w, \n",
    "                os.path.join(config.PLOTS_DIR, \"initial\", f\"{filename_base}.png\"), \n",
    "                f\"Initial Shared - {param_name}\")\n",
    "    \n",
    "    for domain in config.PH1_DOMAINS:\n",
    "        final_w = np.load(os.path.join(config.PHASE1_WEIGHTS_DIR, \"final\", f\"domain_{domain}\", f\"{filename_base}.npy\"))\n",
    "        plot_matrix(final_w, \n",
    "                    os.path.join(config.PLOTS_DIR, f\"final_{domain}\", f\"{filename_base}.png\"), \n",
    "                    f\"Final {domain} - {param_name}\")\n",
    "\n",
    "    # --- Visualize Importance Masks (Norm and Binary) ---\n",
    "    for domain in config.PH1_DOMAINS:\n",
    "        norm_mask = np.load(os.path.join(config.PHASE1_IMPORTANCE_DIR, f\"domain_{domain}\", f\"{filename_base}_norm.npy\"))\n",
    "        binary_mask = np.load(os.path.join(config.PHASE1_IMPORTANCE_DIR, f\"domain_{domain}\", f\"{filename_base}_binary.npy\"))\n",
    "        \n",
    "        plot_matrix(norm_mask, os.path.join(config.PLOTS_DIR, f\"importance_{domain}\", f\"{filename_base}_norm.png\"), \n",
    "                    f\"Importance Norm {domain} - {param_name}\", vmin=0, vmax=1)\n",
    "        plot_matrix(binary_mask, os.path.join(config.PLOTS_DIR, f\"importance_{domain}\", f\"{filename_base}_binary.png\"),\n",
    "                    f\"Importance Binary {domain} - {param_name}\", cmap='gray_r', vmin=0, vmax=1)\n",
    "\n",
    "    # --- Visualize Consensus Masks ---\n",
    "    consensus_norm = np.load(os.path.join(config.PHASE1_IMPORTANCE_DIR, \"consensus\", f\"{filename_base}_norm.npy\"))\n",
    "    consensus_binary = np.load(os.path.join(config.PHASE1_IMPORTANCE_DIR, \"consensus\", f\"{filename_base}_binary.npy\"))\n",
    "\n",
    "    plot_matrix(consensus_norm, os.path.join(config.PLOTS_DIR, \"consensus\", f\"{filename_base}_norm.png\"),\n",
    "                f\"Consensus Norm - {param_name}\", vmin=0, vmax=1)\n",
    "    plot_matrix(consensus_binary, os.path.join(config.PLOTS_DIR, \"consensus\", f\"{filename_base}_binary.png\"),\n",
    "                f\"Consensus Binary - {param_name}\", cmap='gray_r', vmin=0, vmax=1)\n",
    "\n",
    "# Generate plots for the first hidden layer weight as an example\n",
    "example_param = 'layers.0.weight'\n",
    "visualize_all(example_param)\n",
    "\n",
    "# Display the final consensus mask for inspection\n",
    "print(f\"Displaying Consensus Binary Mask for '{example_param}':\")\n",
    "display(Image(filename=os.path.join(config.PLOTS_DIR, \"consensus\", f\"{example_param.replace('.', '_')}_binary.png\")))"
   ]
  },
  {
   "cell_type": "markdown",
   "id": "f6a3e5c1",
   "metadata": {},
   "source": [
    "# Run Phase 2 LODO Training"
   ]
  },
  {
   "cell_type": "code",
   "execution_count": null,
   "id": "8d4a16fc",
   "metadata": {
    "vscode": {
     "languageId": "plaintext"
    }
   },
   "outputs": [],
   "source": [
    "lodo_results = {}\n",
    "\n",
    "for test_domain in config.DOMAINS:\n",
    "    train_domains = [d for d in config.DOMAINS if d != test_domain]\n",
    "    \n",
    "    test_accuracy = run_phase2_lodo(train_domains, test_domain)\n",
    "    lodo_results[test_domain] = test_accuracy"
   ]
  },
  {
   "cell_type": "markdown",
   "id": "8742e26b",
   "metadata": {},
   "source": [
    "# Final Results Summary"
   ]
  },
  {
   "cell_type": "code",
   "execution_count": null,
   "id": "4177a2b0",
   "metadata": {
    "vscode": {
     "languageId": "plaintext"
    }
   },
   "outputs": [],
   "source": [
    "print(\"--- LODO Final Results ---\")\n",
    "total_acc = 0\n",
    "for domain, acc in lodo_results.items():\n",
    "    print(f\"  - Accuracy on held-out '{domain}': {acc:.4f}\")\n",
    "    total_acc += acc\n",
    "\n",
    "avg_acc = total_acc / len(lodo_results)\n",
    "print(f\"\\nAverage LODO Accuracy: {avg_acc:.4f}\")\n",
    "\n",
    "# You can also create a plot here if you wish\n",
    "plt.figure(figsize=(8, 5))\n",
    "plt.bar(lodo_results.keys(), lodo_results.values())\n",
    "plt.ylabel(\"Accuracy\")\n",
    "plt.title(\"Leave-One-Domain-Out Test Accuracy\")\n",
    "plt.ylim(0, 1)\n",
    "for i, (domain, acc) in enumerate(lodo_results.items()):\n",
    "    plt.text(i, acc + 0.01, f\"{acc:.2%}\", ha='center')\n",
    "plt.show()"
   ]
  }
 ],
 "metadata": {
  "language_info": {
   "name": "python"
  }
 },
 "nbformat": 4,
 "nbformat_minor": 5
}
