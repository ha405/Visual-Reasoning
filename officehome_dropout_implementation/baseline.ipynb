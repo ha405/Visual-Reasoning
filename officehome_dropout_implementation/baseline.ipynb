{
 "cells": [
  {
   "cell_type": "code",
   "execution_count": 31,
   "metadata": {
    "_cell_guid": "b1076dfc-b9ad-4769-8c92-a6c4dae69d19",
    "_uuid": "8f2839f25d086af736a60e9eeb907d3b93b6e0e5",
    "execution": {
     "iopub.execute_input": "2025-10-10T17:46:14.978369Z",
     "iopub.status.busy": "2025-10-10T17:46:14.978011Z",
     "iopub.status.idle": "2025-10-10T17:46:14.988562Z",
     "shell.execute_reply": "2025-10-10T17:46:14.987908Z",
     "shell.execute_reply.started": "2025-10-10T17:46:14.978343Z"
    },
    "trusted": true
   },
   "outputs": [
    {
     "name": "stdout",
     "output_type": "stream",
     "text": [
      "--- Project Configuration (BASELINE) ---\n",
      "DATA_DIR: D:\\Haseeb\\Datasets\\VLCS\n",
      "DOMAINS: ['Caltech101', 'LabelMe', 'SUN09', 'VOC2007']\n",
      "MODEL_NAME: WinKawaks/vit-tiny-patch16-224\n",
      "NUM_CLASSES: 5\n",
      "NUM_HEADS: 1\n",
      "DROPOUT_RATE: 0.5\n",
      "BATCH_SIZE: 128\n",
      "NUM_EPOCHS: 5\n",
      "LEARNING_RATE: 0.0001\n",
      "OPTIMIZER: AdamW\n",
      "DEVICE: cuda\n",
      "SEED: 42\n",
      "--------------------------------------\n",
      "Device: cuda\n",
      "\n",
      "Project scaffolding is complete. Ready for Section 2.\n"
     ]
    }
   ],
   "source": [
    "# =================================================================================\n",
    "# SECTION 1: PROJECT SCAFFOLDING & CONFIGURATION (BASELINE)\n",
    "# =================================================================================\n",
    "\n",
    "# ---------------------------------------------------------------------------------\n",
    "# 1.1: IMPORTS\n",
    "# ---------------------------------------------------------------------------------\n",
    "import os\n",
    "import numpy as np\n",
    "import pandas as pd\n",
    "import torch\n",
    "import torch.nn as nn\n",
    "from torch.utils.data import Dataset, DataLoader\n",
    "from torchvision import transforms\n",
    "from transformers import ViTModel, ViTConfig\n",
    "from PIL import Image\n",
    "from tqdm.notebook import tqdm\n",
    "import matplotlib.pyplot as plt\n",
    "import seaborn as sns\n",
    "from collections import defaultdict\n",
    "import copy\n",
    "\n",
    "# Set a seed for reproducibility\n",
    "torch.manual_seed(42)\n",
    "np.random.seed(42)\n",
    "\n",
    "# ---------------------------------------------------------------------------------\n",
    "# 1.2: CONFIGURATION CLASS\n",
    "# ---------------------------------------------------------------------------------\n",
    "class Config:\n",
    "    # --- Data Paths and Domains ---\n",
    "    DATA_DIR = r\"D:\\Haseeb\\Datasets\\VLCS\" # Make sure this path is correct for your dataset\n",
    "    DOMAINS = [\"Caltech101\", \"LabelMe\", \"SUN09\", \"VOC2007\"]\n",
    "    \n",
    "    # --- Model & Architecture ---\n",
    "    MODEL_NAME = \"WinKawaks/vit-tiny-patch16-224\"\n",
    "    NUM_CLASSES = 5\n",
    "    ### CHANGE ###\n",
    "    NUM_HEADS = 1 # A baseline model has only one classification head.\n",
    "    DROPOUT_RATE = 0.5\n",
    "    \n",
    "    # --- Training Hyperparameters ---\n",
    "    BATCH_SIZE = 128\n",
    "    NUM_EPOCHS = 5\n",
    "    LEARNING_RATE = 1e-4\n",
    "    OPTIMIZER = \"AdamW\"\n",
    "    \n",
    "    # --- Hardware & Reproducibility ---\n",
    "    DEVICE = \"cuda\" if torch.cuda.is_available() else \"cpu\"\n",
    "    SEED = 42\n",
    "\n",
    "# Instantiate the config\n",
    "config = Config()\n",
    "\n",
    "# Print out the configuration to verify\n",
    "print(\"--- Project Configuration (BASELINE) ---\")\n",
    "for key, value in config.__class__.__dict__.items():\n",
    "    if not key.startswith('__'):\n",
    "        print(f\"{key}: {value}\")\n",
    "print(\"--------------------------------------\")\n",
    "print(f\"Device: {config.DEVICE}\")\n",
    "\n",
    "# ---------------------------------------------------------------------------------\n",
    "# 1.3: RESULTS TRACKER\n",
    "# ---------------------------------------------------------------------------------\n",
    "experiment_results = []\n",
    "\n",
    "print(\"\\nProject scaffolding is complete. Ready for Section 2.\")"
   ]
  },
  {
   "cell_type": "code",
   "execution_count": 32,
   "metadata": {
    "execution": {
     "iopub.execute_input": "2025-10-10T17:46:14.990260Z",
     "iopub.status.busy": "2025-10-10T17:46:14.989766Z",
     "iopub.status.idle": "2025-10-10T17:46:15.056232Z",
     "shell.execute_reply": "2025-10-10T17:46:15.055488Z",
     "shell.execute_reply.started": "2025-10-10T17:46:14.990241Z"
    },
    "trusted": true
   },
   "outputs": [],
   "source": [
    "# =================================================================================\n",
    "# SECTION 2: DATA LOADING & PREPROCESSING (BASELINE)\n",
    "# =================================================================================\n",
    "# (This section is identical to the previous notebook)\n",
    "\n",
    "# ---------------------------------------------------------------------------------\n",
    "# 2.1: IMAGE TRANSFORMATIONS\n",
    "# ---------------------------------------------------------------------------------\n",
    "IMG_SIZE = 224\n",
    "data_transforms = {\n",
    "    'train': transforms.Compose([\n",
    "        transforms.Resize((IMG_SIZE, IMG_SIZE)),\n",
    "        transforms.RandomHorizontalFlip(),\n",
    "        transforms.ToTensor(),\n",
    "        transforms.Normalize(mean=[0.5, 0.5, 0.5], std=[0.5, 0.5, 0.5])\n",
    "    ]),\n",
    "    'val': transforms.Compose([\n",
    "        transforms.Resize((IMG_SIZE, IMG_SIZE)),\n",
    "        transforms.ToTensor(),\n",
    "        transforms.Normalize(mean=[0.5, 0.5, 0.5], std=[0.5, 0.5, 0.5])\n",
    "    ]),\n",
    "}\n",
    "\n",
    "# =================================================================================\n",
    "# SECTION 2.2: CUSTOM VLCS DATASET CLASS (ROBUST \"REPLACE WITH RANDOM\")\n",
    "# =================================================================================\n",
    "# Replace the old Dataset class in Section 2 with this new version.\n",
    "\n",
    "import random # Make sure to import the 'random' library at the top of the cell.\n",
    "\n",
    "### CHANGE 1: Renamed the class to VLCSDataset ###\n",
    "class VLCSDataset(Dataset):\n",
    "    def __init__(self, root_dir, domains, transform=None):\n",
    "        self.root_dir = root_dir\n",
    "        self.domains = domains\n",
    "        self.transform = transform\n",
    "        self.image_paths = []\n",
    "        self.labels = []\n",
    "        ### CHANGE 2: Add a counter for corrupted images ###\n",
    "        self.corrupted_images_count = 0\n",
    "        \n",
    "        try:\n",
    "            self.classes = sorted(os.listdir(os.path.join(root_dir, domains[0])))\n",
    "            self.class_to_idx = {cls_name: i for i, cls_name in enumerate(self.classes)}\n",
    "        except FileNotFoundError:\n",
    "            print(f\"Error: Could not find domain folder at {os.path.join(root_dir, domains[0])}\")\n",
    "            print(\"Please ensure your DATA_DIR and DOMAINS in the Config class are correct.\")\n",
    "            raise\n",
    "\n",
    "        for domain in self.domains:\n",
    "            domain_path = os.path.join(self.root_dir, domain)\n",
    "            for class_name in self.classes:\n",
    "                class_path = os.path.join(domain_path, class_name)\n",
    "                if os.path.isdir(class_path):\n",
    "                    for img_name in os.listdir(class_path):\n",
    "                        self.image_paths.append(os.path.join(class_path, img_name))\n",
    "                        self.labels.append(self.class_to_idx[class_name])\n",
    "\n",
    "    def __len__(self):\n",
    "        return len(self.image_paths)\n",
    "\n",
    "    def __getitem__(self, idx):\n",
    "        try:\n",
    "            img_path = self.image_paths[idx]\n",
    "            image = Image.open(img_path).convert('RGB')\n",
    "            label = self.labels[idx]\n",
    "        except (OSError, IOError) as e:\n",
    "            ### CHANGE 3: Increment the counter and replace with a random image ###\n",
    "            self.corrupted_images_count += 1\n",
    "            # You can uncomment the print statement below for verbose debugging if you want\n",
    "            # print(f\"Warning: Corrupted image at {img_path}. Replacing with random. Total corrupt: {self.corrupted_images_count}\")\n",
    "            \n",
    "            # Pick a new random index\n",
    "            new_idx = random.randint(0, len(self) - 1)\n",
    "            # Recursively call __getitem__ with the new index.\n",
    "            return self.__getitem__(new_idx)\n",
    "\n",
    "        # The transformation part remains the same\n",
    "        if self.transform:\n",
    "            image = self.transform(image)\n",
    "            \n",
    "        return image, label\n",
    "\n",
    "# =================================================================================\n",
    "# SECTION 2.3: DATALOADER HELPER FUNCTION (NEW 80/20 SPLIT VERSION)\n",
    "# =================================================================================\n",
    "# Replace the old get_dataloaders function in Section 2 of BOTH notebooks with this.\n",
    "\n",
    "from torch.utils.data import Subset\n",
    "from sklearn.model_selection import train_test_split\n",
    "\n",
    "def get_dataloaders(root_dir, target_domain, all_domains, batch_size, seed):\n",
    "    \"\"\"\n",
    "    Creates dataloaders for a LODO split using an 80/20 split on the source domains.\n",
    "    \"\"\"\n",
    "    source_domains = [d for d in all_domains if d != target_domain]\n",
    "    \n",
    "    print(f\"--- Creating DataLoaders (80/20 Split Strategy) ---\")\n",
    "    print(f\"Target (Test) Domain: {target_domain}\")\n",
    "    print(f\"Source Domains for Train/Val: {source_domains}\")\n",
    "    \n",
    "    # 1. Create a single, large dataset by combining all source domains\n",
    "    source_dataset = VLCSDataset(\n",
    "        root_dir=root_dir, \n",
    "        domains=source_domains, \n",
    "        transform=data_transforms['train'] # Use training transforms for the whole source\n",
    "    )\n",
    "    \n",
    "    # We need to perform a stratified split to ensure the train and val sets\n",
    "    # have a similar distribution of classes.\n",
    "    indices = list(range(len(source_dataset)))\n",
    "    labels = source_dataset.labels\n",
    "    \n",
    "    # Use sklearn's train_test_split to get indices for an 80% train / 20% val split\n",
    "    train_idx, val_idx = train_test_split(\n",
    "        indices, \n",
    "        test_size=0.2, \n",
    "        stratify=labels, \n",
    "        random_state=seed\n",
    "    )\n",
    "    \n",
    "    # 2. Create the training and validation subsets\n",
    "    train_subset = Subset(source_dataset, train_idx)\n",
    "    val_subset = Subset(source_dataset, val_idx)\n",
    "    \n",
    "    # Important: The validation subset should not use training augmentations (like RandomFlip).\n",
    "    # We create a new dataset object for validation with the correct transforms.\n",
    "    # This is a cleaner way to handle transforms for subsets.\n",
    "    val_dataset_clean = VLCSDataset(root_dir=root_dir, domains=source_domains, transform=data_transforms['val'])\n",
    "    val_subset_final = Subset(val_dataset_clean, val_idx)\n",
    "    \n",
    "    # 3. Create the test dataset from the full target domain\n",
    "    test_dataset = VLCSDataset(\n",
    "        root_dir=root_dir, \n",
    "        domains=[target_domain], \n",
    "        transform=data_transforms['val']\n",
    "    )\n",
    "\n",
    "    # 4. Create the DataLoaders\n",
    "    train_loader = DataLoader(train_subset, batch_size=batch_size, shuffle=True, num_workers=0)\n",
    "    val_loader = DataLoader(val_subset_final, batch_size=batch_size, shuffle=False, num_workers=0)\n",
    "    test_loader = DataLoader(test_dataset, batch_size=batch_size, shuffle=False, num_workers=0)\n",
    "    \n",
    "    print(f\"Source data size: {len(source_dataset)}\")\n",
    "    print(f\"  -> Training on: {len(train_subset)} images (80%)\")\n",
    "    print(f\"  -> Validating on: {len(val_subset_final)} images (20%)\")\n",
    "    print(f\"Testing on full '{target_domain}' domain: {len(test_dataset)} images\")\n",
    "    print(\"----------------------------------------------------\")\n",
    "    \n",
    "    return train_loader, val_loader, test_loader"
   ]
  },
  {
   "cell_type": "code",
   "execution_count": 33,
   "metadata": {
    "execution": {
     "iopub.execute_input": "2025-10-10T17:46:15.057210Z",
     "iopub.status.busy": "2025-10-10T17:46:15.056948Z",
     "iopub.status.idle": "2025-10-10T17:46:15.062269Z",
     "shell.execute_reply": "2025-10-10T17:46:15.061567Z",
     "shell.execute_reply.started": "2025-10-10T17:46:15.057187Z"
    },
    "trusted": true
   },
   "outputs": [],
   "source": [
    "# =================================================================================\n",
    "# SECTION 3: THE MODEL ARCHITECTURE (BASELINE)\n",
    "# =================================================================================\n",
    "\n",
    "### CHANGE ###\n",
    "# Renamed to BaselineViT and simplified for a single head.\n",
    "\n",
    "class BaselineViT(nn.Module):\n",
    "    def __init__(self, model_name, num_classes, dropout_rate):\n",
    "        super(BaselineViT, self).__init__()\n",
    "        \n",
    "        self.vit_backbone = ViTModel.from_pretrained(model_name)\n",
    "        hidden_dim = self.vit_backbone.config.hidden_size\n",
    "        \n",
    "        ### CHANGE ###\n",
    "        # We only create a single head now, not a ModuleList.\n",
    "        self.head = nn.Sequential(\n",
    "            nn.Dropout(dropout_rate),\n",
    "            nn.Linear(hidden_dim, num_classes)\n",
    "        )\n",
    "        \n",
    "    def forward(self, images):\n",
    "        outputs = self.vit_backbone(pixel_values=images)\n",
    "        feature_vector_z = outputs.last_hidden_state[:, 0, :]\n",
    "        \n",
    "        ### CHANGE ###\n",
    "        # The forward pass is simpler: just pass through the single head\n",
    "        # and return the final logits tensor directly.\n",
    "        logits = self.head(feature_vector_z)\n",
    "        return logits"
   ]
  },
  {
   "cell_type": "code",
   "execution_count": 34,
   "metadata": {
    "execution": {
     "iopub.execute_input": "2025-10-10T17:46:15.083047Z",
     "iopub.status.busy": "2025-10-10T17:46:15.082859Z",
     "iopub.status.idle": "2025-10-10T17:46:15.089929Z",
     "shell.execute_reply": "2025-10-10T17:46:15.089409Z",
     "shell.execute_reply.started": "2025-10-10T17:46:15.083032Z"
    },
    "trusted": true
   },
   "outputs": [],
   "source": [
    "# =================================================================================\n",
    "# SECTION 4: TRAINING & EVALUATION LOGIC (BASELINE)\n",
    "# =================================================================================\n",
    "\n",
    "### CHANGE ###\n",
    "# This is now a standard, simple training loop. No competition, no winner selection.\n",
    "\n",
    "def train_one_epoch(model, train_loader, optimizer, criterion, device):\n",
    "    model.train()\n",
    "    total_loss = 0.0\n",
    "    \n",
    "    progress_bar = tqdm(train_loader, desc=\"Training Epoch\", leave=False)\n",
    "\n",
    "    for images, labels in progress_bar:\n",
    "        images = images.to(device)\n",
    "        labels = labels.to(device)\n",
    "        \n",
    "        # Forward pass\n",
    "        logits = model(images)\n",
    "        loss = criterion(logits, labels)\n",
    "        \n",
    "        # Backward pass and optimization\n",
    "        optimizer.zero_grad()\n",
    "        loss.backward()\n",
    "        optimizer.step()\n",
    "        \n",
    "        total_loss += loss.item()\n",
    "\n",
    "    avg_loss = total_loss / len(train_loader)\n",
    "    return {\"avg_train_loss\": avg_loss}\n",
    "\n",
    "\n",
    "### CHANGE ###\n",
    "# The evaluation function is simplified. No ensembling is needed.\n",
    "\n",
    "def evaluate(model, data_loader, criterion, device):\n",
    "    model.eval()\n",
    "    total_loss = 0.0\n",
    "    correct_preds = 0\n",
    "    total_samples = 0\n",
    "\n",
    "    with torch.no_grad():\n",
    "        progress_bar = tqdm(data_loader, desc=\"Evaluating\", leave=False)\n",
    "        for images, labels in progress_bar:\n",
    "            images = images.to(device)\n",
    "            labels = labels.to(device)\n",
    "            total_samples += labels.size(0)\n",
    "\n",
    "            # Forward pass\n",
    "            logits = model(images)\n",
    "            \n",
    "            # Calculate loss\n",
    "            loss = criterion(logits, labels)\n",
    "            total_loss += loss.item()\n",
    "            \n",
    "            # Calculate accuracy\n",
    "            _, preds = torch.max(logits, 1)\n",
    "            correct_preds += torch.sum(preds == labels).item()\n",
    "\n",
    "    avg_loss = total_loss / len(data_loader)\n",
    "    accuracy = correct_preds / total_samples\n",
    "    \n",
    "    return {\"avg_loss\": avg_loss, \"accuracy\": accuracy}"
   ]
  },
  {
   "cell_type": "code",
   "execution_count": 35,
   "metadata": {
    "execution": {
     "iopub.execute_input": "2025-10-10T17:46:15.091603Z",
     "iopub.status.busy": "2025-10-10T17:46:15.091220Z",
     "iopub.status.idle": "2025-10-10T17:56:39.692848Z",
     "shell.execute_reply": "2025-10-10T17:56:39.692030Z",
     "shell.execute_reply.started": "2025-10-10T17:46:15.091585Z"
    },
    "trusted": true
   },
   "outputs": [
    {
     "name": "stdout",
     "output_type": "stream",
     "text": [
      "==============================================================\n",
      "  STARTING LODO EXPERIMENT: Target Domain = CALTECH101\n",
      "==============================================================\n",
      "--- Creating DataLoaders (80/20 Split Strategy) ---\n",
      "Target (Test) Domain: Caltech101\n",
      "Source Domains for Train/Val: ['LabelMe', 'SUN09', 'VOC2007']\n",
      "Source data size: 9314\n",
      "  -> Training on: 7451 images (80%)\n",
      "  -> Validating on: 1863 images (20%)\n",
      "Testing on full 'Caltech101' domain: 1415 images\n",
      "----------------------------------------------------\n"
     ]
    },
    {
     "name": "stderr",
     "output_type": "stream",
     "text": [
      "Some weights of ViTModel were not initialized from the model checkpoint at WinKawaks/vit-tiny-patch16-224 and are newly initialized: ['pooler.dense.bias', 'pooler.dense.weight']\n",
      "You should probably TRAIN this model on a down-stream task to be able to use it for predictions and inference.\n"
     ]
    },
    {
     "name": "stdout",
     "output_type": "stream",
     "text": [
      "\n",
      "--- Epoch 1/5 ---\n"
     ]
    },
    {
     "data": {
      "application/vnd.jupyter.widget-view+json": {
       "model_id": "8d36fc49809f4cec8240d94092bb5340",
       "version_major": 2,
       "version_minor": 0
      },
      "text/plain": [
       "Training Epoch:   0%|          | 0/59 [00:00<?, ?it/s]"
      ]
     },
     "metadata": {},
     "output_type": "display_data"
    },
    {
     "data": {
      "application/vnd.jupyter.widget-view+json": {
       "model_id": "d024560d7df84d99b790e282c2def5a2",
       "version_major": 2,
       "version_minor": 0
      },
      "text/plain": [
       "Evaluating:   0%|          | 0/15 [00:00<?, ?it/s]"
      ]
     },
     "metadata": {},
     "output_type": "display_data"
    },
    {
     "name": "stdout",
     "output_type": "stream",
     "text": [
      "Epoch 1 Summary:\n",
      "  Train Loss: 1.0712\n",
      "  Validation Loss: 0.5773\n",
      "  Validation Accuracy: 0.7933\n",
      "  New best validation accuracy! Saving model state.\n",
      "\n",
      "--- Epoch 2/5 ---\n"
     ]
    },
    {
     "data": {
      "application/vnd.jupyter.widget-view+json": {
       "model_id": "e80d638e0e4241d2b39336620493737a",
       "version_major": 2,
       "version_minor": 0
      },
      "text/plain": [
       "Training Epoch:   0%|          | 0/59 [00:00<?, ?it/s]"
      ]
     },
     "metadata": {},
     "output_type": "display_data"
    },
    {
     "data": {
      "application/vnd.jupyter.widget-view+json": {
       "model_id": "e5be9cf757b94366b01a747e8aa0b0b2",
       "version_major": 2,
       "version_minor": 0
      },
      "text/plain": [
       "Evaluating:   0%|          | 0/15 [00:00<?, ?it/s]"
      ]
     },
     "metadata": {},
     "output_type": "display_data"
    },
    {
     "name": "stdout",
     "output_type": "stream",
     "text": [
      "Epoch 2 Summary:\n",
      "  Train Loss: 0.5434\n",
      "  Validation Loss: 0.5093\n",
      "  Validation Accuracy: 0.8213\n",
      "  New best validation accuracy! Saving model state.\n",
      "\n",
      "--- Epoch 3/5 ---\n"
     ]
    },
    {
     "data": {
      "application/vnd.jupyter.widget-view+json": {
       "model_id": "ce5bc5980e30435fb77329d7e30c149f",
       "version_major": 2,
       "version_minor": 0
      },
      "text/plain": [
       "Training Epoch:   0%|          | 0/59 [00:00<?, ?it/s]"
      ]
     },
     "metadata": {},
     "output_type": "display_data"
    },
    {
     "data": {
      "application/vnd.jupyter.widget-view+json": {
       "model_id": "1c9b7f7ac5ef4fdc9c31fb52eb11c35e",
       "version_major": 2,
       "version_minor": 0
      },
      "text/plain": [
       "Evaluating:   0%|          | 0/15 [00:00<?, ?it/s]"
      ]
     },
     "metadata": {},
     "output_type": "display_data"
    },
    {
     "name": "stdout",
     "output_type": "stream",
     "text": [
      "Epoch 3 Summary:\n",
      "  Train Loss: 0.4155\n",
      "  Validation Loss: 0.5400\n",
      "  Validation Accuracy: 0.8175\n",
      "\n",
      "--- Epoch 4/5 ---\n"
     ]
    },
    {
     "data": {
      "application/vnd.jupyter.widget-view+json": {
       "model_id": "7603523d77d64884a00a1be471672747",
       "version_major": 2,
       "version_minor": 0
      },
      "text/plain": [
       "Training Epoch:   0%|          | 0/59 [00:00<?, ?it/s]"
      ]
     },
     "metadata": {},
     "output_type": "display_data"
    },
    {
     "data": {
      "application/vnd.jupyter.widget-view+json": {
       "model_id": "1197dabd065d46e2a14954a6fda8fd08",
       "version_major": 2,
       "version_minor": 0
      },
      "text/plain": [
       "Evaluating:   0%|          | 0/15 [00:00<?, ?it/s]"
      ]
     },
     "metadata": {},
     "output_type": "display_data"
    },
    {
     "name": "stdout",
     "output_type": "stream",
     "text": [
      "Epoch 4 Summary:\n",
      "  Train Loss: 0.3049\n",
      "  Validation Loss: 0.5589\n",
      "  Validation Accuracy: 0.8148\n",
      "\n",
      "--- Epoch 5/5 ---\n"
     ]
    },
    {
     "data": {
      "application/vnd.jupyter.widget-view+json": {
       "model_id": "502e428e6af444228af082f769cc5382",
       "version_major": 2,
       "version_minor": 0
      },
      "text/plain": [
       "Training Epoch:   0%|          | 0/59 [00:00<?, ?it/s]"
      ]
     },
     "metadata": {},
     "output_type": "display_data"
    },
    {
     "data": {
      "application/vnd.jupyter.widget-view+json": {
       "model_id": "8de1ba8aed864cc398e9719a79b27554",
       "version_major": 2,
       "version_minor": 0
      },
      "text/plain": [
       "Evaluating:   0%|          | 0/15 [00:00<?, ?it/s]"
      ]
     },
     "metadata": {},
     "output_type": "display_data"
    },
    {
     "name": "stdout",
     "output_type": "stream",
     "text": [
      "Epoch 5 Summary:\n",
      "  Train Loss: 0.2301\n",
      "  Validation Loss: 0.6538\n",
      "  Validation Accuracy: 0.8154\n",
      "\n",
      "Training complete for this LODO split.\n",
      "Loading best model state and evaluating on the TEST set...\n"
     ]
    },
    {
     "data": {
      "application/vnd.jupyter.widget-view+json": {
       "model_id": "d7b80be746eb40d9a8949561ba37fe8a",
       "version_major": 2,
       "version_minor": 0
      },
      "text/plain": [
       "Evaluating:   0%|          | 0/12 [00:00<?, ?it/s]"
      ]
     },
     "metadata": {},
     "output_type": "display_data"
    },
    {
     "name": "stdout",
     "output_type": "stream",
     "text": [
      "\n",
      "--- RESULTS FOR TARGET DOMAIN: CALTECH101 ---\n",
      "  Test Accuracy: 0.9795\n",
      "--------------------------------------------------\n",
      "==============================================================\n",
      "  STARTING LODO EXPERIMENT: Target Domain = LABELME\n",
      "==============================================================\n",
      "--- Creating DataLoaders (80/20 Split Strategy) ---\n",
      "Target (Test) Domain: LabelMe\n",
      "Source Domains for Train/Val: ['Caltech101', 'SUN09', 'VOC2007']\n",
      "Source data size: 8073\n",
      "  -> Training on: 6458 images (80%)\n",
      "  -> Validating on: 1615 images (20%)\n",
      "Testing on full 'LabelMe' domain: 2656 images\n",
      "----------------------------------------------------\n"
     ]
    },
    {
     "name": "stderr",
     "output_type": "stream",
     "text": [
      "Some weights of ViTModel were not initialized from the model checkpoint at WinKawaks/vit-tiny-patch16-224 and are newly initialized: ['pooler.dense.bias', 'pooler.dense.weight']\n",
      "You should probably TRAIN this model on a down-stream task to be able to use it for predictions and inference.\n"
     ]
    },
    {
     "name": "stdout",
     "output_type": "stream",
     "text": [
      "\n",
      "--- Epoch 1/5 ---\n"
     ]
    },
    {
     "data": {
      "application/vnd.jupyter.widget-view+json": {
       "model_id": "83d3c136131a43d1a3cd3b24bc38317e",
       "version_major": 2,
       "version_minor": 0
      },
      "text/plain": [
       "Training Epoch:   0%|          | 0/51 [00:00<?, ?it/s]"
      ]
     },
     "metadata": {},
     "output_type": "display_data"
    },
    {
     "data": {
      "application/vnd.jupyter.widget-view+json": {
       "model_id": "ecae3d68f0464f64a927061388d333e9",
       "version_major": 2,
       "version_minor": 0
      },
      "text/plain": [
       "Evaluating:   0%|          | 0/13 [00:00<?, ?it/s]"
      ]
     },
     "metadata": {},
     "output_type": "display_data"
    },
    {
     "name": "stdout",
     "output_type": "stream",
     "text": [
      "Epoch 1 Summary:\n",
      "  Train Loss: 1.0157\n",
      "  Validation Loss: 0.3939\n",
      "  Validation Accuracy: 0.8502\n",
      "  New best validation accuracy! Saving model state.\n",
      "\n",
      "--- Epoch 2/5 ---\n"
     ]
    },
    {
     "data": {
      "application/vnd.jupyter.widget-view+json": {
       "model_id": "0039cb40b4b0407dab582c4551819445",
       "version_major": 2,
       "version_minor": 0
      },
      "text/plain": [
       "Training Epoch:   0%|          | 0/51 [00:00<?, ?it/s]"
      ]
     },
     "metadata": {},
     "output_type": "display_data"
    },
    {
     "data": {
      "application/vnd.jupyter.widget-view+json": {
       "model_id": "8b76202c41614924bb1928ee0c53ba79",
       "version_major": 2,
       "version_minor": 0
      },
      "text/plain": [
       "Evaluating:   0%|          | 0/13 [00:00<?, ?it/s]"
      ]
     },
     "metadata": {},
     "output_type": "display_data"
    },
    {
     "name": "stdout",
     "output_type": "stream",
     "text": [
      "Epoch 2 Summary:\n",
      "  Train Loss: 0.3848\n",
      "  Validation Loss: 0.4767\n",
      "  Validation Accuracy: 0.8477\n",
      "\n",
      "--- Epoch 3/5 ---\n"
     ]
    },
    {
     "data": {
      "application/vnd.jupyter.widget-view+json": {
       "model_id": "58b466200a7749e0943fee30e68161fd",
       "version_major": 2,
       "version_minor": 0
      },
      "text/plain": [
       "Training Epoch:   0%|          | 0/51 [00:00<?, ?it/s]"
      ]
     },
     "metadata": {},
     "output_type": "display_data"
    },
    {
     "data": {
      "application/vnd.jupyter.widget-view+json": {
       "model_id": "2b20c49549fd40f2a9672bbec277c3ec",
       "version_major": 2,
       "version_minor": 0
      },
      "text/plain": [
       "Evaluating:   0%|          | 0/13 [00:00<?, ?it/s]"
      ]
     },
     "metadata": {},
     "output_type": "display_data"
    },
    {
     "name": "stdout",
     "output_type": "stream",
     "text": [
      "Epoch 3 Summary:\n",
      "  Train Loss: 0.2639\n",
      "  Validation Loss: 0.4033\n",
      "  Validation Accuracy: 0.8693\n",
      "  New best validation accuracy! Saving model state.\n",
      "\n",
      "--- Epoch 4/5 ---\n"
     ]
    },
    {
     "data": {
      "application/vnd.jupyter.widget-view+json": {
       "model_id": "946484eaa62a4ce2b86f2e9b8a009d99",
       "version_major": 2,
       "version_minor": 0
      },
      "text/plain": [
       "Training Epoch:   0%|          | 0/51 [00:00<?, ?it/s]"
      ]
     },
     "metadata": {},
     "output_type": "display_data"
    },
    {
     "data": {
      "application/vnd.jupyter.widget-view+json": {
       "model_id": "e304568b06b54b51bbbe80f2bd349bfa",
       "version_major": 2,
       "version_minor": 0
      },
      "text/plain": [
       "Evaluating:   0%|          | 0/13 [00:00<?, ?it/s]"
      ]
     },
     "metadata": {},
     "output_type": "display_data"
    },
    {
     "name": "stdout",
     "output_type": "stream",
     "text": [
      "Epoch 4 Summary:\n",
      "  Train Loss: 0.1588\n",
      "  Validation Loss: 0.4328\n",
      "  Validation Accuracy: 0.8724\n",
      "  New best validation accuracy! Saving model state.\n",
      "\n",
      "--- Epoch 5/5 ---\n"
     ]
    },
    {
     "data": {
      "application/vnd.jupyter.widget-view+json": {
       "model_id": "b2b9f66f8f82486dbf451394eba7734a",
       "version_major": 2,
       "version_minor": 0
      },
      "text/plain": [
       "Training Epoch:   0%|          | 0/51 [00:00<?, ?it/s]"
      ]
     },
     "metadata": {},
     "output_type": "display_data"
    },
    {
     "data": {
      "application/vnd.jupyter.widget-view+json": {
       "model_id": "ef2834102a6f4d53bfc6e30f8e2b296e",
       "version_major": 2,
       "version_minor": 0
      },
      "text/plain": [
       "Evaluating:   0%|          | 0/13 [00:00<?, ?it/s]"
      ]
     },
     "metadata": {},
     "output_type": "display_data"
    },
    {
     "name": "stdout",
     "output_type": "stream",
     "text": [
      "Epoch 5 Summary:\n",
      "  Train Loss: 0.1032\n",
      "  Validation Loss: 0.4707\n",
      "  Validation Accuracy: 0.8762\n",
      "  New best validation accuracy! Saving model state.\n",
      "\n",
      "Training complete for this LODO split.\n",
      "Loading best model state and evaluating on the TEST set...\n"
     ]
    },
    {
     "data": {
      "application/vnd.jupyter.widget-view+json": {
       "model_id": "18dbcd976d5b4047a575a5ad3756b6e4",
       "version_major": 2,
       "version_minor": 0
      },
      "text/plain": [
       "Evaluating:   0%|          | 0/21 [00:00<?, ?it/s]"
      ]
     },
     "metadata": {},
     "output_type": "display_data"
    },
    {
     "name": "stdout",
     "output_type": "stream",
     "text": [
      "\n",
      "--- RESULTS FOR TARGET DOMAIN: LABELME ---\n",
      "  Test Accuracy: 0.6770\n",
      "--------------------------------------------------\n",
      "==============================================================\n",
      "  STARTING LODO EXPERIMENT: Target Domain = SUN09\n",
      "==============================================================\n",
      "--- Creating DataLoaders (80/20 Split Strategy) ---\n",
      "Target (Test) Domain: SUN09\n",
      "Source Domains for Train/Val: ['Caltech101', 'LabelMe', 'VOC2007']\n",
      "Source data size: 7447\n",
      "  -> Training on: 5957 images (80%)\n",
      "  -> Validating on: 1490 images (20%)\n",
      "Testing on full 'SUN09' domain: 3282 images\n",
      "----------------------------------------------------\n"
     ]
    },
    {
     "name": "stderr",
     "output_type": "stream",
     "text": [
      "Some weights of ViTModel were not initialized from the model checkpoint at WinKawaks/vit-tiny-patch16-224 and are newly initialized: ['pooler.dense.bias', 'pooler.dense.weight']\n",
      "You should probably TRAIN this model on a down-stream task to be able to use it for predictions and inference.\n"
     ]
    },
    {
     "name": "stdout",
     "output_type": "stream",
     "text": [
      "\n",
      "--- Epoch 1/5 ---\n"
     ]
    },
    {
     "data": {
      "application/vnd.jupyter.widget-view+json": {
       "model_id": "3de7ac48476747a0a5be723a5320dd89",
       "version_major": 2,
       "version_minor": 0
      },
      "text/plain": [
       "Training Epoch:   0%|          | 0/47 [00:00<?, ?it/s]"
      ]
     },
     "metadata": {},
     "output_type": "display_data"
    },
    {
     "data": {
      "application/vnd.jupyter.widget-view+json": {
       "model_id": "84b41ef28a99484d98ab1540288bc9fe",
       "version_major": 2,
       "version_minor": 0
      },
      "text/plain": [
       "Evaluating:   0%|          | 0/12 [00:00<?, ?it/s]"
      ]
     },
     "metadata": {},
     "output_type": "display_data"
    },
    {
     "name": "stdout",
     "output_type": "stream",
     "text": [
      "Epoch 1 Summary:\n",
      "  Train Loss: 0.9757\n",
      "  Validation Loss: 0.4858\n",
      "  Validation Accuracy: 0.8154\n",
      "  New best validation accuracy! Saving model state.\n",
      "\n",
      "--- Epoch 2/5 ---\n"
     ]
    },
    {
     "data": {
      "application/vnd.jupyter.widget-view+json": {
       "model_id": "eaafa7d00f8a42daaa8bd6a696cfc593",
       "version_major": 2,
       "version_minor": 0
      },
      "text/plain": [
       "Training Epoch:   0%|          | 0/47 [00:00<?, ?it/s]"
      ]
     },
     "metadata": {},
     "output_type": "display_data"
    },
    {
     "data": {
      "application/vnd.jupyter.widget-view+json": {
       "model_id": "9b73027afd8e40ec8483d5ebc5d4751e",
       "version_major": 2,
       "version_minor": 0
      },
      "text/plain": [
       "Evaluating:   0%|          | 0/12 [00:00<?, ?it/s]"
      ]
     },
     "metadata": {},
     "output_type": "display_data"
    },
    {
     "name": "stdout",
     "output_type": "stream",
     "text": [
      "Epoch 2 Summary:\n",
      "  Train Loss: 0.4389\n",
      "  Validation Loss: 0.4327\n",
      "  Validation Accuracy: 0.8403\n",
      "  New best validation accuracy! Saving model state.\n",
      "\n",
      "--- Epoch 3/5 ---\n"
     ]
    },
    {
     "data": {
      "application/vnd.jupyter.widget-view+json": {
       "model_id": "bfa9195b5ac444adaecb60d1d85464fe",
       "version_major": 2,
       "version_minor": 0
      },
      "text/plain": [
       "Training Epoch:   0%|          | 0/47 [00:00<?, ?it/s]"
      ]
     },
     "metadata": {},
     "output_type": "display_data"
    },
    {
     "data": {
      "application/vnd.jupyter.widget-view+json": {
       "model_id": "00f259b52f6140a5a18b009f1dc3e47c",
       "version_major": 2,
       "version_minor": 0
      },
      "text/plain": [
       "Evaluating:   0%|          | 0/12 [00:00<?, ?it/s]"
      ]
     },
     "metadata": {},
     "output_type": "display_data"
    },
    {
     "name": "stdout",
     "output_type": "stream",
     "text": [
      "Epoch 3 Summary:\n",
      "  Train Loss: 0.3258\n",
      "  Validation Loss: 0.4598\n",
      "  Validation Accuracy: 0.8463\n",
      "  New best validation accuracy! Saving model state.\n",
      "\n",
      "--- Epoch 4/5 ---\n"
     ]
    },
    {
     "data": {
      "application/vnd.jupyter.widget-view+json": {
       "model_id": "de37f066ffbe4ef2a41c6921ae53ddf5",
       "version_major": 2,
       "version_minor": 0
      },
      "text/plain": [
       "Training Epoch:   0%|          | 0/47 [00:00<?, ?it/s]"
      ]
     },
     "metadata": {},
     "output_type": "display_data"
    },
    {
     "data": {
      "application/vnd.jupyter.widget-view+json": {
       "model_id": "b7ab7b9f72814d5abb73111da9546050",
       "version_major": 2,
       "version_minor": 0
      },
      "text/plain": [
       "Evaluating:   0%|          | 0/12 [00:00<?, ?it/s]"
      ]
     },
     "metadata": {},
     "output_type": "display_data"
    },
    {
     "name": "stdout",
     "output_type": "stream",
     "text": [
      "Epoch 4 Summary:\n",
      "  Train Loss: 0.2384\n",
      "  Validation Loss: 0.4814\n",
      "  Validation Accuracy: 0.8557\n",
      "  New best validation accuracy! Saving model state.\n",
      "\n",
      "--- Epoch 5/5 ---\n"
     ]
    },
    {
     "data": {
      "application/vnd.jupyter.widget-view+json": {
       "model_id": "571c935c2a7e4739afa2b74a0f65adf6",
       "version_major": 2,
       "version_minor": 0
      },
      "text/plain": [
       "Training Epoch:   0%|          | 0/47 [00:00<?, ?it/s]"
      ]
     },
     "metadata": {},
     "output_type": "display_data"
    },
    {
     "data": {
      "application/vnd.jupyter.widget-view+json": {
       "model_id": "966cd9fd05bd4bec8158872a8cd30b94",
       "version_major": 2,
       "version_minor": 0
      },
      "text/plain": [
       "Evaluating:   0%|          | 0/12 [00:00<?, ?it/s]"
      ]
     },
     "metadata": {},
     "output_type": "display_data"
    },
    {
     "name": "stdout",
     "output_type": "stream",
     "text": [
      "Epoch 5 Summary:\n",
      "  Train Loss: 0.1681\n",
      "  Validation Loss: 0.5823\n",
      "  Validation Accuracy: 0.8356\n",
      "\n",
      "Training complete for this LODO split.\n",
      "Loading best model state and evaluating on the TEST set...\n"
     ]
    },
    {
     "data": {
      "application/vnd.jupyter.widget-view+json": {
       "model_id": "3dc205c232fc4587b9fca01452f3ff73",
       "version_major": 2,
       "version_minor": 0
      },
      "text/plain": [
       "Evaluating:   0%|          | 0/26 [00:00<?, ?it/s]"
      ]
     },
     "metadata": {},
     "output_type": "display_data"
    },
    {
     "name": "stdout",
     "output_type": "stream",
     "text": [
      "\n",
      "--- RESULTS FOR TARGET DOMAIN: SUN09 ---\n",
      "  Test Accuracy: 0.7693\n",
      "--------------------------------------------------\n",
      "==============================================================\n",
      "  STARTING LODO EXPERIMENT: Target Domain = VOC2007\n",
      "==============================================================\n",
      "--- Creating DataLoaders (80/20 Split Strategy) ---\n",
      "Target (Test) Domain: VOC2007\n",
      "Source Domains for Train/Val: ['Caltech101', 'LabelMe', 'SUN09']\n",
      "Source data size: 7353\n",
      "  -> Training on: 5882 images (80%)\n",
      "  -> Validating on: 1471 images (20%)\n",
      "Testing on full 'VOC2007' domain: 3376 images\n",
      "----------------------------------------------------\n"
     ]
    },
    {
     "name": "stderr",
     "output_type": "stream",
     "text": [
      "Some weights of ViTModel were not initialized from the model checkpoint at WinKawaks/vit-tiny-patch16-224 and are newly initialized: ['pooler.dense.bias', 'pooler.dense.weight']\n",
      "You should probably TRAIN this model on a down-stream task to be able to use it for predictions and inference.\n"
     ]
    },
    {
     "name": "stdout",
     "output_type": "stream",
     "text": [
      "\n",
      "--- Epoch 1/5 ---\n"
     ]
    },
    {
     "data": {
      "application/vnd.jupyter.widget-view+json": {
       "model_id": "e6984e798af74a8bb5f1046878e63fd8",
       "version_major": 2,
       "version_minor": 0
      },
      "text/plain": [
       "Training Epoch:   0%|          | 0/46 [00:00<?, ?it/s]"
      ]
     },
     "metadata": {},
     "output_type": "display_data"
    },
    {
     "data": {
      "application/vnd.jupyter.widget-view+json": {
       "model_id": "b1b6690f6b444c00a3e6619493d89862",
       "version_major": 2,
       "version_minor": 0
      },
      "text/plain": [
       "Evaluating:   0%|          | 0/12 [00:00<?, ?it/s]"
      ]
     },
     "metadata": {},
     "output_type": "display_data"
    },
    {
     "name": "stdout",
     "output_type": "stream",
     "text": [
      "Epoch 1 Summary:\n",
      "  Train Loss: 0.9087\n",
      "  Validation Loss: 0.4747\n",
      "  Validation Accuracy: 0.8239\n",
      "  New best validation accuracy! Saving model state.\n",
      "\n",
      "--- Epoch 2/5 ---\n"
     ]
    },
    {
     "data": {
      "application/vnd.jupyter.widget-view+json": {
       "model_id": "83d1512368154e09927e3bc4b61017d0",
       "version_major": 2,
       "version_minor": 0
      },
      "text/plain": [
       "Training Epoch:   0%|          | 0/46 [00:00<?, ?it/s]"
      ]
     },
     "metadata": {},
     "output_type": "display_data"
    },
    {
     "data": {
      "application/vnd.jupyter.widget-view+json": {
       "model_id": "fb3f3e7cfb174b8fb0dbf3a1e2d5c522",
       "version_major": 2,
       "version_minor": 0
      },
      "text/plain": [
       "Evaluating:   0%|          | 0/12 [00:00<?, ?it/s]"
      ]
     },
     "metadata": {},
     "output_type": "display_data"
    },
    {
     "name": "stdout",
     "output_type": "stream",
     "text": [
      "Epoch 2 Summary:\n",
      "  Train Loss: 0.4744\n",
      "  Validation Loss: 0.5355\n",
      "  Validation Accuracy: 0.7967\n",
      "\n",
      "--- Epoch 3/5 ---\n"
     ]
    },
    {
     "data": {
      "application/vnd.jupyter.widget-view+json": {
       "model_id": "d47386536f44449aa38efdba9b5a796a",
       "version_major": 2,
       "version_minor": 0
      },
      "text/plain": [
       "Training Epoch:   0%|          | 0/46 [00:00<?, ?it/s]"
      ]
     },
     "metadata": {},
     "output_type": "display_data"
    },
    {
     "data": {
      "application/vnd.jupyter.widget-view+json": {
       "model_id": "e6ecf618fce84843b832de9b01940e4f",
       "version_major": 2,
       "version_minor": 0
      },
      "text/plain": [
       "Evaluating:   0%|          | 0/12 [00:00<?, ?it/s]"
      ]
     },
     "metadata": {},
     "output_type": "display_data"
    },
    {
     "name": "stdout",
     "output_type": "stream",
     "text": [
      "Epoch 3 Summary:\n",
      "  Train Loss: 0.3737\n",
      "  Validation Loss: 0.4626\n",
      "  Validation Accuracy: 0.8314\n",
      "  New best validation accuracy! Saving model state.\n",
      "\n",
      "--- Epoch 4/5 ---\n"
     ]
    },
    {
     "data": {
      "application/vnd.jupyter.widget-view+json": {
       "model_id": "c8c584a5cd704a4182c052ace5cae24e",
       "version_major": 2,
       "version_minor": 0
      },
      "text/plain": [
       "Training Epoch:   0%|          | 0/46 [00:00<?, ?it/s]"
      ]
     },
     "metadata": {},
     "output_type": "display_data"
    },
    {
     "data": {
      "application/vnd.jupyter.widget-view+json": {
       "model_id": "54c04896e8f744898f7e98ede6ec4350",
       "version_major": 2,
       "version_minor": 0
      },
      "text/plain": [
       "Evaluating:   0%|          | 0/12 [00:00<?, ?it/s]"
      ]
     },
     "metadata": {},
     "output_type": "display_data"
    },
    {
     "name": "stdout",
     "output_type": "stream",
     "text": [
      "Epoch 4 Summary:\n",
      "  Train Loss: 0.2637\n",
      "  Validation Loss: 0.5210\n",
      "  Validation Accuracy: 0.8280\n",
      "\n",
      "--- Epoch 5/5 ---\n"
     ]
    },
    {
     "data": {
      "application/vnd.jupyter.widget-view+json": {
       "model_id": "024e7df463154d6b94b59cd8ef907cce",
       "version_major": 2,
       "version_minor": 0
      },
      "text/plain": [
       "Training Epoch:   0%|          | 0/46 [00:00<?, ?it/s]"
      ]
     },
     "metadata": {},
     "output_type": "display_data"
    },
    {
     "data": {
      "application/vnd.jupyter.widget-view+json": {
       "model_id": "7600440b5e5742ab8a68e2a368d708d9",
       "version_major": 2,
       "version_minor": 0
      },
      "text/plain": [
       "Evaluating:   0%|          | 0/12 [00:00<?, ?it/s]"
      ]
     },
     "metadata": {},
     "output_type": "display_data"
    },
    {
     "name": "stdout",
     "output_type": "stream",
     "text": [
      "Epoch 5 Summary:\n",
      "  Train Loss: 0.1802\n",
      "  Validation Loss: 0.9300\n",
      "  Validation Accuracy: 0.7886\n",
      "\n",
      "Training complete for this LODO split.\n",
      "Loading best model state and evaluating on the TEST set...\n"
     ]
    },
    {
     "data": {
      "application/vnd.jupyter.widget-view+json": {
       "model_id": "d8abd93616e74a51a25bbf30dd15cd62",
       "version_major": 2,
       "version_minor": 0
      },
      "text/plain": [
       "Evaluating:   0%|          | 0/27 [00:00<?, ?it/s]"
      ]
     },
     "metadata": {},
     "output_type": "display_data"
    },
    {
     "name": "stdout",
     "output_type": "stream",
     "text": [
      "\n",
      "--- RESULTS FOR TARGET DOMAIN: VOC2007 ---\n",
      "  Test Accuracy: 0.7725\n",
      "--------------------------------------------------\n",
      "\n",
      "\n",
      "==============================================================\n",
      "          ALL BASELINE LODO EXPERIMENTS COMPLETE\n",
      "==============================================================\n"
     ]
    }
   ],
   "source": [
    "# =================================================================================\n",
    "# SECTION 5: THE MAIN EXPERIMENT LOOP (BASELINE)\n",
    "# =================================================================================\n",
    "\n",
    "config = Config()\n",
    "\n",
    "for target_domain in config.DOMAINS:\n",
    "    print(f\"==============================================================\")\n",
    "    print(f\"  STARTING LODO EXPERIMENT: Target Domain = {target_domain.upper()}\")\n",
    "    print(f\"==============================================================\")\n",
    "    \n",
    "    train_loader, val_loader, test_loader = get_dataloaders(\n",
    "        root_dir=config.DATA_DIR,\n",
    "        target_domain=target_domain,\n",
    "        all_domains=config.DOMAINS,\n",
    "        batch_size=config.BATCH_SIZE, seed=config.SEED\n",
    "    )\n",
    "    \n",
    "    ### CHANGE ###\n",
    "    # Instantiate the BaselineViT model.\n",
    "    model = BaselineViT(\n",
    "        model_name=config.MODEL_NAME,\n",
    "        num_classes=config.NUM_CLASSES,\n",
    "        dropout_rate=config.DROPOUT_RATE\n",
    "    ).to(config.DEVICE)\n",
    "    \n",
    "    optimizer = torch.optim.AdamW(model.parameters(), lr=config.LEARNING_RATE)\n",
    "    criterion = nn.CrossEntropyLoss()\n",
    "    \n",
    "    best_val_accuracy = 0.0\n",
    "    best_model_state = None\n",
    "    \n",
    "    for epoch in range(config.NUM_EPOCHS):\n",
    "        print(f\"\\n--- Epoch {epoch+1}/{config.NUM_EPOCHS} ---\")\n",
    "        \n",
    "        train_metrics = train_one_epoch(model, train_loader, optimizer, criterion, config.DEVICE)\n",
    "        val_metrics = evaluate(model, val_loader, criterion, config.DEVICE)\n",
    "        \n",
    "        ### CHANGE ###\n",
    "        # Update the logging to match the new return values from train_one_epoch.\n",
    "        print(f\"Epoch {epoch+1} Summary:\")\n",
    "        print(f\"  Train Loss: {train_metrics['avg_train_loss']:.4f}\")\n",
    "        print(f\"  Validation Loss: {val_metrics['avg_loss']:.4f}\")\n",
    "        print(f\"  Validation Accuracy: {val_metrics['accuracy']:.4f}\")\n",
    "        \n",
    "        if val_metrics['accuracy'] > best_val_accuracy:\n",
    "            print(f\"  New best validation accuracy! Saving model state.\")\n",
    "            best_val_accuracy = val_metrics['accuracy']\n",
    "            best_model_state = copy.deepcopy(model.state_dict())\n",
    "            \n",
    "    print(\"\\nTraining complete for this LODO split.\")\n",
    "    print(\"Loading best model state and evaluating on the TEST set...\")\n",
    "    \n",
    "    model.load_state_dict(best_model_state)\n",
    "    test_metrics = evaluate(model, test_loader, criterion, config.DEVICE)\n",
    "    \n",
    "    print(f\"\\n--- RESULTS FOR TARGET DOMAIN: {target_domain.upper()} ---\")\n",
    "    print(f\"  Test Accuracy: {test_metrics['accuracy']:.4f}\")\n",
    "    print(f\"--------------------------------------------------\")\n",
    "\n",
    "    experiment_results.append({\n",
    "        \"target_domain\": target_domain,\n",
    "        \"source_domains\": [d for d in config.DOMAINS if d != target_domain],\n",
    "        \"test_accuracy\": test_metrics['accuracy'],\n",
    "        \"best_val_accuracy\": best_val_accuracy,\n",
    "        \"model_name\": config.MODEL_NAME,\n",
    "        \"num_epochs\": config.NUM_EPOCHS,\n",
    "        \"batch_size\": config.BATCH_SIZE,\n",
    "        \"learning_rate\": config.LEARNING_RATE\n",
    "    })\n",
    "\n",
    "print(\"\\n\\n==============================================================\")\n",
    "print(\"          ALL BASELINE LODO EXPERIMENTS COMPLETE\")\n",
    "print(\"==============================================================\")"
   ]
  },
  {
   "cell_type": "code",
   "execution_count": 35,
   "metadata": {
    "execution": {
     "iopub.execute_input": "2025-10-10T17:56:39.694466Z",
     "iopub.status.busy": "2025-10-10T17:56:39.694065Z",
     "iopub.status.idle": "2025-10-10T17:56:39.941923Z",
     "shell.execute_reply": "2025-10-10T17:56:39.941061Z",
     "shell.execute_reply.started": "2025-10-10T17:56:39.694438Z"
    },
    "trusted": true
   },
   "outputs": [
    {
     "name": "stdout",
     "output_type": "stream",
     "text": [
      "--- Final Experiment Results ---\n",
      "  target_domain  test_accuracy  best_val_accuracy  num_epochs  batch_size  learning_rate                      model_name\n",
      "0    Caltech101       0.979505           0.821256           5         128         0.0001  WinKawaks/vit-tiny-patch16-224\n",
      "1       LabelMe       0.676958           0.876161           5         128         0.0001  WinKawaks/vit-tiny-patch16-224\n",
      "2         SUN09       0.769348           0.855705           5         128         0.0001  WinKawaks/vit-tiny-patch16-224\n",
      "3       VOC2007       0.772512           0.831407           5         128         0.0001  WinKawaks/vit-tiny-patch16-224\n",
      "\n",
      "==================================================\n",
      "Average Test Accuracy Across All Domains: 0.7996\n",
      "==================================================\n"
     ]
    },
    {
     "name": "stderr",
     "output_type": "stream",
     "text": [
      "C:\\Users\\Haseeb\\AppData\\Local\\Temp\\ipykernel_35248\\2340688840.py:40: FutureWarning: \n",
      "\n",
      "Passing `palette` without assigning `hue` is deprecated and will be removed in v0.14.0. Assign the `x` variable to `hue` and set `legend=False` for the same effect.\n",
      "\n",
      "  sns.barplot(\n"
     ]
    },
    {
     "data": {
      "image/png": "[encoded data removed]",
      "text/plain": [
       "<Figure size 1000x600 with 1 Axes>"
      ]
     },
     "metadata": {},
     "output_type": "display_data"
    },
    {
     "name": "stdout",
     "output_type": "stream",
     "text": [
      "\n",
      "======================================================================\n",
      "--- Dictionary for Final Plotting ---\n",
      "# Copy the dictionary below and paste it into your final analysis notebook.\n",
      "my_method_results = {\n",
      "    'target_domain': ['Caltech101', 'LabelMe', 'SUN09', 'VOC2007'],\n",
      "    'test_accuracy': [0.9795, 0.677, 0.7693, 0.7725]\n",
      "}\n",
      "======================================================================\n",
      "\n",
      "--- Experiment Complete ---\n"
     ]
    }
   ],
   "source": [
    "# =================================================================================\n",
    "# SECTION 6: ANALYSIS & VISUALIZATION (with Dictionary Output)\n",
    "# =================================================================================\n",
    "# Now that all experiments are complete, we'll process the results\n",
    "# and create visualizations to understand the performance of our method.\n",
    "# ---------------------------------------------------------------------------------\n",
    "\n",
    "# Add this magic command to ensure plots are displayed in the notebook\n",
    "%matplotlib inline\n",
    "import matplotlib.pyplot as plt\n",
    "import seaborn as sns\n",
    "\n",
    "\n",
    "# ---------------------------------------------------------------------------------\n",
    "# 6.1: DISPLAY RESULTS IN A TABLE\n",
    "# ---------------------------------------------------------------------------------\n",
    "print(\"--- Final Experiment Results ---\")\n",
    "\n",
    "results_df = pd.DataFrame(experiment_results)\n",
    "column_order = [\n",
    "    \"target_domain\", \"test_accuracy\", \"best_val_accuracy\", \"num_epochs\",\n",
    "    \"batch_size\", \"learning_rate\", \"model_name\"\n",
    "]\n",
    "existing_columns = [col for col in column_order if col in results_df.columns]\n",
    "results_df = results_df[existing_columns]\n",
    "average_accuracy = results_df['test_accuracy'].mean()\n",
    "\n",
    "print(results_df.to_string())\n",
    "print(\"\\n\" + \"=\"*50)\n",
    "print(f\"Average Test Accuracy Across All Domains: {average_accuracy:.4f}\")\n",
    "print(\"=\"*50)\n",
    "\n",
    "\n",
    "# ---------------------------------------------------------------------------------\n",
    "# 6.2: VISUALIZE THE RESULTS\n",
    "# ---------------------------------------------------------------------------------\n",
    "plt.style.use('seaborn-v0_8-whitegrid')\n",
    "fig, ax = plt.subplots(1, 1, figsize=(10, 6))\n",
    "\n",
    "sns.barplot(\n",
    "    data=results_df, x='target_domain', y='test_accuracy', ax=ax, palette='viridis'\n",
    ")\n",
    "\n",
    "for index, row in results_df.iterrows():\n",
    "    ax.text(index, row['test_accuracy'] + 0.01, f\"{row['test_accuracy']:.2%}\",\n",
    "            color='black', ha=\"center\", fontsize=12)\n",
    "    \n",
    "ax.axhline(average_accuracy, ls='--', color='red', label=f'Average Accuracy ({average_accuracy:.2%})')\n",
    "\n",
    "ax.set_title('Model Performance on Unseen Target Domains (LODO)', fontsize=16, pad=20)\n",
    "ax.set_xlabel('Target (Unseen) Domain', fontsize=12)\n",
    "ax.set_ylabel('Test Accuracy', fontsize=12)\n",
    "ax.set_ylim(0, 1.0)\n",
    "ax.legend()\n",
    "\n",
    "plt.tight_layout()\n",
    "plt.show()\n",
    "\n",
    "# ---------------------------------------------------------------------------------\n",
    "### NEW SECTION ###\n",
    "# 6.3: GENERATE COPY-PASTE DICTIONARY FOR FINAL PLOTTING\n",
    "# ---------------------------------------------------------------------------------\n",
    "print(\"\\n\" + \"=\"*70)\n",
    "print(\"--- Dictionary for Final Plotting ---\")\n",
    "print(\"# Copy the dictionary below and paste it into your final analysis notebook.\")\n",
    "\n",
    "# Determine the variable name based on the notebook (you can adjust this)\n",
    "# For the baseline notebook, you'd want 'baseline_results'.\n",
    "# For the evolutionary notebook, you'd want 'evolutionary_results'.\n",
    "method_name = \"my_method_results\" # Generic name\n",
    "if \"baseline\" in os.getcwd(): # Simple check if 'baseline' is in the notebook path\n",
    "    method_name = \"baseline_results\"\n",
    "elif \"drop-out\" in os.getcwd():\n",
    "    method_name = \"evolutionary_results\"\n",
    "    \n",
    "# Extract the lists from the DataFrame\n",
    "domain_list = results_df['target_domain'].tolist()\n",
    "accuracy_list = [round(acc, 4) for acc in results_df['test_accuracy'].tolist()]\n",
    "\n",
    "# Print in the desired format\n",
    "print(f\"{method_name} = {{\")\n",
    "print(f\"    'target_domain': {domain_list},\")\n",
    "print(f\"    'test_accuracy': {accuracy_list}\")\n",
    "print(f\"}}\")\n",
    "print(\"=\"*70)\n",
    "\n",
    "\n",
    "print(\"\\n--- Experiment Complete ---\")"
   ]
  }
 ],
 "metadata": {
  "kaggle": {
   "accelerator": "nvidiaTeslaT4",
   "dataSources": [
    {
     "datasetId": 8446344,
     "sourceId": 13323122,
     "sourceType": "datasetVersion"
    }
   ],
   "dockerImageVersionId": 31154,
   "isGpuEnabled": true,
   "isInternetEnabled": true,
   "language": "python",
   "sourceType": "notebook"
  },
  "kernelspec": {
   "display_name": "Python 3",
   "language": "python",
   "name": "python3"
  },
  "language_info": {
   "codemirror_mode": {
    "name": "ipython",
    "version": 3
   },
   "file_extension": ".py",
   "mimetype": "text/x-python",
   "name": "python",
   "nbconvert_exporter": "python",
   "pygments_lexer": "ipython3",
   "version": "3.12.0"
  }
 },
 "nbformat": 4,
 "nbformat_minor": 4
}
