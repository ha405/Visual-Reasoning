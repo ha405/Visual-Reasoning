{
 "cells": [
  {
   "cell_type": "code",
   "execution_count": 13,
   "metadata": {
    "_cell_guid": "b1076dfc-b9ad-4769-8c92-a6c4dae69d19",
    "_uuid": "8f2839f25d086af736a60e9eeb907d3b93b6e0e5",
    "execution": {
     "iopub.execute_input": "2025-10-10T18:41:13.345758Z",
     "iopub.status.busy": "2025-10-10T18:41:13.345233Z",
     "iopub.status.idle": "2025-10-10T18:41:13.352583Z",
     "shell.execute_reply": "2025-10-10T18:41:13.351859Z",
     "shell.execute_reply.started": "2025-10-10T18:41:13.345732Z"
    },
    "trusted": true
   },
   "outputs": [],
   "source": [
    "# =================================================================================\n",
    "# SECTION 1: PROJECT SCAFFOLDING & CONFIGURATION\n",
    "# =================================================================================\n",
    "\n",
    "# ---------------------------------------------------------------------------------\n",
    "# 1.1: IMPORTS\n",
    "# All necessary libraries for the project.\n",
    "# ---------------------------------------------------------------------------------\n",
    "%matplotlib inline \n",
    "import os\n",
    "import numpy as np\n",
    "import pandas as pd\n",
    "import torch\n",
    "import torch.nn as nn\n",
    "from torch.utils.data import Dataset, DataLoader\n",
    "from torchvision import transforms\n",
    "from transformers import ViTModel, ViTConfig\n",
    "from PIL import Image\n",
    "from tqdm.notebook import tqdm\n",
    "import matplotlib.pyplot as plt\n",
    "import seaborn as sns\n",
    "from sklearn.model_selection import StratifiedKFold # We might use this later for robustness\n",
    "from collections import defaultdict\n",
    "import copy\n",
    "\n",
    "# Set a seed for reproducibility\n",
    "torch.manual_seed(42)\n",
    "np.random.seed(42)"
   ]
  },
  {
   "cell_type": "code",
   "execution_count": 14,
   "metadata": {
    "execution": {
     "iopub.execute_input": "2025-10-10T18:41:13.354688Z",
     "iopub.status.busy": "2025-10-10T18:41:13.353877Z",
     "iopub.status.idle": "2025-10-10T18:41:13.385781Z",
     "shell.execute_reply": "2025-10-10T18:41:13.385144Z",
     "shell.execute_reply.started": "2025-10-10T18:41:13.354663Z"
    },
    "trusted": true
   },
   "outputs": [
    {
     "name": "stdout",
     "output_type": "stream",
     "text": [
      "--- Project Configuration ---\n",
      "DATA_DIR: D:\\Haseeb\\Datasets\\VLCS\n",
      "DOMAINS: ['Caltech101', 'LabelMe', 'SUN09', 'VOC2007']\n",
      "MODEL_NAME: WinKawaks/vit-tiny-patch16-224\n",
      "NUM_CLASSES: 5\n",
      "NUM_HEADS: 4\n",
      "DROPOUT_OPTIONS: [0.1, 0.2, 0.3, 0.4, 0.5, 0.6, 0.7]\n",
      "BATCH_SIZE: 128\n",
      "NUM_EPOCHS: 5\n",
      "LEARNING_RATE: 0.0001\n",
      "OPTIMIZER: AdamW\n",
      "DEVICE: cuda\n",
      "SEED: 42\n",
      "---------------------------\n",
      "Device: cuda\n",
      "\n",
      "Project scaffolding is complete. Ready for Section 2: Data Loading.\n"
     ]
    }
   ],
   "source": [
    "\n",
    "# ---------------------------------------------------------------------------------\n",
    "# 1.2: CONFIGURATION CLASS\n",
    "# This class holds all hyperparameters and settings in one place.\n",
    "# ---------------------------------------------------------------------------------\n",
    "class Config:\n",
    "    # --- Data Paths and Domains ---\n",
    "    DATA_DIR = r\"D:\\Haseeb\\Datasets\\VLCS\" # Make sure this path is correct for your dataset\n",
    "    DOMAINS = [\"Caltech101\", \"LabelMe\", \"SUN09\", \"VOC2007\"]\n",
    "    \n",
    "    # --- Model & Architecture ---\n",
    "    MODEL_NAME = \"WinKawaks/vit-tiny-patch16-224\"\n",
    "    NUM_CLASSES = 5\n",
    "    ### CHANGE ###\n",
    "    NUM_HEADS = 4\n",
    "    DROPOUT_OPTIONS = [0.1, 0.2, 0.3, 0.4, 0.5, 0.6, 0.7]\n",
    "    \n",
    "    # --- Training Hyperparameters ---\n",
    "    BATCH_SIZE = 128\n",
    "    NUM_EPOCHS = 5\n",
    "    LEARNING_RATE = 1e-4\n",
    "    OPTIMIZER = \"AdamW\"\n",
    "    \n",
    "    # --- Hardware & Reproducibility ---\n",
    "    DEVICE = \"cuda\" if torch.cuda.is_available() else \"cpu\"\n",
    "    SEED = 42\n",
    "\n",
    "# Instantiate the config\n",
    "config = Config()\n",
    "\n",
    "# Print out the configuration to verify\n",
    "print(\"--- Project Configuration ---\")\n",
    "for key, value in config.__class__.__dict__.items():\n",
    "    if not key.startswith('__'):\n",
    "        print(f\"{key}: {value}\")\n",
    "print(\"---------------------------\")\n",
    "print(f\"Device: {config.DEVICE}\")\n",
    "\n",
    "# ---------------------------------------------------------------------------------\n",
    "# 1.3: RESULTS TRACKER\n",
    "# A list to store the final results from each LODO experiment run.\n",
    "# This will be converted to a DataFrame at the end for analysis.\n",
    "# ---------------------------------------------------------------------------------\n",
    "experiment_results = []\n",
    "\n",
    "print(\"\\nProject scaffolding is complete. Ready for Section 2: Data Loading.\")"
   ]
  },
  {
   "cell_type": "code",
   "execution_count": 15,
   "metadata": {
    "execution": {
     "iopub.execute_input": "2025-10-10T18:41:13.386821Z",
     "iopub.status.busy": "2025-10-10T18:41:13.386565Z",
     "iopub.status.idle": "2025-10-10T18:41:13.415060Z",
     "shell.execute_reply": "2025-10-10T18:41:13.414321Z",
     "shell.execute_reply.started": "2025-10-10T18:41:13.386797Z"
    },
    "trusted": true
   },
   "outputs": [],
   "source": [
    "# =================================================================================\n",
    "# SECTION 2: DATA LOADING & PREPROCESSING\n",
    "# =================================================================================\n",
    "\n",
    "# ---------------------------------------------------------------------------------\n",
    "# 2.1: IMAGE TRANSFORMATIONS\n",
    "# Define the transformations for training (with augmentation) and validation/testing.\n",
    "# ---------------------------------------------------------------------------------\n",
    "\n",
    "# The ViT model was pre-trained on images of size 224x224\n",
    "IMG_SIZE = 224\n",
    "\n",
    "# The normalization values are standard for many pre-trained models\n",
    "# but it's good practice to use the ones specified by the model's authors if available.\n",
    "# For ViT, a simple (0.5, 0.5, 0.5) normalization is common.\n",
    "data_transforms = {\n",
    "    'train': transforms.Compose([\n",
    "        transforms.Resize((IMG_SIZE, IMG_SIZE)),\n",
    "        transforms.RandomHorizontalFlip(), # A simple data augmentation technique\n",
    "        transforms.ToTensor(),\n",
    "        transforms.Normalize(mean=[0.5, 0.5, 0.5], std=[0.5, 0.5, 0.5])\n",
    "    ]),\n",
    "    'val': transforms.Compose([\n",
    "        transforms.Resize((IMG_SIZE, IMG_SIZE)),\n",
    "        transforms.ToTensor(),\n",
    "        transforms.Normalize(mean=[0.5, 0.5, 0.5], std=[0.5, 0.5, 0.5])\n",
    "    ]),\n",
    "}\n"
   ]
  },
  {
   "cell_type": "code",
   "execution_count": 16,
   "metadata": {
    "execution": {
     "iopub.execute_input": "2025-10-10T18:41:13.416535Z",
     "iopub.status.busy": "2025-10-10T18:41:13.416345Z",
     "iopub.status.idle": "2025-10-10T18:41:13.445670Z",
     "shell.execute_reply": "2025-10-10T18:41:13.445083Z",
     "shell.execute_reply.started": "2025-10-10T18:41:13.416520Z"
    },
    "trusted": true
   },
   "outputs": [],
   "source": [
    "# ---------------------------------------------------------------------------------\n",
    "# 2.2: CUSTOM PACS DATASET CLASS\n",
    "# This class will read the images and labels from our specific folder structure.\n",
    "# ---------------------------------------------------------------------------------\n",
    "import random # Make sure to import the 'random' library at the top of the cell.\n",
    "\n",
    "class VLCSDataset(Dataset):\n",
    "    def __init__(self, root_dir, domains, transform=None):\n",
    "        self.root_dir = root_dir\n",
    "        self.domains = domains\n",
    "        self.transform = transform\n",
    "        self.image_paths = []\n",
    "        self.labels = []\n",
    "        ### CHANGE 2: Add a counter for corrupted images ###\n",
    "        self.corrupted_images_count = 0\n",
    "        \n",
    "        try:\n",
    "            self.classes = sorted(os.listdir(os.path.join(root_dir, domains[0])))\n",
    "            self.class_to_idx = {cls_name: i for i, cls_name in enumerate(self.classes)}\n",
    "        except FileNotFoundError:\n",
    "            print(f\"Error: Could not find domain folder at {os.path.join(root_dir, domains[0])}\")\n",
    "            print(\"Please ensure your DATA_DIR and DOMAINS in the Config class are correct.\")\n",
    "            raise\n",
    "\n",
    "        for domain in self.domains:\n",
    "            domain_path = os.path.join(self.root_dir, domain)\n",
    "            for class_name in self.classes:\n",
    "                class_path = os.path.join(domain_path, class_name)\n",
    "                if os.path.isdir(class_path):\n",
    "                    for img_name in os.listdir(class_path):\n",
    "                        self.image_paths.append(os.path.join(class_path, img_name))\n",
    "                        self.labels.append(self.class_to_idx[class_name])\n",
    "\n",
    "    def __len__(self):\n",
    "        return len(self.image_paths)\n",
    "\n",
    "    def __getitem__(self, idx):\n",
    "        try:\n",
    "            img_path = self.image_paths[idx]\n",
    "            image = Image.open(img_path).convert('RGB')\n",
    "            label = self.labels[idx]\n",
    "        except (OSError, IOError) as e:\n",
    "            ### CHANGE 3: Increment the counter and replace with a random image ###\n",
    "            self.corrupted_images_count += 1\n",
    "            # You can uncomment the print statement below for verbose debugging if you want\n",
    "            # print(f\"Warning: Corrupted image at {img_path}. Replacing with random. Total corrupt: {self.corrupted_images_count}\")\n",
    "            \n",
    "            # Pick a new random index\n",
    "            new_idx = random.randint(0, len(self) - 1)\n",
    "            # Recursively call __getitem__ with the new index.\n",
    "            return self.__getitem__(new_idx)\n",
    "\n",
    "        # The transformation part remains the same\n",
    "        if self.transform:\n",
    "            image = self.transform(image)\n",
    "            \n",
    "        return image, label"
   ]
  },
  {
   "cell_type": "code",
   "execution_count": 17,
   "metadata": {
    "execution": {
     "iopub.execute_input": "2025-10-10T18:41:13.448409Z",
     "iopub.status.busy": "2025-10-10T18:41:13.447964Z",
     "iopub.status.idle": "2025-10-10T18:41:13.478136Z",
     "shell.execute_reply": "2025-10-10T18:41:13.477575Z",
     "shell.execute_reply.started": "2025-10-10T18:41:13.448393Z"
    },
    "trusted": true
   },
   "outputs": [],
   "source": [
    "# =================================================================================\n",
    "# SECTION 2.3: DATALOADER HELPER FUNCTION (NEW 80/20 SPLIT VERSION)\n",
    "# =================================================================================\n",
    "# Replace the old get_dataloaders function in Section 2 of BOTH notebooks with this.\n",
    "\n",
    "from torch.utils.data import Subset\n",
    "from sklearn.model_selection import train_test_split\n",
    "\n",
    "def get_dataloaders(root_dir, target_domain, all_domains, batch_size, seed):\n",
    "    \"\"\"\n",
    "    Creates dataloaders for a LODO split using an 80/20 split on the source domains.\n",
    "    \"\"\"\n",
    "    source_domains = [d for d in all_domains if d != target_domain]\n",
    "    \n",
    "    print(f\"--- Creating DataLoaders (80/20 Split Strategy) ---\")\n",
    "    print(f\"Target (Test) Domain: {target_domain}\")\n",
    "    print(f\"Source Domains for Train/Val: {source_domains}\")\n",
    "    \n",
    "    # 1. Create a single, large dataset by combining all source domains\n",
    "    source_dataset = VLCSDataset(\n",
    "        root_dir=root_dir, \n",
    "        domains=source_domains, \n",
    "        transform=data_transforms['train'] # Use training transforms for the whole source\n",
    "    )\n",
    "    \n",
    "    # We need to perform a stratified split to ensure the train and val sets\n",
    "    # have a similar distribution of classes.\n",
    "    indices = list(range(len(source_dataset)))\n",
    "    labels = source_dataset.labels\n",
    "    \n",
    "    # Use sklearn's train_test_split to get indices for an 80% train / 20% val split\n",
    "    train_idx, val_idx = train_test_split(\n",
    "        indices, \n",
    "        test_size=0.2, \n",
    "        stratify=labels, \n",
    "        random_state=seed\n",
    "    )\n",
    "    \n",
    "    # 2. Create the training and validation subsets\n",
    "    train_subset = Subset(source_dataset, train_idx)\n",
    "    val_subset = Subset(source_dataset, val_idx)\n",
    "    \n",
    "    # Important: The validation subset should not use training augmentations (like RandomFlip).\n",
    "    # We create a new dataset object for validation with the correct transforms.\n",
    "    # This is a cleaner way to handle transforms for subsets.\n",
    "    val_dataset_clean = VLCSDataset(root_dir=root_dir, domains=source_domains, transform=data_transforms['val'])\n",
    "    val_subset_final = Subset(val_dataset_clean, val_idx)\n",
    "    \n",
    "    # 3. Create the test dataset from the full target domain\n",
    "    test_dataset = VLCSDataset(\n",
    "        root_dir=root_dir, \n",
    "        domains=[target_domain], \n",
    "        transform=data_transforms['val']\n",
    "    )\n",
    "\n",
    "    # 4. Create the DataLoaders\n",
    "    train_loader = DataLoader(train_subset, batch_size=batch_size, shuffle=True, num_workers=0)\n",
    "    val_loader = DataLoader(val_subset_final, batch_size=batch_size, shuffle=False, num_workers=0)\n",
    "    test_loader = DataLoader(test_dataset, batch_size=batch_size, shuffle=False, num_workers=0)\n",
    "    \n",
    "    print(f\"Source data size: {len(source_dataset)}\")\n",
    "    print(f\"  -> Training on: {len(train_subset)} images (80%)\")\n",
    "    print(f\"  -> Validating on: {len(val_subset_final)} images (20%)\")\n",
    "    print(f\"Testing on full '{target_domain}' domain: {len(test_dataset)} images\")\n",
    "    print(\"----------------------------------------------------\")\n",
    "    \n",
    "    return train_loader, val_loader, test_loader"
   ]
  },
  {
   "cell_type": "code",
   "execution_count": 18,
   "metadata": {
    "execution": {
     "iopub.execute_input": "2025-10-10T18:41:13.479579Z",
     "iopub.status.busy": "2025-10-10T18:41:13.479370Z",
     "iopub.status.idle": "2025-10-10T18:41:13.507477Z",
     "shell.execute_reply": "2025-10-10T18:41:13.506936Z",
     "shell.execute_reply.started": "2025-10-10T18:41:13.479564Z"
    },
    "trusted": true
   },
   "outputs": [
    {
     "name": "stdout",
     "output_type": "stream",
     "text": [
      "SharedHeadViT class defined with updated logging.\n"
     ]
    }
   ],
   "source": [
    "# =================================================================================\n",
    "# SECTION 3: THE MODEL ARCHITECTURE (SHARED HEAD STRATEGY - with updated logging)\n",
    "# =================================================================================\n",
    "\n",
    "class SharedHeadViT(nn.Module):\n",
    "    def __init__(self, model_name, num_classes, dropout_rates: list):\n",
    "        super(SharedHeadViT, self).__init__()\n",
    "        self.vit_backbone = ViTModel.from_pretrained(model_name)\n",
    "        hidden_dim = self.vit_backbone.config.hidden_size\n",
    "        self.dropout_layers = nn.ModuleList([nn.Dropout(p=rate) for rate in dropout_rates])\n",
    "        self.shared_head = nn.Linear(hidden_dim, num_classes)\n",
    "\n",
    "    def update_dropout_rates(self, new_rates: list):\n",
    "        assert len(new_rates) == len(self.dropout_layers), \"Number of new rates must match number of dropout layers.\"\n",
    "        for i, dropout_layer in enumerate(self.dropout_layers):\n",
    "            dropout_layer.p = new_rates[i]\n",
    "            \n",
    "    def forward(self, images):\n",
    "        z = self.vit_backbone(pixel_values=images).last_hidden_state[:, 0, :]\n",
    "        \n",
    "        path_outputs = {} # Changed from head_outputs\n",
    "        for i, dropout_layer in enumerate(self.dropout_layers):\n",
    "            z_dropped = dropout_layer(z)\n",
    "            logits = self.shared_head(z_dropped)\n",
    "            \n",
    "            ### LOGGING CHANGE ###\n",
    "            # The dictionary key is now 'path_x' for clarity\n",
    "            path_outputs[f'path_{i+1}'] = logits \n",
    "            \n",
    "        return path_outputs\n",
    "\n",
    "print(\"SharedHeadViT class defined with updated logging.\")"
   ]
  },
  {
   "cell_type": "code",
   "execution_count": 19,
   "metadata": {
    "execution": {
     "iopub.execute_input": "2025-10-10T18:41:13.508460Z",
     "iopub.status.busy": "2025-10-10T18:41:13.508233Z",
     "iopub.status.idle": "2025-10-10T18:41:13.531246Z",
     "shell.execute_reply": "2025-10-10T18:41:13.530720Z",
     "shell.execute_reply.started": "2025-10-10T18:41:13.508435Z"
    },
    "trusted": true
   },
   "outputs": [],
   "source": [
    "# =================================================================================\n",
    "# SECTION 4: TRAINING & EVALUATION LOGIC\n",
    "# =================================================================================\n",
    "# =================================================================================\n",
    "# SECTION 4.1: TRAIN_ONE_EPOCH FUNCTION (FINAL CORRECTED VERSION)\n",
    "# =================================================================================\n",
    "\n",
    "def train_one_epoch(model, train_loader, optimizer, criterion, device):\n",
    "    model.train()\n",
    "    total_winner_loss = 0.0\n",
    "    path_correct_preds = defaultdict(int)\n",
    "    total_samples = 0\n",
    "    progress_bar = tqdm(train_loader, desc=\"Training Epoch\", leave=False)\n",
    "\n",
    "    for images, labels in progress_bar:\n",
    "        ### THE FIX IS HERE ###\n",
    "        # Move each tensor to the device on its own line.\n",
    "        images = images.to(device)\n",
    "        labels = labels.to(device)\n",
    "        \n",
    "        z = model.vit_backbone(pixel_values=images).last_hidden_state[:, 0, :]\n",
    "        z_detached = z.detach()\n",
    "\n",
    "        path_outputs = {}\n",
    "        all_losses = {}\n",
    "        batch_accuracies = {}\n",
    "\n",
    "        for i, dropout_layer in enumerate(model.dropout_layers):\n",
    "            path_name = f'path_{i+1}'\n",
    "            \n",
    "            live_logits = model.shared_head(dropout_layer(z))\n",
    "            detached_logits = model.shared_head(dropout_layer(z_detached))\n",
    "\n",
    "            path_outputs[path_name] = live_logits\n",
    "            \n",
    "            all_losses[path_name] = {\n",
    "                'live': criterion(live_logits, labels),\n",
    "                'detached': criterion(detached_logits, labels)\n",
    "            }\n",
    "\n",
    "            _, preds = torch.max(live_logits, 1)\n",
    "            correct = torch.sum(preds == labels).item()\n",
    "            batch_accuracies[path_name] = correct / labels.size(0)\n",
    "\n",
    "        winner_path_name = max(batch_accuracies, key=batch_accuracies.get)\n",
    "\n",
    "        final_loss = all_losses[winner_path_name]['live']\n",
    "        for path_name, loss_dict in all_losses.items():\n",
    "            if path_name != winner_path_name:\n",
    "                final_loss += loss_dict['detached']\n",
    "        \n",
    "        optimizer.zero_grad()\n",
    "        final_loss.backward()\n",
    "        optimizer.step()\n",
    "\n",
    "        total_winner_loss += all_losses[winner_path_name]['live'].item()\n",
    "        for path_name, logits in path_outputs.items():\n",
    "             _, preds = torch.max(logits, 1)\n",
    "             path_correct_preds[path_name] += torch.sum(preds == labels).item()\n",
    "        total_samples += labels.size(0)\n",
    "    \n",
    "    final_path_accuracies = {name: (correct / total_samples) for name, correct in path_correct_preds.items()}\n",
    "    return {\n",
    "        \"avg_winner_loss\": total_winner_loss / len(train_loader),\n",
    "        \"path_accuracies\": final_path_accuracies\n",
    "    }"
   ]
  },
  {
   "cell_type": "code",
   "execution_count": 20,
   "metadata": {
    "execution": {
     "iopub.execute_input": "2025-10-10T18:41:13.532789Z",
     "iopub.status.busy": "2025-10-10T18:41:13.532497Z",
     "iopub.status.idle": "2025-10-10T18:41:37.322954Z",
     "shell.execute_reply": "2025-10-10T18:41:37.322070Z",
     "shell.execute_reply.started": "2025-10-10T18:41:13.532772Z"
    },
    "trusted": true
   },
   "outputs": [
    {
     "name": "stdout",
     "output_type": "stream",
     "text": [
      "Running a quick test of the training and evaluation functions...\n",
      "\n",
      "Training and evaluation logic seems correct. Ready for Section 5: The Main Experiment Loop.\n"
     ]
    }
   ],
   "source": [
    "# ---------------------------------------------------------------------------------\n",
    "# 4.2: EVALUATE FUNCTION\n",
    "# (This function is correct and does not need to change)\n",
    "# ---------------------------------------------------------------------------------\n",
    "def evaluate(model, data_loader, criterion, device):\n",
    "    model.eval()\n",
    "    total_loss = 0.0\n",
    "    correct_preds = 0\n",
    "    total_samples = 0\n",
    "    with torch.no_grad():\n",
    "        progress_bar = tqdm(data_loader, desc=\"Evaluating\", leave=False)\n",
    "        for images, labels in progress_bar:\n",
    "            images = images.to(device)\n",
    "            labels = labels.to(device)\n",
    "            total_samples += labels.size(0)\n",
    "            head_outputs = model(images)\n",
    "            all_logits = torch.stack(list(head_outputs.values()))\n",
    "            ensembled_logits = torch.mean(all_logits, dim=0)\n",
    "            loss = criterion(ensembled_logits, labels)\n",
    "            total_loss += loss.item()\n",
    "            _, preds = torch.max(ensembled_logits, 1)\n",
    "            correct_preds += torch.sum(preds == labels).item()\n",
    "    avg_loss = total_loss / len(data_loader)\n",
    "    accuracy = correct_preds / total_samples\n",
    "    return {\n",
    "        \"avg_loss\": avg_loss,\n",
    "        \"accuracy\": accuracy\n",
    "    }\n",
    "\n",
    "# --- Quick Test of the Functions (Optional but Recommended) ---\n",
    "### CHANGE ###\n",
    "# The test block is now updated to work with the new model __init__\n",
    "# and the new 80/20 get_dataloaders function.\n",
    "# ---------------------------------------------------------------------------------\n",
    "print(\"Running a quick test of the training and evaluation functions...\")\n",
    "\n",
    "# # We need some dataloaders for the test\n",
    "# target_domain_test = config.DOMAINS[3] # \"sketch\"\n",
    "# train_loader_test, val_loader_test, _ = get_dataloaders(\n",
    "#     root_dir=config.DATA_DIR,\n",
    "#     target_domain=target_domain_test,\n",
    "#     all_domains=config.DOMAINS,\n",
    "#     batch_size=config.BATCH_SIZE,\n",
    "#     seed=config.SEED # Pass the seed\n",
    "# )\n",
    "\n",
    "# # 1. Generate an initial list of dropout rates for the test\n",
    "# initial_dropout_rates = list(np.random.choice(\n",
    "#     config.DROPOUT_OPTIONS, \n",
    "#     config.NUM_HEADS, \n",
    "#     replace=False\n",
    "# ))\n",
    "# print(f\"Test model initial dropout rates: {initial_dropout_rates}\")\n",
    "\n",
    "# # 2. Instantiate the model using the LIST of rates\n",
    "# test_model = EvolutionaryViT(\n",
    "#     model_name=config.MODEL_NAME,\n",
    "#     num_classes=config.NUM_CLASSES,\n",
    "#     dropout_rates=initial_dropout_rates # Pass the list here\n",
    "# ).to(config.DEVICE)\n",
    "\n",
    "# test_optimizer = torch.optim.AdamW(test_model.parameters(), lr=config.LEARNING_RATE)\n",
    "# test_criterion = nn.CrossEntropyLoss()\n",
    "\n",
    "# # Run one training epoch\n",
    "# train_metrics = train_one_epoch(test_model, train_loader_test, test_optimizer, test_criterion, config.DEVICE)\n",
    "# print(\"\\n--- One Training Epoch Test ---\")\n",
    "# print(f\"Average Winner Loss: {train_metrics['avg_winner_loss']:.4f}\") \n",
    "# print(\"Final Head Accuracies for the Epoch:\")\n",
    "# for name, acc in train_metrics['head_accuracies'].items():\n",
    "#     print(f\"  {name}: {acc:.4f}\")\n",
    "\n",
    "# # Run one evaluation pass\n",
    "# eval_metrics = evaluate(test_model, val_loader_test, test_criterion, config.DEVICE)\n",
    "# print(\"\\n--- One Evaluation Pass Test ---\")\n",
    "# print(f\"Ensembled Validation Loss: {eval_metrics['avg_loss']:.4f}\")\n",
    "# print(f\"Ensembled Validation Accuracy: {eval_metrics['accuracy']:.4f}\")\n",
    "\n",
    "print(\"\\nTraining and evaluation logic seems correct. Ready for Section 5: The Main Experiment Loop.\")"
   ]
  },
  {
   "cell_type": "code",
   "execution_count": 21,
   "metadata": {
    "execution": {
     "iopub.execute_input": "2025-10-10T18:41:37.325012Z",
     "iopub.status.busy": "2025-10-10T18:41:37.324286Z",
     "iopub.status.idle": "2025-10-10T18:52:06.401923Z",
     "shell.execute_reply": "2025-10-10T18:52:06.401064Z",
     "shell.execute_reply.started": "2025-10-10T18:41:37.324985Z"
    },
    "trusted": true
   },
   "outputs": [
    {
     "name": "stdout",
     "output_type": "stream",
     "text": [
      "==============================================================\n",
      "  STARTING LODO EXPERIMENT: Target Domain = CALTECH101\n",
      "==============================================================\n",
      "--- Creating DataLoaders (80/20 Split Strategy) ---\n",
      "Target (Test) Domain: Caltech101\n",
      "Source Domains for Train/Val: ['LabelMe', 'SUN09', 'VOC2007']\n",
      "Source data size: 9314\n",
      "  -> Training on: 7451 images (80%)\n",
      "  -> Validating on: 1863 images (20%)\n",
      "Testing on full 'Caltech101' domain: 1415 images\n",
      "----------------------------------------------------\n"
     ]
    },
    {
     "name": "stderr",
     "output_type": "stream",
     "text": [
      "Some weights of ViTModel were not initialized from the model checkpoint at WinKawaks/vit-tiny-patch16-224 and are newly initialized: ['pooler.dense.bias', 'pooler.dense.weight']\n",
      "You should probably TRAIN this model on a down-stream task to be able to use it for predictions and inference.\n"
     ]
    },
    {
     "name": "stdout",
     "output_type": "stream",
     "text": [
      "\n",
      "--- Epoch 1/5 ---\n",
      "Current Dropout Rates: {'path_1': np.float64(0.1), 'path_2': np.float64(0.2), 'path_3': np.float64(0.6), 'path_4': np.float64(0.3)}\n"
     ]
    },
    {
     "data": {
      "application/vnd.jupyter.widget-view+json": {
       "model_id": "2e214054b4dd46b494142ca4ec7ef33b",
       "version_major": 2,
       "version_minor": 0
      },
      "text/plain": [
       "Training Epoch:   0%|          | 0/59 [00:00<?, ?it/s]"
      ]
     },
     "metadata": {},
     "output_type": "display_data"
    },
    {
     "data": {
      "application/vnd.jupyter.widget-view+json": {
       "model_id": "3d37495ddb294e8983ccc40ebc28d292",
       "version_major": 2,
       "version_minor": 0
      },
      "text/plain": [
       "Evaluating:   0%|          | 0/15 [00:00<?, ?it/s]"
      ]
     },
     "metadata": {},
     "output_type": "display_data"
    },
    {
     "name": "stdout",
     "output_type": "stream",
     "text": [
      "Epoch 1 Summary:\n",
      "  Train Avg Winner Loss: 3.8181\n",
      "  Validation Loss: 0.5147\n",
      "  Validation Accuracy: 0.8148\n",
      "  New best validation accuracy! Saving model state.\n",
      "  Epoch Training Accuracies:\n",
      "    path_1: 0.7225 <- WINNER\n",
      "    path_2: 0.7161 \n",
      "    path_3: 0.6289 \n",
      "    path_4: 0.7019 \n",
      "\n",
      "--- Epoch 2/5 ---\n",
      "Current Dropout Rates: {'path_1': np.float64(0.1), 'path_2': np.float64(0.1), 'path_3': np.float64(0.4), 'path_4': np.float64(0.3)}\n"
     ]
    },
    {
     "data": {
      "application/vnd.jupyter.widget-view+json": {
       "model_id": "930ae11c844942f8b069a3b2a8b48de6",
       "version_major": 2,
       "version_minor": 0
      },
      "text/plain": [
       "Training Epoch:   0%|          | 0/59 [00:00<?, ?it/s]"
      ]
     },
     "metadata": {},
     "output_type": "display_data"
    },
    {
     "data": {
      "application/vnd.jupyter.widget-view+json": {
       "model_id": "167d5694a8a2446aad078efe65b203ef",
       "version_major": 2,
       "version_minor": 0
      },
      "text/plain": [
       "Evaluating:   0%|          | 0/15 [00:00<?, ?it/s]"
      ]
     },
     "metadata": {},
     "output_type": "display_data"
    },
    {
     "name": "stdout",
     "output_type": "stream",
     "text": [
      "Epoch 2 Summary:\n",
      "  Train Avg Winner Loss: 1.8343\n",
      "  Validation Loss: 0.4826\n",
      "  Validation Accuracy: 0.8218\n",
      "  New best validation accuracy! Saving model state.\n",
      "  Epoch Training Accuracies:\n",
      "    path_1: 0.8415 \n",
      "    path_2: 0.8446 <- WINNER\n",
      "    path_3: 0.8153 \n",
      "    path_4: 0.8247 \n",
      "\n",
      "--- Epoch 3/5 ---\n",
      "Current Dropout Rates: {'path_1': np.float64(0.1), 'path_2': np.float64(0.1), 'path_3': np.float64(0.7), 'path_4': np.float64(0.6)}\n"
     ]
    },
    {
     "data": {
      "application/vnd.jupyter.widget-view+json": {
       "model_id": "fe7e4a7bb6bf47708ffd54997a1b6313",
       "version_major": 2,
       "version_minor": 0
      },
      "text/plain": [
       "Training Epoch:   0%|          | 0/59 [00:00<?, ?it/s]"
      ]
     },
     "metadata": {},
     "output_type": "display_data"
    },
    {
     "data": {
      "application/vnd.jupyter.widget-view+json": {
       "model_id": "cfee8a2872824dac95e78cd6c99b991c",
       "version_major": 2,
       "version_minor": 0
      },
      "text/plain": [
       "Evaluating:   0%|          | 0/15 [00:00<?, ?it/s]"
      ]
     },
     "metadata": {},
     "output_type": "display_data"
    },
    {
     "name": "stdout",
     "output_type": "stream",
     "text": [
      "Epoch 3 Summary:\n",
      "  Train Avg Winner Loss: 1.6990\n",
      "  Validation Loss: 0.5455\n",
      "  Validation Accuracy: 0.8154\n",
      "  Epoch Training Accuracies:\n",
      "    path_1: 0.9019 <- WINNER\n",
      "    path_2: 0.8992 \n",
      "    path_3: 0.7812 \n",
      "    path_4: 0.8241 \n",
      "\n",
      "--- Epoch 4/5 ---\n",
      "Current Dropout Rates: {'path_1': np.float64(0.1), 'path_2': np.float64(0.3), 'path_3': np.float64(0.7), 'path_4': np.float64(0.6)}\n"
     ]
    },
    {
     "data": {
      "application/vnd.jupyter.widget-view+json": {
       "model_id": "b09e5d20fa70444587588495b13c6db4",
       "version_major": 2,
       "version_minor": 0
      },
      "text/plain": [
       "Training Epoch:   0%|          | 0/59 [00:00<?, ?it/s]"
      ]
     },
     "metadata": {},
     "output_type": "display_data"
    },
    {
     "data": {
      "application/vnd.jupyter.widget-view+json": {
       "model_id": "7fae61330d554dfcbf8e5f01d49dc819",
       "version_major": 2,
       "version_minor": 0
      },
      "text/plain": [
       "Evaluating:   0%|          | 0/15 [00:00<?, ?it/s]"
      ]
     },
     "metadata": {},
     "output_type": "display_data"
    },
    {
     "name": "stdout",
     "output_type": "stream",
     "text": [
      "Epoch 4 Summary:\n",
      "  Train Avg Winner Loss: 1.2989\n",
      "  Validation Loss: 0.6410\n",
      "  Validation Accuracy: 0.8175\n",
      "  Epoch Training Accuracies:\n",
      "    path_1: 0.9297 <- WINNER\n",
      "    path_2: 0.9223 \n",
      "    path_3: 0.8317 \n",
      "    path_4: 0.8746 \n",
      "\n",
      "--- Epoch 5/5 ---\n",
      "Current Dropout Rates: {'path_1': np.float64(0.1), 'path_2': np.float64(0.3), 'path_3': np.float64(0.2), 'path_4': np.float64(0.7)}\n"
     ]
    },
    {
     "data": {
      "application/vnd.jupyter.widget-view+json": {
       "model_id": "6aecdd2916ea4d20a6bedc9aa7fe3c0a",
       "version_major": 2,
       "version_minor": 0
      },
      "text/plain": [
       "Training Epoch:   0%|          | 0/59 [00:00<?, ?it/s]"
      ]
     },
     "metadata": {},
     "output_type": "display_data"
    },
    {
     "data": {
      "application/vnd.jupyter.widget-view+json": {
       "model_id": "4e9bb013f98e4f1d8422b10f5f1a26f1",
       "version_major": 2,
       "version_minor": 0
      },
      "text/plain": [
       "Evaluating:   0%|          | 0/15 [00:00<?, ?it/s]"
      ]
     },
     "metadata": {},
     "output_type": "display_data"
    },
    {
     "name": "stdout",
     "output_type": "stream",
     "text": [
      "Epoch 5 Summary:\n",
      "  Train Avg Winner Loss: 0.7527\n",
      "  Validation Loss: 0.7259\n",
      "  Validation Accuracy: 0.8229\n",
      "  New best validation accuracy! Saving model state.\n",
      "  Epoch Training Accuracies:\n",
      "    path_1: 0.9564 <- WINNER\n",
      "    path_2: 0.9475 \n",
      "    path_3: 0.9520 \n",
      "    path_4: 0.8764 \n",
      "\n",
      "Training complete for this LODO split.\n",
      "Loading best model state and evaluating on the TEST set...\n"
     ]
    },
    {
     "data": {
      "application/vnd.jupyter.widget-view+json": {
       "model_id": "8c5be22395b7453c94dbd2658644e300",
       "version_major": 2,
       "version_minor": 0
      },
      "text/plain": [
       "Evaluating:   0%|          | 0/12 [00:00<?, ?it/s]"
      ]
     },
     "metadata": {},
     "output_type": "display_data"
    },
    {
     "name": "stdout",
     "output_type": "stream",
     "text": [
      "\n",
      "--- RESULTS FOR TARGET DOMAIN: CALTECH101 ---\n",
      "  Test Accuracy: 0.9413\n",
      "--------------------------------------------------\n",
      "==============================================================\n",
      "  STARTING LODO EXPERIMENT: Target Domain = LABELME\n",
      "==============================================================\n",
      "--- Creating DataLoaders (80/20 Split Strategy) ---\n",
      "Target (Test) Domain: LabelMe\n",
      "Source Domains for Train/Val: ['Caltech101', 'SUN09', 'VOC2007']\n",
      "Source data size: 8073\n",
      "  -> Training on: 6458 images (80%)\n",
      "  -> Validating on: 1615 images (20%)\n",
      "Testing on full 'LabelMe' domain: 2656 images\n",
      "----------------------------------------------------\n"
     ]
    },
    {
     "name": "stderr",
     "output_type": "stream",
     "text": [
      "Some weights of ViTModel were not initialized from the model checkpoint at WinKawaks/vit-tiny-patch16-224 and are newly initialized: ['pooler.dense.bias', 'pooler.dense.weight']\n",
      "You should probably TRAIN this model on a down-stream task to be able to use it for predictions and inference.\n"
     ]
    },
    {
     "name": "stdout",
     "output_type": "stream",
     "text": [
      "\n",
      "--- Epoch 1/5 ---\n",
      "Current Dropout Rates: {'path_1': np.float64(0.1), 'path_2': np.float64(0.6), 'path_3': np.float64(0.3), 'path_4': np.float64(0.5)}\n"
     ]
    },
    {
     "data": {
      "application/vnd.jupyter.widget-view+json": {
       "model_id": "cdcddd7e41ce445eac66700c879c8909",
       "version_major": 2,
       "version_minor": 0
      },
      "text/plain": [
       "Training Epoch:   0%|          | 0/51 [00:00<?, ?it/s]"
      ]
     },
     "metadata": {},
     "output_type": "display_data"
    },
    {
     "data": {
      "application/vnd.jupyter.widget-view+json": {
       "model_id": "e9cbb4c04dd64897b2aa4e0e81d73efe",
       "version_major": 2,
       "version_minor": 0
      },
      "text/plain": [
       "Evaluating:   0%|          | 0/13 [00:00<?, ?it/s]"
      ]
     },
     "metadata": {},
     "output_type": "display_data"
    },
    {
     "name": "stdout",
     "output_type": "stream",
     "text": [
      "Epoch 1 Summary:\n",
      "  Train Avg Winner Loss: 3.8245\n",
      "  Validation Loss: 0.4082\n",
      "  Validation Accuracy: 0.8570\n",
      "  New best validation accuracy! Saving model state.\n",
      "  Epoch Training Accuracies:\n",
      "    path_1: 0.7924 <- WINNER\n",
      "    path_2: 0.6929 \n",
      "    path_3: 0.7572 \n",
      "    path_4: 0.7216 \n",
      "\n",
      "--- Epoch 2/5 ---\n",
      "Current Dropout Rates: {'path_1': np.float64(0.1), 'path_2': np.float64(0.2), 'path_3': np.float64(0.5), 'path_4': np.float64(0.4)}\n"
     ]
    },
    {
     "data": {
      "application/vnd.jupyter.widget-view+json": {
       "model_id": "d383b6440a824c5883265ed4ce1dec3c",
       "version_major": 2,
       "version_minor": 0
      },
      "text/plain": [
       "Training Epoch:   0%|          | 0/51 [00:00<?, ?it/s]"
      ]
     },
     "metadata": {},
     "output_type": "display_data"
    },
    {
     "data": {
      "application/vnd.jupyter.widget-view+json": {
       "model_id": "3542ba967d1543e69544a0f70441210c",
       "version_major": 2,
       "version_minor": 0
      },
      "text/plain": [
       "Evaluating:   0%|          | 0/13 [00:00<?, ?it/s]"
      ]
     },
     "metadata": {},
     "output_type": "display_data"
    },
    {
     "name": "stdout",
     "output_type": "stream",
     "text": [
      "Epoch 2 Summary:\n",
      "  Train Avg Winner Loss: 1.3726\n",
      "  Validation Loss: 0.3899\n",
      "  Validation Accuracy: 0.8755\n",
      "  New best validation accuracy! Saving model state.\n",
      "  Epoch Training Accuracies:\n",
      "    path_1: 0.9051 <- WINNER\n",
      "    path_2: 0.8992 \n",
      "    path_3: 0.8444 \n",
      "    path_4: 0.8693 \n",
      "\n",
      "--- Epoch 3/5 ---\n",
      "Current Dropout Rates: {'path_1': np.float64(0.1), 'path_2': np.float64(0.7), 'path_3': np.float64(0.4), 'path_4': np.float64(0.6)}\n"
     ]
    },
    {
     "data": {
      "application/vnd.jupyter.widget-view+json": {
       "model_id": "ed970c6ca2ca4784b995cf895cc973dc",
       "version_major": 2,
       "version_minor": 0
      },
      "text/plain": [
       "Training Epoch:   0%|          | 0/51 [00:00<?, ?it/s]"
      ]
     },
     "metadata": {},
     "output_type": "display_data"
    },
    {
     "data": {
      "application/vnd.jupyter.widget-view+json": {
       "model_id": "9826ff975b1c451298ef84765bee9d08",
       "version_major": 2,
       "version_minor": 0
      },
      "text/plain": [
       "Evaluating:   0%|          | 0/13 [00:00<?, ?it/s]"
      ]
     },
     "metadata": {},
     "output_type": "display_data"
    },
    {
     "name": "stdout",
     "output_type": "stream",
     "text": [
      "Epoch 3 Summary:\n",
      "  Train Avg Winner Loss: 1.3040\n",
      "  Validation Loss: 0.4321\n",
      "  Validation Accuracy: 0.8588\n",
      "  Epoch Training Accuracies:\n",
      "    path_1: 0.9415 <- WINNER\n",
      "    path_2: 0.8365 \n",
      "    path_3: 0.9158 \n",
      "    path_4: 0.8771 \n",
      "\n",
      "--- Epoch 4/5 ---\n",
      "Current Dropout Rates: {'path_1': np.float64(0.1), 'path_2': np.float64(0.3), 'path_3': np.float64(0.6), 'path_4': np.float64(0.7)}\n"
     ]
    },
    {
     "data": {
      "application/vnd.jupyter.widget-view+json": {
       "model_id": "6a5566502322455ab176623ba65f3d07",
       "version_major": 2,
       "version_minor": 0
      },
      "text/plain": [
       "Training Epoch:   0%|          | 0/51 [00:00<?, ?it/s]"
      ]
     },
     "metadata": {},
     "output_type": "display_data"
    },
    {
     "data": {
      "application/vnd.jupyter.widget-view+json": {
       "model_id": "cb2a692398cc4c5a886da8c895a7bb0a",
       "version_major": 2,
       "version_minor": 0
      },
      "text/plain": [
       "Evaluating:   0%|          | 0/13 [00:00<?, ?it/s]"
      ]
     },
     "metadata": {},
     "output_type": "display_data"
    },
    {
     "name": "stdout",
     "output_type": "stream",
     "text": [
      "Epoch 4 Summary:\n",
      "  Train Avg Winner Loss: 0.7992\n",
      "  Validation Loss: 0.4314\n",
      "  Validation Accuracy: 0.8786\n",
      "  New best validation accuracy! Saving model state.\n",
      "  Epoch Training Accuracies:\n",
      "    path_1: 0.9748 <- WINNER\n",
      "    path_2: 0.9650 \n",
      "    path_3: 0.9190 \n",
      "    path_4: 0.8876 \n",
      "\n",
      "--- Epoch 5/5 ---\n",
      "Current Dropout Rates: {'path_1': np.float64(0.1), 'path_2': np.float64(0.3), 'path_3': np.float64(0.5), 'path_4': np.float64(0.6)}\n"
     ]
    },
    {
     "data": {
      "application/vnd.jupyter.widget-view+json": {
       "model_id": "638eab68d04840c2a8cc270f5237f7fd",
       "version_major": 2,
       "version_minor": 0
      },
      "text/plain": [
       "Training Epoch:   0%|          | 0/51 [00:00<?, ?it/s]"
      ]
     },
     "metadata": {},
     "output_type": "display_data"
    },
    {
     "data": {
      "application/vnd.jupyter.widget-view+json": {
       "model_id": "ce2847c279ed4bec9ec47f92de63be18",
       "version_major": 2,
       "version_minor": 0
      },
      "text/plain": [
       "Evaluating:   0%|          | 0/13 [00:00<?, ?it/s]"
      ]
     },
     "metadata": {},
     "output_type": "display_data"
    },
    {
     "name": "stdout",
     "output_type": "stream",
     "text": [
      "Epoch 5 Summary:\n",
      "  Train Avg Winner Loss: 0.4364\n",
      "  Validation Loss: 0.4875\n",
      "  Validation Accuracy: 0.8743\n",
      "  Epoch Training Accuracies:\n",
      "    path_1: 0.9799 <- WINNER\n",
      "    path_2: 0.9724 \n",
      "    path_3: 0.9542 \n",
      "    path_4: 0.9402 \n",
      "\n",
      "Training complete for this LODO split.\n",
      "Loading best model state and evaluating on the TEST set...\n"
     ]
    },
    {
     "data": {
      "application/vnd.jupyter.widget-view+json": {
       "model_id": "3bd57bc6c0df4c15bc9f7bc8831f4f86",
       "version_major": 2,
       "version_minor": 0
      },
      "text/plain": [
       "Evaluating:   0%|          | 0/21 [00:00<?, ?it/s]"
      ]
     },
     "metadata": {},
     "output_type": "display_data"
    },
    {
     "name": "stdout",
     "output_type": "stream",
     "text": [
      "\n",
      "--- RESULTS FOR TARGET DOMAIN: LABELME ---\n",
      "  Test Accuracy: 0.6604\n",
      "--------------------------------------------------\n",
      "==============================================================\n",
      "  STARTING LODO EXPERIMENT: Target Domain = SUN09\n",
      "==============================================================\n",
      "--- Creating DataLoaders (80/20 Split Strategy) ---\n",
      "Target (Test) Domain: SUN09\n",
      "Source Domains for Train/Val: ['Caltech101', 'LabelMe', 'VOC2007']\n",
      "Source data size: 7447\n",
      "  -> Training on: 5957 images (80%)\n",
      "  -> Validating on: 1490 images (20%)\n",
      "Testing on full 'SUN09' domain: 3282 images\n",
      "----------------------------------------------------\n"
     ]
    },
    {
     "name": "stderr",
     "output_type": "stream",
     "text": [
      "Some weights of ViTModel were not initialized from the model checkpoint at WinKawaks/vit-tiny-patch16-224 and are newly initialized: ['pooler.dense.bias', 'pooler.dense.weight']\n",
      "You should probably TRAIN this model on a down-stream task to be able to use it for predictions and inference.\n"
     ]
    },
    {
     "name": "stdout",
     "output_type": "stream",
     "text": [
      "\n",
      "--- Epoch 1/5 ---\n",
      "Current Dropout Rates: {'path_1': np.float64(0.7), 'path_2': np.float64(0.3), 'path_3': np.float64(0.5), 'path_4': np.float64(0.2)}\n"
     ]
    },
    {
     "data": {
      "application/vnd.jupyter.widget-view+json": {
       "model_id": "62276100b4d2476a893debdf82249e02",
       "version_major": 2,
       "version_minor": 0
      },
      "text/plain": [
       "Training Epoch:   0%|          | 0/47 [00:00<?, ?it/s]"
      ]
     },
     "metadata": {},
     "output_type": "display_data"
    },
    {
     "data": {
      "application/vnd.jupyter.widget-view+json": {
       "model_id": "1ace7985824a44c0a13fb53756acf666",
       "version_major": 2,
       "version_minor": 0
      },
      "text/plain": [
       "Evaluating:   0%|          | 0/12 [00:00<?, ?it/s]"
      ]
     },
     "metadata": {},
     "output_type": "display_data"
    },
    {
     "name": "stdout",
     "output_type": "stream",
     "text": [
      "Epoch 1 Summary:\n",
      "  Train Avg Winner Loss: 4.1385\n",
      "  Validation Loss: 0.4784\n",
      "  Validation Accuracy: 0.8188\n",
      "  New best validation accuracy! Saving model state.\n",
      "  Epoch Training Accuracies:\n",
      "    path_1: 0.6401 \n",
      "    path_2: 0.7375 \n",
      "    path_3: 0.7072 \n",
      "    path_4: 0.7526 <- WINNER\n",
      "\n",
      "--- Epoch 2/5 ---\n",
      "Current Dropout Rates: {'path_1': np.float64(0.3), 'path_2': np.float64(0.1), 'path_3': np.float64(0.5), 'path_4': np.float64(0.2)}\n"
     ]
    },
    {
     "data": {
      "application/vnd.jupyter.widget-view+json": {
       "model_id": "c34da95bc6354220b4236f4e55a410cb",
       "version_major": 2,
       "version_minor": 0
      },
      "text/plain": [
       "Training Epoch:   0%|          | 0/47 [00:00<?, ?it/s]"
      ]
     },
     "metadata": {},
     "output_type": "display_data"
    },
    {
     "data": {
      "application/vnd.jupyter.widget-view+json": {
       "model_id": "cafb99aaaf28464093cdae07e10ea474",
       "version_major": 2,
       "version_minor": 0
      },
      "text/plain": [
       "Evaluating:   0%|          | 0/12 [00:00<?, ?it/s]"
      ]
     },
     "metadata": {},
     "output_type": "display_data"
    },
    {
     "name": "stdout",
     "output_type": "stream",
     "text": [
      "Epoch 2 Summary:\n",
      "  Train Avg Winner Loss: 1.5438\n",
      "  Validation Loss: 0.4294\n",
      "  Validation Accuracy: 0.8530\n",
      "  New best validation accuracy! Saving model state.\n",
      "  Epoch Training Accuracies:\n",
      "    path_1: 0.8590 \n",
      "    path_2: 0.8691 <- WINNER\n",
      "    path_3: 0.8301 \n",
      "    path_4: 0.8642 \n",
      "\n",
      "--- Epoch 3/5 ---\n",
      "Current Dropout Rates: {'path_1': np.float64(0.1), 'path_2': np.float64(0.1), 'path_3': np.float64(0.5), 'path_4': np.float64(0.4)}\n"
     ]
    },
    {
     "data": {
      "application/vnd.jupyter.widget-view+json": {
       "model_id": "f1624c37208540f6bf9325c2c7b53222",
       "version_major": 2,
       "version_minor": 0
      },
      "text/plain": [
       "Training Epoch:   0%|          | 0/47 [00:00<?, ?it/s]"
      ]
     },
     "metadata": {},
     "output_type": "display_data"
    },
    {
     "data": {
      "application/vnd.jupyter.widget-view+json": {
       "model_id": "610036bb3a0147589aa95348b124dd1b",
       "version_major": 2,
       "version_minor": 0
      },
      "text/plain": [
       "Evaluating:   0%|          | 0/12 [00:00<?, ?it/s]"
      ]
     },
     "metadata": {},
     "output_type": "display_data"
    },
    {
     "name": "stdout",
     "output_type": "stream",
     "text": [
      "Epoch 3 Summary:\n",
      "  Train Avg Winner Loss: 1.1047\n",
      "  Validation Loss: 0.4830\n",
      "  Validation Accuracy: 0.8443\n",
      "  Epoch Training Accuracies:\n",
      "    path_1: 0.9060 <- WINNER\n",
      "    path_2: 0.9055 \n",
      "    path_3: 0.8776 \n",
      "    path_4: 0.8864 \n",
      "\n",
      "--- Epoch 4/5 ---\n",
      "Current Dropout Rates: {'path_1': np.float64(0.1), 'path_2': np.float64(0.3), 'path_3': np.float64(0.2), 'path_4': np.float64(0.1)}\n"
     ]
    },
    {
     "data": {
      "application/vnd.jupyter.widget-view+json": {
       "model_id": "39ef994e8e7d4375b287db2d3108f100",
       "version_major": 2,
       "version_minor": 0
      },
      "text/plain": [
       "Training Epoch:   0%|          | 0/47 [00:00<?, ?it/s]"
      ]
     },
     "metadata": {},
     "output_type": "display_data"
    },
    {
     "data": {
      "application/vnd.jupyter.widget-view+json": {
       "model_id": "3f006f96c8df463e8e40210e13394bab",
       "version_major": 2,
       "version_minor": 0
      },
      "text/plain": [
       "Evaluating:   0%|          | 0/12 [00:00<?, ?it/s]"
      ]
     },
     "metadata": {},
     "output_type": "display_data"
    },
    {
     "name": "stdout",
     "output_type": "stream",
     "text": [
      "Epoch 4 Summary:\n",
      "  Train Avg Winner Loss: 0.7763\n",
      "  Validation Loss: 0.5286\n",
      "  Validation Accuracy: 0.8483\n",
      "  Epoch Training Accuracies:\n",
      "    path_1: 0.9303 \n",
      "    path_2: 0.9206 \n",
      "    path_3: 0.9278 \n",
      "    path_4: 0.9313 <- WINNER\n",
      "\n",
      "--- Epoch 5/5 ---\n",
      "Current Dropout Rates: {'path_1': np.float64(0.4), 'path_2': np.float64(0.6), 'path_3': np.float64(0.1), 'path_4': np.float64(0.1)}\n"
     ]
    },
    {
     "data": {
      "application/vnd.jupyter.widget-view+json": {
       "model_id": "15b1724e38784c629b6c50df13e6b829",
       "version_major": 2,
       "version_minor": 0
      },
      "text/plain": [
       "Training Epoch:   0%|          | 0/47 [00:00<?, ?it/s]"
      ]
     },
     "metadata": {},
     "output_type": "display_data"
    },
    {
     "data": {
      "application/vnd.jupyter.widget-view+json": {
       "model_id": "2cac838e4e4f4b8ca1cd7bbf7805158b",
       "version_major": 2,
       "version_minor": 0
      },
      "text/plain": [
       "Evaluating:   0%|          | 0/12 [00:00<?, ?it/s]"
      ]
     },
     "metadata": {},
     "output_type": "display_data"
    },
    {
     "name": "stdout",
     "output_type": "stream",
     "text": [
      "Epoch 5 Summary:\n",
      "  Train Avg Winner Loss: 0.5648\n",
      "  Validation Loss: 0.6070\n",
      "  Validation Accuracy: 0.8477\n",
      "  Epoch Training Accuracies:\n",
      "    path_1: 0.9490 \n",
      "    path_2: 0.9199 \n",
      "    path_3: 0.9642 \n",
      "    path_4: 0.9654 <- WINNER\n",
      "\n",
      "Training complete for this LODO split.\n",
      "Loading best model state and evaluating on the TEST set...\n"
     ]
    },
    {
     "data": {
      "application/vnd.jupyter.widget-view+json": {
       "model_id": "b6d904fee0c14e529a5c104443c4f912",
       "version_major": 2,
       "version_minor": 0
      },
      "text/plain": [
       "Evaluating:   0%|          | 0/26 [00:00<?, ?it/s]"
      ]
     },
     "metadata": {},
     "output_type": "display_data"
    },
    {
     "name": "stdout",
     "output_type": "stream",
     "text": [
      "\n",
      "--- RESULTS FOR TARGET DOMAIN: SUN09 ---\n",
      "  Test Accuracy: 0.7770\n",
      "--------------------------------------------------\n",
      "==============================================================\n",
      "  STARTING LODO EXPERIMENT: Target Domain = VOC2007\n",
      "==============================================================\n",
      "--- Creating DataLoaders (80/20 Split Strategy) ---\n",
      "Target (Test) Domain: VOC2007\n",
      "Source Domains for Train/Val: ['Caltech101', 'LabelMe', 'SUN09']\n",
      "Source data size: 7353\n",
      "  -> Training on: 5882 images (80%)\n",
      "  -> Validating on: 1471 images (20%)\n",
      "Testing on full 'VOC2007' domain: 3376 images\n",
      "----------------------------------------------------\n"
     ]
    },
    {
     "name": "stderr",
     "output_type": "stream",
     "text": [
      "Some weights of ViTModel were not initialized from the model checkpoint at WinKawaks/vit-tiny-patch16-224 and are newly initialized: ['pooler.dense.bias', 'pooler.dense.weight']\n",
      "You should probably TRAIN this model on a down-stream task to be able to use it for predictions and inference.\n"
     ]
    },
    {
     "name": "stdout",
     "output_type": "stream",
     "text": [
      "\n",
      "--- Epoch 1/5 ---\n",
      "Current Dropout Rates: {'path_1': np.float64(0.2), 'path_2': np.float64(0.4), 'path_3': np.float64(0.3), 'path_4': np.float64(0.6)}\n"
     ]
    },
    {
     "data": {
      "application/vnd.jupyter.widget-view+json": {
       "model_id": "523c2ca9f93146a0bb697493e638f3fd",
       "version_major": 2,
       "version_minor": 0
      },
      "text/plain": [
       "Training Epoch:   0%|          | 0/46 [00:00<?, ?it/s]"
      ]
     },
     "metadata": {},
     "output_type": "display_data"
    },
    {
     "data": {
      "application/vnd.jupyter.widget-view+json": {
       "model_id": "ae960edbee7c430d9e0a6d9223f1150b",
       "version_major": 2,
       "version_minor": 0
      },
      "text/plain": [
       "Evaluating:   0%|          | 0/12 [00:00<?, ?it/s]"
      ]
     },
     "metadata": {},
     "output_type": "display_data"
    },
    {
     "name": "stdout",
     "output_type": "stream",
     "text": [
      "Epoch 1 Summary:\n",
      "  Train Avg Winner Loss: 3.3321\n",
      "  Validation Loss: 0.4955\n",
      "  Validation Accuracy: 0.8171\n",
      "  New best validation accuracy! Saving model state.\n",
      "  Epoch Training Accuracies:\n",
      "    path_1: 0.7599 <- WINNER\n",
      "    path_2: 0.7373 \n",
      "    path_3: 0.7365 \n",
      "    path_4: 0.6678 \n",
      "\n",
      "--- Epoch 2/5 ---\n",
      "Current Dropout Rates: {'path_1': np.float64(0.2), 'path_2': np.float64(0.2), 'path_3': np.float64(0.7), 'path_4': np.float64(0.5)}\n"
     ]
    },
    {
     "data": {
      "application/vnd.jupyter.widget-view+json": {
       "model_id": "634e40ee9511412f9c84a278dd2c6f53",
       "version_major": 2,
       "version_minor": 0
      },
      "text/plain": [
       "Training Epoch:   0%|          | 0/46 [00:00<?, ?it/s]"
      ]
     },
     "metadata": {},
     "output_type": "display_data"
    },
    {
     "data": {
      "application/vnd.jupyter.widget-view+json": {
       "model_id": "579f81b6d2f94d9cb1f76e8dbeab61fb",
       "version_major": 2,
       "version_minor": 0
      },
      "text/plain": [
       "Evaluating:   0%|          | 0/12 [00:00<?, ?it/s]"
      ]
     },
     "metadata": {},
     "output_type": "display_data"
    },
    {
     "name": "stdout",
     "output_type": "stream",
     "text": [
      "Epoch 2 Summary:\n",
      "  Train Avg Winner Loss: 1.9453\n",
      "  Validation Loss: 0.4807\n",
      "  Validation Accuracy: 0.8266\n",
      "  New best validation accuracy! Saving model state.\n",
      "  Epoch Training Accuracies:\n",
      "    path_1: 0.8529 <- WINNER\n",
      "    path_2: 0.8519 \n",
      "    path_3: 0.7644 \n",
      "    path_4: 0.8274 \n",
      "\n",
      "--- Epoch 3/5 ---\n",
      "Current Dropout Rates: {'path_1': np.float64(0.2), 'path_2': np.float64(0.2), 'path_3': np.float64(0.5), 'path_4': np.float64(0.6)}\n"
     ]
    },
    {
     "data": {
      "application/vnd.jupyter.widget-view+json": {
       "model_id": "e2112ce464704aec9fb999afb04ad7d4",
       "version_major": 2,
       "version_minor": 0
      },
      "text/plain": [
       "Training Epoch:   0%|          | 0/46 [00:00<?, ?it/s]"
      ]
     },
     "metadata": {},
     "output_type": "display_data"
    },
    {
     "data": {
      "application/vnd.jupyter.widget-view+json": {
       "model_id": "946bbb9ecc71429fb1a2964872d25ec3",
       "version_major": 2,
       "version_minor": 0
      },
      "text/plain": [
       "Evaluating:   0%|          | 0/12 [00:00<?, ?it/s]"
      ]
     },
     "metadata": {},
     "output_type": "display_data"
    },
    {
     "name": "stdout",
     "output_type": "stream",
     "text": [
      "Epoch 3 Summary:\n",
      "  Train Avg Winner Loss: 1.3633\n",
      "  Validation Loss: 0.5121\n",
      "  Validation Accuracy: 0.8199\n",
      "  Epoch Training Accuracies:\n",
      "    path_1: 0.8912 \n",
      "    path_2: 0.8948 <- WINNER\n",
      "    path_3: 0.8694 \n",
      "    path_4: 0.8591 \n",
      "\n",
      "--- Epoch 4/5 ---\n",
      "Current Dropout Rates: {'path_1': np.float64(0.6), 'path_2': np.float64(0.2), 'path_3': np.float64(0.3), 'path_4': np.float64(0.4)}\n"
     ]
    },
    {
     "data": {
      "application/vnd.jupyter.widget-view+json": {
       "model_id": "7cd799a9e4fd4fd4a267f2664d59af82",
       "version_major": 2,
       "version_minor": 0
      },
      "text/plain": [
       "Training Epoch:   0%|          | 0/46 [00:00<?, ?it/s]"
      ]
     },
     "metadata": {},
     "output_type": "display_data"
    },
    {
     "data": {
      "application/vnd.jupyter.widget-view+json": {
       "model_id": "144ed6a47d7741fa885eb6517735424a",
       "version_major": 2,
       "version_minor": 0
      },
      "text/plain": [
       "Evaluating:   0%|          | 0/12 [00:00<?, ?it/s]"
      ]
     },
     "metadata": {},
     "output_type": "display_data"
    },
    {
     "name": "stdout",
     "output_type": "stream",
     "text": [
      "Epoch 4 Summary:\n",
      "  Train Avg Winner Loss: 0.8546\n",
      "  Validation Loss: 0.6004\n",
      "  Validation Accuracy: 0.8239\n",
      "  Epoch Training Accuracies:\n",
      "    path_1: 0.9048 \n",
      "    path_2: 0.9368 <- WINNER\n",
      "    path_3: 0.9318 \n",
      "    path_4: 0.9281 \n",
      "\n",
      "--- Epoch 5/5 ---\n",
      "Current Dropout Rates: {'path_1': np.float64(0.6), 'path_2': np.float64(0.2), 'path_3': np.float64(0.3), 'path_4': np.float64(0.7)}\n"
     ]
    },
    {
     "data": {
      "application/vnd.jupyter.widget-view+json": {
       "model_id": "197fe594acde476aa84a7bdb18f2eb8d",
       "version_major": 2,
       "version_minor": 0
      },
      "text/plain": [
       "Training Epoch:   0%|          | 0/46 [00:00<?, ?it/s]"
      ]
     },
     "metadata": {},
     "output_type": "display_data"
    },
    {
     "data": {
      "application/vnd.jupyter.widget-view+json": {
       "model_id": "f51db5a29fd84c0da7df80b643688a01",
       "version_major": 2,
       "version_minor": 0
      },
      "text/plain": [
       "Evaluating:   0%|          | 0/12 [00:00<?, ?it/s]"
      ]
     },
     "metadata": {},
     "output_type": "display_data"
    },
    {
     "name": "stdout",
     "output_type": "stream",
     "text": [
      "Epoch 5 Summary:\n",
      "  Train Avg Winner Loss: 0.7566\n",
      "  Validation Loss: 0.7655\n",
      "  Validation Accuracy: 0.8158\n",
      "  Epoch Training Accuracies:\n",
      "    path_1: 0.9284 \n",
      "    path_2: 0.9504 <- WINNER\n",
      "    path_3: 0.9487 \n",
      "    path_4: 0.9060 \n",
      "\n",
      "Training complete for this LODO split.\n",
      "Loading best model state and evaluating on the TEST set...\n"
     ]
    },
    {
     "data": {
      "application/vnd.jupyter.widget-view+json": {
       "model_id": "d091ad0caee14dbba4028cc2ff2888ac",
       "version_major": 2,
       "version_minor": 0
      },
      "text/plain": [
       "Evaluating:   0%|          | 0/27 [00:00<?, ?it/s]"
      ]
     },
     "metadata": {},
     "output_type": "display_data"
    },
    {
     "name": "stdout",
     "output_type": "stream",
     "text": [
      "\n",
      "--- RESULTS FOR TARGET DOMAIN: VOC2007 ---\n",
      "  Test Accuracy: 0.7435\n",
      "--------------------------------------------------\n",
      "\n",
      "\n",
      "==============================================================\n",
      "          ALL ADAPTIVE DROPOUT LODO EXPERIMENTS COMPLETE\n",
      "==============================================================\n"
     ]
    }
   ],
   "source": [
    "# =================================================================================\n",
    "# SECTION 5: THE MAIN EXPERIMENT LOOP (SHARED HEAD - FINAL CORRECTED VERSION)\n",
    "# =================================================================================\n",
    "config = Config()\n",
    "for target_domain in config.DOMAINS:\n",
    "    print(f\"==============================================================\")\n",
    "    print(f\"  STARTING LODO EXPERIMENT: Target Domain = {target_domain.upper()}\")\n",
    "    print(f\"==============================================================\")\n",
    "    \n",
    "    train_loader, val_loader, test_loader = get_dataloaders(\n",
    "        root_dir=config.DATA_DIR,\n",
    "        target_domain=target_domain,\n",
    "        all_domains=config.DOMAINS,\n",
    "        batch_size=config.BATCH_SIZE, seed=config.SEED\n",
    "    )\n",
    "    \n",
    "    current_dropout_rates = list(np.random.choice(\n",
    "        config.DROPOUT_OPTIONS, \n",
    "        config.NUM_HEADS, \n",
    "        replace=False\n",
    "    ))\n",
    "    \n",
    "    model = SharedHeadViT(\n",
    "        model_name=config.MODEL_NAME,\n",
    "        num_classes=config.NUM_CLASSES,\n",
    "        dropout_rates=current_dropout_rates\n",
    "    ).to(config.DEVICE)\n",
    "    \n",
    "    optimizer = torch.optim.AdamW(model.parameters(), lr=config.LEARNING_RATE)\n",
    "    criterion = nn.CrossEntropyLoss()\n",
    "    \n",
    "    best_val_accuracy = 0.0\n",
    "    best_model_state = None\n",
    "    \n",
    "    for epoch in range(config.NUM_EPOCHS):\n",
    "        print(f\"\\n--- Epoch {epoch+1}/{config.NUM_EPOCHS} ---\")\n",
    "        print(f\"Current Dropout Rates: { {f'path_{i+1}': rate for i, rate in enumerate(current_dropout_rates)} }\")\n",
    "        \n",
    "        train_metrics = train_one_epoch(model, train_loader, optimizer, criterion, config.DEVICE)\n",
    "        val_metrics = evaluate(model, val_loader, criterion, config.DEVICE)\n",
    "\n",
    "        print(f\"Epoch {epoch+1} Summary:\")\n",
    "        print(f\"  Train Avg Winner Loss: {train_metrics['avg_winner_loss']:.4f}\")\n",
    "        print(f\"  Validation Loss: {val_metrics['avg_loss']:.4f}\")\n",
    "        print(f\"  Validation Accuracy: {val_metrics['accuracy']:.4f}\")\n",
    "        \n",
    "        if val_metrics['accuracy'] > best_val_accuracy:\n",
    "            print(f\"  New best validation accuracy! Saving model state.\")\n",
    "            best_val_accuracy = val_metrics['accuracy']\n",
    "            best_model_state = copy.deepcopy(model.state_dict())\n",
    "\n",
    "        ### FIX 1 ###\n",
    "        # Use the correct key: 'path_accuracies'\n",
    "        epoch_winner_path_name = max(train_metrics['path_accuracies'], key=train_metrics['path_accuracies'].get)\n",
    "        epoch_winner_index = int(epoch_winner_path_name.split('_')[-1]) - 1\n",
    "        \n",
    "        print(f\"  Epoch Training Accuracies:\")\n",
    "        ### FIX 2 ###\n",
    "        # Use the correct key: 'path_accuracies'\n",
    "        for name, acc in sorted(train_metrics['path_accuracies'].items()):\n",
    "            ### FIX 3 ###\n",
    "            # Compare to the correct variable name: epoch_winner_path_name\n",
    "            marker = \"<- WINNER\" if name == epoch_winner_path_name else \"\"\n",
    "            print(f\"    {name}: {acc:.4f} {marker}\")\n",
    "        \n",
    "        winner_rate = current_dropout_rates[epoch_winner_index]\n",
    "        new_random_rates = list(np.random.choice(config.DROPOUT_OPTIONS, config.NUM_HEADS, replace=False))\n",
    "        new_random_rates[epoch_winner_index] = winner_rate\n",
    "        current_dropout_rates = new_random_rates\n",
    "        model.update_dropout_rates(current_dropout_rates)\n",
    "            \n",
    "    # --- Final Evaluation and Storing Results (No changes needed here) ---\n",
    "    print(\"\\nTraining complete for this LODO split.\")\n",
    "    print(\"Loading best model state and evaluating on the TEST set...\")\n",
    "    \n",
    "    model.load_state_dict(best_model_state)\n",
    "    test_metrics = evaluate(model, test_loader, criterion, config.DEVICE)\n",
    "    \n",
    "    print(f\"\\n--- RESULTS FOR TARGET DOMAIN: {target_domain.upper()} ---\")\n",
    "    print(f\"  Test Accuracy: {test_metrics['accuracy']:.4f}\")\n",
    "    print(f\"--------------------------------------------------\")\n",
    "    \n",
    "    experiment_results.append({\n",
    "        \"target_domain\": target_domain,\n",
    "        \"source_domains\": [d for d in config.DOMAINS if d != target_domain],\n",
    "        \"test_accuracy\": test_metrics['accuracy'],\n",
    "        \"best_val_accuracy\": best_val_accuracy,\n",
    "        \"model_name\": config.MODEL_NAME,\n",
    "        \"num_epochs\": config.NUM_EPOCHS,\n",
    "        \"batch_size\": config.BATCH_SIZE,\n",
    "        \"learning_rate\": config.LEARNING_RATE\n",
    "    })\n",
    "\n",
    "print(\"\\n\\n==============================================================\")\n",
    "print(\"          ALL ADAPTIVE DROPOUT LODO EXPERIMENTS COMPLETE\")\n",
    "print(\"==============================================================\")"
   ]
  },
  {
   "cell_type": "code",
   "execution_count": 21,
   "metadata": {
    "execution": {
     "iopub.execute_input": "2025-10-10T18:52:06.403970Z",
     "iopub.status.busy": "2025-10-10T18:52:06.403200Z",
     "iopub.status.idle": "2025-10-10T18:52:06.625604Z",
     "shell.execute_reply": "2025-10-10T18:52:06.624810Z",
     "shell.execute_reply.started": "2025-10-10T18:52:06.403944Z"
    },
    "trusted": true
   },
   "outputs": [
    {
     "name": "stdout",
     "output_type": "stream",
     "text": [
      "--- Final Experiment Results ---\n",
      "  target_domain  test_accuracy  best_val_accuracy  num_epochs  batch_size  learning_rate                      model_name\n",
      "0    Caltech101       0.941343           0.822866           5         128         0.0001  WinKawaks/vit-tiny-patch16-224\n",
      "1       LabelMe       0.660392           0.878638           5         128         0.0001  WinKawaks/vit-tiny-patch16-224\n",
      "2         SUN09       0.776965           0.853020           5         128         0.0001  WinKawaks/vit-tiny-patch16-224\n",
      "3       VOC2007       0.743483           0.826649           5         128         0.0001  WinKawaks/vit-tiny-patch16-224\n",
      "\n",
      "==================================================\n",
      "Average Test Accuracy Across All Domains: 0.7805\n",
      "==================================================\n"
     ]
    },
    {
     "name": "stderr",
     "output_type": "stream",
     "text": [
      "C:\\Users\\Haseeb\\AppData\\Local\\Temp\\ipykernel_43268\\2340688840.py:40: FutureWarning: \n",
      "\n",
      "Passing `palette` without assigning `hue` is deprecated and will be removed in v0.14.0. Assign the `x` variable to `hue` and set `legend=False` for the same effect.\n",
      "\n",
      "  sns.barplot(\n"
     ]
    },
    {
     "data": {
      "image/png": "[encoded data removed]",
      "text/plain": [
       "<Figure size 1000x600 with 1 Axes>"
      ]
     },
     "metadata": {},
     "output_type": "display_data"
    },
    {
     "name": "stdout",
     "output_type": "stream",
     "text": [
      "\n",
      "======================================================================\n",
      "--- Dictionary for Final Plotting ---\n",
      "# Copy the dictionary below and paste it into your final analysis notebook.\n",
      "my_method_results = {\n",
      "    'target_domain': ['Caltech101', 'LabelMe', 'SUN09', 'VOC2007'],\n",
      "    'test_accuracy': [0.9413, 0.6604, 0.777, 0.7435]\n",
      "}\n",
      "======================================================================\n",
      "\n",
      "--- Experiment Complete ---\n"
     ]
    }
   ],
   "source": [
    "# =================================================================================\n",
    "# SECTION 6: ANALYSIS & VISUALIZATION (with Dictionary Output)\n",
    "# =================================================================================\n",
    "# Now that all experiments are complete, we'll process the results\n",
    "# and create visualizations to understand the performance of our method.\n",
    "# ---------------------------------------------------------------------------------\n",
    "\n",
    "# Add this magic command to ensure plots are displayed in the notebook\n",
    "%matplotlib inline\n",
    "import matplotlib.pyplot as plt\n",
    "import seaborn as sns\n",
    "\n",
    "\n",
    "# ---------------------------------------------------------------------------------\n",
    "# 6.1: DISPLAY RESULTS IN A TABLE\n",
    "# ---------------------------------------------------------------------------------\n",
    "print(\"--- Final Experiment Results ---\")\n",
    "\n",
    "results_df = pd.DataFrame(experiment_results)\n",
    "column_order = [\n",
    "    \"target_domain\", \"test_accuracy\", \"best_val_accuracy\", \"num_epochs\",\n",
    "    \"batch_size\", \"learning_rate\", \"model_name\"\n",
    "]\n",
    "existing_columns = [col for col in column_order if col in results_df.columns]\n",
    "results_df = results_df[existing_columns]\n",
    "average_accuracy = results_df['test_accuracy'].mean()\n",
    "\n",
    "print(results_df.to_string())\n",
    "print(\"\\n\" + \"=\"*50)\n",
    "print(f\"Average Test Accuracy Across All Domains: {average_accuracy:.4f}\")\n",
    "print(\"=\"*50)\n",
    "\n",
    "\n",
    "# ---------------------------------------------------------------------------------\n",
    "# 6.2: VISUALIZE THE RESULTS\n",
    "# ---------------------------------------------------------------------------------\n",
    "plt.style.use('seaborn-v0_8-whitegrid')\n",
    "fig, ax = plt.subplots(1, 1, figsize=(10, 6))\n",
    "\n",
    "sns.barplot(\n",
    "    data=results_df, x='target_domain', y='test_accuracy', ax=ax, palette='viridis'\n",
    ")\n",
    "\n",
    "for index, row in results_df.iterrows():\n",
    "    ax.text(index, row['test_accuracy'] + 0.01, f\"{row['test_accuracy']:.2%}\",\n",
    "            color='black', ha=\"center\", fontsize=12)\n",
    "    \n",
    "ax.axhline(average_accuracy, ls='--', color='red', label=f'Average Accuracy ({average_accuracy:.2%})')\n",
    "\n",
    "ax.set_title('Model Performance on Unseen Target Domains (LODO)', fontsize=16, pad=20)\n",
    "ax.set_xlabel('Target (Unseen) Domain', fontsize=12)\n",
    "ax.set_ylabel('Test Accuracy', fontsize=12)\n",
    "ax.set_ylim(0, 1.0)\n",
    "ax.legend()\n",
    "\n",
    "plt.tight_layout()\n",
    "plt.show()\n",
    "\n",
    "# ---------------------------------------------------------------------------------\n",
    "### NEW SECTION ###\n",
    "# 6.3: GENERATE COPY-PASTE DICTIONARY FOR FINAL PLOTTING\n",
    "# ---------------------------------------------------------------------------------\n",
    "print(\"\\n\" + \"=\"*70)\n",
    "print(\"--- Dictionary for Final Plotting ---\")\n",
    "print(\"# Copy the dictionary below and paste it into your final analysis notebook.\")\n",
    "\n",
    "# Determine the variable name based on the notebook (you can adjust this)\n",
    "# For the baseline notebook, you'd want 'baseline_results'.\n",
    "# For the evolutionary notebook, you'd want 'evolutionary_results'.\n",
    "method_name = \"my_method_results\" # Generic name\n",
    "if \"baseline\" in os.getcwd(): # Simple check if 'baseline' is in the notebook path\n",
    "    method_name = \"baseline_results\"\n",
    "elif \"drop-out\" in os.getcwd():\n",
    "    method_name = \"evolutionary_results\"\n",
    "    \n",
    "# Extract the lists from the DataFrame\n",
    "domain_list = results_df['target_domain'].tolist()\n",
    "accuracy_list = [round(acc, 4) for acc in results_df['test_accuracy'].tolist()]\n",
    "\n",
    "# Print in the desired format\n",
    "print(f\"{method_name} = {{\")\n",
    "print(f\"    'target_domain': {domain_list},\")\n",
    "print(f\"    'test_accuracy': {accuracy_list}\")\n",
    "print(f\"}}\")\n",
    "print(\"=\"*70)\n",
    "\n",
    "\n",
    "print(\"\\n--- Experiment Complete ---\")"
   ]
  },
  {
   "cell_type": "code",
   "execution_count": 22,
   "metadata": {},
   "outputs": [
    {
     "data": {
      "image/png": "[encoded data removed]",
      "text/plain": [
       "<Figure size 1400x800 with 1 Axes>"
      ]
     },
     "metadata": {},
     "output_type": "display_data"
    },
    {
     "name": "stdout",
     "output_type": "stream",
     "text": [
      "\n",
      "--- Average Performance Summary ---\n",
      "Average Baseline Accuracy: 78.97%\n",
      "Average Evolutionary Dropout Accuracy: 76.67%\n"
     ]
    }
   ],
   "source": [
    "# =================================================================================\n",
    "# SECTION 7: COMPARATIVE ANALYSIS & VISUALIZATION (ACADEMIC STYLE - FINAL FIX)\n",
    "# =================================================================================\n",
    "\n",
    "import pandas as pd\n",
    "import matplotlib.pyplot as plt\n",
    "import seaborn as sns\n",
    "\n",
    "# --- 7.1: COMBINE EXPERIMENT RESULTS ---\n",
    "baseline_results = {\n",
    "    'target_domain': ['art_painting', 'cartoon', 'photo', 'sketch'],\n",
    "    'test_accuracy': [0.9625, 0.661, 0.766, 0.7693]\n",
    "}\n",
    "# Using the results from your successful Option 4 run\n",
    "evolutionary_results = {\n",
    "    'target_domain': ['art_painting', 'cartoon', 'photo', 'sketch'],\n",
    "    'test_accuracy': [0.9647, 0.6195, 0.7471, 0.7355]\n",
    "}\n",
    "baseline_df = pd.DataFrame(baseline_results)\n",
    "baseline_df['method_name'] = 'Baseline'\n",
    "evolutionary_df = pd.DataFrame(evolutionary_results)\n",
    "evolutionary_df['method_name'] = 'Shared Head'\n",
    "combined_df = pd.concat([baseline_df, evolutionary_df])\n",
    "\n",
    "# --- 7.2: CREATE THE GROUPED BAR CHART (ROBUST VERSION) ---\n",
    "\n",
    "sns.set_theme(style=\"whitegrid\")\n",
    "plt.rcParams['font.family'] = 'serif'\n",
    "fig, ax = plt.subplots(figsize=(14, 8))\n",
    "\n",
    "custom_palette = {'Baseline': '#4B6A9A', 'Shared Head': '#66C2A5'}\n",
    "\n",
    "barplot = sns.barplot(\n",
    "    data=combined_df,\n",
    "    x='target_domain',\n",
    "    y='test_accuracy',\n",
    "    hue='method_name',\n",
    "    ax=ax,\n",
    "    palette=custom_palette,\n",
    "    edgecolor='black'\n",
    ")\n",
    "\n",
    "### THE FIX IS HERE ###\n",
    "# Use the robust 'containers' method to apply patterns correctly.\n",
    "\n",
    "# ax.containers[0] is the container for the first hue category (Baseline)\n",
    "# ax.containers[1] is the container for the second hue category (Evolutionary Dropout)\n",
    "\n",
    "# We want to add a pattern to the second container's bars.\n",
    "for bar in ax.containers[1]:\n",
    "    bar.set_hatch('..')\n",
    "\n",
    "# We also need to apply the pattern to the corresponding legend handle.\n",
    "# The legend handles are created in the same order.\n",
    "ax.legend_.legend_handles[1].set_hatch('..')\n",
    "\n",
    "# --- Add annotations (text on bars) ---\n",
    "for p in ax.patches:\n",
    "    if p.get_height() > 0:\n",
    "        ax.annotate(\n",
    "            f\"{p.get_height():.2%}\",\n",
    "            (p.get_x() + p.get_width() / 2., p.get_height()),\n",
    "            ha='center', va='center',\n",
    "            xytext=(0, 10),\n",
    "            textcoords='offset points',\n",
    "            fontsize=14,\n",
    "            fontweight='bold',\n",
    "            color='black'\n",
    "        )\n",
    "\n",
    "# --- Final plot styling ---\n",
    "ax.set_title('Model Comparison on Unseen Target Domains (LODO)', fontsize=22, fontweight='bold', pad=20)\n",
    "ax.set_xlabel('Target (Unseen) Domain', fontsize=18, fontweight='bold')\n",
    "ax.set_ylabel('Top-1 Test Accuracy (%)', fontsize=18, fontweight='bold')\n",
    "ax.set_ylim(0, 1.1)\n",
    "ax.tick_params(axis='both', which='major', labelsize=14)\n",
    "ax.get_yaxis().set_major_formatter(plt.FuncFormatter(lambda x, p: f'{x:.0%}'))\n",
    "\n",
    "legend = ax.get_legend()\n",
    "plt.setp(legend.get_title(), fontweight='bold')\n",
    "\n",
    "sns.despine()\n",
    "plt.tight_layout()\n",
    "plt.show()\n",
    "\n",
    "# --- Print the final summary table ---\n",
    "avg_baseline = baseline_df['test_accuracy'].mean()\n",
    "avg_evolutionary = evolutionary_df['test_accuracy'].mean()\n",
    "print(\"\\n--- Average Performance Summary ---\")\n",
    "print(f\"Average Baseline Accuracy: {avg_baseline:.2%}\")\n",
    "print(f\"Average Evolutionary Dropout Accuracy: {avg_evolutionary:.2%}\")"
   ]
  }
 ],
 "metadata": {
  "kaggle": {
   "accelerator": "nvidiaTeslaT4",
   "dataSources": [
    {
     "datasetId": 8446344,
     "sourceId": 13323122,
     "sourceType": "datasetVersion"
    }
   ],
   "dockerImageVersionId": 31154,
   "isGpuEnabled": true,
   "isInternetEnabled": true,
   "language": "python",
   "sourceType": "notebook"
  },
  "kernelspec": {
   "display_name": "Python 3",
   "language": "python",
   "name": "python3"
  },
  "language_info": {
   "codemirror_mode": {
    "name": "ipython",
    "version": 3
   },
   "file_extension": ".py",
   "mimetype": "text/x-python",
   "name": "python",
   "nbconvert_exporter": "python",
   "pygments_lexer": "ipython3",
   "version": "3.12.0"
  }
 },
 "nbformat": 4,
 "nbformat_minor": 4
}
