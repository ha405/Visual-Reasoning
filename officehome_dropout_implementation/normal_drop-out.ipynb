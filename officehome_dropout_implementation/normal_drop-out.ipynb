{
 "cells": [
  {
   "cell_type": "code",
   "execution_count": 14,
   "metadata": {
    "_cell_guid": "b1076dfc-b9ad-4769-8c92-a6c4dae69d19",
    "_uuid": "8f2839f25d086af736a60e9eeb907d3b93b6e0e5",
    "execution": {
     "iopub.execute_input": "2025-10-10T18:41:13.345758Z",
     "iopub.status.busy": "2025-10-10T18:41:13.345233Z",
     "iopub.status.idle": "2025-10-10T18:41:13.352583Z",
     "shell.execute_reply": "2025-10-10T18:41:13.351859Z",
     "shell.execute_reply.started": "2025-10-10T18:41:13.345732Z"
    },
    "trusted": true
   },
   "outputs": [],
   "source": [
    "# =================================================================================\n",
    "# SECTION 1: PROJECT SCAFFOLDING & CONFIGURATION\n",
    "# =================================================================================\n",
    "\n",
    "# ---------------------------------------------------------------------------------\n",
    "# 1.1: IMPORTS\n",
    "# All necessary libraries for the project.\n",
    "# ---------------------------------------------------------------------------------\n",
    "%matplotlib inline \n",
    "import os\n",
    "import numpy as np\n",
    "import pandas as pd\n",
    "import torch\n",
    "import torch.nn as nn\n",
    "from torch.utils.data import Dataset, DataLoader\n",
    "from torchvision import transforms\n",
    "from transformers import ViTModel, ViTConfig\n",
    "from PIL import Image\n",
    "from tqdm.notebook import tqdm\n",
    "import matplotlib.pyplot as plt\n",
    "import seaborn as sns\n",
    "from sklearn.model_selection import StratifiedKFold # We might use this later for robustness\n",
    "from collections import defaultdict\n",
    "import copy\n",
    "\n",
    "# Set a seed for reproducibility\n",
    "torch.manual_seed(42)\n",
    "np.random.seed(42)"
   ]
  },
  {
   "cell_type": "code",
   "execution_count": 15,
   "metadata": {
    "execution": {
     "iopub.execute_input": "2025-10-10T18:41:13.354688Z",
     "iopub.status.busy": "2025-10-10T18:41:13.353877Z",
     "iopub.status.idle": "2025-10-10T18:41:13.385781Z",
     "shell.execute_reply": "2025-10-10T18:41:13.385144Z",
     "shell.execute_reply.started": "2025-10-10T18:41:13.354663Z"
    },
    "trusted": true
   },
   "outputs": [
    {
     "name": "stdout",
     "output_type": "stream",
     "text": [
      "--- Project Configuration ---\n",
      "DATA_DIR: D:\\Haseeb\\Datasets\\VLCS\n",
      "DOMAINS: ['Caltech101', 'LabelMe', 'SUN09', 'VOC2007']\n",
      "MODEL_NAME: WinKawaks/vit-tiny-patch16-224\n",
      "NUM_CLASSES: 5\n",
      "NUM_HEADS: 4\n",
      "DROPOUT_OPTIONS: [0.1, 0.2, 0.3, 0.4, 0.5, 0.6, 0.7]\n",
      "BATCH_SIZE: 128\n",
      "NUM_EPOCHS: 5\n",
      "LEARNING_RATE: 0.0001\n",
      "OPTIMIZER: AdamW\n",
      "DEVICE: cuda\n",
      "SEED: 42\n",
      "---------------------------\n",
      "Device: cuda\n",
      "\n",
      "Project scaffolding is complete. Ready for Section 2: Data Loading.\n"
     ]
    }
   ],
   "source": [
    "\n",
    "# ---------------------------------------------------------------------------------\n",
    "# 1.2: CONFIGURATION CLASS\n",
    "# This class holds all hyperparameters and settings in one place.\n",
    "# ---------------------------------------------------------------------------------\n",
    "class Config:\n",
    "    # --- Data Paths and Domains ---\n",
    "    DATA_DIR = r\"D:\\Haseeb\\Datasets\\VLCS\" # Make sure this path is correct for your dataset\n",
    "    DOMAINS = [\"Caltech101\", \"LabelMe\", \"SUN09\", \"VOC2007\"]\n",
    "    \n",
    "    # --- Model & Architecture ---\n",
    "    MODEL_NAME = \"WinKawaks/vit-tiny-patch16-224\"\n",
    "    NUM_CLASSES = 5\n",
    "    ### CHANGE ###\n",
    "    NUM_HEADS = 4 \n",
    "    DROPOUT_OPTIONS = [0.1, 0.2, 0.3, 0.4, 0.5, 0.6, 0.7]\n",
    "    \n",
    "    # --- Training Hyperparameters ---\n",
    "    BATCH_SIZE = 128\n",
    "    NUM_EPOCHS = 5\n",
    "    LEARNING_RATE = 1e-4\n",
    "    OPTIMIZER = \"AdamW\"\n",
    "    \n",
    "    # --- Hardware & Reproducibility ---\n",
    "    DEVICE = \"cuda\" if torch.cuda.is_available() else \"cpu\"\n",
    "    SEED = 42\n",
    "\n",
    "# Instantiate the config\n",
    "config = Config()\n",
    "\n",
    "# Print out the configuration to verify\n",
    "print(\"--- Project Configuration ---\")\n",
    "for key, value in config.__class__.__dict__.items():\n",
    "    if not key.startswith('__'):\n",
    "        print(f\"{key}: {value}\")\n",
    "print(\"---------------------------\")\n",
    "print(f\"Device: {config.DEVICE}\")\n",
    "\n",
    "# ---------------------------------------------------------------------------------\n",
    "# 1.3: RESULTS TRACKER\n",
    "# A list to store the final results from each LODO experiment run.\n",
    "# This will be converted to a DataFrame at the end for analysis.\n",
    "# ---------------------------------------------------------------------------------\n",
    "experiment_results = []\n",
    "\n",
    "print(\"\\nProject scaffolding is complete. Ready for Section 2: Data Loading.\")"
   ]
  },
  {
   "cell_type": "code",
   "execution_count": 16,
   "metadata": {
    "execution": {
     "iopub.execute_input": "2025-10-10T18:41:13.386821Z",
     "iopub.status.busy": "2025-10-10T18:41:13.386565Z",
     "iopub.status.idle": "2025-10-10T18:41:13.415060Z",
     "shell.execute_reply": "2025-10-10T18:41:13.414321Z",
     "shell.execute_reply.started": "2025-10-10T18:41:13.386797Z"
    },
    "trusted": true
   },
   "outputs": [],
   "source": [
    "# =================================================================================\n",
    "# SECTION 2: DATA LOADING & PREPROCESSING\n",
    "# =================================================================================\n",
    "\n",
    "# ---------------------------------------------------------------------------------\n",
    "# 2.1: IMAGE TRANSFORMATIONS\n",
    "# Define the transformations for training (with augmentation) and validation/testing.\n",
    "# ---------------------------------------------------------------------------------\n",
    "\n",
    "# The ViT model was pre-trained on images of size 224x224\n",
    "IMG_SIZE = 224\n",
    "\n",
    "# The normalization values are standard for many pre-trained models\n",
    "# but it's good practice to use the ones specified by the model's authors if available.\n",
    "# For ViT, a simple (0.5, 0.5, 0.5) normalization is common.\n",
    "data_transforms = {\n",
    "    'train': transforms.Compose([\n",
    "        transforms.Resize((IMG_SIZE, IMG_SIZE)),\n",
    "        transforms.RandomHorizontalFlip(), # A simple data augmentation technique\n",
    "        transforms.ToTensor(),\n",
    "        transforms.Normalize(mean=[0.5, 0.5, 0.5], std=[0.5, 0.5, 0.5])\n",
    "    ]),\n",
    "    'val': transforms.Compose([\n",
    "        transforms.Resize((IMG_SIZE, IMG_SIZE)),\n",
    "        transforms.ToTensor(),\n",
    "        transforms.Normalize(mean=[0.5, 0.5, 0.5], std=[0.5, 0.5, 0.5])\n",
    "    ]),\n",
    "}\n"
   ]
  },
  {
   "cell_type": "code",
   "execution_count": 17,
   "metadata": {
    "execution": {
     "iopub.execute_input": "2025-10-10T18:41:13.416535Z",
     "iopub.status.busy": "2025-10-10T18:41:13.416345Z",
     "iopub.status.idle": "2025-10-10T18:41:13.445670Z",
     "shell.execute_reply": "2025-10-10T18:41:13.445083Z",
     "shell.execute_reply.started": "2025-10-10T18:41:13.416520Z"
    },
    "trusted": true
   },
   "outputs": [],
   "source": [
    "# ---------------------------------------------------------------------------------\n",
    "# 2.2: CUSTOM PACS DATASET CLASS\n",
    "# This class will read the images and labels from our specific folder structure.\n",
    "# ---------------------------------------------------------------------------------\n",
    "import random # Make sure to import the 'random' library at the top of the cell.\n",
    "\n",
    "class VLCSDataset(Dataset):\n",
    "    def __init__(self, root_dir, domains, transform=None):\n",
    "        self.root_dir = root_dir\n",
    "        self.domains = domains\n",
    "        self.transform = transform\n",
    "        self.image_paths = []\n",
    "        self.labels = []\n",
    "        ### CHANGE 2: Add a counter for corrupted images ###\n",
    "        self.corrupted_images_count = 0\n",
    "        \n",
    "        try:\n",
    "            self.classes = sorted(os.listdir(os.path.join(root_dir, domains[0])))\n",
    "            self.class_to_idx = {cls_name: i for i, cls_name in enumerate(self.classes)}\n",
    "        except FileNotFoundError:\n",
    "            print(f\"Error: Could not find domain folder at {os.path.join(root_dir, domains[0])}\")\n",
    "            print(\"Please ensure your DATA_DIR and DOMAINS in the Config class are correct.\")\n",
    "            raise\n",
    "\n",
    "        for domain in self.domains:\n",
    "            domain_path = os.path.join(self.root_dir, domain)\n",
    "            for class_name in self.classes:\n",
    "                class_path = os.path.join(domain_path, class_name)\n",
    "                if os.path.isdir(class_path):\n",
    "                    for img_name in os.listdir(class_path):\n",
    "                        self.image_paths.append(os.path.join(class_path, img_name))\n",
    "                        self.labels.append(self.class_to_idx[class_name])\n",
    "\n",
    "    def __len__(self):\n",
    "        return len(self.image_paths)\n",
    "\n",
    "    def __getitem__(self, idx):\n",
    "        try:\n",
    "            img_path = self.image_paths[idx]\n",
    "            image = Image.open(img_path).convert('RGB')\n",
    "            label = self.labels[idx]\n",
    "        except (OSError, IOError) as e:\n",
    "            ### CHANGE 3: Increment the counter and replace with a random image ###\n",
    "            self.corrupted_images_count += 1\n",
    "            # You can uncomment the print statement below for verbose debugging if you want\n",
    "            # print(f\"Warning: Corrupted image at {img_path}. Replacing with random. Total corrupt: {self.corrupted_images_count}\")\n",
    "            \n",
    "            # Pick a new random index\n",
    "            new_idx = random.randint(0, len(self) - 1)\n",
    "            # Recursively call __getitem__ with the new index.\n",
    "            return self.__getitem__(new_idx)\n",
    "\n",
    "        # The transformation part remains the same\n",
    "        if self.transform:\n",
    "            image = self.transform(image)\n",
    "            \n",
    "        return image, label"
   ]
  },
  {
   "cell_type": "code",
   "execution_count": 18,
   "metadata": {
    "execution": {
     "iopub.execute_input": "2025-10-10T18:41:13.448409Z",
     "iopub.status.busy": "2025-10-10T18:41:13.447964Z",
     "iopub.status.idle": "2025-10-10T18:41:13.478136Z",
     "shell.execute_reply": "2025-10-10T18:41:13.477575Z",
     "shell.execute_reply.started": "2025-10-10T18:41:13.448393Z"
    },
    "trusted": true
   },
   "outputs": [],
   "source": [
    "# =================================================================================\n",
    "# SECTION 2.3: DATALOADER HELPER FUNCTION (NEW 80/20 SPLIT VERSION)\n",
    "# =================================================================================\n",
    "# Replace the old get_dataloaders function in Section 2 of BOTH notebooks with this.\n",
    "\n",
    "from torch.utils.data import Subset\n",
    "from sklearn.model_selection import train_test_split\n",
    "\n",
    "def get_dataloaders(root_dir, target_domain, all_domains, batch_size, seed):\n",
    "    \"\"\"\n",
    "    Creates dataloaders for a LODO split using an 80/20 split on the source domains.\n",
    "    \"\"\"\n",
    "    source_domains = [d for d in all_domains if d != target_domain]\n",
    "    \n",
    "    print(f\"--- Creating DataLoaders (80/20 Split Strategy) ---\")\n",
    "    print(f\"Target (Test) Domain: {target_domain}\")\n",
    "    print(f\"Source Domains for Train/Val: {source_domains}\")\n",
    "    \n",
    "    # 1. Create a single, large dataset by combining all source domains\n",
    "    source_dataset = VLCSDataset(\n",
    "        root_dir=root_dir, \n",
    "        domains=source_domains, \n",
    "        transform=data_transforms['train'] # Use training transforms for the whole source\n",
    "    )\n",
    "    \n",
    "    # We need to perform a stratified split to ensure the train and val sets\n",
    "    # have a similar distribution of classes.\n",
    "    indices = list(range(len(source_dataset)))\n",
    "    labels = source_dataset.labels\n",
    "    \n",
    "    # Use sklearn's train_test_split to get indices for an 80% train / 20% val split\n",
    "    train_idx, val_idx = train_test_split(\n",
    "        indices, \n",
    "        test_size=0.2, \n",
    "        stratify=labels, \n",
    "        random_state=seed\n",
    "    )\n",
    "    \n",
    "    # 2. Create the training and validation subsets\n",
    "    train_subset = Subset(source_dataset, train_idx)\n",
    "    val_subset = Subset(source_dataset, val_idx)\n",
    "    \n",
    "    # Important: The validation subset should not use training augmentations (like RandomFlip).\n",
    "    # We create a new dataset object for validation with the correct transforms.\n",
    "    # This is a cleaner way to handle transforms for subsets.\n",
    "    val_dataset_clean = VLCSDataset(root_dir=root_dir, domains=source_domains, transform=data_transforms['val'])\n",
    "    val_subset_final = Subset(val_dataset_clean, val_idx)\n",
    "    \n",
    "    # 3. Create the test dataset from the full target domain\n",
    "    test_dataset = VLCSDataset(\n",
    "        root_dir=root_dir, \n",
    "        domains=[target_domain], \n",
    "        transform=data_transforms['val']\n",
    "    )\n",
    "\n",
    "    # 4. Create the DataLoaders\n",
    "    train_loader = DataLoader(train_subset, batch_size=batch_size, shuffle=True, num_workers=0)\n",
    "    val_loader = DataLoader(val_subset_final, batch_size=batch_size, shuffle=False, num_workers=0)\n",
    "    test_loader = DataLoader(test_dataset, batch_size=batch_size, shuffle=False, num_workers=0)\n",
    "    \n",
    "    print(f\"Source data size: {len(source_dataset)}\")\n",
    "    print(f\"  -> Training on: {len(train_subset)} images (80%)\")\n",
    "    print(f\"  -> Validating on: {len(val_subset_final)} images (20%)\")\n",
    "    print(f\"Testing on full '{target_domain}' domain: {len(test_dataset)} images\")\n",
    "    print(\"----------------------------------------------------\")\n",
    "    \n",
    "    return train_loader, val_loader, test_loader"
   ]
  },
  {
   "cell_type": "code",
   "execution_count": 19,
   "metadata": {
    "execution": {
     "iopub.execute_input": "2025-10-10T18:41:13.479579Z",
     "iopub.status.busy": "2025-10-10T18:41:13.479370Z",
     "iopub.status.idle": "2025-10-10T18:41:13.507477Z",
     "shell.execute_reply": "2025-10-10T18:41:13.506936Z",
     "shell.execute_reply.started": "2025-10-10T18:41:13.479564Z"
    },
    "trusted": true
   },
   "outputs": [
    {
     "name": "stdout",
     "output_type": "stream",
     "text": [
      "\n",
      "Model architecture seems correct. Ready for Section 4: Training and Evaluation Logic.\n"
     ]
    }
   ],
   "source": [
    "# =================================================================================\n",
    "# SECTION 3: THE MODEL ARCHITECTURE\n",
    "# =================================================================================\n",
    "\n",
    "# ---------------------------------------------------------------------------------\n",
    "# 3.1: CUSTOM ViT MODEL WITH EVOLUTIONARY HEADS\n",
    "# We define a class that wraps the ViT backbone and adds our 4 competing heads.\n",
    "# ---------------------------------------------------------------------------------\n",
    "\n",
    "class EvolutionaryViT(nn.Module):\n",
    "    def __init__(self, model_name, num_classes, dropout_rates: list):\n",
    "        \"\"\"\n",
    "        Args:\n",
    "            model_name (string): The name of the pre-trained ViT model from Hugging Face.\n",
    "            num_classes (int): The number of output classes.\n",
    "            num_heads (int): The number of parallel classification heads.\n",
    "            dropout_rate (float): The dropout probability.\n",
    "        \"\"\"\n",
    "        super(EvolutionaryViT, self).__init__()\n",
    "        \n",
    "        # 1. Load the pre-trained ViT backbone\n",
    "        # We use ViTModel, which gives us the feature extractor without the final classification layer.\n",
    "        self.vit_backbone = ViTModel.from_pretrained(model_name)\n",
    "        \n",
    "        # Get the hidden size (feature dimension) from the model's config\n",
    "        hidden_dim = self.vit_backbone.config.hidden_size\n",
    "        \n",
    "        # 2. Create the list of competing heads\n",
    "        # We use nn.ModuleList, which is the proper way to hold a list of PyTorch modules.\n",
    "        self.heads = nn.ModuleList([\n",
    "            nn.Sequential(\n",
    "                nn.Dropout(p=rate), # Use the specific rate for this head\n",
    "                nn.Linear(hidden_dim, num_classes)\n",
    "            ) for rate in dropout_rates\n",
    "        ])\n",
    "\n",
    "    def update_dropout_rates(self, new_rates: list):\n",
    "        \"\"\"\n",
    "        Updates the dropout probability for each head.\n",
    "        This allows us to change the rates between epochs without re-creating the model.\n",
    "        \"\"\"\n",
    "        for i, head in enumerate(self.heads):\n",
    "            # nn.Sequential has layers indexed. 0 is Dropout, 1 is Linear.\n",
    "            head[0].p = new_rates[i]\n",
    "        \n",
    "    def forward(self, images):\n",
    "        \"\"\"\n",
    "        Defines the forward pass of the model.\n",
    "        \"\"\"\n",
    "        # 1. Get features from the backbone\n",
    "        # The output is a dictionary-like object. We want the 'last_hidden_state'.\n",
    "        outputs = self.vit_backbone(pixel_values=images)\n",
    "        \n",
    "        # For ViT, the feature representation for the entire image is the output\n",
    "        # corresponding to the special [CLS] token, which is the first one.\n",
    "        # Shape: (batch_size, sequence_length, hidden_dim) -> (batch_size, hidden_dim)\n",
    "        feature_vector_z = outputs.last_hidden_state[:, 0, :]\n",
    "        \n",
    "        # 2. Pass the feature vector through all heads\n",
    "        head_outputs = {}\n",
    "        for i, head in enumerate(self.heads):\n",
    "            head_outputs[f'head_{i+1}'] = head(feature_vector_z)\n",
    "            \n",
    "        return head_outputs\n",
    "\n",
    "# --- Let's test it to make sure it works ---\n",
    "print(\"\\nModel architecture seems correct. Ready for Section 4: Training and Evaluation Logic.\")"
   ]
  },
  {
   "cell_type": "code",
   "execution_count": 20,
   "metadata": {
    "execution": {
     "iopub.execute_input": "2025-10-10T18:41:13.508460Z",
     "iopub.status.busy": "2025-10-10T18:41:13.508233Z",
     "iopub.status.idle": "2025-10-10T18:41:13.531246Z",
     "shell.execute_reply": "2025-10-10T18:41:13.530720Z",
     "shell.execute_reply.started": "2025-10-10T18:41:13.508435Z"
    },
    "trusted": true
   },
   "outputs": [],
   "source": [
    "# =================================================================================\n",
    "# SECTION 4: TRAINING & EVALUATION LOGIC\n",
    "# =================================================================================\n",
    "\n",
    "# ---------------------------------------------------------------------------------\n",
    "# 4.1: TRAIN_ONE_EPOCH FUNCTION\n",
    "# This function handles the custom \"survival of the fittest\" training loop for one epoch.\n",
    "# ---------------------------------------------------------------------------------\n",
    "def train_one_epoch(model, train_loader, optimizer, criterion, device):\n",
    "    model.train()\n",
    "    \n",
    "    total_winner_loss = 0.0\n",
    "    # We still track accuracy over the epoch to see general trends\n",
    "    head_correct_preds = defaultdict(int)\n",
    "    total_samples = 0\n",
    "\n",
    "    progress_bar = tqdm(train_loader, desc=\"Training Epoch\", leave=False)\n",
    "\n",
    "    for images, labels in progress_bar:\n",
    "        images = images.to(device)\n",
    "        labels = labels.to(device)\n",
    "        \n",
    "        # --- Per-Batch Tournament ---\n",
    "        # 1. Forward pass\n",
    "        head_outputs = model(images)\n",
    "        \n",
    "        # 2. Find the winner FOR THIS BATCH\n",
    "        batch_accuracies = {}\n",
    "        batch_losses = {}\n",
    "        for head_name, logits in head_outputs.items():\n",
    "            loss = criterion(logits, labels)\n",
    "            batch_losses[head_name] = loss\n",
    "            \n",
    "            _, preds = torch.max(logits, 1)\n",
    "            correct = torch.sum(preds == labels).item()\n",
    "            batch_accuracies[head_name] = correct / labels.size(0)\n",
    "\n",
    "            # Update epoch-level stats for logging\n",
    "            head_correct_preds[head_name] += correct\n",
    "            \n",
    "        total_samples += labels.size(0)\n",
    "            \n",
    "        winner_head_name = max(batch_accuracies, key=batch_accuracies.get)\n",
    "        \n",
    "        # 3. Backpropagate from the batch winner's loss\n",
    "        winner_loss = batch_losses[winner_head_name]\n",
    "        \n",
    "        optimizer.zero_grad()\n",
    "        winner_loss.backward()\n",
    "        optimizer.step()\n",
    "        \n",
    "        total_winner_loss += winner_loss.item()\n",
    "\n",
    "    # --- End of Epoch ---\n",
    "    final_head_accuracies = {name: (correct / total_samples) for name, correct in head_correct_preds.items()}\n",
    "    \n",
    "    return {\n",
    "        \"avg_winner_loss\": total_winner_loss / len(train_loader),\n",
    "        \"head_accuracies\": final_head_accuracies\n",
    "    }"
   ]
  },
  {
   "cell_type": "code",
   "execution_count": 21,
   "metadata": {
    "execution": {
     "iopub.execute_input": "2025-10-10T18:41:13.532789Z",
     "iopub.status.busy": "2025-10-10T18:41:13.532497Z",
     "iopub.status.idle": "2025-10-10T18:41:37.322954Z",
     "shell.execute_reply": "2025-10-10T18:41:37.322070Z",
     "shell.execute_reply.started": "2025-10-10T18:41:13.532772Z"
    },
    "trusted": true
   },
   "outputs": [
    {
     "name": "stdout",
     "output_type": "stream",
     "text": [
      "Running a quick test of the training and evaluation functions...\n",
      "--- Creating DataLoaders (80/20 Split Strategy) ---\n",
      "Target (Test) Domain: VOC2007\n",
      "Source Domains for Train/Val: ['Caltech101', 'LabelMe', 'SUN09']\n",
      "Source data size: 7353\n",
      "  -> Training on: 5882 images (80%)\n",
      "  -> Validating on: 1471 images (20%)\n",
      "Testing on full 'VOC2007' domain: 3376 images\n",
      "----------------------------------------------------\n",
      "Test model initial dropout rates: [np.float64(0.1), np.float64(0.2), np.float64(0.6), np.float64(0.3)]\n"
     ]
    },
    {
     "name": "stderr",
     "output_type": "stream",
     "text": [
      "Some weights of ViTModel were not initialized from the model checkpoint at WinKawaks/vit-tiny-patch16-224 and are newly initialized: ['pooler.dense.bias', 'pooler.dense.weight']\n",
      "You should probably TRAIN this model on a down-stream task to be able to use it for predictions and inference.\n"
     ]
    },
    {
     "data": {
      "application/vnd.jupyter.widget-view+json": {
       "model_id": "f426f34119cd4dd3bbaa28b2b28af8d4",
       "version_major": 2,
       "version_minor": 0
      },
      "text/plain": [
       "Training Epoch:   0%|          | 0/46 [00:00<?, ?it/s]"
      ]
     },
     "metadata": {},
     "output_type": "display_data"
    },
    {
     "name": "stdout",
     "output_type": "stream",
     "text": [
      "\n",
      "--- One Training Epoch Test ---\n",
      "Average Winner Loss: 0.8138\n",
      "Final Head Accuracies for the Epoch:\n",
      "  head_1: 0.0955\n",
      "  head_2: 0.0362\n",
      "  head_3: 0.2426\n",
      "  head_4: 0.7356\n"
     ]
    },
    {
     "data": {
      "application/vnd.jupyter.widget-view+json": {
       "model_id": "54f0536e85b64b6bb0e046b6843db8e9",
       "version_major": 2,
       "version_minor": 0
      },
      "text/plain": [
       "Evaluating:   0%|          | 0/12 [00:00<?, ?it/s]"
      ]
     },
     "metadata": {},
     "output_type": "display_data"
    },
    {
     "name": "stdout",
     "output_type": "stream",
     "text": [
      "\n",
      "--- One Evaluation Pass Test ---\n",
      "Ensembled Validation Loss: 1.1050\n",
      "Ensembled Validation Accuracy: 0.5785\n",
      "\n",
      "Training and evaluation logic seems correct. Ready for Section 5: The Main Experiment Loop.\n"
     ]
    }
   ],
   "source": [
    "# =================================================================================\n",
    "# SECTION 4: TRAINING & EVALUATION LOGIC (ADVANCED STRATEGY)\n",
    "# =================================================================================\n",
    "\n",
    "# ---------------------------------------------------------------------------------\n",
    "# 4.1: TRAIN_ONE_EPOCH FUNCTION\n",
    "# (This function is correct and does not need to change)\n",
    "# ---------------------------------------------------------------------------------\n",
    "def train_one_epoch(model, train_loader, optimizer, criterion, device):\n",
    "    model.train()\n",
    "    total_winner_loss = 0.0\n",
    "    head_correct_preds = defaultdict(int)\n",
    "    total_samples = 0\n",
    "    progress_bar = tqdm(train_loader, desc=\"Training Epoch\", leave=False)\n",
    "    for images, labels in progress_bar:\n",
    "        images = images.to(device)\n",
    "        labels = labels.to(device)\n",
    "        head_outputs = model(images)\n",
    "        batch_accuracies = {}\n",
    "        batch_losses = {}\n",
    "        for head_name, logits in head_outputs.items():\n",
    "            loss = criterion(logits, labels)\n",
    "            batch_losses[head_name] = loss\n",
    "            _, preds = torch.max(logits, 1)\n",
    "            correct = torch.sum(preds == labels).item()\n",
    "            batch_accuracies[head_name] = correct / labels.size(0)\n",
    "            head_correct_preds[head_name] += correct\n",
    "        total_samples += labels.size(0)\n",
    "        winner_head_name = max(batch_accuracies, key=batch_accuracies.get)\n",
    "        winner_loss = batch_losses[winner_head_name]\n",
    "        optimizer.zero_grad()\n",
    "        winner_loss.backward()\n",
    "        optimizer.step()\n",
    "        total_winner_loss += winner_loss.item()\n",
    "    final_head_accuracies = {name: (correct / total_samples) for name, correct in head_correct_preds.items()}\n",
    "    return {\n",
    "        \"avg_winner_loss\": total_winner_loss / len(train_loader),\n",
    "        \"head_accuracies\": final_head_accuracies\n",
    "    }\n",
    "\n",
    "# ---------------------------------------------------------------------------------\n",
    "# 4.2: EVALUATE FUNCTION\n",
    "# (This function is correct and does not need to change)\n",
    "# ---------------------------------------------------------------------------------\n",
    "def evaluate(model, data_loader, criterion, device):\n",
    "    model.eval()\n",
    "    total_loss = 0.0\n",
    "    correct_preds = 0\n",
    "    total_samples = 0\n",
    "    with torch.no_grad():\n",
    "        progress_bar = tqdm(data_loader, desc=\"Evaluating\", leave=False)\n",
    "        for images, labels in progress_bar:\n",
    "            images = images.to(device)\n",
    "            labels = labels.to(device)\n",
    "            total_samples += labels.size(0)\n",
    "            head_outputs = model(images)\n",
    "            all_logits = torch.stack(list(head_outputs.values()))\n",
    "            ensembled_logits = torch.mean(all_logits, dim=0)\n",
    "            loss = criterion(ensembled_logits, labels)\n",
    "            total_loss += loss.item()\n",
    "            _, preds = torch.max(ensembled_logits, 1)\n",
    "            correct_preds += torch.sum(preds == labels).item()\n",
    "    avg_loss = total_loss / len(data_loader)\n",
    "    accuracy = correct_preds / total_samples\n",
    "    return {\n",
    "        \"avg_loss\": avg_loss,\n",
    "        \"accuracy\": accuracy\n",
    "    }\n",
    "\n",
    "# --- Quick Test of the Functions (Optional but Recommended) ---\n",
    "### CHANGE ###\n",
    "# The test block is now updated to work with the new model __init__\n",
    "# and the new 80/20 get_dataloaders function.\n",
    "# ---------------------------------------------------------------------------------\n",
    "print(\"Running a quick test of the training and evaluation functions...\")\n",
    "\n",
    "# We need some dataloaders for the test\n",
    "target_domain_test = config.DOMAINS[3] # \"sketch\"\n",
    "train_loader_test, val_loader_test, _ = get_dataloaders(\n",
    "    root_dir=config.DATA_DIR,\n",
    "    target_domain=target_domain_test,\n",
    "    all_domains=config.DOMAINS,\n",
    "    batch_size=config.BATCH_SIZE,\n",
    "    seed=config.SEED # Pass the seed\n",
    ")\n",
    "\n",
    "# 1. Generate an initial list of dropout rates for the test\n",
    "initial_dropout_rates = list(np.random.choice(\n",
    "    config.DROPOUT_OPTIONS, \n",
    "    config.NUM_HEADS, \n",
    "    replace=False\n",
    "))\n",
    "print(f\"Test model initial dropout rates: {initial_dropout_rates}\")\n",
    "\n",
    "# 2. Instantiate the model using the LIST of rates\n",
    "test_model = EvolutionaryViT(\n",
    "    model_name=config.MODEL_NAME,\n",
    "    num_classes=config.NUM_CLASSES,\n",
    "    dropout_rates=initial_dropout_rates # Pass the list here\n",
    ").to(config.DEVICE)\n",
    "\n",
    "test_optimizer = torch.optim.AdamW(test_model.parameters(), lr=config.LEARNING_RATE)\n",
    "test_criterion = nn.CrossEntropyLoss()\n",
    "\n",
    "# Run one training epoch\n",
    "train_metrics = train_one_epoch(test_model, train_loader_test, test_optimizer, test_criterion, config.DEVICE)\n",
    "print(\"\\n--- One Training Epoch Test ---\")\n",
    "print(f\"Average Winner Loss: {train_metrics['avg_winner_loss']:.4f}\") \n",
    "print(\"Final Head Accuracies for the Epoch:\")\n",
    "for name, acc in train_metrics['head_accuracies'].items():\n",
    "    print(f\"  {name}: {acc:.4f}\")\n",
    "\n",
    "# Run one evaluation pass\n",
    "eval_metrics = evaluate(test_model, val_loader_test, test_criterion, config.DEVICE)\n",
    "print(\"\\n--- One Evaluation Pass Test ---\")\n",
    "print(f\"Ensembled Validation Loss: {eval_metrics['avg_loss']:.4f}\")\n",
    "print(f\"Ensembled Validation Accuracy: {eval_metrics['accuracy']:.4f}\")\n",
    "\n",
    "print(\"\\nTraining and evaluation logic seems correct. Ready for Section 5: The Main Experiment Loop.\")"
   ]
  },
  {
   "cell_type": "code",
   "execution_count": 22,
   "metadata": {
    "execution": {
     "iopub.execute_input": "2025-10-10T18:41:37.325012Z",
     "iopub.status.busy": "2025-10-10T18:41:37.324286Z",
     "iopub.status.idle": "2025-10-10T18:52:06.401923Z",
     "shell.execute_reply": "2025-10-10T18:52:06.401064Z",
     "shell.execute_reply.started": "2025-10-10T18:41:37.324985Z"
    },
    "trusted": true
   },
   "outputs": [
    {
     "name": "stdout",
     "output_type": "stream",
     "text": [
      "==============================================================\n",
      "  STARTING LODO EXPERIMENT: Target Domain = CALTECH101\n",
      "==============================================================\n",
      "--- Creating DataLoaders (80/20 Split Strategy) ---\n",
      "Target (Test) Domain: Caltech101\n",
      "Source Domains for Train/Val: ['LabelMe', 'SUN09', 'VOC2007']\n",
      "Source data size: 9314\n",
      "  -> Training on: 7451 images (80%)\n",
      "  -> Validating on: 1863 images (20%)\n",
      "Testing on full 'Caltech101' domain: 1415 images\n",
      "----------------------------------------------------\n"
     ]
    },
    {
     "name": "stderr",
     "output_type": "stream",
     "text": [
      "Some weights of ViTModel were not initialized from the model checkpoint at WinKawaks/vit-tiny-patch16-224 and are newly initialized: ['pooler.dense.bias', 'pooler.dense.weight']\n",
      "You should probably TRAIN this model on a down-stream task to be able to use it for predictions and inference.\n"
     ]
    },
    {
     "name": "stdout",
     "output_type": "stream",
     "text": [
      "\n",
      "--- Epoch 1/5 ---\n",
      "Current Dropout Rates: {'head_1': np.float64(0.6), 'head_2': np.float64(0.1), 'head_3': np.float64(0.4), 'head_4': np.float64(0.3)}\n"
     ]
    },
    {
     "data": {
      "application/vnd.jupyter.widget-view+json": {
       "model_id": "6287ea8e40e34a2d8d34b4762e63e236",
       "version_major": 2,
       "version_minor": 0
      },
      "text/plain": [
       "Training Epoch:   0%|          | 0/59 [00:00<?, ?it/s]"
      ]
     },
     "metadata": {},
     "output_type": "display_data"
    },
    {
     "data": {
      "application/vnd.jupyter.widget-view+json": {
       "model_id": "e778914980564cc6a61ca11140b7dc53",
       "version_major": 2,
       "version_minor": 0
      },
      "text/plain": [
       "Evaluating:   0%|          | 0/15 [00:00<?, ?it/s]"
      ]
     },
     "metadata": {},
     "output_type": "display_data"
    },
    {
     "name": "stdout",
     "output_type": "stream",
     "text": [
      "Epoch 1 Summary:\n",
      "  Train Avg Winner Loss: 0.9300\n",
      "  Validation Loss: 1.1585\n",
      "  Validation Accuracy: 0.5754\n",
      "  New best validation accuracy! Saving model state.\n",
      "  Epoch Training Accuracies:\n",
      "    head_1: 0.1851 \n",
      "    head_2: 0.0744 \n",
      "    head_3: 0.7082 <- WINNER\n",
      "    head_4: 0.0976 \n",
      "\n",
      "--- Epoch 2/5 ---\n",
      "Current Dropout Rates: {'head_1': np.float64(0.1), 'head_2': np.float64(0.2), 'head_3': np.float64(0.4), 'head_4': np.float64(0.6)}\n"
     ]
    },
    {
     "data": {
      "application/vnd.jupyter.widget-view+json": {
       "model_id": "21fbf1a15d3e4cb89d16142b01140f79",
       "version_major": 2,
       "version_minor": 0
      },
      "text/plain": [
       "Training Epoch:   0%|          | 0/59 [00:00<?, ?it/s]"
      ]
     },
     "metadata": {},
     "output_type": "display_data"
    },
    {
     "data": {
      "application/vnd.jupyter.widget-view+json": {
       "model_id": "3d18a54986a040f7b987560157c3718d",
       "version_major": 2,
       "version_minor": 0
      },
      "text/plain": [
       "Evaluating:   0%|          | 0/15 [00:00<?, ?it/s]"
      ]
     },
     "metadata": {},
     "output_type": "display_data"
    },
    {
     "name": "stdout",
     "output_type": "stream",
     "text": [
      "Epoch 2 Summary:\n",
      "  Train Avg Winner Loss: 0.5017\n",
      "  Validation Loss: 1.0750\n",
      "  Validation Accuracy: 0.6549\n",
      "  New best validation accuracy! Saving model state.\n",
      "  Epoch Training Accuracies:\n",
      "    head_1: 0.1522 \n",
      "    head_2: 0.0781 \n",
      "    head_3: 0.8211 <- WINNER\n",
      "    head_4: 0.1396 \n",
      "\n",
      "--- Epoch 3/5 ---\n",
      "Current Dropout Rates: {'head_1': np.float64(0.1), 'head_2': np.float64(0.3), 'head_3': np.float64(0.4), 'head_4': np.float64(0.6)}\n"
     ]
    },
    {
     "data": {
      "application/vnd.jupyter.widget-view+json": {
       "model_id": "31104765306a45b6b75125631d7a21a4",
       "version_major": 2,
       "version_minor": 0
      },
      "text/plain": [
       "Training Epoch:   0%|          | 0/59 [00:00<?, ?it/s]"
      ]
     },
     "metadata": {},
     "output_type": "display_data"
    },
    {
     "data": {
      "application/vnd.jupyter.widget-view+json": {
       "model_id": "9f8672d9634746199d0d6e810a4da3d7",
       "version_major": 2,
       "version_minor": 0
      },
      "text/plain": [
       "Evaluating:   0%|          | 0/15 [00:00<?, ?it/s]"
      ]
     },
     "metadata": {},
     "output_type": "display_data"
    },
    {
     "name": "stdout",
     "output_type": "stream",
     "text": [
      "Epoch 3 Summary:\n",
      "  Train Avg Winner Loss: 0.3847\n",
      "  Validation Loss: 0.9951\n",
      "  Validation Accuracy: 0.6570\n",
      "  New best validation accuracy! Saving model state.\n",
      "  Epoch Training Accuracies:\n",
      "    head_1: 0.1272 \n",
      "    head_2: 0.0735 \n",
      "    head_3: 0.8610 <- WINNER\n",
      "    head_4: 0.1692 \n",
      "\n",
      "--- Epoch 4/5 ---\n",
      "Current Dropout Rates: {'head_1': np.float64(0.6), 'head_2': np.float64(0.3), 'head_3': np.float64(0.4), 'head_4': np.float64(0.7)}\n"
     ]
    },
    {
     "data": {
      "application/vnd.jupyter.widget-view+json": {
       "model_id": "deff8c72a90e43d89826516ceccfe0db",
       "version_major": 2,
       "version_minor": 0
      },
      "text/plain": [
       "Training Epoch:   0%|          | 0/59 [00:00<?, ?it/s]"
      ]
     },
     "metadata": {},
     "output_type": "display_data"
    },
    {
     "data": {
      "application/vnd.jupyter.widget-view+json": {
       "model_id": "b6b86ad397a94aa3889ae4624f8d93dc",
       "version_major": 2,
       "version_minor": 0
      },
      "text/plain": [
       "Evaluating:   0%|          | 0/15 [00:00<?, ?it/s]"
      ]
     },
     "metadata": {},
     "output_type": "display_data"
    },
    {
     "name": "stdout",
     "output_type": "stream",
     "text": [
      "Epoch 4 Summary:\n",
      "  Train Avg Winner Loss: 0.2838\n",
      "  Validation Loss: 0.9734\n",
      "  Validation Accuracy: 0.6897\n",
      "  New best validation accuracy! Saving model state.\n",
      "  Epoch Training Accuracies:\n",
      "    head_1: 0.1178 \n",
      "    head_2: 0.0930 \n",
      "    head_3: 0.9000 <- WINNER\n",
      "    head_4: 0.2065 \n",
      "\n",
      "--- Epoch 5/5 ---\n",
      "Current Dropout Rates: {'head_1': np.float64(0.2), 'head_2': np.float64(0.6), 'head_3': np.float64(0.4), 'head_4': np.float64(0.7)}\n"
     ]
    },
    {
     "data": {
      "application/vnd.jupyter.widget-view+json": {
       "model_id": "8246ca43d8a144f9a598633df4d5251c",
       "version_major": 2,
       "version_minor": 0
      },
      "text/plain": [
       "Training Epoch:   0%|          | 0/59 [00:00<?, ?it/s]"
      ]
     },
     "metadata": {},
     "output_type": "display_data"
    },
    {
     "data": {
      "application/vnd.jupyter.widget-view+json": {
       "model_id": "0186a43f757b43468481633107503b8a",
       "version_major": 2,
       "version_minor": 0
      },
      "text/plain": [
       "Evaluating:   0%|          | 0/15 [00:00<?, ?it/s]"
      ]
     },
     "metadata": {},
     "output_type": "display_data"
    },
    {
     "name": "stdout",
     "output_type": "stream",
     "text": [
      "Epoch 5 Summary:\n",
      "  Train Avg Winner Loss: 0.2018\n",
      "  Validation Loss: 0.8805\n",
      "  Validation Accuracy: 0.7085\n",
      "  New best validation accuracy! Saving model state.\n",
      "  Epoch Training Accuracies:\n",
      "    head_1: 0.0980 \n",
      "    head_2: 0.1405 \n",
      "    head_3: 0.9313 <- WINNER\n",
      "    head_4: 0.2025 \n",
      "\n",
      "Training complete for this LODO split.\n",
      "Loading best model state and evaluating on the TEST set...\n"
     ]
    },
    {
     "data": {
      "application/vnd.jupyter.widget-view+json": {
       "model_id": "35061f97eada4004bca3b7d355a4e5d6",
       "version_major": 2,
       "version_minor": 0
      },
      "text/plain": [
       "Evaluating:   0%|          | 0/12 [00:00<?, ?it/s]"
      ]
     },
     "metadata": {},
     "output_type": "display_data"
    },
    {
     "name": "stdout",
     "output_type": "stream",
     "text": [
      "\n",
      "--- RESULTS FOR TARGET DOMAIN: CALTECH101 ---\n",
      "  Test Accuracy: 0.8947\n",
      "--------------------------------------------------\n",
      "==============================================================\n",
      "  STARTING LODO EXPERIMENT: Target Domain = LABELME\n",
      "==============================================================\n",
      "--- Creating DataLoaders (80/20 Split Strategy) ---\n",
      "Target (Test) Domain: LabelMe\n",
      "Source Domains for Train/Val: ['Caltech101', 'SUN09', 'VOC2007']\n",
      "Source data size: 8073\n",
      "  -> Training on: 6458 images (80%)\n",
      "  -> Validating on: 1615 images (20%)\n",
      "Testing on full 'LabelMe' domain: 2656 images\n",
      "----------------------------------------------------\n"
     ]
    },
    {
     "name": "stderr",
     "output_type": "stream",
     "text": [
      "Some weights of ViTModel were not initialized from the model checkpoint at WinKawaks/vit-tiny-patch16-224 and are newly initialized: ['pooler.dense.bias', 'pooler.dense.weight']\n",
      "You should probably TRAIN this model on a down-stream task to be able to use it for predictions and inference.\n"
     ]
    },
    {
     "name": "stdout",
     "output_type": "stream",
     "text": [
      "\n",
      "--- Epoch 1/5 ---\n",
      "Current Dropout Rates: {'head_1': np.float64(0.1), 'head_2': np.float64(0.2), 'head_3': np.float64(0.5), 'head_4': np.float64(0.4)}\n"
     ]
    },
    {
     "data": {
      "application/vnd.jupyter.widget-view+json": {
       "model_id": "cf6b83187dbd444d87bc991845d77cda",
       "version_major": 2,
       "version_minor": 0
      },
      "text/plain": [
       "Training Epoch:   0%|          | 0/51 [00:00<?, ?it/s]"
      ]
     },
     "metadata": {},
     "output_type": "display_data"
    },
    {
     "data": {
      "application/vnd.jupyter.widget-view+json": {
       "model_id": "a52e08866f90495e8639e18d556e6deb",
       "version_major": 2,
       "version_minor": 0
      },
      "text/plain": [
       "Evaluating:   0%|          | 0/13 [00:00<?, ?it/s]"
      ]
     },
     "metadata": {},
     "output_type": "display_data"
    },
    {
     "name": "stdout",
     "output_type": "stream",
     "text": [
      "Epoch 1 Summary:\n",
      "  Train Avg Winner Loss: 0.7939\n",
      "  Validation Loss: 0.9189\n",
      "  Validation Accuracy: 0.6793\n",
      "  New best validation accuracy! Saving model state.\n",
      "  Epoch Training Accuracies:\n",
      "    head_1: 0.1906 \n",
      "    head_2: 0.7767 <- WINNER\n",
      "    head_3: 0.2284 \n",
      "    head_4: 0.1313 \n",
      "\n",
      "--- Epoch 2/5 ---\n",
      "Current Dropout Rates: {'head_1': np.float64(0.2), 'head_2': np.float64(0.2), 'head_3': np.float64(0.4), 'head_4': np.float64(0.6)}\n"
     ]
    },
    {
     "data": {
      "application/vnd.jupyter.widget-view+json": {
       "model_id": "169430b5e77f4a4f961ffe07e0df1d5c",
       "version_major": 2,
       "version_minor": 0
      },
      "text/plain": [
       "Training Epoch:   0%|          | 0/51 [00:00<?, ?it/s]"
      ]
     },
     "metadata": {},
     "output_type": "display_data"
    },
    {
     "data": {
      "application/vnd.jupyter.widget-view+json": {
       "model_id": "d47714ac451d4415ad85bc3da1bd1a49",
       "version_major": 2,
       "version_minor": 0
      },
      "text/plain": [
       "Evaluating:   0%|          | 0/13 [00:00<?, ?it/s]"
      ]
     },
     "metadata": {},
     "output_type": "display_data"
    },
    {
     "name": "stdout",
     "output_type": "stream",
     "text": [
      "Epoch 2 Summary:\n",
      "  Train Avg Winner Loss: 0.2939\n",
      "  Validation Loss: 0.8344\n",
      "  Validation Accuracy: 0.7102\n",
      "  New best validation accuracy! Saving model state.\n",
      "  Epoch Training Accuracies:\n",
      "    head_1: 0.1788 \n",
      "    head_2: 0.9000 <- WINNER\n",
      "    head_3: 0.2773 \n",
      "    head_4: 0.1291 \n",
      "\n",
      "--- Epoch 3/5 ---\n",
      "Current Dropout Rates: {'head_1': np.float64(0.5), 'head_2': np.float64(0.2), 'head_3': np.float64(0.6), 'head_4': np.float64(0.7)}\n"
     ]
    },
    {
     "data": {
      "application/vnd.jupyter.widget-view+json": {
       "model_id": "615ef7bf00c64a0b8995a542914d1db5",
       "version_major": 2,
       "version_minor": 0
      },
      "text/plain": [
       "Training Epoch:   0%|          | 0/51 [00:00<?, ?it/s]"
      ]
     },
     "metadata": {},
     "output_type": "display_data"
    },
    {
     "data": {
      "application/vnd.jupyter.widget-view+json": {
       "model_id": "e25a2c8007fe458ca08bb4102c23e099",
       "version_major": 2,
       "version_minor": 0
      },
      "text/plain": [
       "Evaluating:   0%|          | 0/13 [00:00<?, ?it/s]"
      ]
     },
     "metadata": {},
     "output_type": "display_data"
    },
    {
     "name": "stdout",
     "output_type": "stream",
     "text": [
      "Epoch 3 Summary:\n",
      "  Train Avg Winner Loss: 0.1675\n",
      "  Validation Loss: 0.7763\n",
      "  Validation Accuracy: 0.7492\n",
      "  New best validation accuracy! Saving model state.\n",
      "  Epoch Training Accuracies:\n",
      "    head_1: 0.1564 \n",
      "    head_2: 0.9399 <- WINNER\n",
      "    head_3: 0.2454 \n",
      "    head_4: 0.1442 \n",
      "\n",
      "--- Epoch 4/5 ---\n",
      "Current Dropout Rates: {'head_1': np.float64(0.4), 'head_2': np.float64(0.2), 'head_3': np.float64(0.5), 'head_4': np.float64(0.6)}\n"
     ]
    },
    {
     "data": {
      "application/vnd.jupyter.widget-view+json": {
       "model_id": "4e2f1f92a3c642daa1cc9e60f95fa5b6",
       "version_major": 2,
       "version_minor": 0
      },
      "text/plain": [
       "Training Epoch:   0%|          | 0/51 [00:00<?, ?it/s]"
      ]
     },
     "metadata": {},
     "output_type": "display_data"
    },
    {
     "data": {
      "application/vnd.jupyter.widget-view+json": {
       "model_id": "ca400b4b604246aa99f582f16e4ab474",
       "version_major": 2,
       "version_minor": 0
      },
      "text/plain": [
       "Evaluating:   0%|          | 0/13 [00:00<?, ?it/s]"
      ]
     },
     "metadata": {},
     "output_type": "display_data"
    },
    {
     "name": "stdout",
     "output_type": "stream",
     "text": [
      "Epoch 4 Summary:\n",
      "  Train Avg Winner Loss: 0.0989\n",
      "  Validation Loss: 0.7017\n",
      "  Validation Accuracy: 0.7647\n",
      "  New best validation accuracy! Saving model state.\n",
      "  Epoch Training Accuracies:\n",
      "    head_1: 0.1555 \n",
      "    head_2: 0.9652 <- WINNER\n",
      "    head_3: 0.2405 \n",
      "    head_4: 0.1380 \n",
      "\n",
      "--- Epoch 5/5 ---\n",
      "Current Dropout Rates: {'head_1': np.float64(0.2), 'head_2': np.float64(0.2), 'head_3': np.float64(0.3), 'head_4': np.float64(0.1)}\n"
     ]
    },
    {
     "data": {
      "application/vnd.jupyter.widget-view+json": {
       "model_id": "bcabfa6fdbba4c67a6b35c0b206cca2d",
       "version_major": 2,
       "version_minor": 0
      },
      "text/plain": [
       "Training Epoch:   0%|          | 0/51 [00:00<?, ?it/s]"
      ]
     },
     "metadata": {},
     "output_type": "display_data"
    },
    {
     "data": {
      "application/vnd.jupyter.widget-view+json": {
       "model_id": "68c96c0c3c834be4992f47219e8da518",
       "version_major": 2,
       "version_minor": 0
      },
      "text/plain": [
       "Evaluating:   0%|          | 0/13 [00:00<?, ?it/s]"
      ]
     },
     "metadata": {},
     "output_type": "display_data"
    },
    {
     "name": "stdout",
     "output_type": "stream",
     "text": [
      "Epoch 5 Summary:\n",
      "  Train Avg Winner Loss: 0.0698\n",
      "  Validation Loss: 0.7133\n",
      "  Validation Accuracy: 0.7610\n",
      "  Epoch Training Accuracies:\n",
      "    head_1: 0.1456 \n",
      "    head_2: 0.9772 <- WINNER\n",
      "    head_3: 0.2408 \n",
      "    head_4: 0.1051 \n",
      "\n",
      "Training complete for this LODO split.\n",
      "Loading best model state and evaluating on the TEST set...\n"
     ]
    },
    {
     "data": {
      "application/vnd.jupyter.widget-view+json": {
       "model_id": "6a51a039986a45d2871cd0b56494ebda",
       "version_major": 2,
       "version_minor": 0
      },
      "text/plain": [
       "Evaluating:   0%|          | 0/21 [00:00<?, ?it/s]"
      ]
     },
     "metadata": {},
     "output_type": "display_data"
    },
    {
     "name": "stdout",
     "output_type": "stream",
     "text": [
      "\n",
      "--- RESULTS FOR TARGET DOMAIN: LABELME ---\n",
      "  Test Accuracy: 0.5644\n",
      "--------------------------------------------------\n",
      "==============================================================\n",
      "  STARTING LODO EXPERIMENT: Target Domain = SUN09\n",
      "==============================================================\n",
      "--- Creating DataLoaders (80/20 Split Strategy) ---\n",
      "Target (Test) Domain: SUN09\n",
      "Source Domains for Train/Val: ['Caltech101', 'LabelMe', 'VOC2007']\n",
      "Source data size: 7447\n",
      "  -> Training on: 5957 images (80%)\n",
      "  -> Validating on: 1490 images (20%)\n",
      "Testing on full 'SUN09' domain: 3282 images\n",
      "----------------------------------------------------\n"
     ]
    },
    {
     "name": "stderr",
     "output_type": "stream",
     "text": [
      "Some weights of ViTModel were not initialized from the model checkpoint at WinKawaks/vit-tiny-patch16-224 and are newly initialized: ['pooler.dense.bias', 'pooler.dense.weight']\n",
      "You should probably TRAIN this model on a down-stream task to be able to use it for predictions and inference.\n"
     ]
    },
    {
     "name": "stdout",
     "output_type": "stream",
     "text": [
      "\n",
      "--- Epoch 1/5 ---\n",
      "Current Dropout Rates: {'head_1': np.float64(0.3), 'head_2': np.float64(0.1), 'head_3': np.float64(0.5), 'head_4': np.float64(0.4)}\n"
     ]
    },
    {
     "data": {
      "application/vnd.jupyter.widget-view+json": {
       "model_id": "3fd4b10100ee41e588a6784732c2bdb8",
       "version_major": 2,
       "version_minor": 0
      },
      "text/plain": [
       "Training Epoch:   0%|          | 0/47 [00:00<?, ?it/s]"
      ]
     },
     "metadata": {},
     "output_type": "display_data"
    },
    {
     "data": {
      "application/vnd.jupyter.widget-view+json": {
       "model_id": "f9b8ab29e1c84201abc5998ce3402f68",
       "version_major": 2,
       "version_minor": 0
      },
      "text/plain": [
       "Evaluating:   0%|          | 0/12 [00:00<?, ?it/s]"
      ]
     },
     "metadata": {},
     "output_type": "display_data"
    },
    {
     "name": "stdout",
     "output_type": "stream",
     "text": [
      "Epoch 1 Summary:\n",
      "  Train Avg Winner Loss: 0.7940\n",
      "  Validation Loss: 1.0228\n",
      "  Validation Accuracy: 0.5826\n",
      "  New best validation accuracy! Saving model state.\n",
      "  Epoch Training Accuracies:\n",
      "    head_1: 0.7521 <- WINNER\n",
      "    head_2: 0.1261 \n",
      "    head_3: 0.0789 \n",
      "    head_4: 0.1598 \n",
      "\n",
      "--- Epoch 2/5 ---\n",
      "Current Dropout Rates: {'head_1': np.float64(0.3), 'head_2': np.float64(0.3), 'head_3': np.float64(0.5), 'head_4': np.float64(0.4)}\n"
     ]
    },
    {
     "data": {
      "application/vnd.jupyter.widget-view+json": {
       "model_id": "8b99eaad4ad54cae8b4e8f4eacefa972",
       "version_major": 2,
       "version_minor": 0
      },
      "text/plain": [
       "Training Epoch:   0%|          | 0/47 [00:00<?, ?it/s]"
      ]
     },
     "metadata": {},
     "output_type": "display_data"
    },
    {
     "data": {
      "application/vnd.jupyter.widget-view+json": {
       "model_id": "835ce3bb75ea434d874c83d4a1b7db43",
       "version_major": 2,
       "version_minor": 0
      },
      "text/plain": [
       "Evaluating:   0%|          | 0/12 [00:00<?, ?it/s]"
      ]
     },
     "metadata": {},
     "output_type": "display_data"
    },
    {
     "name": "stdout",
     "output_type": "stream",
     "text": [
      "Epoch 2 Summary:\n",
      "  Train Avg Winner Loss: 0.3839\n",
      "  Validation Loss: 0.9716\n",
      "  Validation Accuracy: 0.6846\n",
      "  New best validation accuracy! Saving model state.\n",
      "  Epoch Training Accuracies:\n",
      "    head_1: 0.8570 <- WINNER\n",
      "    head_2: 0.1387 \n",
      "    head_3: 0.0725 \n",
      "    head_4: 0.1308 \n",
      "\n",
      "--- Epoch 3/5 ---\n",
      "Current Dropout Rates: {'head_1': np.float64(0.3), 'head_2': np.float64(0.3), 'head_3': np.float64(0.2), 'head_4': np.float64(0.1)}\n"
     ]
    },
    {
     "data": {
      "application/vnd.jupyter.widget-view+json": {
       "model_id": "894ce99977fa4608925971a1d7db2fa8",
       "version_major": 2,
       "version_minor": 0
      },
      "text/plain": [
       "Training Epoch:   0%|          | 0/47 [00:00<?, ?it/s]"
      ]
     },
     "metadata": {},
     "output_type": "display_data"
    },
    {
     "data": {
      "application/vnd.jupyter.widget-view+json": {
       "model_id": "166ce4e215684ddaa5ab2d48998fbdab",
       "version_major": 2,
       "version_minor": 0
      },
      "text/plain": [
       "Evaluating:   0%|          | 0/12 [00:00<?, ?it/s]"
      ]
     },
     "metadata": {},
     "output_type": "display_data"
    },
    {
     "name": "stdout",
     "output_type": "stream",
     "text": [
      "Epoch 3 Summary:\n",
      "  Train Avg Winner Loss: 0.2793\n",
      "  Validation Loss: 0.9280\n",
      "  Validation Accuracy: 0.6966\n",
      "  New best validation accuracy! Saving model state.\n",
      "  Epoch Training Accuracies:\n",
      "    head_1: 0.8968 <- WINNER\n",
      "    head_2: 0.0969 \n",
      "    head_3: 0.0376 \n",
      "    head_4: 0.0982 \n",
      "\n",
      "--- Epoch 4/5 ---\n",
      "Current Dropout Rates: {'head_1': np.float64(0.3), 'head_2': np.float64(0.6), 'head_3': np.float64(0.1), 'head_4': np.float64(0.3)}\n"
     ]
    },
    {
     "data": {
      "application/vnd.jupyter.widget-view+json": {
       "model_id": "5fb98dddff7e4c6ea3a78cc1dd363b66",
       "version_major": 2,
       "version_minor": 0
      },
      "text/plain": [
       "Training Epoch:   0%|          | 0/47 [00:00<?, ?it/s]"
      ]
     },
     "metadata": {},
     "output_type": "display_data"
    },
    {
     "data": {
      "application/vnd.jupyter.widget-view+json": {
       "model_id": "5640ff83a5164afa8393bb0cd3bbc655",
       "version_major": 2,
       "version_minor": 0
      },
      "text/plain": [
       "Evaluating:   0%|          | 0/12 [00:00<?, ?it/s]"
      ]
     },
     "metadata": {},
     "output_type": "display_data"
    },
    {
     "name": "stdout",
     "output_type": "stream",
     "text": [
      "Epoch 4 Summary:\n",
      "  Train Avg Winner Loss: 0.2024\n",
      "  Validation Loss: 0.8463\n",
      "  Validation Accuracy: 0.7336\n",
      "  New best validation accuracy! Saving model state.\n",
      "  Epoch Training Accuracies:\n",
      "    head_1: 0.9270 <- WINNER\n",
      "    head_2: 0.1147 \n",
      "    head_3: 0.0349 \n",
      "    head_4: 0.1672 \n",
      "\n",
      "--- Epoch 5/5 ---\n",
      "Current Dropout Rates: {'head_1': np.float64(0.3), 'head_2': np.float64(0.3), 'head_3': np.float64(0.6), 'head_4': np.float64(0.5)}\n"
     ]
    },
    {
     "data": {
      "application/vnd.jupyter.widget-view+json": {
       "model_id": "e204798c0234440382c2357495862ce2",
       "version_major": 2,
       "version_minor": 0
      },
      "text/plain": [
       "Training Epoch:   0%|          | 0/47 [00:00<?, ?it/s]"
      ]
     },
     "metadata": {},
     "output_type": "display_data"
    },
    {
     "data": {
      "application/vnd.jupyter.widget-view+json": {
       "model_id": "c7af4be39bc447649e5617cb172e492d",
       "version_major": 2,
       "version_minor": 0
      },
      "text/plain": [
       "Evaluating:   0%|          | 0/12 [00:00<?, ?it/s]"
      ]
     },
     "metadata": {},
     "output_type": "display_data"
    },
    {
     "name": "stdout",
     "output_type": "stream",
     "text": [
      "Epoch 5 Summary:\n",
      "  Train Avg Winner Loss: 0.1584\n",
      "  Validation Loss: 0.7975\n",
      "  Validation Accuracy: 0.7430\n",
      "  New best validation accuracy! Saving model state.\n",
      "  Epoch Training Accuracies:\n",
      "    head_1: 0.9461 <- WINNER\n",
      "    head_2: 0.0772 \n",
      "    head_3: 0.0910 \n",
      "    head_4: 0.1895 \n",
      "\n",
      "Training complete for this LODO split.\n",
      "Loading best model state and evaluating on the TEST set...\n"
     ]
    },
    {
     "data": {
      "application/vnd.jupyter.widget-view+json": {
       "model_id": "e2b7ff1dad9744879d80365b6a49a284",
       "version_major": 2,
       "version_minor": 0
      },
      "text/plain": [
       "Evaluating:   0%|          | 0/26 [00:00<?, ?it/s]"
      ]
     },
     "metadata": {},
     "output_type": "display_data"
    },
    {
     "name": "stdout",
     "output_type": "stream",
     "text": [
      "\n",
      "--- RESULTS FOR TARGET DOMAIN: SUN09 ---\n",
      "  Test Accuracy: 0.6313\n",
      "--------------------------------------------------\n",
      "==============================================================\n",
      "  STARTING LODO EXPERIMENT: Target Domain = VOC2007\n",
      "==============================================================\n",
      "--- Creating DataLoaders (80/20 Split Strategy) ---\n",
      "Target (Test) Domain: VOC2007\n",
      "Source Domains for Train/Val: ['Caltech101', 'LabelMe', 'SUN09']\n",
      "Source data size: 7353\n",
      "  -> Training on: 5882 images (80%)\n",
      "  -> Validating on: 1471 images (20%)\n",
      "Testing on full 'VOC2007' domain: 3376 images\n",
      "----------------------------------------------------\n"
     ]
    },
    {
     "name": "stderr",
     "output_type": "stream",
     "text": [
      "Some weights of ViTModel were not initialized from the model checkpoint at WinKawaks/vit-tiny-patch16-224 and are newly initialized: ['pooler.dense.bias', 'pooler.dense.weight']\n",
      "You should probably TRAIN this model on a down-stream task to be able to use it for predictions and inference.\n"
     ]
    },
    {
     "name": "stdout",
     "output_type": "stream",
     "text": [
      "\n",
      "--- Epoch 1/5 ---\n",
      "Current Dropout Rates: {'head_1': np.float64(0.6), 'head_2': np.float64(0.2), 'head_3': np.float64(0.7), 'head_4': np.float64(0.5)}\n"
     ]
    },
    {
     "data": {
      "application/vnd.jupyter.widget-view+json": {
       "model_id": "fb50dba46a814391b8b3c4952d55fa60",
       "version_major": 2,
       "version_minor": 0
      },
      "text/plain": [
       "Training Epoch:   0%|          | 0/46 [00:00<?, ?it/s]"
      ]
     },
     "metadata": {},
     "output_type": "display_data"
    },
    {
     "data": {
      "application/vnd.jupyter.widget-view+json": {
       "model_id": "55a3f0aa28bb42cca5a5c93689dcde7a",
       "version_major": 2,
       "version_minor": 0
      },
      "text/plain": [
       "Evaluating:   0%|          | 0/12 [00:00<?, ?it/s]"
      ]
     },
     "metadata": {},
     "output_type": "display_data"
    },
    {
     "name": "stdout",
     "output_type": "stream",
     "text": [
      "Epoch 1 Summary:\n",
      "  Train Avg Winner Loss: 1.2124\n",
      "  Validation Loss: 0.8736\n",
      "  Validation Accuracy: 0.7845\n",
      "  New best validation accuracy! Saving model state.\n",
      "  Epoch Training Accuracies:\n",
      "    head_1: 0.2265 \n",
      "    head_2: 0.1948 \n",
      "    head_3: 0.6511 <- WINNER\n",
      "    head_4: 0.1471 \n",
      "\n",
      "--- Epoch 2/5 ---\n",
      "Current Dropout Rates: {'head_1': np.float64(0.4), 'head_2': np.float64(0.2), 'head_3': np.float64(0.7), 'head_4': np.float64(0.6)}\n"
     ]
    },
    {
     "data": {
      "application/vnd.jupyter.widget-view+json": {
       "model_id": "32f51d4ab6db4959b73fa3701b846013",
       "version_major": 2,
       "version_minor": 0
      },
      "text/plain": [
       "Training Epoch:   0%|          | 0/46 [00:00<?, ?it/s]"
      ]
     },
     "metadata": {},
     "output_type": "display_data"
    },
    {
     "data": {
      "application/vnd.jupyter.widget-view+json": {
       "model_id": "7023beb6f67f40ef829d1b3a523c11af",
       "version_major": 2,
       "version_minor": 0
      },
      "text/plain": [
       "Evaluating:   0%|          | 0/12 [00:00<?, ?it/s]"
      ]
     },
     "metadata": {},
     "output_type": "display_data"
    },
    {
     "name": "stdout",
     "output_type": "stream",
     "text": [
      "Epoch 2 Summary:\n",
      "  Train Avg Winner Loss: 0.5925\n",
      "  Validation Loss: 0.7666\n",
      "  Validation Accuracy: 0.7573\n",
      "  Epoch Training Accuracies:\n",
      "    head_1: 0.3077 \n",
      "    head_2: 0.2469 \n",
      "    head_3: 0.7841 <- WINNER\n",
      "    head_4: 0.1919 \n",
      "\n",
      "--- Epoch 3/5 ---\n",
      "Current Dropout Rates: {'head_1': np.float64(0.6), 'head_2': np.float64(0.5), 'head_3': np.float64(0.7), 'head_4': np.float64(0.4)}\n"
     ]
    },
    {
     "data": {
      "application/vnd.jupyter.widget-view+json": {
       "model_id": "58be64449d004abb9e21c9a808e1c41e",
       "version_major": 2,
       "version_minor": 0
      },
      "text/plain": [
       "Training Epoch:   0%|          | 0/46 [00:00<?, ?it/s]"
      ]
     },
     "metadata": {},
     "output_type": "display_data"
    },
    {
     "data": {
      "application/vnd.jupyter.widget-view+json": {
       "model_id": "53cf75ba44614fe4b0008592ee711756",
       "version_major": 2,
       "version_minor": 0
      },
      "text/plain": [
       "Evaluating:   0%|          | 0/12 [00:00<?, ?it/s]"
      ]
     },
     "metadata": {},
     "output_type": "display_data"
    },
    {
     "name": "stdout",
     "output_type": "stream",
     "text": [
      "Epoch 3 Summary:\n",
      "  Train Avg Winner Loss: 0.4776\n",
      "  Validation Loss: 0.7970\n",
      "  Validation Accuracy: 0.6920\n",
      "  Epoch Training Accuracies:\n",
      "    head_1: 0.3208 \n",
      "    head_2: 0.2151 \n",
      "    head_3: 0.8325 <- WINNER\n",
      "    head_4: 0.2122 \n",
      "\n",
      "--- Epoch 4/5 ---\n",
      "Current Dropout Rates: {'head_1': np.float64(0.6), 'head_2': np.float64(0.5), 'head_3': np.float64(0.7), 'head_4': np.float64(0.7)}\n"
     ]
    },
    {
     "data": {
      "application/vnd.jupyter.widget-view+json": {
       "model_id": "9b544cd23d964bccb282e8f849f48946",
       "version_major": 2,
       "version_minor": 0
      },
      "text/plain": [
       "Training Epoch:   0%|          | 0/46 [00:00<?, ?it/s]"
      ]
     },
     "metadata": {},
     "output_type": "display_data"
    },
    {
     "data": {
      "application/vnd.jupyter.widget-view+json": {
       "model_id": "a8a54f3866f043e380abc49e2cfd2d91",
       "version_major": 2,
       "version_minor": 0
      },
      "text/plain": [
       "Evaluating:   0%|          | 0/12 [00:00<?, ?it/s]"
      ]
     },
     "metadata": {},
     "output_type": "display_data"
    },
    {
     "name": "stdout",
     "output_type": "stream",
     "text": [
      "Epoch 4 Summary:\n",
      "  Train Avg Winner Loss: 0.3944\n",
      "  Validation Loss: 0.7186\n",
      "  Validation Accuracy: 0.7362\n",
      "  Epoch Training Accuracies:\n",
      "    head_1: 0.3203 \n",
      "    head_2: 0.1957 \n",
      "    head_3: 0.8618 <- WINNER\n",
      "    head_4: 0.2210 \n",
      "\n",
      "--- Epoch 5/5 ---\n",
      "Current Dropout Rates: {'head_1': np.float64(0.7), 'head_2': np.float64(0.1), 'head_3': np.float64(0.7), 'head_4': np.float64(0.4)}\n"
     ]
    },
    {
     "data": {
      "application/vnd.jupyter.widget-view+json": {
       "model_id": "8b99e84a24344b28b60b8a64ab860e5a",
       "version_major": 2,
       "version_minor": 0
      },
      "text/plain": [
       "Training Epoch:   0%|          | 0/46 [00:00<?, ?it/s]"
      ]
     },
     "metadata": {},
     "output_type": "display_data"
    },
    {
     "data": {
      "application/vnd.jupyter.widget-view+json": {
       "model_id": "e25dd4e1cb6e402186dbc0bfc2d449f0",
       "version_major": 2,
       "version_minor": 0
      },
      "text/plain": [
       "Evaluating:   0%|          | 0/12 [00:00<?, ?it/s]"
      ]
     },
     "metadata": {},
     "output_type": "display_data"
    },
    {
     "name": "stdout",
     "output_type": "stream",
     "text": [
      "Epoch 5 Summary:\n",
      "  Train Avg Winner Loss: 0.2837\n",
      "  Validation Loss: 0.6928\n",
      "  Validation Accuracy: 0.7818\n",
      "  Epoch Training Accuracies:\n",
      "    head_1: 0.3069 \n",
      "    head_2: 0.2033 \n",
      "    head_3: 0.9056 <- WINNER\n",
      "    head_4: 0.2622 \n",
      "\n",
      "Training complete for this LODO split.\n",
      "Loading best model state and evaluating on the TEST set...\n"
     ]
    },
    {
     "data": {
      "application/vnd.jupyter.widget-view+json": {
       "model_id": "aa82aacf28d14dda9dff9dc4acf73f55",
       "version_major": 2,
       "version_minor": 0
      },
      "text/plain": [
       "Evaluating:   0%|          | 0/27 [00:00<?, ?it/s]"
      ]
     },
     "metadata": {},
     "output_type": "display_data"
    },
    {
     "name": "stdout",
     "output_type": "stream",
     "text": [
      "\n",
      "--- RESULTS FOR TARGET DOMAIN: VOC2007 ---\n",
      "  Test Accuracy: 0.7011\n",
      "--------------------------------------------------\n",
      "\n",
      "\n",
      "==============================================================\n",
      "          ALL ADAPTIVE DROPOUT LODO EXPERIMENTS COMPLETE\n",
      "==============================================================\n"
     ]
    }
   ],
   "source": [
    "# =================================================================================\n",
    "# SECTION 5: THE MAIN EXPERIMENT LOOP (ADVANCED STRATEGY)\n",
    "# =================================================================================\n",
    "# This version implements the \"Winner-Stays, Losers-Re-roll\" dropout strategy.\n",
    "# The dropout rates are now dynamic and adapt based on epoch performance.\n",
    "# ---------------------------------------------------------------------------------\n",
    "\n",
    "# A fresh copy of the config to ensure we start clean\n",
    "config = Config()\n",
    "\n",
    "# Loop over each domain to set it as the target domain once\n",
    "for target_domain in config.DOMAINS:\n",
    "    print(f\"==============================================================\")\n",
    "    print(f\"  STARTING LODO EXPERIMENT: Target Domain = {target_domain.upper()}\")\n",
    "    print(f\"==============================================================\")\n",
    "    \n",
    "    # --- 1. Setup for this specific LODO run ---\n",
    "    # Get the specific data loaders for this train/test split\n",
    "    train_loader, val_loader, test_loader = get_dataloaders(\n",
    "        root_dir=config.DATA_DIR,\n",
    "        target_domain=target_domain,\n",
    "        all_domains=config.DOMAINS,\n",
    "        batch_size=config.BATCH_SIZE, seed=config.SEED\n",
    "    )\n",
    "    \n",
    "    # Initialize the first set of random dropout rates for the competing heads.\n",
    "    # np.random.choice ensures we get unique rates if possible.\n",
    "    current_dropout_rates = list(np.random.choice(\n",
    "        config.DROPOUT_OPTIONS, \n",
    "        config.NUM_HEADS, \n",
    "        replace=False # Tries to pick unique rates\n",
    "    ))\n",
    "    \n",
    "    # Initialize a fresh model with the starting dropout rates\n",
    "    model = EvolutionaryViT(\n",
    "        model_name=config.MODEL_NAME,\n",
    "        num_classes=config.NUM_CLASSES,\n",
    "        dropout_rates=current_dropout_rates # Pass the list of rates\n",
    "    ).to(config.DEVICE)\n",
    "    \n",
    "    # Initialize a fresh optimizer and loss function\n",
    "    optimizer = torch.optim.AdamW(model.parameters(), lr=config.LEARNING_RATE)\n",
    "    criterion = nn.CrossEntropyLoss()\n",
    "    \n",
    "    # --- 2. Training Loop for this LODO run ---\n",
    "    best_val_accuracy = 0.0\n",
    "    best_model_state = None\n",
    "    \n",
    "    for epoch in range(config.NUM_EPOCHS):\n",
    "        print(f\"\\n--- Epoch {epoch+1}/{config.NUM_EPOCHS} ---\")\n",
    "        print(f\"Current Dropout Rates: { {f'head_{i+1}': rate for i, rate in enumerate(current_dropout_rates)} }\")\n",
    "        \n",
    "        # Train for one epoch using the per-batch winner selection\n",
    "        train_metrics = train_one_epoch(model, train_loader, optimizer, criterion, config.DEVICE)\n",
    "        \n",
    "        # Evaluate on the validation set to check progress and save the best model\n",
    "        val_metrics = evaluate(model, val_loader, criterion, config.DEVICE)\n",
    "        \n",
    "        print(f\"Epoch {epoch+1} Summary:\")\n",
    "        print(f\"  Train Avg Winner Loss: {train_metrics['avg_winner_loss']:.4f}\")\n",
    "        print(f\"  Validation Loss: {val_metrics['avg_loss']:.4f}\")\n",
    "        print(f\"  Validation Accuracy: {val_metrics['accuracy']:.4f}\")\n",
    "        \n",
    "        # Check if this is the best model so far based on validation performance\n",
    "        if val_metrics['accuracy'] > best_val_accuracy:\n",
    "            print(f\"  New best validation accuracy! Saving model state.\")\n",
    "            best_val_accuracy = val_metrics['accuracy']\n",
    "            best_model_state = copy.deepcopy(model.state_dict())\n",
    "\n",
    "        # --- Adaptive Dropout Logic for the NEXT epoch ---\n",
    "        # Find the head that had the best OVERALL accuracy during this epoch\n",
    "        epoch_winner_head_name = max(train_metrics['head_accuracies'], key=train_metrics['head_accuracies'].get)\n",
    "        epoch_winner_index = int(epoch_winner_head_name.split('_')[-1]) - 1\n",
    "        \n",
    "        print(f\"  Epoch Training Accuracies:\")\n",
    "        for name, acc in sorted(train_metrics['head_accuracies'].items()):\n",
    "            marker = \"<- WINNER\" if name == epoch_winner_head_name else \"\"\n",
    "            print(f\"    {name}: {acc:.4f} {marker}\")\n",
    "        \n",
    "        # Keep the winner's dropout rate for the next epoch\n",
    "        winner_rate = current_dropout_rates[epoch_winner_index]\n",
    "        \n",
    "        # Generate a new set of random rates for all heads\n",
    "        new_random_rates = list(np.random.choice(config.DROPOUT_OPTIONS, config.NUM_HEADS, replace=False))\n",
    "        \n",
    "        # \"Exploitation\": Overwrite the winner's slot with its successful rate\n",
    "        new_random_rates[epoch_winner_index] = winner_rate\n",
    "        \n",
    "        # \"Exploration\": The other heads get new random rates\n",
    "        current_dropout_rates = new_random_rates\n",
    "        \n",
    "        # Update the model in-place with the new dropout rates\n",
    "        model.update_dropout_rates(current_dropout_rates)\n",
    "            \n",
    "    # --- 3. Final Evaluation for this LODO run ---\n",
    "    print(\"\\nTraining complete for this LODO split.\")\n",
    "    print(\"Loading best model state and evaluating on the TEST set...\")\n",
    "    \n",
    "    # Load the best performing model based on validation accuracy\n",
    "    model.load_state_dict(best_model_state)\n",
    "    \n",
    "    # Evaluate on the unseen target domain (the test set)\n",
    "    test_metrics = evaluate(model, test_loader, criterion, config.DEVICE)\n",
    "    \n",
    "    print(f\"\\n--- RESULTS FOR TARGET DOMAIN: {target_domain.upper()} ---\")\n",
    "    print(f\"  Test Accuracy: {test_metrics['accuracy']:.4f}\")\n",
    "    print(f\"--------------------------------------------------\")\n",
    "    \n",
    "    # --- 4. Store the final results ---\n",
    "    experiment_results.append({\n",
    "        \"target_domain\": target_domain,\n",
    "        \"source_domains\": [d for d in config.DOMAINS if d != target_domain],\n",
    "        \"test_accuracy\": test_metrics['accuracy'],\n",
    "        \"best_val_accuracy\": best_val_accuracy,\n",
    "        \"model_name\": config.MODEL_NAME,\n",
    "        \"num_epochs\": config.NUM_EPOCHS,\n",
    "        \"batch_size\": config.BATCH_SIZE,\n",
    "        \"learning_rate\": config.LEARNING_RATE\n",
    "    })\n",
    "\n",
    "print(\"\\n\\n==============================================================\")\n",
    "print(\"          ALL ADAPTIVE DROPOUT LODO EXPERIMENTS COMPLETE\")\n",
    "print(\"==============================================================\")"
   ]
  },
  {
   "cell_type": "code",
   "execution_count": 22,
   "metadata": {
    "execution": {
     "iopub.execute_input": "2025-10-10T18:52:06.403970Z",
     "iopub.status.busy": "2025-10-10T18:52:06.403200Z",
     "iopub.status.idle": "2025-10-10T18:52:06.625604Z",
     "shell.execute_reply": "2025-10-10T18:52:06.624810Z",
     "shell.execute_reply.started": "2025-10-10T18:52:06.403944Z"
    },
    "trusted": true
   },
   "outputs": [
    {
     "name": "stdout",
     "output_type": "stream",
     "text": [
      "--- Final Experiment Results ---\n",
      "  target_domain  test_accuracy  best_val_accuracy  num_epochs  batch_size  learning_rate                      model_name\n",
      "0    Caltech101       0.894700           0.708535           5         128         0.0001  WinKawaks/vit-tiny-patch16-224\n",
      "1       LabelMe       0.564383           0.764706           5         128         0.0001  WinKawaks/vit-tiny-patch16-224\n",
      "2         SUN09       0.631322           0.742953           5         128         0.0001  WinKawaks/vit-tiny-patch16-224\n",
      "3       VOC2007       0.701126           0.784500           5         128         0.0001  WinKawaks/vit-tiny-patch16-224\n",
      "\n",
      "==================================================\n",
      "Average Test Accuracy Across All Domains: 0.6979\n",
      "==================================================\n"
     ]
    },
    {
     "name": "stderr",
     "output_type": "stream",
     "text": [
      "C:\\Users\\Haseeb\\AppData\\Local\\Temp\\ipykernel_15060\\3504672307.py:40: FutureWarning: \n",
      "\n",
      "Passing `palette` without assigning `hue` is deprecated and will be removed in v0.14.0. Assign the `x` variable to `hue` and set `legend=False` for the same effect.\n",
      "\n",
      "  sns.barplot(\n"
     ]
    },
    {
     "data": {
      "image/png": "[encoded data removed]",
      "text/plain": [
       "<Figure size 1000x600 with 1 Axes>"
      ]
     },
     "metadata": {},
     "output_type": "display_data"
    },
    {
     "name": "stdout",
     "output_type": "stream",
     "text": [
      "\n",
      "======================================================================\n",
      "--- Dictionary for Final Plotting ---\n",
      "# Copy the dictionary below and paste it into your final analysis notebook.\n",
      "my_method_results = {\n",
      "    'target_domain': ['Caltech101', 'LabelMe', 'SUN09', 'VOC2007'],\n",
      "    'test_accuracy': [0.8947, 0.5644, 0.6313, 0.7011]\n",
      "}\n",
      "======================================================================\n"
     ]
    }
   ],
   "source": [
    "# =================================================================================\n",
    "# SECTION 6: ANALYSIS & VISUALIZATION (with Dictionary Output)\n",
    "# =================================================================================\n",
    "# Now that all experiments are complete, we'll process the results\n",
    "# and create visualizations to understand the performance of our method.\n",
    "# ---------------------------------------------------------------------------------\n",
    "\n",
    "# Add this magic command to ensure plots are displayed in the notebook\n",
    "%matplotlib inline\n",
    "import matplotlib.pyplot as plt\n",
    "import seaborn as sns\n",
    "\n",
    "\n",
    "# ---------------------------------------------------------------------------------\n",
    "# 6.1: DISPLAY RESULTS IN A TABLE\n",
    "# ---------------------------------------------------------------------------------\n",
    "print(\"--- Final Experiment Results ---\")\n",
    "\n",
    "results_df = pd.DataFrame(experiment_results)\n",
    "column_order = [\n",
    "    \"target_domain\", \"test_accuracy\", \"best_val_accuracy\", \"num_epochs\",\n",
    "    \"batch_size\", \"learning_rate\", \"model_name\"\n",
    "]\n",
    "existing_columns = [col for col in column_order if col in results_df.columns]\n",
    "results_df = results_df[existing_columns]\n",
    "average_accuracy = results_df['test_accuracy'].mean()\n",
    "\n",
    "print(results_df.to_string())\n",
    "print(\"\\n\" + \"=\"*50)\n",
    "print(f\"Average Test Accuracy Across All Domains: {average_accuracy:.4f}\")\n",
    "print(\"=\"*50)\n",
    "\n",
    "\n",
    "# ---------------------------------------------------------------------------------\n",
    "# 6.2: VISUALIZE THE RESULTS\n",
    "# ---------------------------------------------------------------------------------\n",
    "plt.style.use('seaborn-v0_8-whitegrid')\n",
    "fig, ax = plt.subplots(1, 1, figsize=(10, 6))\n",
    "\n",
    "sns.barplot(\n",
    "    data=results_df, x='target_domain', y='test_accuracy', ax=ax, palette='viridis'\n",
    ")\n",
    "\n",
    "for index, row in results_df.iterrows():\n",
    "    ax.text(index, row['test_accuracy'] + 0.01, f\"{row['test_accuracy']:.2%}\",\n",
    "            color='black', ha=\"center\", fontsize=12)\n",
    "    \n",
    "ax.axhline(average_accuracy, ls='--', color='red', label=f'Average Accuracy ({average_accuracy:.2%})')\n",
    "\n",
    "ax.set_title('Model Performance on Unseen Target Domains (LODO)', fontsize=16, pad=20)\n",
    "ax.set_xlabel('Target (Unseen) Domain', fontsize=12)\n",
    "ax.set_ylabel('Test Accuracy', fontsize=12)\n",
    "ax.set_ylim(0, 1.0)\n",
    "ax.legend()\n",
    "\n",
    "plt.tight_layout()\n",
    "plt.show()\n",
    "\n",
    "# ---------------------------------------------------------------------------------\n",
    "### NEW SECTION ###\n",
    "# 6.3: GENERATE COPY-PASTE DICTIONARY FOR FINAL PLOTTING\n",
    "# ---------------------------------------------------------------------------------\n",
    "print(\"\\n\" + \"=\"*70)\n",
    "print(\"--- Dictionary for Final Plotting ---\")\n",
    "print(\"# Copy the dictionary below and paste it into your final analysis notebook.\")\n",
    "\n",
    "# Determine the variable name based on the notebook (you can adjust this)\n",
    "# For the baseline notebook, you'd want 'baseline_results'.\n",
    "# For the evolutionary notebook, you'd want 'evolutionary_results'.\n",
    "method_name = \"my_method_results\" # Generic name\n",
    "if \"baseline\" in os.getcwd(): # Simple check if 'baseline' is in the notebook path\n",
    "    method_name = \"baseline_results\"\n",
    "elif \"drop-out\" in os.getcwd():\n",
    "    method_name = \"evolutionary_results\"\n",
    "    \n",
    "# Extract the lists from the DataFrame\n",
    "domain_list = results_df['target_domain'].tolist()\n",
    "accuracy_list = [round(acc, 4) for acc in results_df['test_accuracy'].tolist()]\n",
    "\n",
    "# Print in the desired format\n",
    "print(f\"{method_name} = {{\")\n",
    "print(f\"    'target_domain': {domain_list},\")\n",
    "print(f\"    'test_accuracy': {accuracy_list}\")\n",
    "print(f\"}}\")\n",
    "print(\"=\"*70)"
   ]
  },
  {
   "cell_type": "code",
   "execution_count": 23,
   "metadata": {},
   "outputs": [
    {
     "data": {
      "image/png": "[encoded data removed]",
      "text/plain": [
       "<Figure size 1400x800 with 1 Axes>"
      ]
     },
     "metadata": {},
     "output_type": "display_data"
    },
    {
     "name": "stdout",
     "output_type": "stream",
     "text": [
      "\n",
      "--- Average Performance Summary ---\n",
      "Average Baseline Accuracy: 78.97%\n",
      "Average Evolutionary Dropout Accuracy: 77.11%\n"
     ]
    }
   ],
   "source": [
    "# =================================================================================\n",
    "# SECTION 7: COMPARATIVE ANALYSIS & VISUALIZATION (ACADEMIC STYLE - FINAL FIX)\n",
    "# =================================================================================\n",
    "\n",
    "import pandas as pd\n",
    "import matplotlib.pyplot as plt\n",
    "import seaborn as sns\n",
    "\n",
    "# --- 7.1: COMBINE EXPERIMENT RESULTS ---\n",
    "baseline_results = {\n",
    "    'target_domain': ['art_painting', 'cartoon', 'photo', 'sketch'],\n",
    "    'test_accuracy': [0.9625, 0.661, 0.766, 0.7693]\n",
    "}\n",
    "# Using the results from your successful Option 4 run\n",
    "evolutionary_results = {\n",
    "    'target_domain': ['art_painting', 'cartoon', 'photo', 'sketch'],\n",
    "    'test_accuracy': [0.9484, 0.6704, 0.7236, 0.742]\n",
    "}\n",
    "baseline_df = pd.DataFrame(baseline_results)\n",
    "baseline_df['method_name'] = 'Baseline'\n",
    "evolutionary_df = pd.DataFrame(evolutionary_results)\n",
    "evolutionary_df['method_name'] = 'Evolutionary Dropout'\n",
    "combined_df = pd.concat([baseline_df, evolutionary_df])\n",
    "\n",
    "# --- 7.2: CREATE THE GROUPED BAR CHART (ROBUST VERSION) ---\n",
    "\n",
    "sns.set_theme(style=\"whitegrid\")\n",
    "plt.rcParams['font.family'] = 'serif'\n",
    "fig, ax = plt.subplots(figsize=(14, 8))\n",
    "\n",
    "custom_palette = {'Baseline': '#4B6A9A', 'Evolutionary Dropout': '#66C2A5'}\n",
    "\n",
    "barplot = sns.barplot(\n",
    "    data=combined_df,\n",
    "    x='target_domain',\n",
    "    y='test_accuracy',\n",
    "    hue='method_name',\n",
    "    ax=ax,\n",
    "    palette=custom_palette,\n",
    "    edgecolor='black'\n",
    ")\n",
    "\n",
    "### THE FIX IS HERE ###\n",
    "# Use the robust 'containers' method to apply patterns correctly.\n",
    "\n",
    "# ax.containers[0] is the container for the first hue category (Baseline)\n",
    "# ax.containers[1] is the container for the second hue category (Evolutionary Dropout)\n",
    "\n",
    "# We want to add a pattern to the second container's bars.\n",
    "for bar in ax.containers[1]:\n",
    "    bar.set_hatch('..')\n",
    "\n",
    "# We also need to apply the pattern to the corresponding legend handle.\n",
    "# The legend handles are created in the same order.\n",
    "ax.legend_.legend_handles[1].set_hatch('..')\n",
    "\n",
    "# --- Add annotations (text on bars) ---\n",
    "for p in ax.patches:\n",
    "    if p.get_height() > 0:\n",
    "        ax.annotate(\n",
    "            f\"{p.get_height():.2%}\",\n",
    "            (p.get_x() + p.get_width() / 2., p.get_height()),\n",
    "            ha='center', va='center',\n",
    "            xytext=(0, 10),\n",
    "            textcoords='offset points',\n",
    "            fontsize=14,\n",
    "            fontweight='bold',\n",
    "            color='black'\n",
    "        )\n",
    "\n",
    "# --- Final plot styling ---\n",
    "ax.set_title('Model Comparison on Unseen Target Domains (LODO)', fontsize=22, fontweight='bold', pad=20)\n",
    "ax.set_xlabel('Target (Unseen) Domain', fontsize=18, fontweight='bold')\n",
    "ax.set_ylabel('Top-1 Test Accuracy (%)', fontsize=18, fontweight='bold')\n",
    "ax.set_ylim(0, 1.1)\n",
    "ax.tick_params(axis='both', which='major', labelsize=14)\n",
    "ax.get_yaxis().set_major_formatter(plt.FuncFormatter(lambda x, p: f'{x:.0%}'))\n",
    "\n",
    "legend = ax.get_legend()\n",
    "plt.setp(legend.get_title(), fontweight='bold')\n",
    "\n",
    "sns.despine()\n",
    "plt.tight_layout()\n",
    "plt.show()\n",
    "\n",
    "# --- Print the final summary table ---\n",
    "avg_baseline = baseline_df['test_accuracy'].mean()\n",
    "avg_evolutionary = evolutionary_df['test_accuracy'].mean()\n",
    "print(\"\\n--- Average Performance Summary ---\")\n",
    "print(f\"Average Baseline Accuracy: {avg_baseline:.2%}\")\n",
    "print(f\"Average Evolutionary Dropout Accuracy: {avg_evolutionary:.2%}\")"
   ]
  },
  {
   "cell_type": "code",
   "execution_count": 26,
   "metadata": {},
   "outputs": [
    {
     "data": {
      "image/png": "[encoded data removed]",
      "text/plain": [
       "<Figure size 1800x900 with 1 Axes>"
      ]
     },
     "metadata": {},
     "output_type": "display_data"
    },
    {
     "name": "stdout",
     "output_type": "stream",
     "text": [
      "\n",
      "==================================================\n",
      "--- Average Performance Summary ---\n",
      "A: Average Baseline Accuracy: 79.96%\n",
      "B: Average Winner-Take-All Accuracy: 69.79%\n",
      "C: Average Train All Heads Accuracy: 78.67%\n",
      "D: Average Shared Head Accuracy: 78.06%\n",
      "==================================================\n"
     ]
    }
   ],
   "source": [
    "# =================================================================================\n",
    "# SECTION 8: GRAND COMPARATIVE ANALYSIS & VISUALIZATION (FINAL FIXED LEGEND)\n",
    "# =================================================================================\n",
    "\n",
    "import pandas as pd\n",
    "import matplotlib.pyplot as plt\n",
    "import seaborn as sns\n",
    "\n",
    "# --- 8.1: COMBINE ALL EXPERIMENT RESULTS ---\n",
    "baseline_results = {\n",
    "    'target_domain': ['Caltech101', 'LabelMe', 'SUN09', 'VOC2007'],\n",
    "    'test_accuracy': [0.9795, 0.677, 0.7693, 0.7725]\n",
    "}\n",
    "wta_dropout_results = {\n",
    "    'target_domain': ['Caltech101', 'LabelMe', 'SUN09', 'VOC2007'],\n",
    "    'test_accuracy': [0.8947, 0.5644, 0.6313, 0.7011]\n",
    "}\n",
    "train_all_results = {\n",
    "    'target_domain': ['Caltech101', 'LabelMe', 'SUN09', 'VOC2007'],\n",
    "    'test_accuracy': [0.9675, 0.6634, 0.7639, 0.7518]\n",
    "}\n",
    "shared_head_results = {\n",
    "    'target_domain': ['Caltech101', 'LabelMe', 'SUN09', 'VOC2007'],\n",
    "    'test_accuracy': [0.9413, 0.6604, 0.777, 0.7435]\n",
    "}\n",
    "\n",
    "baseline_df = pd.DataFrame(baseline_results); baseline_df['Method'] = 'A: Baseline'\n",
    "wta_df = pd.DataFrame(wta_dropout_results); wta_df['Method'] = 'B: Winner-Take-All'\n",
    "train_all_df = pd.DataFrame(train_all_results); train_all_df['Method'] = 'C: Train All Heads'\n",
    "shared_head_df = pd.DataFrame(shared_head_results); shared_head_df['Method'] = 'D: Shared Head'\n",
    "combined_df = pd.concat([baseline_df, wta_df, train_all_df, shared_head_df])\n",
    "\n",
    "# --- 8.2: CREATE THE GRAND GROUPED BAR CHART ---\n",
    "sns.set_theme(style=\"whitegrid\")\n",
    "plt.rcParams['font.family'] = 'serif'\n",
    "fig, ax = plt.subplots(figsize=(18, 9))\n",
    "\n",
    "custom_palette = {\n",
    "    'A: Baseline': '#4B6A9A',\n",
    "    'B: Winner-Take-All': '#DB845B',\n",
    "    'C: Train All Heads': '#92B56F',\n",
    "    'D: Shared Head': '#66C2A5'\n",
    "}\n",
    "\n",
    "barplot = sns.barplot(\n",
    "    data=combined_df, x='target_domain', y='test_accuracy', hue='Method',\n",
    "    ax=ax, palette=custom_palette, edgecolor='black'\n",
    ")\n",
    "\n",
    "# Apply hatching patterns\n",
    "patterns = ['', '..', '//', 'xx']\n",
    "for i, container in enumerate(ax.containers):\n",
    "    for bar in container:\n",
    "        bar.set_hatch(patterns[i])\n",
    "\n",
    "# Add annotations on bars\n",
    "for p in ax.patches:\n",
    "    if p.get_height() > 0:\n",
    "        ax.annotate(f\"{p.get_height():.2%}\",\n",
    "                    (p.get_x() + p.get_width() / 2., p.get_height()),\n",
    "                    ha='center', va='center', xytext=(0, 9),\n",
    "                    textcoords='offset points',\n",
    "                    fontsize=12, fontweight='bold', color='black')\n",
    "\n",
    "# --- Fix legend properly ---\n",
    "handles, labels = ax.get_legend_handles_labels()\n",
    "legend = ax.legend(handles, labels,\n",
    "                   title='Method',\n",
    "                   loc='upper center',\n",
    "                   bbox_to_anchor=(0.5, 1),\n",
    "                   ncol=4,\n",
    "                   frameon=False,\n",
    "                   fontsize=14,\n",
    "                   title_fontsize=16)\n",
    "\n",
    "# Apply hatching to legend handles\n",
    "for i, handle in enumerate(legend.legend_handles):\n",
    "    handle.set_hatch(patterns[i])\n",
    "\n",
    "plt.setp(legend.get_title(), fontweight='bold')\n",
    "\n",
    "# --- Final styling ---\n",
    "ax.set_title('Comparison of All Methods on Unseen Target Domains (LODO)',\n",
    "             fontsize=24, fontweight='bold', pad=20)\n",
    "ax.set_xlabel('Target (Unseen) Domain', fontsize=18, fontweight='bold', labelpad=15)\n",
    "ax.set_ylabel('Top-1 Test Accuracy (%)', fontsize=18, fontweight='bold', labelpad=15)\n",
    "ax.set_ylim(0, 1.15)\n",
    "ax.tick_params(axis='both', which='major', labelsize=14)\n",
    "ax.get_yaxis().set_major_formatter(plt.FuncFormatter(lambda x, p: f'{x:.0%}'))\n",
    "\n",
    "sns.despine()\n",
    "plt.tight_layout(rect=[0, 0.05, 1, 1])\n",
    "plt.show()\n",
    "\n",
    "# --- Summary table ---\n",
    "print(\"\\n\" + \"=\"*50)\n",
    "print(\"--- Average Performance Summary ---\")\n",
    "print(f\"A: Average Baseline Accuracy: {baseline_df['test_accuracy'].mean():.2%}\")\n",
    "print(f\"B: Average Winner-Take-All Accuracy: {wta_df['test_accuracy'].mean():.2%}\")\n",
    "print(f\"C: Average Train All Heads Accuracy: {train_all_df['test_accuracy'].mean():.2%}\")\n",
    "print(f\"D: Average Shared Head Accuracy: {shared_head_df['test_accuracy'].mean():.2%}\")\n",
    "print(\"=\"*50)\n"
   ]
  }
 ],
 "metadata": {
  "kaggle": {
   "accelerator": "nvidiaTeslaT4",
   "dataSources": [
    {
     "datasetId": 8446344,
     "sourceId": 13323122,
     "sourceType": "datasetVersion"
    }
   ],
   "dockerImageVersionId": 31154,
   "isGpuEnabled": true,
   "isInternetEnabled": true,
   "language": "python",
   "sourceType": "notebook"
  },
  "kernelspec": {
   "display_name": "Python 3",
   "language": "python",
   "name": "python3"
  },
  "language_info": {
   "codemirror_mode": {
    "name": "ipython",
    "version": 3
   },
   "file_extension": ".py",
   "mimetype": "text/x-python",
   "name": "python",
   "nbconvert_exporter": "python",
   "pygments_lexer": "ipython3",
   "version": "3.12.0"
  }
 },
 "nbformat": 4,
 "nbformat_minor": 4
}
